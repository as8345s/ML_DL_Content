{
 "cells": [
  {
   "cell_type": "markdown",
   "id": "285eb0ef-bfef-45c2-9a78-6c1f9a30f5b6",
   "metadata": {},
   "source": [
    "<h1>Feature Engineering</h1>"
   ]
  },
  {
   "cell_type": "markdown",
   "id": "9dcabb79-6a1a-4a57-8675-c5a0fc409230",
   "metadata": {},
   "source": [
    "Feature Engineering ist ein wichtiger Bestandteil, wenn es um Data Science und Machine Learning geht.\n",
    "\n",
    "Dataset die man analysieren oder für das Training nutzen will, kommen nicht direkt sauber und bereinigt von einer Quelle wie z. B. Kaggle.com oder andere Quellen für Daten und Datasets."
   ]
  },
  {
   "cell_type": "markdown",
   "id": "7caafee4-a6ea-463a-8c48-ddecc1be0f87",
   "metadata": {},
   "source": [
    "<i>Abb1</i>: Grobe Übersicht Feature Engineering.\n",
    "\n",
    "<img src=\"./files_data/img/ml_ft_1.PNG\" width=500 hight=500>"
   ]
  },
  {
   "cell_type": "markdown",
   "id": "6e7dce47-6bfb-4310-a674-61e2ba5f380b",
   "metadata": {},
   "source": [
    "<i>Abb2</i>: Very messy Data.\n",
    "\n",
    "<img src=\"./files_data/img/ml_ft_2.PNG\" width=350 hight=250>"
   ]
  },
  {
   "cell_type": "markdown",
   "id": "8d89e18f-ed52-4778-b4ae-5c43bb56cc59",
   "metadata": {},
   "source": [
    "In der Abbildung 1 werden die Daten aus einer Quelle entnommen, für Statistiken, Analysen und um Modelle zu trainieren.\n",
    "\n",
    "Die rohen Daten können viele Features enthalten, die nicht alle benötigt werden. Im Big Data Bereich kann die Ladezeit von Daten hoch sein, und es macht einen Unterschied, wie viele Features und wie Zeilen geladen werden sollen. Bei einem hohen Datenaufkommen kann das Sortieren und Manipulieren von Daten in Anspruch nehmen, wenn diese im Terabyte Bereich liegen.\n",
    "\n",
    "Nach der Auswahl der Daten geht es dann darum, ob diese Fehler oder andere Margel haben, was das Visualisieren und das Trainieren von Modellen erschwert oder unöglich macht.\n",
    "\n",
    "Mit Feature Engineering wird das Problem angegangen- <br>\n",
    "- Analysiere Daten auf Defekte => Fehlen Daten? (NaN., Null, kein Eintrag, Int statt String, ...)\n",
    "- Wie könnten leere Felder oder Defekte behoben werden => Löschen, ersetzen, ...\n",
    "- Gibt es Outlier?\n",
    "- Muss ein Cast von Werten durchgeführt werden? => Int zu String, On Hot Encode, ...\n",
    "- Sind alle Features relevant?\n",
    "- Können die Daten visualisiert werden, um ein besseres Bild von der Lage zu bekommen?\n",
    "- Was wenn Featurenamen fehlen?\n",
    "- Was gibt es für Statistiken über diese Daten? => Durschnitt, Max, Min, ...\n",
    "- ..."
   ]
  },
  {
   "cell_type": "markdown",
   "id": "6b37261b-6c38-41dc-a79f-cc57cc3e624f",
   "metadata": {},
   "source": [
    "Was auch ein sehr wichtiger Faktor ist: <u>Domain Knowledge</u> <br>\n",
    "Es geht darum, Personen mit einzubeziehen, die die Datengrundlage verstehen und wissen, welche Werte eigentlich nicht auftreten können. Diese Personengruppe hilf dabei, Daten herauszufiltern, die vielleicht auf den ersten Blick nicht falsch aussehen."
   ]
  },
  {
   "cell_type": "markdown",
   "id": "589db890-8b50-4cd1-9006-241a9735bfdc",
   "metadata": {},
   "source": [
    "Zusammengefasst, bedeutet Feature Engineering das Aufbereiten von Daten mit Hilfsmitteln wie Statistiken, Analysen, mathematische Formeln wie Varianz oder einfacher Durchschnitt und anderen. Am Ende wollen wir eine saubere Datengrundlage haben, um Modelle zu trainieren oder um Daten zu visualisieren, mit  den Features die am Ende rauskommen."
   ]
  },
  {
   "cell_type": "code",
   "execution_count": 2,
   "id": "e233d3d4-abd1-4bb6-8fb3-d450d538dab3",
   "metadata": {},
   "outputs": [],
   "source": [
    "# Imports\n",
    "import matplotlib.pyplot as plt\n",
    "\n",
    "import seaborn as sn\n",
    "import numpy   as np\n",
    "import pandas  as pd\n",
    "\n",
    "from  scipy.stats import norm\n"
   ]
  },
  {
   "cell_type": "markdown",
   "id": "b48b0733-dfbc-480b-bfe0-f133fd3f133b",
   "metadata": {},
   "source": [
    "<h2>Outlier</h2>"
   ]
  },
  {
   "cell_type": "markdown",
   "id": "93400b63-7553-48ad-baa8-11fd5f23d337",
   "metadata": {},
   "source": [
    "Outlier sind Daten, die sich von anderen Datenpunkten unterscheiden. Nehmen wir z. B. das Alter von einer Personengruppe mit 100 Menschen. Das Alter beträgt 16 bis 65, ein Outlier wäre ein Datenpunkt, der das 90 hätte. \n",
    "\n",
    "Ein Alter von 500 wäre ebenfalls ein deutlich sichtbarer Outlier. Einige der Datenpunkte die solche Eigenschaften aufweisen, können echt oder fehlerhaft sein. \n",
    "- Durch unser <u>Domain Knowledge</u> wissen wir, das eine Person keine 500 Jahre alt sein kann. <br>\n",
    "=> Fehler\n",
    "\n",
    "Andere Outlier können durch die Natur des Datasets normal sein (z. B. Alter von 90). Diese Outlier können nach Bedarf auch herausgefiltert werden."
   ]
  },
  {
   "cell_type": "markdown",
   "id": "5cfb9fcf-b178-4174-9340-bbaa22aa3cbc",
   "metadata": {},
   "source": [
    "Outlier können die Auswertungen von statistischen Analysen beeinträchtigen, wie den Durschschnitt. "
   ]
  },
  {
   "cell_type": "code",
   "execution_count": 3,
   "id": "b938bcfe-e45a-4924-a31f-3f606f36edf6",
   "metadata": {},
   "outputs": [
    {
     "data": {
      "text/plain": [
       "2.142857142857143"
      ]
     },
     "execution_count": 3,
     "metadata": {},
     "output_type": "execute_result"
    }
   ],
   "source": [
    "np.average([1,2,3,3,3,2,1])  # Ohne Outlier."
   ]
  },
  {
   "cell_type": "code",
   "execution_count": 4,
   "id": "16cc8702-113c-4104-8261-374f92b57e14",
   "metadata": {},
   "outputs": [
    {
     "data": {
      "text/plain": [
       "3.7142857142857144"
      ]
     },
     "execution_count": 4,
     "metadata": {},
     "output_type": "execute_result"
    }
   ],
   "source": [
    "np.average([1,2,10,3,3,6,1])  # Mit Outlier."
   ]
  },
  {
   "cell_type": "markdown",
   "id": "8a6a5c3a-1f61-4401-9ba3-0b8f42d713d2",
   "metadata": {},
   "source": [
    "In den unteren Zellen erstellen wir ein Dataset mit Outlier."
   ]
  },
  {
   "cell_type": "code",
   "execution_count": 5,
   "id": "71e79ecb-4d35-4993-86af-5d2c633e7046",
   "metadata": {},
   "outputs": [
    {
     "data": {
      "text/plain": [
       "array([6, 3, 2, 4, 5, 9, 0, 2, 9, 2, 9, 5, 7, 3, 7, 1, 9, 4, 7, 4, 6, 9,\n",
       "       9, 4, 3, 2, 6, 4, 3, 6, 7, 0, 3, 1, 0, 9, 4, 3, 0, 5, 2, 6, 7, 5,\n",
       "       5, 0, 4, 9, 6, 2, 7, 3, 0, 4, 3, 9, 9, 8, 9, 2, 4, 9, 0, 0, 4, 1,\n",
       "       6, 6, 9, 2, 7, 5, 8, 6, 1, 1, 8, 7, 2, 2, 4, 9, 9, 3, 3, 9, 7, 4,\n",
       "       9, 9, 9, 2, 1, 9, 5, 0, 1, 2, 9, 2, 4, 4, 8, 8, 0, 6, 6, 5, 6, 4,\n",
       "       3, 2, 3, 8, 3, 6, 3, 4, 2, 8, 4, 1, 4, 1, 4, 2, 8, 7, 3, 7, 8, 7,\n",
       "       1, 4, 3, 2, 3, 6, 6, 7, 8, 8, 9, 0, 1, 5, 6, 8, 2, 2, 7, 6, 6, 2,\n",
       "       5, 6, 2, 6, 4, 3, 9, 8, 9, 1, 6, 2, 7, 6, 6, 7, 9, 0, 7, 6, 5, 8,\n",
       "       7, 0, 5, 4, 7, 7, 7, 3, 8, 7, 7, 9, 6, 0, 4, 4, 3, 4, 9, 3, 9, 0,\n",
       "       8, 7, 6, 0, 7, 5, 8, 2, 8, 6, 1, 2, 8, 7, 5, 5, 7, 8, 3, 6, 1, 8,\n",
       "       3, 5, 7, 8, 8, 0, 8, 7, 1, 3, 2, 3, 3, 5, 9, 1, 2, 3, 3, 7, 6, 8,\n",
       "       8, 2, 5, 7, 3, 0, 1, 0, 1, 3, 4, 6, 6, 4, 6, 4, 7, 5, 1, 5, 1, 3,\n",
       "       9, 1, 0, 4, 5, 6, 3, 1, 6, 7, 8, 6, 8, 4, 3, 8, 2, 9, 9, 2, 5, 2,\n",
       "       7, 0, 5, 8, 6, 8, 6, 3, 4, 5, 2, 3, 2, 4, 7, 6, 4, 7, 7, 5, 3, 7,\n",
       "       7, 8, 2, 4, 7, 2, 6, 5, 3, 6, 9, 9, 4, 1, 3, 0, 1, 9, 6, 0, 8, 8,\n",
       "       5, 3, 7, 0, 4, 2, 3, 1, 9, 1, 8, 0, 2, 2, 1, 0, 7, 2, 3, 1, 7, 1,\n",
       "       8, 3, 1, 2, 0, 0, 8, 0, 0, 3, 4, 0, 4, 9, 4, 1, 1, 1, 5, 3, 2, 9,\n",
       "       3, 1, 8, 5, 0, 6, 0, 8, 8, 2, 9, 8, 8, 1, 0, 7, 3, 9, 8, 4, 0, 6,\n",
       "       5, 5, 7, 7])"
      ]
     },
     "execution_count": 5,
     "metadata": {},
     "output_type": "execute_result"
    }
   ],
   "source": [
    "# Dataset Zahlen zwischen 0 und 9\n",
    "dataset = np.array( np.random.randint(10, size=400) )\n",
    "dataset"
   ]
  },
  {
   "cell_type": "code",
   "execution_count": 6,
   "id": "89468e48-b959-46c9-bca7-36707a3e2dec",
   "metadata": {},
   "outputs": [
    {
     "data": {
      "text/plain": [
       "array([ 6,  3,  2,  4,  5,  9,  0,  2,  9,  2,  9,  5,  7,  3,  7,  1,  9,\n",
       "        4,  7,  4,  6,  9,  9,  4,  3,  2,  6,  4,  3,  6,  7,  0,  3,  1,\n",
       "        0,  9,  4,  3,  0,  5,  2,  6,  7,  5,  5,  0,  4,  9,  6,  2,  7,\n",
       "        3,  0,  4,  3,  9,  9,  8,  9,  2,  4,  9,  0,  0,  4,  1,  6,  6,\n",
       "        9,  2,  7,  5,  8,  6,  1,  1,  8,  7,  2,  2,  4,  9,  9,  3,  3,\n",
       "        9,  7,  4,  9,  9,  9,  2,  1,  9,  5,  0,  1,  2,  9,  2,  4,  4,\n",
       "        8,  8,  0,  6,  6,  5,  6,  4,  3,  2,  3,  8,  3,  6,  3,  4,  2,\n",
       "        8,  4,  1,  4,  1,  4,  2,  8,  7,  3,  7,  8,  7,  1,  4,  3,  2,\n",
       "        3,  6,  6,  7,  8,  8,  9,  0,  1,  5,  6,  8,  2,  2,  7,  6,  6,\n",
       "        2,  5,  6,  2,  6,  4,  3,  9,  8,  9,  1,  6,  2,  7,  6,  6,  7,\n",
       "        9,  0,  7,  6,  5,  8,  7,  0,  5,  4,  7,  7,  7,  3,  8,  7,  7,\n",
       "        9,  6,  0,  4,  4,  3,  4,  9,  3,  9,  0,  8,  7,  6,  0,  7,  5,\n",
       "        8,  2,  8,  6,  1,  2,  8,  7,  5,  5,  7,  8,  3,  6,  1,  8,  3,\n",
       "        5,  7,  8,  8,  0,  8,  7,  1,  3,  2,  3,  3,  5,  9,  1,  2,  3,\n",
       "        3,  7,  6,  8,  8,  2,  5,  7,  3,  0,  1,  0,  1,  3,  4,  6,  6,\n",
       "        4,  6,  4,  7,  5,  1,  5,  1,  3,  9,  1,  0,  4,  5,  6,  3,  1,\n",
       "        6,  7,  8,  6,  8,  4,  3,  8,  2,  9,  9,  2,  5,  2,  7,  0,  5,\n",
       "        8,  6,  8,  6,  3,  4,  5,  2,  3,  2,  4,  7,  6,  4,  7,  7,  5,\n",
       "        3,  7,  7,  8,  2,  4,  7,  2,  6,  5,  3,  6,  9,  9,  4,  1,  3,\n",
       "        0,  1,  9,  6,  0,  8,  8,  5,  3,  7,  0,  4,  2,  3,  1,  9,  1,\n",
       "        8,  0,  2,  2,  1,  0,  7,  2,  3,  1,  7,  1,  8,  3,  1,  2,  0,\n",
       "        0,  8,  0,  0,  3,  4,  0,  4,  9,  4,  1,  1,  1,  5,  3,  2,  9,\n",
       "        3,  1,  8,  5,  0,  6,  0,  8,  8,  2,  9,  8,  8,  1,  0,  7,  3,\n",
       "        9,  8,  4,  0,  6,  5,  5,  7,  7, 12,  8, 11,  8,  9, 12,  8,  9,\n",
       "       12,  8,  8,  8, 12, 12, 10, 13, 11, 10, 12, 12,  8, 14, 14, 11,  9,\n",
       "        8,  8, 12, 14,  9, 12, 10, 10,  9, 13,  9, 10, 13, 14,  8, 14,  8,\n",
       "        8, 13, 11,  8, 11, 12, 11, 12, 12, 10, 12, 14, 12,  8,  9, 10, 12,\n",
       "        8,  8, 10, 14, 14, 12, 12, 13, 13,  9, 11, 10,  9,  8, 14, 14, 11,\n",
       "        9, 11, 13, 10,  9, 11, 10, 10, 10,  8, 11,  8, 10,  8, 14, 12,  8,\n",
       "        9, 12,  9,  8, 13, 14, 14])"
      ]
     },
     "execution_count": 6,
     "metadata": {},
     "output_type": "execute_result"
    }
   ],
   "source": [
    "outlier_ds = np.append(dataset, np.random.randint(low=8, high=15, size=100)  ) \n",
    "outlier_ds"
   ]
  },
  {
   "cell_type": "code",
   "execution_count": 7,
   "id": "62e4cbeb-04ed-4937-a7c5-ef3fd2e0cf95",
   "metadata": {},
   "outputs": [
    {
     "data": {
      "text/plain": [
       "array([ 6,  3,  2,  4,  5,  9,  0,  2,  9,  2,  9,  5,  7,  3,  7,  1,  9,\n",
       "        4,  7,  4,  6,  9,  9,  4,  3,  2,  6,  4,  3,  6,  7,  0,  3,  1,\n",
       "        0,  9,  4,  3,  0,  5,  2,  6,  7,  5,  5,  0,  4,  9,  6,  2,  7,\n",
       "        3,  0,  4,  3,  9,  9,  8,  9,  2,  4,  9,  0,  0,  4,  1,  6,  6,\n",
       "        9,  2,  7,  5,  8,  6,  1,  1,  8,  7,  2,  2,  4,  9,  9,  3,  3,\n",
       "        9,  7,  4,  9,  9,  9,  2,  1,  9,  5,  0,  1,  2,  9,  2,  4,  4,\n",
       "        8,  8,  0,  6,  6,  5,  6,  4,  3,  2,  3,  8,  3,  6,  3,  4,  2,\n",
       "        8,  4,  1,  4,  1,  4,  2,  8,  7,  3,  7,  8,  7,  1,  4,  3,  2,\n",
       "        3,  6,  6,  7,  8,  8,  9,  0,  1,  5,  6,  8,  2,  2,  7,  6,  6,\n",
       "        2,  5,  6,  2,  6,  4,  3,  9,  8,  9,  1,  6,  2,  7,  6,  6,  7,\n",
       "        9,  0,  7,  6,  5,  8,  7,  0,  5,  4,  7,  7,  7,  3,  8,  7,  7,\n",
       "        9,  6,  0,  4,  4,  3,  4,  9,  3,  9,  0,  8,  7,  6,  0,  7,  5,\n",
       "        8,  2,  8,  6,  1,  2,  8,  7,  5,  5,  7,  8,  3,  6,  1,  8,  3,\n",
       "        5,  7,  8,  8,  0,  8,  7,  1,  3,  2,  3,  3,  5,  9,  1,  2,  3,\n",
       "        3,  7,  6,  8,  8,  2,  5,  7,  3,  0,  1,  0,  1,  3,  4,  6,  6,\n",
       "        4,  6,  4,  7,  5,  1,  5,  1,  3,  9,  1,  0,  4,  5,  6,  3,  1,\n",
       "        6,  7,  8,  6,  8,  4,  3,  8,  2,  9,  9,  2,  5,  2,  7,  0,  5,\n",
       "        8,  6,  8,  6,  3,  4,  5,  2,  3,  2,  4,  7,  6,  4,  7,  7,  5,\n",
       "        3,  7,  7,  8,  2,  4,  7,  2,  6,  5,  3,  6,  9,  9,  4,  1,  3,\n",
       "        0,  1,  9,  6,  0,  8,  8,  5,  3,  7,  0,  4,  2,  3,  1,  9,  1,\n",
       "        8,  0,  2,  2,  1,  0,  7,  2,  3,  1,  7,  1,  8,  3,  1,  2,  0,\n",
       "        0,  8,  0,  0,  3,  4,  0,  4,  9,  4,  1,  1,  1,  5,  3,  2,  9,\n",
       "        3,  1,  8,  5,  0,  6,  0,  8,  8,  2,  9,  8,  8,  1,  0,  7,  3,\n",
       "        9,  8,  4,  0,  6,  5,  5,  7,  7, 20, 23, 17, 17, 21, 21, 14, 16,\n",
       "       14, 17])"
      ]
     },
     "execution_count": 7,
     "metadata": {},
     "output_type": "execute_result"
    }
   ],
   "source": [
    "outlier_ds = np.append(dataset, np.random.randint(low=13, high=25, size=10)  ) \n",
    "outlier_ds"
   ]
  },
  {
   "cell_type": "code",
   "execution_count": 8,
   "id": "6e573c98-d707-4837-b15b-2f47c31a31d8",
   "metadata": {},
   "outputs": [
    {
     "data": {
      "text/plain": [
       "<Axes: >"
      ]
     },
     "execution_count": 8,
     "metadata": {},
     "output_type": "execute_result"
    },
    {
     "data": {
      "image/png": "[encoded data removed]",
      "text/plain": [
       "<Figure size 640x480 with 1 Axes>"
      ]
     },
     "metadata": {},
     "output_type": "display_data"
    }
   ],
   "source": [
    "# Einfacher Plot mit Seaborn.\n",
    "sn.boxplot(x=outlier_ds)"
   ]
  },
  {
   "cell_type": "markdown",
   "id": "08358d7a-5133-4e42-ad82-f4ae26b6c30b",
   "metadata": {},
   "source": [
    "<i>Abb3</i>: Beschriftung eines Boxplots von Seaborn.\n",
    "\n",
    "<img src=\"./files_data/img/ml_ft_3.PNG\" width=550 hight=550>"
   ]
  },
  {
   "cell_type": "markdown",
   "id": "2bf9e6ba-46f1-467e-949e-ee29f9cbdd57",
   "metadata": {},
   "source": [
    "Quantile: 4 Teile <br>\n",
    "Teilt Daten in gleich große Teile auf (25%, Median, 75%, ...).\n",
    "\n",
    "25%: 1/4 Der Daten ist kleiner als die anderen 3/4. <br> \n",
    "Median Stellt 50% der Daten dar.<br>\n",
    "75%: 3/4 der Daten sind 75% aller Daten mit Größe n oder kleiner.\n",
    "\n",
    "\n",
    "Entfernt man alle Outlier, stellen die Whiskers die Min- und Maxwerte dar."
   ]
  },
  {
   "cell_type": "markdown",
   "id": "866166d2-7a56-42ba-8cbc-50dd6ca1b55c",
   "metadata": {},
   "source": [
    "Pandas unterstützt diese Funktionalität auch. "
   ]
  },
  {
   "cell_type": "code",
   "execution_count": 9,
   "id": "8ada225c-d7c6-4d8e-b66f-3363b14e7ebf",
   "metadata": {},
   "outputs": [
    {
     "data": {
      "text/html": [
       "<div>\n",
       "<style scoped>\n",
       "    .dataframe tbody tr th:only-of-type {\n",
       "        vertical-align: middle;\n",
       "    }\n",
       "\n",
       "    .dataframe tbody tr th {\n",
       "        vertical-align: top;\n",
       "    }\n",
       "\n",
       "    .dataframe thead th {\n",
       "        text-align: right;\n",
       "    }\n",
       "</style>\n",
       "<table border=\"1\" class=\"dataframe\">\n",
       "  <thead>\n",
       "    <tr style=\"text-align: right;\">\n",
       "      <th></th>\n",
       "      <th>A</th>\n",
       "    </tr>\n",
       "  </thead>\n",
       "  <tbody>\n",
       "    <tr>\n",
       "      <th>0</th>\n",
       "      <td>6</td>\n",
       "    </tr>\n",
       "    <tr>\n",
       "      <th>1</th>\n",
       "      <td>3</td>\n",
       "    </tr>\n",
       "  </tbody>\n",
       "</table>\n",
       "</div>"
      ],
      "text/plain": [
       "   A\n",
       "0  6\n",
       "1  3"
      ]
     },
     "execution_count": 9,
     "metadata": {},
     "output_type": "execute_result"
    }
   ],
   "source": [
    "outlier_df = pd.DataFrame(outlier_ds, columns=['A'])\n",
    "outlier_df.head(2)"
   ]
  },
  {
   "cell_type": "code",
   "execution_count": 10,
   "id": "826ff0fa-31a6-4569-9544-147a7ea993c7",
   "metadata": {},
   "outputs": [
    {
     "data": {
      "text/plain": [
       "0.25    2.0\n",
       "0.50    5.0\n",
       "0.75    7.0\n",
       "Name: A, dtype: float64"
      ]
     },
     "execution_count": 10,
     "metadata": {},
     "output_type": "execute_result"
    }
   ],
   "source": [
    "outlier_df['A'].quantile( [0.25, 0.5, 0.75] )\n",
    "# 25%: Alle Werte sind 2.0 oder kleiner.\n",
    "# 75%: Alle Werte sind 7.0 oder kleiner. "
   ]
  },
  {
   "cell_type": "code",
   "execution_count": 11,
   "id": "e060b7ab-75a1-44b6-bf88-ed03d8f16fd9",
   "metadata": {},
   "outputs": [
    {
     "data": {
      "text/plain": [
       "9.0"
      ]
     },
     "execution_count": 11,
     "metadata": {},
     "output_type": "execute_result"
    }
   ],
   "source": [
    "outlier_df['A'].quantile( 0.95 )"
   ]
  },
  {
   "cell_type": "code",
   "execution_count": 12,
   "id": "19e995c3-66b8-4c56-a6c1-5c073f9228de",
   "metadata": {},
   "outputs": [
    {
     "data": {
      "text/plain": [
       "9.0"
      ]
     },
     "execution_count": 12,
     "metadata": {},
     "output_type": "execute_result"
    }
   ],
   "source": [
    "threshold = outlier_df['A'].quantile( 0.95 )\n",
    "threshold"
   ]
  },
  {
   "cell_type": "code",
   "execution_count": 13,
   "id": "742dc199-be58-4805-8ab7-a379676c5f7c",
   "metadata": {},
   "outputs": [
    {
     "data": {
      "text/html": [
       "<div>\n",
       "<style scoped>\n",
       "    .dataframe tbody tr th:only-of-type {\n",
       "        vertical-align: middle;\n",
       "    }\n",
       "\n",
       "    .dataframe tbody tr th {\n",
       "        vertical-align: top;\n",
       "    }\n",
       "\n",
       "    .dataframe thead th {\n",
       "        text-align: right;\n",
       "    }\n",
       "</style>\n",
       "<table border=\"1\" class=\"dataframe\">\n",
       "  <thead>\n",
       "    <tr style=\"text-align: right;\">\n",
       "      <th></th>\n",
       "      <th>A</th>\n",
       "    </tr>\n",
       "  </thead>\n",
       "  <tbody>\n",
       "    <tr>\n",
       "      <th>400</th>\n",
       "      <td>20</td>\n",
       "    </tr>\n",
       "    <tr>\n",
       "      <th>401</th>\n",
       "      <td>23</td>\n",
       "    </tr>\n",
       "    <tr>\n",
       "      <th>402</th>\n",
       "      <td>17</td>\n",
       "    </tr>\n",
       "    <tr>\n",
       "      <th>403</th>\n",
       "      <td>17</td>\n",
       "    </tr>\n",
       "    <tr>\n",
       "      <th>404</th>\n",
       "      <td>21</td>\n",
       "    </tr>\n",
       "    <tr>\n",
       "      <th>405</th>\n",
       "      <td>21</td>\n",
       "    </tr>\n",
       "    <tr>\n",
       "      <th>406</th>\n",
       "      <td>14</td>\n",
       "    </tr>\n",
       "    <tr>\n",
       "      <th>407</th>\n",
       "      <td>16</td>\n",
       "    </tr>\n",
       "    <tr>\n",
       "      <th>408</th>\n",
       "      <td>14</td>\n",
       "    </tr>\n",
       "    <tr>\n",
       "      <th>409</th>\n",
       "      <td>17</td>\n",
       "    </tr>\n",
       "  </tbody>\n",
       "</table>\n",
       "</div>"
      ],
      "text/plain": [
       "      A\n",
       "400  20\n",
       "401  23\n",
       "402  17\n",
       "403  17\n",
       "404  21\n",
       "405  21\n",
       "406  14\n",
       "407  16\n",
       "408  14\n",
       "409  17"
      ]
     },
     "execution_count": 13,
     "metadata": {},
     "output_type": "execute_result"
    }
   ],
   "source": [
    "# Diese Einträge könnte man herausfiltern.\n",
    "outlier_df[outlier_df['A']>threshold]"
   ]
  },
  {
   "cell_type": "markdown",
   "id": "63296678-ef53-445d-984b-b2a53cccbd7c",
   "metadata": {},
   "source": [
    "Wir fügen dem Dataset einige negative Werte hinzu."
   ]
  },
  {
   "cell_type": "code",
   "execution_count": 14,
   "id": "0644fc26-38c2-42d4-b255-d44bab6be0bd",
   "metadata": {},
   "outputs": [
    {
     "data": {
      "text/plain": [
       "array([  6,   3,   2,   4,   5,   9,   0,   2,   9,   2,   9,   5,   7,\n",
       "         3,   7,   1,   9,   4,   7,   4,   6,   9,   9,   4,   3,   2,\n",
       "         6,   4,   3,   6,   7,   0,   3,   1,   0,   9,   4,   3,   0,\n",
       "         5,   2,   6,   7,   5,   5,   0,   4,   9,   6,   2,   7,   3,\n",
       "         0,   4,   3,   9,   9,   8,   9,   2,   4,   9,   0,   0,   4,\n",
       "         1,   6,   6,   9,   2,   7,   5,   8,   6,   1,   1,   8,   7,\n",
       "         2,   2,   4,   9,   9,   3,   3,   9,   7,   4,   9,   9,   9,\n",
       "         2,   1,   9,   5,   0,   1,   2,   9,   2,   4,   4,   8,   8,\n",
       "         0,   6,   6,   5,   6,   4,   3,   2,   3,   8,   3,   6,   3,\n",
       "         4,   2,   8,   4,   1,   4,   1,   4,   2,   8,   7,   3,   7,\n",
       "         8,   7,   1,   4,   3,   2,   3,   6,   6,   7,   8,   8,   9,\n",
       "         0,   1,   5,   6,   8,   2,   2,   7,   6,   6,   2,   5,   6,\n",
       "         2,   6,   4,   3,   9,   8,   9,   1,   6,   2,   7,   6,   6,\n",
       "         7,   9,   0,   7,   6,   5,   8,   7,   0,   5,   4,   7,   7,\n",
       "         7,   3,   8,   7,   7,   9,   6,   0,   4,   4,   3,   4,   9,\n",
       "         3,   9,   0,   8,   7,   6,   0,   7,   5,   8,   2,   8,   6,\n",
       "         1,   2,   8,   7,   5,   5,   7,   8,   3,   6,   1,   8,   3,\n",
       "         5,   7,   8,   8,   0,   8,   7,   1,   3,   2,   3,   3,   5,\n",
       "         9,   1,   2,   3,   3,   7,   6,   8,   8,   2,   5,   7,   3,\n",
       "         0,   1,   0,   1,   3,   4,   6,   6,   4,   6,   4,   7,   5,\n",
       "         1,   5,   1,   3,   9,   1,   0,   4,   5,   6,   3,   1,   6,\n",
       "         7,   8,   6,   8,   4,   3,   8,   2,   9,   9,   2,   5,   2,\n",
       "         7,   0,   5,   8,   6,   8,   6,   3,   4,   5,   2,   3,   2,\n",
       "         4,   7,   6,   4,   7,   7,   5,   3,   7,   7,   8,   2,   4,\n",
       "         7,   2,   6,   5,   3,   6,   9,   9,   4,   1,   3,   0,   1,\n",
       "         9,   6,   0,   8,   8,   5,   3,   7,   0,   4,   2,   3,   1,\n",
       "         9,   1,   8,   0,   2,   2,   1,   0,   7,   2,   3,   1,   7,\n",
       "         1,   8,   3,   1,   2,   0,   0,   8,   0,   0,   3,   4,   0,\n",
       "         4,   9,   4,   1,   1,   1,   5,   3,   2,   9,   3,   1,   8,\n",
       "         5,   0,   6,   0,   8,   8,   2,   9,   8,   8,   1,   0,   7,\n",
       "         3,   9,   8,   4,   0,   6,   5,   5,   7,   7,  20,  23,  17,\n",
       "        17,  21,  21,  14,  16,  14,  17,   0,  -1,  -5,   1,  -3,  -1,\n",
       "        -2,   0,   1,  -2,   1,  -1,  -2,  -5,  -3,  -1,   0,  -5,   0,\n",
       "        -1, -15, -11, -11,  -9, -10,  -9,  -7, -12,  -2, -11])"
      ]
     },
     "execution_count": 14,
     "metadata": {},
     "output_type": "execute_result"
    }
   ],
   "source": [
    "outlier_ds = np.append(outlier_ds, np.random.randint(low=-5, high=2, size=20)  ) \n",
    "outlier_ds = np.append(outlier_ds, np.random.randint(low=-15, high=0, size=10)  ) \n",
    "outlier_ds"
   ]
  },
  {
   "cell_type": "code",
   "execution_count": 15,
   "id": "69f915b4-ffaa-4016-b239-061530f50fff",
   "metadata": {},
   "outputs": [
    {
     "data": {
      "text/plain": [
       "<Axes: >"
      ]
     },
     "execution_count": 15,
     "metadata": {},
     "output_type": "execute_result"
    },
    {
     "data": {
      "image/png": "[encoded data removed]",
      "text/plain": [
       "<Figure size 640x480 with 1 Axes>"
      ]
     },
     "metadata": {},
     "output_type": "display_data"
    }
   ],
   "source": [
    "# Seaborn Boxplot.\n",
    "sn.boxplot(x=outlier_ds)"
   ]
  },
  {
   "cell_type": "code",
   "execution_count": 16,
   "id": "9d276393-36c0-40e9-8a97-7077c0137fe4",
   "metadata": {},
   "outputs": [
    {
     "data": {
      "text/html": [
       "<div>\n",
       "<style scoped>\n",
       "    .dataframe tbody tr th:only-of-type {\n",
       "        vertical-align: middle;\n",
       "    }\n",
       "\n",
       "    .dataframe tbody tr th {\n",
       "        vertical-align: top;\n",
       "    }\n",
       "\n",
       "    .dataframe thead th {\n",
       "        text-align: right;\n",
       "    }\n",
       "</style>\n",
       "<table border=\"1\" class=\"dataframe\">\n",
       "  <thead>\n",
       "    <tr style=\"text-align: right;\">\n",
       "      <th></th>\n",
       "      <th>A</th>\n",
       "    </tr>\n",
       "  </thead>\n",
       "  <tbody>\n",
       "    <tr>\n",
       "      <th>count</th>\n",
       "      <td>440.000000</td>\n",
       "    </tr>\n",
       "    <tr>\n",
       "      <th>mean</th>\n",
       "      <td>4.336364</td>\n",
       "    </tr>\n",
       "    <tr>\n",
       "      <th>std</th>\n",
       "      <td>4.277988</td>\n",
       "    </tr>\n",
       "    <tr>\n",
       "      <th>min</th>\n",
       "      <td>-15.000000</td>\n",
       "    </tr>\n",
       "    <tr>\n",
       "      <th>25%</th>\n",
       "      <td>2.000000</td>\n",
       "    </tr>\n",
       "    <tr>\n",
       "      <th>50%</th>\n",
       "      <td>4.000000</td>\n",
       "    </tr>\n",
       "    <tr>\n",
       "      <th>75%</th>\n",
       "      <td>7.000000</td>\n",
       "    </tr>\n",
       "    <tr>\n",
       "      <th>max</th>\n",
       "      <td>23.000000</td>\n",
       "    </tr>\n",
       "  </tbody>\n",
       "</table>\n",
       "</div>"
      ],
      "text/plain": [
       "                A\n",
       "count  440.000000\n",
       "mean     4.336364\n",
       "std      4.277988\n",
       "min    -15.000000\n",
       "25%      2.000000\n",
       "50%      4.000000\n",
       "75%      7.000000\n",
       "max     23.000000"
      ]
     },
     "execution_count": 16,
     "metadata": {},
     "output_type": "execute_result"
    }
   ],
   "source": [
    "# Erstelle Dataframe.\n",
    "outlier_df = pd.DataFrame(outlier_ds, columns=['A'])\n",
    "outlier_df.describe()"
   ]
  },
  {
   "cell_type": "markdown",
   "id": "21fc5e1d-3321-4355-9a05-5c6acac6c051",
   "metadata": {},
   "source": [
    "Mit Pandas und der Methode .describe() können wir die Quantile direkt sehen. Die Min- und Maxwerte geben jeweils das Maximum in dem Bereich an. \n",
    "Der 75% Anteil ist 7 oder kleiner, das Maximum ist ein großes Stück weiter, was auf Outlier hinweisen kann. "
   ]
  },
  {
   "cell_type": "markdown",
   "id": "e0675d6a-b2e5-4121-a0fc-3d74bd975edd",
   "metadata": {},
   "source": [
    "<h3>Entferne mit Quantile (Boxplot Vis.)</h3>"
   ]
  },
  {
   "cell_type": "code",
   "execution_count": 17,
   "id": "f3f12ce2-9e6e-4715-b252-f84edaeb49c8",
   "metadata": {},
   "outputs": [
    {
     "name": "stdout",
     "output_type": "stream",
     "text": [
      "threshold_high: 9.0\n",
      "threshold_low: -1.0\n"
     ]
    }
   ],
   "source": [
    "# Erstelle Grenzen zum Filtern.\n",
    "\n",
    "# high, low    = outlier_df['A'].quantile( [X1, X2] )  # Oder direkt so.\n",
    "threshold_high = outlier_df['A'].quantile(0.95)\n",
    "threshold_low  = outlier_df['A'].quantile(0.05)\n",
    "print(f\"threshold_high: {threshold_high}\\nthreshold_low: {threshold_low}\")"
   ]
  },
  {
   "cell_type": "code",
   "execution_count": 18,
   "id": "6ee0086f-75bd-4e47-94cd-3cece626f08a",
   "metadata": {},
   "outputs": [
    {
     "data": {
      "text/plain": [
       "<Axes: xlabel='A'>"
      ]
     },
     "execution_count": 18,
     "metadata": {},
     "output_type": "execute_result"
    },
    {
     "data": {
      "image/png": "[encoded data removed]",
      "text/plain": [
       "<Figure size 640x480 with 1 Axes>"
      ]
     },
     "metadata": {},
     "output_type": "display_data"
    }
   ],
   "source": [
    "# Filtere Daten. \n",
    "filtered_f = outlier_df[ (outlier_df['A']<threshold_high) \\\n",
    " & (outlier_df['A']> threshold_low)]\n",
    "sn.boxplot(x=filtered_f['A'], palette=\"pastel\")"
   ]
  },
  {
   "cell_type": "code",
   "execution_count": 19,
   "id": "344c94d7-2bd4-4141-a7d2-263cfc649db5",
   "metadata": {},
   "outputs": [
    {
     "data": {
      "text/html": [
       "<div>\n",
       "<style scoped>\n",
       "    .dataframe tbody tr th:only-of-type {\n",
       "        vertical-align: middle;\n",
       "    }\n",
       "\n",
       "    .dataframe tbody tr th {\n",
       "        vertical-align: top;\n",
       "    }\n",
       "\n",
       "    .dataframe thead th {\n",
       "        text-align: right;\n",
       "    }\n",
       "</style>\n",
       "<table border=\"1\" class=\"dataframe\">\n",
       "  <thead>\n",
       "    <tr style=\"text-align: right;\">\n",
       "      <th></th>\n",
       "      <th>A</th>\n",
       "    </tr>\n",
       "  </thead>\n",
       "  <tbody>\n",
       "    <tr>\n",
       "      <th>count</th>\n",
       "      <td>367.000000</td>\n",
       "    </tr>\n",
       "    <tr>\n",
       "      <th>mean</th>\n",
       "      <td>4.079019</td>\n",
       "    </tr>\n",
       "    <tr>\n",
       "      <th>std</th>\n",
       "      <td>2.602389</td>\n",
       "    </tr>\n",
       "    <tr>\n",
       "      <th>min</th>\n",
       "      <td>0.000000</td>\n",
       "    </tr>\n",
       "    <tr>\n",
       "      <th>25%</th>\n",
       "      <td>2.000000</td>\n",
       "    </tr>\n",
       "    <tr>\n",
       "      <th>50%</th>\n",
       "      <td>4.000000</td>\n",
       "    </tr>\n",
       "    <tr>\n",
       "      <th>75%</th>\n",
       "      <td>6.000000</td>\n",
       "    </tr>\n",
       "    <tr>\n",
       "      <th>max</th>\n",
       "      <td>8.000000</td>\n",
       "    </tr>\n",
       "  </tbody>\n",
       "</table>\n",
       "</div>"
      ],
      "text/plain": [
       "                A\n",
       "count  367.000000\n",
       "mean     4.079019\n",
       "std      2.602389\n",
       "min      0.000000\n",
       "25%      2.000000\n",
       "50%      4.000000\n",
       "75%      6.000000\n",
       "max      8.000000"
      ]
     },
     "execution_count": 19,
     "metadata": {},
     "output_type": "execute_result"
    }
   ],
   "source": [
    "filtered_f.describe()"
   ]
  },
  {
   "cell_type": "markdown",
   "id": "640f84bc-460c-423a-a2b9-2bd4fe979c9d",
   "metadata": {},
   "source": [
    "Das eine von vielen Möglichkeiten Outlier zu erkennen und zu entfernen.\n",
    "\n",
    "Seaborn eignet sich sehr gut solche Plots für Outlier zu erstellen, wo man auch nochmal eine andere Sicht auf die Daten bekommt. "
   ]
  },
  {
   "cell_type": "code",
   "execution_count": 20,
   "id": "8826b6f0-0bc9-4853-8990-e0faf2c0e61d",
   "metadata": {},
   "outputs": [
    {
     "data": {
      "text/html": [
       "<div>\n",
       "<style scoped>\n",
       "    .dataframe tbody tr th:only-of-type {\n",
       "        vertical-align: middle;\n",
       "    }\n",
       "\n",
       "    .dataframe tbody tr th {\n",
       "        vertical-align: top;\n",
       "    }\n",
       "\n",
       "    .dataframe thead th {\n",
       "        text-align: right;\n",
       "    }\n",
       "</style>\n",
       "<table border=\"1\" class=\"dataframe\">\n",
       "  <thead>\n",
       "    <tr style=\"text-align: right;\">\n",
       "      <th></th>\n",
       "      <th>PassengerId</th>\n",
       "      <th>Survived</th>\n",
       "      <th>Pclass</th>\n",
       "      <th>Name</th>\n",
       "      <th>Sex</th>\n",
       "      <th>Age</th>\n",
       "      <th>SibSp</th>\n",
       "      <th>Parch</th>\n",
       "      <th>Ticket</th>\n",
       "      <th>Fare</th>\n",
       "      <th>Cabin</th>\n",
       "      <th>Embarked</th>\n",
       "    </tr>\n",
       "  </thead>\n",
       "  <tbody>\n",
       "    <tr>\n",
       "      <th>0</th>\n",
       "      <td>1</td>\n",
       "      <td>0</td>\n",
       "      <td>3</td>\n",
       "      <td>Braund, Mr. Owen Harris</td>\n",
       "      <td>male</td>\n",
       "      <td>22.0</td>\n",
       "      <td>1</td>\n",
       "      <td>0</td>\n",
       "      <td>A/5 21171</td>\n",
       "      <td>7.2500</td>\n",
       "      <td>NaN</td>\n",
       "      <td>S</td>\n",
       "    </tr>\n",
       "    <tr>\n",
       "      <th>1</th>\n",
       "      <td>2</td>\n",
       "      <td>1</td>\n",
       "      <td>1</td>\n",
       "      <td>Cumings, Mrs. John Bradley (Florence Briggs Th...</td>\n",
       "      <td>female</td>\n",
       "      <td>38.0</td>\n",
       "      <td>1</td>\n",
       "      <td>0</td>\n",
       "      <td>PC 17599</td>\n",
       "      <td>71.2833</td>\n",
       "      <td>C85</td>\n",
       "      <td>C</td>\n",
       "    </tr>\n",
       "  </tbody>\n",
       "</table>\n",
       "</div>"
      ],
      "text/plain": [
       "   PassengerId  Survived  Pclass  \\\n",
       "0            1         0       3   \n",
       "1            2         1       1   \n",
       "\n",
       "                                                Name     Sex   Age  SibSp  \\\n",
       "0                            Braund, Mr. Owen Harris    male  22.0      1   \n",
       "1  Cumings, Mrs. John Bradley (Florence Briggs Th...  female  38.0      1   \n",
       "\n",
       "   Parch     Ticket     Fare Cabin Embarked  \n",
       "0      0  A/5 21171   7.2500   NaN        S  \n",
       "1      0   PC 17599  71.2833   C85        C  "
      ]
     },
     "execution_count": 20,
     "metadata": {},
     "output_type": "execute_result"
    }
   ],
   "source": [
    "# Lade Titanic Dataset.\n",
    "tit_df = pd.read_csv(\"./files_data/data/titanic.zip\", compression='zip')\n",
    "tit_df.head(2)"
   ]
  },
  {
   "cell_type": "code",
   "execution_count": 21,
   "id": "e79693dd-317f-4a14-ab7b-d744311c93dc",
   "metadata": {},
   "outputs": [
    {
     "data": {
      "text/plain": [
       "<Axes: xlabel='Age', ylabel='Sex'>"
      ]
     },
     "execution_count": 21,
     "metadata": {},
     "output_type": "execute_result"
    },
    {
     "data": {
      "image/png": "[encoded data removed]",
      "text/plain": [
       "<Figure size 640x480 with 1 Axes>"
      ]
     },
     "metadata": {},
     "output_type": "display_data"
    }
   ],
   "source": [
    "# Boxplot gruppiert nach \"Sex\".\n",
    "sn.boxplot(data=tit_df, x=\"Age\", y=\"Sex\",  palette=\"pastel\")"
   ]
  },
  {
   "cell_type": "code",
   "execution_count": 22,
   "id": "7c2294b6-59b8-4b3f-9a71-0a2947303f62",
   "metadata": {},
   "outputs": [
    {
     "data": {
      "text/plain": [
       "<Axes: xlabel='Age', ylabel='Sex'>"
      ]
     },
     "execution_count": 22,
     "metadata": {},
     "output_type": "execute_result"
    },
    {
     "data": {
      "image/png": "[encoded data removed]",
      "text/plain": [
       "<Figure size 640x480 with 1 Axes>"
      ]
     },
     "metadata": {},
     "output_type": "display_data"
    }
   ],
   "source": [
    "# Mehrere Gruppierungen vertikal.\n",
    "sn.boxplot(data=tit_df, x=\"Age\", y=\"Sex\", hue=\"Survived\", palette=\"pastel\")"
   ]
  },
  {
   "cell_type": "markdown",
   "id": "57662235-0f2d-45c9-b1e1-ab6a976cadd7",
   "metadata": {},
   "source": [
    "Durch diese und andere Visualisierungen können Daten auch besser interpretiert werden, was dem Verständnis zugutekommt.\n",
    "- Es gibt noch andere gut Seaborn Plots."
   ]
  },
  {
   "cell_type": "markdown",
   "id": "d53ca2ba-ce96-4deb-ac03-a594989e95da",
   "metadata": {},
   "source": [
    "Eine andere Möglichkeit Outlier zu Endecken und zu eliminieren, ist mittels der Normalverteilung. Dafür kann ein Feature als Histogramm geplotet werden, was zeigt, wie oft welche Werte vorkommen. Je öfter ein Datenpunkt vorkommt, der weiter weg vom Durchschnitt ist, desto eher handelt es sich um Outlier.\n",
    "\n",
    "Dies kann einfach an einem synthetischen Dataset gezeigt werden, das Anwenden auf andere Datasets und Features ist genau gleich.\n",
    "- Ein synthetischen Dataset (oder solche Daten allgemein) können so gestaltet werden, wie es der Nutzen verlangt."
   ]
  },
  {
   "cell_type": "markdown",
   "id": "17350869-9281-4f81-939a-94f05f672286",
   "metadata": {},
   "source": [
    "<h3>Entfernen mit Standardabweichung</h3>"
   ]
  },
  {
   "cell_type": "code",
   "execution_count": 59,
   "id": "cca1a758-6867-4e45-b87a-a3b606ed4e3f",
   "metadata": {},
   "outputs": [],
   "source": [
    "# Beispiel wie man solche synthetischen Dataset erstellt.\n",
    "# - Es gibt viele Möglichkeiten. \n",
    "# ** This section might be edited in the future \n",
    "hist_set = np.random.randint(low=-3, high=3, size=100) \n",
    "hist_set = np.append(hist_set, np.random.randint(low=-5, high=5, size=40) )\n",
    "hist_set = np.append(hist_set, np.random.randint(low=-12, high=12, size=22) )"
   ]
  },
  {
   "cell_type": "markdown",
   "id": "7b9d6ac4-9320-43ed-bf08-d8368d2a4e47",
   "metadata": {},
   "source": [
    "Viele Daten die natürlich vorkommen, haben Eigenschaften einer Normalverteilung, wie z. B. die Größe von Personen oder maschinell hergestellten Bauteile und deren Eigenschaften ..."
   ]
  },
  {
   "cell_type": "code",
   "execution_count": 60,
   "id": "3456ea79-3a83-48ae-9916-97b08afbb725",
   "metadata": {},
   "outputs": [
    {
     "data": {
      "image/png": "[encoded data removed]",
      "text/plain": [
       "<Figure size 640x480 with 1 Axes>"
      ]
     },
     "metadata": {},
     "output_type": "display_data"
    }
   ],
   "source": [
    "plt.hist(hist_set, bins=15)\n",
    "plt.show()"
   ]
  },
  {
   "cell_type": "markdown",
   "id": "c99b278f-17a3-46d0-9618-a2c725c54e2b",
   "metadata": {},
   "source": [
    "Für diese Dataset können wir eine Bell-Curve plotten, und basierend auf der Verteilung der Daten können wir die Daten herausfiltern, die sich weit weg vom Zentrum befinden."
   ]
  },
  {
   "cell_type": "code",
   "execution_count": 61,
   "id": "7073aa9e-6735-4f92-8e77-3535b8ad6281",
   "metadata": {},
   "outputs": [
    {
     "data": {
      "text/plain": [
       "array([0. , 0.5, 1. , 1.5])"
      ]
     },
     "execution_count": 61,
     "metadata": {},
     "output_type": "execute_result"
    }
   ],
   "source": [
    "# Mit np.arange können Arrays erstellt werden, mit einem bestimmten Schrittwert. \n",
    "# - Damit können auch synthetischen Dataset erstellt werden.\n",
    "# - Wir nutzen es, um die X-Werte für den Plot der Bell-Curve zu erstellen.\n",
    "#   => Mit einer kleinen Schrittweite ist der Graf am Ende glatter.\n",
    "np.arange(0, 2, 0.5)"
   ]
  },
  {
   "cell_type": "code",
   "execution_count": 62,
   "id": "3d813923-b3bc-4068-a55d-31847e5550a5",
   "metadata": {},
   "outputs": [
    {
     "data": {
      "text/plain": [
       "[<matplotlib.lines.Line2D at 0x240813260a0>]"
      ]
     },
     "execution_count": 62,
     "metadata": {},
     "output_type": "execute_result"
    },
    {
     "data": {
      "image/png": "[encoded data removed]",
      "text/plain": [
       "<Figure size 640x480 with 1 Axes>"
      ]
     },
     "metadata": {},
     "output_type": "display_data"
    }
   ],
   "source": [
    "# Plote Histogramm. \n",
    "plt.hist(hist_set, bins=18, density=True)\n",
    "# Setze ein, um X-Werte zu erstellen. \n",
    "rng = np.arange(hist_set.min(), hist_set.max(), 0.2)  \n",
    "# Plotte Bell-Curve\n",
    "plt.plot( rng, norm.pdf(rng, hist_set.mean(), hist_set.std()) )"
   ]
  },
  {
   "cell_type": "markdown",
   "id": "c34a180f-0963-4e27-b00d-958c4ed73710",
   "metadata": {},
   "source": [
    "Um die Outlier zu entfernen, werden die Datenpunkte entfernt, die 3 * der Standardabweichung vom Schnitt entfernt sind.\n",
    "- 2 oder ein anderer Wert ist je nach Dataset und Vorhaben anwendbar."
   ]
  },
  {
   "cell_type": "code",
   "execution_count": 72,
   "id": "31572820-ee42-45b6-aa6e-acff2fdb64b1",
   "metadata": {},
   "outputs": [
    {
     "name": "stdout",
     "output_type": "stream",
     "text": [
      "high: 8.06374982650044, low: -8.903255999339946\n"
     ]
    }
   ],
   "source": [
    "# Erstelle Limit.\n",
    "high_limit = hist_set.mean() + 3 * hist_set.std()\n",
    "low_limit  = hist_set.mean() - 3 * hist_set.std()\n",
    "print(f\"high: {high_limit}, low: {low_limit}\")"
   ]
  },
  {
   "cell_type": "markdown",
   "id": "bcd94a1c-69e1-44ec-80dd-de55d58fab84",
   "metadata": {},
   "source": [
    "Wenn man sich die Grenzen ansieht, kommt das ganz gut hin, so werden die Outlier nicht mit in das Datenintervall mit hinein genommen. \n",
    "\n",
    "Jetzt kann das Dataset gefiltert werden."
   ]
  },
  {
   "cell_type": "code",
   "execution_count": 77,
   "id": "3bc6b33b-4dd6-426b-9f97-860b53990d3a",
   "metadata": {},
   "outputs": [
    {
     "data": {
      "text/plain": [
       "array([ 10, -10,   9])"
      ]
     },
     "execution_count": 77,
     "metadata": {},
     "output_type": "execute_result"
    }
   ],
   "source": [
    "final_data = hist_set[ (hist_set>high_limit)  | (hist_set<low_limit) ]\n",
    "final_data # Zeige Outlier."
   ]
  },
  {
   "cell_type": "code",
   "execution_count": 81,
   "id": "941147f3-2de3-45ec-a11a-01c38c0458bc",
   "metadata": {},
   "outputs": [
    {
     "data": {
      "image/png": "[encoded data removed]",
      "text/plain": [
       "<Figure size 640x480 with 1 Axes>"
      ]
     },
     "metadata": {},
     "output_type": "display_data"
    }
   ],
   "source": [
    "# Daten ohne Outlier.\n",
    "final_data = hist_set[ (hist_set<high_limit)  & (hist_set>low_limit) ]\n",
    "final_data\n",
    "plt.hist(final_data, bins=15)\n",
    "plt.show()"
   ]
  },
  {
   "cell_type": "markdown",
   "id": "9292671b-ecb8-4f62-a37e-8c75824e5b37",
   "metadata": {},
   "source": [
    "Dasselbe geht auch mit Pandas."
   ]
  },
  {
   "cell_type": "code",
   "execution_count": 84,
   "id": "762df14c-c2a9-47f0-ae5f-bcbc5359d288",
   "metadata": {},
   "outputs": [
    {
     "data": {
      "text/html": [
       "<div>\n",
       "<style scoped>\n",
       "    .dataframe tbody tr th:only-of-type {\n",
       "        vertical-align: middle;\n",
       "    }\n",
       "\n",
       "    .dataframe tbody tr th {\n",
       "        vertical-align: top;\n",
       "    }\n",
       "\n",
       "    .dataframe thead th {\n",
       "        text-align: right;\n",
       "    }\n",
       "</style>\n",
       "<table border=\"1\" class=\"dataframe\">\n",
       "  <thead>\n",
       "    <tr style=\"text-align: right;\">\n",
       "      <th></th>\n",
       "      <th>A</th>\n",
       "    </tr>\n",
       "  </thead>\n",
       "  <tbody>\n",
       "    <tr>\n",
       "      <th>count</th>\n",
       "      <td>159.000000</td>\n",
       "    </tr>\n",
       "    <tr>\n",
       "      <th>mean</th>\n",
       "      <td>-0.484277</td>\n",
       "    </tr>\n",
       "    <tr>\n",
       "      <th>std</th>\n",
       "      <td>2.522946</td>\n",
       "    </tr>\n",
       "    <tr>\n",
       "      <th>min</th>\n",
       "      <td>-8.000000</td>\n",
       "    </tr>\n",
       "    <tr>\n",
       "      <th>25%</th>\n",
       "      <td>-2.000000</td>\n",
       "    </tr>\n",
       "    <tr>\n",
       "      <th>50%</th>\n",
       "      <td>0.000000</td>\n",
       "    </tr>\n",
       "    <tr>\n",
       "      <th>75%</th>\n",
       "      <td>1.000000</td>\n",
       "    </tr>\n",
       "    <tr>\n",
       "      <th>max</th>\n",
       "      <td>7.000000</td>\n",
       "    </tr>\n",
       "  </tbody>\n",
       "</table>\n",
       "</div>"
      ],
      "text/plain": [
       "                A\n",
       "count  159.000000\n",
       "mean    -0.484277\n",
       "std      2.522946\n",
       "min     -8.000000\n",
       "25%     -2.000000\n",
       "50%      0.000000\n",
       "75%      1.000000\n",
       "max      7.000000"
      ]
     },
     "execution_count": 84,
     "metadata": {},
     "output_type": "execute_result"
    }
   ],
   "source": [
    "data_df  = pd.DataFrame(hist_set, columns=['A'])  # Erstelle Dataframe.\n",
    "final_df = data_df[ (data_df.A < high_limit)  & (data_df.A > low_limit) ]  # Filtere\n",
    "final_df.describe()  # Nach dem filtern, neue Min- und Maxwerte.                   "
   ]
  },
  {
   "cell_type": "code",
   "execution_count": 85,
   "id": "7683daf9-ed81-4187-84d7-4cb0c509fe86",
   "metadata": {},
   "outputs": [
    {
     "data": {
      "text/plain": [
       "159"
      ]
     },
     "execution_count": 85,
     "metadata": {},
     "output_type": "execute_result"
    }
   ],
   "source": [
    "final_df.shape[0]"
   ]
  },
  {
   "cell_type": "markdown",
   "id": "8eb398c6-a369-4d9b-8362-4c954bb480cd",
   "metadata": {},
   "source": [
    "<h3>Entferne mit Z-Score</h3>"
   ]
  },
  {
   "cell_type": "markdown",
   "id": "3758c918-92fa-4ea0-94c5-8e90be51d050",
   "metadata": {},
   "source": [
    "Der Z-Score nutzt auch die Standardabweichung  und sagt, um welchen Anteil der Standardabweichung sich der Punkt vom Schnitt entfernt befindet. \n",
    "\n",
    "Z-Score 3 => 3 * Standardabweichung vom Schnitt entfernt."
   ]
  },
  {
   "cell_type": "markdown",
   "id": "ca225a83-faa1-4370-b008-70bb7d80dcce",
   "metadata": {},
   "source": [
    "> Berechne Z-Score:\n",
    "$$\n",
    "Z = \\frac{x - μ}{\\sigma}\n",
    "$$\n",
    "\n",
    "Z: Score, x: Wert, μ: Schnitt, $\\sigma$: Standardabweichung"
   ]
  },
  {
   "cell_type": "code",
   "execution_count": 94,
   "id": "9796d22d-20dc-4f27-ae33-910134881bb1",
   "metadata": {},
   "outputs": [
    {
     "data": {
      "text/plain": [
       "array([-0.19578224, -0.19578224,  0.27861319,  0.27861319,  0.43674501,\n",
       "        0.43674501,  0.27861319,  0.27861319,  0.27861319,  0.12048138,\n",
       "        0.12048138, -0.03765043, -0.03765043, -0.03765043, -0.03765043,\n",
       "       -0.98644131, -1.14457312,  0.91114045,  0.75300863,  2.01806313,\n",
       "       -3.51655031])"
      ]
     },
     "execution_count": 94,
     "metadata": {},
     "output_type": "execute_result"
    }
   ],
   "source": [
    "# Berechnungsbeispiel für den Z-Score.\n",
    "dataset = np.array([1,1,4,4,5,5,4,4,4,3,3,2,2,2,2,-4,-5,8,7, 15, -20])\n",
    "# Z-Score\n",
    "mean     = dataset.mean()\n",
    "std      = dataset.std()\n",
    "z_scores = (dataset - mean) / std  # Score für alle Werte\n",
    "\n",
    "z_scores"
   ]
  },
  {
   "cell_type": "code",
   "execution_count": 95,
   "id": "635ec36f-0277-4d45-88f7-036570ee883f",
   "metadata": {},
   "outputs": [
    {
     "data": {
      "text/plain": [
       "array([ 1,  1,  4,  4,  5,  5,  4,  4,  4,  3,  3,  2,  2,  2,  2, -4, -5,\n",
       "        8,  7])"
      ]
     },
     "execution_count": 95,
     "metadata": {},
     "output_type": "execute_result"
    }
   ],
   "source": [
    "# Filtere aus mit nur oberen Limit.\n",
    "limit = 2\n",
    "data = dataset[ np.abs(z_scores) < limit]\n",
    "data"
   ]
  },
  {
   "cell_type": "markdown",
   "id": "8e1c9d76-ed39-43cf-a0e0-bde2ccfa9a20",
   "metadata": {},
   "source": [
    "Diese Werte können auch einfach zu einem bestehenden Dataframe angehangen werden ..."
   ]
  },
  {
   "cell_type": "code",
   "execution_count": 98,
   "id": "50a13156-339a-463c-b1f8-c8c19e1dd48e",
   "metadata": {
    "collapsed": true,
    "jupyter": {
     "outputs_hidden": true
    },
    "scrolled": true
   },
   "outputs": [
    {
     "data": {
      "text/html": [
       "<div>\n",
       "<style scoped>\n",
       "    .dataframe tbody tr th:only-of-type {\n",
       "        vertical-align: middle;\n",
       "    }\n",
       "\n",
       "    .dataframe tbody tr th {\n",
       "        vertical-align: top;\n",
       "    }\n",
       "\n",
       "    .dataframe thead th {\n",
       "        text-align: right;\n",
       "    }\n",
       "</style>\n",
       "<table border=\"1\" class=\"dataframe\">\n",
       "  <thead>\n",
       "    <tr style=\"text-align: right;\">\n",
       "      <th></th>\n",
       "      <th>Feature1</th>\n",
       "      <th>ZSC</th>\n",
       "    </tr>\n",
       "  </thead>\n",
       "  <tbody>\n",
       "    <tr>\n",
       "      <th>0</th>\n",
       "      <td>1</td>\n",
       "      <td>-0.191064</td>\n",
       "    </tr>\n",
       "    <tr>\n",
       "      <th>1</th>\n",
       "      <td>1</td>\n",
       "      <td>-0.191064</td>\n",
       "    </tr>\n",
       "    <tr>\n",
       "      <th>2</th>\n",
       "      <td>4</td>\n",
       "      <td>0.271899</td>\n",
       "    </tr>\n",
       "    <tr>\n",
       "      <th>3</th>\n",
       "      <td>4</td>\n",
       "      <td>0.271899</td>\n",
       "    </tr>\n",
       "    <tr>\n",
       "      <th>4</th>\n",
       "      <td>5</td>\n",
       "      <td>0.426219</td>\n",
       "    </tr>\n",
       "    <tr>\n",
       "      <th>5</th>\n",
       "      <td>5</td>\n",
       "      <td>0.426219</td>\n",
       "    </tr>\n",
       "    <tr>\n",
       "      <th>6</th>\n",
       "      <td>4</td>\n",
       "      <td>0.271899</td>\n",
       "    </tr>\n",
       "    <tr>\n",
       "      <th>7</th>\n",
       "      <td>4</td>\n",
       "      <td>0.271899</td>\n",
       "    </tr>\n",
       "    <tr>\n",
       "      <th>8</th>\n",
       "      <td>4</td>\n",
       "      <td>0.271899</td>\n",
       "    </tr>\n",
       "    <tr>\n",
       "      <th>9</th>\n",
       "      <td>3</td>\n",
       "      <td>0.117578</td>\n",
       "    </tr>\n",
       "    <tr>\n",
       "      <th>10</th>\n",
       "      <td>3</td>\n",
       "      <td>0.117578</td>\n",
       "    </tr>\n",
       "    <tr>\n",
       "      <th>11</th>\n",
       "      <td>2</td>\n",
       "      <td>-0.036743</td>\n",
       "    </tr>\n",
       "    <tr>\n",
       "      <th>12</th>\n",
       "      <td>2</td>\n",
       "      <td>-0.036743</td>\n",
       "    </tr>\n",
       "    <tr>\n",
       "      <th>13</th>\n",
       "      <td>2</td>\n",
       "      <td>-0.036743</td>\n",
       "    </tr>\n",
       "    <tr>\n",
       "      <th>14</th>\n",
       "      <td>2</td>\n",
       "      <td>-0.036743</td>\n",
       "    </tr>\n",
       "    <tr>\n",
       "      <th>15</th>\n",
       "      <td>-4</td>\n",
       "      <td>-0.962668</td>\n",
       "    </tr>\n",
       "    <tr>\n",
       "      <th>16</th>\n",
       "      <td>-5</td>\n",
       "      <td>-1.116989</td>\n",
       "    </tr>\n",
       "    <tr>\n",
       "      <th>17</th>\n",
       "      <td>8</td>\n",
       "      <td>0.889182</td>\n",
       "    </tr>\n",
       "    <tr>\n",
       "      <th>18</th>\n",
       "      <td>7</td>\n",
       "      <td>0.734861</td>\n",
       "    </tr>\n",
       "    <tr>\n",
       "      <th>19</th>\n",
       "      <td>15</td>\n",
       "      <td>1.969428</td>\n",
       "    </tr>\n",
       "    <tr>\n",
       "      <th>20</th>\n",
       "      <td>-20</td>\n",
       "      <td>-3.431802</td>\n",
       "    </tr>\n",
       "  </tbody>\n",
       "</table>\n",
       "</div>"
      ],
      "text/plain": [
       "    Feature1       ZSC\n",
       "0          1 -0.191064\n",
       "1          1 -0.191064\n",
       "2          4  0.271899\n",
       "3          4  0.271899\n",
       "4          5  0.426219\n",
       "5          5  0.426219\n",
       "6          4  0.271899\n",
       "7          4  0.271899\n",
       "8          4  0.271899\n",
       "9          3  0.117578\n",
       "10         3  0.117578\n",
       "11         2 -0.036743\n",
       "12         2 -0.036743\n",
       "13         2 -0.036743\n",
       "14         2 -0.036743\n",
       "15        -4 -0.962668\n",
       "16        -5 -1.116989\n",
       "17         8  0.889182\n",
       "18         7  0.734861\n",
       "19        15  1.969428\n",
       "20       -20 -3.431802"
      ]
     },
     "execution_count": 98,
     "metadata": {},
     "output_type": "execute_result"
    }
   ],
   "source": [
    "# Erstelle Dataframe.\n",
    "my_data = pd.DataFrame(dataset, columns=['Feature1'])\n",
    "# Erstelle Spalte mit Z-Scores. \n",
    "my_data['ZSC'] = (my_data.Feature1 - my_data.Feature1.mean()) / my_data.Feature1.std()\n",
    "# zeige ganze Tabelle.\n",
    "my_data"
   ]
  },
  {
   "cell_type": "code",
   "execution_count": 105,
   "id": "3bf92d45-b352-4c71-8bd2-fb6b23436187",
   "metadata": {
    "collapsed": true,
    "jupyter": {
     "outputs_hidden": true
    }
   },
   "outputs": [
    {
     "data": {
      "text/html": [
       "<div>\n",
       "<style scoped>\n",
       "    .dataframe tbody tr th:only-of-type {\n",
       "        vertical-align: middle;\n",
       "    }\n",
       "\n",
       "    .dataframe tbody tr th {\n",
       "        vertical-align: top;\n",
       "    }\n",
       "\n",
       "    .dataframe thead th {\n",
       "        text-align: right;\n",
       "    }\n",
       "</style>\n",
       "<table border=\"1\" class=\"dataframe\">\n",
       "  <thead>\n",
       "    <tr style=\"text-align: right;\">\n",
       "      <th></th>\n",
       "      <th>Feature1</th>\n",
       "      <th>ZSC</th>\n",
       "    </tr>\n",
       "  </thead>\n",
       "  <tbody>\n",
       "    <tr>\n",
       "      <th>0</th>\n",
       "      <td>1</td>\n",
       "      <td>-0.191064</td>\n",
       "    </tr>\n",
       "    <tr>\n",
       "      <th>1</th>\n",
       "      <td>1</td>\n",
       "      <td>-0.191064</td>\n",
       "    </tr>\n",
       "    <tr>\n",
       "      <th>2</th>\n",
       "      <td>4</td>\n",
       "      <td>0.271899</td>\n",
       "    </tr>\n",
       "    <tr>\n",
       "      <th>3</th>\n",
       "      <td>4</td>\n",
       "      <td>0.271899</td>\n",
       "    </tr>\n",
       "    <tr>\n",
       "      <th>4</th>\n",
       "      <td>5</td>\n",
       "      <td>0.426219</td>\n",
       "    </tr>\n",
       "    <tr>\n",
       "      <th>5</th>\n",
       "      <td>5</td>\n",
       "      <td>0.426219</td>\n",
       "    </tr>\n",
       "    <tr>\n",
       "      <th>6</th>\n",
       "      <td>4</td>\n",
       "      <td>0.271899</td>\n",
       "    </tr>\n",
       "    <tr>\n",
       "      <th>7</th>\n",
       "      <td>4</td>\n",
       "      <td>0.271899</td>\n",
       "    </tr>\n",
       "    <tr>\n",
       "      <th>8</th>\n",
       "      <td>4</td>\n",
       "      <td>0.271899</td>\n",
       "    </tr>\n",
       "    <tr>\n",
       "      <th>9</th>\n",
       "      <td>3</td>\n",
       "      <td>0.117578</td>\n",
       "    </tr>\n",
       "    <tr>\n",
       "      <th>10</th>\n",
       "      <td>3</td>\n",
       "      <td>0.117578</td>\n",
       "    </tr>\n",
       "    <tr>\n",
       "      <th>11</th>\n",
       "      <td>2</td>\n",
       "      <td>-0.036743</td>\n",
       "    </tr>\n",
       "    <tr>\n",
       "      <th>12</th>\n",
       "      <td>2</td>\n",
       "      <td>-0.036743</td>\n",
       "    </tr>\n",
       "    <tr>\n",
       "      <th>13</th>\n",
       "      <td>2</td>\n",
       "      <td>-0.036743</td>\n",
       "    </tr>\n",
       "    <tr>\n",
       "      <th>14</th>\n",
       "      <td>2</td>\n",
       "      <td>-0.036743</td>\n",
       "    </tr>\n",
       "    <tr>\n",
       "      <th>15</th>\n",
       "      <td>-4</td>\n",
       "      <td>-0.962668</td>\n",
       "    </tr>\n",
       "    <tr>\n",
       "      <th>16</th>\n",
       "      <td>-5</td>\n",
       "      <td>-1.116989</td>\n",
       "    </tr>\n",
       "    <tr>\n",
       "      <th>17</th>\n",
       "      <td>8</td>\n",
       "      <td>0.889182</td>\n",
       "    </tr>\n",
       "    <tr>\n",
       "      <th>18</th>\n",
       "      <td>7</td>\n",
       "      <td>0.734861</td>\n",
       "    </tr>\n",
       "    <tr>\n",
       "      <th>19</th>\n",
       "      <td>15</td>\n",
       "      <td>1.969428</td>\n",
       "    </tr>\n",
       "  </tbody>\n",
       "</table>\n",
       "</div>"
      ],
      "text/plain": [
       "    Feature1       ZSC\n",
       "0          1 -0.191064\n",
       "1          1 -0.191064\n",
       "2          4  0.271899\n",
       "3          4  0.271899\n",
       "4          5  0.426219\n",
       "5          5  0.426219\n",
       "6          4  0.271899\n",
       "7          4  0.271899\n",
       "8          4  0.271899\n",
       "9          3  0.117578\n",
       "10         3  0.117578\n",
       "11         2 -0.036743\n",
       "12         2 -0.036743\n",
       "13         2 -0.036743\n",
       "14         2 -0.036743\n",
       "15        -4 -0.962668\n",
       "16        -5 -1.116989\n",
       "17         8  0.889182\n",
       "18         7  0.734861\n",
       "19        15  1.969428"
      ]
     },
     "execution_count": 105,
     "metadata": {},
     "output_type": "execute_result"
    }
   ],
   "source": [
    "# Gefiltert.\n",
    "my_data[ (my_data['ZSC'] < 2) &  (my_data['ZSC'] > -2)  ]"
   ]
  },
  {
   "cell_type": "code",
   "execution_count": 109,
   "id": "9a6ad279-3626-4a0e-a203-3e423e807b94",
   "metadata": {},
   "outputs": [
    {
     "data": {
      "text/html": [
       "<div>\n",
       "<style scoped>\n",
       "    .dataframe tbody tr th:only-of-type {\n",
       "        vertical-align: middle;\n",
       "    }\n",
       "\n",
       "    .dataframe tbody tr th {\n",
       "        vertical-align: top;\n",
       "    }\n",
       "\n",
       "    .dataframe thead th {\n",
       "        text-align: right;\n",
       "    }\n",
       "</style>\n",
       "<table border=\"1\" class=\"dataframe\">\n",
       "  <thead>\n",
       "    <tr style=\"text-align: right;\">\n",
       "      <th></th>\n",
       "      <th>Feature1</th>\n",
       "      <th>ZSC</th>\n",
       "    </tr>\n",
       "  </thead>\n",
       "  <tbody>\n",
       "    <tr>\n",
       "      <th>20</th>\n",
       "      <td>-20</td>\n",
       "      <td>-3.431802</td>\n",
       "    </tr>\n",
       "  </tbody>\n",
       "</table>\n",
       "</div>"
      ],
      "text/plain": [
       "    Feature1       ZSC\n",
       "20       -20 -3.431802"
      ]
     },
     "execution_count": 109,
     "metadata": {},
     "output_type": "execute_result"
    }
   ],
   "source": [
    "# Outlier.\n",
    "my_data[ (my_data['ZSC'] < -2) |  (my_data['ZSC'] > 2)  ]"
   ]
  },
  {
   "cell_type": "code",
   "execution_count": null,
   "id": "d1c067ad-9c35-4f43-ac16-b9f949082034",
   "metadata": {},
   "outputs": [],
   "source": []
  },
  {
   "cell_type": "code",
   "execution_count": null,
   "id": "4050bbec-0653-4fd8-9613-c78ed93f6ed6",
   "metadata": {},
   "outputs": [],
   "source": []
  },
  {
   "cell_type": "code",
   "execution_count": null,
   "id": "04dc3ab4-6c3c-481b-a460-058ba359e38f",
   "metadata": {},
   "outputs": [],
   "source": []
  },
  {
   "cell_type": "code",
   "execution_count": null,
   "id": "232d3d6b-c2c0-4b66-a752-7630de801b8c",
   "metadata": {},
   "outputs": [],
   "source": []
  },
  {
   "cell_type": "code",
   "execution_count": null,
   "id": "7cfad7f8-2b17-4871-812f-87db4467339c",
   "metadata": {},
   "outputs": [],
   "source": []
  },
  {
   "cell_type": "code",
   "execution_count": null,
   "id": "6651458a-0b32-4598-97d1-2b0a75498e93",
   "metadata": {},
   "outputs": [],
   "source": []
  },
  {
   "cell_type": "code",
   "execution_count": null,
   "id": "bee004ba-690c-4b48-9d3b-9d50bc2b99ce",
   "metadata": {},
   "outputs": [],
   "source": []
  },
  {
   "cell_type": "code",
   "execution_count": null,
   "id": "d96ad414-3376-4cec-84cd-4092d784b423",
   "metadata": {},
   "outputs": [],
   "source": []
  },
  {
   "cell_type": "code",
   "execution_count": null,
   "id": "76772877-e07c-4242-adf9-5299a7a36235",
   "metadata": {},
   "outputs": [],
   "source": []
  },
  {
   "cell_type": "code",
   "execution_count": null,
   "id": "b74495a3-b75e-4091-ad17-54eddb4265d0",
   "metadata": {},
   "outputs": [],
   "source": []
  },
  {
   "cell_type": "code",
   "execution_count": null,
   "id": "13ce585a-745c-450e-b91c-b854cb54a6ad",
   "metadata": {},
   "outputs": [],
   "source": []
  },
  {
   "cell_type": "code",
   "execution_count": null,
   "id": "c363ceba-8e0c-425a-a294-ccedcb2a63cc",
   "metadata": {},
   "outputs": [],
   "source": [
    "# // Content coming"
   ]
  },
  {
   "cell_type": "code",
   "execution_count": null,
   "id": "9e01c945-e0a5-4857-be38-d4fa48ee68f5",
   "metadata": {},
   "outputs": [],
   "source": []
  },
  {
   "cell_type": "markdown",
   "id": "c2e9650f-bd00-4476-8f0b-f4a1db76a863",
   "metadata": {},
   "source": [
    "Liste: / Zusammenfassung (Quantile, Normalverteilung)\n",
    "\n",
    "- Varianz\n",
    "-\n",
    "-\n"
   ]
  },
  {
   "cell_type": "code",
   "execution_count": null,
   "id": "55224691-294e-4e9a-a02e-282614d24144",
   "metadata": {},
   "outputs": [],
   "source": []
  }
 ],
 "metadata": {
  "kernelspec": {
   "display_name": "Python 3 (ipykernel)",
   "language": "python",
   "name": "python3"
  },
  "language_info": {
   "codemirror_mode": {
    "name": "ipython",
    "version": 3
   },
   "file_extension": ".py",
   "mimetype": "text/x-python",
   "name": "python",
   "nbconvert_exporter": "python",
   "pygments_lexer": "ipython3",
   "version": "3.9.18"
  }
 },
 "nbformat": 4,
 "nbformat_minor": 5
}
