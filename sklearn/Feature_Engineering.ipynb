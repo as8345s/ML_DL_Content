{
 "cells": [
  {
   "cell_type": "markdown",
   "id": "285eb0ef-bfef-45c2-9a78-6c1f9a30f5b6",
   "metadata": {},
   "source": [
    "<h1>Feature Engineering</h1>"
   ]
  },
  {
   "cell_type": "markdown",
   "id": "9dcabb79-6a1a-4a57-8675-c5a0fc409230",
   "metadata": {},
   "source": [
    "Feature Engineering ist ein wichtiger Bestandteil, wenn es um Data Science und Machine Learning geht.\n",
    "\n",
    "Dataset die man analysieren oder für das Training nutzen will, kommen nicht direkt sauber und bereinigt von einer Quelle wie z. B. Kaggle.com oder andere Quellen für Daten und Datasets."
   ]
  },
  {
   "cell_type": "markdown",
   "id": "7caafee4-a6ea-463a-8c48-ddecc1be0f87",
   "metadata": {},
   "source": [
    "<i>Abb1</i>: Grobe Übersicht Feature Engineering.\n",
    "\n",
    "<img src=\"./files_data/img/ml_ft_1.PNG\" width=500 hight=500>"
   ]
  },
  {
   "cell_type": "markdown",
   "id": "6e7dce47-6bfb-4310-a674-61e2ba5f380b",
   "metadata": {},
   "source": [
    "<i>Abb2</i>: Very messy Data.\n",
    "\n",
    "<img src=\"./files_data/img/ml_ft_2.PNG\" width=350 hight=250>"
   ]
  },
  {
   "cell_type": "markdown",
   "id": "8d89e18f-ed52-4778-b4ae-5c43bb56cc59",
   "metadata": {},
   "source": [
    "In der Abbildung 1 werden die Daten aus einer Quelle entnommen, für Statistiken, Analysen und um Modelle zu trainieren.\n",
    "\n",
    "Die rohen Daten können viele Features enthalten, die nicht alle benötigt werden. Im Big Data Bereich kann die Ladezeit von Daten hoch sein, und es macht einen Unterschied, wie viele Features und wie Zeilen geladen werden sollen. Bei einem hohen Datenaufkommen kann das Sortieren und Manipulieren von Daten in Anspruch nehmen, wenn diese im Terabyte Bereich liegen.\n",
    "\n",
    "Nach der Auswahl der Daten geht es dann darum, ob diese Fehler oder andere Margel haben, was das Visualisieren und das Trainieren von Modellen erschwert oder unöglich macht.\n",
    "\n",
    "Mit Feature Engineering wird das Problem angegangen- <br>\n",
    "- Analysiere Daten auf Defekte => Fehlen Daten? (NaN., Null, kein Eintrag, Int statt String, ...)\n",
    "- Wie könnten leere Felder oder Defekte behoben werden => Löschen, ersetzen, ...\n",
    "- Gibt es Outlier?\n",
    "- Muss ein Cast von Werten durchgeführt werden? => Int zu String, On Hot Encode, ...\n",
    "- Sind alle Features relevant?\n",
    "- Können die Daten visualisiert werden, um ein besseres Bild von der Lage zu bekommen?\n",
    "- Was wenn Featurenamen fehlen?\n",
    "- Was gibt es für Statistiken über diese Daten? => Durschnitt, Max, Min, ...\n",
    "- ..."
   ]
  },
  {
   "cell_type": "markdown",
   "id": "6b37261b-6c38-41dc-a79f-cc57cc3e624f",
   "metadata": {},
   "source": [
    "Was auch ein sehr wichtiger Faktor ist: <u>Domain Knowledge</u> <br>\n",
    "Es geht darum, Personen mit einzubeziehen, die die Datengrundlage verstehen und wissen, welche Werte eigentlich nicht auftreten können. Diese Personengruppe hilf dabei, Daten herauszufiltern, die vielleicht auf den ersten Blick nicht falsch aussehen."
   ]
  },
  {
   "cell_type": "markdown",
   "id": "589db890-8b50-4cd1-9006-241a9735bfdc",
   "metadata": {},
   "source": [
    "Zusammengefasst, bedeutet Feature Engineering das Aufbereiten von Daten mit Hilfsmitteln wie Statistiken, Analysen, mathematische Formeln wie Varianz oder einfacher Durchschnitt und anderen. Am Ende wollen wir eine saubere Datengrundlage haben, um Modelle zu trainieren oder um Daten zu visualisieren, mit  den Features die am Ende rauskommen."
   ]
  },
  {
   "cell_type": "code",
   "execution_count": 150,
   "id": "e233d3d4-abd1-4bb6-8fb3-d450d538dab3",
   "metadata": {},
   "outputs": [],
   "source": [
    "# Imports\n",
    "import matplotlib.pyplot as plt\n",
    "\n",
    "import seaborn as sn\n",
    "import numpy   as np\n",
    "import pandas  as pd\n",
    "\n",
    "from  scipy.stats import norm\n"
   ]
  },
  {
   "cell_type": "markdown",
   "id": "b48b0733-dfbc-480b-bfe0-f133fd3f133b",
   "metadata": {},
   "source": [
    "<h2>Outlier</h2>"
   ]
  },
  {
   "cell_type": "markdown",
   "id": "93400b63-7553-48ad-baa8-11fd5f23d337",
   "metadata": {},
   "source": [
    "Outlier sind Daten, die sich von anderen Datenpunkten unterscheiden. Nehmen wir z. B. das Alter von einer Personengruppe mit 100 Menschen. Das Alter beträgt 16 bis 65, ein Outlier wäre ein Datenpunkt, der das 90 hätte. \n",
    "\n",
    "Ein Alter von 500 wäre ebenfalls ein deutlich sichtbarer Outlier. Einige der Datenpunkte die solche Eigenschaften aufweisen, können echt oder fehlerhaft sein. \n",
    "- Durch unser <u>Domain Knowledge</u> wissen wir, das eine Person keine 500 Jahre alt sein kann. <br>\n",
    "=> Fehler\n",
    "\n",
    "Andere Outlier können durch die Natur des Datasets normal sein (z. B. Alter von 90). Diese Outlier können nach Bedarf auch herausgefiltert werden."
   ]
  },
  {
   "cell_type": "markdown",
   "id": "5cfb9fcf-b178-4174-9340-bbaa22aa3cbc",
   "metadata": {},
   "source": [
    "Outlier können die Auswertungen von statistischen Analysen beeinträchtigen, wie den Durschschnitt. "
   ]
  },
  {
   "cell_type": "code",
   "execution_count": 2,
   "id": "b938bcfe-e45a-4924-a31f-3f606f36edf6",
   "metadata": {},
   "outputs": [
    {
     "data": {
      "text/plain": [
       "2.142857142857143"
      ]
     },
     "execution_count": 2,
     "metadata": {},
     "output_type": "execute_result"
    }
   ],
   "source": [
    "np.average([1,2,3,3,3,2,1])  # Ohne Outlier."
   ]
  },
  {
   "cell_type": "code",
   "execution_count": 5,
   "id": "16cc8702-113c-4104-8261-374f92b57e14",
   "metadata": {},
   "outputs": [
    {
     "data": {
      "text/plain": [
       "3.7142857142857144"
      ]
     },
     "execution_count": 5,
     "metadata": {},
     "output_type": "execute_result"
    }
   ],
   "source": [
    "np.average([1,2,10,3,3,6,1])  # Mit Outlier."
   ]
  },
  {
   "cell_type": "markdown",
   "id": "8a6a5c3a-1f61-4401-9ba3-0b8f42d713d2",
   "metadata": {},
   "source": [
    "In den unteren Zellen erstellen wir ein Dataset mit Outlier."
   ]
  },
  {
   "cell_type": "code",
   "execution_count": 66,
   "id": "71e79ecb-4d35-4993-86af-5d2c633e7046",
   "metadata": {
    "collapsed": true,
    "jupyter": {
     "outputs_hidden": true
    }
   },
   "outputs": [
    {
     "data": {
      "text/plain": [
       "array([8, 8, 4, 3, 9, 0, 6, 9, 2, 5, 0, 0, 6, 9, 6, 9, 1, 8, 5, 5, 5, 4,\n",
       "       4, 5, 9, 2, 0, 1, 3, 6, 2, 9, 0, 7, 5, 5, 5, 1, 3, 2, 0, 5, 2, 3,\n",
       "       9, 1, 6, 7, 3, 1, 0, 0, 1, 6, 8, 6, 0, 4, 9, 3, 4, 8, 8, 7, 3, 5,\n",
       "       7, 5, 3, 8, 3, 4, 3, 3, 6, 4, 4, 5, 0, 6, 1, 9, 1, 4, 7, 8, 6, 9,\n",
       "       6, 2, 8, 0, 9, 0, 1, 3, 8, 5, 5, 7, 5, 8, 0, 5, 6, 4, 9, 8, 6, 0,\n",
       "       5, 5, 0, 3, 7, 9, 0, 4, 6, 6, 9, 0, 9, 0, 5, 9, 5, 7, 5, 5, 5, 8,\n",
       "       2, 6, 6, 1, 8, 9, 4, 0, 7, 1, 6, 8, 5, 5, 2, 6, 9, 0, 3, 8, 8, 2,\n",
       "       9, 5, 8, 7, 0, 8, 8, 7, 4, 7, 6, 1, 9, 2, 2, 2, 4, 9, 6, 4, 5, 5,\n",
       "       2, 0, 1, 8, 0, 4, 4, 7, 4, 2, 5, 9, 3, 0, 9, 3, 8, 3, 4, 6, 8, 8,\n",
       "       0, 7, 9, 2, 3, 5, 4, 1, 9, 4, 5, 1, 8, 9, 6, 1, 9, 1, 9, 9, 7, 4,\n",
       "       6, 5, 4, 8, 3, 1, 0, 0, 4, 3, 5, 5, 7, 1, 0, 9, 6, 4, 2, 7, 5, 7,\n",
       "       9, 0, 8, 3, 1, 2, 5, 6, 2, 7, 1, 2, 1, 8, 2, 8, 8, 7, 5, 5, 8, 5,\n",
       "       3, 1, 6, 4, 4, 5, 9, 3, 0, 7, 3, 0, 1, 1, 4, 7, 1, 8, 2, 7, 6, 4,\n",
       "       6, 2, 8, 9, 1, 4, 8, 9, 7, 4, 4, 5, 2, 1, 2, 6, 4, 3, 9, 9, 0, 5,\n",
       "       6, 3, 6, 3, 8, 2, 8, 8, 1, 7, 7, 1, 8, 0, 6, 2, 7, 9, 5, 8, 0, 3,\n",
       "       5, 7, 7, 9, 2, 5, 3, 0, 6, 2, 0, 3, 3, 1, 0, 6, 4, 7, 1, 3, 0, 4,\n",
       "       0, 4, 7, 4, 2, 9, 2, 1, 4, 8, 2, 6, 5, 2, 6, 2, 4, 5, 0, 8, 2, 6,\n",
       "       2, 0, 0, 5, 7, 4, 4, 8, 9, 8, 9, 5, 0, 6, 3, 5, 4, 1, 4, 9, 1, 3,\n",
       "       2, 8, 4, 8])"
      ]
     },
     "execution_count": 66,
     "metadata": {},
     "output_type": "execute_result"
    }
   ],
   "source": [
    "# Dataset Zahlen zwischen 0 und 9\n",
    "dataset = np.array( np.random.randint(10, size=400) )\n",
    "dataset"
   ]
  },
  {
   "cell_type": "code",
   "execution_count": 67,
   "id": "89468e48-b959-46c9-bca7-36707a3e2dec",
   "metadata": {
    "collapsed": true,
    "jupyter": {
     "outputs_hidden": true
    }
   },
   "outputs": [
    {
     "data": {
      "text/plain": [
       "array([ 8,  8,  4,  3,  9,  0,  6,  9,  2,  5,  0,  0,  6,  9,  6,  9,  1,\n",
       "        8,  5,  5,  5,  4,  4,  5,  9,  2,  0,  1,  3,  6,  2,  9,  0,  7,\n",
       "        5,  5,  5,  1,  3,  2,  0,  5,  2,  3,  9,  1,  6,  7,  3,  1,  0,\n",
       "        0,  1,  6,  8,  6,  0,  4,  9,  3,  4,  8,  8,  7,  3,  5,  7,  5,\n",
       "        3,  8,  3,  4,  3,  3,  6,  4,  4,  5,  0,  6,  1,  9,  1,  4,  7,\n",
       "        8,  6,  9,  6,  2,  8,  0,  9,  0,  1,  3,  8,  5,  5,  7,  5,  8,\n",
       "        0,  5,  6,  4,  9,  8,  6,  0,  5,  5,  0,  3,  7,  9,  0,  4,  6,\n",
       "        6,  9,  0,  9,  0,  5,  9,  5,  7,  5,  5,  5,  8,  2,  6,  6,  1,\n",
       "        8,  9,  4,  0,  7,  1,  6,  8,  5,  5,  2,  6,  9,  0,  3,  8,  8,\n",
       "        2,  9,  5,  8,  7,  0,  8,  8,  7,  4,  7,  6,  1,  9,  2,  2,  2,\n",
       "        4,  9,  6,  4,  5,  5,  2,  0,  1,  8,  0,  4,  4,  7,  4,  2,  5,\n",
       "        9,  3,  0,  9,  3,  8,  3,  4,  6,  8,  8,  0,  7,  9,  2,  3,  5,\n",
       "        4,  1,  9,  4,  5,  1,  8,  9,  6,  1,  9,  1,  9,  9,  7,  4,  6,\n",
       "        5,  4,  8,  3,  1,  0,  0,  4,  3,  5,  5,  7,  1,  0,  9,  6,  4,\n",
       "        2,  7,  5,  7,  9,  0,  8,  3,  1,  2,  5,  6,  2,  7,  1,  2,  1,\n",
       "        8,  2,  8,  8,  7,  5,  5,  8,  5,  3,  1,  6,  4,  4,  5,  9,  3,\n",
       "        0,  7,  3,  0,  1,  1,  4,  7,  1,  8,  2,  7,  6,  4,  6,  2,  8,\n",
       "        9,  1,  4,  8,  9,  7,  4,  4,  5,  2,  1,  2,  6,  4,  3,  9,  9,\n",
       "        0,  5,  6,  3,  6,  3,  8,  2,  8,  8,  1,  7,  7,  1,  8,  0,  6,\n",
       "        2,  7,  9,  5,  8,  0,  3,  5,  7,  7,  9,  2,  5,  3,  0,  6,  2,\n",
       "        0,  3,  3,  1,  0,  6,  4,  7,  1,  3,  0,  4,  0,  4,  7,  4,  2,\n",
       "        9,  2,  1,  4,  8,  2,  6,  5,  2,  6,  2,  4,  5,  0,  8,  2,  6,\n",
       "        2,  0,  0,  5,  7,  4,  4,  8,  9,  8,  9,  5,  0,  6,  3,  5,  4,\n",
       "        1,  4,  9,  1,  3,  2,  8,  4,  8, 11, 14,  9, 12, 13, 10, 13, 11,\n",
       "        8,  9, 10, 14, 10, 14,  9, 12,  9, 12, 14, 14,  8,  9, 11,  8, 11,\n",
       "       13, 12, 10, 11, 14, 10,  8, 14, 13,  9,  8, 11,  9, 14, 14, 11, 10,\n",
       "       14, 10, 10, 12, 11, 13, 12, 13,  8, 13,  8, 14, 11,  9, 10, 12, 13,\n",
       "       11, 11, 14, 13, 14, 11, 14, 12, 11, 14,  8, 14,  8, 13, 11, 14, 13,\n",
       "       11,  9, 13,  9, 13, 11, 11, 14, 12, 10, 10, 10, 14, 14, 10,  8, 12,\n",
       "        8, 13,  9, 12,  8, 13, 12])"
      ]
     },
     "execution_count": 67,
     "metadata": {},
     "output_type": "execute_result"
    }
   ],
   "source": [
    "outlier_ds = np.append(dataset, np.random.randint(low=8, high=15, size=100)  ) \n",
    "outlier_ds"
   ]
  },
  {
   "cell_type": "code",
   "execution_count": 68,
   "id": "62e4cbeb-04ed-4937-a7c5-ef3fd2e0cf95",
   "metadata": {
    "collapsed": true,
    "jupyter": {
     "outputs_hidden": true
    }
   },
   "outputs": [
    {
     "data": {
      "text/plain": [
       "array([ 8,  8,  4,  3,  9,  0,  6,  9,  2,  5,  0,  0,  6,  9,  6,  9,  1,\n",
       "        8,  5,  5,  5,  4,  4,  5,  9,  2,  0,  1,  3,  6,  2,  9,  0,  7,\n",
       "        5,  5,  5,  1,  3,  2,  0,  5,  2,  3,  9,  1,  6,  7,  3,  1,  0,\n",
       "        0,  1,  6,  8,  6,  0,  4,  9,  3,  4,  8,  8,  7,  3,  5,  7,  5,\n",
       "        3,  8,  3,  4,  3,  3,  6,  4,  4,  5,  0,  6,  1,  9,  1,  4,  7,\n",
       "        8,  6,  9,  6,  2,  8,  0,  9,  0,  1,  3,  8,  5,  5,  7,  5,  8,\n",
       "        0,  5,  6,  4,  9,  8,  6,  0,  5,  5,  0,  3,  7,  9,  0,  4,  6,\n",
       "        6,  9,  0,  9,  0,  5,  9,  5,  7,  5,  5,  5,  8,  2,  6,  6,  1,\n",
       "        8,  9,  4,  0,  7,  1,  6,  8,  5,  5,  2,  6,  9,  0,  3,  8,  8,\n",
       "        2,  9,  5,  8,  7,  0,  8,  8,  7,  4,  7,  6,  1,  9,  2,  2,  2,\n",
       "        4,  9,  6,  4,  5,  5,  2,  0,  1,  8,  0,  4,  4,  7,  4,  2,  5,\n",
       "        9,  3,  0,  9,  3,  8,  3,  4,  6,  8,  8,  0,  7,  9,  2,  3,  5,\n",
       "        4,  1,  9,  4,  5,  1,  8,  9,  6,  1,  9,  1,  9,  9,  7,  4,  6,\n",
       "        5,  4,  8,  3,  1,  0,  0,  4,  3,  5,  5,  7,  1,  0,  9,  6,  4,\n",
       "        2,  7,  5,  7,  9,  0,  8,  3,  1,  2,  5,  6,  2,  7,  1,  2,  1,\n",
       "        8,  2,  8,  8,  7,  5,  5,  8,  5,  3,  1,  6,  4,  4,  5,  9,  3,\n",
       "        0,  7,  3,  0,  1,  1,  4,  7,  1,  8,  2,  7,  6,  4,  6,  2,  8,\n",
       "        9,  1,  4,  8,  9,  7,  4,  4,  5,  2,  1,  2,  6,  4,  3,  9,  9,\n",
       "        0,  5,  6,  3,  6,  3,  8,  2,  8,  8,  1,  7,  7,  1,  8,  0,  6,\n",
       "        2,  7,  9,  5,  8,  0,  3,  5,  7,  7,  9,  2,  5,  3,  0,  6,  2,\n",
       "        0,  3,  3,  1,  0,  6,  4,  7,  1,  3,  0,  4,  0,  4,  7,  4,  2,\n",
       "        9,  2,  1,  4,  8,  2,  6,  5,  2,  6,  2,  4,  5,  0,  8,  2,  6,\n",
       "        2,  0,  0,  5,  7,  4,  4,  8,  9,  8,  9,  5,  0,  6,  3,  5,  4,\n",
       "        1,  4,  9,  1,  3,  2,  8,  4,  8, 17, 15, 17, 24, 14, 20, 21, 24,\n",
       "       14, 22])"
      ]
     },
     "execution_count": 68,
     "metadata": {},
     "output_type": "execute_result"
    }
   ],
   "source": [
    "outlier_ds = np.append(dataset, np.random.randint(low=13, high=25, size=10)  ) \n",
    "outlier_ds"
   ]
  },
  {
   "cell_type": "code",
   "execution_count": 69,
   "id": "6e573c98-d707-4837-b15b-2f47c31a31d8",
   "metadata": {},
   "outputs": [
    {
     "data": {
      "text/plain": [
       "<Axes: >"
      ]
     },
     "execution_count": 69,
     "metadata": {},
     "output_type": "execute_result"
    },
    {
     "data": {
      "image/png": "[encoded data removed]",
      "text/plain": [
       "<Figure size 640x480 with 1 Axes>"
      ]
     },
     "metadata": {},
     "output_type": "display_data"
    }
   ],
   "source": [
    "# Einfacher Plot mit Seaborn.\n",
    "sn.boxplot(x=outlier_ds)"
   ]
  },
  {
   "cell_type": "markdown",
   "id": "08358d7a-5133-4e42-ad82-f4ae26b6c30b",
   "metadata": {},
   "source": [
    "<i>Abb3</i>: Beschriftung eines Boxplots von Seaborn.\n",
    "\n",
    "<img src=\"./files_data/img/ml_ft_3.PNG\" width=550 hight=550>"
   ]
  },
  {
   "cell_type": "markdown",
   "id": "2bf9e6ba-46f1-467e-949e-ee29f9cbdd57",
   "metadata": {},
   "source": [
    "Quantile: 4 Teile <br>\n",
    "Teilt Daten in gleich große Teile auf (25%, Median, 75%, ...).\n",
    "\n",
    "25%: 1/4 Der Daten ist kleiner als die anderen 3/4. <br> \n",
    "Median Stellt 50% der Daten dar.<br>\n",
    "75%: 3/4 der Daten sind 75% aller Daten mit Größe n oder kleiner.\n",
    "\n",
    "\n",
    "Entfernt man alle Outlier, stellen die Whiskers die Min- und Maxwerte dar."
   ]
  },
  {
   "cell_type": "markdown",
   "id": "866166d2-7a56-42ba-8cbc-50dd6ca1b55c",
   "metadata": {},
   "source": [
    "Pandas unterstützt diese Funktionalität auch. "
   ]
  },
  {
   "cell_type": "code",
   "execution_count": 70,
   "id": "8ada225c-d7c6-4d8e-b66f-3363b14e7ebf",
   "metadata": {},
   "outputs": [
    {
     "data": {
      "text/html": [
       "<div>\n",
       "<style scoped>\n",
       "    .dataframe tbody tr th:only-of-type {\n",
       "        vertical-align: middle;\n",
       "    }\n",
       "\n",
       "    .dataframe tbody tr th {\n",
       "        vertical-align: top;\n",
       "    }\n",
       "\n",
       "    .dataframe thead th {\n",
       "        text-align: right;\n",
       "    }\n",
       "</style>\n",
       "<table border=\"1\" class=\"dataframe\">\n",
       "  <thead>\n",
       "    <tr style=\"text-align: right;\">\n",
       "      <th></th>\n",
       "      <th>A</th>\n",
       "    </tr>\n",
       "  </thead>\n",
       "  <tbody>\n",
       "    <tr>\n",
       "      <th>0</th>\n",
       "      <td>8</td>\n",
       "    </tr>\n",
       "    <tr>\n",
       "      <th>1</th>\n",
       "      <td>8</td>\n",
       "    </tr>\n",
       "  </tbody>\n",
       "</table>\n",
       "</div>"
      ],
      "text/plain": [
       "   A\n",
       "0  8\n",
       "1  8"
      ]
     },
     "execution_count": 70,
     "metadata": {},
     "output_type": "execute_result"
    }
   ],
   "source": [
    "outlier_df = pd.DataFrame(outlier_ds, columns=['A'])\n",
    "outlier_df.head(2)"
   ]
  },
  {
   "cell_type": "code",
   "execution_count": 71,
   "id": "826ff0fa-31a6-4569-9544-147a7ea993c7",
   "metadata": {},
   "outputs": [
    {
     "data": {
      "text/plain": [
       "0.25    2.0\n",
       "0.50    5.0\n",
       "0.75    7.0\n",
       "Name: A, dtype: float64"
      ]
     },
     "execution_count": 71,
     "metadata": {},
     "output_type": "execute_result"
    }
   ],
   "source": [
    "outlier_df['A'].quantile( [0.25, 0.5, 0.75] )\n",
    "# 25%: Alle Werte sind 2.0 oder kleiner.\n",
    "# 75%: Alle Werte sind 7.0 oder kleiner. "
   ]
  },
  {
   "cell_type": "code",
   "execution_count": 72,
   "id": "e060b7ab-75a1-44b6-bf88-ed03d8f16fd9",
   "metadata": {},
   "outputs": [
    {
     "data": {
      "text/plain": [
       "9.0"
      ]
     },
     "execution_count": 72,
     "metadata": {},
     "output_type": "execute_result"
    }
   ],
   "source": [
    "outlier_df['A'].quantile( 0.95 )"
   ]
  },
  {
   "cell_type": "code",
   "execution_count": 73,
   "id": "19e995c3-66b8-4c56-a6c1-5c073f9228de",
   "metadata": {},
   "outputs": [
    {
     "data": {
      "text/plain": [
       "9.0"
      ]
     },
     "execution_count": 73,
     "metadata": {},
     "output_type": "execute_result"
    }
   ],
   "source": [
    "threshold = outlier_df['A'].quantile( 0.95 )\n",
    "threshold"
   ]
  },
  {
   "cell_type": "code",
   "execution_count": 74,
   "id": "742dc199-be58-4805-8ab7-a379676c5f7c",
   "metadata": {},
   "outputs": [
    {
     "data": {
      "text/html": [
       "<div>\n",
       "<style scoped>\n",
       "    .dataframe tbody tr th:only-of-type {\n",
       "        vertical-align: middle;\n",
       "    }\n",
       "\n",
       "    .dataframe tbody tr th {\n",
       "        vertical-align: top;\n",
       "    }\n",
       "\n",
       "    .dataframe thead th {\n",
       "        text-align: right;\n",
       "    }\n",
       "</style>\n",
       "<table border=\"1\" class=\"dataframe\">\n",
       "  <thead>\n",
       "    <tr style=\"text-align: right;\">\n",
       "      <th></th>\n",
       "      <th>A</th>\n",
       "    </tr>\n",
       "  </thead>\n",
       "  <tbody>\n",
       "    <tr>\n",
       "      <th>400</th>\n",
       "      <td>17</td>\n",
       "    </tr>\n",
       "    <tr>\n",
       "      <th>401</th>\n",
       "      <td>15</td>\n",
       "    </tr>\n",
       "    <tr>\n",
       "      <th>402</th>\n",
       "      <td>17</td>\n",
       "    </tr>\n",
       "    <tr>\n",
       "      <th>403</th>\n",
       "      <td>24</td>\n",
       "    </tr>\n",
       "    <tr>\n",
       "      <th>404</th>\n",
       "      <td>14</td>\n",
       "    </tr>\n",
       "    <tr>\n",
       "      <th>405</th>\n",
       "      <td>20</td>\n",
       "    </tr>\n",
       "    <tr>\n",
       "      <th>406</th>\n",
       "      <td>21</td>\n",
       "    </tr>\n",
       "    <tr>\n",
       "      <th>407</th>\n",
       "      <td>24</td>\n",
       "    </tr>\n",
       "    <tr>\n",
       "      <th>408</th>\n",
       "      <td>14</td>\n",
       "    </tr>\n",
       "    <tr>\n",
       "      <th>409</th>\n",
       "      <td>22</td>\n",
       "    </tr>\n",
       "  </tbody>\n",
       "</table>\n",
       "</div>"
      ],
      "text/plain": [
       "      A\n",
       "400  17\n",
       "401  15\n",
       "402  17\n",
       "403  24\n",
       "404  14\n",
       "405  20\n",
       "406  21\n",
       "407  24\n",
       "408  14\n",
       "409  22"
      ]
     },
     "execution_count": 74,
     "metadata": {},
     "output_type": "execute_result"
    }
   ],
   "source": [
    "# Diese Einträge könnte man herausfiltern.\n",
    "outlier_df[outlier_df['A']>threshold]"
   ]
  },
  {
   "cell_type": "markdown",
   "id": "63296678-ef53-445d-984b-b2a53cccbd7c",
   "metadata": {},
   "source": [
    "Wir fügen dem Dataset einige negative Werte hinzu."
   ]
  },
  {
   "cell_type": "code",
   "execution_count": 75,
   "id": "0644fc26-38c2-42d4-b255-d44bab6be0bd",
   "metadata": {
    "collapsed": true,
    "jupyter": {
     "outputs_hidden": true
    }
   },
   "outputs": [
    {
     "data": {
      "text/plain": [
       "array([  8,   8,   4,   3,   9,   0,   6,   9,   2,   5,   0,   0,   6,\n",
       "         9,   6,   9,   1,   8,   5,   5,   5,   4,   4,   5,   9,   2,\n",
       "         0,   1,   3,   6,   2,   9,   0,   7,   5,   5,   5,   1,   3,\n",
       "         2,   0,   5,   2,   3,   9,   1,   6,   7,   3,   1,   0,   0,\n",
       "         1,   6,   8,   6,   0,   4,   9,   3,   4,   8,   8,   7,   3,\n",
       "         5,   7,   5,   3,   8,   3,   4,   3,   3,   6,   4,   4,   5,\n",
       "         0,   6,   1,   9,   1,   4,   7,   8,   6,   9,   6,   2,   8,\n",
       "         0,   9,   0,   1,   3,   8,   5,   5,   7,   5,   8,   0,   5,\n",
       "         6,   4,   9,   8,   6,   0,   5,   5,   0,   3,   7,   9,   0,\n",
       "         4,   6,   6,   9,   0,   9,   0,   5,   9,   5,   7,   5,   5,\n",
       "         5,   8,   2,   6,   6,   1,   8,   9,   4,   0,   7,   1,   6,\n",
       "         8,   5,   5,   2,   6,   9,   0,   3,   8,   8,   2,   9,   5,\n",
       "         8,   7,   0,   8,   8,   7,   4,   7,   6,   1,   9,   2,   2,\n",
       "         2,   4,   9,   6,   4,   5,   5,   2,   0,   1,   8,   0,   4,\n",
       "         4,   7,   4,   2,   5,   9,   3,   0,   9,   3,   8,   3,   4,\n",
       "         6,   8,   8,   0,   7,   9,   2,   3,   5,   4,   1,   9,   4,\n",
       "         5,   1,   8,   9,   6,   1,   9,   1,   9,   9,   7,   4,   6,\n",
       "         5,   4,   8,   3,   1,   0,   0,   4,   3,   5,   5,   7,   1,\n",
       "         0,   9,   6,   4,   2,   7,   5,   7,   9,   0,   8,   3,   1,\n",
       "         2,   5,   6,   2,   7,   1,   2,   1,   8,   2,   8,   8,   7,\n",
       "         5,   5,   8,   5,   3,   1,   6,   4,   4,   5,   9,   3,   0,\n",
       "         7,   3,   0,   1,   1,   4,   7,   1,   8,   2,   7,   6,   4,\n",
       "         6,   2,   8,   9,   1,   4,   8,   9,   7,   4,   4,   5,   2,\n",
       "         1,   2,   6,   4,   3,   9,   9,   0,   5,   6,   3,   6,   3,\n",
       "         8,   2,   8,   8,   1,   7,   7,   1,   8,   0,   6,   2,   7,\n",
       "         9,   5,   8,   0,   3,   5,   7,   7,   9,   2,   5,   3,   0,\n",
       "         6,   2,   0,   3,   3,   1,   0,   6,   4,   7,   1,   3,   0,\n",
       "         4,   0,   4,   7,   4,   2,   9,   2,   1,   4,   8,   2,   6,\n",
       "         5,   2,   6,   2,   4,   5,   0,   8,   2,   6,   2,   0,   0,\n",
       "         5,   7,   4,   4,   8,   9,   8,   9,   5,   0,   6,   3,   5,\n",
       "         4,   1,   4,   9,   1,   3,   2,   8,   4,   8,  17,  15,  17,\n",
       "        24,  14,  20,  21,  24,  14,  22,  -2,   0,  -2,  -5,  -3,   1,\n",
       "         0,  -4,   0,  -5,   0,  -1,   0,  -3,  -1,  -1,  -5,  -1,   1,\n",
       "        -4, -13,  -3,  -8,  -6,  -4,  -9,  -4,  -9,  -1,  -7])"
      ]
     },
     "execution_count": 75,
     "metadata": {},
     "output_type": "execute_result"
    }
   ],
   "source": [
    "outlier_ds = np.append(outlier_ds, np.random.randint(low=-5, high=2, size=20)  ) \n",
    "outlier_ds = np.append(outlier_ds, np.random.randint(low=-15, high=0, size=10)  ) \n",
    "outlier_ds"
   ]
  },
  {
   "cell_type": "code",
   "execution_count": 76,
   "id": "69f915b4-ffaa-4016-b239-061530f50fff",
   "metadata": {},
   "outputs": [
    {
     "data": {
      "text/plain": [
       "<Axes: >"
      ]
     },
     "execution_count": 76,
     "metadata": {},
     "output_type": "execute_result"
    },
    {
     "data": {
      "image/png": "[encoded data removed]",
      "text/plain": [
       "<Figure size 640x480 with 1 Axes>"
      ]
     },
     "metadata": {},
     "output_type": "display_data"
    }
   ],
   "source": [
    "# Seaborn Boxplot.\n",
    "sn.boxplot(x=outlier_ds)"
   ]
  },
  {
   "cell_type": "code",
   "execution_count": 77,
   "id": "9d276393-36c0-40e9-8a97-7077c0137fe4",
   "metadata": {},
   "outputs": [
    {
     "data": {
      "text/html": [
       "<div>\n",
       "<style scoped>\n",
       "    .dataframe tbody tr th:only-of-type {\n",
       "        vertical-align: middle;\n",
       "    }\n",
       "\n",
       "    .dataframe tbody tr th {\n",
       "        vertical-align: top;\n",
       "    }\n",
       "\n",
       "    .dataframe thead th {\n",
       "        text-align: right;\n",
       "    }\n",
       "</style>\n",
       "<table border=\"1\" class=\"dataframe\">\n",
       "  <thead>\n",
       "    <tr style=\"text-align: right;\">\n",
       "      <th></th>\n",
       "      <th>A</th>\n",
       "    </tr>\n",
       "  </thead>\n",
       "  <tbody>\n",
       "    <tr>\n",
       "      <th>count</th>\n",
       "      <td>440.000000</td>\n",
       "    </tr>\n",
       "    <tr>\n",
       "      <th>mean</th>\n",
       "      <td>4.363636</td>\n",
       "    </tr>\n",
       "    <tr>\n",
       "      <th>std</th>\n",
       "      <td>4.173847</td>\n",
       "    </tr>\n",
       "    <tr>\n",
       "      <th>min</th>\n",
       "      <td>-13.000000</td>\n",
       "    </tr>\n",
       "    <tr>\n",
       "      <th>25%</th>\n",
       "      <td>2.000000</td>\n",
       "    </tr>\n",
       "    <tr>\n",
       "      <th>50%</th>\n",
       "      <td>4.000000</td>\n",
       "    </tr>\n",
       "    <tr>\n",
       "      <th>75%</th>\n",
       "      <td>7.000000</td>\n",
       "    </tr>\n",
       "    <tr>\n",
       "      <th>max</th>\n",
       "      <td>24.000000</td>\n",
       "    </tr>\n",
       "  </tbody>\n",
       "</table>\n",
       "</div>"
      ],
      "text/plain": [
       "                A\n",
       "count  440.000000\n",
       "mean     4.363636\n",
       "std      4.173847\n",
       "min    -13.000000\n",
       "25%      2.000000\n",
       "50%      4.000000\n",
       "75%      7.000000\n",
       "max     24.000000"
      ]
     },
     "execution_count": 77,
     "metadata": {},
     "output_type": "execute_result"
    }
   ],
   "source": [
    "# Erstelle Dataframe.\n",
    "outlier_df = pd.DataFrame(outlier_ds, columns=['A'])\n",
    "outlier_df.describe()"
   ]
  },
  {
   "cell_type": "markdown",
   "id": "21fc5e1d-3321-4355-9a05-5c6acac6c051",
   "metadata": {},
   "source": [
    "Mit Pandas und der Methode .describe() können wir die Quantile direkt sehen. Die Min- und Maxwerte geben jeweils das Maximum in dem Bereich an. \n",
    "Der 75% Anteil ist 7 oder kleiner, das Maximum ist ein großes Stück weiter, was auf Outlier hinweisen kann. "
   ]
  },
  {
   "cell_type": "code",
   "execution_count": 78,
   "id": "f3f12ce2-9e6e-4715-b252-f84edaeb49c8",
   "metadata": {},
   "outputs": [
    {
     "name": "stdout",
     "output_type": "stream",
     "text": [
      "threshold_high: 9.0\n",
      "threshold_low: -1.0\n"
     ]
    }
   ],
   "source": [
    "# Erstelle Grenzen zum Filtern.\n",
    "\n",
    "# high, low    = outlier_df['A'].quantile( [X1, X2] )  # Oder direkt so.\n",
    "threshold_high = outlier_df['A'].quantile(0.95)\n",
    "threshold_low  = outlier_df['A'].quantile(0.05)\n",
    "print(f\"threshold_high: {threshold_high}\\nthreshold_low: {threshold_low}\")"
   ]
  },
  {
   "cell_type": "code",
   "execution_count": 92,
   "id": "6ee0086f-75bd-4e47-94cd-3cece626f08a",
   "metadata": {},
   "outputs": [
    {
     "data": {
      "text/plain": [
       "<Axes: xlabel='A'>"
      ]
     },
     "execution_count": 92,
     "metadata": {},
     "output_type": "execute_result"
    },
    {
     "data": {
      "image/png": "[encoded data removed]",
      "text/plain": [
       "<Figure size 640x480 with 1 Axes>"
      ]
     },
     "metadata": {},
     "output_type": "display_data"
    }
   ],
   "source": [
    "# Filtere Daten. \n",
    "filtered_f = outlier_df[ (outlier_df['A']<threshold_high) \\\n",
    " & (outlier_df['A']> threshold_low)]\n",
    "sn.boxplot(x=filtered_f['A'], palette=\"pastel\")"
   ]
  },
  {
   "cell_type": "code",
   "execution_count": 80,
   "id": "344c94d7-2bd4-4141-a7d2-263cfc649db5",
   "metadata": {},
   "outputs": [
    {
     "data": {
      "text/html": [
       "<div>\n",
       "<style scoped>\n",
       "    .dataframe tbody tr th:only-of-type {\n",
       "        vertical-align: middle;\n",
       "    }\n",
       "\n",
       "    .dataframe tbody tr th {\n",
       "        vertical-align: top;\n",
       "    }\n",
       "\n",
       "    .dataframe thead th {\n",
       "        text-align: right;\n",
       "    }\n",
       "</style>\n",
       "<table border=\"1\" class=\"dataframe\">\n",
       "  <thead>\n",
       "    <tr style=\"text-align: right;\">\n",
       "      <th></th>\n",
       "      <th>A</th>\n",
       "    </tr>\n",
       "  </thead>\n",
       "  <tbody>\n",
       "    <tr>\n",
       "      <th>count</th>\n",
       "      <td>365.000000</td>\n",
       "    </tr>\n",
       "    <tr>\n",
       "      <th>mean</th>\n",
       "      <td>3.986301</td>\n",
       "    </tr>\n",
       "    <tr>\n",
       "      <th>std</th>\n",
       "      <td>2.617005</td>\n",
       "    </tr>\n",
       "    <tr>\n",
       "      <th>min</th>\n",
       "      <td>0.000000</td>\n",
       "    </tr>\n",
       "    <tr>\n",
       "      <th>25%</th>\n",
       "      <td>2.000000</td>\n",
       "    </tr>\n",
       "    <tr>\n",
       "      <th>50%</th>\n",
       "      <td>4.000000</td>\n",
       "    </tr>\n",
       "    <tr>\n",
       "      <th>75%</th>\n",
       "      <td>6.000000</td>\n",
       "    </tr>\n",
       "    <tr>\n",
       "      <th>max</th>\n",
       "      <td>8.000000</td>\n",
       "    </tr>\n",
       "  </tbody>\n",
       "</table>\n",
       "</div>"
      ],
      "text/plain": [
       "                A\n",
       "count  365.000000\n",
       "mean     3.986301\n",
       "std      2.617005\n",
       "min      0.000000\n",
       "25%      2.000000\n",
       "50%      4.000000\n",
       "75%      6.000000\n",
       "max      8.000000"
      ]
     },
     "execution_count": 80,
     "metadata": {},
     "output_type": "execute_result"
    }
   ],
   "source": [
    "filtered_f.describe()"
   ]
  },
  {
   "cell_type": "markdown",
   "id": "640f84bc-460c-423a-a2b9-2bd4fe979c9d",
   "metadata": {},
   "source": [
    "Das eine von vielen Möglichkeiten Outlier zu erkennen und zu entfernen.\n",
    "\n",
    "Seaborn eignet sich sehr gut solche Plots für Outlier zu erstellen, wo man auch nochmal eine andere Sicht auf die Daten bekommt. "
   ]
  },
  {
   "cell_type": "code",
   "execution_count": 83,
   "id": "8826b6f0-0bc9-4853-8990-e0faf2c0e61d",
   "metadata": {},
   "outputs": [
    {
     "data": {
      "text/html": [
       "<div>\n",
       "<style scoped>\n",
       "    .dataframe tbody tr th:only-of-type {\n",
       "        vertical-align: middle;\n",
       "    }\n",
       "\n",
       "    .dataframe tbody tr th {\n",
       "        vertical-align: top;\n",
       "    }\n",
       "\n",
       "    .dataframe thead th {\n",
       "        text-align: right;\n",
       "    }\n",
       "</style>\n",
       "<table border=\"1\" class=\"dataframe\">\n",
       "  <thead>\n",
       "    <tr style=\"text-align: right;\">\n",
       "      <th></th>\n",
       "      <th>PassengerId</th>\n",
       "      <th>Survived</th>\n",
       "      <th>Pclass</th>\n",
       "      <th>Name</th>\n",
       "      <th>Sex</th>\n",
       "      <th>Age</th>\n",
       "      <th>SibSp</th>\n",
       "      <th>Parch</th>\n",
       "      <th>Ticket</th>\n",
       "      <th>Fare</th>\n",
       "      <th>Cabin</th>\n",
       "      <th>Embarked</th>\n",
       "    </tr>\n",
       "  </thead>\n",
       "  <tbody>\n",
       "    <tr>\n",
       "      <th>0</th>\n",
       "      <td>1</td>\n",
       "      <td>0</td>\n",
       "      <td>3</td>\n",
       "      <td>Braund, Mr. Owen Harris</td>\n",
       "      <td>male</td>\n",
       "      <td>22.0</td>\n",
       "      <td>1</td>\n",
       "      <td>0</td>\n",
       "      <td>A/5 21171</td>\n",
       "      <td>7.2500</td>\n",
       "      <td>NaN</td>\n",
       "      <td>S</td>\n",
       "    </tr>\n",
       "    <tr>\n",
       "      <th>1</th>\n",
       "      <td>2</td>\n",
       "      <td>1</td>\n",
       "      <td>1</td>\n",
       "      <td>Cumings, Mrs. John Bradley (Florence Briggs Th...</td>\n",
       "      <td>female</td>\n",
       "      <td>38.0</td>\n",
       "      <td>1</td>\n",
       "      <td>0</td>\n",
       "      <td>PC 17599</td>\n",
       "      <td>71.2833</td>\n",
       "      <td>C85</td>\n",
       "      <td>C</td>\n",
       "    </tr>\n",
       "  </tbody>\n",
       "</table>\n",
       "</div>"
      ],
      "text/plain": [
       "   PassengerId  Survived  Pclass  \\\n",
       "0            1         0       3   \n",
       "1            2         1       1   \n",
       "\n",
       "                                                Name     Sex   Age  SibSp  \\\n",
       "0                            Braund, Mr. Owen Harris    male  22.0      1   \n",
       "1  Cumings, Mrs. John Bradley (Florence Briggs Th...  female  38.0      1   \n",
       "\n",
       "   Parch     Ticket     Fare Cabin Embarked  \n",
       "0      0  A/5 21171   7.2500   NaN        S  \n",
       "1      0   PC 17599  71.2833   C85        C  "
      ]
     },
     "execution_count": 83,
     "metadata": {},
     "output_type": "execute_result"
    }
   ],
   "source": [
    "# Lade Titanic Dataset.\n",
    "tit_df = pd.read_csv(\"./files_data/data/titanic.zip\", compression='zip')\n",
    "tit_df.head(2)"
   ]
  },
  {
   "cell_type": "code",
   "execution_count": 96,
   "id": "e79693dd-317f-4a14-ab7b-d744311c93dc",
   "metadata": {},
   "outputs": [
    {
     "data": {
      "text/plain": [
       "<Axes: xlabel='Age', ylabel='Sex'>"
      ]
     },
     "execution_count": 96,
     "metadata": {},
     "output_type": "execute_result"
    },
    {
     "data": {
      "image/png": "[encoded data removed]",
      "text/plain": [
       "<Figure size 640x480 with 1 Axes>"
      ]
     },
     "metadata": {},
     "output_type": "display_data"
    }
   ],
   "source": [
    "# Boxplot gruppiert nach \"Sex\".\n",
    "sn.boxplot(data=tit_df, x=\"Age\", y=\"Sex\",  palette=\"pastel\")"
   ]
  },
  {
   "cell_type": "code",
   "execution_count": 98,
   "id": "7c2294b6-59b8-4b3f-9a71-0a2947303f62",
   "metadata": {},
   "outputs": [
    {
     "data": {
      "text/plain": [
       "<Axes: xlabel='Age', ylabel='Sex'>"
      ]
     },
     "execution_count": 98,
     "metadata": {},
     "output_type": "execute_result"
    },
    {
     "data": {
      "image/png": "[encoded data removed]",
      "text/plain": [
       "<Figure size 640x480 with 1 Axes>"
      ]
     },
     "metadata": {},
     "output_type": "display_data"
    }
   ],
   "source": [
    "# Mehrere Gruppierungen vertikal.\n",
    "sn.boxplot(data=tit_df, x=\"Age\", y=\"Sex\", hue=\"Survived\", palette=\"pastel\")"
   ]
  },
  {
   "cell_type": "markdown",
   "id": "57662235-0f2d-45c9-b1e1-ab6a976cadd7",
   "metadata": {},
   "source": [
    "Durch diese und andere Visualisierungen können Daten auch besser interpretiert werden, was dem Verständnis zugutekommt.\n",
    "- Es gibt noch andere gut Seaborn Plots."
   ]
  },
  {
   "cell_type": "markdown",
   "id": "d53ca2ba-ce96-4deb-ac03-a594989e95da",
   "metadata": {},
   "source": [
    "Eine andere Möglichkeit Outlier zu Endecken und zu eliminieren, ist mittels der Normalverteilung. Dafür kann ein Feature als Histogramm geplotet werden, was zeigt, wie oft welche Werte vorkommen. Je öfter ein Datenpunkt vorkommt, der weiter weg vom Durchschnitt ist, desto eher handelt es sich um Outlier.\n",
    "\n",
    "Dies kann einfach an einem synthetischen Dataset gezeigt werden, das Anwenden auf andere Datasets und Features ist genau gleich.\n",
    "- Ein synthetischen Dataset (oder solche Daten allgemein) können so gestaltet werden, wie es der Nutzen verlangt."
   ]
  },
  {
   "cell_type": "code",
   "execution_count": 148,
   "id": "cca1a758-6867-4e45-b87a-a3b606ed4e3f",
   "metadata": {},
   "outputs": [],
   "source": [
    "# Beispiel wie man solche synthetischen Dataset erstellt.\n",
    "# - Es gibt viele Möglichkeiten. \n",
    "hist_set = np.random.randint(low=-3, high=3, size=100) \n",
    "hist_set = np.append(hist_set, np.random.randint(low=-5, high=5, size=50) )\n",
    "hist_set = np.append(hist_set, np.random.randint(low=-10, high=10, size=25) )"
   ]
  },
  {
   "cell_type": "code",
   "execution_count": 149,
   "id": "3456ea79-3a83-48ae-9916-97b08afbb725",
   "metadata": {},
   "outputs": [
    {
     "data": {
      "image/png": "[encoded data removed]",
      "text/plain": [
       "<Figure size 640x480 with 1 Axes>"
      ]
     },
     "metadata": {},
     "output_type": "display_data"
    }
   ],
   "source": [
    "plt.hist(hist_set, bins=15)\n",
    "plt.show()"
   ]
  },
  {
   "cell_type": "code",
   "execution_count": null,
   "id": "3d813923-b3bc-4068-a55d-31847e5550a5",
   "metadata": {},
   "outputs": [],
   "source": []
  },
  {
   "cell_type": "code",
   "execution_count": null,
   "id": "69253e36-b4ef-4237-bd1a-2f32ea781760",
   "metadata": {},
   "outputs": [],
   "source": []
  },
  {
   "cell_type": "code",
   "execution_count": null,
   "id": "f017eff3-456c-4e4d-a5aa-515ecbf72251",
   "metadata": {},
   "outputs": [],
   "source": []
  },
  {
   "cell_type": "code",
   "execution_count": null,
   "id": "dc13fc69-b843-4f8f-a7ae-a19e722c7617",
   "metadata": {},
   "outputs": [],
   "source": []
  },
  {
   "cell_type": "code",
   "execution_count": null,
   "id": "3bf92d45-b352-4c71-8bd2-fb6b23436187",
   "metadata": {},
   "outputs": [],
   "source": []
  },
  {
   "cell_type": "code",
   "execution_count": null,
   "id": "50c23528-c7da-4028-b861-3ac14d942869",
   "metadata": {},
   "outputs": [],
   "source": []
  },
  {
   "cell_type": "code",
   "execution_count": null,
   "id": "ce5bb26b-440d-45f5-a464-54286d534a1d",
   "metadata": {},
   "outputs": [],
   "source": []
  },
  {
   "cell_type": "code",
   "execution_count": null,
   "id": "efe98654-22b5-4a70-8951-1201d009f28d",
   "metadata": {},
   "outputs": [],
   "source": []
  },
  {
   "cell_type": "code",
   "execution_count": null,
   "id": "13ce585a-745c-450e-b91c-b854cb54a6ad",
   "metadata": {},
   "outputs": [],
   "source": []
  },
  {
   "cell_type": "code",
   "execution_count": null,
   "id": "c363ceba-8e0c-425a-a294-ccedcb2a63cc",
   "metadata": {},
   "outputs": [],
   "source": [
    "# // Content coming"
   ]
  },
  {
   "cell_type": "code",
   "execution_count": null,
   "id": "9e01c945-e0a5-4857-be38-d4fa48ee68f5",
   "metadata": {},
   "outputs": [],
   "source": []
  },
  {
   "cell_type": "markdown",
   "id": "c2e9650f-bd00-4476-8f0b-f4a1db76a863",
   "metadata": {},
   "source": [
    "Liste: / Zusammenfassung\n",
    "\n",
    "- Varianz\n",
    "-\n",
    "-\n"
   ]
  },
  {
   "cell_type": "code",
   "execution_count": null,
   "id": "55224691-294e-4e9a-a02e-282614d24144",
   "metadata": {},
   "outputs": [],
   "source": []
  }
 ],
 "metadata": {
  "kernelspec": {
   "display_name": "Python 3 (ipykernel)",
   "language": "python",
   "name": "python3"
  },
  "language_info": {
   "codemirror_mode": {
    "name": "ipython",
    "version": 3
   },
   "file_extension": ".py",
   "mimetype": "text/x-python",
   "name": "python",
   "nbconvert_exporter": "python",
   "pygments_lexer": "ipython3",
   "version": "3.9.18"
  }
 },
 "nbformat": 4,
 "nbformat_minor": 5
}
