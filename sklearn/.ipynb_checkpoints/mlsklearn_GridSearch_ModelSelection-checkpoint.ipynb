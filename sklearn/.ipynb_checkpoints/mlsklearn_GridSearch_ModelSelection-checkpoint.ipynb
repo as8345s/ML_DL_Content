{
 "cells": [
  {
   "cell_type": "markdown",
   "id": "4a366855-ec3e-4af0-b3d2-48979f0d8470",
   "metadata": {},
   "source": [
    "<h1>Grid Search und Model Selection</h1>"
   ]
  },
  {
   "cell_type": "markdown",
   "id": "ff984d4d-e799-44cb-bf1b-b5cc702b3b6f",
   "metadata": {},
   "source": [
    "Bei einem gegebenen Problem, wie zum Beispiel das Klassifizieren von Zahlen in einer 8x8 Matrix, gibt es viele Parameter, die das Model verbessern können.\n",
    "\n",
    "Alle möglichen Parameter auszuprobieren, indem die einzelnen Parameter nach jedem Training und dem Testen geändert werden, dauert zu lange. \n",
    "\n",
    "Grid Search ist eine Methode die linear Parameter in das Model einsetzt und dann Trainiert. <br>\n",
    "Das Finden der optimalen Parameter heißt Hyperparameter Tuning. "
   ]
  },
  {
   "cell_type": "markdown",
   "id": "1eab8eed-710e-46b4-8e82-69d3397fa22a",
   "metadata": {},
   "source": [
    "<i>Abb1:</i> Mögliche Parameter von SVM (Klassifizierung)\n",
    "\n",
    "<img src=\"./files_data/img/sklearn_Gridsearch_notebook_1.PNG\" width=1050 hight=850>"
   ]
  },
  {
   "cell_type": "markdown",
   "id": "8aa91ee0-2457-4a5c-9ec1-fbab172273ce",
   "metadata": {},
   "source": [
    "Wenn nur der Parameter C genutzt wird, ergeben sich 3 Möglichkeiten bei drei Zahlen. <br>\n",
    "Nimmt man noch den Kernel hinzu, sind es schnell 12 Möglichkeiten. \n",
    "\n",
    "Je mehr man ausprobieren kann, desto höher die möglichen Kombinationen.\n",
    "\n",
    "Schon als Mensch kann es dauern, 12 verschiedene Kombinationen zu testen, wenn man es nicht in einer Schleife macht. <br>"
   ]
  },
  {
   "cell_type": "code",
   "execution_count": 16,
   "id": "7d653036-e8ca-457a-aeed-c4ae8b9a39ba",
   "metadata": {},
   "outputs": [],
   "source": [
    "# Imports\n",
    "import pandas as pd\n",
    "\n",
    "from matplotlib import pyplot as plt\n",
    "\n",
    "from sklearn.model_selection import train_test_split\n",
    "from sklearn.datasets        import load_digits\n",
    "\n",
    "from sklearn.svm         import SVC\n",
    "from sklearn.naive_bayes import GaussianNB\n",
    "from sklearn.ensemble    import RandomForestClassifier"
   ]
  },
  {
   "cell_type": "markdown",
   "id": "a14bf492-aab7-4f1d-a099-0323b1214db7",
   "metadata": {},
   "source": [
    "Das Dataset wird geladen und in ein Dataframe überführt.\n",
    "\n",
    "Danach werden wir auf drei Modellen Grid Search anwenden, um die besten Parameter für diese Problemlösung zu finden. Dann wird geprüft, welcher dieser Modelle den höchsten Score hat."
   ]
  },
  {
   "cell_type": "code",
   "execution_count": 4,
   "id": "a0ef2431-beb4-42b6-8d89-f1727424664d",
   "metadata": {},
   "outputs": [
    {
     "data": {
      "text/plain": [
       "dict_keys(['data', 'target', 'frame', 'feature_names', 'target_names', 'images', 'DESCR'])"
      ]
     },
     "execution_count": 4,
     "metadata": {},
     "output_type": "execute_result"
    }
   ],
   "source": [
    "# Lade Daten und zeige Keys für die Details. \n",
    "dataset = load_digits()\n",
    "dataset.keys()"
   ]
  },
  {
   "cell_type": "code",
   "execution_count": 12,
   "id": "e674ea4f-8fd4-46d0-878b-39ae5130a7de",
   "metadata": {},
   "outputs": [
    {
     "data": {
      "text/plain": [
       "<matplotlib.image.AxesImage at 0x20067f62490>"
      ]
     },
     "execution_count": 12,
     "metadata": {},
     "output_type": "execute_result"
    },
    {
     "data": {
      "text/plain": [
       "<Figure size 640x480 with 0 Axes>"
      ]
     },
     "metadata": {},
     "output_type": "display_data"
    },
    {
     "data": {
      "image/png": "[encoded data removed]",
      "text/plain": [
       "<Figure size 480x480 with 1 Axes>"
      ]
     },
     "metadata": {},
     "output_type": "display_data"
    }
   ],
   "source": [
    "%matplotlib inline \n",
    "# Zeige einen Eintrag als Bild.\n",
    "\n",
    "plt.gray()\n",
    "plt.matshow(dataset.data[10].reshape(8,8))"
   ]
  },
  {
   "cell_type": "code",
   "execution_count": 29,
   "id": "74b0287e-d9c3-465f-84f2-5f6ea7bbeec1",
   "metadata": {},
   "outputs": [
    {
     "data": {
      "text/html": [
       "<div>\n",
       "<style scoped>\n",
       "    .dataframe tbody tr th:only-of-type {\n",
       "        vertical-align: middle;\n",
       "    }\n",
       "\n",
       "    .dataframe tbody tr th {\n",
       "        vertical-align: top;\n",
       "    }\n",
       "\n",
       "    .dataframe thead th {\n",
       "        text-align: right;\n",
       "    }\n",
       "</style>\n",
       "<table border=\"1\" class=\"dataframe\">\n",
       "  <thead>\n",
       "    <tr style=\"text-align: right;\">\n",
       "      <th></th>\n",
       "      <th>pixel_0_0</th>\n",
       "      <th>pixel_0_1</th>\n",
       "      <th>pixel_0_2</th>\n",
       "      <th>pixel_0_3</th>\n",
       "      <th>pixel_0_4</th>\n",
       "      <th>pixel_0_5</th>\n",
       "      <th>pixel_0_6</th>\n",
       "      <th>pixel_0_7</th>\n",
       "      <th>pixel_1_0</th>\n",
       "      <th>pixel_1_1</th>\n",
       "      <th>...</th>\n",
       "      <th>pixel_6_7</th>\n",
       "      <th>pixel_7_0</th>\n",
       "      <th>pixel_7_1</th>\n",
       "      <th>pixel_7_2</th>\n",
       "      <th>pixel_7_3</th>\n",
       "      <th>pixel_7_4</th>\n",
       "      <th>pixel_7_5</th>\n",
       "      <th>pixel_7_6</th>\n",
       "      <th>pixel_7_7</th>\n",
       "      <th>number</th>\n",
       "    </tr>\n",
       "  </thead>\n",
       "  <tbody>\n",
       "    <tr>\n",
       "      <th>0</th>\n",
       "      <td>0.0</td>\n",
       "      <td>0.0</td>\n",
       "      <td>5.0</td>\n",
       "      <td>13.0</td>\n",
       "      <td>9.0</td>\n",
       "      <td>1.0</td>\n",
       "      <td>0.0</td>\n",
       "      <td>0.0</td>\n",
       "      <td>0.0</td>\n",
       "      <td>0.0</td>\n",
       "      <td>...</td>\n",
       "      <td>0.0</td>\n",
       "      <td>0.0</td>\n",
       "      <td>0.0</td>\n",
       "      <td>6.0</td>\n",
       "      <td>13.0</td>\n",
       "      <td>10.0</td>\n",
       "      <td>0.0</td>\n",
       "      <td>0.0</td>\n",
       "      <td>0.0</td>\n",
       "      <td>0</td>\n",
       "    </tr>\n",
       "    <tr>\n",
       "      <th>1</th>\n",
       "      <td>0.0</td>\n",
       "      <td>0.0</td>\n",
       "      <td>0.0</td>\n",
       "      <td>12.0</td>\n",
       "      <td>13.0</td>\n",
       "      <td>5.0</td>\n",
       "      <td>0.0</td>\n",
       "      <td>0.0</td>\n",
       "      <td>0.0</td>\n",
       "      <td>0.0</td>\n",
       "      <td>...</td>\n",
       "      <td>0.0</td>\n",
       "      <td>0.0</td>\n",
       "      <td>0.0</td>\n",
       "      <td>0.0</td>\n",
       "      <td>11.0</td>\n",
       "      <td>16.0</td>\n",
       "      <td>10.0</td>\n",
       "      <td>0.0</td>\n",
       "      <td>0.0</td>\n",
       "      <td>1</td>\n",
       "    </tr>\n",
       "    <tr>\n",
       "      <th>2</th>\n",
       "      <td>0.0</td>\n",
       "      <td>0.0</td>\n",
       "      <td>0.0</td>\n",
       "      <td>4.0</td>\n",
       "      <td>15.0</td>\n",
       "      <td>12.0</td>\n",
       "      <td>0.0</td>\n",
       "      <td>0.0</td>\n",
       "      <td>0.0</td>\n",
       "      <td>0.0</td>\n",
       "      <td>...</td>\n",
       "      <td>0.0</td>\n",
       "      <td>0.0</td>\n",
       "      <td>0.0</td>\n",
       "      <td>0.0</td>\n",
       "      <td>3.0</td>\n",
       "      <td>11.0</td>\n",
       "      <td>16.0</td>\n",
       "      <td>9.0</td>\n",
       "      <td>0.0</td>\n",
       "      <td>2</td>\n",
       "    </tr>\n",
       "    <tr>\n",
       "      <th>3</th>\n",
       "      <td>0.0</td>\n",
       "      <td>0.0</td>\n",
       "      <td>7.0</td>\n",
       "      <td>15.0</td>\n",
       "      <td>13.0</td>\n",
       "      <td>1.0</td>\n",
       "      <td>0.0</td>\n",
       "      <td>0.0</td>\n",
       "      <td>0.0</td>\n",
       "      <td>8.0</td>\n",
       "      <td>...</td>\n",
       "      <td>0.0</td>\n",
       "      <td>0.0</td>\n",
       "      <td>0.0</td>\n",
       "      <td>7.0</td>\n",
       "      <td>13.0</td>\n",
       "      <td>13.0</td>\n",
       "      <td>9.0</td>\n",
       "      <td>0.0</td>\n",
       "      <td>0.0</td>\n",
       "      <td>3</td>\n",
       "    </tr>\n",
       "    <tr>\n",
       "      <th>4</th>\n",
       "      <td>0.0</td>\n",
       "      <td>0.0</td>\n",
       "      <td>0.0</td>\n",
       "      <td>1.0</td>\n",
       "      <td>11.0</td>\n",
       "      <td>0.0</td>\n",
       "      <td>0.0</td>\n",
       "      <td>0.0</td>\n",
       "      <td>0.0</td>\n",
       "      <td>0.0</td>\n",
       "      <td>...</td>\n",
       "      <td>0.0</td>\n",
       "      <td>0.0</td>\n",
       "      <td>0.0</td>\n",
       "      <td>0.0</td>\n",
       "      <td>2.0</td>\n",
       "      <td>16.0</td>\n",
       "      <td>4.0</td>\n",
       "      <td>0.0</td>\n",
       "      <td>0.0</td>\n",
       "      <td>4</td>\n",
       "    </tr>\n",
       "  </tbody>\n",
       "</table>\n",
       "<p>5 rows × 65 columns</p>\n",
       "</div>"
      ],
      "text/plain": [
       "   pixel_0_0  pixel_0_1  pixel_0_2  pixel_0_3  pixel_0_4  pixel_0_5  \\\n",
       "0        0.0        0.0        5.0       13.0        9.0        1.0   \n",
       "1        0.0        0.0        0.0       12.0       13.0        5.0   \n",
       "2        0.0        0.0        0.0        4.0       15.0       12.0   \n",
       "3        0.0        0.0        7.0       15.0       13.0        1.0   \n",
       "4        0.0        0.0        0.0        1.0       11.0        0.0   \n",
       "\n",
       "   pixel_0_6  pixel_0_7  pixel_1_0  pixel_1_1  ...  pixel_6_7  pixel_7_0  \\\n",
       "0        0.0        0.0        0.0        0.0  ...        0.0        0.0   \n",
       "1        0.0        0.0        0.0        0.0  ...        0.0        0.0   \n",
       "2        0.0        0.0        0.0        0.0  ...        0.0        0.0   \n",
       "3        0.0        0.0        0.0        8.0  ...        0.0        0.0   \n",
       "4        0.0        0.0        0.0        0.0  ...        0.0        0.0   \n",
       "\n",
       "   pixel_7_1  pixel_7_2  pixel_7_3  pixel_7_4  pixel_7_5  pixel_7_6  \\\n",
       "0        0.0        6.0       13.0       10.0        0.0        0.0   \n",
       "1        0.0        0.0       11.0       16.0       10.0        0.0   \n",
       "2        0.0        0.0        3.0       11.0       16.0        9.0   \n",
       "3        0.0        7.0       13.0       13.0        9.0        0.0   \n",
       "4        0.0        0.0        2.0       16.0        4.0        0.0   \n",
       "\n",
       "   pixel_7_7  number  \n",
       "0        0.0       0  \n",
       "1        0.0       1  \n",
       "2        0.0       2  \n",
       "3        0.0       3  \n",
       "4        0.0       4  \n",
       "\n",
       "[5 rows x 65 columns]"
      ]
     },
     "execution_count": 29,
     "metadata": {},
     "output_type": "execute_result"
    }
   ],
   "source": [
    "# Erstelle Dataframe \n",
    "dataset_df = pd.DataFrame(dataset.data, columns=dataset.feature_names)  # Pixelmatrix.\n",
    "target_df  = pd.DataFrame(dataset.target, columns=['number'])           # Zahl Target.\n",
    "\n",
    "dataset_df = pd.concat([dataset_df, target_df], axis='columns')         # Füge beide DataFrames zusammen. \n",
    "\n",
    "dataset_df.head()"
   ]
  },
  {
   "cell_type": "markdown",
   "id": "163a460f-b7c5-4bfe-bcff-4ed169d8115d",
   "metadata": {},
   "source": [
    "Das Anwenden von Grid Search mit Sklearn ist in wenigen Schritten erledigt und ist leicht zu überblicken.\n",
    "\n",
    "Bevor es losgeht, werden einige Features mit PCA eliminiert. "
   ]
  },
  {
   "cell_type": "code",
   "execution_count": 30,
   "id": "b158f3bc-5f60-4f21-9917-c3a1c98a410b",
   "metadata": {},
   "outputs": [],
   "source": [
    "from sklearn.decomposition   import PCA  \n",
    "pca = PCA(0.93)"
   ]
  },
  {
   "cell_type": "code",
   "execution_count": 34,
   "id": "f65ae0ef-7f34-4e45-80c0-d4ea05832cd1",
   "metadata": {},
   "outputs": [],
   "source": [
    "# Erstelle Train- und Testset und nutze dabei PCA.\n",
    "X_train, X_test, y_train, y_test = train_test_split(\n",
    "    pca.fit_transform(dataset_df.drop(['number'], axis=\"columns\")), dataset_df['number'], test_size=0.2)"
   ]
  },
  {
   "cell_type": "code",
   "execution_count": 35,
   "id": "d6e35979-c88f-444c-b144-2a7568e9c924",
   "metadata": {},
   "outputs": [
    {
     "data": {
      "text/plain": [
       "(1437, 25)"
      ]
     },
     "execution_count": 35,
     "metadata": {},
     "output_type": "execute_result"
    }
   ],
   "source": [
    "X_train.shape"
   ]
  },
  {
   "cell_type": "code",
   "execution_count": 36,
   "id": "1de877ac-5fdc-4d53-a51b-db4819e9facb",
   "metadata": {},
   "outputs": [],
   "source": [
    "# Importiere Sklearn Grid Search \n",
    "from sklearn.model_selection import GridSearchCV"
   ]
  },
  {
   "cell_type": "markdown",
   "id": "b6307ff8-394c-47fd-adb3-3adc0db25bf7",
   "metadata": {},
   "source": [
    "Grid Search wird jetzt alle Kombinationen durchgehen. "
   ]
  },
  {
   "cell_type": "code",
   "execution_count": 37,
   "id": "a7d45fcc-f233-4b6f-86c8-2bdc37314934",
   "metadata": {},
   "outputs": [
    {
     "data": {
      "text/html": [
       "<style>#sk-container-id-1 {color: black;}#sk-container-id-1 pre{padding: 0;}#sk-container-id-1 div.sk-toggleable {background-color: white;}#sk-container-id-1 label.sk-toggleable__label {cursor: pointer;display: block;width: 100%;margin-bottom: 0;padding: 0.3em;box-sizing: border-box;text-align: center;}#sk-container-id-1 label.sk-toggleable__label-arrow:before {content: \"▸\";float: left;margin-right: 0.25em;color: #696969;}#sk-container-id-1 label.sk-toggleable__label-arrow:hover:before {color: black;}#sk-container-id-1 div.sk-estimator:hover label.sk-toggleable__label-arrow:before {color: black;}#sk-container-id-1 div.sk-toggleable__content {max-height: 0;max-width: 0;overflow: hidden;text-align: left;background-color: #f0f8ff;}#sk-container-id-1 div.sk-toggleable__content pre {margin: 0.2em;color: black;border-radius: 0.25em;background-color: #f0f8ff;}#sk-container-id-1 input.sk-toggleable__control:checked~div.sk-toggleable__content {max-height: 200px;max-width: 100%;overflow: auto;}#sk-container-id-1 input.sk-toggleable__control:checked~label.sk-toggleable__label-arrow:before {content: \"▾\";}#sk-container-id-1 div.sk-estimator input.sk-toggleable__control:checked~label.sk-toggleable__label {background-color: #d4ebff;}#sk-container-id-1 div.sk-label input.sk-toggleable__control:checked~label.sk-toggleable__label {background-color: #d4ebff;}#sk-container-id-1 input.sk-hidden--visually {border: 0;clip: rect(1px 1px 1px 1px);clip: rect(1px, 1px, 1px, 1px);height: 1px;margin: -1px;overflow: hidden;padding: 0;position: absolute;width: 1px;}#sk-container-id-1 div.sk-estimator {font-family: monospace;background-color: #f0f8ff;border: 1px dotted black;border-radius: 0.25em;box-sizing: border-box;margin-bottom: 0.5em;}#sk-container-id-1 div.sk-estimator:hover {background-color: #d4ebff;}#sk-container-id-1 div.sk-parallel-item::after {content: \"\";width: 100%;border-bottom: 1px solid gray;flex-grow: 1;}#sk-container-id-1 div.sk-label:hover label.sk-toggleable__label {background-color: #d4ebff;}#sk-container-id-1 div.sk-serial::before {content: \"\";position: absolute;border-left: 1px solid gray;box-sizing: border-box;top: 0;bottom: 0;left: 50%;z-index: 0;}#sk-container-id-1 div.sk-serial {display: flex;flex-direction: column;align-items: center;background-color: white;padding-right: 0.2em;padding-left: 0.2em;position: relative;}#sk-container-id-1 div.sk-item {position: relative;z-index: 1;}#sk-container-id-1 div.sk-parallel {display: flex;align-items: stretch;justify-content: center;background-color: white;position: relative;}#sk-container-id-1 div.sk-item::before, #sk-container-id-1 div.sk-parallel-item::before {content: \"\";position: absolute;border-left: 1px solid gray;box-sizing: border-box;top: 0;bottom: 0;left: 50%;z-index: -1;}#sk-container-id-1 div.sk-parallel-item {display: flex;flex-direction: column;z-index: 1;position: relative;background-color: white;}#sk-container-id-1 div.sk-parallel-item:first-child::after {align-self: flex-end;width: 50%;}#sk-container-id-1 div.sk-parallel-item:last-child::after {align-self: flex-start;width: 50%;}#sk-container-id-1 div.sk-parallel-item:only-child::after {width: 0;}#sk-container-id-1 div.sk-dashed-wrapped {border: 1px dashed gray;margin: 0 0.4em 0.5em 0.4em;box-sizing: border-box;padding-bottom: 0.4em;background-color: white;}#sk-container-id-1 div.sk-label label {font-family: monospace;font-weight: bold;display: inline-block;line-height: 1.2em;}#sk-container-id-1 div.sk-label-container {text-align: center;}#sk-container-id-1 div.sk-container {/* jupyter's `normalize.less` sets `[hidden] { display: none; }` but bootstrap.min.css set `[hidden] { display: none !important; }` so we also need the `!important` here to be able to override the default hidden behavior on the sphinx rendered scikit-learn.org. See: https://github.com/scikit-learn/scikit-learn/issues/21755 */display: inline-block !important;position: relative;}#sk-container-id-1 div.sk-text-repr-fallback {display: none;}</style><div id=\"sk-container-id-1\" class=\"sk-top-container\"><div class=\"sk-text-repr-fallback\"><pre>GridSearchCV(cv=5, estimator=SVC(),\n",
       "             param_grid={&#x27;C&#x27;: [1, 10, 10], &#x27;degree&#x27;: [2, 3, 4, 5],\n",
       "                         &#x27;kernel&#x27;: [&#x27;rbf&#x27;, &#x27;linear&#x27;, &#x27;poly&#x27;, &#x27;sigmoid&#x27;]})</pre><b>In a Jupyter environment, please rerun this cell to show the HTML representation or trust the notebook. <br />On GitHub, the HTML representation is unable to render, please try loading this page with nbviewer.org.</b></div><div class=\"sk-container\" hidden><div class=\"sk-item sk-dashed-wrapped\"><div class=\"sk-label-container\"><div class=\"sk-label sk-toggleable\"><input class=\"sk-toggleable__control sk-hidden--visually\" id=\"sk-estimator-id-1\" type=\"checkbox\" ><label for=\"sk-estimator-id-1\" class=\"sk-toggleable__label sk-toggleable__label-arrow\">GridSearchCV</label><div class=\"sk-toggleable__content\"><pre>GridSearchCV(cv=5, estimator=SVC(),\n",
       "             param_grid={&#x27;C&#x27;: [1, 10, 10], &#x27;degree&#x27;: [2, 3, 4, 5],\n",
       "                         &#x27;kernel&#x27;: [&#x27;rbf&#x27;, &#x27;linear&#x27;, &#x27;poly&#x27;, &#x27;sigmoid&#x27;]})</pre></div></div></div><div class=\"sk-parallel\"><div class=\"sk-parallel-item\"><div class=\"sk-item\"><div class=\"sk-label-container\"><div class=\"sk-label sk-toggleable\"><input class=\"sk-toggleable__control sk-hidden--visually\" id=\"sk-estimator-id-2\" type=\"checkbox\" ><label for=\"sk-estimator-id-2\" class=\"sk-toggleable__label sk-toggleable__label-arrow\">estimator: SVC</label><div class=\"sk-toggleable__content\"><pre>SVC()</pre></div></div></div><div class=\"sk-serial\"><div class=\"sk-item\"><div class=\"sk-estimator sk-toggleable\"><input class=\"sk-toggleable__control sk-hidden--visually\" id=\"sk-estimator-id-3\" type=\"checkbox\" ><label for=\"sk-estimator-id-3\" class=\"sk-toggleable__label sk-toggleable__label-arrow\">SVC</label><div class=\"sk-toggleable__content\"><pre>SVC()</pre></div></div></div></div></div></div></div></div></div></div>"
      ],
      "text/plain": [
       "GridSearchCV(cv=5, estimator=SVC(),\n",
       "             param_grid={'C': [1, 10, 10], 'degree': [2, 3, 4, 5],\n",
       "                         'kernel': ['rbf', 'linear', 'poly', 'sigmoid']})"
      ]
     },
     "execution_count": 37,
     "metadata": {},
     "output_type": "execute_result"
    }
   ],
   "source": [
    "gsc = GridSearchCV( SVC() , { # Nach dem Model kommt das Parameter Grid.\n",
    "    'C': [1, 10, 10],\n",
    "    'kernel': ['rbf','linear', 'poly', 'sigmoid'],\n",
    "    'degree': [2, 3, 4, 5]\n",
    "}, cv=5, return_train_score=False)  # Mit Cross Validation 5\n",
    "\n",
    "gsc.fit(X_train, y_train)"
   ]
  },
  {
   "cell_type": "code",
   "execution_count": 47,
   "id": "a29797fe-33cf-46c0-a5f1-0ca85fb76515",
   "metadata": {},
   "outputs": [
    {
     "data": {
      "text/html": [
       "<div>\n",
       "<style scoped>\n",
       "    .dataframe tbody tr th:only-of-type {\n",
       "        vertical-align: middle;\n",
       "    }\n",
       "\n",
       "    .dataframe tbody tr th {\n",
       "        vertical-align: top;\n",
       "    }\n",
       "\n",
       "    .dataframe thead th {\n",
       "        text-align: right;\n",
       "    }\n",
       "</style>\n",
       "<table border=\"1\" class=\"dataframe\">\n",
       "  <thead>\n",
       "    <tr style=\"text-align: right;\">\n",
       "      <th></th>\n",
       "      <th>param_C</th>\n",
       "      <th>param_kernel</th>\n",
       "      <th>param_degree</th>\n",
       "      <th>mean_test_score</th>\n",
       "    </tr>\n",
       "  </thead>\n",
       "  <tbody>\n",
       "    <tr>\n",
       "      <th>0</th>\n",
       "      <td>1</td>\n",
       "      <td>rbf</td>\n",
       "      <td>2</td>\n",
       "      <td>0.983297</td>\n",
       "    </tr>\n",
       "    <tr>\n",
       "      <th>1</th>\n",
       "      <td>1</td>\n",
       "      <td>linear</td>\n",
       "      <td>2</td>\n",
       "      <td>0.970069</td>\n",
       "    </tr>\n",
       "    <tr>\n",
       "      <th>2</th>\n",
       "      <td>1</td>\n",
       "      <td>poly</td>\n",
       "      <td>2</td>\n",
       "      <td>0.982607</td>\n",
       "    </tr>\n",
       "    <tr>\n",
       "      <th>3</th>\n",
       "      <td>1</td>\n",
       "      <td>sigmoid</td>\n",
       "      <td>2</td>\n",
       "      <td>0.929012</td>\n",
       "    </tr>\n",
       "    <tr>\n",
       "      <th>4</th>\n",
       "      <td>1</td>\n",
       "      <td>rbf</td>\n",
       "      <td>3</td>\n",
       "      <td>0.983297</td>\n",
       "    </tr>\n",
       "    <tr>\n",
       "      <th>5</th>\n",
       "      <td>1</td>\n",
       "      <td>linear</td>\n",
       "      <td>3</td>\n",
       "      <td>0.970069</td>\n",
       "    </tr>\n",
       "    <tr>\n",
       "      <th>6</th>\n",
       "      <td>1</td>\n",
       "      <td>poly</td>\n",
       "      <td>3</td>\n",
       "      <td>0.981209</td>\n",
       "    </tr>\n",
       "    <tr>\n",
       "      <th>7</th>\n",
       "      <td>1</td>\n",
       "      <td>sigmoid</td>\n",
       "      <td>3</td>\n",
       "      <td>0.929012</td>\n",
       "    </tr>\n",
       "    <tr>\n",
       "      <th>8</th>\n",
       "      <td>1</td>\n",
       "      <td>rbf</td>\n",
       "      <td>4</td>\n",
       "      <td>0.983297</td>\n",
       "    </tr>\n",
       "    <tr>\n",
       "      <th>9</th>\n",
       "      <td>1</td>\n",
       "      <td>linear</td>\n",
       "      <td>4</td>\n",
       "      <td>0.970069</td>\n",
       "    </tr>\n",
       "    <tr>\n",
       "      <th>10</th>\n",
       "      <td>1</td>\n",
       "      <td>poly</td>\n",
       "      <td>4</td>\n",
       "      <td>0.955471</td>\n",
       "    </tr>\n",
       "    <tr>\n",
       "      <th>11</th>\n",
       "      <td>1</td>\n",
       "      <td>sigmoid</td>\n",
       "      <td>4</td>\n",
       "      <td>0.929012</td>\n",
       "    </tr>\n",
       "    <tr>\n",
       "      <th>12</th>\n",
       "      <td>1</td>\n",
       "      <td>rbf</td>\n",
       "      <td>5</td>\n",
       "      <td>0.983297</td>\n",
       "    </tr>\n",
       "    <tr>\n",
       "      <th>13</th>\n",
       "      <td>1</td>\n",
       "      <td>linear</td>\n",
       "      <td>5</td>\n",
       "      <td>0.970069</td>\n",
       "    </tr>\n",
       "    <tr>\n",
       "      <th>14</th>\n",
       "      <td>1</td>\n",
       "      <td>poly</td>\n",
       "      <td>5</td>\n",
       "      <td>0.919287</td>\n",
       "    </tr>\n",
       "    <tr>\n",
       "      <th>15</th>\n",
       "      <td>1</td>\n",
       "      <td>sigmoid</td>\n",
       "      <td>5</td>\n",
       "      <td>0.929012</td>\n",
       "    </tr>\n",
       "    <tr>\n",
       "      <th>16</th>\n",
       "      <td>10</td>\n",
       "      <td>rbf</td>\n",
       "      <td>2</td>\n",
       "      <td>0.986082</td>\n",
       "    </tr>\n",
       "    <tr>\n",
       "      <th>17</th>\n",
       "      <td>10</td>\n",
       "      <td>linear</td>\n",
       "      <td>2</td>\n",
       "      <td>0.970069</td>\n",
       "    </tr>\n",
       "    <tr>\n",
       "      <th>18</th>\n",
       "      <td>10</td>\n",
       "      <td>poly</td>\n",
       "      <td>2</td>\n",
       "      <td>0.986774</td>\n",
       "    </tr>\n",
       "    <tr>\n",
       "      <th>19</th>\n",
       "      <td>10</td>\n",
       "      <td>sigmoid</td>\n",
       "      <td>2</td>\n",
       "      <td>0.897699</td>\n",
       "    </tr>\n",
       "    <tr>\n",
       "      <th>20</th>\n",
       "      <td>10</td>\n",
       "      <td>rbf</td>\n",
       "      <td>3</td>\n",
       "      <td>0.986082</td>\n",
       "    </tr>\n",
       "    <tr>\n",
       "      <th>21</th>\n",
       "      <td>10</td>\n",
       "      <td>linear</td>\n",
       "      <td>3</td>\n",
       "      <td>0.970069</td>\n",
       "    </tr>\n",
       "    <tr>\n",
       "      <th>22</th>\n",
       "      <td>10</td>\n",
       "      <td>poly</td>\n",
       "      <td>3</td>\n",
       "      <td>0.989559</td>\n",
       "    </tr>\n",
       "    <tr>\n",
       "      <th>23</th>\n",
       "      <td>10</td>\n",
       "      <td>sigmoid</td>\n",
       "      <td>3</td>\n",
       "      <td>0.897699</td>\n",
       "    </tr>\n",
       "    <tr>\n",
       "      <th>24</th>\n",
       "      <td>10</td>\n",
       "      <td>rbf</td>\n",
       "      <td>4</td>\n",
       "      <td>0.986082</td>\n",
       "    </tr>\n",
       "    <tr>\n",
       "      <th>25</th>\n",
       "      <td>10</td>\n",
       "      <td>linear</td>\n",
       "      <td>4</td>\n",
       "      <td>0.970069</td>\n",
       "    </tr>\n",
       "    <tr>\n",
       "      <th>26</th>\n",
       "      <td>10</td>\n",
       "      <td>poly</td>\n",
       "      <td>4</td>\n",
       "      <td>0.975644</td>\n",
       "    </tr>\n",
       "    <tr>\n",
       "      <th>27</th>\n",
       "      <td>10</td>\n",
       "      <td>sigmoid</td>\n",
       "      <td>4</td>\n",
       "      <td>0.897699</td>\n",
       "    </tr>\n",
       "    <tr>\n",
       "      <th>28</th>\n",
       "      <td>10</td>\n",
       "      <td>rbf</td>\n",
       "      <td>5</td>\n",
       "      <td>0.986082</td>\n",
       "    </tr>\n",
       "    <tr>\n",
       "      <th>29</th>\n",
       "      <td>10</td>\n",
       "      <td>linear</td>\n",
       "      <td>5</td>\n",
       "      <td>0.970069</td>\n",
       "    </tr>\n",
       "    <tr>\n",
       "      <th>30</th>\n",
       "      <td>10</td>\n",
       "      <td>poly</td>\n",
       "      <td>5</td>\n",
       "      <td>0.958950</td>\n",
       "    </tr>\n",
       "    <tr>\n",
       "      <th>31</th>\n",
       "      <td>10</td>\n",
       "      <td>sigmoid</td>\n",
       "      <td>5</td>\n",
       "      <td>0.897699</td>\n",
       "    </tr>\n",
       "    <tr>\n",
       "      <th>32</th>\n",
       "      <td>10</td>\n",
       "      <td>rbf</td>\n",
       "      <td>2</td>\n",
       "      <td>0.986082</td>\n",
       "    </tr>\n",
       "    <tr>\n",
       "      <th>33</th>\n",
       "      <td>10</td>\n",
       "      <td>linear</td>\n",
       "      <td>2</td>\n",
       "      <td>0.970069</td>\n",
       "    </tr>\n",
       "    <tr>\n",
       "      <th>34</th>\n",
       "      <td>10</td>\n",
       "      <td>poly</td>\n",
       "      <td>2</td>\n",
       "      <td>0.986774</td>\n",
       "    </tr>\n",
       "    <tr>\n",
       "      <th>35</th>\n",
       "      <td>10</td>\n",
       "      <td>sigmoid</td>\n",
       "      <td>2</td>\n",
       "      <td>0.897699</td>\n",
       "    </tr>\n",
       "    <tr>\n",
       "      <th>36</th>\n",
       "      <td>10</td>\n",
       "      <td>rbf</td>\n",
       "      <td>3</td>\n",
       "      <td>0.986082</td>\n",
       "    </tr>\n",
       "    <tr>\n",
       "      <th>37</th>\n",
       "      <td>10</td>\n",
       "      <td>linear</td>\n",
       "      <td>3</td>\n",
       "      <td>0.970069</td>\n",
       "    </tr>\n",
       "    <tr>\n",
       "      <th>38</th>\n",
       "      <td>10</td>\n",
       "      <td>poly</td>\n",
       "      <td>3</td>\n",
       "      <td>0.989559</td>\n",
       "    </tr>\n",
       "    <tr>\n",
       "      <th>39</th>\n",
       "      <td>10</td>\n",
       "      <td>sigmoid</td>\n",
       "      <td>3</td>\n",
       "      <td>0.897699</td>\n",
       "    </tr>\n",
       "    <tr>\n",
       "      <th>40</th>\n",
       "      <td>10</td>\n",
       "      <td>rbf</td>\n",
       "      <td>4</td>\n",
       "      <td>0.986082</td>\n",
       "    </tr>\n",
       "    <tr>\n",
       "      <th>41</th>\n",
       "      <td>10</td>\n",
       "      <td>linear</td>\n",
       "      <td>4</td>\n",
       "      <td>0.970069</td>\n",
       "    </tr>\n",
       "    <tr>\n",
       "      <th>42</th>\n",
       "      <td>10</td>\n",
       "      <td>poly</td>\n",
       "      <td>4</td>\n",
       "      <td>0.975644</td>\n",
       "    </tr>\n",
       "    <tr>\n",
       "      <th>43</th>\n",
       "      <td>10</td>\n",
       "      <td>sigmoid</td>\n",
       "      <td>4</td>\n",
       "      <td>0.897699</td>\n",
       "    </tr>\n",
       "    <tr>\n",
       "      <th>44</th>\n",
       "      <td>10</td>\n",
       "      <td>rbf</td>\n",
       "      <td>5</td>\n",
       "      <td>0.986082</td>\n",
       "    </tr>\n",
       "    <tr>\n",
       "      <th>45</th>\n",
       "      <td>10</td>\n",
       "      <td>linear</td>\n",
       "      <td>5</td>\n",
       "      <td>0.970069</td>\n",
       "    </tr>\n",
       "    <tr>\n",
       "      <th>46</th>\n",
       "      <td>10</td>\n",
       "      <td>poly</td>\n",
       "      <td>5</td>\n",
       "      <td>0.958950</td>\n",
       "    </tr>\n",
       "    <tr>\n",
       "      <th>47</th>\n",
       "      <td>10</td>\n",
       "      <td>sigmoid</td>\n",
       "      <td>5</td>\n",
       "      <td>0.897699</td>\n",
       "    </tr>\n",
       "  </tbody>\n",
       "</table>\n",
       "</div>"
      ],
      "text/plain": [
       "   param_C param_kernel param_degree  mean_test_score\n",
       "0        1          rbf            2         0.983297\n",
       "1        1       linear            2         0.970069\n",
       "2        1         poly            2         0.982607\n",
       "3        1      sigmoid            2         0.929012\n",
       "4        1          rbf            3         0.983297\n",
       "5        1       linear            3         0.970069\n",
       "6        1         poly            3         0.981209\n",
       "7        1      sigmoid            3         0.929012\n",
       "8        1          rbf            4         0.983297\n",
       "9        1       linear            4         0.970069\n",
       "10       1         poly            4         0.955471\n",
       "11       1      sigmoid            4         0.929012\n",
       "12       1          rbf            5         0.983297\n",
       "13       1       linear            5         0.970069\n",
       "14       1         poly            5         0.919287\n",
       "15       1      sigmoid            5         0.929012\n",
       "16      10          rbf            2         0.986082\n",
       "17      10       linear            2         0.970069\n",
       "18      10         poly            2         0.986774\n",
       "19      10      sigmoid            2         0.897699\n",
       "20      10          rbf            3         0.986082\n",
       "21      10       linear            3         0.970069\n",
       "22      10         poly            3         0.989559\n",
       "23      10      sigmoid            3         0.897699\n",
       "24      10          rbf            4         0.986082\n",
       "25      10       linear            4         0.970069\n",
       "26      10         poly            4         0.975644\n",
       "27      10      sigmoid            4         0.897699\n",
       "28      10          rbf            5         0.986082\n",
       "29      10       linear            5         0.970069\n",
       "30      10         poly            5         0.958950\n",
       "31      10      sigmoid            5         0.897699\n",
       "32      10          rbf            2         0.986082\n",
       "33      10       linear            2         0.970069\n",
       "34      10         poly            2         0.986774\n",
       "35      10      sigmoid            2         0.897699\n",
       "36      10          rbf            3         0.986082\n",
       "37      10       linear            3         0.970069\n",
       "38      10         poly            3         0.989559\n",
       "39      10      sigmoid            3         0.897699\n",
       "40      10          rbf            4         0.986082\n",
       "41      10       linear            4         0.970069\n",
       "42      10         poly            4         0.975644\n",
       "43      10      sigmoid            4         0.897699\n",
       "44      10          rbf            5         0.986082\n",
       "45      10       linear            5         0.970069\n",
       "46      10         poly            5         0.958950\n",
       "47      10      sigmoid            5         0.897699"
      ]
     },
     "execution_count": 47,
     "metadata": {},
     "output_type": "execute_result"
    }
   ],
   "source": [
    "# Zeige Ergebnis\n",
    "\n",
    "# res = pd.DataFrame(gsc.cv_results_)  # Ganze Tabelle.\n",
    "res = pd.DataFrame(gsc.cv_results_)\n",
    "res[ ['param_C', 'param_kernel', 'param_degree', 'mean_test_score'] ] "
   ]
  },
  {
   "cell_type": "markdown",
   "id": "e030622f-24ca-40e5-931e-6b9a65f856fd",
   "metadata": {},
   "source": [
    "Man sieht welche Parameter welchen Score gebracht haben, und wie viele Kombinationen es gab, wenn dies nicht vorher ausgerechnet wurde. "
   ]
  },
  {
   "cell_type": "code",
   "execution_count": 48,
   "id": "c6174ef2-141a-49d6-9103-4eec20fe2dbc",
   "metadata": {
    "collapsed": true,
    "jupyter": {
     "outputs_hidden": true
    }
   },
   "outputs": [
    {
     "data": {
      "text/plain": [
       "['__abstractmethods__',\n",
       " '__annotations__',\n",
       " '__class__',\n",
       " '__delattr__',\n",
       " '__dict__',\n",
       " '__dir__',\n",
       " '__doc__',\n",
       " '__eq__',\n",
       " '__format__',\n",
       " '__ge__',\n",
       " '__getattribute__',\n",
       " '__getstate__',\n",
       " '__gt__',\n",
       " '__hash__',\n",
       " '__init__',\n",
       " '__init_subclass__',\n",
       " '__le__',\n",
       " '__lt__',\n",
       " '__module__',\n",
       " '__ne__',\n",
       " '__new__',\n",
       " '__reduce__',\n",
       " '__reduce_ex__',\n",
       " '__repr__',\n",
       " '__setattr__',\n",
       " '__setstate__',\n",
       " '__sizeof__',\n",
       " '__sklearn_clone__',\n",
       " '__str__',\n",
       " '__subclasshook__',\n",
       " '__weakref__',\n",
       " '_abc_impl',\n",
       " '_build_request_for_signature',\n",
       " '_check_feature_names',\n",
       " '_check_n_features',\n",
       " '_check_refit_for_multimetric',\n",
       " '_estimator_type',\n",
       " '_format_results',\n",
       " '_get_default_requests',\n",
       " '_get_metadata_request',\n",
       " '_get_param_names',\n",
       " '_get_tags',\n",
       " '_more_tags',\n",
       " '_parameter_constraints',\n",
       " '_repr_html_',\n",
       " '_repr_html_inner',\n",
       " '_repr_mimebundle_',\n",
       " '_required_parameters',\n",
       " '_run_search',\n",
       " '_select_best_index',\n",
       " '_validate_data',\n",
       " '_validate_params',\n",
       " 'best_estimator_',\n",
       " 'best_index_',\n",
       " 'best_params_',\n",
       " 'best_score_',\n",
       " 'classes_',\n",
       " 'cv',\n",
       " 'cv_results_',\n",
       " 'decision_function',\n",
       " 'error_score',\n",
       " 'estimator',\n",
       " 'fit',\n",
       " 'get_metadata_routing',\n",
       " 'get_params',\n",
       " 'inverse_transform',\n",
       " 'multimetric_',\n",
       " 'n_features_in_',\n",
       " 'n_jobs',\n",
       " 'n_splits_',\n",
       " 'param_grid',\n",
       " 'pre_dispatch',\n",
       " 'predict',\n",
       " 'predict_log_proba',\n",
       " 'predict_proba',\n",
       " 'refit',\n",
       " 'refit_time_',\n",
       " 'return_train_score',\n",
       " 'score',\n",
       " 'score_samples',\n",
       " 'scorer_',\n",
       " 'scoring',\n",
       " 'set_fit_request',\n",
       " 'set_params',\n",
       " 'transform',\n",
       " 'verbose']"
      ]
     },
     "execution_count": 48,
     "metadata": {},
     "output_type": "execute_result"
    }
   ],
   "source": [
    "# Zeigt was es alles gibt. \n",
    "dir(gsc)"
   ]
  },
  {
   "cell_type": "markdown",
   "id": "ead470df-0396-4e1f-a795-aec40fa5e927",
   "metadata": {},
   "source": [
    "Wir können uns direkt den besten Score und die zugehörigen Parameter anzeigen lassen."
   ]
  },
  {
   "cell_type": "code",
   "execution_count": 49,
   "id": "78384f95-55e6-4137-801e-b2a5c62757c9",
   "metadata": {},
   "outputs": [
    {
     "data": {
      "text/plain": [
       "0.989559136662795"
      ]
     },
     "execution_count": 49,
     "metadata": {},
     "output_type": "execute_result"
    }
   ],
   "source": [
    "gsc.best_score_"
   ]
  },
  {
   "cell_type": "code",
   "execution_count": 50,
   "id": "67a2c79e-3de3-4ba9-848d-d30fa9f7575c",
   "metadata": {},
   "outputs": [
    {
     "data": {
      "text/plain": [
       "{'C': 10, 'degree': 3, 'kernel': 'poly'}"
      ]
     },
     "execution_count": 50,
     "metadata": {},
     "output_type": "execute_result"
    }
   ],
   "source": [
    "gsc.best_params_"
   ]
  },
  {
   "cell_type": "markdown",
   "id": "7b7167d0-0803-40a7-be5a-1d877141f286",
   "metadata": {},
   "source": [
    "Wenn durch die Parameter die möglichen Kombinationen steigen, kann es durch die begrenzte Rechenkapazität lange dauern. <br>\n",
    "Wenn zum Beispiel mehr als 50.000 Kombinationen anfallen...\n",
    "\n",
    "Für dieses Problem gibt es auch eine Lösung von Sklearn => Random GridSearchCV\n",
    "\n",
    "Bei Random GridSearchCV werden nicht linear alle Kombinationen ausprobiert, sondern zufällige. Dabei kann man die Anzhal der Iterationen einstellen."
   ]
  },
  {
   "cell_type": "code",
   "execution_count": 54,
   "id": "d15d44b1-b0b6-4af1-bfac-2d016e26dd17",
   "metadata": {},
   "outputs": [],
   "source": [
    "# Random GridSearchCV\n",
    "from sklearn.model_selection import RandomizedSearchCV "
   ]
  },
  {
   "cell_type": "code",
   "execution_count": 56,
   "id": "8b57148b-97fa-45f8-8230-3fb0b9c62e8c",
   "metadata": {},
   "outputs": [
    {
     "data": {
      "text/html": [
       "<style>#sk-container-id-2 {color: black;}#sk-container-id-2 pre{padding: 0;}#sk-container-id-2 div.sk-toggleable {background-color: white;}#sk-container-id-2 label.sk-toggleable__label {cursor: pointer;display: block;width: 100%;margin-bottom: 0;padding: 0.3em;box-sizing: border-box;text-align: center;}#sk-container-id-2 label.sk-toggleable__label-arrow:before {content: \"▸\";float: left;margin-right: 0.25em;color: #696969;}#sk-container-id-2 label.sk-toggleable__label-arrow:hover:before {color: black;}#sk-container-id-2 div.sk-estimator:hover label.sk-toggleable__label-arrow:before {color: black;}#sk-container-id-2 div.sk-toggleable__content {max-height: 0;max-width: 0;overflow: hidden;text-align: left;background-color: #f0f8ff;}#sk-container-id-2 div.sk-toggleable__content pre {margin: 0.2em;color: black;border-radius: 0.25em;background-color: #f0f8ff;}#sk-container-id-2 input.sk-toggleable__control:checked~div.sk-toggleable__content {max-height: 200px;max-width: 100%;overflow: auto;}#sk-container-id-2 input.sk-toggleable__control:checked~label.sk-toggleable__label-arrow:before {content: \"▾\";}#sk-container-id-2 div.sk-estimator input.sk-toggleable__control:checked~label.sk-toggleable__label {background-color: #d4ebff;}#sk-container-id-2 div.sk-label input.sk-toggleable__control:checked~label.sk-toggleable__label {background-color: #d4ebff;}#sk-container-id-2 input.sk-hidden--visually {border: 0;clip: rect(1px 1px 1px 1px);clip: rect(1px, 1px, 1px, 1px);height: 1px;margin: -1px;overflow: hidden;padding: 0;position: absolute;width: 1px;}#sk-container-id-2 div.sk-estimator {font-family: monospace;background-color: #f0f8ff;border: 1px dotted black;border-radius: 0.25em;box-sizing: border-box;margin-bottom: 0.5em;}#sk-container-id-2 div.sk-estimator:hover {background-color: #d4ebff;}#sk-container-id-2 div.sk-parallel-item::after {content: \"\";width: 100%;border-bottom: 1px solid gray;flex-grow: 1;}#sk-container-id-2 div.sk-label:hover label.sk-toggleable__label {background-color: #d4ebff;}#sk-container-id-2 div.sk-serial::before {content: \"\";position: absolute;border-left: 1px solid gray;box-sizing: border-box;top: 0;bottom: 0;left: 50%;z-index: 0;}#sk-container-id-2 div.sk-serial {display: flex;flex-direction: column;align-items: center;background-color: white;padding-right: 0.2em;padding-left: 0.2em;position: relative;}#sk-container-id-2 div.sk-item {position: relative;z-index: 1;}#sk-container-id-2 div.sk-parallel {display: flex;align-items: stretch;justify-content: center;background-color: white;position: relative;}#sk-container-id-2 div.sk-item::before, #sk-container-id-2 div.sk-parallel-item::before {content: \"\";position: absolute;border-left: 1px solid gray;box-sizing: border-box;top: 0;bottom: 0;left: 50%;z-index: -1;}#sk-container-id-2 div.sk-parallel-item {display: flex;flex-direction: column;z-index: 1;position: relative;background-color: white;}#sk-container-id-2 div.sk-parallel-item:first-child::after {align-self: flex-end;width: 50%;}#sk-container-id-2 div.sk-parallel-item:last-child::after {align-self: flex-start;width: 50%;}#sk-container-id-2 div.sk-parallel-item:only-child::after {width: 0;}#sk-container-id-2 div.sk-dashed-wrapped {border: 1px dashed gray;margin: 0 0.4em 0.5em 0.4em;box-sizing: border-box;padding-bottom: 0.4em;background-color: white;}#sk-container-id-2 div.sk-label label {font-family: monospace;font-weight: bold;display: inline-block;line-height: 1.2em;}#sk-container-id-2 div.sk-label-container {text-align: center;}#sk-container-id-2 div.sk-container {/* jupyter's `normalize.less` sets `[hidden] { display: none; }` but bootstrap.min.css set `[hidden] { display: none !important; }` so we also need the `!important` here to be able to override the default hidden behavior on the sphinx rendered scikit-learn.org. See: https://github.com/scikit-learn/scikit-learn/issues/21755 */display: inline-block !important;position: relative;}#sk-container-id-2 div.sk-text-repr-fallback {display: none;}</style><div id=\"sk-container-id-2\" class=\"sk-top-container\"><div class=\"sk-text-repr-fallback\"><pre>RandomizedSearchCV(cv=5, estimator=SVC(), n_iter=20,\n",
       "                   param_distributions={&#x27;C&#x27;: [1, 10, 10],\n",
       "                                        &#x27;degree&#x27;: [2, 3, 4, 5],\n",
       "                                        &#x27;kernel&#x27;: [&#x27;rbf&#x27;, &#x27;linear&#x27;, &#x27;poly&#x27;,\n",
       "                                                   &#x27;sigmoid&#x27;]})</pre><b>In a Jupyter environment, please rerun this cell to show the HTML representation or trust the notebook. <br />On GitHub, the HTML representation is unable to render, please try loading this page with nbviewer.org.</b></div><div class=\"sk-container\" hidden><div class=\"sk-item sk-dashed-wrapped\"><div class=\"sk-label-container\"><div class=\"sk-label sk-toggleable\"><input class=\"sk-toggleable__control sk-hidden--visually\" id=\"sk-estimator-id-4\" type=\"checkbox\" ><label for=\"sk-estimator-id-4\" class=\"sk-toggleable__label sk-toggleable__label-arrow\">RandomizedSearchCV</label><div class=\"sk-toggleable__content\"><pre>RandomizedSearchCV(cv=5, estimator=SVC(), n_iter=20,\n",
       "                   param_distributions={&#x27;C&#x27;: [1, 10, 10],\n",
       "                                        &#x27;degree&#x27;: [2, 3, 4, 5],\n",
       "                                        &#x27;kernel&#x27;: [&#x27;rbf&#x27;, &#x27;linear&#x27;, &#x27;poly&#x27;,\n",
       "                                                   &#x27;sigmoid&#x27;]})</pre></div></div></div><div class=\"sk-parallel\"><div class=\"sk-parallel-item\"><div class=\"sk-item\"><div class=\"sk-label-container\"><div class=\"sk-label sk-toggleable\"><input class=\"sk-toggleable__control sk-hidden--visually\" id=\"sk-estimator-id-5\" type=\"checkbox\" ><label for=\"sk-estimator-id-5\" class=\"sk-toggleable__label sk-toggleable__label-arrow\">estimator: SVC</label><div class=\"sk-toggleable__content\"><pre>SVC()</pre></div></div></div><div class=\"sk-serial\"><div class=\"sk-item\"><div class=\"sk-estimator sk-toggleable\"><input class=\"sk-toggleable__control sk-hidden--visually\" id=\"sk-estimator-id-6\" type=\"checkbox\" ><label for=\"sk-estimator-id-6\" class=\"sk-toggleable__label sk-toggleable__label-arrow\">SVC</label><div class=\"sk-toggleable__content\"><pre>SVC()</pre></div></div></div></div></div></div></div></div></div></div>"
      ],
      "text/plain": [
       "RandomizedSearchCV(cv=5, estimator=SVC(), n_iter=20,\n",
       "                   param_distributions={'C': [1, 10, 10],\n",
       "                                        'degree': [2, 3, 4, 5],\n",
       "                                        'kernel': ['rbf', 'linear', 'poly',\n",
       "                                                   'sigmoid']})"
      ]
     },
     "execution_count": 56,
     "metadata": {},
     "output_type": "execute_result"
    }
   ],
   "source": [
    "# Gleicher Aufbau, was die Verwendung vereinfacht. \n",
    "rdm_gridCV = RandomizedSearchCV( SVC() , { # Nach dem Model kommt das Parameter Grid.\n",
    "    'C': [1, 10, 10],\n",
    "    'kernel': ['rbf','linear', 'poly', 'sigmoid'],\n",
    "    'degree': [2, 3, 4, 5]\n",
    "}, cv=5, return_train_score=False, n_iter=20)  # Mit Cross Validation 5 und 20 Iterationen.\n",
    "\n",
    "rdm_gridCV.fit(X_train, y_train)"
   ]
  },
  {
   "cell_type": "markdown",
   "id": "70ef0372-ac09-4c19-bfa4-c1205f335bd5",
   "metadata": {},
   "source": [
    "Genau wie oben, kann das Ergebnis einfach in ein DataFrame gepackt werden."
   ]
  },
  {
   "cell_type": "code",
   "execution_count": 57,
   "id": "98c14672-bc28-4c1a-b9b8-4d4f35cd3434",
   "metadata": {},
   "outputs": [
    {
     "data": {
      "text/html": [
       "<div>\n",
       "<style scoped>\n",
       "    .dataframe tbody tr th:only-of-type {\n",
       "        vertical-align: middle;\n",
       "    }\n",
       "\n",
       "    .dataframe tbody tr th {\n",
       "        vertical-align: top;\n",
       "    }\n",
       "\n",
       "    .dataframe thead th {\n",
       "        text-align: right;\n",
       "    }\n",
       "</style>\n",
       "<table border=\"1\" class=\"dataframe\">\n",
       "  <thead>\n",
       "    <tr style=\"text-align: right;\">\n",
       "      <th></th>\n",
       "      <th>param_C</th>\n",
       "      <th>param_kernel</th>\n",
       "      <th>param_degree</th>\n",
       "      <th>mean_test_score</th>\n",
       "    </tr>\n",
       "  </thead>\n",
       "  <tbody>\n",
       "    <tr>\n",
       "      <th>0</th>\n",
       "      <td>10</td>\n",
       "      <td>poly</td>\n",
       "      <td>4</td>\n",
       "      <td>0.975644</td>\n",
       "    </tr>\n",
       "    <tr>\n",
       "      <th>1</th>\n",
       "      <td>10</td>\n",
       "      <td>sigmoid</td>\n",
       "      <td>2</td>\n",
       "      <td>0.897699</td>\n",
       "    </tr>\n",
       "    <tr>\n",
       "      <th>2</th>\n",
       "      <td>10</td>\n",
       "      <td>sigmoid</td>\n",
       "      <td>4</td>\n",
       "      <td>0.897699</td>\n",
       "    </tr>\n",
       "    <tr>\n",
       "      <th>3</th>\n",
       "      <td>10</td>\n",
       "      <td>poly</td>\n",
       "      <td>2</td>\n",
       "      <td>0.986774</td>\n",
       "    </tr>\n",
       "    <tr>\n",
       "      <th>4</th>\n",
       "      <td>10</td>\n",
       "      <td>sigmoid</td>\n",
       "      <td>3</td>\n",
       "      <td>0.897699</td>\n",
       "    </tr>\n",
       "    <tr>\n",
       "      <th>5</th>\n",
       "      <td>10</td>\n",
       "      <td>linear</td>\n",
       "      <td>5</td>\n",
       "      <td>0.970069</td>\n",
       "    </tr>\n",
       "    <tr>\n",
       "      <th>6</th>\n",
       "      <td>1</td>\n",
       "      <td>linear</td>\n",
       "      <td>3</td>\n",
       "      <td>0.970069</td>\n",
       "    </tr>\n",
       "    <tr>\n",
       "      <th>7</th>\n",
       "      <td>10</td>\n",
       "      <td>linear</td>\n",
       "      <td>3</td>\n",
       "      <td>0.970069</td>\n",
       "    </tr>\n",
       "    <tr>\n",
       "      <th>8</th>\n",
       "      <td>10</td>\n",
       "      <td>rbf</td>\n",
       "      <td>3</td>\n",
       "      <td>0.986082</td>\n",
       "    </tr>\n",
       "    <tr>\n",
       "      <th>9</th>\n",
       "      <td>10</td>\n",
       "      <td>poly</td>\n",
       "      <td>5</td>\n",
       "      <td>0.958950</td>\n",
       "    </tr>\n",
       "    <tr>\n",
       "      <th>10</th>\n",
       "      <td>10</td>\n",
       "      <td>sigmoid</td>\n",
       "      <td>5</td>\n",
       "      <td>0.897699</td>\n",
       "    </tr>\n",
       "    <tr>\n",
       "      <th>11</th>\n",
       "      <td>1</td>\n",
       "      <td>linear</td>\n",
       "      <td>5</td>\n",
       "      <td>0.970069</td>\n",
       "    </tr>\n",
       "    <tr>\n",
       "      <th>12</th>\n",
       "      <td>10</td>\n",
       "      <td>sigmoid</td>\n",
       "      <td>2</td>\n",
       "      <td>0.897699</td>\n",
       "    </tr>\n",
       "    <tr>\n",
       "      <th>13</th>\n",
       "      <td>10</td>\n",
       "      <td>rbf</td>\n",
       "      <td>2</td>\n",
       "      <td>0.986082</td>\n",
       "    </tr>\n",
       "    <tr>\n",
       "      <th>14</th>\n",
       "      <td>10</td>\n",
       "      <td>sigmoid</td>\n",
       "      <td>3</td>\n",
       "      <td>0.897699</td>\n",
       "    </tr>\n",
       "    <tr>\n",
       "      <th>15</th>\n",
       "      <td>10</td>\n",
       "      <td>linear</td>\n",
       "      <td>4</td>\n",
       "      <td>0.970069</td>\n",
       "    </tr>\n",
       "    <tr>\n",
       "      <th>16</th>\n",
       "      <td>10</td>\n",
       "      <td>rbf</td>\n",
       "      <td>4</td>\n",
       "      <td>0.986082</td>\n",
       "    </tr>\n",
       "    <tr>\n",
       "      <th>17</th>\n",
       "      <td>1</td>\n",
       "      <td>sigmoid</td>\n",
       "      <td>2</td>\n",
       "      <td>0.929012</td>\n",
       "    </tr>\n",
       "    <tr>\n",
       "      <th>18</th>\n",
       "      <td>10</td>\n",
       "      <td>poly</td>\n",
       "      <td>3</td>\n",
       "      <td>0.989559</td>\n",
       "    </tr>\n",
       "    <tr>\n",
       "      <th>19</th>\n",
       "      <td>10</td>\n",
       "      <td>poly</td>\n",
       "      <td>5</td>\n",
       "      <td>0.958950</td>\n",
       "    </tr>\n",
       "  </tbody>\n",
       "</table>\n",
       "</div>"
      ],
      "text/plain": [
       "   param_C param_kernel param_degree  mean_test_score\n",
       "0       10         poly            4         0.975644\n",
       "1       10      sigmoid            2         0.897699\n",
       "2       10      sigmoid            4         0.897699\n",
       "3       10         poly            2         0.986774\n",
       "4       10      sigmoid            3         0.897699\n",
       "5       10       linear            5         0.970069\n",
       "6        1       linear            3         0.970069\n",
       "7       10       linear            3         0.970069\n",
       "8       10          rbf            3         0.986082\n",
       "9       10         poly            5         0.958950\n",
       "10      10      sigmoid            5         0.897699\n",
       "11       1       linear            5         0.970069\n",
       "12      10      sigmoid            2         0.897699\n",
       "13      10          rbf            2         0.986082\n",
       "14      10      sigmoid            3         0.897699\n",
       "15      10       linear            4         0.970069\n",
       "16      10          rbf            4         0.986082\n",
       "17       1      sigmoid            2         0.929012\n",
       "18      10         poly            3         0.989559\n",
       "19      10         poly            5         0.958950"
      ]
     },
     "execution_count": 57,
     "metadata": {},
     "output_type": "execute_result"
    }
   ],
   "source": [
    "res = pd.DataFrame(rdm_gridCV.cv_results_)\n",
    "res[ ['param_C', 'param_kernel', 'param_degree', 'mean_test_score'] ] # 20 Zeilen, da 20 Iterationen."
   ]
  },
  {
   "cell_type": "code",
   "execution_count": 58,
   "id": "64159cf3-2894-41ef-bbaa-62bdc4dec78f",
   "metadata": {},
   "outputs": [
    {
     "data": {
      "text/plain": [
       "0.989559136662795"
      ]
     },
     "execution_count": 58,
     "metadata": {},
     "output_type": "execute_result"
    }
   ],
   "source": [
    "rdm_gridCV.best_score_"
   ]
  },
  {
   "cell_type": "code",
   "execution_count": 59,
   "id": "253fc2cf-afcc-4ead-bb10-bd9a5a17f3bb",
   "metadata": {},
   "outputs": [
    {
     "data": {
      "text/plain": [
       "{'kernel': 'poly', 'degree': 3, 'C': 10}"
      ]
     },
     "execution_count": 59,
     "metadata": {},
     "output_type": "execute_result"
    }
   ],
   "source": [
    "rdm_gridCV.best_params_"
   ]
  },
  {
   "cell_type": "markdown",
   "id": "f39cc5e2-c591-4145-bbe1-4693f486d50d",
   "metadata": {},
   "source": [
    "Jetzt geht es darum, das Model zu finden, das den höchsten Score liefert.\n",
    "\n",
    "Dafür werden zuerst die Parameter der Modelle optimiert, am Ende wird das Model, das den höchsten Score hat ausgewählt."
   ]
  },
  {
   "cell_type": "markdown",
   "id": "e5400377-c74d-4225-aed4-6a52ecb9e069",
   "metadata": {},
   "source": [
    "Man kann so vorgehen, dass die verwendeten Modelle und deren Parameter als Dict vorliegen, sodass man dann in einer Schleife bestimmte Felder setzt."
   ]
  },
  {
   "cell_type": "code",
   "execution_count": null,
   "id": "03a72b39-e9e5-4e43-924d-a3c0ed0dd754",
   "metadata": {},
   "outputs": [],
   "source": [
    "\"\"\"\n",
    "gsc = GridSearchCV( <Model wird eingesetzt> , { \n",
    "\n",
    "    <Parameter werden eingesetzt>\n",
    "    \n",
    "}, cv=5, return_train_score=False <..Sonstiges...> ) \n",
    "\n",
    "\"\"\""
   ]
  },
  {
   "cell_type": "code",
   "execution_count": 108,
   "id": "91ad8cbb-d4ec-4524-a36f-3ecdee426748",
   "metadata": {},
   "outputs": [],
   "source": [
    "# Kann gut in einer Datei abgespeichert werden. \n",
    "data_dict = {\n",
    "    'svc':{                # Um welches Model es sich handelt. \n",
    "        'model': SVC(),    # Model, das verwendet werden soll ggf. mit Startparameter.\n",
    "        'model_param':{    # Verschiedene Paramter als Dict, damit diese gemeinsam plaziert werden. \n",
    "            'C': [1,10,20],             \n",
    "            'kernel': ['rbf','linear', 'poly', 'sigmoid'],\n",
    "            'degree': [2, 3, 4, 5]\n",
    "        }\n",
    "    }\n",
    "}"
   ]
  },
  {
   "cell_type": "code",
   "execution_count": 109,
   "id": "e399d444-6b9b-4c75-829a-8a0d1be10aa4",
   "metadata": {},
   "outputs": [
    {
     "data": {
      "text/plain": [
       "dict_keys(['svc'])"
      ]
     },
     "execution_count": 109,
     "metadata": {},
     "output_type": "execute_result"
    }
   ],
   "source": [
    "data_dict.keys()"
   ]
  },
  {
   "cell_type": "code",
   "execution_count": 110,
   "id": "15a3663b-3d67-41a4-8b63-df24f9e1f5d2",
   "metadata": {},
   "outputs": [
    {
     "data": {
      "text/plain": [
       "dict_items([('svc', {'model': SVC(), 'model_param': {'C': [1, 10, 20], 'kernel': ['rbf', 'linear', 'poly', 'sigmoid'], 'degree': [2, 3, 4, 5]}})])"
      ]
     },
     "execution_count": 110,
     "metadata": {},
     "output_type": "execute_result"
    }
   ],
   "source": [
    "data_dict.items()"
   ]
  },
  {
   "cell_type": "code",
   "execution_count": 111,
   "id": "d62049d9-9826-42a1-91d3-33b2abca8df7",
   "metadata": {},
   "outputs": [
    {
     "name": "stdout",
     "output_type": "stream",
     "text": [
      "Modelname: svc  Model: SVC() Model_param: {'C': [1, 10, 20], 'kernel': ['rbf', 'linear', 'poly', 'sigmoid'], 'degree': [2, 3, 4, 5]}\n"
     ]
    }
   ],
   "source": [
    "# Dict durchgehen.:\n",
    "for model, param in data_dict.items():\n",
    "    print(f\"Modelname: {model}  Model: {param['model']} Model_param: {param['model_param']}\")"
   ]
  },
  {
   "cell_type": "code",
   "execution_count": 112,
   "id": "8e46635a-5245-412f-94ae-8c9182098620",
   "metadata": {},
   "outputs": [
    {
     "data": {
      "text/plain": [
       "[{'model_name': 'svc',\n",
       "  'best_model_score': 0.989559136662795,\n",
       "  'best_params': {'C': 10, 'degree': 3, 'kernel': 'poly'}}]"
      ]
     },
     "execution_count": 112,
     "metadata": {},
     "output_type": "execute_result"
    }
   ],
   "source": [
    "# Durchlauf mit nur einem Model.\n",
    "\n",
    "result = []\n",
    "\n",
    "for model, param in data_dict.items():\n",
    "\n",
    "    gsc = GridSearchCV( param['model'], param['model_param'], cv=5, return_train_score=False)\n",
    "    gsc.fit(X_train, y_train)\n",
    "\n",
    "    # Das kann dann später als Dataframe dargestellt werden. \n",
    "    result.append({         \n",
    "        'model_name':       model,\n",
    "        'best_model_score': gsc.best_score_,\n",
    "        'best_params':      gsc.best_params_\n",
    "    })\n",
    "result"
   ]
  },
  {
   "cell_type": "code",
   "execution_count": 84,
   "id": "45fc25c2-a930-4b53-99d6-1cd5131cca64",
   "metadata": {},
   "outputs": [
    {
     "data": {
      "text/html": [
       "<div>\n",
       "<style scoped>\n",
       "    .dataframe tbody tr th:only-of-type {\n",
       "        vertical-align: middle;\n",
       "    }\n",
       "\n",
       "    .dataframe tbody tr th {\n",
       "        vertical-align: top;\n",
       "    }\n",
       "\n",
       "    .dataframe thead th {\n",
       "        text-align: right;\n",
       "    }\n",
       "</style>\n",
       "<table border=\"1\" class=\"dataframe\">\n",
       "  <thead>\n",
       "    <tr style=\"text-align: right;\">\n",
       "      <th></th>\n",
       "      <th>model_name</th>\n",
       "      <th>best_model_score</th>\n",
       "      <th>best_params</th>\n",
       "    </tr>\n",
       "  </thead>\n",
       "  <tbody>\n",
       "    <tr>\n",
       "      <th>0</th>\n",
       "      <td>svc</td>\n",
       "      <td>0.989559</td>\n",
       "      <td>{'C': 10, 'degree': 3, 'kernel': 'poly'}</td>\n",
       "    </tr>\n",
       "  </tbody>\n",
       "</table>\n",
       "</div>"
      ],
      "text/plain": [
       "  model_name  best_model_score                               best_params\n",
       "0        svc          0.989559  {'C': 10, 'degree': 3, 'kernel': 'poly'}"
      ]
     },
     "execution_count": 84,
     "metadata": {},
     "output_type": "execute_result"
    }
   ],
   "source": [
    "pd.DataFrame(result, columns=list(result[0].keys()) ) # Oder gebe Spaltennamen manuell ein. "
   ]
  },
  {
   "cell_type": "markdown",
   "id": "e7454173-2546-43b0-a4fa-91fa6b31c6ca",
   "metadata": {},
   "source": [
    "Das wird jetzt für drei Modelle gemacht."
   ]
  },
  {
   "cell_type": "code",
   "execution_count": 115,
   "id": "ad61ab7a-4c30-4333-b3a0-d04204ef323b",
   "metadata": {},
   "outputs": [],
   "source": [
    "data_dict = {\n",
    "    'svc':{                # Um welches Model es sich handelt. \n",
    "        'model': SVC(),    # Model, das verwendet werden soll ggf. mit Startparameter.\n",
    "        'model_param':{    # Verschiedene Paramter als Dict, damit diese gemeinsam plaziert werden. \n",
    "            'C': [1,10,20],             \n",
    "            'kernel': ['rbf','linear', 'poly', 'sigmoid'],\n",
    "            'degree': [2, 3, 4, 5]\n",
    "        }\n",
    "    },\n",
    "    \n",
    "    'gaussianNB':{\n",
    "        'model': GaussianNB(),  \n",
    "        'model_param':{   \n",
    "            'var_smoothing':[1e-9, 1e-8, 1e-7]             \n",
    "        }\n",
    "    },\n",
    "    \n",
    "    'RandomForestClassifier': {\n",
    "        'model': RandomForestClassifier(),\n",
    "        'model_param': {\n",
    "            'n_estimators': [10, 25, 75, 100],\n",
    "            'criterion': ['gini', 'entropy'],\n",
    "            'bootstrap': [True, False]  \n",
    "        }\n",
    "    }\n",
    "} "
   ]
  },
  {
   "cell_type": "code",
   "execution_count": 116,
   "id": "a9ba3544-1da0-4f86-8f8b-086633604f3e",
   "metadata": {},
   "outputs": [
    {
     "data": {
      "text/plain": [
       "[{'model_name': 'svc',\n",
       "  'best_model_score': 0.989559136662795,\n",
       "  'best_params': {'C': 10, 'degree': 3, 'kernel': 'poly'}},\n",
       " {'model_name': 'gaussianNB',\n",
       "  'best_model_score': 0.9331760549748356,\n",
       "  'best_params': {'var_smoothing': 1e-09}},\n",
       " {'model_name': 'RandomForestClassifier',\n",
       "  'best_model_score': 0.9658826945412311,\n",
       "  'best_params': {'bootstrap': False,\n",
       "   'criterion': 'gini',\n",
       "   'n_estimators': 100}}]"
      ]
     },
     "execution_count": 116,
     "metadata": {},
     "output_type": "execute_result"
    }
   ],
   "source": [
    "# Durchlauf mit allen Modellen. \n",
    "\n",
    "result = []\n",
    "\n",
    "for model, param in data_dict.items():\n",
    "\n",
    "    gsc = GridSearchCV( param['model'], param['model_param'], cv=5, return_train_score=False)\n",
    "    gsc.fit(X_train, y_train)\n",
    "\n",
    "    # Das kann dann später als Dataframe dargestellt werden. \n",
    "    result.append({         \n",
    "        'model_name':       model,\n",
    "        'best_model_score': gsc.best_score_,\n",
    "        'best_params':      gsc.best_params_\n",
    "    })\n",
    "result"
   ]
  },
  {
   "cell_type": "code",
   "execution_count": 118,
   "id": "88d2c620-acd7-45c9-9823-221cf23b0841",
   "metadata": {},
   "outputs": [
    {
     "data": {
      "text/html": [
       "<div>\n",
       "<style scoped>\n",
       "    .dataframe tbody tr th:only-of-type {\n",
       "        vertical-align: middle;\n",
       "    }\n",
       "\n",
       "    .dataframe tbody tr th {\n",
       "        vertical-align: top;\n",
       "    }\n",
       "\n",
       "    .dataframe thead th {\n",
       "        text-align: right;\n",
       "    }\n",
       "</style>\n",
       "<table border=\"1\" class=\"dataframe\">\n",
       "  <thead>\n",
       "    <tr style=\"text-align: right;\">\n",
       "      <th></th>\n",
       "      <th>model_name</th>\n",
       "      <th>best_model_score</th>\n",
       "      <th>best_params</th>\n",
       "    </tr>\n",
       "  </thead>\n",
       "  <tbody>\n",
       "    <tr>\n",
       "      <th>0</th>\n",
       "      <td>svc</td>\n",
       "      <td>0.989559</td>\n",
       "      <td>{'C': 10, 'degree': 3, 'kernel': 'poly'}</td>\n",
       "    </tr>\n",
       "    <tr>\n",
       "      <th>1</th>\n",
       "      <td>gaussianNB</td>\n",
       "      <td>0.933176</td>\n",
       "      <td>{'var_smoothing': 1e-09}</td>\n",
       "    </tr>\n",
       "    <tr>\n",
       "      <th>2</th>\n",
       "      <td>RandomForestClassifier</td>\n",
       "      <td>0.965883</td>\n",
       "      <td>{'bootstrap': False, 'criterion': 'gini', 'n_e...</td>\n",
       "    </tr>\n",
       "  </tbody>\n",
       "</table>\n",
       "</div>"
      ],
      "text/plain": [
       "               model_name  best_model_score  \\\n",
       "0                     svc          0.989559   \n",
       "1              gaussianNB          0.933176   \n",
       "2  RandomForestClassifier          0.965883   \n",
       "\n",
       "                                         best_params  \n",
       "0           {'C': 10, 'degree': 3, 'kernel': 'poly'}  \n",
       "1                           {'var_smoothing': 1e-09}  \n",
       "2  {'bootstrap': False, 'criterion': 'gini', 'n_e...  "
      ]
     },
     "execution_count": 118,
     "metadata": {},
     "output_type": "execute_result"
    }
   ],
   "source": [
    "best_modelparameters_df = pd.DataFrame(result, columns=list(result[0].keys()) ) # Oder gebe Spaltennamen manuell ein. \n",
    "best_modelparameters_df"
   ]
  },
  {
   "cell_type": "code",
   "execution_count": 126,
   "id": "0bdb7b02-a8d7-4789-a622-fd9b4df7e712",
   "metadata": {},
   "outputs": [
    {
     "data": {
      "text/html": [
       "<div>\n",
       "<style scoped>\n",
       "    .dataframe tbody tr th:only-of-type {\n",
       "        vertical-align: middle;\n",
       "    }\n",
       "\n",
       "    .dataframe tbody tr th {\n",
       "        vertical-align: top;\n",
       "    }\n",
       "\n",
       "    .dataframe thead th {\n",
       "        text-align: right;\n",
       "    }\n",
       "</style>\n",
       "<table border=\"1\" class=\"dataframe\">\n",
       "  <thead>\n",
       "    <tr style=\"text-align: right;\">\n",
       "      <th></th>\n",
       "      <th>model_name</th>\n",
       "      <th>best_model_score</th>\n",
       "      <th>best_params</th>\n",
       "    </tr>\n",
       "  </thead>\n",
       "  <tbody>\n",
       "    <tr>\n",
       "      <th>0</th>\n",
       "      <td>svc</td>\n",
       "      <td>0.989559</td>\n",
       "      <td>{'C': 10, 'degree': 3, 'kernel': 'poly'}</td>\n",
       "    </tr>\n",
       "  </tbody>\n",
       "</table>\n",
       "</div>"
      ],
      "text/plain": [
       "  model_name  best_model_score                               best_params\n",
       "0        svc          0.989559  {'C': 10, 'degree': 3, 'kernel': 'poly'}"
      ]
     },
     "execution_count": 126,
     "metadata": {},
     "output_type": "execute_result"
    }
   ],
   "source": [
    "# Bei kleineren Dataframes kann man direkt ablesen.\n",
    "# Bei größeren kann man die Zeile mit dem höchsten Score herausfiltern. \n",
    "best_modelparameters_df[ best_modelparameters_df['best_model_score'] == best_modelparameters_df['best_model_score'].max()]"
   ]
  },
  {
   "cell_type": "code",
   "execution_count": null,
   "id": "80acfb3d-9f7a-4151-ab32-8ef33ade95bd",
   "metadata": {},
   "outputs": [],
   "source": []
  }
 ],
 "metadata": {
  "kernelspec": {
   "display_name": "Python 3 (ipykernel)",
   "language": "python",
   "name": "python3"
  },
  "language_info": {
   "codemirror_mode": {
    "name": "ipython",
    "version": 3
   },
   "file_extension": ".py",
   "mimetype": "text/x-python",
   "name": "python",
   "nbconvert_exporter": "python",
   "pygments_lexer": "ipython3",
   "version": "3.9.18"
  }
 },
 "nbformat": 4,
 "nbformat_minor": 5
}
