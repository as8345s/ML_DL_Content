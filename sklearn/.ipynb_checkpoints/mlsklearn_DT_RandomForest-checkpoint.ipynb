{
 "cells": [
  {
   "cell_type": "markdown",
   "id": "a98ec073-5ac5-4451-8a8d-17c9fca85282",
   "metadata": {},
   "source": [
    "<h1>Decision Tree und Random-Forest</h1>"
   ]
  },
  {
   "cell_type": "markdown",
   "id": "e53c339a-c69d-4d92-bd8f-9b7a623697d0",
   "metadata": {},
   "source": [
    "Entscheidungsbäume sind Bäume, die das Dataset aufteilen können, um daraus eine Schlussfolgerung zu ziehen."
   ]
  },
  {
   "cell_type": "markdown",
   "id": "0f05754d-5d9b-4430-bc97-06e9623cd960",
   "metadata": {},
   "source": [
    "<i>Abb1</i>: Vergleich der Datasets. Links: eine einfache Boundary reicht. Rechts: mehrere Boundaries wären nötig.\n",
    "\n",
    "<img src=\"./files_data/img/sklearn_dtrm_1.PNG\" width=700 hight=400>"
   ]
  },
  {
   "cell_type": "markdown",
   "id": "c7b04749-cdb0-4a01-8fe5-72f379ea2d0a",
   "metadata": {},
   "source": [
    "Bei einem Dataset das einfach zu überblicken ist, reicht es eine einfache Boundary zu ziehen, um diese Punkte zu klassifizieren. Dann könnte man zum Beispiel ein SVM Model nutzen, um das Problem zu lösen. \n",
    "\n",
    "Bei einem Dataset, das nicht so einfach durch eine Boundary separiert werden kann, muss es ggf. aufgeteilt werden, um mehrere Boundaries zu ziehen. Genau das machen auch die Bäume.\n",
    "\n",
    "Visualisiert  lässt sich das einfach erklären. <br>\n",
    "Für das Training und das Beispiel nutzen wir ein Dataset, wo es um Kredite geht, ob diese gewährt werden oder nicht."
   ]
  },
  {
   "cell_type": "markdown",
   "id": "8a7769ff-bc2d-480c-a63d-6e3f2624240e",
   "metadata": {},
   "source": [
    "> https://www.kaggle.com/datasets/sujithmandala/simple-loan-classification-dataset [Letzter Zugriff: 07.06.2024]\n"
   ]
  },
  {
   "cell_type": "code",
   "execution_count": null,
   "id": "ad9ae72f-eedf-4108-8b65-c43c4722e9cd",
   "metadata": {},
   "outputs": [],
   "source": []
  },
  {
   "cell_type": "code",
   "execution_count": null,
   "id": "6f217d86-f1d7-4a11-bba0-cea9c75a78f4",
   "metadata": {},
   "outputs": [],
   "source": [
    "# // A visualization will be added"
   ]
  },
  {
   "cell_type": "code",
   "execution_count": null,
   "id": "ca05fcf8-e86b-426a-ae38-a9221acc04be",
   "metadata": {},
   "outputs": [],
   "source": []
  },
  {
   "cell_type": "markdown",
   "id": "fbbf39fb-b265-4602-ab64-6849620e305f",
   "metadata": {},
   "source": [
    "Auch die Reihenfolge, wie der Baum aufgeteilt wird, spielt eine wichtige Rolle."
   ]
  },
  {
   "cell_type": "code",
   "execution_count": 52,
   "id": "ef16f947-d8a3-4d7c-8e5d-8748dc5c191e",
   "metadata": {},
   "outputs": [],
   "source": [
    "# Imports\n",
    "import pandas as pd\n",
    "\n",
    "from sklearn.preprocessing import LabelEncoder\n",
    "\n",
    "from sklearn.tree import DecisionTreeClassifier\n",
    "\n",
    "from sklearn.model_selection import train_test_split"
   ]
  },
  {
   "cell_type": "code",
   "execution_count": 53,
   "id": "ea8ae2ec-df22-49bc-9e23-55bc3c8744e5",
   "metadata": {},
   "outputs": [
    {
     "data": {
      "text/html": [
       "<div>\n",
       "<style scoped>\n",
       "    .dataframe tbody tr th:only-of-type {\n",
       "        vertical-align: middle;\n",
       "    }\n",
       "\n",
       "    .dataframe tbody tr th {\n",
       "        vertical-align: top;\n",
       "    }\n",
       "\n",
       "    .dataframe thead th {\n",
       "        text-align: right;\n",
       "    }\n",
       "</style>\n",
       "<table border=\"1\" class=\"dataframe\">\n",
       "  <thead>\n",
       "    <tr style=\"text-align: right;\">\n",
       "      <th></th>\n",
       "      <th>age</th>\n",
       "      <th>gender</th>\n",
       "      <th>occupation</th>\n",
       "      <th>education_level</th>\n",
       "      <th>marital_status</th>\n",
       "      <th>income</th>\n",
       "      <th>credit_score</th>\n",
       "      <th>loan_status</th>\n",
       "    </tr>\n",
       "  </thead>\n",
       "  <tbody>\n",
       "    <tr>\n",
       "      <th>0</th>\n",
       "      <td>32</td>\n",
       "      <td>Male</td>\n",
       "      <td>Engineer</td>\n",
       "      <td>Bachelor's</td>\n",
       "      <td>Married</td>\n",
       "      <td>85000</td>\n",
       "      <td>720</td>\n",
       "      <td>Approved</td>\n",
       "    </tr>\n",
       "    <tr>\n",
       "      <th>1</th>\n",
       "      <td>45</td>\n",
       "      <td>Female</td>\n",
       "      <td>Teacher</td>\n",
       "      <td>Master's</td>\n",
       "      <td>Single</td>\n",
       "      <td>62000</td>\n",
       "      <td>680</td>\n",
       "      <td>Approved</td>\n",
       "    </tr>\n",
       "    <tr>\n",
       "      <th>2</th>\n",
       "      <td>28</td>\n",
       "      <td>Male</td>\n",
       "      <td>Student</td>\n",
       "      <td>High School</td>\n",
       "      <td>Single</td>\n",
       "      <td>25000</td>\n",
       "      <td>590</td>\n",
       "      <td>Denied</td>\n",
       "    </tr>\n",
       "    <tr>\n",
       "      <th>3</th>\n",
       "      <td>51</td>\n",
       "      <td>Female</td>\n",
       "      <td>Manager</td>\n",
       "      <td>Bachelor's</td>\n",
       "      <td>Married</td>\n",
       "      <td>105000</td>\n",
       "      <td>780</td>\n",
       "      <td>Approved</td>\n",
       "    </tr>\n",
       "    <tr>\n",
       "      <th>4</th>\n",
       "      <td>36</td>\n",
       "      <td>Male</td>\n",
       "      <td>Accountant</td>\n",
       "      <td>Bachelor's</td>\n",
       "      <td>Married</td>\n",
       "      <td>75000</td>\n",
       "      <td>710</td>\n",
       "      <td>Approved</td>\n",
       "    </tr>\n",
       "  </tbody>\n",
       "</table>\n",
       "</div>"
      ],
      "text/plain": [
       "   age  gender  occupation education_level marital_status  income  \\\n",
       "0   32    Male    Engineer      Bachelor's        Married   85000   \n",
       "1   45  Female     Teacher        Master's         Single   62000   \n",
       "2   28    Male     Student     High School         Single   25000   \n",
       "3   51  Female     Manager      Bachelor's        Married  105000   \n",
       "4   36    Male  Accountant      Bachelor's        Married   75000   \n",
       "\n",
       "   credit_score loan_status  \n",
       "0           720    Approved  \n",
       "1           680    Approved  \n",
       "2           590      Denied  \n",
       "3           780    Approved  \n",
       "4           710    Approved  "
      ]
     },
     "execution_count": 53,
     "metadata": {},
     "output_type": "execute_result"
    }
   ],
   "source": [
    "# Erstelle Dataframe aus der CSV Datei. \n",
    "loan_df = pd.read_csv(\"./files_data/data/loanClass.zip\", compression='zip')\n",
    "loan_df.head()"
   ]
  },
  {
   "cell_type": "code",
   "execution_count": 54,
   "id": "96f22279-5b95-4603-a003-e71132548374",
   "metadata": {},
   "outputs": [
    {
     "data": {
      "text/html": [
       "<div>\n",
       "<style scoped>\n",
       "    .dataframe tbody tr th:only-of-type {\n",
       "        vertical-align: middle;\n",
       "    }\n",
       "\n",
       "    .dataframe tbody tr th {\n",
       "        vertical-align: top;\n",
       "    }\n",
       "\n",
       "    .dataframe thead th {\n",
       "        text-align: right;\n",
       "    }\n",
       "</style>\n",
       "<table border=\"1\" class=\"dataframe\">\n",
       "  <thead>\n",
       "    <tr style=\"text-align: right;\">\n",
       "      <th></th>\n",
       "      <th>age</th>\n",
       "      <th>gender</th>\n",
       "      <th>occupation</th>\n",
       "      <th>education_level</th>\n",
       "      <th>marital_status</th>\n",
       "      <th>income</th>\n",
       "      <th>credit_score</th>\n",
       "      <th>loan_status</th>\n",
       "    </tr>\n",
       "  </thead>\n",
       "  <tbody>\n",
       "    <tr>\n",
       "      <th>0</th>\n",
       "      <td>32</td>\n",
       "      <td>Male</td>\n",
       "      <td>Engineer</td>\n",
       "      <td>Bachelor's</td>\n",
       "      <td>Married</td>\n",
       "      <td>85000</td>\n",
       "      <td>720</td>\n",
       "      <td>Approved</td>\n",
       "    </tr>\n",
       "    <tr>\n",
       "      <th>1</th>\n",
       "      <td>45</td>\n",
       "      <td>Female</td>\n",
       "      <td>Teacher</td>\n",
       "      <td>Master's</td>\n",
       "      <td>Single</td>\n",
       "      <td>62000</td>\n",
       "      <td>680</td>\n",
       "      <td>Approved</td>\n",
       "    </tr>\n",
       "    <tr>\n",
       "      <th>3</th>\n",
       "      <td>51</td>\n",
       "      <td>Female</td>\n",
       "      <td>Manager</td>\n",
       "      <td>Bachelor's</td>\n",
       "      <td>Married</td>\n",
       "      <td>105000</td>\n",
       "      <td>780</td>\n",
       "      <td>Approved</td>\n",
       "    </tr>\n",
       "    <tr>\n",
       "      <th>4</th>\n",
       "      <td>36</td>\n",
       "      <td>Male</td>\n",
       "      <td>Accountant</td>\n",
       "      <td>Bachelor's</td>\n",
       "      <td>Married</td>\n",
       "      <td>75000</td>\n",
       "      <td>710</td>\n",
       "      <td>Approved</td>\n",
       "    </tr>\n",
       "    <tr>\n",
       "      <th>6</th>\n",
       "      <td>42</td>\n",
       "      <td>Male</td>\n",
       "      <td>Lawyer</td>\n",
       "      <td>Doctoral</td>\n",
       "      <td>Married</td>\n",
       "      <td>120000</td>\n",
       "      <td>790</td>\n",
       "      <td>Approved</td>\n",
       "    </tr>\n",
       "  </tbody>\n",
       "</table>\n",
       "</div>"
      ],
      "text/plain": [
       "   age  gender  occupation education_level marital_status  income  \\\n",
       "0   32    Male    Engineer      Bachelor's        Married   85000   \n",
       "1   45  Female     Teacher        Master's         Single   62000   \n",
       "3   51  Female     Manager      Bachelor's        Married  105000   \n",
       "4   36    Male  Accountant      Bachelor's        Married   75000   \n",
       "6   42    Male      Lawyer        Doctoral        Married  120000   \n",
       "\n",
       "   credit_score loan_status  \n",
       "0           720    Approved  \n",
       "1           680    Approved  \n",
       "3           780    Approved  \n",
       "4           710    Approved  \n",
       "6           790    Approved  "
      ]
     },
     "execution_count": 54,
     "metadata": {},
     "output_type": "execute_result"
    }
   ],
   "source": [
    "# Zeige, welche Features dafür sorge, dass der Kredit genehmigt wird. \n",
    "loan_df[loan_df['loan_status'] == 'Approved' ].head()"
   ]
  },
  {
   "cell_type": "code",
   "execution_count": 55,
   "id": "007baf73-fb12-4b7e-a0c8-f35b7db89e8c",
   "metadata": {},
   "outputs": [
    {
     "data": {
      "text/plain": [
       "age                45\n",
       "gender             45\n",
       "occupation         45\n",
       "education_level    45\n",
       "marital_status     45\n",
       "income             45\n",
       "credit_score       45\n",
       "loan_status        45\n",
       "dtype: int64"
      ]
     },
     "execution_count": 55,
     "metadata": {},
     "output_type": "execute_result"
    }
   ],
   "source": [
    "loan_df[loan_df['loan_status'] == 'Approved' ].count()"
   ]
  },
  {
   "cell_type": "code",
   "execution_count": 56,
   "id": "00f7f452-1efe-421c-9bf9-e99a8340967e",
   "metadata": {},
   "outputs": [
    {
     "data": {
      "text/plain": [
       "age                16\n",
       "gender             16\n",
       "occupation         16\n",
       "education_level    16\n",
       "marital_status     16\n",
       "income             16\n",
       "credit_score       16\n",
       "loan_status        16\n",
       "dtype: int64"
      ]
     },
     "execution_count": 56,
     "metadata": {},
     "output_type": "execute_result"
    }
   ],
   "source": [
    "loan_df[loan_df['loan_status'] == 'Denied' ].count()"
   ]
  },
  {
   "cell_type": "markdown",
   "id": "ab895217-78bf-4c3f-9bf9-16570f36082c",
   "metadata": {},
   "source": [
    "Ohne zu sehr ins Detail zu gehen, geht es weiter. Die Features, die Strings enthalten, müssen erst dekodiert werden."
   ]
  },
  {
   "cell_type": "code",
   "execution_count": 57,
   "id": "2af55a47-038b-45b7-82a5-e86bca8a9b69",
   "metadata": {},
   "outputs": [
    {
     "data": {
      "text/plain": [
       "<bound method Series.unique of 0         Engineer\n",
       "1          Teacher\n",
       "2          Student\n",
       "3          Manager\n",
       "4       Accountant\n",
       "          ...     \n",
       "56       Architect\n",
       "57    Receptionist\n",
       "58          Banker\n",
       "59          Writer\n",
       "60            Chef\n",
       "Name: occupation, Length: 61, dtype: object>"
      ]
     },
     "execution_count": 57,
     "metadata": {},
     "output_type": "execute_result"
    }
   ],
   "source": [
    "loan_df['occupation'].unique"
   ]
  },
  {
   "cell_type": "markdown",
   "id": "14ac1fa4-0c22-4255-a4cf-2e10c4fd07a7",
   "metadata": {},
   "source": [
    "Für die Features occupation und education_level verwenden wir ein Label Encoding, für die anderen (marital_status, gender, loan_status) On Hot Encode."
   ]
  },
  {
   "cell_type": "code",
   "execution_count": 58,
   "id": "6ab9a6ef-659b-4622-ac8b-5e770f1222ff",
   "metadata": {},
   "outputs": [
    {
     "data": {
      "text/html": [
       "<div>\n",
       "<style scoped>\n",
       "    .dataframe tbody tr th:only-of-type {\n",
       "        vertical-align: middle;\n",
       "    }\n",
       "\n",
       "    .dataframe tbody tr th {\n",
       "        vertical-align: top;\n",
       "    }\n",
       "\n",
       "    .dataframe thead th {\n",
       "        text-align: right;\n",
       "    }\n",
       "</style>\n",
       "<table border=\"1\" class=\"dataframe\">\n",
       "  <thead>\n",
       "    <tr style=\"text-align: right;\">\n",
       "      <th></th>\n",
       "      <th>gender_Male</th>\n",
       "      <th>marital_status_Single</th>\n",
       "      <th>loan_status_Denied</th>\n",
       "    </tr>\n",
       "  </thead>\n",
       "  <tbody>\n",
       "    <tr>\n",
       "      <th>0</th>\n",
       "      <td>1</td>\n",
       "      <td>0</td>\n",
       "      <td>0</td>\n",
       "    </tr>\n",
       "    <tr>\n",
       "      <th>1</th>\n",
       "      <td>0</td>\n",
       "      <td>1</td>\n",
       "      <td>0</td>\n",
       "    </tr>\n",
       "    <tr>\n",
       "      <th>2</th>\n",
       "      <td>1</td>\n",
       "      <td>1</td>\n",
       "      <td>1</td>\n",
       "    </tr>\n",
       "    <tr>\n",
       "      <th>3</th>\n",
       "      <td>0</td>\n",
       "      <td>0</td>\n",
       "      <td>0</td>\n",
       "    </tr>\n",
       "    <tr>\n",
       "      <th>4</th>\n",
       "      <td>1</td>\n",
       "      <td>0</td>\n",
       "      <td>0</td>\n",
       "    </tr>\n",
       "  </tbody>\n",
       "</table>\n",
       "</div>"
      ],
      "text/plain": [
       "   gender_Male  marital_status_Single  loan_status_Denied\n",
       "0            1                      0                   0\n",
       "1            0                      1                   0\n",
       "2            1                      1                   1\n",
       "3            0                      0                   0\n",
       "4            1                      0                   0"
      ]
     },
     "execution_count": 58,
     "metadata": {},
     "output_type": "execute_result"
    }
   ],
   "source": [
    "# On Hot Encode für gender und marital_status.\n",
    "gender_married_df = pd.get_dummies(\\\n",
    "    loan_df[ ['gender', 'marital_status', 'loan_status']], drop_first=True, dtype='int')\n",
    "gender_married_df.head()"
   ]
  },
  {
   "cell_type": "code",
   "execution_count": 59,
   "id": "491fea42-1fee-4f81-b3d1-21c1508b52fd",
   "metadata": {},
   "outputs": [],
   "source": [
    "# Sklearn Label Encoder. \n",
    "le = LabelEncoder()\n",
    "loan_df['occupation']       = le.fit_transform(loan_df['occupation'] )\n",
    "loan_df['education_level']  = le.fit_transform(loan_df['education_level'] )"
   ]
  },
  {
   "cell_type": "code",
   "execution_count": 60,
   "id": "e5bb13aa-beb9-43a5-8206-a524ac81bbdc",
   "metadata": {},
   "outputs": [
    {
     "data": {
      "text/html": [
       "<div>\n",
       "<style scoped>\n",
       "    .dataframe tbody tr th:only-of-type {\n",
       "        vertical-align: middle;\n",
       "    }\n",
       "\n",
       "    .dataframe tbody tr th {\n",
       "        vertical-align: top;\n",
       "    }\n",
       "\n",
       "    .dataframe thead th {\n",
       "        text-align: right;\n",
       "    }\n",
       "</style>\n",
       "<table border=\"1\" class=\"dataframe\">\n",
       "  <thead>\n",
       "    <tr style=\"text-align: right;\">\n",
       "      <th></th>\n",
       "      <th>age</th>\n",
       "      <th>gender</th>\n",
       "      <th>occupation</th>\n",
       "      <th>education_level</th>\n",
       "      <th>marital_status</th>\n",
       "      <th>income</th>\n",
       "      <th>credit_score</th>\n",
       "      <th>loan_status</th>\n",
       "    </tr>\n",
       "  </thead>\n",
       "  <tbody>\n",
       "    <tr>\n",
       "      <th>0</th>\n",
       "      <td>32</td>\n",
       "      <td>Male</td>\n",
       "      <td>12</td>\n",
       "      <td>1</td>\n",
       "      <td>Married</td>\n",
       "      <td>85000</td>\n",
       "      <td>720</td>\n",
       "      <td>Approved</td>\n",
       "    </tr>\n",
       "    <tr>\n",
       "      <th>1</th>\n",
       "      <td>45</td>\n",
       "      <td>Female</td>\n",
       "      <td>35</td>\n",
       "      <td>4</td>\n",
       "      <td>Single</td>\n",
       "      <td>62000</td>\n",
       "      <td>680</td>\n",
       "      <td>Approved</td>\n",
       "    </tr>\n",
       "    <tr>\n",
       "      <th>2</th>\n",
       "      <td>28</td>\n",
       "      <td>Male</td>\n",
       "      <td>33</td>\n",
       "      <td>3</td>\n",
       "      <td>Single</td>\n",
       "      <td>25000</td>\n",
       "      <td>590</td>\n",
       "      <td>Denied</td>\n",
       "    </tr>\n",
       "    <tr>\n",
       "      <th>3</th>\n",
       "      <td>51</td>\n",
       "      <td>Female</td>\n",
       "      <td>16</td>\n",
       "      <td>1</td>\n",
       "      <td>Married</td>\n",
       "      <td>105000</td>\n",
       "      <td>780</td>\n",
       "      <td>Approved</td>\n",
       "    </tr>\n",
       "    <tr>\n",
       "      <th>4</th>\n",
       "      <td>36</td>\n",
       "      <td>Male</td>\n",
       "      <td>0</td>\n",
       "      <td>1</td>\n",
       "      <td>Married</td>\n",
       "      <td>75000</td>\n",
       "      <td>710</td>\n",
       "      <td>Approved</td>\n",
       "    </tr>\n",
       "  </tbody>\n",
       "</table>\n",
       "</div>"
      ],
      "text/plain": [
       "   age  gender  occupation  education_level marital_status  income  \\\n",
       "0   32    Male          12                1        Married   85000   \n",
       "1   45  Female          35                4         Single   62000   \n",
       "2   28    Male          33                3         Single   25000   \n",
       "3   51  Female          16                1        Married  105000   \n",
       "4   36    Male           0                1        Married   75000   \n",
       "\n",
       "   credit_score loan_status  \n",
       "0           720    Approved  \n",
       "1           680    Approved  \n",
       "2           590      Denied  \n",
       "3           780    Approved  \n",
       "4           710    Approved  "
      ]
     },
     "execution_count": 60,
     "metadata": {},
     "output_type": "execute_result"
    }
   ],
   "source": [
    "loan_df.head()"
   ]
  },
  {
   "cell_type": "markdown",
   "id": "ea0902c3-4a54-4f01-9a6d-c53d589c15f8",
   "metadata": {},
   "source": [
    "Jetzt müssen die nicht benötigten Features mit Strings entfernt und die Neuen eingefügt werden."
   ]
  },
  {
   "cell_type": "code",
   "execution_count": 61,
   "id": "6e33baf0-6a19-4dad-8bbf-476a2692cca7",
   "metadata": {},
   "outputs": [
    {
     "data": {
      "text/html": [
       "<div>\n",
       "<style scoped>\n",
       "    .dataframe tbody tr th:only-of-type {\n",
       "        vertical-align: middle;\n",
       "    }\n",
       "\n",
       "    .dataframe tbody tr th {\n",
       "        vertical-align: top;\n",
       "    }\n",
       "\n",
       "    .dataframe thead th {\n",
       "        text-align: right;\n",
       "    }\n",
       "</style>\n",
       "<table border=\"1\" class=\"dataframe\">\n",
       "  <thead>\n",
       "    <tr style=\"text-align: right;\">\n",
       "      <th></th>\n",
       "      <th>age</th>\n",
       "      <th>occupation</th>\n",
       "      <th>education_level</th>\n",
       "      <th>income</th>\n",
       "      <th>credit_score</th>\n",
       "      <th>gender_Male</th>\n",
       "      <th>marital_status_Single</th>\n",
       "      <th>loan_status_Denied</th>\n",
       "    </tr>\n",
       "  </thead>\n",
       "  <tbody>\n",
       "    <tr>\n",
       "      <th>0</th>\n",
       "      <td>32</td>\n",
       "      <td>12</td>\n",
       "      <td>1</td>\n",
       "      <td>85000</td>\n",
       "      <td>720</td>\n",
       "      <td>1</td>\n",
       "      <td>0</td>\n",
       "      <td>0</td>\n",
       "    </tr>\n",
       "    <tr>\n",
       "      <th>1</th>\n",
       "      <td>45</td>\n",
       "      <td>35</td>\n",
       "      <td>4</td>\n",
       "      <td>62000</td>\n",
       "      <td>680</td>\n",
       "      <td>0</td>\n",
       "      <td>1</td>\n",
       "      <td>0</td>\n",
       "    </tr>\n",
       "    <tr>\n",
       "      <th>2</th>\n",
       "      <td>28</td>\n",
       "      <td>33</td>\n",
       "      <td>3</td>\n",
       "      <td>25000</td>\n",
       "      <td>590</td>\n",
       "      <td>1</td>\n",
       "      <td>1</td>\n",
       "      <td>1</td>\n",
       "    </tr>\n",
       "    <tr>\n",
       "      <th>3</th>\n",
       "      <td>51</td>\n",
       "      <td>16</td>\n",
       "      <td>1</td>\n",
       "      <td>105000</td>\n",
       "      <td>780</td>\n",
       "      <td>0</td>\n",
       "      <td>0</td>\n",
       "      <td>0</td>\n",
       "    </tr>\n",
       "    <tr>\n",
       "      <th>4</th>\n",
       "      <td>36</td>\n",
       "      <td>0</td>\n",
       "      <td>1</td>\n",
       "      <td>75000</td>\n",
       "      <td>710</td>\n",
       "      <td>1</td>\n",
       "      <td>0</td>\n",
       "      <td>0</td>\n",
       "    </tr>\n",
       "  </tbody>\n",
       "</table>\n",
       "</div>"
      ],
      "text/plain": [
       "   age  occupation  education_level  income  credit_score  gender_Male  \\\n",
       "0   32          12                1   85000           720            1   \n",
       "1   45          35                4   62000           680            0   \n",
       "2   28          33                3   25000           590            1   \n",
       "3   51          16                1  105000           780            0   \n",
       "4   36           0                1   75000           710            1   \n",
       "\n",
       "   marital_status_Single  loan_status_Denied  \n",
       "0                      0                   0  \n",
       "1                      1                   0  \n",
       "2                      1                   1  \n",
       "3                      0                   0  \n",
       "4                      0                   0  "
      ]
     },
     "execution_count": 61,
     "metadata": {},
     "output_type": "execute_result"
    }
   ],
   "source": [
    "# Lösche die drei Spalten, wo wir On Hot Encode verwendet haben. \n",
    "loan_df.drop(['gender', 'marital_status', 'loan_status'], axis='columns', inplace=True)\n",
    "# Füge die Neuen ein. \n",
    "loan_df = pd.concat([loan_df, gender_married_df], axis='columns')\n",
    "loan_df.head()"
   ]
  },
  {
   "cell_type": "markdown",
   "id": "07022c03-4a5a-4523-9527-b08f9eb4dcde",
   "metadata": {},
   "source": [
    "Dann können wir ein Train- und Testset erstellen."
   ]
  },
  {
   "cell_type": "code",
   "execution_count": 65,
   "id": "9631af32-aea2-4bc6-9359-737984dbecfc",
   "metadata": {},
   "outputs": [],
   "source": [
    "X_train, X_test, y_train, y_test = \\\n",
    "                     train_test_split(loan_df.drop(['loan_status_Denied'], axis=\"columns\"), \\\n",
    "                                     loan_df['loan_status_Denied'], test_size=0.3)"
   ]
  },
  {
   "cell_type": "code",
   "execution_count": 66,
   "id": "12ecf32d-51c3-49ea-81c5-645c5602f15f",
   "metadata": {},
   "outputs": [
    {
     "data": {
      "text/plain": [
       "(42, 7)"
      ]
     },
     "execution_count": 66,
     "metadata": {},
     "output_type": "execute_result"
    }
   ],
   "source": [
    "X_train.shape"
   ]
  },
  {
   "cell_type": "markdown",
   "id": "01c7d4f0-2da0-4534-b84d-e1c5779d0014",
   "metadata": {},
   "source": [
    "Jetzt kann das Model erstellt und trainiert werden."
   ]
  },
  {
   "cell_type": "code",
   "execution_count": 67,
   "id": "d309a6b9-22a1-43f3-8d34-1679ed3ee01e",
   "metadata": {},
   "outputs": [
    {
     "data": {
      "text/plain": [
       "1.0"
      ]
     },
     "execution_count": 67,
     "metadata": {},
     "output_type": "execute_result"
    }
   ],
   "source": [
    "tree = DecisionTreeClassifier()\n",
    "tree.fit(X_train, y_train)\n",
    "tree.score(X_test, y_test)"
   ]
  },
  {
   "cell_type": "code",
   "execution_count": null,
   "id": "067ce6e2-dc4e-45b6-a24d-56cb38052011",
   "metadata": {},
   "outputs": [],
   "source": []
  },
  {
   "cell_type": "markdown",
   "id": "690f62b2-f7be-4018-af4a-58a8a6d18eb1",
   "metadata": {},
   "source": [
    "<h1>Random-Forest</h1>"
   ]
  },
  {
   "cell_type": "code",
   "execution_count": 68,
   "id": "9cb943d6-7ebc-44a7-9c75-8a1a6da6801a",
   "metadata": {},
   "outputs": [],
   "source": [
    "# Sallery Pred Dataset\n",
    "#https://www.kaggle.com/datasets/rkiattisak/salaly-prediction-for-beginer"
   ]
  },
  {
   "cell_type": "markdown",
   "id": "cd664bd9-b16f-44e0-9c19-0f88d3086a35",
   "metadata": {},
   "source": [
    "<i>Abb2</i>: Funktionsweise von Random-Forest.\n",
    "<center>\n",
    "    <img src=\"./files_data/img/sklearn_dtrm_2.PNG\" width=600 hight=600>\n",
    "</center>"
   ]
  },
  {
   "cell_type": "markdown",
   "id": "f9dc9b9c-4214-4aba-a71d-46e283b8756a",
   "metadata": {},
   "source": [
    "Das gegebene Dataset wird in n-Random Batches aufgeteilt. Jedes dieser Batches kann unterschiedlich viele positive oder negative Samples haben.\n",
    "\n",
    "Aus diese Batches werden wie beim normalen Decision Tree Bäume erstellt. Mit vielen Bäumen hat man ein Forest => Random-Forest\n",
    "\n",
    "Bei einer Prediction kann jeder Baum seine Entscheidung machen. Am Ende wird durch ein Vote entschieden, welche Entscheidung genommen wird. "
   ]
  },
  {
   "cell_type": "code",
   "execution_count": null,
   "id": "1bfa231b-a8a4-4424-944c-5bb5699f91e1",
   "metadata": {},
   "outputs": [],
   "source": []
  },
  {
   "cell_type": "code",
   "execution_count": null,
   "id": "ebb14261-ae70-4063-a347-a9792874e83d",
   "metadata": {},
   "outputs": [],
   "source": []
  },
  {
   "cell_type": "code",
   "execution_count": null,
   "id": "e1f396fc-0f02-4c53-bbf2-dc48eb8d8770",
   "metadata": {},
   "outputs": [],
   "source": []
  },
  {
   "cell_type": "code",
   "execution_count": null,
   "id": "641a5777-0dcc-4f7e-b504-aaf55ab9265c",
   "metadata": {},
   "outputs": [],
   "source": []
  },
  {
   "cell_type": "code",
   "execution_count": null,
   "id": "6ac1c885-887a-42b7-8fc4-1f57a3aad081",
   "metadata": {},
   "outputs": [],
   "source": []
  },
  {
   "cell_type": "code",
   "execution_count": null,
   "id": "51992928-5ca7-4dbb-9bb6-67b4ff8adc09",
   "metadata": {},
   "outputs": [],
   "source": []
  },
  {
   "cell_type": "code",
   "execution_count": null,
   "id": "ddd071e1-dd1c-4bf1-b230-d6c7cbbc4910",
   "metadata": {},
   "outputs": [],
   "source": []
  }
 ],
 "metadata": {
  "kernelspec": {
   "display_name": "Python 3 (ipykernel)",
   "language": "python",
   "name": "python3"
  },
  "language_info": {
   "codemirror_mode": {
    "name": "ipython",
    "version": 3
   },
   "file_extension": ".py",
   "mimetype": "text/x-python",
   "name": "python",
   "nbconvert_exporter": "python",
   "pygments_lexer": "ipython3",
   "version": "3.9.18"
  }
 },
 "nbformat": 4,
 "nbformat_minor": 5
}
