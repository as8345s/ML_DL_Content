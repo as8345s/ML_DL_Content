{
 "cells": [
  {
   "cell_type": "markdown",
   "id": "c9bde0b9-5982-4309-aed0-3badeb542c41",
   "metadata": {},
   "source": [
    "<h1>One Hot Encoding und Dummy-Variablen</h1>"
   ]
  },
  {
   "cell_type": "markdown",
   "id": "67f64be3-1ad7-4a37-b978-4f5678bbda6a",
   "metadata": {},
   "source": [
    "Wenn ein Dataset Text enthält, egal ob der Text eine numerische Bedeutung hat wie \"Zwei\", muss dieser in eine numerische Repräsentation umgeformt werden, damit die Modelle damit umgehen könne. \n",
    "\n",
    "Hier wird der Fall betrachtet, dass es nur einzelne Wörter sind."
   ]
  },
  {
   "cell_type": "markdown",
   "id": "6ebac40c-90b1-47b6-9d02-95940582c3f4",
   "metadata": {},
   "source": [
    "<i>Abb1:</i> Übersicht der Datentypen \n",
    "<center>\n",
    "    <img src=\"./files_data/img/DataTypes_encode_Notebook_1.PNG\" width=800 hight=1000 >\n",
    "</center>"
   ]
  },
  {
   "cell_type": "markdown",
   "id": "bb3d9690-3eed-4b66-8f33-90cf9efa3387",
   "metadata": {},
   "source": [
    "Bei einem gegebenen Dataset mit verschiedenen Stadtnamen, wird OnHotEncode angewendet. "
   ]
  },
  {
   "cell_type": "markdown",
   "id": "6b3788fa-3f96-4945-8906-9a5dc4b178a5",
   "metadata": {},
   "source": [
    "<i>Abb2:</i> On Hot Encode\n",
    "\n",
    "\n",
    "<img src=\"./files_data/img/DataTypes_encode_Notebook_2.PNG\" width=600 hight=5000 >\n"
   ]
  },
  {
   "cell_type": "markdown",
   "id": "ec5bf290-cb3f-4d96-998d-a6fcb6181d93",
   "metadata": {},
   "source": [
    "<i>Abb3:</i> Integer / Label Encoding\n",
    "\n",
    "\n",
    "<img src=\"./files_data/img/DataTypes_encode_Notebook_3.PNG\" width=500 hight=400 >"
   ]
  },
  {
   "cell_type": "markdown",
   "id": "8ded5c37-df6e-4ff4-82fb-41996d6598af",
   "metadata": {},
   "source": [
    "On Hot Encoding: weise binäre Werte zu wie 0 und 1 oder True und False. <br>Für jede Kategorie eine Spalte.\n",
    "\n",
    "Die erstellten Variablen nennt man auch Dummy-Variablen"
   ]
  },
  {
   "cell_type": "markdown",
   "id": "c322f235-9105-41d8-9d11-b990039e72cf",
   "metadata": {},
   "source": [
    "Label Encoding: weise fortlaufende Zahlen zu, die je eine Stadt repräsentiert. <br>Eine Spalte für jede Kategorie"
   ]
  },
  {
   "cell_type": "markdown",
   "id": "e5f1dde3-ee67-416b-a39d-f66e766182c0",
   "metadata": {},
   "source": [
    "Die nominalen Daten folgen keiner bestimmten Reihenfolge und haben keine Relation zueinander. Daher wird hier eher On Hot Encoding genutzt.\n",
    "\n",
    "Bei den anderen, wo es eine Reihenfolge gibt, wie zum Beispiel \"Bachelor, Master, ...\", kann ein Label Encoding angewendet werden.\n",
    "\n",
    "Bei dem Label Encoding kann eine Relation zwischen den Daten hergestellt werden (Köln + Alsfeld = Fulda oder Köln > Fulda). Diese Annahmen können zu falschen Schlussfolgerungen führen."
   ]
  },
  {
   "cell_type": "markdown",
   "id": "6f4027d3-d0cb-4b99-a956-2692f6079611",
   "metadata": {},
   "source": [
    "Sklearn und Pandas bieten gute Möglichkeiten, die betroffenen Spalten umzuformen. "
   ]
  },
  {
   "cell_type": "markdown",
   "id": "336e616c-1313-41c3-83a3-38af53630645",
   "metadata": {},
   "source": [
    "Beispiel Dataset: https://www.kaggle.com/datasets/fedesoriano/heart-failure-prediction [Letzter Zugriff 04.06.2024] "
   ]
  },
  {
   "cell_type": "markdown",
   "id": "3ca64864-1c32-4b0f-89ae-53292d773e2e",
   "metadata": {},
   "source": [
    "> fedesoriano. (September 2021). Heart Failure Prediction Dataset. Retrieved [Date Retrieved]<br> from https://www.kaggle.com/fedesoriano/heart-failure-prediction."
   ]
  },
  {
   "cell_type": "markdown",
   "id": "0c0132cd-9119-4b85-bf53-6bd883000bd2",
   "metadata": {},
   "source": [
    "Dieses Dataset kann gut für die Veranschaulichung genutzt werden. "
   ]
  },
  {
   "cell_type": "code",
   "execution_count": 13,
   "id": "0b691202-015d-4b6c-8184-07b0535079f0",
   "metadata": {},
   "outputs": [],
   "source": [
    "import pandas as pd\n",
    "from sklearn.preprocessing import LabelEncoder"
   ]
  },
  {
   "cell_type": "code",
   "execution_count": 14,
   "id": "f5adb7d7-1957-4bf4-8f15-9a3da3a319b0",
   "metadata": {},
   "outputs": [
    {
     "data": {
      "text/html": [
       "<div>\n",
       "<style scoped>\n",
       "    .dataframe tbody tr th:only-of-type {\n",
       "        vertical-align: middle;\n",
       "    }\n",
       "\n",
       "    .dataframe tbody tr th {\n",
       "        vertical-align: top;\n",
       "    }\n",
       "\n",
       "    .dataframe thead th {\n",
       "        text-align: right;\n",
       "    }\n",
       "</style>\n",
       "<table border=\"1\" class=\"dataframe\">\n",
       "  <thead>\n",
       "    <tr style=\"text-align: right;\">\n",
       "      <th></th>\n",
       "      <th>Age</th>\n",
       "      <th>Sex</th>\n",
       "      <th>ChestPainType</th>\n",
       "      <th>RestingBP</th>\n",
       "      <th>Cholesterol</th>\n",
       "      <th>FastingBS</th>\n",
       "      <th>RestingECG</th>\n",
       "      <th>MaxHR</th>\n",
       "      <th>ExerciseAngina</th>\n",
       "      <th>Oldpeak</th>\n",
       "      <th>ST_Slope</th>\n",
       "      <th>HeartDisease</th>\n",
       "    </tr>\n",
       "  </thead>\n",
       "  <tbody>\n",
       "    <tr>\n",
       "      <th>0</th>\n",
       "      <td>40</td>\n",
       "      <td>M</td>\n",
       "      <td>ATA</td>\n",
       "      <td>140</td>\n",
       "      <td>289</td>\n",
       "      <td>0</td>\n",
       "      <td>Normal</td>\n",
       "      <td>172</td>\n",
       "      <td>N</td>\n",
       "      <td>0.0</td>\n",
       "      <td>Up</td>\n",
       "      <td>0</td>\n",
       "    </tr>\n",
       "    <tr>\n",
       "      <th>1</th>\n",
       "      <td>49</td>\n",
       "      <td>F</td>\n",
       "      <td>NAP</td>\n",
       "      <td>160</td>\n",
       "      <td>180</td>\n",
       "      <td>0</td>\n",
       "      <td>Normal</td>\n",
       "      <td>156</td>\n",
       "      <td>N</td>\n",
       "      <td>1.0</td>\n",
       "      <td>Flat</td>\n",
       "      <td>1</td>\n",
       "    </tr>\n",
       "  </tbody>\n",
       "</table>\n",
       "</div>"
      ],
      "text/plain": [
       "   Age Sex ChestPainType  RestingBP  Cholesterol  FastingBS RestingECG  MaxHR  \\\n",
       "0   40   M           ATA        140          289          0     Normal    172   \n",
       "1   49   F           NAP        160          180          0     Normal    156   \n",
       "\n",
       "  ExerciseAngina  Oldpeak ST_Slope  HeartDisease  \n",
       "0              N      0.0       Up             0  \n",
       "1              N      1.0     Flat             1  "
      ]
     },
     "execution_count": 14,
     "metadata": {},
     "output_type": "execute_result"
    }
   ],
   "source": [
    "heart_data = pd.read_csv(\"./files_data/data/heart_failure_prediction.zip\", compression='zip')\n",
    "heart_data.head(2)"
   ]
  },
  {
   "cell_type": "code",
   "execution_count": 15,
   "id": "ffbf0c0b-df9e-493e-a688-1429b9f7300c",
   "metadata": {},
   "outputs": [
    {
     "data": {
      "text/html": [
       "<div>\n",
       "<style scoped>\n",
       "    .dataframe tbody tr th:only-of-type {\n",
       "        vertical-align: middle;\n",
       "    }\n",
       "\n",
       "    .dataframe tbody tr th {\n",
       "        vertical-align: top;\n",
       "    }\n",
       "\n",
       "    .dataframe thead th {\n",
       "        text-align: right;\n",
       "    }\n",
       "</style>\n",
       "<table border=\"1\" class=\"dataframe\">\n",
       "  <thead>\n",
       "    <tr style=\"text-align: right;\">\n",
       "      <th></th>\n",
       "      <th>Sex</th>\n",
       "      <th>ChestPainType</th>\n",
       "      <th>ST_Slope</th>\n",
       "    </tr>\n",
       "  </thead>\n",
       "  <tbody>\n",
       "    <tr>\n",
       "      <th>0</th>\n",
       "      <td>M</td>\n",
       "      <td>ATA</td>\n",
       "      <td>Up</td>\n",
       "    </tr>\n",
       "    <tr>\n",
       "      <th>1</th>\n",
       "      <td>F</td>\n",
       "      <td>NAP</td>\n",
       "      <td>Flat</td>\n",
       "    </tr>\n",
       "    <tr>\n",
       "      <th>2</th>\n",
       "      <td>M</td>\n",
       "      <td>ATA</td>\n",
       "      <td>Up</td>\n",
       "    </tr>\n",
       "  </tbody>\n",
       "</table>\n",
       "</div>"
      ],
      "text/plain": [
       "  Sex ChestPainType ST_Slope\n",
       "0   M           ATA       Up\n",
       "1   F           NAP     Flat\n",
       "2   M           ATA       Up"
      ]
     },
     "execution_count": 15,
     "metadata": {},
     "output_type": "execute_result"
    }
   ],
   "source": [
    "heart_data2 = heart_data[ ['Sex', 'ChestPainType', 'ST_Slope' ] ] # 'ChestPainType', 'ST_Slope'\n",
    "heart_data2.head(3)"
   ]
  },
  {
   "cell_type": "markdown",
   "id": "583d2310-1ac0-4e43-9f41-d3ca542d1747",
   "metadata": {},
   "source": [
    "Mit nur einem Aufruf erstellt Pandas die Dummy-Variablen. Der Datentyp kann von Boolean zu Integer umgestellt werden."
   ]
  },
  {
   "cell_type": "code",
   "execution_count": 16,
   "id": "a8bacb67-1cc4-44be-b660-c867aee234ac",
   "metadata": {},
   "outputs": [
    {
     "data": {
      "text/html": [
       "<div>\n",
       "<style scoped>\n",
       "    .dataframe tbody tr th:only-of-type {\n",
       "        vertical-align: middle;\n",
       "    }\n",
       "\n",
       "    .dataframe tbody tr th {\n",
       "        vertical-align: top;\n",
       "    }\n",
       "\n",
       "    .dataframe thead th {\n",
       "        text-align: right;\n",
       "    }\n",
       "</style>\n",
       "<table border=\"1\" class=\"dataframe\">\n",
       "  <thead>\n",
       "    <tr style=\"text-align: right;\">\n",
       "      <th></th>\n",
       "      <th>F</th>\n",
       "      <th>M</th>\n",
       "    </tr>\n",
       "  </thead>\n",
       "  <tbody>\n",
       "    <tr>\n",
       "      <th>0</th>\n",
       "      <td>False</td>\n",
       "      <td>True</td>\n",
       "    </tr>\n",
       "    <tr>\n",
       "      <th>1</th>\n",
       "      <td>True</td>\n",
       "      <td>False</td>\n",
       "    </tr>\n",
       "    <tr>\n",
       "      <th>2</th>\n",
       "      <td>False</td>\n",
       "      <td>True</td>\n",
       "    </tr>\n",
       "    <tr>\n",
       "      <th>3</th>\n",
       "      <td>True</td>\n",
       "      <td>False</td>\n",
       "    </tr>\n",
       "    <tr>\n",
       "      <th>4</th>\n",
       "      <td>False</td>\n",
       "      <td>True</td>\n",
       "    </tr>\n",
       "    <tr>\n",
       "      <th>...</th>\n",
       "      <td>...</td>\n",
       "      <td>...</td>\n",
       "    </tr>\n",
       "    <tr>\n",
       "      <th>913</th>\n",
       "      <td>False</td>\n",
       "      <td>True</td>\n",
       "    </tr>\n",
       "    <tr>\n",
       "      <th>914</th>\n",
       "      <td>False</td>\n",
       "      <td>True</td>\n",
       "    </tr>\n",
       "    <tr>\n",
       "      <th>915</th>\n",
       "      <td>False</td>\n",
       "      <td>True</td>\n",
       "    </tr>\n",
       "    <tr>\n",
       "      <th>916</th>\n",
       "      <td>True</td>\n",
       "      <td>False</td>\n",
       "    </tr>\n",
       "    <tr>\n",
       "      <th>917</th>\n",
       "      <td>False</td>\n",
       "      <td>True</td>\n",
       "    </tr>\n",
       "  </tbody>\n",
       "</table>\n",
       "<p>918 rows × 2 columns</p>\n",
       "</div>"
      ],
      "text/plain": [
       "         F      M\n",
       "0    False   True\n",
       "1     True  False\n",
       "2    False   True\n",
       "3     True  False\n",
       "4    False   True\n",
       "..     ...    ...\n",
       "913  False   True\n",
       "914  False   True\n",
       "915  False   True\n",
       "916   True  False\n",
       "917  False   True\n",
       "\n",
       "[918 rows x 2 columns]"
      ]
     },
     "execution_count": 16,
     "metadata": {},
     "output_type": "execute_result"
    }
   ],
   "source": [
    "# Gibt die Tabelle mit den Dummies zurück.\n",
    "# - On Hot Encode - #\n",
    "pd.get_dummies(heart_data['Sex']) # dtype=\"int\" => Int statt Bool."
   ]
  },
  {
   "cell_type": "markdown",
   "id": "0c23e39f-733c-479d-9f30-69b40f3a734c",
   "metadata": {},
   "source": [
    "Diese Tabelle kann vielseitig genutzt werden. Um es für das Training zu nutzen, wird es an das Dataframe angeknüpft, welches für das Training genutzt wird."
   ]
  },
  {
   "cell_type": "code",
   "execution_count": 17,
   "id": "a27ffd3f-9870-41e4-aaae-7fd504fe280f",
   "metadata": {},
   "outputs": [
    {
     "data": {
      "text/html": [
       "<div>\n",
       "<style scoped>\n",
       "    .dataframe tbody tr th:only-of-type {\n",
       "        vertical-align: middle;\n",
       "    }\n",
       "\n",
       "    .dataframe tbody tr th {\n",
       "        vertical-align: top;\n",
       "    }\n",
       "\n",
       "    .dataframe thead th {\n",
       "        text-align: right;\n",
       "    }\n",
       "</style>\n",
       "<table border=\"1\" class=\"dataframe\">\n",
       "  <thead>\n",
       "    <tr style=\"text-align: right;\">\n",
       "      <th></th>\n",
       "      <th>Sex</th>\n",
       "      <th>ChestPainType</th>\n",
       "      <th>ST_Slope</th>\n",
       "      <th>F</th>\n",
       "      <th>M</th>\n",
       "    </tr>\n",
       "  </thead>\n",
       "  <tbody>\n",
       "    <tr>\n",
       "      <th>0</th>\n",
       "      <td>M</td>\n",
       "      <td>ATA</td>\n",
       "      <td>Up</td>\n",
       "      <td>0</td>\n",
       "      <td>1</td>\n",
       "    </tr>\n",
       "    <tr>\n",
       "      <th>1</th>\n",
       "      <td>F</td>\n",
       "      <td>NAP</td>\n",
       "      <td>Flat</td>\n",
       "      <td>1</td>\n",
       "      <td>0</td>\n",
       "    </tr>\n",
       "    <tr>\n",
       "      <th>2</th>\n",
       "      <td>M</td>\n",
       "      <td>ATA</td>\n",
       "      <td>Up</td>\n",
       "      <td>0</td>\n",
       "      <td>1</td>\n",
       "    </tr>\n",
       "    <tr>\n",
       "      <th>3</th>\n",
       "      <td>F</td>\n",
       "      <td>ASY</td>\n",
       "      <td>Flat</td>\n",
       "      <td>1</td>\n",
       "      <td>0</td>\n",
       "    </tr>\n",
       "    <tr>\n",
       "      <th>4</th>\n",
       "      <td>M</td>\n",
       "      <td>NAP</td>\n",
       "      <td>Up</td>\n",
       "      <td>0</td>\n",
       "      <td>1</td>\n",
       "    </tr>\n",
       "  </tbody>\n",
       "</table>\n",
       "</div>"
      ],
      "text/plain": [
       "  Sex ChestPainType ST_Slope  F  M\n",
       "0   M           ATA       Up  0  1\n",
       "1   F           NAP     Flat  1  0\n",
       "2   M           ATA       Up  0  1\n",
       "3   F           ASY     Flat  1  0\n",
       "4   M           NAP       Up  0  1"
      ]
     },
     "execution_count": 17,
     "metadata": {},
     "output_type": "execute_result"
    }
   ],
   "source": [
    "# Erstelle Dummies, dann füge die Dataframes zusammen. \n",
    "sex_column_dummy = pd.get_dummies(heart_data['Sex'], dtype=\"int\")\n",
    "heart_data2 = pd.concat([heart_data2, sex_column_dummy], axis=\"columns\")\n",
    "heart_data2.head()"
   ]
  },
  {
   "cell_type": "markdown",
   "id": "509ea5fb-0ad2-4f9b-87a9-5a1dd6bf6fbe",
   "metadata": {},
   "source": [
    "<i>Abb4:</i> 2 Spalten müssen weg.\n",
    "\n",
    "<img src=\"./files_data/img/DataTypes_encode_Notebook_4.PNG\" width=300 hight=300 >"
   ]
  },
  {
   "cell_type": "markdown",
   "id": "d22831a1-e759-4f05-9145-00194a2c0f95",
   "metadata": {},
   "source": [
    "Der nächste Schritt ist, die Spalte \"Sex\" zu löschen, da diese nicht mehr benötigt wird. \n",
    "\n",
    "Eine der Spalten \"F\" oder \"M\" muss ebenfalls entfernt werden, da es sonst Redundanz und Multilinearität erzeugt => Dummy Variable Trap."
   ]
  },
  {
   "cell_type": "code",
   "execution_count": 18,
   "id": "ef7abfd0-7379-4404-bd73-88128b559916",
   "metadata": {},
   "outputs": [
    {
     "data": {
      "text/html": [
       "<div>\n",
       "<style scoped>\n",
       "    .dataframe tbody tr th:only-of-type {\n",
       "        vertical-align: middle;\n",
       "    }\n",
       "\n",
       "    .dataframe tbody tr th {\n",
       "        vertical-align: top;\n",
       "    }\n",
       "\n",
       "    .dataframe thead th {\n",
       "        text-align: right;\n",
       "    }\n",
       "</style>\n",
       "<table border=\"1\" class=\"dataframe\">\n",
       "  <thead>\n",
       "    <tr style=\"text-align: right;\">\n",
       "      <th></th>\n",
       "      <th>ChestPainType</th>\n",
       "      <th>ST_Slope</th>\n",
       "      <th>M</th>\n",
       "    </tr>\n",
       "  </thead>\n",
       "  <tbody>\n",
       "    <tr>\n",
       "      <th>0</th>\n",
       "      <td>ATA</td>\n",
       "      <td>Up</td>\n",
       "      <td>1</td>\n",
       "    </tr>\n",
       "    <tr>\n",
       "      <th>1</th>\n",
       "      <td>NAP</td>\n",
       "      <td>Flat</td>\n",
       "      <td>0</td>\n",
       "    </tr>\n",
       "    <tr>\n",
       "      <th>2</th>\n",
       "      <td>ATA</td>\n",
       "      <td>Up</td>\n",
       "      <td>1</td>\n",
       "    </tr>\n",
       "  </tbody>\n",
       "</table>\n",
       "</div>"
      ],
      "text/plain": [
       "  ChestPainType ST_Slope  M\n",
       "0           ATA       Up  1\n",
       "1           NAP     Flat  0\n",
       "2           ATA       Up  1"
      ]
     },
     "execution_count": 18,
     "metadata": {},
     "output_type": "execute_result"
    }
   ],
   "source": [
    "# 2 Spalten werden gelöscht\n",
    "heart_data3 = heart_data2.drop(['Sex', 'F'], axis=\"columns\")\n",
    "heart_data3.head(3)"
   ]
  },
  {
   "cell_type": "markdown",
   "id": "a4b41253-a852-4d95-a3c0-b229dbca424e",
   "metadata": {},
   "source": [
    "Dasselbe ist auch mit Sklearn möglich. "
   ]
  },
  {
   "cell_type": "code",
   "execution_count": 25,
   "id": "750757aa-21c5-4aba-a2b7-0c825851a3c7",
   "metadata": {},
   "outputs": [
    {
     "data": {
      "text/plain": [
       "array(['ATA', 'NAP', 'ASY', 'TA'], dtype=object)"
      ]
     },
     "execution_count": 25,
     "metadata": {},
     "output_type": "execute_result"
    }
   ],
   "source": [
    "chestPainType = heart_data3['ChestPainType']  # Separat\n",
    "chestPainType.unique()                        # 4 Werte "
   ]
  },
  {
   "cell_type": "code",
   "execution_count": 29,
   "id": "8adae509-0484-43d9-ae2d-0c9be814726b",
   "metadata": {},
   "outputs": [],
   "source": [
    "import numpy as np"
   ]
  },
  {
   "cell_type": "code",
   "execution_count": 34,
   "id": "45941e1f-d0b1-4dba-997f-5fa7ce9fbe58",
   "metadata": {},
   "outputs": [
    {
     "data": {
      "text/plain": [
       "array([0, 1, 2, 3])"
      ]
     },
     "execution_count": 34,
     "metadata": {},
     "output_type": "execute_result"
    }
   ],
   "source": [
    "label_enc = LabelEncoder()  # Encoder \n",
    "\n",
    "encoded_chestPainTypelabel   = label_enc.fit_transform(chestPainType)  # Erstelle Encoding\n",
    "\n",
    "np.unique(encoded_chestPainTypelabel) # Ergebnis-  0 bis 3 für diese 4 Werte. Kein On Hot Encode."
   ]
  },
  {
   "cell_type": "code",
   "execution_count": null,
   "id": "3ae62ca1-dbc5-442d-9c39-3526680575e8",
   "metadata": {},
   "outputs": [],
   "source": []
  },
  {
   "cell_type": "code",
   "execution_count": null,
   "id": "9feeeb30-4f8a-43fb-9c9a-e04a4775ae07",
   "metadata": {},
   "outputs": [],
   "source": []
  },
  {
   "cell_type": "code",
   "execution_count": null,
   "id": "326845ab-4585-4c03-945f-1b85e1c2094b",
   "metadata": {},
   "outputs": [],
   "source": []
  },
  {
   "cell_type": "code",
   "execution_count": null,
   "id": "e3d7f6d9-9267-45f7-ac5e-082ae5a80a5e",
   "metadata": {},
   "outputs": [],
   "source": []
  },
  {
   "cell_type": "code",
   "execution_count": null,
   "id": "46682ce2-d72a-4854-9bca-331244a58234",
   "metadata": {},
   "outputs": [],
   "source": []
  }
 ],
 "metadata": {
  "kernelspec": {
   "display_name": "Python 3 (ipykernel)",
   "language": "python",
   "name": "python3"
  },
  "language_info": {
   "codemirror_mode": {
    "name": "ipython",
    "version": 3
   },
   "file_extension": ".py",
   "mimetype": "text/x-python",
   "name": "python",
   "nbconvert_exporter": "python",
   "pygments_lexer": "ipython3",
   "version": "3.9.18"
  }
 },
 "nbformat": 4,
 "nbformat_minor": 5
}
