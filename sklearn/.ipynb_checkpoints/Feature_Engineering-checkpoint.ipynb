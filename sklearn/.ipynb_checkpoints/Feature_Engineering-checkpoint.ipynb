{
 "cells": [
  {
   "cell_type": "markdown",
   "id": "285eb0ef-bfef-45c2-9a78-6c1f9a30f5b6",
   "metadata": {},
   "source": [
    "<h1>Feature Engineering</h1>"
   ]
  },
  {
   "cell_type": "markdown",
   "id": "9dcabb79-6a1a-4a57-8675-c5a0fc409230",
   "metadata": {},
   "source": [
    "Feature Engineering ist ein wichtiger Bestandteil, wenn es um Data Science und Machine Learning geht.\n",
    "\n",
    "Dataset die man analysieren oder für das Training nutzen will, kommen nicht direkt sauber und bereinigt von einer Quelle wie z. B. Kaggle.com oder andere Quellen für Daten und Datasets."
   ]
  },
  {
   "cell_type": "markdown",
   "id": "7caafee4-a6ea-463a-8c48-ddecc1be0f87",
   "metadata": {},
   "source": [
    "<i>Abb1</i>: Grobe Übersicht Feature Engineering.\n",
    "\n",
    "<img src=\"./files_data/img/ml_ft_1.PNG\" width=500 hight=500>"
   ]
  },
  {
   "cell_type": "markdown",
   "id": "6e7dce47-6bfb-4310-a674-61e2ba5f380b",
   "metadata": {},
   "source": [
    "<i>Abb2</i>: Very messy Data.\n",
    "\n",
    "<img src=\"./files_data/img/ml_ft_2.PNG\" width=350 hight=250>"
   ]
  },
  {
   "cell_type": "markdown",
   "id": "8d89e18f-ed52-4778-b4ae-5c43bb56cc59",
   "metadata": {},
   "source": [
    "In der Abbildung 1 werden die Daten aus einer Quelle entnommen, für Statistiken, Analysen und um Modelle zu trainieren.\n",
    "\n",
    "Die rohen Daten können viele Features enthalten, die nicht alle benötigt werden. Im Big Data Bereich kann die Ladezeit von Daten hoch sein, und es macht einen Unterschied, wie viele Features und wie Zeilen geladen werden sollen. Bei einem hohen Datenaufkommen kann das Sortieren und Manipulieren von Daten in Anspruch nehmen, wenn diese im Terabyte Bereich liegen.\n",
    "\n",
    "Nach der Auswahl der Daten geht es dann darum, ob diese Fehler oder andere Margel haben, was das Visualisieren und das Trainieren von Modellen erschwert oder unöglich macht.\n",
    "\n",
    "Mit Feature Engineering wird das Problem angegangen- <br>\n",
    "- Analysiere Daten auf Defekte => Fehlen Daten? (NaN., Null, kein Eintrag, Int statt String, ...)\n",
    "- Wie könnten leere Felder oder Defekte behoben werden => Löschen, ersetzen, ...\n",
    "- Gibt es Outlier?\n",
    "- Muss ein Cast von Werten durchgeführt werden? => Int zu String, On Hot Encode, ...\n",
    "- Sind alle Features relevant?\n",
    "- Können die Daten visualisiert werden, um ein besseres Bild von der Lage zu bekommen?\n",
    "- Was wenn Featurenamen fehlen?\n",
    "- Was gibt es für Statistiken über diese Daten? => Durschnitt, Max, Min, ...\n",
    "- ..."
   ]
  },
  {
   "cell_type": "markdown",
   "id": "6b37261b-6c38-41dc-a79f-cc57cc3e624f",
   "metadata": {},
   "source": [
    "Was auch ein sehr wichtiger Faktor ist: <u>Domain Knowledge</u> <br>\n",
    "Es geht darum, Personen mit einzubeziehen, die die Datengrundlage verstehen und wissen, welche Werte eigentlich nicht auftreten können. Diese Personengruppe hilf dabei, Daten herauszufiltern, die vielleicht auf den ersten Blick nicht falsch aussehen."
   ]
  },
  {
   "cell_type": "markdown",
   "id": "589db890-8b50-4cd1-9006-241a9735bfdc",
   "metadata": {},
   "source": [
    "Zusammengefasst, bedeutet Feature Engineering das Aufbereiten von Daten mit Hilfsmitteln wie Statistiken, Analysen, mathematische Formeln wie Varianz oder einfacher Durchschnitt und anderen. Am Ende wollen wir eine saubere Datengrundlage haben, um Modelle zu trainieren oder um Daten zu visualisieren, mit  den Features die am Ende rauskommen."
   ]
  },
  {
   "cell_type": "code",
   "execution_count": 19,
   "id": "e233d3d4-abd1-4bb6-8fb3-d450d538dab3",
   "metadata": {},
   "outputs": [],
   "source": [
    "# Imports\n",
    "import matplotlib.pyplot as plt\n",
    "\n",
    "import seaborn as sn\n",
    "import numpy   as np\n",
    "import pandas  as pd"
   ]
  },
  {
   "cell_type": "markdown",
   "id": "b48b0733-dfbc-480b-bfe0-f133fd3f133b",
   "metadata": {},
   "source": [
    "<h2>Outlier</h2>"
   ]
  },
  {
   "cell_type": "markdown",
   "id": "93400b63-7553-48ad-baa8-11fd5f23d337",
   "metadata": {},
   "source": [
    "Outlier sind Daten, die sich von anderen Datenpunkten unterscheiden. Nehmen wir z. B. das Alter von einer Personengruppe mit 100 Menschen. Das Alter beträgt 16 bis 65, ein Outlier wäre ein Datenpunkt, der das 90 hätte. \n",
    "\n",
    "Ein Alter von 500 wäre ebenfalls ein deutlich sichtbarer Outlier. Einige der Datenpunkte die solche Eigenschaften aufweisen, können echt oder fehlerhaft sein. \n",
    "- Durch unser <u>Domain Knowledge</u> wissen wir, das eine Person keine 500 Jahre alt sein kann. <br>\n",
    "=> Fehler\n",
    "\n",
    "Andere Outlier können durch die Natur des Datasets normal sein (z. B. Alter von 90). Diese Outlier können nach Bedarf auch herausgefiltert werden."
   ]
  },
  {
   "cell_type": "markdown",
   "id": "5cfb9fcf-b178-4174-9340-bbaa22aa3cbc",
   "metadata": {},
   "source": [
    "Outlier können die Auswertungen von statistischen Analysen beeinträchtigen, wie den Durschschnitt. "
   ]
  },
  {
   "cell_type": "code",
   "execution_count": 2,
   "id": "b938bcfe-e45a-4924-a31f-3f606f36edf6",
   "metadata": {},
   "outputs": [
    {
     "data": {
      "text/plain": [
       "2.142857142857143"
      ]
     },
     "execution_count": 2,
     "metadata": {},
     "output_type": "execute_result"
    }
   ],
   "source": [
    "np.average([1,2,3,3,3,2,1])  # Ohne Outlier."
   ]
  },
  {
   "cell_type": "code",
   "execution_count": 5,
   "id": "16cc8702-113c-4104-8261-374f92b57e14",
   "metadata": {},
   "outputs": [
    {
     "data": {
      "text/plain": [
       "3.7142857142857144"
      ]
     },
     "execution_count": 5,
     "metadata": {},
     "output_type": "execute_result"
    }
   ],
   "source": [
    "np.average([1,2,10,3,3,6,1])  # Mit Outlier."
   ]
  },
  {
   "cell_type": "markdown",
   "id": "8a6a5c3a-1f61-4401-9ba3-0b8f42d713d2",
   "metadata": {},
   "source": [
    "In den unteren Zellen erstellen wir ein Dataset mit Outlier."
   ]
  },
  {
   "cell_type": "code",
   "execution_count": 21,
   "id": "71e79ecb-4d35-4993-86af-5d2c633e7046",
   "metadata": {
    "collapsed": true,
    "jupyter": {
     "outputs_hidden": true
    },
    "scrolled": true
   },
   "outputs": [
    {
     "data": {
      "text/plain": [
       "array([7, 1, 0, 9, 0, 7, 4, 9, 6, 8, 7, 5, 3, 9, 4, 3, 2, 6, 1, 7, 9, 3,\n",
       "       6, 1, 4, 9, 6, 1, 4, 4, 5, 4, 2, 4, 5, 9, 1, 1, 7, 3, 4, 9, 0, 0,\n",
       "       7, 7, 3, 9, 1, 7, 9, 4, 6, 2, 9, 8, 7, 4, 9, 6, 1, 0, 4, 4, 1, 1,\n",
       "       8, 1, 5, 1, 6, 5, 0, 2, 0, 2, 7, 6, 0, 3, 2, 3, 2, 9, 1, 2, 7, 4,\n",
       "       9, 3, 4, 4, 7, 4, 4, 2, 1, 3, 4, 2, 0, 1, 7, 8, 8, 3, 8, 1, 8, 7,\n",
       "       8, 2, 4, 2, 5, 7, 1, 8, 2, 4, 3, 5, 2, 1, 2, 2, 2, 6, 6, 5, 0, 6,\n",
       "       6, 0, 6, 0, 1, 3, 3, 4, 7, 9, 2, 9, 5, 1, 9, 3, 0, 8, 3, 9, 5, 0,\n",
       "       1, 9, 5, 9, 8, 6, 3, 6, 0, 6, 3, 4, 0, 8, 2, 1, 2, 6, 8, 4, 5, 7,\n",
       "       2, 2, 6, 7, 6, 9, 9, 2, 5, 4, 9, 2, 3, 5, 9, 3, 1, 3, 3, 9, 1, 0,\n",
       "       7, 2, 4, 3, 2, 3, 5, 3, 2, 8, 4, 4, 0, 6, 5, 1, 9, 1, 4, 3, 9, 5,\n",
       "       7, 5, 3, 5, 1, 3, 4, 4, 1, 7, 6, 6, 1, 1, 9, 1, 2, 3, 6, 1, 7, 3,\n",
       "       7, 8, 7, 9, 1, 0, 7, 3, 1, 3, 0, 0, 1, 0, 5, 8, 9, 7, 7, 7, 6, 6,\n",
       "       9, 5, 0, 9, 4, 3, 4, 5, 9, 2, 7, 4, 2, 7, 4, 5, 5, 5, 6, 1, 2, 4,\n",
       "       1, 0, 3, 8, 2, 9, 8, 7, 3, 0, 7, 6, 2, 9, 4, 8, 6, 8, 6, 8, 5, 2,\n",
       "       9, 1, 0, 5, 4, 6, 0, 6, 8, 4, 7, 7, 6, 3, 8, 5, 1, 2, 2, 2, 1, 2,\n",
       "       5, 3, 0, 1, 3, 2, 1, 6, 4, 1, 8, 3, 9, 8, 9, 7, 5, 8, 2, 7, 8, 5,\n",
       "       3, 5, 5, 5, 7, 2, 1, 9, 5, 7, 0, 2, 0, 5, 1, 5, 3, 8, 1, 0, 8, 4,\n",
       "       9, 2, 0, 6, 5, 9, 4, 7, 8, 3, 9, 2, 1, 9, 2, 5, 9, 1, 2, 9, 4, 6,\n",
       "       4, 8, 9, 8])"
      ]
     },
     "execution_count": 21,
     "metadata": {},
     "output_type": "execute_result"
    }
   ],
   "source": [
    "# Dataset Zahlen zwischen 0 und 9\n",
    "dataset = np.array( np.random.randint(10, size=400) )\n",
    "dataset"
   ]
  },
  {
   "cell_type": "code",
   "execution_count": 23,
   "id": "89468e48-b959-46c9-bca7-36707a3e2dec",
   "metadata": {
    "collapsed": true,
    "jupyter": {
     "outputs_hidden": true
    }
   },
   "outputs": [
    {
     "data": {
      "text/plain": [
       "array([ 7,  1,  0,  9,  0,  7,  4,  9,  6,  8,  7,  5,  3,  9,  4,  3,  2,\n",
       "        6,  1,  7,  9,  3,  6,  1,  4,  9,  6,  1,  4,  4,  5,  4,  2,  4,\n",
       "        5,  9,  1,  1,  7,  3,  4,  9,  0,  0,  7,  7,  3,  9,  1,  7,  9,\n",
       "        4,  6,  2,  9,  8,  7,  4,  9,  6,  1,  0,  4,  4,  1,  1,  8,  1,\n",
       "        5,  1,  6,  5,  0,  2,  0,  2,  7,  6,  0,  3,  2,  3,  2,  9,  1,\n",
       "        2,  7,  4,  9,  3,  4,  4,  7,  4,  4,  2,  1,  3,  4,  2,  0,  1,\n",
       "        7,  8,  8,  3,  8,  1,  8,  7,  8,  2,  4,  2,  5,  7,  1,  8,  2,\n",
       "        4,  3,  5,  2,  1,  2,  2,  2,  6,  6,  5,  0,  6,  6,  0,  6,  0,\n",
       "        1,  3,  3,  4,  7,  9,  2,  9,  5,  1,  9,  3,  0,  8,  3,  9,  5,\n",
       "        0,  1,  9,  5,  9,  8,  6,  3,  6,  0,  6,  3,  4,  0,  8,  2,  1,\n",
       "        2,  6,  8,  4,  5,  7,  2,  2,  6,  7,  6,  9,  9,  2,  5,  4,  9,\n",
       "        2,  3,  5,  9,  3,  1,  3,  3,  9,  1,  0,  7,  2,  4,  3,  2,  3,\n",
       "        5,  3,  2,  8,  4,  4,  0,  6,  5,  1,  9,  1,  4,  3,  9,  5,  7,\n",
       "        5,  3,  5,  1,  3,  4,  4,  1,  7,  6,  6,  1,  1,  9,  1,  2,  3,\n",
       "        6,  1,  7,  3,  7,  8,  7,  9,  1,  0,  7,  3,  1,  3,  0,  0,  1,\n",
       "        0,  5,  8,  9,  7,  7,  7,  6,  6,  9,  5,  0,  9,  4,  3,  4,  5,\n",
       "        9,  2,  7,  4,  2,  7,  4,  5,  5,  5,  6,  1,  2,  4,  1,  0,  3,\n",
       "        8,  2,  9,  8,  7,  3,  0,  7,  6,  2,  9,  4,  8,  6,  8,  6,  8,\n",
       "        5,  2,  9,  1,  0,  5,  4,  6,  0,  6,  8,  4,  7,  7,  6,  3,  8,\n",
       "        5,  1,  2,  2,  2,  1,  2,  5,  3,  0,  1,  3,  2,  1,  6,  4,  1,\n",
       "        8,  3,  9,  8,  9,  7,  5,  8,  2,  7,  8,  5,  3,  5,  5,  5,  7,\n",
       "        2,  1,  9,  5,  7,  0,  2,  0,  5,  1,  5,  3,  8,  1,  0,  8,  4,\n",
       "        9,  2,  0,  6,  5,  9,  4,  7,  8,  3,  9,  2,  1,  9,  2,  5,  9,\n",
       "        1,  2,  9,  4,  6,  4,  8,  9,  8, 12, 14, 14, 11,  8, 14, 10,  8,\n",
       "       14, 13,  8, 11,  9, 11, 14, 12,  8,  8,  9, 13, 10, 12, 13,  8, 14,\n",
       "       14, 12, 14, 12, 12, 14, 14, 11, 12, 11, 12,  8, 14, 12,  9, 10, 13,\n",
       "       11,  9, 14, 12, 11, 10, 13, 10, 10, 13, 14, 11, 13, 11,  9, 13,  8,\n",
       "        8, 12,  8, 12, 10, 14,  9,  9, 10, 12, 11, 14,  8, 10,  9, 11, 10,\n",
       "       13,  9, 13, 10, 11, 12, 14, 11,  9, 12,  8, 11, 10,  8, 13, 11, 11,\n",
       "       11, 11,  9, 11,  9,  9, 12])"
      ]
     },
     "execution_count": 23,
     "metadata": {},
     "output_type": "execute_result"
    }
   ],
   "source": [
    "outlier_ds = np.append(dataset, np.random.randint(low=8, high=15, size=100)  ) \n",
    "outlier_ds"
   ]
  },
  {
   "cell_type": "code",
   "execution_count": 24,
   "id": "62e4cbeb-04ed-4937-a7c5-ef3fd2e0cf95",
   "metadata": {
    "collapsed": true,
    "jupyter": {
     "outputs_hidden": true
    }
   },
   "outputs": [
    {
     "data": {
      "text/plain": [
       "array([ 7,  1,  0,  9,  0,  7,  4,  9,  6,  8,  7,  5,  3,  9,  4,  3,  2,\n",
       "        6,  1,  7,  9,  3,  6,  1,  4,  9,  6,  1,  4,  4,  5,  4,  2,  4,\n",
       "        5,  9,  1,  1,  7,  3,  4,  9,  0,  0,  7,  7,  3,  9,  1,  7,  9,\n",
       "        4,  6,  2,  9,  8,  7,  4,  9,  6,  1,  0,  4,  4,  1,  1,  8,  1,\n",
       "        5,  1,  6,  5,  0,  2,  0,  2,  7,  6,  0,  3,  2,  3,  2,  9,  1,\n",
       "        2,  7,  4,  9,  3,  4,  4,  7,  4,  4,  2,  1,  3,  4,  2,  0,  1,\n",
       "        7,  8,  8,  3,  8,  1,  8,  7,  8,  2,  4,  2,  5,  7,  1,  8,  2,\n",
       "        4,  3,  5,  2,  1,  2,  2,  2,  6,  6,  5,  0,  6,  6,  0,  6,  0,\n",
       "        1,  3,  3,  4,  7,  9,  2,  9,  5,  1,  9,  3,  0,  8,  3,  9,  5,\n",
       "        0,  1,  9,  5,  9,  8,  6,  3,  6,  0,  6,  3,  4,  0,  8,  2,  1,\n",
       "        2,  6,  8,  4,  5,  7,  2,  2,  6,  7,  6,  9,  9,  2,  5,  4,  9,\n",
       "        2,  3,  5,  9,  3,  1,  3,  3,  9,  1,  0,  7,  2,  4,  3,  2,  3,\n",
       "        5,  3,  2,  8,  4,  4,  0,  6,  5,  1,  9,  1,  4,  3,  9,  5,  7,\n",
       "        5,  3,  5,  1,  3,  4,  4,  1,  7,  6,  6,  1,  1,  9,  1,  2,  3,\n",
       "        6,  1,  7,  3,  7,  8,  7,  9,  1,  0,  7,  3,  1,  3,  0,  0,  1,\n",
       "        0,  5,  8,  9,  7,  7,  7,  6,  6,  9,  5,  0,  9,  4,  3,  4,  5,\n",
       "        9,  2,  7,  4,  2,  7,  4,  5,  5,  5,  6,  1,  2,  4,  1,  0,  3,\n",
       "        8,  2,  9,  8,  7,  3,  0,  7,  6,  2,  9,  4,  8,  6,  8,  6,  8,\n",
       "        5,  2,  9,  1,  0,  5,  4,  6,  0,  6,  8,  4,  7,  7,  6,  3,  8,\n",
       "        5,  1,  2,  2,  2,  1,  2,  5,  3,  0,  1,  3,  2,  1,  6,  4,  1,\n",
       "        8,  3,  9,  8,  9,  7,  5,  8,  2,  7,  8,  5,  3,  5,  5,  5,  7,\n",
       "        2,  1,  9,  5,  7,  0,  2,  0,  5,  1,  5,  3,  8,  1,  0,  8,  4,\n",
       "        9,  2,  0,  6,  5,  9,  4,  7,  8,  3,  9,  2,  1,  9,  2,  5,  9,\n",
       "        1,  2,  9,  4,  6,  4,  8,  9,  8, 14, 15, 22, 24, 15, 17, 14, 19,\n",
       "       20, 14])"
      ]
     },
     "execution_count": 24,
     "metadata": {},
     "output_type": "execute_result"
    }
   ],
   "source": [
    "outlier_ds = np.append(dataset, np.random.randint(low=13, high=25, size=10)  ) \n",
    "outlier_ds"
   ]
  },
  {
   "cell_type": "code",
   "execution_count": 26,
   "id": "6e573c98-d707-4837-b15b-2f47c31a31d8",
   "metadata": {},
   "outputs": [
    {
     "data": {
      "text/plain": [
       "<Axes: >"
      ]
     },
     "execution_count": 26,
     "metadata": {},
     "output_type": "execute_result"
    },
    {
     "data": {
      "image/png": "[encoded data removed]",
      "text/plain": [
       "<Figure size 640x480 with 1 Axes>"
      ]
     },
     "metadata": {},
     "output_type": "display_data"
    }
   ],
   "source": [
    "# Einfacher Plot mit Seaborn.\n",
    "sn.boxplot(x=outlier_ds)"
   ]
  },
  {
   "cell_type": "markdown",
   "id": "08358d7a-5133-4e42-ad82-f4ae26b6c30b",
   "metadata": {},
   "source": [
    "<i>Abb3</i>: Beschriftung eines Boxplots von Seaborn.\n",
    "\n",
    "<img src=\"./files_data/img/ml_ft_3.PNG\" width=550 hight=550>"
   ]
  },
  {
   "cell_type": "markdown",
   "id": "2bf9e6ba-46f1-467e-949e-ee29f9cbdd57",
   "metadata": {},
   "source": []
  },
  {
   "cell_type": "code",
   "execution_count": null,
   "id": "a9ba89ca-1f62-42ae-8c79-1377b23df2a1",
   "metadata": {},
   "outputs": [],
   "source": []
  },
  {
   "cell_type": "code",
   "execution_count": null,
   "id": "8ada225c-d7c6-4d8e-b66f-3363b14e7ebf",
   "metadata": {},
   "outputs": [],
   "source": []
  },
  {
   "cell_type": "code",
   "execution_count": null,
   "id": "826ff0fa-31a6-4569-9544-147a7ea993c7",
   "metadata": {},
   "outputs": [],
   "source": []
  },
  {
   "cell_type": "code",
   "execution_count": null,
   "id": "e060b7ab-75a1-44b6-bf88-ed03d8f16fd9",
   "metadata": {},
   "outputs": [],
   "source": []
  },
  {
   "cell_type": "code",
   "execution_count": null,
   "id": "19e995c3-66b8-4c56-a6c1-5c073f9228de",
   "metadata": {},
   "outputs": [],
   "source": []
  },
  {
   "cell_type": "code",
   "execution_count": null,
   "id": "f3f12ce2-9e6e-4715-b252-f84edaeb49c8",
   "metadata": {},
   "outputs": [],
   "source": []
  },
  {
   "cell_type": "code",
   "execution_count": null,
   "id": "f017eff3-456c-4e4d-a5aa-515ecbf72251",
   "metadata": {},
   "outputs": [],
   "source": [
    "# Seaborn Outlierrs Grapth\n",
    "https://seaborn.pydata.org/generated/seaborn.boxplot.html"
   ]
  },
  {
   "cell_type": "code",
   "execution_count": null,
   "id": "6ee0086f-75bd-4e47-94cd-3cece626f08a",
   "metadata": {},
   "outputs": [],
   "source": []
  },
  {
   "cell_type": "code",
   "execution_count": null,
   "id": "344c94d7-2bd4-4141-a7d2-263cfc649db5",
   "metadata": {},
   "outputs": [],
   "source": []
  },
  {
   "cell_type": "code",
   "execution_count": null,
   "id": "ec60bab5-942d-4fc8-a0c6-9966e76a1248",
   "metadata": {},
   "outputs": [],
   "source": []
  },
  {
   "cell_type": "code",
   "execution_count": null,
   "id": "8826b6f0-0bc9-4853-8990-e0faf2c0e61d",
   "metadata": {},
   "outputs": [],
   "source": []
  },
  {
   "cell_type": "code",
   "execution_count": null,
   "id": "3bf92d45-b352-4c71-8bd2-fb6b23436187",
   "metadata": {},
   "outputs": [],
   "source": []
  },
  {
   "cell_type": "code",
   "execution_count": null,
   "id": "50c23528-c7da-4028-b861-3ac14d942869",
   "metadata": {},
   "outputs": [],
   "source": []
  },
  {
   "cell_type": "code",
   "execution_count": null,
   "id": "ce5bb26b-440d-45f5-a464-54286d534a1d",
   "metadata": {},
   "outputs": [],
   "source": []
  },
  {
   "cell_type": "code",
   "execution_count": null,
   "id": "efe98654-22b5-4a70-8951-1201d009f28d",
   "metadata": {},
   "outputs": [],
   "source": []
  },
  {
   "cell_type": "code",
   "execution_count": null,
   "id": "13ce585a-745c-450e-b91c-b854cb54a6ad",
   "metadata": {},
   "outputs": [],
   "source": []
  }
 ],
 "metadata": {
  "kernelspec": {
   "display_name": "Python 3 (ipykernel)",
   "language": "python",
   "name": "python3"
  },
  "language_info": {
   "codemirror_mode": {
    "name": "ipython",
    "version": 3
   },
   "file_extension": ".py",
   "mimetype": "text/x-python",
   "name": "python",
   "nbconvert_exporter": "python",
   "pygments_lexer": "ipython3",
   "version": "3.9.18"
  }
 },
 "nbformat": 4,
 "nbformat_minor": 5
}
