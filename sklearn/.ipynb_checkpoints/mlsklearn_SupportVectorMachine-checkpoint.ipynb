{
 "cells": [
  {
   "cell_type": "markdown",
   "id": "c079c841-91a9-4f3b-8f41-12b8735387e4",
   "metadata": {},
   "source": [
    "<h1>Support Vector Machines (SVM)</h1>"
   ]
  },
  {
   "cell_type": "markdown",
   "id": "315e7b75-418c-4e8f-b549-2bdd77d7b7aa",
   "metadata": {},
   "source": [
    "Bei einem überblickbaren Dataset wie in der Abbildung 1, ist das Ziel diese Datenpunkte zu unterscheiden.\n",
    "\n",
    "Die Boundary, die gezogen wird (in der Abbildung 1 ist es linear) soll diese Trennung vornehmen. Die Grenze kann dabei linear sein oder eine andere Form annehmen, welches konfigurierbar ist.\n",
    "\n",
    "Verschiedene Linien können passen, um die beste zu finden wird Margin von nahen Datenpunkten maximiert. Dadurch ist genug Abstand da, um kommende Datenpunkte besser einzugruppieren. Es gibt einige Parameter, die die Arbeitsweise von SVM verändern."
   ]
  },
  {
   "cell_type": "markdown",
   "id": "16317b50-6f65-4006-b9a7-7eccdfb7a29e",
   "metadata": {},
   "source": [
    "<i>Abb1</i>: SVM teilt die Gruppen ein und versucht Margin zu maximieren. \n",
    "\n",
    "<img src=\"./files_data/img/sklearn_svm_1.PNG\" width=500 hight=500>"
   ]
  },
  {
   "cell_type": "markdown",
   "id": "26a7ed48-e213-4992-8aa7-4bb9f02d31cd",
   "metadata": {},
   "source": [
    "In einem 2D Raum ist die Grenze eine Linie, im 3D Raum eine Ebene, und in höheren Dimensionen eine Hyperebene (Hyperplane)"
   ]
  },
  {
   "cell_type": "markdown",
   "id": "f0942c30-5d3e-4a9c-a686-c4ea7a9e3820",
   "metadata": {},
   "source": [
    "<i>Abb2</i>: Beispielhafte Darstellung der Gamma Einstellung.  \n",
    "\n",
    "<img src=\"./files_data/img/sklearn_svm_2.PNG\" width=700 hight=400>"
   ]
  },
  {
   "cell_type": "markdown",
   "id": "611b7b30-179e-4acf-aac7-39a870291ec8",
   "metadata": {},
   "source": [
    "Der Gamma Parameter: <br>\n",
    "Der Gamma Parameter verändert die Boundary, was nur bei nicht linearen Boundaries möglich ist. \n",
    "\n",
    "High Gamma: Schaut sich nur die naheliegenden Punkte an. Die anderen, die weiter weg sind, spielen keine Rolle. <br>\n",
    "Die Einflussreichweite der Datenpunkte ist beschränkter. Durch das enge anliegen an den Punkten ist das Model etwas komplizierter und es gibt mehr Kurven. Wenn der Gamma Wert sehr hoch ist, kann es zu Overfitting führen.\n",
    "\n",
    "Low Gamma: Hier werden auch die Datenpunkte in Betracht gezogen, die etwas weiter weg sind. Datenpunkte, die weiter weg sind, haben auch einen Einfluss. Das Ergebnis ist, dass es eher generalisiert, ein zu niedriger Wert kann zu Underfitting führen.<br> \n",
    "Kurzgesagt: wie hoch ist die Einflussreichweite der Datenpunkte. \n",
    "\n",
    "\n",
    "Kernel: <br>\n",
    "Kernel bezeichnet die Funktion für das Erstellen der Boundary. Ein Kernel der linear ist, erzeugt eine gerade Linie, die eine Gruppe von Punkten klassifizieren soll, wie in der Abbildung 1. <br>\n",
    "Ein Kernel kann Linear, Polynomial, Sigmoid und Radial basis function (RBF) sein. <br>\n",
    "Ein Kernel kann die Features transformieren, um das Problem besser zu lösen. Für eine bessere Unterscheidung können die Datenpunkte auf eine höhere Ebene der Dimension angehoben werden (z. B. 2D => 3D). \n",
    "\n",
    "C (L2 Regulierung): <br>\n",
    "Der Parameter C steuert die L2 Regulierung des Models. Damit kann die Größe des Margins eingestellt werden. <br>\n",
    "Hoher C-Wert: Minimiert die miss Klassifikation der Trainingsdaten => Margin ist klein. <br>\n",
    "Niedriger C-Wert: Bei niedrigeren Werten tauchen öfter miss Klassifikationen auf, was okay sein kann. Das Model wird generalisiert. => Margin ist größer."
   ]
  },
  {
   "cell_type": "markdown",
   "id": "556316b6-dfa6-4de7-9054-1d6dc29a244c",
   "metadata": {},
   "source": [
    "<i>Abb3</i>: Beispielhafte Darstellung der Reguliering.  \n",
    "\n",
    "<img src=\"./files_data/img/sklearn_svm_3.PNG\" width=700 hight=400>"
   ]
  },
  {
   "cell_type": "markdown",
   "id": "af617479-5f75-4972-9f69-253c9c46015a",
   "metadata": {},
   "source": [
    "Um die optimalen Parameter für das Model zu finden, kann Grid Search angewendet werden."
   ]
  },
  {
   "cell_type": "markdown",
   "id": "45c4b856-109c-49b4-8c00-d254c1a64305",
   "metadata": {},
   "source": [
    "Die Verwendung von SVM ist einfach und schnell an einem Beispiel zu zeigen. Als Dataset nutzen wir das Iris Dataset, bereitgestellt von Sklearn."
   ]
  },
  {
   "cell_type": "code",
   "execution_count": 1,
   "id": "285c2e2c-8d6c-4276-9ab9-fe33f8b81b5e",
   "metadata": {},
   "outputs": [],
   "source": [
    "# Imports \n",
    "import pandas as pd\n",
    "\n",
    "from sklearn.datasets import load_iris  # Dataset\n",
    "from sklearn.svm      import SVC        # SVM Klassifizierer  \n",
    "\n",
    "from sklearn.model_selection import GridSearchCV  # Grid Search\n",
    "import matplotlib.pyplot     as plt             "
   ]
  },
  {
   "cell_type": "code",
   "execution_count": 2,
   "id": "b5e83b15-07e6-41a7-9852-07df9b1aa980",
   "metadata": {},
   "outputs": [
    {
     "data": {
      "text/plain": [
       "dict_keys(['data', 'target', 'frame', 'target_names', 'DESCR', 'feature_names', 'filename', 'data_module'])"
      ]
     },
     "execution_count": 2,
     "metadata": {},
     "output_type": "execute_result"
    }
   ],
   "source": [
    "iris_data = load_iris()  # Lade Daten.\n",
    "iris_data.keys()         # Zeige verfügbare Keys."
   ]
  },
  {
   "cell_type": "code",
   "execution_count": 3,
   "id": "56d3a726-4098-4677-b06c-eb9b62a24c53",
   "metadata": {},
   "outputs": [
    {
     "data": {
      "text/html": [
       "<div>\n",
       "<style scoped>\n",
       "    .dataframe tbody tr th:only-of-type {\n",
       "        vertical-align: middle;\n",
       "    }\n",
       "\n",
       "    .dataframe tbody tr th {\n",
       "        vertical-align: top;\n",
       "    }\n",
       "\n",
       "    .dataframe thead th {\n",
       "        text-align: right;\n",
       "    }\n",
       "</style>\n",
       "<table border=\"1\" class=\"dataframe\">\n",
       "  <thead>\n",
       "    <tr style=\"text-align: right;\">\n",
       "      <th></th>\n",
       "      <th>sepal length (cm)</th>\n",
       "      <th>sepal width (cm)</th>\n",
       "      <th>petal length (cm)</th>\n",
       "      <th>petal width (cm)</th>\n",
       "    </tr>\n",
       "  </thead>\n",
       "  <tbody>\n",
       "    <tr>\n",
       "      <th>0</th>\n",
       "      <td>5.1</td>\n",
       "      <td>3.5</td>\n",
       "      <td>1.4</td>\n",
       "      <td>0.2</td>\n",
       "    </tr>\n",
       "    <tr>\n",
       "      <th>1</th>\n",
       "      <td>4.9</td>\n",
       "      <td>3.0</td>\n",
       "      <td>1.4</td>\n",
       "      <td>0.2</td>\n",
       "    </tr>\n",
       "    <tr>\n",
       "      <th>2</th>\n",
       "      <td>4.7</td>\n",
       "      <td>3.2</td>\n",
       "      <td>1.3</td>\n",
       "      <td>0.2</td>\n",
       "    </tr>\n",
       "    <tr>\n",
       "      <th>3</th>\n",
       "      <td>4.6</td>\n",
       "      <td>3.1</td>\n",
       "      <td>1.5</td>\n",
       "      <td>0.2</td>\n",
       "    </tr>\n",
       "    <tr>\n",
       "      <th>4</th>\n",
       "      <td>5.0</td>\n",
       "      <td>3.6</td>\n",
       "      <td>1.4</td>\n",
       "      <td>0.2</td>\n",
       "    </tr>\n",
       "  </tbody>\n",
       "</table>\n",
       "</div>"
      ],
      "text/plain": [
       "   sepal length (cm)  sepal width (cm)  petal length (cm)  petal width (cm)\n",
       "0                5.1               3.5                1.4               0.2\n",
       "1                4.9               3.0                1.4               0.2\n",
       "2                4.7               3.2                1.3               0.2\n",
       "3                4.6               3.1                1.5               0.2\n",
       "4                5.0               3.6                1.4               0.2"
      ]
     },
     "execution_count": 3,
     "metadata": {},
     "output_type": "execute_result"
    }
   ],
   "source": [
    "# Erstelle Dataframe.\n",
    "iris_df = pd.DataFrame(iris_data.data, columns=iris_data.feature_names)\n",
    "iris_df.head()"
   ]
  },
  {
   "cell_type": "code",
   "execution_count": 4,
   "id": "f6edc465-f351-4dc2-995b-445a6ea1dfa4",
   "metadata": {},
   "outputs": [
    {
     "data": {
      "text/html": [
       "<div>\n",
       "<style scoped>\n",
       "    .dataframe tbody tr th:only-of-type {\n",
       "        vertical-align: middle;\n",
       "    }\n",
       "\n",
       "    .dataframe tbody tr th {\n",
       "        vertical-align: top;\n",
       "    }\n",
       "\n",
       "    .dataframe thead th {\n",
       "        text-align: right;\n",
       "    }\n",
       "</style>\n",
       "<table border=\"1\" class=\"dataframe\">\n",
       "  <thead>\n",
       "    <tr style=\"text-align: right;\">\n",
       "      <th></th>\n",
       "      <th>sepal length (cm)</th>\n",
       "      <th>sepal width (cm)</th>\n",
       "      <th>petal length (cm)</th>\n",
       "      <th>petal width (cm)</th>\n",
       "      <th>class</th>\n",
       "    </tr>\n",
       "  </thead>\n",
       "  <tbody>\n",
       "    <tr>\n",
       "      <th>0</th>\n",
       "      <td>5.1</td>\n",
       "      <td>3.5</td>\n",
       "      <td>1.4</td>\n",
       "      <td>0.2</td>\n",
       "      <td>0</td>\n",
       "    </tr>\n",
       "    <tr>\n",
       "      <th>1</th>\n",
       "      <td>4.9</td>\n",
       "      <td>3.0</td>\n",
       "      <td>1.4</td>\n",
       "      <td>0.2</td>\n",
       "      <td>0</td>\n",
       "    </tr>\n",
       "    <tr>\n",
       "      <th>2</th>\n",
       "      <td>4.7</td>\n",
       "      <td>3.2</td>\n",
       "      <td>1.3</td>\n",
       "      <td>0.2</td>\n",
       "      <td>0</td>\n",
       "    </tr>\n",
       "    <tr>\n",
       "      <th>3</th>\n",
       "      <td>4.6</td>\n",
       "      <td>3.1</td>\n",
       "      <td>1.5</td>\n",
       "      <td>0.2</td>\n",
       "      <td>0</td>\n",
       "    </tr>\n",
       "    <tr>\n",
       "      <th>4</th>\n",
       "      <td>5.0</td>\n",
       "      <td>3.6</td>\n",
       "      <td>1.4</td>\n",
       "      <td>0.2</td>\n",
       "      <td>0</td>\n",
       "    </tr>\n",
       "  </tbody>\n",
       "</table>\n",
       "</div>"
      ],
      "text/plain": [
       "   sepal length (cm)  sepal width (cm)  petal length (cm)  petal width (cm)  \\\n",
       "0                5.1               3.5                1.4               0.2   \n",
       "1                4.9               3.0                1.4               0.2   \n",
       "2                4.7               3.2                1.3               0.2   \n",
       "3                4.6               3.1                1.5               0.2   \n",
       "4                5.0               3.6                1.4               0.2   \n",
       "\n",
       "   class  \n",
       "0      0  \n",
       "1      0  \n",
       "2      0  \n",
       "3      0  \n",
       "4      0  "
      ]
     },
     "execution_count": 4,
     "metadata": {},
     "output_type": "execute_result"
    }
   ],
   "source": [
    "# Füge target hinzu.\n",
    "iris_df = pd.concat([iris_df, pd.DataFrame(iris_data.target, columns=['class'])], axis=\"columns\")\n",
    "iris_df.head()"
   ]
  },
  {
   "cell_type": "markdown",
   "id": "bf06050b-04d6-4013-8792-65537f640d59",
   "metadata": {},
   "source": [
    "Die verschiedenen Merkmale können als Plot angezeigt werden. "
   ]
  },
  {
   "cell_type": "code",
   "execution_count": 11,
   "id": "6925f232-b1b4-4592-8672-2cb39dec032e",
   "metadata": {},
   "outputs": [
    {
     "data": {
      "text/plain": [
       "<matplotlib.legend.Legend at 0x1851eebfa00>"
      ]
     },
     "execution_count": 11,
     "metadata": {},
     "output_type": "execute_result"
    },
    {
     "data": {
      "image/png": "[encoded data removed]",
      "text/plain": [
       "<Figure size 640x480 with 1 Axes>"
      ]
     },
     "metadata": {},
     "output_type": "display_data"
    }
   ],
   "source": [
    "%matplotlib inline\n",
    "\n",
    "# petal length #\n",
    "\n",
    "plt.title('petal')\n",
    "plt.xlabel('petal length cm')\n",
    "plt.ylabel('petal width cm')\n",
    "df1 = iris_df[ iris_df['class']==0 ] # Sortiere Klassen aus.\n",
    "df2 = iris_df[ iris_df['class']==1 ]\n",
    "df3 = iris_df[ iris_df['class']==2 ]\n",
    "plt.scatter(df1['petal length (cm)'], df1['petal width (cm)'], color='blue', label=\"1\")   # Erstelle Plot\n",
    "plt.scatter(df2['petal length (cm)'], df2['petal width (cm)'], color=\"orange\", label=\"2\")\n",
    "plt.scatter(df3['petal length (cm)'], df3['petal width (cm)'], color=\"violet\", label=\"3\")\n",
    "plt.legend()"
   ]
  },
  {
   "cell_type": "code",
   "execution_count": 12,
   "id": "80e2db8f-2c45-45dc-865f-3839db2affd1",
   "metadata": {},
   "outputs": [
    {
     "data": {
      "text/plain": [
       "<matplotlib.legend.Legend at 0x1851eebf8e0>"
      ]
     },
     "execution_count": 12,
     "metadata": {},
     "output_type": "execute_result"
    },
    {
     "data": {
      "image/png": "[encoded data removed]",
      "text/plain": [
       "<Figure size 640x480 with 1 Axes>"
      ]
     },
     "metadata": {},
     "output_type": "display_data"
    }
   ],
   "source": [
    "%matplotlib inline\n",
    "\n",
    "# petal length #\n",
    "plt.title('sepal')\n",
    "plt.xlabel('sepal length cm')\n",
    "plt.ylabel('sepal width cm')\n",
    "df1 = iris_df[ iris_df['class']==0 ] # Sortiere Klassen aus.\n",
    "df2 = iris_df[ iris_df['class']==1 ]\n",
    "df3 = iris_df[ iris_df['class']==2 ]\n",
    "plt.scatter(df1['sepal length (cm)'], df1['sepal width (cm)'], color='blue', label=\"1\")   # Erstelle Plot\n",
    "plt.scatter(df2['sepal length (cm)'], df2['sepal width (cm)'], color=\"orange\", label=\"2\")\n",
    "plt.scatter(df3['sepal length (cm)'], df3['sepal width (cm)'], color=\"violet\", label=\"3\")\n",
    "plt.legend()"
   ]
  },
  {
   "cell_type": "markdown",
   "id": "3c973966-f7c9-45fe-abce-5ae65d1f9ab0",
   "metadata": {},
   "source": [
    "Für das weitere Vorgehen, werden wir beide (sepal, petal) separieren und einzeln für das Training nutzen.\n",
    "\n",
    "Dabei können wir später sehen, wie sich die Modelle in den Parametern unterscheiden."
   ]
  },
  {
   "cell_type": "code",
   "execution_count": 7,
   "id": "21335118-efa3-40a7-950a-a6615de9d6a3",
   "metadata": {},
   "outputs": [
    {
     "data": {
      "text/html": [
       "<style>#sk-container-id-1 {color: black;}#sk-container-id-1 pre{padding: 0;}#sk-container-id-1 div.sk-toggleable {background-color: white;}#sk-container-id-1 label.sk-toggleable__label {cursor: pointer;display: block;width: 100%;margin-bottom: 0;padding: 0.3em;box-sizing: border-box;text-align: center;}#sk-container-id-1 label.sk-toggleable__label-arrow:before {content: \"▸\";float: left;margin-right: 0.25em;color: #696969;}#sk-container-id-1 label.sk-toggleable__label-arrow:hover:before {color: black;}#sk-container-id-1 div.sk-estimator:hover label.sk-toggleable__label-arrow:before {color: black;}#sk-container-id-1 div.sk-toggleable__content {max-height: 0;max-width: 0;overflow: hidden;text-align: left;background-color: #f0f8ff;}#sk-container-id-1 div.sk-toggleable__content pre {margin: 0.2em;color: black;border-radius: 0.25em;background-color: #f0f8ff;}#sk-container-id-1 input.sk-toggleable__control:checked~div.sk-toggleable__content {max-height: 200px;max-width: 100%;overflow: auto;}#sk-container-id-1 input.sk-toggleable__control:checked~label.sk-toggleable__label-arrow:before {content: \"▾\";}#sk-container-id-1 div.sk-estimator input.sk-toggleable__control:checked~label.sk-toggleable__label {background-color: #d4ebff;}#sk-container-id-1 div.sk-label input.sk-toggleable__control:checked~label.sk-toggleable__label {background-color: #d4ebff;}#sk-container-id-1 input.sk-hidden--visually {border: 0;clip: rect(1px 1px 1px 1px);clip: rect(1px, 1px, 1px, 1px);height: 1px;margin: -1px;overflow: hidden;padding: 0;position: absolute;width: 1px;}#sk-container-id-1 div.sk-estimator {font-family: monospace;background-color: #f0f8ff;border: 1px dotted black;border-radius: 0.25em;box-sizing: border-box;margin-bottom: 0.5em;}#sk-container-id-1 div.sk-estimator:hover {background-color: #d4ebff;}#sk-container-id-1 div.sk-parallel-item::after {content: \"\";width: 100%;border-bottom: 1px solid gray;flex-grow: 1;}#sk-container-id-1 div.sk-label:hover label.sk-toggleable__label {background-color: #d4ebff;}#sk-container-id-1 div.sk-serial::before {content: \"\";position: absolute;border-left: 1px solid gray;box-sizing: border-box;top: 0;bottom: 0;left: 50%;z-index: 0;}#sk-container-id-1 div.sk-serial {display: flex;flex-direction: column;align-items: center;background-color: white;padding-right: 0.2em;padding-left: 0.2em;position: relative;}#sk-container-id-1 div.sk-item {position: relative;z-index: 1;}#sk-container-id-1 div.sk-parallel {display: flex;align-items: stretch;justify-content: center;background-color: white;position: relative;}#sk-container-id-1 div.sk-item::before, #sk-container-id-1 div.sk-parallel-item::before {content: \"\";position: absolute;border-left: 1px solid gray;box-sizing: border-box;top: 0;bottom: 0;left: 50%;z-index: -1;}#sk-container-id-1 div.sk-parallel-item {display: flex;flex-direction: column;z-index: 1;position: relative;background-color: white;}#sk-container-id-1 div.sk-parallel-item:first-child::after {align-self: flex-end;width: 50%;}#sk-container-id-1 div.sk-parallel-item:last-child::after {align-self: flex-start;width: 50%;}#sk-container-id-1 div.sk-parallel-item:only-child::after {width: 0;}#sk-container-id-1 div.sk-dashed-wrapped {border: 1px dashed gray;margin: 0 0.4em 0.5em 0.4em;box-sizing: border-box;padding-bottom: 0.4em;background-color: white;}#sk-container-id-1 div.sk-label label {font-family: monospace;font-weight: bold;display: inline-block;line-height: 1.2em;}#sk-container-id-1 div.sk-label-container {text-align: center;}#sk-container-id-1 div.sk-container {/* jupyter's `normalize.less` sets `[hidden] { display: none; }` but bootstrap.min.css set `[hidden] { display: none !important; }` so we also need the `!important` here to be able to override the default hidden behavior on the sphinx rendered scikit-learn.org. See: https://github.com/scikit-learn/scikit-learn/issues/21755 */display: inline-block !important;position: relative;}#sk-container-id-1 div.sk-text-repr-fallback {display: none;}</style><div id=\"sk-container-id-1\" class=\"sk-top-container\"><div class=\"sk-text-repr-fallback\"><pre>GridSearchCV(cv=5, estimator=SVC(),\n",
       "             param_grid={&#x27;C&#x27;: [1, 2, 10], &#x27;degree&#x27;: [2, 3, 4],\n",
       "                         &#x27;gamma&#x27;: [0.5, 3, &#x27;auto&#x27;],\n",
       "                         &#x27;kernel&#x27;: [&#x27;rbf&#x27;, &#x27;linear&#x27;, &#x27;poly&#x27;, &#x27;sigmoid&#x27;]})</pre><b>In a Jupyter environment, please rerun this cell to show the HTML representation or trust the notebook. <br />On GitHub, the HTML representation is unable to render, please try loading this page with nbviewer.org.</b></div><div class=\"sk-container\" hidden><div class=\"sk-item sk-dashed-wrapped\"><div class=\"sk-label-container\"><div class=\"sk-label sk-toggleable\"><input class=\"sk-toggleable__control sk-hidden--visually\" id=\"sk-estimator-id-1\" type=\"checkbox\" ><label for=\"sk-estimator-id-1\" class=\"sk-toggleable__label sk-toggleable__label-arrow\">GridSearchCV</label><div class=\"sk-toggleable__content\"><pre>GridSearchCV(cv=5, estimator=SVC(),\n",
       "             param_grid={&#x27;C&#x27;: [1, 2, 10], &#x27;degree&#x27;: [2, 3, 4],\n",
       "                         &#x27;gamma&#x27;: [0.5, 3, &#x27;auto&#x27;],\n",
       "                         &#x27;kernel&#x27;: [&#x27;rbf&#x27;, &#x27;linear&#x27;, &#x27;poly&#x27;, &#x27;sigmoid&#x27;]})</pre></div></div></div><div class=\"sk-parallel\"><div class=\"sk-parallel-item\"><div class=\"sk-item\"><div class=\"sk-label-container\"><div class=\"sk-label sk-toggleable\"><input class=\"sk-toggleable__control sk-hidden--visually\" id=\"sk-estimator-id-2\" type=\"checkbox\" ><label for=\"sk-estimator-id-2\" class=\"sk-toggleable__label sk-toggleable__label-arrow\">estimator: SVC</label><div class=\"sk-toggleable__content\"><pre>SVC()</pre></div></div></div><div class=\"sk-serial\"><div class=\"sk-item\"><div class=\"sk-estimator sk-toggleable\"><input class=\"sk-toggleable__control sk-hidden--visually\" id=\"sk-estimator-id-3\" type=\"checkbox\" ><label for=\"sk-estimator-id-3\" class=\"sk-toggleable__label sk-toggleable__label-arrow\">SVC</label><div class=\"sk-toggleable__content\"><pre>SVC()</pre></div></div></div></div></div></div></div></div></div></div>"
      ],
      "text/plain": [
       "GridSearchCV(cv=5, estimator=SVC(),\n",
       "             param_grid={'C': [1, 2, 10], 'degree': [2, 3, 4],\n",
       "                         'gamma': [0.5, 3, 'auto'],\n",
       "                         'kernel': ['rbf', 'linear', 'poly', 'sigmoid']})"
      ]
     },
     "execution_count": 7,
     "metadata": {},
     "output_type": "execute_result"
    }
   ],
   "source": [
    "# Wende direkt Grid Search an. petal. \n",
    "\n",
    "gridSearch = GridSearchCV( SVC() , { \n",
    "    'C':      [1, 2, 10],                            # Regulierung\n",
    "    'kernel': ['rbf','linear', 'poly', 'sigmoid'],   # Boundary Funktion\n",
    "    'gamma':  [0.5, 3, 'auto'],     # Einfluss Datenpunkte \n",
    "    'degree': [2, 3, 4]             # Grad der Polynomialen Funktion. \n",
    "}, cv=5, return_train_score=False)  # Mit Cross Validation 5\n",
    "\n",
    "gridSearch.fit(iris_df[['petal length (cm)', 'petal width (cm)' ]], iris_df['class'])"
   ]
  },
  {
   "cell_type": "markdown",
   "id": "0393f01f-eaf9-4cc4-ab66-9d5664bf8785",
   "metadata": {},
   "source": [
    "Jetzt können die Werte ausgelesen werden. <br>\n",
    "Eine Tabellenansicht mit Pandas ist auch möglich. "
   ]
  },
  {
   "cell_type": "code",
   "execution_count": 14,
   "id": "c2bfbeac-58cf-478c-ae68-4c83f53fb72e",
   "metadata": {},
   "outputs": [
    {
     "data": {
      "text/plain": [
       "{'C': 2, 'degree': 2, 'gamma': 0.5, 'kernel': 'rbf'}"
      ]
     },
     "execution_count": 14,
     "metadata": {},
     "output_type": "execute_result"
    }
   ],
   "source": [
    "gridSearch.best_params_"
   ]
  },
  {
   "cell_type": "code",
   "execution_count": 9,
   "id": "0c2c49fd-836e-4072-bd0d-7931a37d54e1",
   "metadata": {},
   "outputs": [
    {
     "data": {
      "text/plain": [
       "0.9733333333333334"
      ]
     },
     "execution_count": 9,
     "metadata": {},
     "output_type": "execute_result"
    }
   ],
   "source": [
    "gridSearch.best_score_"
   ]
  },
  {
   "cell_type": "code",
   "execution_count": 10,
   "id": "0c7dba25-8615-4324-a56a-957294cc6d42",
   "metadata": {},
   "outputs": [
    {
     "data": {
      "text/html": [
       "<style>#sk-container-id-3 {color: black;}#sk-container-id-3 pre{padding: 0;}#sk-container-id-3 div.sk-toggleable {background-color: white;}#sk-container-id-3 label.sk-toggleable__label {cursor: pointer;display: block;width: 100%;margin-bottom: 0;padding: 0.3em;box-sizing: border-box;text-align: center;}#sk-container-id-3 label.sk-toggleable__label-arrow:before {content: \"▸\";float: left;margin-right: 0.25em;color: #696969;}#sk-container-id-3 label.sk-toggleable__label-arrow:hover:before {color: black;}#sk-container-id-3 div.sk-estimator:hover label.sk-toggleable__label-arrow:before {color: black;}#sk-container-id-3 div.sk-toggleable__content {max-height: 0;max-width: 0;overflow: hidden;text-align: left;background-color: #f0f8ff;}#sk-container-id-3 div.sk-toggleable__content pre {margin: 0.2em;color: black;border-radius: 0.25em;background-color: #f0f8ff;}#sk-container-id-3 input.sk-toggleable__control:checked~div.sk-toggleable__content {max-height: 200px;max-width: 100%;overflow: auto;}#sk-container-id-3 input.sk-toggleable__control:checked~label.sk-toggleable__label-arrow:before {content: \"▾\";}#sk-container-id-3 div.sk-estimator input.sk-toggleable__control:checked~label.sk-toggleable__label {background-color: #d4ebff;}#sk-container-id-3 div.sk-label input.sk-toggleable__control:checked~label.sk-toggleable__label {background-color: #d4ebff;}#sk-container-id-3 input.sk-hidden--visually {border: 0;clip: rect(1px 1px 1px 1px);clip: rect(1px, 1px, 1px, 1px);height: 1px;margin: -1px;overflow: hidden;padding: 0;position: absolute;width: 1px;}#sk-container-id-3 div.sk-estimator {font-family: monospace;background-color: #f0f8ff;border: 1px dotted black;border-radius: 0.25em;box-sizing: border-box;margin-bottom: 0.5em;}#sk-container-id-3 div.sk-estimator:hover {background-color: #d4ebff;}#sk-container-id-3 div.sk-parallel-item::after {content: \"\";width: 100%;border-bottom: 1px solid gray;flex-grow: 1;}#sk-container-id-3 div.sk-label:hover label.sk-toggleable__label {background-color: #d4ebff;}#sk-container-id-3 div.sk-serial::before {content: \"\";position: absolute;border-left: 1px solid gray;box-sizing: border-box;top: 0;bottom: 0;left: 50%;z-index: 0;}#sk-container-id-3 div.sk-serial {display: flex;flex-direction: column;align-items: center;background-color: white;padding-right: 0.2em;padding-left: 0.2em;position: relative;}#sk-container-id-3 div.sk-item {position: relative;z-index: 1;}#sk-container-id-3 div.sk-parallel {display: flex;align-items: stretch;justify-content: center;background-color: white;position: relative;}#sk-container-id-3 div.sk-item::before, #sk-container-id-3 div.sk-parallel-item::before {content: \"\";position: absolute;border-left: 1px solid gray;box-sizing: border-box;top: 0;bottom: 0;left: 50%;z-index: -1;}#sk-container-id-3 div.sk-parallel-item {display: flex;flex-direction: column;z-index: 1;position: relative;background-color: white;}#sk-container-id-3 div.sk-parallel-item:first-child::after {align-self: flex-end;width: 50%;}#sk-container-id-3 div.sk-parallel-item:last-child::after {align-self: flex-start;width: 50%;}#sk-container-id-3 div.sk-parallel-item:only-child::after {width: 0;}#sk-container-id-3 div.sk-dashed-wrapped {border: 1px dashed gray;margin: 0 0.4em 0.5em 0.4em;box-sizing: border-box;padding-bottom: 0.4em;background-color: white;}#sk-container-id-3 div.sk-label label {font-family: monospace;font-weight: bold;display: inline-block;line-height: 1.2em;}#sk-container-id-3 div.sk-label-container {text-align: center;}#sk-container-id-3 div.sk-container {/* jupyter's `normalize.less` sets `[hidden] { display: none; }` but bootstrap.min.css set `[hidden] { display: none !important; }` so we also need the `!important` here to be able to override the default hidden behavior on the sphinx rendered scikit-learn.org. See: https://github.com/scikit-learn/scikit-learn/issues/21755 */display: inline-block !important;position: relative;}#sk-container-id-3 div.sk-text-repr-fallback {display: none;}</style><div id=\"sk-container-id-3\" class=\"sk-top-container\"><div class=\"sk-text-repr-fallback\"><pre>GridSearchCV(cv=5, estimator=SVC(),\n",
       "             param_grid={&#x27;C&#x27;: [1, 2, 10], &#x27;degree&#x27;: [2, 3, 4],\n",
       "                         &#x27;gamma&#x27;: [0.5, 3, &#x27;auto&#x27;],\n",
       "                         &#x27;kernel&#x27;: [&#x27;rbf&#x27;, &#x27;linear&#x27;, &#x27;poly&#x27;, &#x27;sigmoid&#x27;]})</pre><b>In a Jupyter environment, please rerun this cell to show the HTML representation or trust the notebook. <br />On GitHub, the HTML representation is unable to render, please try loading this page with nbviewer.org.</b></div><div class=\"sk-container\" hidden><div class=\"sk-item sk-dashed-wrapped\"><div class=\"sk-label-container\"><div class=\"sk-label sk-toggleable\"><input class=\"sk-toggleable__control sk-hidden--visually\" id=\"sk-estimator-id-5\" type=\"checkbox\" ><label for=\"sk-estimator-id-5\" class=\"sk-toggleable__label sk-toggleable__label-arrow\">GridSearchCV</label><div class=\"sk-toggleable__content\"><pre>GridSearchCV(cv=5, estimator=SVC(),\n",
       "             param_grid={&#x27;C&#x27;: [1, 2, 10], &#x27;degree&#x27;: [2, 3, 4],\n",
       "                         &#x27;gamma&#x27;: [0.5, 3, &#x27;auto&#x27;],\n",
       "                         &#x27;kernel&#x27;: [&#x27;rbf&#x27;, &#x27;linear&#x27;, &#x27;poly&#x27;, &#x27;sigmoid&#x27;]})</pre></div></div></div><div class=\"sk-parallel\"><div class=\"sk-parallel-item\"><div class=\"sk-item\"><div class=\"sk-label-container\"><div class=\"sk-label sk-toggleable\"><input class=\"sk-toggleable__control sk-hidden--visually\" id=\"sk-estimator-id-6\" type=\"checkbox\" ><label for=\"sk-estimator-id-6\" class=\"sk-toggleable__label sk-toggleable__label-arrow\">estimator: SVC</label><div class=\"sk-toggleable__content\"><pre>SVC()</pre></div></div></div><div class=\"sk-serial\"><div class=\"sk-item\"><div class=\"sk-estimator sk-toggleable\"><input class=\"sk-toggleable__control sk-hidden--visually\" id=\"sk-estimator-id-7\" type=\"checkbox\" ><label for=\"sk-estimator-id-7\" class=\"sk-toggleable__label sk-toggleable__label-arrow\">SVC</label><div class=\"sk-toggleable__content\"><pre>SVC()</pre></div></div></div></div></div></div></div></div></div></div>"
      ],
      "text/plain": [
       "GridSearchCV(cv=5, estimator=SVC(),\n",
       "             param_grid={'C': [1, 2, 10], 'degree': [2, 3, 4],\n",
       "                         'gamma': [0.5, 3, 'auto'],\n",
       "                         'kernel': ['rbf', 'linear', 'poly', 'sigmoid']})"
      ]
     },
     "execution_count": 10,
     "metadata": {},
     "output_type": "execute_result"
    }
   ],
   "source": [
    "# Wende direkt Grid Search an. sepal. \n",
    "\n",
    "gridSearch = GridSearchCV( SVC() , { \n",
    "    'C':      [1, 2, 10,],                           # Regulierung\n",
    "    'kernel': ['rbf','linear', 'poly', 'sigmoid'],   # Boundary Funktion\n",
    "    'gamma':  [0.5, 3, 'auto'],   # Einfluss Datenpunkte \n",
    "    'degree': [2, 3, 4,]             # Grad der Polynomialen Funktion. \n",
    "}, cv=5, return_train_score=False)   # Mit Cross Validation 5\n",
    "\n",
    "gridSearch.fit(iris_df[['sepal length (cm)', 'sepal width (cm)' ]], iris_df['class'])"
   ]
  },
  {
   "cell_type": "code",
   "execution_count": 13,
   "id": "914967df-c9a8-4d40-9ad8-fefaa8e0be82",
   "metadata": {},
   "outputs": [
    {
     "data": {
      "text/plain": [
       "{'C': 2, 'degree': 2, 'gamma': 0.5, 'kernel': 'rbf'}"
      ]
     },
     "execution_count": 13,
     "metadata": {},
     "output_type": "execute_result"
    }
   ],
   "source": [
    "gridSearch.best_params_"
   ]
  },
  {
   "cell_type": "code",
   "execution_count": 13,
   "id": "7e1c2a1d-5df0-4b65-b8d7-894f485a0147",
   "metadata": {},
   "outputs": [
    {
     "data": {
      "text/plain": [
       "0.8333333333333334"
      ]
     },
     "execution_count": 13,
     "metadata": {},
     "output_type": "execute_result"
    }
   ],
   "source": [
    "gridSearch.best_score_"
   ]
  },
  {
   "cell_type": "markdown",
   "id": "fcd3e917-c6ef-4827-8d1a-3621a5b08f90",
   "metadata": {},
   "source": []
  }
 ],
 "metadata": {
  "kernelspec": {
   "display_name": "Python 3 (ipykernel)",
   "language": "python",
   "name": "python3"
  },
  "language_info": {
   "codemirror_mode": {
    "name": "ipython",
    "version": 3
   },
   "file_extension": ".py",
   "mimetype": "text/x-python",
   "name": "python",
   "nbconvert_exporter": "python",
   "pygments_lexer": "ipython3",
   "version": "3.9.18"
  }
 },
 "nbformat": 4,
 "nbformat_minor": 5
}
