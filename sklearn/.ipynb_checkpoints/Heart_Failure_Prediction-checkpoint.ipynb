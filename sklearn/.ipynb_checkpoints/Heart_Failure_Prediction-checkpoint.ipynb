{
 "cells": [
  {
   "cell_type": "markdown",
   "id": "dbbb9c07-203c-4fa8-b372-41148237c5bf",
   "metadata": {},
   "source": [
    "<h1>Heart Failure Prediction mit verschiedenen Ansätzen</h1>\n",
    "- SVM, Random-Forest, LogisticRegression"
   ]
  },
  {
   "cell_type": "markdown",
   "id": "64072749-570a-4ef8-be31-2995a6720040",
   "metadata": {},
   "source": [
    "In diesem Notebook untersuche ich ein Dataset, wo es um Herzprobleme geht. Ziel ist es, ein Model zu finden, was die besten Ergebnisse durch Klassifizierung erzielt.\n",
    "\n",
    "Bei diesem Vorgehen werde die Parameter verschiedener Modelle optimieren und das beste Model wird am Ende ausgesucht. "
   ]
  },
  {
   "cell_type": "markdown",
   "id": "91b77321-2da9-4ba6-902a-1b6883163b81",
   "metadata": {},
   "source": [
    "Das Dataset ist auf dieser Seite verfügbar: https://www.kaggle.com/datasets/fedesoriano/heart-failure-prediction [Letzter Zugriff 04.06.2024] "
   ]
  },
  {
   "cell_type": "markdown",
   "id": "bba351e1-08db-40f7-8b96-a895ef479816",
   "metadata": {},
   "source": [
    "> fedesoriano. (September 2021). Heart Failure Prediction Dataset. Retrieved [Date Retrieved]<br> from https://www.kaggle.com/fedesoriano/heart-failure-prediction."
   ]
  },
  {
   "cell_type": "code",
   "execution_count": 33,
   "id": "12e781e3-b231-402f-ad43-cf0fa965e528",
   "metadata": {},
   "outputs": [],
   "source": [
    "# Imports\n",
    "import pandas as pd   \n",
    "import numpy  as np\n",
    "\n",
    "from sklearn.svm          import SVC\n",
    "from sklearn.linear_model import LogisticRegression\n",
    "from sklearn.ensemble     import RandomForestClassifier\n",
    "\n",
    "from sklearn.model_selection import train_test_split\n",
    "from sklearn.model_selection import GridSearchCV\n",
    "from sklearn.preprocessing   import StandardScaler  \n",
    "from sklearn.preprocessing   import LabelEncoder"
   ]
  },
  {
   "cell_type": "code",
   "execution_count": 34,
   "id": "d4d60677-0031-48ca-ae55-cc751614e88e",
   "metadata": {},
   "outputs": [
    {
     "data": {
      "text/html": [
       "<div>\n",
       "<style scoped>\n",
       "    .dataframe tbody tr th:only-of-type {\n",
       "        vertical-align: middle;\n",
       "    }\n",
       "\n",
       "    .dataframe tbody tr th {\n",
       "        vertical-align: top;\n",
       "    }\n",
       "\n",
       "    .dataframe thead th {\n",
       "        text-align: right;\n",
       "    }\n",
       "</style>\n",
       "<table border=\"1\" class=\"dataframe\">\n",
       "  <thead>\n",
       "    <tr style=\"text-align: right;\">\n",
       "      <th></th>\n",
       "      <th>Age</th>\n",
       "      <th>Sex</th>\n",
       "      <th>ChestPainType</th>\n",
       "      <th>RestingBP</th>\n",
       "      <th>Cholesterol</th>\n",
       "      <th>FastingBS</th>\n",
       "      <th>RestingECG</th>\n",
       "      <th>MaxHR</th>\n",
       "      <th>ExerciseAngina</th>\n",
       "      <th>Oldpeak</th>\n",
       "      <th>ST_Slope</th>\n",
       "      <th>HeartDisease</th>\n",
       "    </tr>\n",
       "  </thead>\n",
       "  <tbody>\n",
       "    <tr>\n",
       "      <th>0</th>\n",
       "      <td>40</td>\n",
       "      <td>M</td>\n",
       "      <td>ATA</td>\n",
       "      <td>140</td>\n",
       "      <td>289</td>\n",
       "      <td>0</td>\n",
       "      <td>Normal</td>\n",
       "      <td>172</td>\n",
       "      <td>N</td>\n",
       "      <td>0.0</td>\n",
       "      <td>Up</td>\n",
       "      <td>0</td>\n",
       "    </tr>\n",
       "    <tr>\n",
       "      <th>1</th>\n",
       "      <td>49</td>\n",
       "      <td>F</td>\n",
       "      <td>NAP</td>\n",
       "      <td>160</td>\n",
       "      <td>180</td>\n",
       "      <td>0</td>\n",
       "      <td>Normal</td>\n",
       "      <td>156</td>\n",
       "      <td>N</td>\n",
       "      <td>1.0</td>\n",
       "      <td>Flat</td>\n",
       "      <td>1</td>\n",
       "    </tr>\n",
       "    <tr>\n",
       "      <th>2</th>\n",
       "      <td>37</td>\n",
       "      <td>M</td>\n",
       "      <td>ATA</td>\n",
       "      <td>130</td>\n",
       "      <td>283</td>\n",
       "      <td>0</td>\n",
       "      <td>ST</td>\n",
       "      <td>98</td>\n",
       "      <td>N</td>\n",
       "      <td>0.0</td>\n",
       "      <td>Up</td>\n",
       "      <td>0</td>\n",
       "    </tr>\n",
       "  </tbody>\n",
       "</table>\n",
       "</div>"
      ],
      "text/plain": [
       "   Age Sex ChestPainType  RestingBP  Cholesterol  FastingBS RestingECG  MaxHR  \\\n",
       "0   40   M           ATA        140          289          0     Normal    172   \n",
       "1   49   F           NAP        160          180          0     Normal    156   \n",
       "2   37   M           ATA        130          283          0         ST     98   \n",
       "\n",
       "  ExerciseAngina  Oldpeak ST_Slope  HeartDisease  \n",
       "0              N      0.0       Up             0  \n",
       "1              N      1.0     Flat             1  \n",
       "2              N      0.0       Up             0  "
      ]
     },
     "execution_count": 34,
     "metadata": {},
     "output_type": "execute_result"
    }
   ],
   "source": [
    "heart_data = pd.read_csv(\"./files_data/data/heart_failure_prediction.zip\", compression='zip')\n",
    "heart_data.head(3)"
   ]
  },
  {
   "cell_type": "code",
   "execution_count": 35,
   "id": "81d35e08-bee1-42d7-b239-05ee7229a8c2",
   "metadata": {},
   "outputs": [
    {
     "data": {
      "text/html": [
       "<div>\n",
       "<style scoped>\n",
       "    .dataframe tbody tr th:only-of-type {\n",
       "        vertical-align: middle;\n",
       "    }\n",
       "\n",
       "    .dataframe tbody tr th {\n",
       "        vertical-align: top;\n",
       "    }\n",
       "\n",
       "    .dataframe thead th {\n",
       "        text-align: right;\n",
       "    }\n",
       "</style>\n",
       "<table border=\"1\" class=\"dataframe\">\n",
       "  <thead>\n",
       "    <tr style=\"text-align: right;\">\n",
       "      <th></th>\n",
       "      <th>Age</th>\n",
       "      <th>RestingBP</th>\n",
       "      <th>Cholesterol</th>\n",
       "      <th>FastingBS</th>\n",
       "      <th>MaxHR</th>\n",
       "      <th>Oldpeak</th>\n",
       "      <th>HeartDisease</th>\n",
       "    </tr>\n",
       "  </thead>\n",
       "  <tbody>\n",
       "    <tr>\n",
       "      <th>count</th>\n",
       "      <td>918.000000</td>\n",
       "      <td>918.000000</td>\n",
       "      <td>918.000000</td>\n",
       "      <td>918.000000</td>\n",
       "      <td>918.000000</td>\n",
       "      <td>918.000000</td>\n",
       "      <td>918.000000</td>\n",
       "    </tr>\n",
       "    <tr>\n",
       "      <th>mean</th>\n",
       "      <td>53.510893</td>\n",
       "      <td>132.396514</td>\n",
       "      <td>198.799564</td>\n",
       "      <td>0.233115</td>\n",
       "      <td>136.809368</td>\n",
       "      <td>0.887364</td>\n",
       "      <td>0.553377</td>\n",
       "    </tr>\n",
       "    <tr>\n",
       "      <th>std</th>\n",
       "      <td>9.432617</td>\n",
       "      <td>18.514154</td>\n",
       "      <td>109.384145</td>\n",
       "      <td>0.423046</td>\n",
       "      <td>25.460334</td>\n",
       "      <td>1.066570</td>\n",
       "      <td>0.497414</td>\n",
       "    </tr>\n",
       "    <tr>\n",
       "      <th>min</th>\n",
       "      <td>28.000000</td>\n",
       "      <td>0.000000</td>\n",
       "      <td>0.000000</td>\n",
       "      <td>0.000000</td>\n",
       "      <td>60.000000</td>\n",
       "      <td>-2.600000</td>\n",
       "      <td>0.000000</td>\n",
       "    </tr>\n",
       "    <tr>\n",
       "      <th>25%</th>\n",
       "      <td>47.000000</td>\n",
       "      <td>120.000000</td>\n",
       "      <td>173.250000</td>\n",
       "      <td>0.000000</td>\n",
       "      <td>120.000000</td>\n",
       "      <td>0.000000</td>\n",
       "      <td>0.000000</td>\n",
       "    </tr>\n",
       "    <tr>\n",
       "      <th>50%</th>\n",
       "      <td>54.000000</td>\n",
       "      <td>130.000000</td>\n",
       "      <td>223.000000</td>\n",
       "      <td>0.000000</td>\n",
       "      <td>138.000000</td>\n",
       "      <td>0.600000</td>\n",
       "      <td>1.000000</td>\n",
       "    </tr>\n",
       "    <tr>\n",
       "      <th>75%</th>\n",
       "      <td>60.000000</td>\n",
       "      <td>140.000000</td>\n",
       "      <td>267.000000</td>\n",
       "      <td>0.000000</td>\n",
       "      <td>156.000000</td>\n",
       "      <td>1.500000</td>\n",
       "      <td>1.000000</td>\n",
       "    </tr>\n",
       "    <tr>\n",
       "      <th>max</th>\n",
       "      <td>77.000000</td>\n",
       "      <td>200.000000</td>\n",
       "      <td>603.000000</td>\n",
       "      <td>1.000000</td>\n",
       "      <td>202.000000</td>\n",
       "      <td>6.200000</td>\n",
       "      <td>1.000000</td>\n",
       "    </tr>\n",
       "  </tbody>\n",
       "</table>\n",
       "</div>"
      ],
      "text/plain": [
       "              Age   RestingBP  Cholesterol   FastingBS       MaxHR  \\\n",
       "count  918.000000  918.000000   918.000000  918.000000  918.000000   \n",
       "mean    53.510893  132.396514   198.799564    0.233115  136.809368   \n",
       "std      9.432617   18.514154   109.384145    0.423046   25.460334   \n",
       "min     28.000000    0.000000     0.000000    0.000000   60.000000   \n",
       "25%     47.000000  120.000000   173.250000    0.000000  120.000000   \n",
       "50%     54.000000  130.000000   223.000000    0.000000  138.000000   \n",
       "75%     60.000000  140.000000   267.000000    0.000000  156.000000   \n",
       "max     77.000000  200.000000   603.000000    1.000000  202.000000   \n",
       "\n",
       "          Oldpeak  HeartDisease  \n",
       "count  918.000000    918.000000  \n",
       "mean     0.887364      0.553377  \n",
       "std      1.066570      0.497414  \n",
       "min     -2.600000      0.000000  \n",
       "25%      0.000000      0.000000  \n",
       "50%      0.600000      1.000000  \n",
       "75%      1.500000      1.000000  \n",
       "max      6.200000      1.000000  "
      ]
     },
     "execution_count": 35,
     "metadata": {},
     "output_type": "execute_result"
    }
   ],
   "source": [
    "# Übersicht der Daten\n",
    "heart_data.describe()"
   ]
  },
  {
   "cell_type": "code",
   "execution_count": 36,
   "id": "70975296-85ed-46ea-bee3-439fbb440034",
   "metadata": {},
   "outputs": [
    {
     "data": {
      "text/plain": [
       "array(['Up', 'Flat', 'Down'], dtype=object)"
      ]
     },
     "execution_count": 36,
     "metadata": {},
     "output_type": "execute_result"
    }
   ],
   "source": [
    "# Zeigt welche Strings es gibt.\n",
    "heart_data.ST_Slope.unique()"
   ]
  },
  {
   "cell_type": "code",
   "execution_count": 37,
   "id": "5ccade1b-8973-42ff-93a0-3e41ef1054cd",
   "metadata": {},
   "outputs": [
    {
     "data": {
      "text/plain": [
       "array([0, 1], dtype=int64)"
      ]
     },
     "execution_count": 37,
     "metadata": {},
     "output_type": "execute_result"
    }
   ],
   "source": [
    "# Das soll klassifiziert werden.\n",
    "heart_data.HeartDisease.unique()"
   ]
  },
  {
   "cell_type": "code",
   "execution_count": 38,
   "id": "7817f5c9-ffcb-430c-bb71-00709381ba6d",
   "metadata": {},
   "outputs": [],
   "source": [
    "# // "
   ]
  },
  {
   "cell_type": "code",
   "execution_count": 39,
   "id": "a21841ae-88bb-44a5-a3af-007761b9ceef",
   "metadata": {},
   "outputs": [],
   "source": [
    "# // Content coming "
   ]
  },
  {
   "cell_type": "code",
   "execution_count": 40,
   "id": "d94f2442-9dcb-4c87-8a21-8913c279bbf7",
   "metadata": {},
   "outputs": [],
   "source": [
    "# // "
   ]
  },
  {
   "cell_type": "markdown",
   "id": "7428079b-6505-4cb0-a727-4ebc876ad77a",
   "metadata": {},
   "source": [
    "Man sieht direkt, dass es nicht nur numerische Daten gibt. Features, die Strings enthalten, müssen in eine numerische Form umgewandelt werden, damit Operationen darauf ausgeführt werden können. \n",
    "\n",
    "Pandas und Sklearn bieten die Möglichkeit, die Features einfach zu encoden."
   ]
  },
  {
   "cell_type": "code",
   "execution_count": 41,
   "id": "449191fd-bfe2-4534-9cc1-2de341cf67e3",
   "metadata": {},
   "outputs": [
    {
     "data": {
      "text/html": [
       "<div>\n",
       "<style scoped>\n",
       "    .dataframe tbody tr th:only-of-type {\n",
       "        vertical-align: middle;\n",
       "    }\n",
       "\n",
       "    .dataframe tbody tr th {\n",
       "        vertical-align: top;\n",
       "    }\n",
       "\n",
       "    .dataframe thead th {\n",
       "        text-align: right;\n",
       "    }\n",
       "</style>\n",
       "<table border=\"1\" class=\"dataframe\">\n",
       "  <thead>\n",
       "    <tr style=\"text-align: right;\">\n",
       "      <th></th>\n",
       "      <th>Age</th>\n",
       "      <th>Sex</th>\n",
       "      <th>ChestPainType</th>\n",
       "      <th>RestingBP</th>\n",
       "      <th>Cholesterol</th>\n",
       "      <th>FastingBS</th>\n",
       "      <th>RestingECG</th>\n",
       "      <th>MaxHR</th>\n",
       "      <th>ExerciseAngina</th>\n",
       "      <th>Oldpeak</th>\n",
       "      <th>ST_Slope</th>\n",
       "      <th>HeartDisease</th>\n",
       "    </tr>\n",
       "  </thead>\n",
       "  <tbody>\n",
       "    <tr>\n",
       "      <th>0</th>\n",
       "      <td>40</td>\n",
       "      <td>0</td>\n",
       "      <td>ATA</td>\n",
       "      <td>140</td>\n",
       "      <td>289</td>\n",
       "      <td>0</td>\n",
       "      <td>Normal</td>\n",
       "      <td>172</td>\n",
       "      <td>N</td>\n",
       "      <td>0.0</td>\n",
       "      <td>Up</td>\n",
       "      <td>0</td>\n",
       "    </tr>\n",
       "    <tr>\n",
       "      <th>1</th>\n",
       "      <td>49</td>\n",
       "      <td>1</td>\n",
       "      <td>NAP</td>\n",
       "      <td>160</td>\n",
       "      <td>180</td>\n",
       "      <td>0</td>\n",
       "      <td>Normal</td>\n",
       "      <td>156</td>\n",
       "      <td>N</td>\n",
       "      <td>1.0</td>\n",
       "      <td>Flat</td>\n",
       "      <td>1</td>\n",
       "    </tr>\n",
       "    <tr>\n",
       "      <th>2</th>\n",
       "      <td>37</td>\n",
       "      <td>0</td>\n",
       "      <td>ATA</td>\n",
       "      <td>130</td>\n",
       "      <td>283</td>\n",
       "      <td>0</td>\n",
       "      <td>ST</td>\n",
       "      <td>98</td>\n",
       "      <td>N</td>\n",
       "      <td>0.0</td>\n",
       "      <td>Up</td>\n",
       "      <td>0</td>\n",
       "    </tr>\n",
       "  </tbody>\n",
       "</table>\n",
       "</div>"
      ],
      "text/plain": [
       "   Age  Sex ChestPainType  RestingBP  Cholesterol  FastingBS RestingECG  \\\n",
       "0   40    0           ATA        140          289          0     Normal   \n",
       "1   49    1           NAP        160          180          0     Normal   \n",
       "2   37    0           ATA        130          283          0         ST   \n",
       "\n",
       "   MaxHR ExerciseAngina  Oldpeak ST_Slope  HeartDisease  \n",
       "0    172              N      0.0       Up             0  \n",
       "1    156              N      1.0     Flat             1  \n",
       "2     98              N      0.0       Up             0  "
      ]
     },
     "execution_count": 41,
     "metadata": {},
     "output_type": "execute_result"
    }
   ],
   "source": [
    "# Encode Sex\n",
    "# - Male: 0, Female: 1\n",
    "heart_data.Sex = heart_data.Sex.apply(lambda x: 0 if x=='M' else 1)\n",
    "heart_data.head(3)"
   ]
  },
  {
   "cell_type": "code",
   "execution_count": 42,
   "id": "c0a350c0-7937-48ce-9f42-d85f5e9a26fa",
   "metadata": {},
   "outputs": [
    {
     "data": {
      "text/html": [
       "<div>\n",
       "<style scoped>\n",
       "    .dataframe tbody tr th:only-of-type {\n",
       "        vertical-align: middle;\n",
       "    }\n",
       "\n",
       "    .dataframe tbody tr th {\n",
       "        vertical-align: top;\n",
       "    }\n",
       "\n",
       "    .dataframe thead th {\n",
       "        text-align: right;\n",
       "    }\n",
       "</style>\n",
       "<table border=\"1\" class=\"dataframe\">\n",
       "  <thead>\n",
       "    <tr style=\"text-align: right;\">\n",
       "      <th></th>\n",
       "      <th>ASY</th>\n",
       "      <th>ATA</th>\n",
       "      <th>NAP</th>\n",
       "      <th>TA</th>\n",
       "    </tr>\n",
       "  </thead>\n",
       "  <tbody>\n",
       "    <tr>\n",
       "      <th>0</th>\n",
       "      <td>0</td>\n",
       "      <td>1</td>\n",
       "      <td>0</td>\n",
       "      <td>0</td>\n",
       "    </tr>\n",
       "    <tr>\n",
       "      <th>1</th>\n",
       "      <td>0</td>\n",
       "      <td>0</td>\n",
       "      <td>1</td>\n",
       "      <td>0</td>\n",
       "    </tr>\n",
       "    <tr>\n",
       "      <th>2</th>\n",
       "      <td>0</td>\n",
       "      <td>1</td>\n",
       "      <td>0</td>\n",
       "      <td>0</td>\n",
       "    </tr>\n",
       "    <tr>\n",
       "      <th>3</th>\n",
       "      <td>1</td>\n",
       "      <td>0</td>\n",
       "      <td>0</td>\n",
       "      <td>0</td>\n",
       "    </tr>\n",
       "    <tr>\n",
       "      <th>4</th>\n",
       "      <td>0</td>\n",
       "      <td>0</td>\n",
       "      <td>1</td>\n",
       "      <td>0</td>\n",
       "    </tr>\n",
       "    <tr>\n",
       "      <th>5</th>\n",
       "      <td>0</td>\n",
       "      <td>0</td>\n",
       "      <td>1</td>\n",
       "      <td>0</td>\n",
       "    </tr>\n",
       "  </tbody>\n",
       "</table>\n",
       "</div>"
      ],
      "text/plain": [
       "   ASY  ATA  NAP  TA\n",
       "0    0    1    0   0\n",
       "1    0    0    1   0\n",
       "2    0    1    0   0\n",
       "3    1    0    0   0\n",
       "4    0    0    1   0\n",
       "5    0    0    1   0"
      ]
     },
     "execution_count": 42,
     "metadata": {},
     "output_type": "execute_result"
    }
   ],
   "source": [
    "# Mit Dummies\n",
    "ChestPainType_dummy = pd.get_dummies(heart_data['ChestPainType'], dtype=\"int\")  # Ohne Angabe von dtype => True/False\n",
    "ChestPainType_dummy.head(6)"
   ]
  },
  {
   "cell_type": "markdown",
   "id": "9e29ce0b-db1c-4ddd-b59b-6b3ab854dc24",
   "metadata": {},
   "source": [
    "Bei On Hot Encode muss eine Spalte gelöscht werden, um das Problem Dummy-Variable-Trap zu vermeiden. \n",
    "\n",
    "Bei drei verschiedenen Strings werden zwei Dummy-Variablen erstellt. Zwei dieser Strings kann man eindeutig durch das erstellte Coding unterscheiden, so, dass man den dritten nicht braucht. <br>\n",
    "Der dritte wäre dann redundant. "
   ]
  },
  {
   "cell_type": "markdown",
   "id": "182bec91-88ef-48e2-97f9-19731b7177e5",
   "metadata": {},
   "source": [
    "<i>Abb1</i>: Beispiel mit dem Feature ChestPainType. Im Beispiel 2 Einträge pro Typ.  <br>\n",
    "<img src=\"./files_data/img/sklearn_Heart_Failure_Prediction-notebook_1.PNG\" width=\"300\" hight=\"300\">"
   ]
  },
  {
   "cell_type": "markdown",
   "id": "176f3c90-3a95-4dbc-bd54-582a3ee3902b",
   "metadata": {},
   "source": [
    "Die Abbildung 1 zeigt, dass man TA dadurch unterscheidet, dass die Codierung bei allen anderen drei 0 ist."
   ]
  },
  {
   "cell_type": "code",
   "execution_count": 43,
   "id": "8f748ba6-64c3-4434-868c-7a998b397d81",
   "metadata": {},
   "outputs": [
    {
     "data": {
      "text/html": [
       "<div>\n",
       "<style scoped>\n",
       "    .dataframe tbody tr th:only-of-type {\n",
       "        vertical-align: middle;\n",
       "    }\n",
       "\n",
       "    .dataframe tbody tr th {\n",
       "        vertical-align: top;\n",
       "    }\n",
       "\n",
       "    .dataframe thead th {\n",
       "        text-align: right;\n",
       "    }\n",
       "</style>\n",
       "<table border=\"1\" class=\"dataframe\">\n",
       "  <thead>\n",
       "    <tr style=\"text-align: right;\">\n",
       "      <th></th>\n",
       "      <th>Age</th>\n",
       "      <th>Sex</th>\n",
       "      <th>RestingBP</th>\n",
       "      <th>Cholesterol</th>\n",
       "      <th>FastingBS</th>\n",
       "      <th>RestingECG</th>\n",
       "      <th>MaxHR</th>\n",
       "      <th>ExerciseAngina</th>\n",
       "      <th>Oldpeak</th>\n",
       "      <th>ST_Slope</th>\n",
       "      <th>HeartDisease</th>\n",
       "      <th>ASY</th>\n",
       "      <th>ATA</th>\n",
       "      <th>NAP</th>\n",
       "      <th>TA</th>\n",
       "    </tr>\n",
       "  </thead>\n",
       "  <tbody>\n",
       "    <tr>\n",
       "      <th>0</th>\n",
       "      <td>40</td>\n",
       "      <td>0</td>\n",
       "      <td>140</td>\n",
       "      <td>289</td>\n",
       "      <td>0</td>\n",
       "      <td>Normal</td>\n",
       "      <td>172</td>\n",
       "      <td>N</td>\n",
       "      <td>0.0</td>\n",
       "      <td>Up</td>\n",
       "      <td>0</td>\n",
       "      <td>0</td>\n",
       "      <td>1</td>\n",
       "      <td>0</td>\n",
       "      <td>0</td>\n",
       "    </tr>\n",
       "    <tr>\n",
       "      <th>1</th>\n",
       "      <td>49</td>\n",
       "      <td>1</td>\n",
       "      <td>160</td>\n",
       "      <td>180</td>\n",
       "      <td>0</td>\n",
       "      <td>Normal</td>\n",
       "      <td>156</td>\n",
       "      <td>N</td>\n",
       "      <td>1.0</td>\n",
       "      <td>Flat</td>\n",
       "      <td>1</td>\n",
       "      <td>0</td>\n",
       "      <td>0</td>\n",
       "      <td>1</td>\n",
       "      <td>0</td>\n",
       "    </tr>\n",
       "    <tr>\n",
       "      <th>2</th>\n",
       "      <td>37</td>\n",
       "      <td>0</td>\n",
       "      <td>130</td>\n",
       "      <td>283</td>\n",
       "      <td>0</td>\n",
       "      <td>ST</td>\n",
       "      <td>98</td>\n",
       "      <td>N</td>\n",
       "      <td>0.0</td>\n",
       "      <td>Up</td>\n",
       "      <td>0</td>\n",
       "      <td>0</td>\n",
       "      <td>1</td>\n",
       "      <td>0</td>\n",
       "      <td>0</td>\n",
       "    </tr>\n",
       "  </tbody>\n",
       "</table>\n",
       "</div>"
      ],
      "text/plain": [
       "   Age  Sex  RestingBP  Cholesterol  FastingBS RestingECG  MaxHR  \\\n",
       "0   40    0        140          289          0     Normal    172   \n",
       "1   49    1        160          180          0     Normal    156   \n",
       "2   37    0        130          283          0         ST     98   \n",
       "\n",
       "  ExerciseAngina  Oldpeak ST_Slope  HeartDisease  ASY  ATA  NAP  TA  \n",
       "0              N      0.0       Up             0    0    1    0   0  \n",
       "1              N      1.0     Flat             1    0    0    1   0  \n",
       "2              N      0.0       Up             0    0    1    0   0  "
      ]
     },
     "execution_count": 43,
     "metadata": {},
     "output_type": "execute_result"
    }
   ],
   "source": [
    "heart_data.drop(['ChestPainType'], axis=\"columns\", inplace=True)          # Lösche ChestPainType.\n",
    "heart_data = pd.concat([heart_data, ChestPainType_dummy], axis=\"columns\") # Dummy Tabelle wird rechts eingesetzt.\n",
    "heart_data.head(3)"
   ]
  },
  {
   "cell_type": "code",
   "execution_count": 44,
   "id": "51aef8b7-166f-467e-b3b2-3a4e92c0a839",
   "metadata": {},
   "outputs": [
    {
     "data": {
      "text/html": [
       "<div>\n",
       "<style scoped>\n",
       "    .dataframe tbody tr th:only-of-type {\n",
       "        vertical-align: middle;\n",
       "    }\n",
       "\n",
       "    .dataframe tbody tr th {\n",
       "        vertical-align: top;\n",
       "    }\n",
       "\n",
       "    .dataframe thead th {\n",
       "        text-align: right;\n",
       "    }\n",
       "</style>\n",
       "<table border=\"1\" class=\"dataframe\">\n",
       "  <thead>\n",
       "    <tr style=\"text-align: right;\">\n",
       "      <th></th>\n",
       "      <th>Age</th>\n",
       "      <th>Sex</th>\n",
       "      <th>RestingBP</th>\n",
       "      <th>Cholesterol</th>\n",
       "      <th>FastingBS</th>\n",
       "      <th>RestingECG</th>\n",
       "      <th>MaxHR</th>\n",
       "      <th>ExerciseAngina</th>\n",
       "      <th>Oldpeak</th>\n",
       "      <th>ST_Slope</th>\n",
       "      <th>HeartDisease</th>\n",
       "      <th>ASY</th>\n",
       "      <th>ATA</th>\n",
       "      <th>NAP</th>\n",
       "    </tr>\n",
       "  </thead>\n",
       "  <tbody>\n",
       "    <tr>\n",
       "      <th>0</th>\n",
       "      <td>40</td>\n",
       "      <td>0</td>\n",
       "      <td>140</td>\n",
       "      <td>289</td>\n",
       "      <td>0</td>\n",
       "      <td>Normal</td>\n",
       "      <td>172</td>\n",
       "      <td>N</td>\n",
       "      <td>0.0</td>\n",
       "      <td>Up</td>\n",
       "      <td>0</td>\n",
       "      <td>0</td>\n",
       "      <td>1</td>\n",
       "      <td>0</td>\n",
       "    </tr>\n",
       "    <tr>\n",
       "      <th>1</th>\n",
       "      <td>49</td>\n",
       "      <td>1</td>\n",
       "      <td>160</td>\n",
       "      <td>180</td>\n",
       "      <td>0</td>\n",
       "      <td>Normal</td>\n",
       "      <td>156</td>\n",
       "      <td>N</td>\n",
       "      <td>1.0</td>\n",
       "      <td>Flat</td>\n",
       "      <td>1</td>\n",
       "      <td>0</td>\n",
       "      <td>0</td>\n",
       "      <td>1</td>\n",
       "    </tr>\n",
       "    <tr>\n",
       "      <th>2</th>\n",
       "      <td>37</td>\n",
       "      <td>0</td>\n",
       "      <td>130</td>\n",
       "      <td>283</td>\n",
       "      <td>0</td>\n",
       "      <td>ST</td>\n",
       "      <td>98</td>\n",
       "      <td>N</td>\n",
       "      <td>0.0</td>\n",
       "      <td>Up</td>\n",
       "      <td>0</td>\n",
       "      <td>0</td>\n",
       "      <td>1</td>\n",
       "      <td>0</td>\n",
       "    </tr>\n",
       "  </tbody>\n",
       "</table>\n",
       "</div>"
      ],
      "text/plain": [
       "   Age  Sex  RestingBP  Cholesterol  FastingBS RestingECG  MaxHR  \\\n",
       "0   40    0        140          289          0     Normal    172   \n",
       "1   49    1        160          180          0     Normal    156   \n",
       "2   37    0        130          283          0         ST     98   \n",
       "\n",
       "  ExerciseAngina  Oldpeak ST_Slope  HeartDisease  ASY  ATA  NAP  \n",
       "0              N      0.0       Up             0    0    1    0  \n",
       "1              N      1.0     Flat             1    0    0    1  \n",
       "2              N      0.0       Up             0    0    1    0  "
      ]
     },
     "execution_count": 44,
     "metadata": {},
     "output_type": "execute_result"
    }
   ],
   "source": [
    "# Läsche eine Spalte wo die Typen von ChestPainType enthalten sind, hier: TA. \n",
    "heart_data.drop(['TA'], axis=\"columns\", inplace=True)   \n",
    "heart_data.head(3)"
   ]
  },
  {
   "cell_type": "markdown",
   "id": "f76a1a84-a348-4cac-ba45-240e0c6d4092",
   "metadata": {},
   "source": [
    "Es bleiben noch drei nicht numerische Features. Der Rest wird mit dem Label Encoder von Sklearn behandelt. "
   ]
  },
  {
   "cell_type": "code",
   "execution_count": 45,
   "id": "093f0fea-b6fd-4255-9f5e-aae489d20d83",
   "metadata": {},
   "outputs": [],
   "source": [
    "# Erstelle Encoder für betroffene Features \n",
    "label_RestingECG       = LabelEncoder()\n",
    "label_ST_Slope         = LabelEncoder()\n",
    "label_ExerciseAngina   = LabelEncoder()\n",
    "\n",
    "labe_encoded_heart_data = heart_data"
   ]
  },
  {
   "cell_type": "code",
   "execution_count": 46,
   "id": "e9787199-5f50-4582-b26e-8fa9b4f91a09",
   "metadata": {},
   "outputs": [],
   "source": [
    "labe_encoded_heart_data['RestingECG']         = label_RestingECG.fit_transform(labe_encoded_heart_data['RestingECG'])\n",
    "labe_encoded_heart_data['ST_Slope']           = label_ST_Slope.fit_transform(labe_encoded_heart_data['ST_Slope'])\n",
    "labe_encoded_heart_data['ExerciseAngina']     = label_ExerciseAngina.fit_transform(labe_encoded_heart_data['ExerciseAngina'])"
   ]
  },
  {
   "cell_type": "code",
   "execution_count": 47,
   "id": "a9bb15b4-d1df-4878-86c2-7a32ef5c92e2",
   "metadata": {},
   "outputs": [
    {
     "data": {
      "text/html": [
       "<div>\n",
       "<style scoped>\n",
       "    .dataframe tbody tr th:only-of-type {\n",
       "        vertical-align: middle;\n",
       "    }\n",
       "\n",
       "    .dataframe tbody tr th {\n",
       "        vertical-align: top;\n",
       "    }\n",
       "\n",
       "    .dataframe thead th {\n",
       "        text-align: right;\n",
       "    }\n",
       "</style>\n",
       "<table border=\"1\" class=\"dataframe\">\n",
       "  <thead>\n",
       "    <tr style=\"text-align: right;\">\n",
       "      <th></th>\n",
       "      <th>Age</th>\n",
       "      <th>Sex</th>\n",
       "      <th>RestingBP</th>\n",
       "      <th>Cholesterol</th>\n",
       "      <th>FastingBS</th>\n",
       "      <th>RestingECG</th>\n",
       "      <th>MaxHR</th>\n",
       "      <th>ExerciseAngina</th>\n",
       "      <th>Oldpeak</th>\n",
       "      <th>ST_Slope</th>\n",
       "      <th>HeartDisease</th>\n",
       "      <th>ASY</th>\n",
       "      <th>ATA</th>\n",
       "      <th>NAP</th>\n",
       "    </tr>\n",
       "  </thead>\n",
       "  <tbody>\n",
       "    <tr>\n",
       "      <th>0</th>\n",
       "      <td>40</td>\n",
       "      <td>0</td>\n",
       "      <td>140</td>\n",
       "      <td>289</td>\n",
       "      <td>0</td>\n",
       "      <td>1</td>\n",
       "      <td>172</td>\n",
       "      <td>0</td>\n",
       "      <td>0.0</td>\n",
       "      <td>2</td>\n",
       "      <td>0</td>\n",
       "      <td>0</td>\n",
       "      <td>1</td>\n",
       "      <td>0</td>\n",
       "    </tr>\n",
       "    <tr>\n",
       "      <th>1</th>\n",
       "      <td>49</td>\n",
       "      <td>1</td>\n",
       "      <td>160</td>\n",
       "      <td>180</td>\n",
       "      <td>0</td>\n",
       "      <td>1</td>\n",
       "      <td>156</td>\n",
       "      <td>0</td>\n",
       "      <td>1.0</td>\n",
       "      <td>1</td>\n",
       "      <td>1</td>\n",
       "      <td>0</td>\n",
       "      <td>0</td>\n",
       "      <td>1</td>\n",
       "    </tr>\n",
       "    <tr>\n",
       "      <th>2</th>\n",
       "      <td>37</td>\n",
       "      <td>0</td>\n",
       "      <td>130</td>\n",
       "      <td>283</td>\n",
       "      <td>0</td>\n",
       "      <td>2</td>\n",
       "      <td>98</td>\n",
       "      <td>0</td>\n",
       "      <td>0.0</td>\n",
       "      <td>2</td>\n",
       "      <td>0</td>\n",
       "      <td>0</td>\n",
       "      <td>1</td>\n",
       "      <td>0</td>\n",
       "    </tr>\n",
       "  </tbody>\n",
       "</table>\n",
       "</div>"
      ],
      "text/plain": [
       "   Age  Sex  RestingBP  Cholesterol  FastingBS  RestingECG  MaxHR  \\\n",
       "0   40    0        140          289          0           1    172   \n",
       "1   49    1        160          180          0           1    156   \n",
       "2   37    0        130          283          0           2     98   \n",
       "\n",
       "   ExerciseAngina  Oldpeak  ST_Slope  HeartDisease  ASY  ATA  NAP  \n",
       "0               0      0.0         2             0    0    1    0  \n",
       "1               0      1.0         1             1    0    0    1  \n",
       "2               0      0.0         2             0    0    1    0  "
      ]
     },
     "execution_count": 47,
     "metadata": {},
     "output_type": "execute_result"
    }
   ],
   "source": [
    "labe_encoded_heart_data.head(3)"
   ]
  },
  {
   "cell_type": "markdown",
   "id": "1e679913-cfa3-4bf9-b4b2-fa7c7785aba7",
   "metadata": {},
   "source": [
    "Jetzt ist das Dataset bereit für den Einsatz."
   ]
  },
  {
   "cell_type": "code",
   "execution_count": 48,
   "id": "a777f161-bb8f-4f57-9662-c37f8fc90cce",
   "metadata": {},
   "outputs": [],
   "source": [
    "# Train- und Testset\n",
    "X_train, X_test, y_train, y_test = train_test_split( labe_encoded_heart_data.drop(['HeartDisease'], axis='columns'), labe_encoded_heart_data['HeartDisease'], test_size=0.23 )"
   ]
  },
  {
   "cell_type": "code",
   "execution_count": 49,
   "id": "9432d2f5-c254-4c8d-80fa-65670efccf76",
   "metadata": {},
   "outputs": [],
   "source": [
    "# Die Daten skalieren\n",
    "scaler    = StandardScaler()\n",
    "X_scaled  = scaler.fit_transform(X_train)"
   ]
  },
  {
   "cell_type": "code",
   "execution_count": 54,
   "id": "0b4488aa-0d00-4656-bed7-3c8f48045fee",
   "metadata": {},
   "outputs": [
    {
     "data": {
      "text/plain": [
       "(706, 13)"
      ]
     },
     "execution_count": 54,
     "metadata": {},
     "output_type": "execute_result"
    }
   ],
   "source": [
    "X_scaled.shape"
   ]
  },
  {
   "cell_type": "markdown",
   "id": "6672f1a4-8f18-4ad7-b0df-db3775912894",
   "metadata": {},
   "source": [
    "Jetzt werden die drei verschiedenen Modelle erstellt und deren Parameter durch Gird Search verbessert. "
   ]
  },
  {
   "cell_type": "code",
   "execution_count": 60,
   "id": "f07a991b-5d5d-40af-a709-8f64a6021c6c",
   "metadata": {},
   "outputs": [],
   "source": [
    "# Um es einfach zu halten, ein Dict mit den Modellen und Parametern.\n",
    "params = {\n",
    "    'svm': {                            # Model-Name.\n",
    "        'model': SVC(gamma='auto'),     # Angabe Model mit Parameter.\n",
    "        'params' : {                    # Parameter die getestet werden sollen.\n",
    "            'C': [1,10,20],             \n",
    "            'kernel': ['rbf','linear', 'poly', 'sigmoid'],\n",
    "            'degree': [2, 3, 4, 5]\n",
    "        }  \n",
    "    },\n",
    "    'random_forest': {\n",
    "        'model': RandomForestClassifier(),\n",
    "        'params' : {\n",
    "            'n_estimators': [1,5,10],\n",
    "            'max_features': ['sqrt', 'log2']\n",
    "        }\n",
    "    },\n",
    "    'logistic_regression' : {\n",
    "        'model': LogisticRegression(),\n",
    "        'params': {\n",
    "            'solver': ['lbfgs', 'liblinear', 'newton-cg'],\n",
    "            'C': [1,5,10]\n",
    "        }}}"
   ]
  },
  {
   "cell_type": "markdown",
   "id": "1ab78c5c-27fd-4e35-8447-4fb06557e6e5",
   "metadata": {},
   "source": [
    "Am Ende soll das beste Model ausgewählt werden. <br>\n",
    "Dafür werden zuerst die Parameter mit Gird Search getestet. Danach kann ausgelesen werden, welche Parameter den besten Wert geliefert haben. \n",
    "\n",
    "Das kann für alle drei Modelle durchgespielt werden, wo dann die Ergebnisse in einem Dict landen. <br>\n",
    "Alternativ könnte man diese in einer Datei ablegen oder direkt für eine Visualisierung nutzen. "
   ]
  },
  {
   "cell_type": "code",
   "execution_count": 61,
   "id": "74d7e55f-333e-4541-a256-1986e682bc57",
   "metadata": {},
   "outputs": [],
   "source": [
    "punkte = []  # Liste Speichert die Einträge des Models. \n",
    "\n",
    "for model_name, mp in params.items():\n",
    "    \n",
    "    my_model =  GridSearchCV(mp['model'], mp['params'], cv=5, return_train_score=False)  # Mit Cross-Validation = 5\n",
    "    my_model.fit(X_scaled, y_train) \n",
    "    \n",
    "    punkte.append({\n",
    "        'model': model_name,\n",
    "        'best_score': my_model.best_score_,   # Auswahl Punkte \n",
    "        'best_params': my_model.best_params_  # Auswahl der Parametrer für die meisten Punkte.\n",
    "    })"
   ]
  },
  {
   "cell_type": "code",
   "execution_count": 62,
   "id": "3ca255cd-6848-422e-8024-0d0c2dbafaef",
   "metadata": {},
   "outputs": [
    {
     "data": {
      "text/plain": [
       "[{'model': 'svm',\n",
       "  'best_score': 0.8625911497352912,\n",
       "  'best_params': {'C': 1, 'degree': 2, 'kernel': 'rbf'}},\n",
       " {'model': 'random_forest',\n",
       "  'best_score': 0.8569273798821296,\n",
       "  'best_params': {'max_features': 'sqrt', 'n_estimators': 10}},\n",
       " {'model': 'logistic_regression',\n",
       "  'best_score': 0.8385376086305063,\n",
       "  'best_params': {'C': 1, 'solver': 'lbfgs'}}]"
      ]
     },
     "execution_count": 62,
     "metadata": {},
     "output_type": "execute_result"
    }
   ],
   "source": [
    "# Als Liste mit Dicts sieht das ganze so aus:\n",
    "punkte "
   ]
  },
  {
   "cell_type": "code",
   "execution_count": null,
   "id": "e70bffaf-981f-46ec-affd-4266aed1a9ef",
   "metadata": {},
   "outputs": [],
   "source": []
  },
  {
   "cell_type": "code",
   "execution_count": null,
   "id": "4deff838-abaa-464d-aa61-59b4346acced",
   "metadata": {},
   "outputs": [],
   "source": []
  },
  {
   "cell_type": "code",
   "execution_count": null,
   "id": "269b43b5-9b14-4074-8189-3086ab45a304",
   "metadata": {},
   "outputs": [],
   "source": []
  },
  {
   "cell_type": "code",
   "execution_count": null,
   "id": "f2eedc88-8e60-4d7d-b1bb-95226a4f6279",
   "metadata": {},
   "outputs": [],
   "source": []
  },
  {
   "cell_type": "code",
   "execution_count": null,
   "id": "b7937161-cb35-4b71-9a8f-d1d467d67139",
   "metadata": {},
   "outputs": [],
   "source": []
  }
 ],
 "metadata": {
  "kernelspec": {
   "display_name": "Python 3 (ipykernel)",
   "language": "python",
   "name": "python3"
  },
  "language_info": {
   "codemirror_mode": {
    "name": "ipython",
    "version": 3
   },
   "file_extension": ".py",
   "mimetype": "text/x-python",
   "name": "python",
   "nbconvert_exporter": "python",
   "pygments_lexer": "ipython3",
   "version": "3.9.18"
  }
 },
 "nbformat": 4,
 "nbformat_minor": 5
}
