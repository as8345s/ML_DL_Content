{
 "cells": [
  {
   "cell_type": "markdown",
   "id": "a8b59614-2cbe-4a68-b472-65b680d55107",
   "metadata": {},
   "source": [
    "<h1>K-Means</h1>"
   ]
  },
  {
   "cell_type": "markdown",
   "id": "b034fb19-077a-4d92-af05-e1abd6d74a8c",
   "metadata": {},
   "source": [
    "K-Means gehört der Gruppe der Unsupervised Machine learning an. <br>\n",
    "Das bedeutet, dass K-Means keine Datasets mit einem Label benötigt, um zu funktionieren."
   ]
  },
  {
   "cell_type": "markdown",
   "id": "be366cb4-d4c4-41fc-80a3-bcf32ce97e85",
   "metadata": {},
   "source": [
    "<i>Abb1</i>: Sterne suchen das Zentrum, keine Neuordnung der Punkte.\n",
    "\n",
    "<img src=\"./files_data/img/sklearn_kmeans_1.PNG\" width=700 hight=700>"
   ]
  },
  {
   "cell_type": "markdown",
   "id": "40da9788-9cf3-4f38-ad06-cbfc945df93a",
   "metadata": {},
   "source": [
    "K-Means versucht in einer Menge von angeordneten Datenpunkten eine Struktur zu finden, ein- oder mehrere Cluster.\n",
    "\n",
    "Bei dieser Suche wird ein K-Parameter angegeben, der sagt, wie viele Cluster es geben soll. Ziel ist es dabei, die SSE (Sum of Squared Errors ) zu minimieren."
   ]
  },
  {
   "cell_type": "markdown",
   "id": "96af584f-91ee-402e-8107-518bf44c8786",
   "metadata": {},
   "source": [
    "Als Erstes werden K-Sterne platziert, die dann das Zentrum bilden sollen. Von diesen Sternen werden die Abstände zu den Datenpunkten gemessen, um festzustellen, welche dieser Punkte zu welchem Stern gehört, die dann ein Cluster bilden sollen.\n",
    "\n",
    "Danach wird versucht, das Zentrum dieser Punkte zu finden. Nach der Bewegung der Sterne zum Zentrum, werden die Abstände zu den Datenpunkten neu berechnet, und es gibt neue Zugehörigkeiten.\n",
    "\n",
    "Danach beginnt das Spiel von vorne, bis sich die Zugehörigkeit der Datenpunkte zu den Sternen, die das Zentrum bilden, nicht ändern."
   ]
  },
  {
   "cell_type": "markdown",
   "id": "46283999-f5f3-46ba-8386-c67f8654dcc7",
   "metadata": {},
   "source": [
    "Je nachdem wie die Sterne platziert werden, gibt es unterschiedliche viele Schritte, um zum Ende zu kommen.\n",
    "\n",
    "Die Entfernung zwischen den Punkten kann zum Beispiel mit der Euklidischen Distanz berechnet werden. "
   ]
  },
  {
   "cell_type": "markdown",
   "id": "2b24f2b2-0918-4aca-8923-fee56ea921e7",
   "metadata": {},
   "source": [
    "Um den optimalen Wert für das K zu finden, wird eine besondere Methode namens Elbow Methode. <br>\n",
    "Der Name kommt daher, dass die gebildete Kurve einem Arm mit Ellbogen gleicht, wobei der Ellbogen dann den optimalen Wert anzeigt.\n"
   ]
  },
  {
   "cell_type": "markdown",
   "id": "cec16d64-434c-4d79-9c62-21038f3d7de3",
   "metadata": {},
   "source": [
    "<i>Abb2</i>: Berechne SSE der Cluster, je niedriger, desto besser. \n",
    "\n",
    "<img src=\"./files_data/img/sklearn_kmeans_2.PNG\" width=500 hight=500>"
   ]
  },
  {
   "cell_type": "code",
   "execution_count": null,
   "id": "64bdd1db-3bb3-490d-905b-c7ab63c39479",
   "metadata": {},
   "outputs": [],
   "source": []
  },
  {
   "cell_type": "code",
   "execution_count": null,
   "id": "296922e1-06bf-4576-86ec-d8ec5f247211",
   "metadata": {},
   "outputs": [],
   "source": [
    "# // Content coming "
   ]
  },
  {
   "cell_type": "code",
   "execution_count": null,
   "id": "29d4370c-e808-4c3b-968a-f2480df43560",
   "metadata": {},
   "outputs": [],
   "source": []
  },
  {
   "cell_type": "markdown",
   "id": "3f79e51c-ba32-4b78-85e5-b73d0c1a0bc8",
   "metadata": {},
   "source": [
    "Damit lassen sich gut Anomalien und Gruppierungen von Datenpunkten finden.\n",
    "\n",
    "Ein Anwendungsbeispiel wäre zum Beispiel das Zuordnen von Datenpunkten zu Blumendaten, zum Iris Dataset. "
   ]
  },
  {
   "cell_type": "code",
   "execution_count": 12,
   "id": "5c576ce2-585a-4103-af17-bef4309443ab",
   "metadata": {},
   "outputs": [],
   "source": [
    "import pandas as pd\n",
    "\n",
    "from matplotlib  import pyplot as plt\n",
    "\n",
    "from sklearn.datasets import load_iris\n",
    "from sklearn.cluster  import KMeans"
   ]
  },
  {
   "cell_type": "code",
   "execution_count": 13,
   "id": "a4dc3d3a-1f31-46df-a80b-03c88bc66773",
   "metadata": {},
   "outputs": [
    {
     "data": {
      "text/plain": [
       "['DESCR',\n",
       " 'data',\n",
       " 'data_module',\n",
       " 'feature_names',\n",
       " 'filename',\n",
       " 'frame',\n",
       " 'target',\n",
       " 'target_names']"
      ]
     },
     "execution_count": 13,
     "metadata": {},
     "output_type": "execute_result"
    }
   ],
   "source": [
    "iris_data = load_iris()\n",
    "dir(iris_data)"
   ]
  },
  {
   "cell_type": "code",
   "execution_count": 14,
   "id": "31259820-f471-4e48-9402-66a4dc78c624",
   "metadata": {},
   "outputs": [
    {
     "data": {
      "text/html": [
       "<div>\n",
       "<style scoped>\n",
       "    .dataframe tbody tr th:only-of-type {\n",
       "        vertical-align: middle;\n",
       "    }\n",
       "\n",
       "    .dataframe tbody tr th {\n",
       "        vertical-align: top;\n",
       "    }\n",
       "\n",
       "    .dataframe thead th {\n",
       "        text-align: right;\n",
       "    }\n",
       "</style>\n",
       "<table border=\"1\" class=\"dataframe\">\n",
       "  <thead>\n",
       "    <tr style=\"text-align: right;\">\n",
       "      <th></th>\n",
       "      <th>sepal length (cm)</th>\n",
       "      <th>sepal width (cm)</th>\n",
       "      <th>petal length (cm)</th>\n",
       "      <th>petal width (cm)</th>\n",
       "      <th>flower</th>\n",
       "    </tr>\n",
       "  </thead>\n",
       "  <tbody>\n",
       "    <tr>\n",
       "      <th>0</th>\n",
       "      <td>5.1</td>\n",
       "      <td>3.5</td>\n",
       "      <td>1.4</td>\n",
       "      <td>0.2</td>\n",
       "      <td>0</td>\n",
       "    </tr>\n",
       "    <tr>\n",
       "      <th>1</th>\n",
       "      <td>4.9</td>\n",
       "      <td>3.0</td>\n",
       "      <td>1.4</td>\n",
       "      <td>0.2</td>\n",
       "      <td>0</td>\n",
       "    </tr>\n",
       "    <tr>\n",
       "      <th>2</th>\n",
       "      <td>4.7</td>\n",
       "      <td>3.2</td>\n",
       "      <td>1.3</td>\n",
       "      <td>0.2</td>\n",
       "      <td>0</td>\n",
       "    </tr>\n",
       "    <tr>\n",
       "      <th>3</th>\n",
       "      <td>4.6</td>\n",
       "      <td>3.1</td>\n",
       "      <td>1.5</td>\n",
       "      <td>0.2</td>\n",
       "      <td>0</td>\n",
       "    </tr>\n",
       "    <tr>\n",
       "      <th>4</th>\n",
       "      <td>5.0</td>\n",
       "      <td>3.6</td>\n",
       "      <td>1.4</td>\n",
       "      <td>0.2</td>\n",
       "      <td>0</td>\n",
       "    </tr>\n",
       "  </tbody>\n",
       "</table>\n",
       "</div>"
      ],
      "text/plain": [
       "   sepal length (cm)  sepal width (cm)  petal length (cm)  petal width (cm)  \\\n",
       "0                5.1               3.5                1.4               0.2   \n",
       "1                4.9               3.0                1.4               0.2   \n",
       "2                4.7               3.2                1.3               0.2   \n",
       "3                4.6               3.1                1.5               0.2   \n",
       "4                5.0               3.6                1.4               0.2   \n",
       "\n",
       "   flower  \n",
       "0       0  \n",
       "1       0  \n",
       "2       0  \n",
       "3       0  \n",
       "4       0  "
      ]
     },
     "execution_count": 14,
     "metadata": {},
     "output_type": "execute_result"
    }
   ],
   "source": [
    "# Lade Daten in ein Dataframe.\n",
    "iris_df = pd.DataFrame(iris_data.data, columns=iris_data.feature_names)\n",
    "# Füge Klasse hinzu. \n",
    "iris_df = pd.concat([iris_df, pd.DataFrame(iris_data.target, columns=['flower'])], axis=\"columns\")\n",
    "iris_df.head()"
   ]
  },
  {
   "cell_type": "markdown",
   "id": "c3b71e56-670c-4563-8d57-643c1008ebbc",
   "metadata": {},
   "source": [
    "Jetzt wird eine Eigenschaft der Blume auf einem Scatterplot visualisiert. <br>\n",
    "Man kann sehen das es drei Cluster sind, da wir 3 Klassen haben.\n",
    "\n",
    "Trotzdem kann man nach mehr oder weniger Cluster suchen, und der optimale Wert wird später durch die Ellbogenmethode ermittelt."
   ]
  },
  {
   "cell_type": "code",
   "execution_count": 21,
   "id": "8c792eab-e617-4ac0-9ec3-ab3fd0e4dc49",
   "metadata": {},
   "outputs": [
    {
     "data": {
      "text/plain": [
       "<matplotlib.legend.Legend at 0x19b59fb4cd0>"
      ]
     },
     "execution_count": 21,
     "metadata": {},
     "output_type": "execute_result"
    },
    {
     "data": {
      "image/png": "[encoded data removed]",
      "text/plain": [
       "<Figure size 640x480 with 1 Axes>"
      ]
     },
     "metadata": {},
     "output_type": "display_data"
    }
   ],
   "source": [
    "%matplotlib inline\n",
    "# Separate Dataframes für jede Klasse. \n",
    "df1 = iris_df[ iris_df['flower'] == 0 ]  # Klasse 0\n",
    "df2 = iris_df[ iris_df['flower'] == 1 ]  # Klasse 1\n",
    "df3 = iris_df[ iris_df['flower' ]== 2 ]  # Klasse 2\n",
    "# Plotte Daten.\n",
    "plt.scatter(df1['petal length (cm)'], df1['petal width (cm)'], color='green', label=\"1\")  # Klasse 0\n",
    "plt.scatter(df2['petal length (cm)'], df2['petal width (cm)'], color=\"red\",   label=\"2\")  # Klasse 1\n",
    "plt.scatter(df3['petal length (cm)'], df3['petal width (cm)'], color=\"pink\",  label=\"3\")  # Klasse 2\n",
    "\n",
    "plt.legend()"
   ]
  },
  {
   "cell_type": "markdown",
   "id": "99748c2f-6420-4ffb-a66b-9bacd8a82fe8",
   "metadata": {},
   "source": [
    "Jetzt geht es darum, den optimalen Wert für K zu finden. \n",
    "\n",
    "Dazu geben wir einen Bereich an, zum Beispiel 0 bis 10, und schauen uns an, wie sich der Wert von SSE ändert."
   ]
  },
  {
   "cell_type": "code",
   "execution_count": 19,
   "id": "4241b8e2-4cd7-4e85-b83d-8765e5bc01ca",
   "metadata": {
    "collapsed": true,
    "jupyter": {
     "outputs_hidden": true
    }
   },
   "outputs": [
    {
     "name": "stderr",
     "output_type": "stream",
     "text": [
      "C:\\Users\\Alexander\\anaconda3\\lib\\site-packages\\sklearn\\cluster\\_kmeans.py:1412: FutureWarning: The default value of `n_init` will change from 10 to 'auto' in 1.4. Set the value of `n_init` explicitly to suppress the warning\n",
      "  super()._check_params_vs_input(X, default_n_init=10)\n",
      "C:\\Users\\Alexander\\anaconda3\\lib\\site-packages\\sklearn\\cluster\\_kmeans.py:1436: UserWarning: KMeans is known to have a memory leak on Windows with MKL, when there are less chunks than available threads. You can avoid it by setting the environment variable OMP_NUM_THREADS=1.\n",
      "  warnings.warn(\n",
      "C:\\Users\\Alexander\\anaconda3\\lib\\site-packages\\sklearn\\cluster\\_kmeans.py:1412: FutureWarning: The default value of `n_init` will change from 10 to 'auto' in 1.4. Set the value of `n_init` explicitly to suppress the warning\n",
      "  super()._check_params_vs_input(X, default_n_init=10)\n",
      "C:\\Users\\Alexander\\anaconda3\\lib\\site-packages\\sklearn\\cluster\\_kmeans.py:1436: UserWarning: KMeans is known to have a memory leak on Windows with MKL, when there are less chunks than available threads. You can avoid it by setting the environment variable OMP_NUM_THREADS=1.\n",
      "  warnings.warn(\n",
      "C:\\Users\\Alexander\\anaconda3\\lib\\site-packages\\sklearn\\cluster\\_kmeans.py:1412: FutureWarning: The default value of `n_init` will change from 10 to 'auto' in 1.4. Set the value of `n_init` explicitly to suppress the warning\n",
      "  super()._check_params_vs_input(X, default_n_init=10)\n",
      "C:\\Users\\Alexander\\anaconda3\\lib\\site-packages\\sklearn\\cluster\\_kmeans.py:1436: UserWarning: KMeans is known to have a memory leak on Windows with MKL, when there are less chunks than available threads. You can avoid it by setting the environment variable OMP_NUM_THREADS=1.\n",
      "  warnings.warn(\n",
      "C:\\Users\\Alexander\\anaconda3\\lib\\site-packages\\sklearn\\cluster\\_kmeans.py:1412: FutureWarning: The default value of `n_init` will change from 10 to 'auto' in 1.4. Set the value of `n_init` explicitly to suppress the warning\n",
      "  super()._check_params_vs_input(X, default_n_init=10)\n",
      "C:\\Users\\Alexander\\anaconda3\\lib\\site-packages\\sklearn\\cluster\\_kmeans.py:1436: UserWarning: KMeans is known to have a memory leak on Windows with MKL, when there are less chunks than available threads. You can avoid it by setting the environment variable OMP_NUM_THREADS=1.\n",
      "  warnings.warn(\n",
      "C:\\Users\\Alexander\\anaconda3\\lib\\site-packages\\sklearn\\cluster\\_kmeans.py:1412: FutureWarning: The default value of `n_init` will change from 10 to 'auto' in 1.4. Set the value of `n_init` explicitly to suppress the warning\n",
      "  super()._check_params_vs_input(X, default_n_init=10)\n",
      "C:\\Users\\Alexander\\anaconda3\\lib\\site-packages\\sklearn\\cluster\\_kmeans.py:1436: UserWarning: KMeans is known to have a memory leak on Windows with MKL, when there are less chunks than available threads. You can avoid it by setting the environment variable OMP_NUM_THREADS=1.\n",
      "  warnings.warn(\n",
      "C:\\Users\\Alexander\\anaconda3\\lib\\site-packages\\sklearn\\cluster\\_kmeans.py:1412: FutureWarning: The default value of `n_init` will change from 10 to 'auto' in 1.4. Set the value of `n_init` explicitly to suppress the warning\n",
      "  super()._check_params_vs_input(X, default_n_init=10)\n",
      "C:\\Users\\Alexander\\anaconda3\\lib\\site-packages\\sklearn\\cluster\\_kmeans.py:1436: UserWarning: KMeans is known to have a memory leak on Windows with MKL, when there are less chunks than available threads. You can avoid it by setting the environment variable OMP_NUM_THREADS=1.\n",
      "  warnings.warn(\n",
      "C:\\Users\\Alexander\\anaconda3\\lib\\site-packages\\sklearn\\cluster\\_kmeans.py:1412: FutureWarning: The default value of `n_init` will change from 10 to 'auto' in 1.4. Set the value of `n_init` explicitly to suppress the warning\n",
      "  super()._check_params_vs_input(X, default_n_init=10)\n",
      "C:\\Users\\Alexander\\anaconda3\\lib\\site-packages\\sklearn\\cluster\\_kmeans.py:1436: UserWarning: KMeans is known to have a memory leak on Windows with MKL, when there are less chunks than available threads. You can avoid it by setting the environment variable OMP_NUM_THREADS=1.\n",
      "  warnings.warn(\n",
      "C:\\Users\\Alexander\\anaconda3\\lib\\site-packages\\sklearn\\cluster\\_kmeans.py:1412: FutureWarning: The default value of `n_init` will change from 10 to 'auto' in 1.4. Set the value of `n_init` explicitly to suppress the warning\n",
      "  super()._check_params_vs_input(X, default_n_init=10)\n",
      "C:\\Users\\Alexander\\anaconda3\\lib\\site-packages\\sklearn\\cluster\\_kmeans.py:1436: UserWarning: KMeans is known to have a memory leak on Windows with MKL, when there are less chunks than available threads. You can avoid it by setting the environment variable OMP_NUM_THREADS=1.\n",
      "  warnings.warn(\n",
      "C:\\Users\\Alexander\\anaconda3\\lib\\site-packages\\sklearn\\cluster\\_kmeans.py:1412: FutureWarning: The default value of `n_init` will change from 10 to 'auto' in 1.4. Set the value of `n_init` explicitly to suppress the warning\n",
      "  super()._check_params_vs_input(X, default_n_init=10)\n",
      "C:\\Users\\Alexander\\anaconda3\\lib\\site-packages\\sklearn\\cluster\\_kmeans.py:1436: UserWarning: KMeans is known to have a memory leak on Windows with MKL, when there are less chunks than available threads. You can avoid it by setting the environment variable OMP_NUM_THREADS=1.\n",
      "  warnings.warn(\n"
     ]
    }
   ],
   "source": [
    "sse = []  # Sammel SSE Werte.\n",
    "\n",
    "k_val = range(1, 10) # K-Werte im Bereich 1 bis 10. \n",
    "\n",
    "# Setze verschiedene K-Werte ein und entnehmen den SSE Wert.\n",
    "for k in k_val:\n",
    "    model = KMeans(n_clusters=k)  # Setze den K Parameter .\n",
    "    model.fit( iris_df[ ['petal length (cm)','petal width (cm)'] ] ) \n",
    "    sse.append(model.inertia_)"
   ]
  },
  {
   "cell_type": "code",
   "execution_count": 20,
   "id": "c862c679-664c-4785-a9ea-125d0b223e0f",
   "metadata": {},
   "outputs": [
    {
     "data": {
      "text/plain": [
       "[550.8953333333333,\n",
       " 86.39021984551395,\n",
       " 31.371358974358976,\n",
       " 19.483000899685113,\n",
       " 13.91690875790876,\n",
       " 11.077683036092647,\n",
       " 9.193866732047512,\n",
       " 7.615402244955953,\n",
       " 6.456494541406307]"
      ]
     },
     "execution_count": 20,
     "metadata": {},
     "output_type": "execute_result"
    }
   ],
   "source": [
    "# Je mehr Zentren, desto kleiner der SSE Wert. \n",
    "sse"
   ]
  },
  {
   "cell_type": "markdown",
   "id": "874d1618-7c49-4252-8e1f-1f2a9d57b7ad",
   "metadata": {},
   "source": [
    "Dieses Array mit den K Werten wird als Plot visualisiert."
   ]
  },
  {
   "cell_type": "code",
   "execution_count": 24,
   "id": "f1cb81b7-de9d-41c2-b1c3-f786657e9bb1",
   "metadata": {},
   "outputs": [
    {
     "data": {
      "text/plain": [
       "[<matplotlib.lines.Line2D at 0x19b5a7357f0>]"
      ]
     },
     "execution_count": 24,
     "metadata": {},
     "output_type": "execute_result"
    },
    {
     "data": {
      "image/png": "[encoded data removed]",
      "text/plain": [
       "<Figure size 640x480 with 1 Axes>"
      ]
     },
     "metadata": {},
     "output_type": "display_data"
    }
   ],
   "source": [
    "%matplotlib inline\n",
    "plt.title(\"Ellbogen Methode\")\n",
    "plt.xlabel(\"K-Wert\")\n",
    "plt.ylabel('SSE')\n",
    "plt.plot(k_val, sse)"
   ]
  },
  {
   "cell_type": "markdown",
   "id": "2737c7e7-004b-4a0b-88a3-bd3822534e82",
   "metadata": {},
   "source": [
    "In dem Plot sieht man deutlich die veränderung der Kurve.\n",
    "\n",
    "3 ist laut der Methode ein guter Wert, denn wir nutzen sollten."
   ]
  },
  {
   "cell_type": "code",
   "execution_count": 26,
   "id": "dc5c0da2-69b3-44e4-8a4a-bd106308de91",
   "metadata": {},
   "outputs": [
    {
     "name": "stderr",
     "output_type": "stream",
     "text": [
      "C:\\Users\\Alexander\\anaconda3\\lib\\site-packages\\sklearn\\cluster\\_kmeans.py:1412: FutureWarning: The default value of `n_init` will change from 10 to 'auto' in 1.4. Set the value of `n_init` explicitly to suppress the warning\n",
      "  super()._check_params_vs_input(X, default_n_init=10)\n",
      "C:\\Users\\Alexander\\anaconda3\\lib\\site-packages\\sklearn\\cluster\\_kmeans.py:1436: UserWarning: KMeans is known to have a memory leak on Windows with MKL, when there are less chunks than available threads. You can avoid it by setting the environment variable OMP_NUM_THREADS=1.\n",
      "  warnings.warn(\n"
     ]
    },
    {
     "data": {
      "text/plain": [
       "array([0, 0, 0, 0, 0, 0, 0, 0, 0, 0, 0, 0, 0, 0, 0, 0, 0, 0, 0, 0, 0, 0,\n",
       "       0, 0, 0, 0, 0, 0, 0, 0, 0, 0, 0, 0, 0, 0, 0, 0, 0, 0, 0, 0, 0, 0,\n",
       "       0, 0, 0, 0, 0, 0, 2, 2, 2, 2, 2, 2, 2, 2, 2, 2, 2, 2, 2, 2, 2, 2,\n",
       "       2, 2, 2, 2, 2, 2, 2, 2, 2, 2, 2, 1, 2, 2, 2, 2, 2, 1, 2, 2, 2, 2,\n",
       "       2, 2, 2, 2, 2, 2, 2, 2, 2, 2, 2, 2, 1, 1, 1, 1, 1, 1, 2, 1, 1, 1,\n",
       "       1, 1, 1, 1, 1, 1, 1, 1, 1, 2, 1, 1, 1, 1, 1, 1, 2, 1, 1, 1, 1, 1,\n",
       "       1, 1, 1, 1, 1, 1, 2, 1, 1, 1, 1, 1, 1, 1, 1, 1, 1, 1])"
      ]
     },
     "execution_count": 26,
     "metadata": {},
     "output_type": "execute_result"
    }
   ],
   "source": [
    "model = KMeans(n_clusters=3)\n",
    "# Mit fit_predict auch gleich die Predictions machen. \n",
    "predicted = model.fit_predict( iris_df[ ['petal length (cm)','petal width (cm)'] ] ) \n",
    "predicted  # "
   ]
  },
  {
   "cell_type": "code",
   "execution_count": 27,
   "id": "6a535fde-ff2e-4a28-874d-2b52162398eb",
   "metadata": {},
   "outputs": [],
   "source": [
    "# Füge die vorhergesagten Werte ein.\n",
    "iris_df['predicted'] = predicted"
   ]
  },
  {
   "cell_type": "code",
   "execution_count": 28,
   "id": "e63f2536-fbd3-4b5b-9601-7e0a1669c22e",
   "metadata": {},
   "outputs": [
    {
     "data": {
      "text/html": [
       "<div>\n",
       "<style scoped>\n",
       "    .dataframe tbody tr th:only-of-type {\n",
       "        vertical-align: middle;\n",
       "    }\n",
       "\n",
       "    .dataframe tbody tr th {\n",
       "        vertical-align: top;\n",
       "    }\n",
       "\n",
       "    .dataframe thead th {\n",
       "        text-align: right;\n",
       "    }\n",
       "</style>\n",
       "<table border=\"1\" class=\"dataframe\">\n",
       "  <thead>\n",
       "    <tr style=\"text-align: right;\">\n",
       "      <th></th>\n",
       "      <th>sepal length (cm)</th>\n",
       "      <th>sepal width (cm)</th>\n",
       "      <th>petal length (cm)</th>\n",
       "      <th>petal width (cm)</th>\n",
       "      <th>flower</th>\n",
       "      <th>predicted</th>\n",
       "    </tr>\n",
       "  </thead>\n",
       "  <tbody>\n",
       "    <tr>\n",
       "      <th>0</th>\n",
       "      <td>5.1</td>\n",
       "      <td>3.5</td>\n",
       "      <td>1.4</td>\n",
       "      <td>0.2</td>\n",
       "      <td>0</td>\n",
       "      <td>0</td>\n",
       "    </tr>\n",
       "    <tr>\n",
       "      <th>1</th>\n",
       "      <td>4.9</td>\n",
       "      <td>3.0</td>\n",
       "      <td>1.4</td>\n",
       "      <td>0.2</td>\n",
       "      <td>0</td>\n",
       "      <td>0</td>\n",
       "    </tr>\n",
       "    <tr>\n",
       "      <th>2</th>\n",
       "      <td>4.7</td>\n",
       "      <td>3.2</td>\n",
       "      <td>1.3</td>\n",
       "      <td>0.2</td>\n",
       "      <td>0</td>\n",
       "      <td>0</td>\n",
       "    </tr>\n",
       "    <tr>\n",
       "      <th>3</th>\n",
       "      <td>4.6</td>\n",
       "      <td>3.1</td>\n",
       "      <td>1.5</td>\n",
       "      <td>0.2</td>\n",
       "      <td>0</td>\n",
       "      <td>0</td>\n",
       "    </tr>\n",
       "    <tr>\n",
       "      <th>4</th>\n",
       "      <td>5.0</td>\n",
       "      <td>3.6</td>\n",
       "      <td>1.4</td>\n",
       "      <td>0.2</td>\n",
       "      <td>0</td>\n",
       "      <td>0</td>\n",
       "    </tr>\n",
       "  </tbody>\n",
       "</table>\n",
       "</div>"
      ],
      "text/plain": [
       "   sepal length (cm)  sepal width (cm)  petal length (cm)  petal width (cm)  \\\n",
       "0                5.1               3.5                1.4               0.2   \n",
       "1                4.9               3.0                1.4               0.2   \n",
       "2                4.7               3.2                1.3               0.2   \n",
       "3                4.6               3.1                1.5               0.2   \n",
       "4                5.0               3.6                1.4               0.2   \n",
       "\n",
       "   flower  predicted  \n",
       "0       0          0  \n",
       "1       0          0  \n",
       "2       0          0  \n",
       "3       0          0  \n",
       "4       0          0  "
      ]
     },
     "execution_count": 28,
     "metadata": {},
     "output_type": "execute_result"
    }
   ],
   "source": [
    "iris_df.head()"
   ]
  },
  {
   "cell_type": "markdown",
   "id": "c5ef1902-565d-4cde-a5aa-cd8c4ced60b6",
   "metadata": {},
   "source": [
    "Das Model kann die Punkte die das Zentrum darstellen ausgeben. Das wird mit auf den Plot genommen."
   ]
  },
  {
   "cell_type": "code",
   "execution_count": 29,
   "id": "1285623b-ec33-4770-8c46-9ff57630330a",
   "metadata": {},
   "outputs": [
    {
     "data": {
      "text/plain": [
       "array([[1.462     , 0.246     ],\n",
       "       [5.59583333, 2.0375    ],\n",
       "       [4.26923077, 1.34230769]])"
      ]
     },
     "execution_count": 29,
     "metadata": {},
     "output_type": "execute_result"
    }
   ],
   "source": [
    "model.cluster_centers_"
   ]
  },
  {
   "cell_type": "code",
   "execution_count": 32,
   "id": "300dfa40-d3e2-4a05-a7be-f906bc798d2e",
   "metadata": {},
   "outputs": [
    {
     "data": {
      "text/plain": [
       "<matplotlib.legend.Legend at 0x19b5aea6550>"
      ]
     },
     "execution_count": 32,
     "metadata": {},
     "output_type": "execute_result"
    },
    {
     "data": {
      "image/png": "[encoded data removed]",
      "text/plain": [
       "<Figure size 640x480 with 1 Axes>"
      ]
     },
     "metadata": {},
     "output_type": "display_data"
    }
   ],
   "source": [
    "# Dasselbe wie oben, aber mit Zentrum. \n",
    "df1 = iris_df[ iris_df['flower'] == 0 ]\n",
    "df2 = iris_df[ iris_df['flower'] == 1 ]\n",
    "df3 = iris_df[ iris_df['flower'] == 2 ]\n",
    "plt.scatter(df1['petal length (cm)'], df1['petal width (cm)'], color='green', label=\"1\")\n",
    "plt.scatter(df2['petal length (cm)'], df2['petal width (cm)'], color=\"red\",   label=\"2\")\n",
    "plt.scatter(df3['petal length (cm)'], df3['petal width (cm)'], color=\"pink\",  label=\"3\")\n",
    "# Plotte Zentrum. \n",
    "plt.scatter(model.cluster_centers_[:,0],model.cluster_centers_[:,1],color='purple',marker='+',label='centroid')\n",
    "plt.legend()"
   ]
  },
  {
   "cell_type": "markdown",
   "id": "c6afd630-d06a-40ba-b898-966d7823873f",
   "metadata": {},
   "source": [
    "Wir können auch die Werte Ploten die predictet wurden. "
   ]
  },
  {
   "cell_type": "code",
   "execution_count": 33,
   "id": "24ac6f22-6d17-4a63-9601-a33776022bce",
   "metadata": {},
   "outputs": [
    {
     "data": {
      "text/plain": [
       "<matplotlib.legend.Legend at 0x19b5abb2bb0>"
      ]
     },
     "execution_count": 33,
     "metadata": {},
     "output_type": "execute_result"
    },
    {
     "data": {
      "image/png": "[encoded data removed]",
      "text/plain": [
       "<Figure size 640x480 with 1 Axes>"
      ]
     },
     "metadata": {},
     "output_type": "display_data"
    }
   ],
   "source": [
    "# Dasselbe wie oben, aber mit Zentrum. \n",
    "df1 = iris_df[ iris_df['predicted'] == 0 ]\n",
    "df2 = iris_df[ iris_df['predicted'] == 1 ]\n",
    "df3 = iris_df[ iris_df['predicted'] == 2 ]\n",
    "plt.scatter(df1['petal length (cm)'], df1['petal width (cm)'], color='green', label=\"1\")\n",
    "plt.scatter(df2['petal length (cm)'], df2['petal width (cm)'], color=\"red\",   label=\"2\")\n",
    "plt.scatter(df3['petal length (cm)'], df3['petal width (cm)'], color=\"pink\",  label=\"3\")\n",
    "# Plotte Zentrum. \n",
    "plt.scatter(model.cluster_centers_[:,0],model.cluster_centers_[:,1],color='purple',marker='+',label='centroid')\n",
    "plt.legend()"
   ]
  },
  {
   "cell_type": "code",
   "execution_count": 35,
   "id": "0895e310-e957-4c68-ac83-441be0d61f66",
   "metadata": {},
   "outputs": [
    {
     "name": "stderr",
     "output_type": "stream",
     "text": [
      "C:\\Users\\Alexander\\anaconda3\\lib\\site-packages\\sklearn\\base.py:464: UserWarning: X does not have valid feature names, but KMeans was fitted with feature names\n",
      "  warnings.warn(\n"
     ]
    },
    {
     "data": {
      "text/plain": [
       "array([2])"
      ]
     },
     "execution_count": 35,
     "metadata": {},
     "output_type": "execute_result"
    }
   ],
   "source": [
    "# Führe normale Predictions aus\n",
    "model.predict([ [3, 0.5] ])"
   ]
  },
  {
   "cell_type": "markdown",
   "id": "80964c6c-a3d7-4b5e-8c41-f3174607c919",
   "metadata": {},
   "source": [
    "Zusammengefasst ist K-Means ein recht simpler Algorithmus, der keine Labels braucht und unter die Kategorie Unsupervised Learning fällt. \n",
    "\n",
    "Mit K-Means können Datenpunkten eine Zugehörigkeiten in einem Cluster gegeben werden. Wie bei dem Iris Dataset können dann die Daten nach Clustern gruppiert und ähnliche neue Daten durch die Zugehörigkeit klassifiziert werden."
   ]
  }
 ],
 "metadata": {
  "kernelspec": {
   "display_name": "Python 3 (ipykernel)",
   "language": "python",
   "name": "python3"
  },
  "language_info": {
   "codemirror_mode": {
    "name": "ipython",
    "version": 3
   },
   "file_extension": ".py",
   "mimetype": "text/x-python",
   "name": "python",
   "nbconvert_exporter": "python",
   "pygments_lexer": "ipython3",
   "version": "3.9.18"
  }
 },
 "nbformat": 4,
 "nbformat_minor": 5
}
