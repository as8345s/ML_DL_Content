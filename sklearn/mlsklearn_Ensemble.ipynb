{
 "cells": [
  {
   "cell_type": "markdown",
   "id": "54e8ff37-eed9-4047-9f13-f58d49e85167",
   "metadata": {},
   "source": [
    "<h1>Ensemble - Bagging</h1>"
   ]
  },
  {
   "cell_type": "markdown",
   "id": "c21f7a25-3586-4351-841a-79a4a65f5fc8",
   "metadata": {},
   "source": [
    "Ensemble bedeutet, dass mehrere Algorithmen für eine Antwort verwendet werden, z. B. als Mehrheitsentscheidung wie bei Random-Forest.\n",
    "\n",
    "Bei Random-Forest wird der Algorithmus für Entscheidungsbäume genommen, die mehrere Bäume erzeugen und mehrere Antworten liefern. Durch eine Mehrheitsentscheidung gibt es am Ende nur eine Antwort, genau das ist Esemble Learning.\n",
    "\n",
    "Ensemble Learning bietet zwei Methoden an-\n",
    "- Bagging (Bootstrap Aggregation)\n",
    "- Boosting\n",
    "\n",
    "Diese können bei Modellen eingesetzt werden, wenn Datasets durch deren Struktur, Eigenschaften, Aufteilung, ..., dafür sorgen, das das Model beim Trainieren gut punktet, aber beim Testen eine hohe Varianz aufweist. <br>\n",
    "Hohe Varianz eines Models (Test errors) => Indikator für Overfitting. "
   ]
  },
  {
   "cell_type": "markdown",
   "id": "5923f378-8b12-4335-97ec-eb0051a1dd83",
   "metadata": {},
   "source": [
    "<i>Abb1</i>: Bagging - Resampling with replacement. \n",
    "\n",
    "<img> "
   ]
  },
  {
   "cell_type": "markdown",
   "id": "e52dfa09-dd98-4ede-9dae-c0e728ab9a68",
   "metadata": {},
   "source": [
    "Aus einem gegebenen Dataset werden n-Samples zufällig gezogen. Die Wahrscheinlichkeit der Ziehung ist gleich verteilt, und es können Duplikate vorkommen. Dieser Vorgang mit Resampling with replacement nennt sich Bootstrap. \n",
    "\n",
    "Es können n-Subsets eines Datasets erstellt werden, die dann je ein Model bedienen. Genau so funktioniert auch Random-Forest.\n",
    "Jeder dieser Modelle hat unterschiedliche Subsets gefüllt mit anderen Daten, was auch zu anderen Antworten führt. Durch eine Mehrheitsentscheidung wird festgestellt, welche Antwort genommen wird => z. B. True / False\n",
    "\n",
    "Jeder der Sub-Modelle führen eine Prediction aus. Jeder dieser Sub-Modelle wird als weak learner bezeichnet (weil mit Subset trainiert)."
   ]
  },
  {
   "cell_type": "markdown",
   "id": "980c79ad-b5ed-4207-97c2-9cf61e4140be",
   "metadata": {},
   "source": [
    "<i>Abb2</i>: Mehrheitsentscheidung bei Bagging. \n",
    "\n",
    "<img>"
   ]
  },
  {
   "cell_type": "markdown",
   "id": "60a8b1ba-be5e-4733-aa68-9b6bf6ee3ec9",
   "metadata": {},
   "source": [
    "Die kombinierten Ergebnisse der einzelnen Sub-Modellen liefern allgemein gute Ergebnisse.\n",
    "- Bei Regression wird der Durchschnitt der Antworten genommen.\n"
   ]
  },
  {
   "cell_type": "code",
   "execution_count": null,
   "id": "603d174a-bd67-4455-af17-63fab9c9feb5",
   "metadata": {},
   "outputs": [],
   "source": []
  },
  {
   "cell_type": "code",
   "execution_count": null,
   "id": "f3f189f0-04f9-4f09-ab07-286f0fcee715",
   "metadata": {},
   "outputs": [],
   "source": []
  },
  {
   "cell_type": "code",
   "execution_count": null,
   "id": "6a84a4eb-0304-4871-8496-9074a5420716",
   "metadata": {},
   "outputs": [],
   "source": []
  },
  {
   "cell_type": "code",
   "execution_count": null,
   "id": "4fe3469c-cd25-4980-ad22-a1a872461003",
   "metadata": {},
   "outputs": [],
   "source": []
  },
  {
   "cell_type": "code",
   "execution_count": null,
   "id": "e7376206-8b0b-4978-9ffb-bf0dd179afa3",
   "metadata": {},
   "outputs": [],
   "source": []
  },
  {
   "cell_type": "code",
   "execution_count": null,
   "id": "fb9b9658-77cc-4699-86d9-277086945efb",
   "metadata": {},
   "outputs": [],
   "source": []
  },
  {
   "cell_type": "code",
   "execution_count": null,
   "id": "8306de95-dcc9-42f9-a24b-cc0fbf6ea589",
   "metadata": {},
   "outputs": [],
   "source": []
  },
  {
   "cell_type": "code",
   "execution_count": null,
   "id": "87bcb5be-a014-408f-be44-27f760fb947d",
   "metadata": {},
   "outputs": [],
   "source": []
  },
  {
   "cell_type": "code",
   "execution_count": null,
   "id": "0f3d1227-9b7e-42cf-912f-195471882b11",
   "metadata": {},
   "outputs": [],
   "source": []
  },
  {
   "cell_type": "code",
   "execution_count": null,
   "id": "1a80d8ea-4f48-460b-b0dd-f574a9b55314",
   "metadata": {},
   "outputs": [],
   "source": []
  },
  {
   "cell_type": "code",
   "execution_count": null,
   "id": "cc66e6b5-198f-46ad-95b8-60d83c233dd8",
   "metadata": {},
   "outputs": [],
   "source": [
    "# // Content Coming [Boosting]"
   ]
  },
  {
   "cell_type": "code",
   "execution_count": null,
   "id": "d6a6085a-1784-43ae-acea-b7be32e9b660",
   "metadata": {},
   "outputs": [],
   "source": []
  }
 ],
 "metadata": {
  "kernelspec": {
   "display_name": "Python 3 (ipykernel)",
   "language": "python",
   "name": "python3"
  },
  "language_info": {
   "codemirror_mode": {
    "name": "ipython",
    "version": 3
   },
   "file_extension": ".py",
   "mimetype": "text/x-python",
   "name": "python",
   "nbconvert_exporter": "python",
   "pygments_lexer": "ipython3",
   "version": "3.9.18"
  }
 },
 "nbformat": 4,
 "nbformat_minor": 5
}
