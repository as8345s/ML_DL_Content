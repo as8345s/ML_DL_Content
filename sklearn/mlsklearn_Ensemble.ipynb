{
 "cells": [
  {
   "cell_type": "markdown",
   "id": "54e8ff37-eed9-4047-9f13-f58d49e85167",
   "metadata": {},
   "source": [
    "<h1>Ensemble - Bagging</h1>"
   ]
  },
  {
   "cell_type": "markdown",
   "id": "c21f7a25-3586-4351-841a-79a4a65f5fc8",
   "metadata": {},
   "source": [
    "Ensemble bedeutet, dass mehrere Algorithmen für eine Antwort verwendet werden, z. B. als Mehrheitsentscheidung wie bei Random-Forest.\n",
    "\n",
    "Bei Random-Forest wird der Algorithmus für Entscheidungsbäume genommen, die mehrere Bäume erzeugen und mehrere Antworten liefern. Durch eine Mehrheitsentscheidung gibt es am Ende nur eine Antwort, genau das ist Esemble Learning.\n",
    "\n",
    "Ensemble Learning bietet zwei Methoden an-\n",
    "- Bagging (Bootstrap Aggregation)\n",
    "- Boosting\n",
    "\n",
    "Diese können bei Modellen eingesetzt werden, wenn Datasets durch deren Struktur, Eigenschaften, Aufteilung, ..., dafür sorgen, das das Model beim Trainieren gut punktet, aber beim Testen eine hohe Varianz aufweist. <br>\n",
    "Hohe Varianz eines Models (Test errors) => Indikator für Overfitting. "
   ]
  },
  {
   "cell_type": "markdown",
   "id": "5923f378-8b12-4335-97ec-eb0051a1dd83",
   "metadata": {},
   "source": [
    "<i>Abb1</i>: Bagging - Resampling with Replacement. \n",
    "\n",
    "<img src=\"./files_data/img/sklearn_ensemble_1.PNG\" width=650 hight=450> "
   ]
  },
  {
   "cell_type": "markdown",
   "id": "e52dfa09-dd98-4ede-9dae-c0e728ab9a68",
   "metadata": {},
   "source": [
    "Aus einem gegebenen Dataset werden n-Samples zufällig gezogen. Die Wahrscheinlichkeit der Ziehung ist gleich verteilt, und es können Duplikate vorkommen. Dieser Vorgang mit Resampling with replacement nennt sich Bootstrap. \n",
    "\n",
    "Es können n-Subsets eines Datasets erstellt werden, die dann je ein Model bedienen. Genau so funktioniert auch Random-Forest.\n",
    "Jeder dieser Modelle hat unterschiedliche Subsets gefüllt mit anderen Daten, was auch zu anderen Antworten führt. Durch eine Mehrheitsentscheidung wird festgestellt, welche Antwort genommen wird => z. B. True / False\n",
    "\n",
    "Jeder der Sub-Modelle führen eine Prediction aus. Jeder dieser Sub-Modelle wird als weak learner bezeichnet (weil mit Subset trainiert)."
   ]
  },
  {
   "cell_type": "markdown",
   "id": "980c79ad-b5ed-4207-97c2-9cf61e4140be",
   "metadata": {},
   "source": [
    "<i>Abb2</i>: Mehrheitsentscheidung bei Bagging, Gesamtüberblick. \n",
    "\n",
    "<img src=\"./files_data/img/sklearn_ensemble_2.PNG\" width=650 hight=650> "
   ]
  },
  {
   "cell_type": "markdown",
   "id": "60a8b1ba-be5e-4733-aa68-9b6bf6ee3ec9",
   "metadata": {},
   "source": [
    "Die kombinierten Ergebnisse der einzelnen Sub-Modelle liefern allgemein gute Ergebnisse.\n",
    "- Bei Regression wird der Durchschnitt der Antworten genommen.\n",
    "\n",
    "Random-Forest an sich ist ein Model, das schon Bagging nutzt und auch die Features sampelt. Jedes Subset bildet einen Baum. <br>\n",
    "Ein einziger Baum, oder ein einzelnes Model kann zu Overfitting führen => keine gute Balance. <br>\n",
    "Mehrere Modelle können das Dataset aus verschiedenen Winkeln betrachten und zusammen ein besseres Ergebnis liefern."
   ]
  },
  {
   "cell_type": "markdown",
   "id": "51983e4c-7f3b-42b0-be64-30266f4994e7",
   "metadata": {},
   "source": [
    "Für die Anwendung von Bagging nutzen wir ein Heart-Failure Dataset und SVM, dann wird der Score mit und ohne Bagging verglichen."
   ]
  },
  {
   "cell_type": "code",
   "execution_count": 25,
   "id": "f3f189f0-04f9-4f09-ab07-286f0fcee715",
   "metadata": {},
   "outputs": [],
   "source": [
    "# Imports\n",
    "import pandas as pd   \n",
    "\n",
    "from sklearn.tree import DecisionTreeClassifier\n",
    "from sklearn.svm  import SVC\n",
    "\n",
    "from sklearn.ensemble import BaggingClassifier\n",
    "\n",
    "from sklearn.model_selection import train_test_split\n",
    "from sklearn.model_selection import cross_val_score\n",
    "from sklearn.preprocessing   import StandardScaler  \n",
    "from sklearn.preprocessing   import LabelEncoder"
   ]
  },
  {
   "cell_type": "code",
   "execution_count": 8,
   "id": "6a84a4eb-0304-4871-8496-9074a5420716",
   "metadata": {},
   "outputs": [
    {
     "data": {
      "text/html": [
       "<div>\n",
       "<style scoped>\n",
       "    .dataframe tbody tr th:only-of-type {\n",
       "        vertical-align: middle;\n",
       "    }\n",
       "\n",
       "    .dataframe tbody tr th {\n",
       "        vertical-align: top;\n",
       "    }\n",
       "\n",
       "    .dataframe thead th {\n",
       "        text-align: right;\n",
       "    }\n",
       "</style>\n",
       "<table border=\"1\" class=\"dataframe\">\n",
       "  <thead>\n",
       "    <tr style=\"text-align: right;\">\n",
       "      <th></th>\n",
       "      <th>Age</th>\n",
       "      <th>Sex</th>\n",
       "      <th>ChestPainType</th>\n",
       "      <th>RestingBP</th>\n",
       "      <th>Cholesterol</th>\n",
       "      <th>FastingBS</th>\n",
       "      <th>RestingECG</th>\n",
       "      <th>MaxHR</th>\n",
       "      <th>ExerciseAngina</th>\n",
       "      <th>Oldpeak</th>\n",
       "      <th>ST_Slope</th>\n",
       "      <th>HeartDisease</th>\n",
       "    </tr>\n",
       "  </thead>\n",
       "  <tbody>\n",
       "    <tr>\n",
       "      <th>0</th>\n",
       "      <td>40</td>\n",
       "      <td>M</td>\n",
       "      <td>ATA</td>\n",
       "      <td>140</td>\n",
       "      <td>289</td>\n",
       "      <td>0</td>\n",
       "      <td>Normal</td>\n",
       "      <td>172</td>\n",
       "      <td>N</td>\n",
       "      <td>0.0</td>\n",
       "      <td>Up</td>\n",
       "      <td>0</td>\n",
       "    </tr>\n",
       "    <tr>\n",
       "      <th>1</th>\n",
       "      <td>49</td>\n",
       "      <td>F</td>\n",
       "      <td>NAP</td>\n",
       "      <td>160</td>\n",
       "      <td>180</td>\n",
       "      <td>0</td>\n",
       "      <td>Normal</td>\n",
       "      <td>156</td>\n",
       "      <td>N</td>\n",
       "      <td>1.0</td>\n",
       "      <td>Flat</td>\n",
       "      <td>1</td>\n",
       "    </tr>\n",
       "  </tbody>\n",
       "</table>\n",
       "</div>"
      ],
      "text/plain": [
       "   Age Sex ChestPainType  RestingBP  Cholesterol  FastingBS RestingECG  MaxHR  \\\n",
       "0   40   M           ATA        140          289          0     Normal    172   \n",
       "1   49   F           NAP        160          180          0     Normal    156   \n",
       "\n",
       "  ExerciseAngina  Oldpeak ST_Slope  HeartDisease  \n",
       "0              N      0.0       Up             0  \n",
       "1              N      1.0     Flat             1  "
      ]
     },
     "execution_count": 8,
     "metadata": {},
     "output_type": "execute_result"
    }
   ],
   "source": [
    "# Lade das Dataset in ein Dataframe.\n",
    "heart_data = pd.read_csv(\"./files_data/data/heart_failure_prediction.zip\", compression='zip')\n",
    "heart_data.head(2)"
   ]
  },
  {
   "cell_type": "code",
   "execution_count": 9,
   "id": "4fe3469c-cd25-4980-ad22-a1a872461003",
   "metadata": {},
   "outputs": [
    {
     "data": {
      "text/plain": [
       "Age               0\n",
       "Sex               0\n",
       "ChestPainType     0\n",
       "RestingBP         0\n",
       "Cholesterol       0\n",
       "FastingBS         0\n",
       "RestingECG        0\n",
       "MaxHR             0\n",
       "ExerciseAngina    0\n",
       "Oldpeak           0\n",
       "ST_Slope          0\n",
       "HeartDisease      0\n",
       "dtype: int64"
      ]
     },
     "execution_count": 9,
     "metadata": {},
     "output_type": "execute_result"
    }
   ],
   "source": [
    "# Gibt es Null-Werte?\n",
    "heart_data.isnull().sum()"
   ]
  },
  {
   "cell_type": "markdown",
   "id": "d71526c5-cbea-4fa1-b768-87e3ea6db20e",
   "metadata": {},
   "source": [
    "Ohne weiter ins Detail zu gehen, werden die Features encoded und skaliert.  <br>"
   ]
  },
  {
   "cell_type": "code",
   "execution_count": 10,
   "id": "8306de95-dcc9-42f9-a24b-cc0fbf6ea589",
   "metadata": {},
   "outputs": [
    {
     "data": {
      "text/html": [
       "<div>\n",
       "<style scoped>\n",
       "    .dataframe tbody tr th:only-of-type {\n",
       "        vertical-align: middle;\n",
       "    }\n",
       "\n",
       "    .dataframe tbody tr th {\n",
       "        vertical-align: top;\n",
       "    }\n",
       "\n",
       "    .dataframe thead th {\n",
       "        text-align: right;\n",
       "    }\n",
       "</style>\n",
       "<table border=\"1\" class=\"dataframe\">\n",
       "  <thead>\n",
       "    <tr style=\"text-align: right;\">\n",
       "      <th></th>\n",
       "      <th>Sex_F</th>\n",
       "      <th>Sex_M</th>\n",
       "      <th>ExerciseAngina_N</th>\n",
       "      <th>ExerciseAngina_Y</th>\n",
       "      <th>Age</th>\n",
       "      <th>ChestPainType</th>\n",
       "      <th>RestingBP</th>\n",
       "      <th>Cholesterol</th>\n",
       "      <th>FastingBS</th>\n",
       "      <th>RestingECG</th>\n",
       "      <th>MaxHR</th>\n",
       "      <th>Oldpeak</th>\n",
       "      <th>ST_Slope</th>\n",
       "      <th>HeartDisease</th>\n",
       "    </tr>\n",
       "  </thead>\n",
       "  <tbody>\n",
       "    <tr>\n",
       "      <th>0</th>\n",
       "      <td>0</td>\n",
       "      <td>1</td>\n",
       "      <td>1</td>\n",
       "      <td>0</td>\n",
       "      <td>40</td>\n",
       "      <td>1</td>\n",
       "      <td>140</td>\n",
       "      <td>289</td>\n",
       "      <td>0</td>\n",
       "      <td>1</td>\n",
       "      <td>172</td>\n",
       "      <td>0.0</td>\n",
       "      <td>2</td>\n",
       "      <td>0</td>\n",
       "    </tr>\n",
       "    <tr>\n",
       "      <th>1</th>\n",
       "      <td>1</td>\n",
       "      <td>0</td>\n",
       "      <td>1</td>\n",
       "      <td>0</td>\n",
       "      <td>49</td>\n",
       "      <td>2</td>\n",
       "      <td>160</td>\n",
       "      <td>180</td>\n",
       "      <td>0</td>\n",
       "      <td>1</td>\n",
       "      <td>156</td>\n",
       "      <td>1.0</td>\n",
       "      <td>1</td>\n",
       "      <td>1</td>\n",
       "    </tr>\n",
       "    <tr>\n",
       "      <th>2</th>\n",
       "      <td>0</td>\n",
       "      <td>1</td>\n",
       "      <td>1</td>\n",
       "      <td>0</td>\n",
       "      <td>37</td>\n",
       "      <td>1</td>\n",
       "      <td>130</td>\n",
       "      <td>283</td>\n",
       "      <td>0</td>\n",
       "      <td>2</td>\n",
       "      <td>98</td>\n",
       "      <td>0.0</td>\n",
       "      <td>2</td>\n",
       "      <td>0</td>\n",
       "    </tr>\n",
       "    <tr>\n",
       "      <th>3</th>\n",
       "      <td>1</td>\n",
       "      <td>0</td>\n",
       "      <td>0</td>\n",
       "      <td>1</td>\n",
       "      <td>48</td>\n",
       "      <td>0</td>\n",
       "      <td>138</td>\n",
       "      <td>214</td>\n",
       "      <td>0</td>\n",
       "      <td>1</td>\n",
       "      <td>108</td>\n",
       "      <td>1.5</td>\n",
       "      <td>1</td>\n",
       "      <td>1</td>\n",
       "    </tr>\n",
       "    <tr>\n",
       "      <th>4</th>\n",
       "      <td>0</td>\n",
       "      <td>1</td>\n",
       "      <td>1</td>\n",
       "      <td>0</td>\n",
       "      <td>54</td>\n",
       "      <td>2</td>\n",
       "      <td>150</td>\n",
       "      <td>195</td>\n",
       "      <td>0</td>\n",
       "      <td>1</td>\n",
       "      <td>122</td>\n",
       "      <td>0.0</td>\n",
       "      <td>2</td>\n",
       "      <td>0</td>\n",
       "    </tr>\n",
       "  </tbody>\n",
       "</table>\n",
       "</div>"
      ],
      "text/plain": [
       "   Sex_F  Sex_M  ExerciseAngina_N  ExerciseAngina_Y  Age  ChestPainType  \\\n",
       "0      0      1                 1                 0   40              1   \n",
       "1      1      0                 1                 0   49              2   \n",
       "2      0      1                 1                 0   37              1   \n",
       "3      1      0                 0                 1   48              0   \n",
       "4      0      1                 1                 0   54              2   \n",
       "\n",
       "   RestingBP  Cholesterol  FastingBS  RestingECG  MaxHR  Oldpeak  ST_Slope  \\\n",
       "0        140          289          0           1    172      0.0         2   \n",
       "1        160          180          0           1    156      1.0         1   \n",
       "2        130          283          0           2     98      0.0         2   \n",
       "3        138          214          0           1    108      1.5         1   \n",
       "4        150          195          0           1    122      0.0         2   \n",
       "\n",
       "   HeartDisease  \n",
       "0             0  \n",
       "1             1  \n",
       "2             0  \n",
       "3             1  \n",
       "4             0  "
      ]
     },
     "execution_count": 10,
     "metadata": {},
     "output_type": "execute_result"
    }
   ],
   "source": [
    "# On Hot Encode mit Pandas\n",
    "dummies_df = pd.get_dummies(heart_data[['Sex', 'ExerciseAngina']], dtype=\"int\")\n",
    "# Lösche betroffene Spalten.\n",
    "heart_data.drop(['Sex', 'ExerciseAngina'], axis='columns', inplace=True)\n",
    "# Hänge neue Spalten an.\n",
    "heart_data = pd.concat([dummies_df, heart_data ], axis='columns')\n",
    "\n",
    "# Erstelle Sklearn Label Encoder.\n",
    "le = LabelEncoder()\n",
    "# Encode Features.\n",
    "heart_data['ChestPainType']  = le.fit_transform(heart_data['ChestPainType'])\n",
    "heart_data['RestingECG']     = le.fit_transform(heart_data['RestingECG'])\n",
    "heart_data['ST_Slope']       = le.fit_transform(heart_data['ST_Slope'])\n",
    "\n",
    "heart_data.head(5)"
   ]
  },
  {
   "cell_type": "markdown",
   "id": "64ad86b9-efb9-4e44-a21b-ffb43d9b961a",
   "metadata": {},
   "source": [
    "Optional können die Daten skaliert werden. "
   ]
  },
  {
   "cell_type": "code",
   "execution_count": 12,
   "id": "0f3d1227-9b7e-42cf-912f-195471882b11",
   "metadata": {},
   "outputs": [
    {
     "data": {
      "text/plain": [
       "(918, 13)"
      ]
     },
     "execution_count": 12,
     "metadata": {},
     "output_type": "execute_result"
    }
   ],
   "source": [
    "scaler = StandardScaler()\n",
    "X_data = scaler.fit_transform(heart_data.drop(['HeartDisease'], axis=\"columns\"))\n",
    "X_data.shape"
   ]
  },
  {
   "cell_type": "code",
   "execution_count": 19,
   "id": "1a80d8ea-4f48-460b-b0dd-f574a9b55314",
   "metadata": {},
   "outputs": [
    {
     "data": {
      "text/plain": [
       "array([0.86956522, 0.9       , 0.83842795, 0.75982533])"
      ]
     },
     "execution_count": 19,
     "metadata": {},
     "output_type": "execute_result"
    }
   ],
   "source": [
    "# Erstelle Model.\n",
    "svc = SVC()\n",
    "\n",
    "cross_val_score(svc, X_data, heart_data['HeartDisease'], cv=4)"
   ]
  },
  {
   "cell_type": "markdown",
   "id": "228f1139-4769-45fd-8936-60c331410110",
   "metadata": {},
   "source": [
    "Mit Cross Validation 4 ist zu sehen, dass der Score sich je nach Aufteilung des Datasets im Score unterscheidet.\n",
    "- Model hat eine höhere Varianz\n",
    "\n",
    "Was machen könnte, ist Bagging zu verwenden (was auch den Anwendungszeck zeigen soll, deswegen haben wir das Model nicht optimiert...)."
   ]
  },
  {
   "cell_type": "code",
   "execution_count": 24,
   "id": "944a624f-0374-4d99-a3b2-095af46d2324",
   "metadata": {},
   "outputs": [
    {
     "data": {
      "text/plain": [
       "array([0.8       , 0.83478261, 0.79039301, 0.68995633])"
      ]
     },
     "execution_count": 24,
     "metadata": {},
     "output_type": "execute_result"
    }
   ],
   "source": [
    "# Dasselbe kann auch mit einem Baum gemacht werden. \n",
    "# - Auch eine höhere Varianz. \n",
    "dtree = DecisionTreeClassifier()\n",
    "\n",
    "cross_val_score(dtree, X_data, heart_data['HeartDisease'], cv=4)"
   ]
  },
  {
   "cell_type": "code",
   "execution_count": 42,
   "id": "30de4447-9a83-45a7-9448-5fa938ddecfa",
   "metadata": {},
   "outputs": [
    {
     "data": {
      "text/html": [
       "<style>#sk-container-id-4 {color: black;}#sk-container-id-4 pre{padding: 0;}#sk-container-id-4 div.sk-toggleable {background-color: white;}#sk-container-id-4 label.sk-toggleable__label {cursor: pointer;display: block;width: 100%;margin-bottom: 0;padding: 0.3em;box-sizing: border-box;text-align: center;}#sk-container-id-4 label.sk-toggleable__label-arrow:before {content: \"▸\";float: left;margin-right: 0.25em;color: #696969;}#sk-container-id-4 label.sk-toggleable__label-arrow:hover:before {color: black;}#sk-container-id-4 div.sk-estimator:hover label.sk-toggleable__label-arrow:before {color: black;}#sk-container-id-4 div.sk-toggleable__content {max-height: 0;max-width: 0;overflow: hidden;text-align: left;background-color: #f0f8ff;}#sk-container-id-4 div.sk-toggleable__content pre {margin: 0.2em;color: black;border-radius: 0.25em;background-color: #f0f8ff;}#sk-container-id-4 input.sk-toggleable__control:checked~div.sk-toggleable__content {max-height: 200px;max-width: 100%;overflow: auto;}#sk-container-id-4 input.sk-toggleable__control:checked~label.sk-toggleable__label-arrow:before {content: \"▾\";}#sk-container-id-4 div.sk-estimator input.sk-toggleable__control:checked~label.sk-toggleable__label {background-color: #d4ebff;}#sk-container-id-4 div.sk-label input.sk-toggleable__control:checked~label.sk-toggleable__label {background-color: #d4ebff;}#sk-container-id-4 input.sk-hidden--visually {border: 0;clip: rect(1px 1px 1px 1px);clip: rect(1px, 1px, 1px, 1px);height: 1px;margin: -1px;overflow: hidden;padding: 0;position: absolute;width: 1px;}#sk-container-id-4 div.sk-estimator {font-family: monospace;background-color: #f0f8ff;border: 1px dotted black;border-radius: 0.25em;box-sizing: border-box;margin-bottom: 0.5em;}#sk-container-id-4 div.sk-estimator:hover {background-color: #d4ebff;}#sk-container-id-4 div.sk-parallel-item::after {content: \"\";width: 100%;border-bottom: 1px solid gray;flex-grow: 1;}#sk-container-id-4 div.sk-label:hover label.sk-toggleable__label {background-color: #d4ebff;}#sk-container-id-4 div.sk-serial::before {content: \"\";position: absolute;border-left: 1px solid gray;box-sizing: border-box;top: 0;bottom: 0;left: 50%;z-index: 0;}#sk-container-id-4 div.sk-serial {display: flex;flex-direction: column;align-items: center;background-color: white;padding-right: 0.2em;padding-left: 0.2em;position: relative;}#sk-container-id-4 div.sk-item {position: relative;z-index: 1;}#sk-container-id-4 div.sk-parallel {display: flex;align-items: stretch;justify-content: center;background-color: white;position: relative;}#sk-container-id-4 div.sk-item::before, #sk-container-id-4 div.sk-parallel-item::before {content: \"\";position: absolute;border-left: 1px solid gray;box-sizing: border-box;top: 0;bottom: 0;left: 50%;z-index: -1;}#sk-container-id-4 div.sk-parallel-item {display: flex;flex-direction: column;z-index: 1;position: relative;background-color: white;}#sk-container-id-4 div.sk-parallel-item:first-child::after {align-self: flex-end;width: 50%;}#sk-container-id-4 div.sk-parallel-item:last-child::after {align-self: flex-start;width: 50%;}#sk-container-id-4 div.sk-parallel-item:only-child::after {width: 0;}#sk-container-id-4 div.sk-dashed-wrapped {border: 1px dashed gray;margin: 0 0.4em 0.5em 0.4em;box-sizing: border-box;padding-bottom: 0.4em;background-color: white;}#sk-container-id-4 div.sk-label label {font-family: monospace;font-weight: bold;display: inline-block;line-height: 1.2em;}#sk-container-id-4 div.sk-label-container {text-align: center;}#sk-container-id-4 div.sk-container {/* jupyter's `normalize.less` sets `[hidden] { display: none; }` but bootstrap.min.css set `[hidden] { display: none !important; }` so we also need the `!important` here to be able to override the default hidden behavior on the sphinx rendered scikit-learn.org. See: https://github.com/scikit-learn/scikit-learn/issues/21755 */display: inline-block !important;position: relative;}#sk-container-id-4 div.sk-text-repr-fallback {display: none;}</style><div id=\"sk-container-id-4\" class=\"sk-top-container\"><div class=\"sk-text-repr-fallback\"><pre>BaggingClassifier(estimator=SVC(), max_samples=0.85, oob_score=True)</pre><b>In a Jupyter environment, please rerun this cell to show the HTML representation or trust the notebook. <br />On GitHub, the HTML representation is unable to render, please try loading this page with nbviewer.org.</b></div><div class=\"sk-container\" hidden><div class=\"sk-item sk-dashed-wrapped\"><div class=\"sk-label-container\"><div class=\"sk-label sk-toggleable\"><input class=\"sk-toggleable__control sk-hidden--visually\" id=\"sk-estimator-id-10\" type=\"checkbox\" ><label for=\"sk-estimator-id-10\" class=\"sk-toggleable__label sk-toggleable__label-arrow\">BaggingClassifier</label><div class=\"sk-toggleable__content\"><pre>BaggingClassifier(estimator=SVC(), max_samples=0.85, oob_score=True)</pre></div></div></div><div class=\"sk-parallel\"><div class=\"sk-parallel-item\"><div class=\"sk-item\"><div class=\"sk-label-container\"><div class=\"sk-label sk-toggleable\"><input class=\"sk-toggleable__control sk-hidden--visually\" id=\"sk-estimator-id-11\" type=\"checkbox\" ><label for=\"sk-estimator-id-11\" class=\"sk-toggleable__label sk-toggleable__label-arrow\">estimator: SVC</label><div class=\"sk-toggleable__content\"><pre>SVC()</pre></div></div></div><div class=\"sk-serial\"><div class=\"sk-item\"><div class=\"sk-estimator sk-toggleable\"><input class=\"sk-toggleable__control sk-hidden--visually\" id=\"sk-estimator-id-12\" type=\"checkbox\" ><label for=\"sk-estimator-id-12\" class=\"sk-toggleable__label sk-toggleable__label-arrow\">SVC</label><div class=\"sk-toggleable__content\"><pre>SVC()</pre></div></div></div></div></div></div></div></div></div></div>"
      ],
      "text/plain": [
       "BaggingClassifier(estimator=SVC(), max_samples=0.85, oob_score=True)"
      ]
     },
     "execution_count": 42,
     "metadata": {},
     "output_type": "execute_result"
    }
   ],
   "source": [
    "# Einige Parameter, die eingestellt werden können\n",
    "# - Siehe Sklearn Doks. \n",
    "model = BaggingClassifier( \n",
    "    estimator= svc,        # Welches Model. \n",
    "    n_estimators  = 10,    # Wie viele Modelle => n-Subsets -> n-Modelle\n",
    "    max_samples   = 0.85,  # Pool für Subsets => 100 Samples und max_samples=0.85 -> Subset hat 85 Samples. \n",
    "    oob_score     = True   # Out of Bag. Wenn Datenpunk nicht gezogen wird => Nutze es als Testset. Nur bei Bootstrap. \n",
    "    # verbose       = 2    # Zusätzliche Informationen => kann viel Text generieren\n",
    ")\n",
    "model"
   ]
  },
  {
   "cell_type": "code",
   "execution_count": 43,
   "id": "128ef301-2940-40d8-9587-2611361e5f81",
   "metadata": {},
   "outputs": [
    {
     "name": "stderr",
     "output_type": "stream",
     "text": [
      "C:\\Users\\Alexander\\anaconda3\\lib\\site-packages\\sklearn\\ensemble\\_bagging.py:789: UserWarning: Some inputs do not have OOB scores. This probably means too few estimators were used to compute any reliable oob estimates.\n",
      "  warn(\n",
      "C:\\Users\\Alexander\\anaconda3\\lib\\site-packages\\sklearn\\ensemble\\_bagging.py:795: RuntimeWarning: invalid value encountered in divide\n",
      "  oob_decision_function = predictions / predictions.sum(axis=1)[:, np.newaxis]\n"
     ]
    },
    {
     "data": {
      "text/plain": [
       "0.8747276688453159"
      ]
     },
     "execution_count": 43,
     "metadata": {},
     "output_type": "execute_result"
    }
   ],
   "source": [
    "# Trainiere.\n",
    "model.fit(X_data, heart_data['HeartDisease'])\n",
    "model.oob_score_"
   ]
  },
  {
   "cell_type": "code",
   "execution_count": 47,
   "id": "79c11f4b-b6b9-4ee9-8fd6-0b21f15060c7",
   "metadata": {},
   "outputs": [
    {
     "data": {
      "text/plain": [
       "array([0.85652174, 0.91304348, 0.86899563, 0.73799127])"
      ]
     },
     "execution_count": 47,
     "metadata": {},
     "output_type": "execute_result"
    }
   ],
   "source": [
    "# SVM\n",
    "model = BaggingClassifier( \n",
    "    estimator= svc,        # Welches Model. \n",
    "    n_estimators  = 20,    # Wie viele Modelle => n-Subsets -> n-Modelle\n",
    "    max_samples   = 0.85,  # Pool für Subsets => 100 Samples und max_samples=0.85 -> Subset hat 85 Samples. \n",
    "    #oob_score     = True  # Out of Bag. Wenn Datenpunk nicht gezogen wird => Nutze es als Testset. Nur bei Bootstrap. \n",
    "    # verbose       = 2    # Zusätzliche Informationen => kann viel Text generieren\n",
    ")\n",
    "\n",
    "cross_val_score(model, X_data, heart_data['HeartDisease'], cv=4)"
   ]
  },
  {
   "cell_type": "code",
   "execution_count": 48,
   "id": "48c62382-9a38-42de-a3f7-c5a9de0f830a",
   "metadata": {},
   "outputs": [
    {
     "data": {
      "text/plain": [
       "array([0.86956522, 0.87391304, 0.8209607 , 0.72489083])"
      ]
     },
     "execution_count": 48,
     "metadata": {},
     "output_type": "execute_result"
    }
   ],
   "source": [
    "# Baum \n",
    "model = BaggingClassifier( \n",
    "    estimator= dtree,      # Welches Model. \n",
    "    n_estimators  = 20,    # Wie viele Modelle => n-Subsets -> n-Modelle\n",
    "    max_samples   = 0.85,  # Pool für Subsets => 100 Samples und max_samples=0.85 -> Subset hat 85 Samples. \n",
    "    #oob_score     = True  # Out of Bag. Wenn Datenpunk nicht gezogen wird => Nutze es als Testset. Nur bei Bootstrap. \n",
    "    # verbose       = 2    # Zusätzliche Informationen => kann viel Text generieren\n",
    ")\n",
    "\n",
    "cross_val_score(model, X_data, heart_data['HeartDisease'], cv=4)"
   ]
  },
  {
   "cell_type": "markdown",
   "id": "3774fb79-eb0e-4ba9-a766-82ee69459dfc",
   "metadata": {},
   "source": [
    "Zusammengefasst:"
   ]
  },
  {
   "cell_type": "code",
   "execution_count": 49,
   "id": "e81c0e5c-753e-4154-87f3-0029cd6280f4",
   "metadata": {},
   "outputs": [
    {
     "data": {
      "text/plain": [
       "0.8419546231251187"
      ]
     },
     "execution_count": 49,
     "metadata": {},
     "output_type": "execute_result"
    }
   ],
   "source": [
    "# SVM Score # \n",
    "svc = SVC()\n",
    "cross_val_score(svc, X_data, heart_data['HeartDisease'], cv=4).mean()"
   ]
  },
  {
   "cell_type": "code",
   "execution_count": 56,
   "id": "94a2a4ce-5fcb-4a9c-8f35-5f5e4bb6cc8e",
   "metadata": {},
   "outputs": [
    {
     "data": {
      "text/plain": [
       "0.8420479302832243"
      ]
     },
     "execution_count": 56,
     "metadata": {},
     "output_type": "execute_result"
    }
   ],
   "source": [
    "# SVM Score mit Bagging # \n",
    "model = BaggingClassifier( \n",
    "    estimator= svc,       \n",
    "    n_estimators  = 10,   \n",
    "    max_samples   = 0.78,  \n",
    ")\n",
    "cross_val_score(model, X_data, heart_data['HeartDisease'], cv=4).mean()"
   ]
  },
  {
   "cell_type": "code",
   "execution_count": 57,
   "id": "fb775369-e6dc-4a06-9768-f76628a2f937",
   "metadata": {},
   "outputs": [
    {
     "data": {
      "text/plain": [
       "0.7766138219100057"
      ]
     },
     "execution_count": 57,
     "metadata": {},
     "output_type": "execute_result"
    }
   ],
   "source": [
    "# Baum #\n",
    "dtree = DecisionTreeClassifier()\n",
    "cross_val_score(dtree, X_data, heart_data['HeartDisease'], cv=4).mean()"
   ]
  },
  {
   "cell_type": "code",
   "execution_count": 58,
   "id": "30403db7-a0a0-4e36-ac98-5e93bd397e7a",
   "metadata": {},
   "outputs": [
    {
     "data": {
      "text/plain": [
       "0.8158202012530852"
      ]
     },
     "execution_count": 58,
     "metadata": {},
     "output_type": "execute_result"
    }
   ],
   "source": [
    "# Baum mit Bagging # \n",
    "model = BaggingClassifier( \n",
    "    estimator= dtree,      \n",
    "    n_estimators  = 20,    \n",
    "    max_samples   = 0.85,\n",
    ")\n",
    "\n",
    "cross_val_score(model, X_data, heart_data['HeartDisease'], cv=4).mean()"
   ]
  },
  {
   "cell_type": "code",
   "execution_count": 62,
   "id": "2222df69-2bdf-4606-a2b0-fe2f0ce06032",
   "metadata": {},
   "outputs": [
    {
     "data": {
      "text/plain": [
       "0.8256265426238846"
      ]
     },
     "execution_count": 62,
     "metadata": {},
     "output_type": "execute_result"
    }
   ],
   "source": [
    "# Baum mit Bagging und Feature sampling (wie Random-Forest) # \n",
    "model = BaggingClassifier( \n",
    "    estimator= dtree,      \n",
    "    n_estimators  = 20,    \n",
    "    max_samples   = 0.85,   \n",
    "    max_features  = 0.90  # Feature pool. \n",
    ")\n",
    "\n",
    "cross_val_score(model, X_data, heart_data['HeartDisease'], cv=4).mean()"
   ]
  },
  {
   "cell_type": "code",
   "execution_count": null,
   "id": "49e6da45-8e6c-41e9-b229-10fc9b0da74d",
   "metadata": {},
   "outputs": [],
   "source": []
  },
  {
   "cell_type": "code",
   "execution_count": null,
   "id": "cc66e6b5-198f-46ad-95b8-60d83c233dd8",
   "metadata": {},
   "outputs": [],
   "source": [
    "# // Content Coming [Boosting]"
   ]
  },
  {
   "cell_type": "code",
   "execution_count": null,
   "id": "d6a6085a-1784-43ae-acea-b7be32e9b660",
   "metadata": {},
   "outputs": [],
   "source": []
  }
 ],
 "metadata": {
  "kernelspec": {
   "display_name": "Python 3 (ipykernel)",
   "language": "python",
   "name": "python3"
  },
  "language_info": {
   "codemirror_mode": {
    "name": "ipython",
    "version": 3
   },
   "file_extension": ".py",
   "mimetype": "text/x-python",
   "name": "python",
   "nbconvert_exporter": "python",
   "pygments_lexer": "ipython3",
   "version": "3.9.18"
  }
 },
 "nbformat": 4,
 "nbformat_minor": 5
}
