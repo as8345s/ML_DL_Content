{
 "cells": [
  {
   "cell_type": "markdown",
   "id": "7ae5df1c-7e37-4e53-9695-f630b237a420",
   "metadata": {},
   "source": [
    "<h1>K-Fold Cross Validation</h1>\n",
    "> Nutzung von Train- und Testsets"
   ]
  },
  {
   "cell_type": "markdown",
   "id": "73701203-b13b-4405-bb7b-ad076fbc9423",
   "metadata": {},
   "source": [
    "Hier werden drei grundlegenden Methoden für das Validieren von Modellen erläutert. \n",
    "\n",
    "Hier werden drei grundlegenden Methoden für das Validieren von Modellen erläutert. <br>\n",
    "Die untere Abbildung (Abb1) zeigt einen Überblick der drei Möglichkeiten, Train- und Testsets zu nutzen. \n"
   ]
  },
  {
   "cell_type": "markdown",
   "id": "99bc516a-c2ac-4d32-add3-2f07513dec31",
   "metadata": {},
   "source": [
    "<i>Abb1</i>: Nutze ganzes Dataset oder teile es auf.<i>\n",
    "\n",
    "<img src=\"./files_data/img/cv_notebook_1.PNG\"  width=650 hight=450>"
   ]
  },
  {
   "cell_type": "markdown",
   "id": "46273e36-e56b-4d98-9d71-404a16fab7b9",
   "metadata": {},
   "source": [
    "Bei der ersten Option werden 100% der Daten für das Training und Testen verwendet, es gibt keine Aufteilung. <br>\n",
    "Der Nachteil ist, dass das Model beim Testen die gleichen Daten bekommen hat, die auch für das Training genutzt wurden. So kann das Model nicht darauf getestet werden, wie es sich bei Daten verhält, die es noch nie gesehen hat.\n",
    "\n",
    "Die zweite Option bietet viel bessere Möglichkeiten das Model zu testen, da ein Teil der Daten, die nicht für das Training genutzt wurden, hier verwendet werden. Damit kann besser festgestellt werden, wie das trainierte Model auf ähnliche Eingaben reagiert und ob es gute Prediction liefert. Die Problematik, die sich hier ergibt, ist, dass wenn das Train- und Testset sehr unterschiedliche Daten enthalten. Zum Beispiel, wenn das Trainset nur 10% groß ist, kann das Model sich nicht gut auf die anderen Daten, die im Testset sind, vorbereiten. <br>\n",
    "Eine Analogie dazu wäre: das Trainset enthält Aufgaben über Mathe 1 Themen. Das Testset hat jedoch nur Mathe 2 Themen. Am Ende performt das Model beim Testen schlecht, das es diese Aufgaben noch nie gesehen hat => Das Testset sollte beide Themen abdecken.\n"
   ]
  },
  {
   "cell_type": "markdown",
   "id": "2813d10e-2655-466a-8cad-840daaedd5a9",
   "metadata": {},
   "source": [
    "<i>Abb2</i>: Erstelle K-Folds und nutze nach jeder Iteration ein anderen Fold für das Training und Testen. \n",
    "\n",
    "<img src=\"./files_data/img/cv_notebook_2.PNG\"  width=450 hight=550>"
   ]
  },
  {
   "cell_type": "markdown",
   "id": "422dbf2a-4234-4113-8a65-9e251373a201",
   "metadata": {},
   "source": [
    "Bei der dritten Option handelt es sich um K-Folds. Das Dataset wird in K-Folds unterteilt. Nach jeder Iteration wird ein andere Fold für das Testen benutzt, die restlichen Folds werden für das eigentliche Training verwendet. Damit erreicht man eine sehr gute Abdeckung der Daten.\n",
    "\n",
    "Nach jeder Iteration wird der Score gemessen und am Ende wird der Schnitt berechnet."
   ]
  },
  {
   "cell_type": "markdown",
   "id": "794c6add-c2cd-4248-b7f1-434d6be8aea8",
   "metadata": {},
   "source": [
    "Für den Einsatz der dritten Option verwenden wir ein Sklearn Dataset, wo es darum geht handgeschriebene Zahlen in einer 8x8 Matrix zu klassifizieren.\r\n",
    "\r\n",
    "Als Erstes wird das gängige Verfahren mit Train- und Testset verwendet."
   ]
  },
  {
   "cell_type": "code",
   "execution_count": 64,
   "id": "2b31bff6-0d08-4762-a6c7-c159134ac3a3",
   "metadata": {},
   "outputs": [],
   "source": [
    "# Imports\n",
    "import pandas as pd\n",
    "import numpy  as np\n",
    "\n",
    "import matplotlib.pyplot as plt\n",
    "from sklearn.datasets import load_digits\n",
    "\n",
    "from sklearn.linear_model import LogisticRegression\n",
    "\n",
    "from sklearn.model_selection import train_test_split\n",
    "from sklearn.model_selection import KFold\n",
    "from sklearn.model_selection import StratifiedKFold\n",
    "\n",
    "from sklearn.decomposition   import PCA     "
   ]
  },
  {
   "cell_type": "code",
   "execution_count": 2,
   "id": "1ea7fc9b-d379-4326-a51f-9ba7a606811b",
   "metadata": {},
   "outputs": [
    {
     "data": {
      "text/plain": [
       "dict_keys(['data', 'target', 'frame', 'feature_names', 'target_names', 'images', 'DESCR'])"
      ]
     },
     "execution_count": 2,
     "metadata": {},
     "output_type": "execute_result"
    }
   ],
   "source": [
    "digit_data = load_digits()\n",
    "digit_data.keys()"
   ]
  },
  {
   "cell_type": "code",
   "execution_count": 3,
   "id": "1a8a0a17-01e5-4a3f-a4db-c65cb0fa4ef4",
   "metadata": {},
   "outputs": [
    {
     "data": {
      "text/plain": [
       "['DESCR', 'data', 'feature_names', 'frame', 'images', 'target', 'target_names']"
      ]
     },
     "execution_count": 3,
     "metadata": {},
     "output_type": "execute_result"
    }
   ],
   "source": [
    "dir(digit_data)"
   ]
  },
  {
   "cell_type": "code",
   "execution_count": 46,
   "id": "30ae3ecf-deb2-4499-87d7-e50ac04f2f08",
   "metadata": {},
   "outputs": [
    {
     "data": {
      "text/html": [
       "<div>\n",
       "<style scoped>\n",
       "    .dataframe tbody tr th:only-of-type {\n",
       "        vertical-align: middle;\n",
       "    }\n",
       "\n",
       "    .dataframe tbody tr th {\n",
       "        vertical-align: top;\n",
       "    }\n",
       "\n",
       "    .dataframe thead th {\n",
       "        text-align: right;\n",
       "    }\n",
       "</style>\n",
       "<table border=\"1\" class=\"dataframe\">\n",
       "  <thead>\n",
       "    <tr style=\"text-align: right;\">\n",
       "      <th></th>\n",
       "      <th>pixel_0_0</th>\n",
       "      <th>pixel_0_1</th>\n",
       "      <th>pixel_0_2</th>\n",
       "      <th>pixel_0_3</th>\n",
       "      <th>pixel_0_4</th>\n",
       "      <th>pixel_0_5</th>\n",
       "      <th>pixel_0_6</th>\n",
       "      <th>pixel_0_7</th>\n",
       "      <th>pixel_1_0</th>\n",
       "      <th>pixel_1_1</th>\n",
       "      <th>...</th>\n",
       "      <th>pixel_6_6</th>\n",
       "      <th>pixel_6_7</th>\n",
       "      <th>pixel_7_0</th>\n",
       "      <th>pixel_7_1</th>\n",
       "      <th>pixel_7_2</th>\n",
       "      <th>pixel_7_3</th>\n",
       "      <th>pixel_7_4</th>\n",
       "      <th>pixel_7_5</th>\n",
       "      <th>pixel_7_6</th>\n",
       "      <th>pixel_7_7</th>\n",
       "    </tr>\n",
       "  </thead>\n",
       "  <tbody>\n",
       "    <tr>\n",
       "      <th>0</th>\n",
       "      <td>0.0</td>\n",
       "      <td>0.0</td>\n",
       "      <td>5.0</td>\n",
       "      <td>13.0</td>\n",
       "      <td>9.0</td>\n",
       "      <td>1.0</td>\n",
       "      <td>0.0</td>\n",
       "      <td>0.0</td>\n",
       "      <td>0.0</td>\n",
       "      <td>0.0</td>\n",
       "      <td>...</td>\n",
       "      <td>0.0</td>\n",
       "      <td>0.0</td>\n",
       "      <td>0.0</td>\n",
       "      <td>0.0</td>\n",
       "      <td>6.0</td>\n",
       "      <td>13.0</td>\n",
       "      <td>10.0</td>\n",
       "      <td>0.0</td>\n",
       "      <td>0.0</td>\n",
       "      <td>0.0</td>\n",
       "    </tr>\n",
       "    <tr>\n",
       "      <th>1</th>\n",
       "      <td>0.0</td>\n",
       "      <td>0.0</td>\n",
       "      <td>0.0</td>\n",
       "      <td>12.0</td>\n",
       "      <td>13.0</td>\n",
       "      <td>5.0</td>\n",
       "      <td>0.0</td>\n",
       "      <td>0.0</td>\n",
       "      <td>0.0</td>\n",
       "      <td>0.0</td>\n",
       "      <td>...</td>\n",
       "      <td>0.0</td>\n",
       "      <td>0.0</td>\n",
       "      <td>0.0</td>\n",
       "      <td>0.0</td>\n",
       "      <td>0.0</td>\n",
       "      <td>11.0</td>\n",
       "      <td>16.0</td>\n",
       "      <td>10.0</td>\n",
       "      <td>0.0</td>\n",
       "      <td>0.0</td>\n",
       "    </tr>\n",
       "  </tbody>\n",
       "</table>\n",
       "<p>2 rows × 64 columns</p>\n",
       "</div>"
      ],
      "text/plain": [
       "   pixel_0_0  pixel_0_1  pixel_0_2  pixel_0_3  pixel_0_4  pixel_0_5  \\\n",
       "0        0.0        0.0        5.0       13.0        9.0        1.0   \n",
       "1        0.0        0.0        0.0       12.0       13.0        5.0   \n",
       "\n",
       "   pixel_0_6  pixel_0_7  pixel_1_0  pixel_1_1  ...  pixel_6_6  pixel_6_7  \\\n",
       "0        0.0        0.0        0.0        0.0  ...        0.0        0.0   \n",
       "1        0.0        0.0        0.0        0.0  ...        0.0        0.0   \n",
       "\n",
       "   pixel_7_0  pixel_7_1  pixel_7_2  pixel_7_3  pixel_7_4  pixel_7_5  \\\n",
       "0        0.0        0.0        6.0       13.0       10.0        0.0   \n",
       "1        0.0        0.0        0.0       11.0       16.0       10.0   \n",
       "\n",
       "   pixel_7_6  pixel_7_7  \n",
       "0        0.0        0.0  \n",
       "1        0.0        0.0  \n",
       "\n",
       "[2 rows x 64 columns]"
      ]
     },
     "execution_count": 46,
     "metadata": {},
     "output_type": "execute_result"
    }
   ],
   "source": [
    "# Erstelle Dataframe mit Pixelpositionen \n",
    "dataset_df = pd.DataFrame(digit_data.data, columns=digit_data.feature_names)\n",
    "dataset_df.head(2)"
   ]
  },
  {
   "cell_type": "code",
   "execution_count": 47,
   "id": "7b659ea8-5907-4a12-b212-0aa75ab3fbc4",
   "metadata": {},
   "outputs": [
    {
     "data": {
      "text/html": [
       "<div>\n",
       "<style scoped>\n",
       "    .dataframe tbody tr th:only-of-type {\n",
       "        vertical-align: middle;\n",
       "    }\n",
       "\n",
       "    .dataframe tbody tr th {\n",
       "        vertical-align: top;\n",
       "    }\n",
       "\n",
       "    .dataframe thead th {\n",
       "        text-align: right;\n",
       "    }\n",
       "</style>\n",
       "<table border=\"1\" class=\"dataframe\">\n",
       "  <thead>\n",
       "    <tr style=\"text-align: right;\">\n",
       "      <th></th>\n",
       "      <th>pixel_0_0</th>\n",
       "      <th>pixel_0_1</th>\n",
       "      <th>pixel_0_2</th>\n",
       "      <th>pixel_0_3</th>\n",
       "      <th>pixel_0_4</th>\n",
       "      <th>pixel_0_5</th>\n",
       "      <th>pixel_0_6</th>\n",
       "      <th>pixel_0_7</th>\n",
       "      <th>pixel_1_0</th>\n",
       "      <th>pixel_1_1</th>\n",
       "      <th>...</th>\n",
       "      <th>pixel_6_7</th>\n",
       "      <th>pixel_7_0</th>\n",
       "      <th>pixel_7_1</th>\n",
       "      <th>pixel_7_2</th>\n",
       "      <th>pixel_7_3</th>\n",
       "      <th>pixel_7_4</th>\n",
       "      <th>pixel_7_5</th>\n",
       "      <th>pixel_7_6</th>\n",
       "      <th>pixel_7_7</th>\n",
       "      <th>number</th>\n",
       "    </tr>\n",
       "  </thead>\n",
       "  <tbody>\n",
       "    <tr>\n",
       "      <th>0</th>\n",
       "      <td>0.0</td>\n",
       "      <td>0.0</td>\n",
       "      <td>5.0</td>\n",
       "      <td>13.0</td>\n",
       "      <td>9.0</td>\n",
       "      <td>1.0</td>\n",
       "      <td>0.0</td>\n",
       "      <td>0.0</td>\n",
       "      <td>0.0</td>\n",
       "      <td>0.0</td>\n",
       "      <td>...</td>\n",
       "      <td>0.0</td>\n",
       "      <td>0.0</td>\n",
       "      <td>0.0</td>\n",
       "      <td>6.0</td>\n",
       "      <td>13.0</td>\n",
       "      <td>10.0</td>\n",
       "      <td>0.0</td>\n",
       "      <td>0.0</td>\n",
       "      <td>0.0</td>\n",
       "      <td>0</td>\n",
       "    </tr>\n",
       "    <tr>\n",
       "      <th>1</th>\n",
       "      <td>0.0</td>\n",
       "      <td>0.0</td>\n",
       "      <td>0.0</td>\n",
       "      <td>12.0</td>\n",
       "      <td>13.0</td>\n",
       "      <td>5.0</td>\n",
       "      <td>0.0</td>\n",
       "      <td>0.0</td>\n",
       "      <td>0.0</td>\n",
       "      <td>0.0</td>\n",
       "      <td>...</td>\n",
       "      <td>0.0</td>\n",
       "      <td>0.0</td>\n",
       "      <td>0.0</td>\n",
       "      <td>0.0</td>\n",
       "      <td>11.0</td>\n",
       "      <td>16.0</td>\n",
       "      <td>10.0</td>\n",
       "      <td>0.0</td>\n",
       "      <td>0.0</td>\n",
       "      <td>1</td>\n",
       "    </tr>\n",
       "  </tbody>\n",
       "</table>\n",
       "<p>2 rows × 65 columns</p>\n",
       "</div>"
      ],
      "text/plain": [
       "   pixel_0_0  pixel_0_1  pixel_0_2  pixel_0_3  pixel_0_4  pixel_0_5  \\\n",
       "0        0.0        0.0        5.0       13.0        9.0        1.0   \n",
       "1        0.0        0.0        0.0       12.0       13.0        5.0   \n",
       "\n",
       "   pixel_0_6  pixel_0_7  pixel_1_0  pixel_1_1  ...  pixel_6_7  pixel_7_0  \\\n",
       "0        0.0        0.0        0.0        0.0  ...        0.0        0.0   \n",
       "1        0.0        0.0        0.0        0.0  ...        0.0        0.0   \n",
       "\n",
       "   pixel_7_1  pixel_7_2  pixel_7_3  pixel_7_4  pixel_7_5  pixel_7_6  \\\n",
       "0        0.0        6.0       13.0       10.0        0.0        0.0   \n",
       "1        0.0        0.0       11.0       16.0       10.0        0.0   \n",
       "\n",
       "   pixel_7_7  number  \n",
       "0        0.0       0  \n",
       "1        0.0       1  \n",
       "\n",
       "[2 rows x 65 columns]"
      ]
     },
     "execution_count": 47,
     "metadata": {},
     "output_type": "execute_result"
    }
   ],
   "source": [
    "# Füge dem Dataframe target hinzu.\n",
    "dataset_df = pd.concat([dataset_df, pd.DataFrame(digit_data.target, columns=['number'])], axis=\"columns\")\n",
    "dataset_df.head(2)"
   ]
  },
  {
   "cell_type": "code",
   "execution_count": 48,
   "id": "9cf87e82-1e93-457f-9b48-44d3417514a6",
   "metadata": {},
   "outputs": [
    {
     "data": {
      "text/plain": [
       "<matplotlib.image.AxesImage at 0x276ea5017c0>"
      ]
     },
     "execution_count": 48,
     "metadata": {},
     "output_type": "execute_result"
    },
    {
     "data": {
      "text/plain": [
       "<Figure size 640x480 with 0 Axes>"
      ]
     },
     "metadata": {},
     "output_type": "display_data"
    },
    {
     "data": {
      "image/png": "[encoded data removed]",
      "text/plain": [
       "<Figure size 480x480 with 1 Axes>"
      ]
     },
     "metadata": {},
     "output_type": "display_data"
    }
   ],
   "source": [
    "# Zeige eine Zahl.\n",
    "plt.gray()\n",
    "plt.matshow( np.array(dataset_df.drop(['number'], axis=\"columns\"))[30].reshape(8, 8),  )"
   ]
  },
  {
   "cell_type": "markdown",
   "id": "2dd9dad2-dce1-475c-b5f1-ee49dd2f41b7",
   "metadata": {},
   "source": [
    "Jetzt kann das Dataset in ein Train- und Testset umgeformt werden."
   ]
  },
  {
   "cell_type": "code",
   "execution_count": 49,
   "id": "11923d77-3c76-425e-9041-0e8ecfdaafc2",
   "metadata": {},
   "outputs": [],
   "source": [
    "pca = PCA(0.93) # Optional\n",
    "X_train, X_test, y_train, y_test = \\\n",
    "                   train_test_split( \\\n",
    "                  pca.fit_transform(dataset_df.drop(['number'],  axis=\"columns\")), dataset_df['number'], test_size=0.2)"
   ]
  },
  {
   "cell_type": "code",
   "execution_count": 50,
   "id": "cb2ee01d-39d5-40ef-9bf5-19347cbfdb86",
   "metadata": {},
   "outputs": [
    {
     "data": {
      "text/plain": [
       "(1437, 25)"
      ]
     },
     "execution_count": 50,
     "metadata": {},
     "output_type": "execute_result"
    }
   ],
   "source": [
    "X_train.shape"
   ]
  },
  {
   "cell_type": "markdown",
   "id": "b39f1459-69bb-4bba-8201-7d5787b95ed2",
   "metadata": {},
   "source": [
    "Dann wird der Klassifizierer trainiert. Jedes Mal, wenn die Sets erstellt werden, ändert sich der Score, weil die Zuweisung der Daten zu den Sets nicht gleich ist."
   ]
  },
  {
   "cell_type": "code",
   "execution_count": 52,
   "id": "b73c72a6-7d39-4267-8bfb-3c81a81b0130",
   "metadata": {},
   "outputs": [
    {
     "data": {
      "text/plain": [
       "0.9611111111111111"
      ]
     },
     "execution_count": 52,
     "metadata": {},
     "output_type": "execute_result"
    }
   ],
   "source": [
    "# Der Score ändert sich, wenn die Sets neu erstellt werden. \n",
    "model = LogisticRegression(max_iter=1200)  # max_iter = 1000\n",
    "model.fit(X_train, y_train)\n",
    "model.score(X_test, y_test)"
   ]
  },
  {
   "cell_type": "markdown",
   "id": "9ee244c9-2d82-46b6-a91e-1e6845702bf5",
   "metadata": {},
   "source": [
    "Die Anwendung von K-Fold ist mit Sklearn einfach zu verwenden.\n",
    "\n",
    "Man kann sich die Folds mit dem Code gut veranschaulichen lassen. "
   ]
  },
  {
   "cell_type": "code",
   "execution_count": 76,
   "id": "f3605300-30ef-41ec-88c1-a600bc8e78c7",
   "metadata": {},
   "outputs": [
    {
     "data": {
      "text/plain": [
       "KFold(n_splits=2, random_state=None, shuffle=False)"
      ]
     },
     "execution_count": 76,
     "metadata": {},
     "output_type": "execute_result"
    }
   ],
   "source": [
    "kfold = KFold(n_splits=2)  # 2 Splits\n",
    "kfold"
   ]
  },
  {
   "cell_type": "markdown",
   "id": "87266649-bded-4de6-92c0-c6d34de0c017",
   "metadata": {},
   "source": [
    "Das Dataset enthählt n-Zahlen."
   ]
  },
  {
   "cell_type": "code",
   "execution_count": 77,
   "id": "fd2d988e-3232-4cfe-b9d0-4707b108115a",
   "metadata": {},
   "outputs": [
    {
     "data": {
      "text/plain": [
       "array([0, 1, 2, 3, 4, 5, 6, 7, 8, 9])"
      ]
     },
     "execution_count": 77,
     "metadata": {},
     "output_type": "execute_result"
    }
   ],
   "source": [
    "train_data = np.array(range(10))\n",
    "train_data"
   ]
  },
  {
   "cell_type": "code",
   "execution_count": 78,
   "id": "3801a777-ba13-4381-b59c-a2f792b62255",
   "metadata": {},
   "outputs": [
    {
     "name": "stdout",
     "output_type": "stream",
     "text": [
      "[5 6 7 8 9] [0 1 2 3 4]\n",
      "[0 1 2 3 4] [5 6 7 8 9]\n"
     ]
    }
   ],
   "source": [
    "for train, test in kfold.split(train_data):\n",
    "    print(train, test)  # Index "
   ]
  },
  {
   "cell_type": "markdown",
   "id": "220f2fd9-29c2-464e-8bc1-46c086450346",
   "metadata": {},
   "source": [
    "Man kann deutlich sehen, dass die erste Hälfte für das Training genutzt wird, in der nächsten Iteration die zweite Hälfte.\n",
    "\n",
    "In einer Schleife können dann die Splits für das Training und Testen genutzt werden, wo auch der Score und der Durchschnitt der Scors ermittelt wird."
   ]
  },
  {
   "cell_type": "markdown",
   "id": "38bbbdc2-1c9c-419f-8a3d-daee0dfc8a18",
   "metadata": {},
   "source": [
    "Ein Problem das auftauchen könnte, ist das bei drei Folds zwei Folds für das Training benutzt werden, aber der dritte Fold sich sehr von den anderen zwei Folds unterscheidet, was ein ähnliches Problem ist, wenn man das Dataset in ein Train- und Testset aufteilt. Dabei das Testset sich sehr vom Trainingset unterscheidet.\n",
    "\n",
    "Für dieses Problem gibt es von Sklearn \"StratifiedKFold\" was die Problematik behandelt. <br>\n",
    "Von Sklearn beschrieben \"Generate test sets such that all contain the same distribution of classes, or as close as possible.\""
   ]
  },
  {
   "cell_type": "code",
   "execution_count": 91,
   "id": "d5a8279c-40ee-46ea-be68-6950a2137c1d",
   "metadata": {},
   "outputs": [
    {
     "data": {
      "text/plain": [
       "StratifiedKFold(n_splits=2, random_state=None, shuffle=False)"
      ]
     },
     "execution_count": 91,
     "metadata": {},
     "output_type": "execute_result"
    }
   ],
   "source": [
    "s_kfold = StratifiedKFold(n_splits=2)  \n",
    "s_kfold"
   ]
  },
  {
   "cell_type": "code",
   "execution_count": 92,
   "id": "01bbb52a-576e-4065-af7b-4dfba2e617b8",
   "metadata": {},
   "outputs": [
    {
     "data": {
      "text/plain": [
       "array([0, 1, 2, 3, 4, 5, 6, 7, 8, 9])"
      ]
     },
     "execution_count": 92,
     "metadata": {},
     "output_type": "execute_result"
    }
   ],
   "source": [
    "train_data = np.array(range(10))\n",
    "train_data"
   ]
  },
  {
   "cell_type": "code",
   "execution_count": 94,
   "id": "55d9254b-7e24-420b-9118-b45347d85a90",
   "metadata": {},
   "outputs": [
    {
     "name": "stdout",
     "output_type": "stream",
     "text": [
      "[5 6 7 8 9] [0 1 2 3 4]\n",
      "[0 1 2 3 4] [5 6 7 8 9]\n"
     ]
    }
   ],
   "source": [
    "# 10 Daten, 2 Klassen \n",
    "# - Aufteilung => Klassen möglichst gleichmäßig verteilen. \n",
    "for train, test in s_kfold.split(train_data, ['a', 'b','a', 'b','a', 'b','a', 'b','a', 'b' ]):\n",
    "    print(train, test)  # Index "
   ]
  },
  {
   "cell_type": "markdown",
   "id": "0a907e77-466c-4aad-a728-b61f907a0e8a",
   "metadata": {},
   "source": [
    "In der Anwendung bietet Sklearn eine API, um K-Folds ohne viel Code zu nutzen. "
   ]
  },
  {
   "cell_type": "code",
   "execution_count": 103,
   "id": "b70ab943-a48a-4c55-ba66-c85ef4a42081",
   "metadata": {},
   "outputs": [],
   "source": [
    "# Geht Folds durch und gibt Durschnitt der Scors zurück.\n",
    "from sklearn.model_selection import cross_val_score"
   ]
  },
  {
   "cell_type": "code",
   "execution_count": 106,
   "id": "a46a3d17-c5cf-4a39-b325-fd0439d31160",
   "metadata": {},
   "outputs": [
    {
     "data": {
      "text/plain": [
       "array([0.94154489, 0.93110647, 0.94989562])"
      ]
     },
     "execution_count": 106,
     "metadata": {},
     "output_type": "execute_result"
    }
   ],
   "source": [
    "# Statt X_train kann auch direkt das Dataset genommen werden. \n",
    "# - Parameter cv: Cross Validation, n-Folds die n-Scors liefern. \n",
    "cross_val_score(LogisticRegression(max_iter=1200), X_train, y_train, cv=3)"
   ]
  },
  {
   "cell_type": "markdown",
   "id": "99c3dd04-51b4-4298-b4bc-30271517a8b8",
   "metadata": {},
   "source": [
    "\"cross_val_score\" kann auch verschiedene Metriken nutzen. \n",
    "\n",
    "Dann gibt es noch \"cross_validate\" was sich etwas unterscheidet. Hier können mehrere Metriken angegeben werden, zudem werden weitere Informationen ausgegeben.\n",
    "\n"
   ]
  },
  {
   "cell_type": "code",
   "execution_count": 107,
   "id": "7031bf42-da6a-466a-8d73-8b7b484ad356",
   "metadata": {},
   "outputs": [],
   "source": [
    "from sklearn.model_selection import cross_validate\n",
    "from sklearn.model_selection import cross_val_predict"
   ]
  },
  {
   "cell_type": "code",
   "execution_count": 109,
   "id": "fafa070f-34bb-4f33-9ef1-ca3406a9b5ae",
   "metadata": {},
   "outputs": [
    {
     "data": {
      "text/plain": [
       "{'fit_time': array([0.30499744, 0.17300081, 0.15299964]),\n",
       " 'score_time': array([0.00100017, 0.        , 0.00100017]),\n",
       " 'test_score': array([0.94154489, 0.93110647, 0.94989562])}"
      ]
     },
     "execution_count": 109,
     "metadata": {},
     "output_type": "execute_result"
    }
   ],
   "source": [
    "cross_validate(LogisticRegression(max_iter=1200), X_train, y_train, cv=3)"
   ]
  },
  {
   "cell_type": "code",
   "execution_count": 110,
   "id": "132f63a8-ca20-46fb-a336-8af04ae64f4b",
   "metadata": {},
   "outputs": [
    {
     "data": {
      "text/plain": [
       "array([9, 6, 1, ..., 4, 6, 0])"
      ]
     },
     "execution_count": 110,
     "metadata": {},
     "output_type": "execute_result"
    }
   ],
   "source": [
    "# Liefert Prediction des Testsets\n",
    "cross_val_predict(LogisticRegression(max_iter=1200), X_train, y_train, cv=3)"
   ]
  },
  {
   "cell_type": "markdown",
   "id": "437f3ccc-72d3-4c19-8a85-26c8467dae6c",
   "metadata": {},
   "source": [
    "Cross Validation kann zusammen mit Grid Search angewendet werden, um die Parameter zu Tunen, um den besten Score zu erreichen."
   ]
  }
 ],
 "metadata": {
  "kernelspec": {
   "display_name": "Python 3 (ipykernel)",
   "language": "python",
   "name": "python3"
  },
  "language_info": {
   "codemirror_mode": {
    "name": "ipython",
    "version": 3
   },
   "file_extension": ".py",
   "mimetype": "text/x-python",
   "name": "python",
   "nbconvert_exporter": "python",
   "pygments_lexer": "ipython3",
   "version": "3.9.18"
  }
 },
 "nbformat": 4,
 "nbformat_minor": 5
}
