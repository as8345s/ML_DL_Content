{
 "cells": [
  {
   "cell_type": "markdown",
   "id": "ca9be25e-aed9-4d9d-abc2-5add860db2f1",
   "metadata": {},
   "source": [
    "<h1>Over- und Underfitting</h1>"
   ]
  },
  {
   "cell_type": "markdown",
   "id": "7f61897b-f06a-46b0-85ce-a54870001b8c",
   "metadata": {},
   "source": [
    "In einer kleinen Übersucht soll das Thema dargestellt werden.\n",
    "\n",
    "Es ist einfach zu verstehen und nachzuvollziehen, was Over- und Underfitting ist und was es für Auswirkungen hat."
   ]
  },
  {
   "cell_type": "markdown",
   "id": "ed750a89-863b-4e4d-b68e-0cbf24fc9272",
   "metadata": {},
   "source": [
    "<i>Abb1</i>: Überblick der drei verschiedenen Fittings. \n",
    "\n",
    "<img src=\"files_data/img/ml_fitting_1.PNG\" width=700 hight=500>"
   ]
  },
  {
   "cell_type": "markdown",
   "id": "ababa61e-517e-4741-a849-29db8c8b0ed4",
   "metadata": {},
   "source": [
    "Overfitting kommt vor, wenn das Model möglichst alle Datenpunkte bestmöglich abdeckt, sodass der Fehler beim Training minimal ist.\n",
    "Resultierend daraus performt das Model sehr gut bei Daten, die es schon kennt, wie in der Abbildung 1 zusehen ist.\n",
    "\n",
    "Beim Testen oder dem Einsatz von echten Daten erreicht das Model eine hohe Fehlerquote. \n",
    "\n",
    "Wenn das Dataset durchmischt wird und es wieder zu Overfitting kommt, bleibt der Fehler beim Training sehr gering und beim Testen hoch. <br> \n",
    "Egal welche Datenpunkte genommen werden, ein Model das Overfittet kommt immer zum selben Ergebnis:\n",
    "- Fehler beim Training sehr gering.\n",
    "- Fehler beim Testen ist hoch.\n"
   ]
  },
  {
   "cell_type": "markdown",
   "id": "840e8151-3827-4138-b4ea-33d1e5d089e9",
   "metadata": {},
   "source": [
    "<i>Abb2</i>: Hohe Varianz beim Testen bei gleichen Daten => Varianz\n",
    "\n",
    "<img src=\"files_data/img/ml_fitting_2.PNG\" width=700 hight=500>"
   ]
  },
  {
   "cell_type": "markdown",
   "id": "62eabb60-8ad9-4dab-9906-7e9942e1498c",
   "metadata": {},
   "source": [
    "Bei der Auswahl von Daten für das Training und das Testen, liefert ein Model das, mit Overfitting zu kämpfen hat, eine hohe Varianz.\n",
    "- Der Fehler, der beim Testen gemessen wird, basiert auf der Auswahl der Daten.\n",
    "\n",
    "Eine niedrige Varianz taucht auf, wenn bei verschiedener/zufälliger Auswahl der Daten, die Varianz des Testfehlers sich nicht stark verändert"
   ]
  },
  {
   "cell_type": "markdown",
   "id": "5cf87be7-df9f-4a1d-a2ef-9882cae094f2",
   "metadata": {},
   "source": [
    "Neben der Varianz, gibt es noch eine andere Metrik, <b>Bias </b><br>\n",
    "Bias ist das Maß dafür, wie gut das Model sich den Trainingsdaten und deren Mustern anpasst, was sich in dem Fehler beim Trainieren widerspiegelt. \n"
   ]
  },
  {
   "cell_type": "markdown",
   "id": "2107351b-a65a-4f0c-97c3-66c406575b4b",
   "metadata": {},
   "source": [
    "<i>Abb3</i>: Trainingsfehler ist gering => niedriger Bias Wert\n",
    "\n",
    "<img src=\"files_data/img/ml_fitting_3.PNG\" width=700 hight=500>"
   ]
  },
  {
   "cell_type": "markdown",
   "id": "fda70719-f10f-42c2-8121-e64ccd3709e7",
   "metadata": {},
   "source": [
    "Ein hoher Bias Wert taucht bei Modellen auf die Underfitten. \n",
    "\n",
    "Das Ziel ist dabei die Varianz und den Bias Werte auszugleichen, damit das Model möglichst balanciert ist. \n",
    "\n",
    "Um ein balanciertes Model am Ende zu erhalten oder sich diesem Ziel anzunähern, gibt es mehrerer  Wege.\n",
    "- Optimiere Parameter (Grid Search)\n",
    "- Cross Validation\n",
    "- L1 und L2 Regulierungen von Modellen\n",
    "- Daten Skalieren, Daten bereinigen, Outliner herausfiltern, die das Model in eine andere Richtug ziehen.\n",
    "- PCA, um die Dimension der Features zu reduzieren\n",
    "- Feature Engineering\n",
    "- Bagging und Boosting..."
   ]
  }
 ],
 "metadata": {
  "kernelspec": {
   "display_name": "Python 3 (ipykernel)",
   "language": "python",
   "name": "python3"
  },
  "language_info": {
   "codemirror_mode": {
    "name": "ipython",
    "version": 3
   },
   "file_extension": ".py",
   "mimetype": "text/x-python",
   "name": "python",
   "nbconvert_exporter": "python",
   "pygments_lexer": "ipython3",
   "version": "3.9.18"
  }
 },
 "nbformat": 4,
 "nbformat_minor": 5
}
