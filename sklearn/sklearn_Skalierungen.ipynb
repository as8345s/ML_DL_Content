{
 "cells": [
  {
   "cell_type": "markdown",
   "id": "9a78275f-b1a5-494f-91bd-53415b081e90",
   "metadata": {},
   "source": [
    "<h1>Skalierung von Daten</h1>"
   ]
  },
  {
   "cell_type": "markdown",
   "id": "3ee43aee-24b2-46f7-9a2d-662671f8bf96",
   "metadata": {},
   "source": [
    "Oft ist es notwendig, die Daten die man hat zu skalieren, bevor man diese für das Training nutzt.\n",
    "\n",
    "Damit erzielt man bessere mit Ergebnisse und Visualisierungen werden eindeutiger. "
   ]
  },
  {
   "cell_type": "code",
   "execution_count": 89,
   "id": "bdeee0a2-9237-423f-b81b-be434f4d0098",
   "metadata": {},
   "outputs": [],
   "source": [
    "# Imports.\n",
    "import pandas as pd\n",
    "import numpy  as np\n",
    "\n",
    "from sklearn.preprocessing import MinMaxScaler\n",
    "from sklearn.preprocessing import StandardScaler\n",
    "\n",
    "from sklearn.cluster import KMeans\n",
    "\n",
    "import matplotlib.pyplot as plt"
   ]
  },
  {
   "cell_type": "markdown",
   "id": "cf371e8d-3177-4c47-8b4a-f518558e9deb",
   "metadata": {},
   "source": [
    "Der MinMaxScaler skaliert gegebene Daten in den Bereich 0 bis 1. <br>\n",
    "Die Transformation läuft so ab:\n",
    "\n",
    "`X_std = (X - X.min(axis=0)) / (X.max(axis=0) - X.min(axis=0))`<br>\n",
    "`X_scaled = X_std * (max - min) + min`"
   ]
  },
  {
   "cell_type": "markdown",
   "id": "cdd24228-79c6-45fe-bd49-5b793424ae44",
   "metadata": {},
   "source": [
    "<h2>Min-Max</h2>"
   ]
  },
  {
   "cell_type": "code",
   "execution_count": 90,
   "id": "97c4b3f2-85eb-4e65-928f-663f0c39f018",
   "metadata": {},
   "outputs": [
    {
     "name": "stdout",
     "output_type": "stream",
     "text": [
      "[635, 2889, 1500]\n",
      "[[0.12675491 0.5788207  0.30024067]]\n"
     ]
    }
   ],
   "source": [
    "# Beispiel 1 # \n",
    "data_1 = [np.random.randint(0, 5000) for x in range(200)]\n",
    "print(data_1[:3])\n",
    "\n",
    "minmax_scaler = MinMaxScaler()\n",
    "minmax_scaler.fit(np.array(data_1).reshape(-1, 1))\n",
    "scaled_data = minmax_scaler.transform(np.array(data_1).reshape(-1, 1))\n",
    "\n",
    "print(scaled_data[:3].reshape(1, -1))"
   ]
  },
  {
   "cell_type": "code",
   "execution_count": 91,
   "id": "08d6fe08-4a98-4518-be3f-797d8d0b01cb",
   "metadata": {},
   "outputs": [
    {
     "name": "stdout",
     "output_type": "stream",
     "text": [
      "[6, 8, 8, 7, 5, 6, 8, 5, 6, 0]\n",
      "[[0.75  1.    1.    0.875 0.625 0.75  1.    0.625 0.75  0.   ]]\n"
     ]
    }
   ],
   "source": [
    "# Beispiel 2 # \n",
    "data_1 = [np.random.randint(0, 10) for x in range(10)]\n",
    "print(data_1)\n",
    "\n",
    "minmax_scaler = MinMaxScaler()\n",
    "scaled_data  = minmax_scaler.fit_transform(np.array(data_1).reshape(-1, 1))\n",
    "\n",
    "print(scaled_data.reshape(1, -1))"
   ]
  },
  {
   "cell_type": "code",
   "execution_count": 92,
   "id": "d263b9e5-9a20-40a0-9db6-555ce0b25c8e",
   "metadata": {},
   "outputs": [
    {
     "name": "stdout",
     "output_type": "stream",
     "text": [
      "[2, 7, 9, 4, 5, 6, 2, 8, 8, 5]\n",
      "[[0.         1.42857143 2.         0.57142857 0.85714286 1.14285714\n",
      "  0.         1.71428571 1.71428571 0.85714286]]\n"
     ]
    }
   ],
   "source": [
    "# Beispiel 3 # \n",
    "# - Nutze Bereich 0 bis 2\n",
    "data_1 = [np.random.randint(0, 10) for x in range(10)]\n",
    "print(data_1)\n",
    "\n",
    "minmax_scaler = MinMaxScaler( feature_range=(0, 2) )\n",
    "scaled_data  = minmax_scaler.fit_transform(np.array(data_1).reshape(-1, 1))\n",
    "\n",
    "print(scaled_data.reshape(1, -1))"
   ]
  },
  {
   "cell_type": "markdown",
   "id": "d4783422-1fef-4972-be6c-e182fdce7e6b",
   "metadata": {},
   "source": [
    "Üblicherweise wird der Bereich 0 bis 1 genutzt, ein anderer Bereich kann auch genutzt werden."
   ]
  },
  {
   "cell_type": "markdown",
   "id": "98cf179f-e7b5-4429-ad03-44bbbd37571b",
   "metadata": {},
   "source": [
    "Ein simples Beispiel zeigt wie eine Skalierung der Daten die Visualisierung verbessern kann."
   ]
  },
  {
   "cell_type": "code",
   "execution_count": 93,
   "id": "5d6196af-93e0-428f-997a-f8b8f96446f6",
   "metadata": {},
   "outputs": [
    {
     "data": {
      "text/html": [
       "<div>\n",
       "<style scoped>\n",
       "    .dataframe tbody tr th:only-of-type {\n",
       "        vertical-align: middle;\n",
       "    }\n",
       "\n",
       "    .dataframe tbody tr th {\n",
       "        vertical-align: top;\n",
       "    }\n",
       "\n",
       "    .dataframe thead th {\n",
       "        text-align: right;\n",
       "    }\n",
       "</style>\n",
       "<table border=\"1\" class=\"dataframe\">\n",
       "  <thead>\n",
       "    <tr style=\"text-align: right;\">\n",
       "      <th></th>\n",
       "      <th>Name</th>\n",
       "      <th>Age</th>\n",
       "      <th>Income($)</th>\n",
       "    </tr>\n",
       "  </thead>\n",
       "  <tbody>\n",
       "    <tr>\n",
       "      <th>0</th>\n",
       "      <td>Rob</td>\n",
       "      <td>27</td>\n",
       "      <td>70000</td>\n",
       "    </tr>\n",
       "    <tr>\n",
       "      <th>1</th>\n",
       "      <td>Michael</td>\n",
       "      <td>29</td>\n",
       "      <td>90000</td>\n",
       "    </tr>\n",
       "  </tbody>\n",
       "</table>\n",
       "</div>"
      ],
      "text/plain": [
       "      Name  Age  Income($)\n",
       "0      Rob   27      70000\n",
       "1  Michael   29      90000"
      ]
     },
     "execution_count": 93,
     "metadata": {},
     "output_type": "execute_result"
    }
   ],
   "source": [
    "income_df = pd.read_csv('./files_data/data/income.csv')\n",
    "income_df.head(2)"
   ]
  },
  {
   "cell_type": "code",
   "execution_count": 94,
   "id": "cc49136f-e76f-4df9-9e87-1ce83b4497dd",
   "metadata": {},
   "outputs": [
    {
     "data": {
      "text/plain": [
       "<matplotlib.collections.PathCollection at 0x1a44c173df0>"
      ]
     },
     "execution_count": 94,
     "metadata": {},
     "output_type": "execute_result"
    },
    {
     "data": {
      "image/png": "[encoded data removed]",
      "text/plain": [
       "<Figure size 300x300 with 1 Axes>"
      ]
     },
     "metadata": {},
     "output_type": "display_data"
    }
   ],
   "source": [
    "plt.figure(figsize=(3,3))\n",
    "plt.scatter(income_df['Age'], income_df['Income($)'])  "
   ]
  },
  {
   "cell_type": "markdown",
   "id": "f6429a0f-e68c-4b82-a416-fb9855e2e459",
   "metadata": {},
   "source": [
    "Das Ziel ist es mit Kmeans eine Gruppierung zu finden. "
   ]
  },
  {
   "cell_type": "code",
   "execution_count": 95,
   "id": "c0d53195-0344-45e6-bf96-086060db2b96",
   "metadata": {
    "scrolled": true
   },
   "outputs": [
    {
     "name": "stderr",
     "output_type": "stream",
     "text": [
      "C:\\Users\\Alexander\\anaconda3\\lib\\site-packages\\sklearn\\cluster\\_kmeans.py:1412: FutureWarning: The default value of `n_init` will change from 10 to 'auto' in 1.4. Set the value of `n_init` explicitly to suppress the warning\n",
      "  super()._check_params_vs_input(X, default_n_init=10)\n",
      "C:\\Users\\Alexander\\anaconda3\\lib\\site-packages\\sklearn\\cluster\\_kmeans.py:1436: UserWarning: KMeans is known to have a memory leak on Windows with MKL, when there are less chunks than available threads. You can avoid it by setting the environment variable OMP_NUM_THREADS=1.\n",
      "  warnings.warn(\n"
     ]
    },
    {
     "data": {
      "text/plain": [
       "array([0, 0, 2, 2, 1, 1, 1, 1, 1, 1, 1, 2, 2, 2, 2, 2, 2, 2, 2, 0, 0, 2])"
      ]
     },
     "execution_count": 95,
     "metadata": {},
     "output_type": "execute_result"
    }
   ],
   "source": [
    "model = KMeans(n_clusters=3)  # K = 3\n",
    "pred  = model.fit_predict(income_df[['Age', 'Income($)']])\n",
    "pred"
   ]
  },
  {
   "cell_type": "code",
   "execution_count": 96,
   "id": "4168da8c-643a-4df9-b24c-ac0064622928",
   "metadata": {},
   "outputs": [],
   "source": [
    "income_df['class'] = pred"
   ]
  },
  {
   "cell_type": "code",
   "execution_count": 97,
   "id": "76d15393-f5d6-4ec1-96b0-46258872de75",
   "metadata": {},
   "outputs": [
    {
     "data": {
      "text/plain": [
       "<matplotlib.legend.Legend at 0x1a44eb3a0d0>"
      ]
     },
     "execution_count": 97,
     "metadata": {},
     "output_type": "execute_result"
    },
    {
     "data": {
      "image/png": "[encoded data removed]",
      "text/plain": [
       "<Figure size 300x300 with 1 Axes>"
      ]
     },
     "metadata": {},
     "output_type": "display_data"
    }
   ],
   "source": [
    "plt.figure(figsize=(3,3))\n",
    "colores = ['red', 'green', 'blue']\n",
    "for i in range(len(income_df['class'].unique())):\n",
    "    plt.scatter(income_df.loc[income_df['class']==i ,['Age']], income_df.loc[income_df['class']==i,['Income($)']], label=i, color=colores[i])  \n",
    "    \n",
    "plt.legend()"
   ]
  },
  {
   "cell_type": "markdown",
   "id": "1cf64dbc-e818-4b99-88dc-4a83c80f043e",
   "metadata": {},
   "source": [
    "Das Model hat versucht die Punkte zu gruppieren. Der Plot zeigt aber, dass die blauen Punkte doch recht weit auseinander liegen. <br>\n",
    "Das liegt daran, dass die Daten nicht skaliert sind."
   ]
  },
  {
   "cell_type": "code",
   "execution_count": 116,
   "id": "d81a0e05-d4c1-494a-b21f-3a599d5e5145",
   "metadata": {},
   "outputs": [
    {
     "data": {
      "text/html": [
       "<div>\n",
       "<style scoped>\n",
       "    .dataframe tbody tr th:only-of-type {\n",
       "        vertical-align: middle;\n",
       "    }\n",
       "\n",
       "    .dataframe tbody tr th {\n",
       "        vertical-align: top;\n",
       "    }\n",
       "\n",
       "    .dataframe thead th {\n",
       "        text-align: right;\n",
       "    }\n",
       "</style>\n",
       "<table border=\"1\" class=\"dataframe\">\n",
       "  <thead>\n",
       "    <tr style=\"text-align: right;\">\n",
       "      <th></th>\n",
       "      <th>Age</th>\n",
       "      <th>Income($)</th>\n",
       "    </tr>\n",
       "  </thead>\n",
       "  <tbody>\n",
       "    <tr>\n",
       "      <th>0</th>\n",
       "      <td>0.058824</td>\n",
       "      <td>0.213675</td>\n",
       "    </tr>\n",
       "    <tr>\n",
       "      <th>1</th>\n",
       "      <td>0.176471</td>\n",
       "      <td>0.384615</td>\n",
       "    </tr>\n",
       "    <tr>\n",
       "      <th>2</th>\n",
       "      <td>0.176471</td>\n",
       "      <td>0.136752</td>\n",
       "    </tr>\n",
       "    <tr>\n",
       "      <th>3</th>\n",
       "      <td>0.117647</td>\n",
       "      <td>0.128205</td>\n",
       "    </tr>\n",
       "    <tr>\n",
       "      <th>4</th>\n",
       "      <td>0.941176</td>\n",
       "      <td>0.897436</td>\n",
       "    </tr>\n",
       "  </tbody>\n",
       "</table>\n",
       "</div>"
      ],
      "text/plain": [
       "        Age  Income($)\n",
       "0  0.058824   0.213675\n",
       "1  0.176471   0.384615\n",
       "2  0.176471   0.136752\n",
       "3  0.117647   0.128205\n",
       "4  0.941176   0.897436"
      ]
     },
     "execution_count": 116,
     "metadata": {},
     "output_type": "execute_result"
    }
   ],
   "source": [
    "# Skaliere Daten.\n",
    "minmax_scaler = MinMaxScaler()\n",
    "\n",
    "scaled_data = income_df[['Age', 'Income($)']].copy()\n",
    "scaled_data[['Age', 'Income($)']] = minmax_scaler.fit_transform(scaled_data )\n",
    "scaled_data.head()"
   ]
  },
  {
   "cell_type": "code",
   "execution_count": 124,
   "id": "01e821c7-321e-42c5-94f7-c18f1ded12b5",
   "metadata": {},
   "outputs": [
    {
     "name": "stderr",
     "output_type": "stream",
     "text": [
      "C:\\Users\\Alexander\\anaconda3\\lib\\site-packages\\sklearn\\cluster\\_kmeans.py:1412: FutureWarning: The default value of `n_init` will change from 10 to 'auto' in 1.4. Set the value of `n_init` explicitly to suppress the warning\n",
      "  super()._check_params_vs_input(X, default_n_init=10)\n",
      "C:\\Users\\Alexander\\anaconda3\\lib\\site-packages\\sklearn\\cluster\\_kmeans.py:1436: UserWarning: KMeans is known to have a memory leak on Windows with MKL, when there are less chunks than available threads. You can avoid it by setting the environment variable OMP_NUM_THREADS=1.\n",
      "  warnings.warn(\n"
     ]
    },
    {
     "data": {
      "text/plain": [
       "<matplotlib.legend.Legend at 0x1a457380cd0>"
      ]
     },
     "execution_count": 124,
     "metadata": {},
     "output_type": "execute_result"
    },
    {
     "data": {
      "image/png": "[encoded data removed]",
      "text/plain": [
       "<Figure size 300x300 with 1 Axes>"
      ]
     },
     "metadata": {},
     "output_type": "display_data"
    }
   ],
   "source": [
    "model = KMeans(n_clusters=3)  # K = 3\n",
    "pred  = model.fit_predict(scaled_data[['Age', 'Income($)' ]])\n",
    "scaled_data['class'] = pred\n",
    "\n",
    "plt.figure(figsize=(3,3))\n",
    "colores = ['red', 'green', 'blue']\n",
    "for i in range(len(scaled_data['class'].unique())):\n",
    "    plt.scatter(scaled_data.loc[scaled_data['class']==i ,['Age']], scaled_data.loc[scaled_data['class']==i,['Income($)']], \\\n",
    "                label=i, color=colores[i])  \n",
    "    \n",
    "plt.legend()"
   ]
  },
  {
   "cell_type": "code",
   "execution_count": 131,
   "id": "b672dfa5-8a43-4938-a7e6-e96664066636",
   "metadata": {},
   "outputs": [
    {
     "name": "stderr",
     "output_type": "stream",
     "text": [
      "C:\\Users\\Alexander\\anaconda3\\lib\\site-packages\\sklearn\\base.py:464: UserWarning: X does not have valid feature names, but KMeans was fitted with feature names\n",
      "  warnings.warn(\n"
     ]
    },
    {
     "data": {
      "text/plain": [
       "<matplotlib.collections.PathCollection at 0x1a455c89a90>"
      ]
     },
     "execution_count": 131,
     "metadata": {},
     "output_type": "execute_result"
    },
    {
     "data": {
      "image/png": "[encoded data removed]",
      "text/plain": [
       "<Figure size 300x300 with 1 Axes>"
      ]
     },
     "metadata": {},
     "output_type": "display_data"
    }
   ],
   "source": [
    "xx, yy = np.meshgrid(np.arange(-0.1, 1, 0.001), np.arange(-0.1, 1, 0.001))\n",
    "# Model.\n",
    "\n",
    "# Predictions.\n",
    "pred = model.predict(np.c_[xx.ravel(), yy.ravel()])\n",
    "pred = pred.reshape(xx.shape)\n",
    "\n",
    "# Plot.\n",
    "plt.figure(figsize=(3,3))\n",
    "plt.contourf(xx, yy, pred, alpha=0.3, cmap=plt.cm.coolwarm)\n",
    "plt.scatter(scaled_data['Age'], scaled_data['Income($)'], c=scaled_data['class'], edgecolors='k', cmap=plt.cm.coolwarm)    "
   ]
  },
  {
   "cell_type": "markdown",
   "id": "d370fde5-80c3-4d8c-add2-6c4b677ee90a",
   "metadata": {},
   "source": [
    "<h2>Standard-Scaler</h2>"
   ]
  },
  {
   "cell_type": "markdown",
   "id": "c682e668-7e0f-4e89-be69-7e59d80f0195",
   "metadata": {},
   "source": [
    "Es gibt noch viele weitere Skalierungsmöglichkeiten, der Standard-Scaler ist einer, der auch gerne angewendet wird.\n",
    "\n",
    "Hier wird die Standardabweichung zunutze gemacht.\n",
    "\n",
    "$\n",
    "z = \\frac{x-u}{s}\n",
    "$\n",
    "\n",
    "u: mean <br>\n",
    "s: Standardabweichung"
   ]
  },
  {
   "cell_type": "code",
   "execution_count": 143,
   "id": "10185839-84da-427c-96ca-74253e6344b7",
   "metadata": {},
   "outputs": [
    {
     "name": "stdout",
     "output_type": "stream",
     "text": [
      "[26, 20, 26]\n",
      "[[1.00266339 0.39498861 1.00266339]]\n"
     ]
    }
   ],
   "source": [
    "# Beispiel 1 # \n",
    "data_1 = [np.random.randint(0, 30) for x in range(10)]\n",
    "print(data_1[:3])\n",
    "\n",
    "std_scaler  = StandardScaler()\n",
    "scaled_data = std_scaler.fit_transform(np.array(data_1).reshape(-1,1))\n",
    "\n",
    "print(scaled_data[:3].reshape(1, -1))"
   ]
  },
  {
   "cell_type": "code",
   "execution_count": 144,
   "id": "a3d4cd09-be33-4c30-a3f0-7c8c4f81588f",
   "metadata": {},
   "outputs": [],
   "source": [
    "# Formel in Python.\n",
    "def std_scaler(arr, x):\n",
    "    return (x-np.mean(arr)) / np.std(arr)"
   ]
  },
  {
   "cell_type": "code",
   "execution_count": 145,
   "id": "61283c84-8cde-4ff9-a96e-fd8c85e84a66",
   "metadata": {},
   "outputs": [
    {
     "data": {
      "text/plain": [
       "1.0026633933668814"
      ]
     },
     "execution_count": 145,
     "metadata": {},
     "output_type": "execute_result"
    }
   ],
   "source": [
    "std_scaler(data_1, 26)"
   ]
  },
  {
   "cell_type": "markdown",
   "id": "efaf7939-ed69-42af-8ece-0ff578cfd985",
   "metadata": {},
   "source": [
    "<h2>Einsatzgebiet dieser zwei Skalierungsmöglichkeiten</h2>"
   ]
  },
  {
   "cell_type": "markdown",
   "id": "a338e086-3c78-4429-b7bd-8f6749e55d85",
   "metadata": {},
   "source": [
    "Es gibt nicht ohne Grund verschiedene Möglichkeiten. Kurz zusammengefasst.: <br>\n",
    "- MinMax-Scaler bei Daten, die keiner Normalverteilung folgen.\n",
    "- Standard-Scaler bei Daten, die einer Normalverteilung folgen, wie z. B. die Körpergröße von Menschen."
   ]
  }
 ],
 "metadata": {
  "kernelspec": {
   "display_name": "Python 3 (ipykernel)",
   "language": "python",
   "name": "python3"
  },
  "language_info": {
   "codemirror_mode": {
    "name": "ipython",
    "version": 3
   },
   "file_extension": ".py",
   "mimetype": "text/x-python",
   "name": "python",
   "nbconvert_exporter": "python",
   "pygments_lexer": "ipython3",
   "version": "3.9.18"
  }
 },
 "nbformat": 4,
 "nbformat_minor": 5
}
