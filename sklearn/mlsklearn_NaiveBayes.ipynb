{
 "cells": [
  {
   "cell_type": "markdown",
   "id": "16170f44-e3a8-4fa5-a3dd-08319817b178",
   "metadata": {},
   "source": [
    "<h1>Naive Bayes</h1>"
   ]
  },
  {
   "cell_type": "markdown",
   "id": "a2156c0c-9ca3-4181-87ff-a66206417fb6",
   "metadata": {},
   "source": [
    "Bei Naive Bayes geht es um Wahrscheinlichkeiten."
   ]
  },
  {
   "cell_type": "markdown",
   "id": "1d0a0756-8dde-476f-9ad5-ba753fea2793",
   "metadata": {},
   "source": [
    "<img src=\"./files_data/img/sklearn_bayes_1.PNG\" width=400 hight=400>\n",
    "\n",
    "<img src=\"./files_data/img/sklearn_bayes_2.PNG\" width=400 hight=400>"
   ]
  },
  {
   "cell_type": "code",
   "execution_count": null,
   "id": "75fb768c-480f-4983-9ee8-c26a584384e3",
   "metadata": {},
   "outputs": [],
   "source": [
    "# // Content Coming "
   ]
  },
  {
   "cell_type": "markdown",
   "id": "efe57ed2-916a-4597-9df4-f95da1bb64d5",
   "metadata": {},
   "source": [
    "Wenn wir den König berechnen wollen, nennt sich dieses Vorgehen bedingte Wahrscheinlichkeit.\n",
    "\n",
    "Die Formal dafür ist simpel.:<br>"
   ]
  },
  {
   "cell_type": "markdown",
   "id": "72e45c86-9c45-4879-8a5b-77566533f236",
   "metadata": {},
   "source": [
    "> P( A / B ) = Ereignis von A, wobei wir wissen das B schon passiert ist."
   ]
  },
  {
   "cell_type": "markdown",
   "id": "15178b95-2116-4df7-ba2a-253467a28113",
   "metadata": {},
   "source": [
    "Mit Naive Bayes versuchen wir die Wahrscheinlichkeit für das Target zu finden basierend auf gegebenen Features. Dieses Vorgehen unterscheidet sich von vielen anderen Machine Learning Ansätzen. \n",
    "\n",
    "Es heißt <i>Naive</i> Bayes, da Naiv angenommen wird, dass die Features unter sich nicht abhängig sind, wie zum Beispiel das Alter einer Person und möglichen Erkrankungen bezogen auf das Alter und andere Eigenschaften."
   ]
  },
  {
   "cell_type": "markdown",
   "id": "7a2032dd-631e-49fd-818d-7bb4a0fb1cd1",
   "metadata": {},
   "source": [
    "Der Einsatz für Naive Bayes ist vielfältig, zum Beispiel für den Bereich Spamerkennung, Gesichtserkennung, Wetter, ...\n",
    "\n",
    "Es gibt drei verschiedene Varianten von Naive Bayes."
   ]
  },
  {
   "cell_type": "markdown",
   "id": "2d70ce2f-9ff1-42b0-bc33-5d20f7ff87d6",
   "metadata": {},
   "source": [
    "<img src=\"./files_data/img/sklearn_bayes_3.PNG\" width=450 hight=250 >"
   ]
  },
  {
   "cell_type": "markdown",
   "id": "12e26e34-ee2d-4575-9e3f-da9e8accb6fa",
   "metadata": {},
   "source": [
    "Als Ziel soll das Model hier E-Mails klassifizieren, ob es sich um Spam handelt oder nicht. "
   ]
  },
  {
   "cell_type": "markdown",
   "id": "986cd4c8-14f3-4246-8403-52aa8507d2b4",
   "metadata": {},
   "source": [
    "Dataset: <br>\n",
    "https://www.kaggle.com/datasets/mohinurabdurahimova/maildataset [Letzter Zugriff 06.06.2024]\n",
    "https://www.cs.cmu.edu/~./enron/ [Letzter Zugriff 06.06.2024] <br>\n",
    "> William W. Cohen, MLD, CMU  <br>Last modified: Fri May 8 09:52:31 EDT 2015\r",
    "5"
   ]
  },
  {
   "cell_type": "code",
   "execution_count": 31,
   "id": "cd6a3b51-c8fa-4e54-99cf-41446d81227a",
   "metadata": {},
   "outputs": [],
   "source": [
    "# Imports\n",
    "import pandas as pd\n",
    "from sklearn.model_selection         import train_test_split\n",
    "from sklearn.feature_extraction.text import CountVectorizer\n",
    "\n",
    "from sklearn.naive_bayes  import MultinomialNB"
   ]
  },
  {
   "cell_type": "code",
   "execution_count": 18,
   "id": "cfe51132-cef1-4cfb-8329-c298e83836b0",
   "metadata": {},
   "outputs": [
    {
     "data": {
      "text/html": [
       "<div>\n",
       "<style scoped>\n",
       "    .dataframe tbody tr th:only-of-type {\n",
       "        vertical-align: middle;\n",
       "    }\n",
       "\n",
       "    .dataframe tbody tr th {\n",
       "        vertical-align: top;\n",
       "    }\n",
       "\n",
       "    .dataframe thead th {\n",
       "        text-align: right;\n",
       "    }\n",
       "</style>\n",
       "<table border=\"1\" class=\"dataframe\">\n",
       "  <thead>\n",
       "    <tr style=\"text-align: right;\">\n",
       "      <th></th>\n",
       "      <th>Category</th>\n",
       "      <th>Message</th>\n",
       "    </tr>\n",
       "  </thead>\n",
       "  <tbody>\n",
       "    <tr>\n",
       "      <th>0</th>\n",
       "      <td>ham</td>\n",
       "      <td>Go until jurong point, crazy.. Available only ...</td>\n",
       "    </tr>\n",
       "    <tr>\n",
       "      <th>1</th>\n",
       "      <td>ham</td>\n",
       "      <td>Ok lar... Joking wif u oni...</td>\n",
       "    </tr>\n",
       "    <tr>\n",
       "      <th>2</th>\n",
       "      <td>spam</td>\n",
       "      <td>Free entry in 2 a wkly comp to win FA Cup fina...</td>\n",
       "    </tr>\n",
       "    <tr>\n",
       "      <th>3</th>\n",
       "      <td>ham</td>\n",
       "      <td>U dun say so early hor... U c already then say...</td>\n",
       "    </tr>\n",
       "    <tr>\n",
       "      <th>4</th>\n",
       "      <td>ham</td>\n",
       "      <td>Nah I don't think he goes to usf, he lives aro...</td>\n",
       "    </tr>\n",
       "  </tbody>\n",
       "</table>\n",
       "</div>"
      ],
      "text/plain": [
       "  Category                                            Message\n",
       "0      ham  Go until jurong point, crazy.. Available only ...\n",
       "1      ham                      Ok lar... Joking wif u oni...\n",
       "2     spam  Free entry in 2 a wkly comp to win FA Cup fina...\n",
       "3      ham  U dun say so early hor... U c already then say...\n",
       "4      ham  Nah I don't think he goes to usf, he lives aro..."
      ]
     },
     "execution_count": 18,
     "metadata": {},
     "output_type": "execute_result"
    }
   ],
   "source": [
    "# lese CSV Datei mit Spam.\n",
    "mail_df = pd.read_csv('./files_data/data/mail_data/mail_data.csv')\n",
    "mail_df.head()"
   ]
  },
  {
   "cell_type": "code",
   "execution_count": 21,
   "id": "a19aab5b-73d8-493f-89c2-69c9e9b8317b",
   "metadata": {},
   "outputs": [
    {
     "data": {
      "text/html": [
       "<div>\n",
       "<style scoped>\n",
       "    .dataframe tbody tr th:only-of-type {\n",
       "        vertical-align: middle;\n",
       "    }\n",
       "\n",
       "    .dataframe tbody tr th {\n",
       "        vertical-align: top;\n",
       "    }\n",
       "\n",
       "    .dataframe thead tr th {\n",
       "        text-align: left;\n",
       "    }\n",
       "\n",
       "    .dataframe thead tr:last-of-type th {\n",
       "        text-align: right;\n",
       "    }\n",
       "</style>\n",
       "<table border=\"1\" class=\"dataframe\">\n",
       "  <thead>\n",
       "    <tr>\n",
       "      <th></th>\n",
       "      <th colspan=\"4\" halign=\"left\">Message</th>\n",
       "    </tr>\n",
       "    <tr>\n",
       "      <th></th>\n",
       "      <th>count</th>\n",
       "      <th>unique</th>\n",
       "      <th>top</th>\n",
       "      <th>freq</th>\n",
       "    </tr>\n",
       "    <tr>\n",
       "      <th>Category</th>\n",
       "      <th></th>\n",
       "      <th></th>\n",
       "      <th></th>\n",
       "      <th></th>\n",
       "    </tr>\n",
       "  </thead>\n",
       "  <tbody>\n",
       "    <tr>\n",
       "      <th>ham</th>\n",
       "      <td>4825</td>\n",
       "      <td>4516</td>\n",
       "      <td>Sorry, I'll call later</td>\n",
       "      <td>30</td>\n",
       "    </tr>\n",
       "    <tr>\n",
       "      <th>spam</th>\n",
       "      <td>747</td>\n",
       "      <td>641</td>\n",
       "      <td>Please call our customer service representativ...</td>\n",
       "      <td>4</td>\n",
       "    </tr>\n",
       "  </tbody>\n",
       "</table>\n",
       "</div>"
      ],
      "text/plain": [
       "         Message                                                            \\\n",
       "           count unique                                                top   \n",
       "Category                                                                     \n",
       "ham         4825   4516                             Sorry, I'll call later   \n",
       "spam         747    641  Please call our customer service representativ...   \n",
       "\n",
       "               \n",
       "         freq  \n",
       "Category       \n",
       "ham        30  \n",
       "spam        4  "
      ]
     },
     "execution_count": 21,
     "metadata": {},
     "output_type": "execute_result"
    }
   ],
   "source": [
    "# Ordne nach 'Category' für eine kleine Übersicht. \n",
    "mail_df.groupby('Category').describe()"
   ]
  },
  {
   "cell_type": "markdown",
   "id": "f7663bbd-b6e9-435a-85ad-ae54d89962e2",
   "metadata": {},
   "source": [
    "Um den Text für Maschinen lesbar zu machen, muss eine Transformation des Textes stattfinden. Der Text muss also numerisch vorliegen. "
   ]
  },
  {
   "cell_type": "code",
   "execution_count": 22,
   "id": "2c296e50-70e9-47ac-b05a-cfca8475425a",
   "metadata": {},
   "outputs": [
    {
     "data": {
      "text/html": [
       "<div>\n",
       "<style scoped>\n",
       "    .dataframe tbody tr th:only-of-type {\n",
       "        vertical-align: middle;\n",
       "    }\n",
       "\n",
       "    .dataframe tbody tr th {\n",
       "        vertical-align: top;\n",
       "    }\n",
       "\n",
       "    .dataframe thead th {\n",
       "        text-align: right;\n",
       "    }\n",
       "</style>\n",
       "<table border=\"1\" class=\"dataframe\">\n",
       "  <thead>\n",
       "    <tr style=\"text-align: right;\">\n",
       "      <th></th>\n",
       "      <th>Category</th>\n",
       "      <th>Message</th>\n",
       "    </tr>\n",
       "  </thead>\n",
       "  <tbody>\n",
       "    <tr>\n",
       "      <th>0</th>\n",
       "      <td>0</td>\n",
       "      <td>Go until jurong point, crazy.. Available only ...</td>\n",
       "    </tr>\n",
       "    <tr>\n",
       "      <th>1</th>\n",
       "      <td>0</td>\n",
       "      <td>Ok lar... Joking wif u oni...</td>\n",
       "    </tr>\n",
       "    <tr>\n",
       "      <th>2</th>\n",
       "      <td>1</td>\n",
       "      <td>Free entry in 2 a wkly comp to win FA Cup fina...</td>\n",
       "    </tr>\n",
       "    <tr>\n",
       "      <th>3</th>\n",
       "      <td>0</td>\n",
       "      <td>U dun say so early hor... U c already then say...</td>\n",
       "    </tr>\n",
       "    <tr>\n",
       "      <th>4</th>\n",
       "      <td>0</td>\n",
       "      <td>Nah I don't think he goes to usf, he lives aro...</td>\n",
       "    </tr>\n",
       "  </tbody>\n",
       "</table>\n",
       "</div>"
      ],
      "text/plain": [
       "   Category                                            Message\n",
       "0         0  Go until jurong point, crazy.. Available only ...\n",
       "1         0                      Ok lar... Joking wif u oni...\n",
       "2         1  Free entry in 2 a wkly comp to win FA Cup fina...\n",
       "3         0  U dun say so early hor... U c already then say...\n",
       "4         0  Nah I don't think he goes to usf, he lives aro..."
      ]
     },
     "execution_count": 22,
     "metadata": {},
     "output_type": "execute_result"
    }
   ],
   "source": [
    "# Kategorie in 0 und 1 Codieren, da gibt es viele Wege. \n",
    "mail_df.Category = mail_df.Category.apply(lambda x: 0 if x=='ham' else 1)\n",
    "mail_df.head()"
   ]
  },
  {
   "cell_type": "code",
   "execution_count": 20,
   "id": "b4142e3f-8cbf-4d99-8516-c92fd8de4903",
   "metadata": {},
   "outputs": [
    {
     "data": {
      "text/html": [
       "<div>\n",
       "<style scoped>\n",
       "    .dataframe tbody tr th:only-of-type {\n",
       "        vertical-align: middle;\n",
       "    }\n",
       "\n",
       "    .dataframe tbody tr th {\n",
       "        vertical-align: top;\n",
       "    }\n",
       "\n",
       "    .dataframe thead th {\n",
       "        text-align: right;\n",
       "    }\n",
       "</style>\n",
       "<table border=\"1\" class=\"dataframe\">\n",
       "  <thead>\n",
       "    <tr style=\"text-align: right;\">\n",
       "      <th></th>\n",
       "      <th>spam</th>\n",
       "    </tr>\n",
       "  </thead>\n",
       "  <tbody>\n",
       "    <tr>\n",
       "      <th>0</th>\n",
       "      <td>0</td>\n",
       "    </tr>\n",
       "    <tr>\n",
       "      <th>1</th>\n",
       "      <td>0</td>\n",
       "    </tr>\n",
       "    <tr>\n",
       "      <th>2</th>\n",
       "      <td>1</td>\n",
       "    </tr>\n",
       "    <tr>\n",
       "      <th>3</th>\n",
       "      <td>0</td>\n",
       "    </tr>\n",
       "    <tr>\n",
       "      <th>4</th>\n",
       "      <td>0</td>\n",
       "    </tr>\n",
       "  </tbody>\n",
       "</table>\n",
       "</div>"
      ],
      "text/plain": [
       "   spam\n",
       "0     0\n",
       "1     0\n",
       "2     1\n",
       "3     0\n",
       "4     0"
      ]
     },
     "execution_count": 20,
     "metadata": {},
     "output_type": "execute_result"
    }
   ],
   "source": [
    "# Alternativ auch so.: \n",
    "# - Dan das Dataframe anhängen. \n",
    "dummy_cat = pd.get_dummies(mail_df['Category'], drop_first=True, dtype='int')\n",
    "dummy_cat.head()"
   ]
  },
  {
   "cell_type": "code",
   "execution_count": 26,
   "id": "9cfc462f-7b30-4996-8eb6-4dceb4eada2c",
   "metadata": {},
   "outputs": [],
   "source": [
    "# Erstelle Train- und Testset\n",
    "X_train, X_test, y_train, y_test = train_test_split(mail_df['Message'], mail_df['Category'], test_size=0.20)"
   ]
  },
  {
   "cell_type": "markdown",
   "id": "26fc0ac2-e1e0-4115-95e4-b6d015133615",
   "metadata": {},
   "source": [
    "Um die Texte in eine numerische Repräsentation zu bringen, nutzen wir \"CountVectorizer\" von Sklearn.\n",
    "\n",
    "Es werden einmalige (unique) Wörter aus den Texten genommen und wie Features behandelt. Darauf hin wird gezählt, wie oft diese Features in den verschiedenen Texten vorkommen. "
   ]
  },
  {
   "cell_type": "code",
   "execution_count": 34,
   "id": "f6f3cb13-1800-468a-bbe5-a95ccbc681a0",
   "metadata": {},
   "outputs": [],
   "source": [
    "# Anwendung ist sehr einfach. \n",
    "cv = CountVectorizer()\n",
    "X_train_cv = cv.fit_transform(X_train, )"
   ]
  },
  {
   "cell_type": "code",
   "execution_count": 35,
   "id": "8f8eb1b9-b4f8-4e2e-8554-cf79672f4467",
   "metadata": {},
   "outputs": [
    {
     "data": {
      "text/html": [
       "<style>#sk-container-id-3 {color: black;}#sk-container-id-3 pre{padding: 0;}#sk-container-id-3 div.sk-toggleable {background-color: white;}#sk-container-id-3 label.sk-toggleable__label {cursor: pointer;display: block;width: 100%;margin-bottom: 0;padding: 0.3em;box-sizing: border-box;text-align: center;}#sk-container-id-3 label.sk-toggleable__label-arrow:before {content: \"▸\";float: left;margin-right: 0.25em;color: #696969;}#sk-container-id-3 label.sk-toggleable__label-arrow:hover:before {color: black;}#sk-container-id-3 div.sk-estimator:hover label.sk-toggleable__label-arrow:before {color: black;}#sk-container-id-3 div.sk-toggleable__content {max-height: 0;max-width: 0;overflow: hidden;text-align: left;background-color: #f0f8ff;}#sk-container-id-3 div.sk-toggleable__content pre {margin: 0.2em;color: black;border-radius: 0.25em;background-color: #f0f8ff;}#sk-container-id-3 input.sk-toggleable__control:checked~div.sk-toggleable__content {max-height: 200px;max-width: 100%;overflow: auto;}#sk-container-id-3 input.sk-toggleable__control:checked~label.sk-toggleable__label-arrow:before {content: \"▾\";}#sk-container-id-3 div.sk-estimator input.sk-toggleable__control:checked~label.sk-toggleable__label {background-color: #d4ebff;}#sk-container-id-3 div.sk-label input.sk-toggleable__control:checked~label.sk-toggleable__label {background-color: #d4ebff;}#sk-container-id-3 input.sk-hidden--visually {border: 0;clip: rect(1px 1px 1px 1px);clip: rect(1px, 1px, 1px, 1px);height: 1px;margin: -1px;overflow: hidden;padding: 0;position: absolute;width: 1px;}#sk-container-id-3 div.sk-estimator {font-family: monospace;background-color: #f0f8ff;border: 1px dotted black;border-radius: 0.25em;box-sizing: border-box;margin-bottom: 0.5em;}#sk-container-id-3 div.sk-estimator:hover {background-color: #d4ebff;}#sk-container-id-3 div.sk-parallel-item::after {content: \"\";width: 100%;border-bottom: 1px solid gray;flex-grow: 1;}#sk-container-id-3 div.sk-label:hover label.sk-toggleable__label {background-color: #d4ebff;}#sk-container-id-3 div.sk-serial::before {content: \"\";position: absolute;border-left: 1px solid gray;box-sizing: border-box;top: 0;bottom: 0;left: 50%;z-index: 0;}#sk-container-id-3 div.sk-serial {display: flex;flex-direction: column;align-items: center;background-color: white;padding-right: 0.2em;padding-left: 0.2em;position: relative;}#sk-container-id-3 div.sk-item {position: relative;z-index: 1;}#sk-container-id-3 div.sk-parallel {display: flex;align-items: stretch;justify-content: center;background-color: white;position: relative;}#sk-container-id-3 div.sk-item::before, #sk-container-id-3 div.sk-parallel-item::before {content: \"\";position: absolute;border-left: 1px solid gray;box-sizing: border-box;top: 0;bottom: 0;left: 50%;z-index: -1;}#sk-container-id-3 div.sk-parallel-item {display: flex;flex-direction: column;z-index: 1;position: relative;background-color: white;}#sk-container-id-3 div.sk-parallel-item:first-child::after {align-self: flex-end;width: 50%;}#sk-container-id-3 div.sk-parallel-item:last-child::after {align-self: flex-start;width: 50%;}#sk-container-id-3 div.sk-parallel-item:only-child::after {width: 0;}#sk-container-id-3 div.sk-dashed-wrapped {border: 1px dashed gray;margin: 0 0.4em 0.5em 0.4em;box-sizing: border-box;padding-bottom: 0.4em;background-color: white;}#sk-container-id-3 div.sk-label label {font-family: monospace;font-weight: bold;display: inline-block;line-height: 1.2em;}#sk-container-id-3 div.sk-label-container {text-align: center;}#sk-container-id-3 div.sk-container {/* jupyter's `normalize.less` sets `[hidden] { display: none; }` but bootstrap.min.css set `[hidden] { display: none !important; }` so we also need the `!important` here to be able to override the default hidden behavior on the sphinx rendered scikit-learn.org. See: https://github.com/scikit-learn/scikit-learn/issues/21755 */display: inline-block !important;position: relative;}#sk-container-id-3 div.sk-text-repr-fallback {display: none;}</style><div id=\"sk-container-id-3\" class=\"sk-top-container\"><div class=\"sk-text-repr-fallback\"><pre>MultinomialNB()</pre><b>In a Jupyter environment, please rerun this cell to show the HTML representation or trust the notebook. <br />On GitHub, the HTML representation is unable to render, please try loading this page with nbviewer.org.</b></div><div class=\"sk-container\" hidden><div class=\"sk-item\"><div class=\"sk-estimator sk-toggleable\"><input class=\"sk-toggleable__control sk-hidden--visually\" id=\"sk-estimator-id-3\" type=\"checkbox\" checked><label for=\"sk-estimator-id-3\" class=\"sk-toggleable__label sk-toggleable__label-arrow\">MultinomialNB</label><div class=\"sk-toggleable__content\"><pre>MultinomialNB()</pre></div></div></div></div></div>"
      ],
      "text/plain": [
       "MultinomialNB()"
      ]
     },
     "execution_count": 35,
     "metadata": {},
     "output_type": "execute_result"
    }
   ],
   "source": [
    "# Erstelle Model und übergebe Daten. \n",
    "model = MultinomialNB()\n",
    "model.fit(X_train_cv, y_train)"
   ]
  },
  {
   "cell_type": "code",
   "execution_count": 37,
   "id": "e60604c1-8c31-4138-b6f7-ad8b636e85c6",
   "metadata": {},
   "outputs": [
    {
     "data": {
      "text/plain": [
       "0.9883408071748879"
      ]
     },
     "execution_count": 37,
     "metadata": {},
     "output_type": "execute_result"
    }
   ],
   "source": [
    "# Um den Score zu berechnen, müssen auch die Testdaten transformiert werden. \n",
    "X_text_cv = cv.transform(X_test)\n",
    "model.score(X_text_cv, y_test)"
   ]
  },
  {
   "cell_type": "markdown",
   "id": "442fd151-deed-4333-b578-13bebab5dd13",
   "metadata": {},
   "source": [
    "Wir können auch eigene E-Mails schreiben und eingeben. <br>\n",
    "Dafür muss der Text in englischer Sprache vorliegen, da das Model damit trainiert wurde. "
   ]
  }
 ],
 "metadata": {
  "kernelspec": {
   "display_name": "Python 3 (ipykernel)",
   "language": "python",
   "name": "python3"
  },
  "language_info": {
   "codemirror_mode": {
    "name": "ipython",
    "version": 3
   },
   "file_extension": ".py",
   "mimetype": "text/x-python",
   "name": "python",
   "nbconvert_exporter": "python",
   "pygments_lexer": "ipython3",
   "version": "3.9.19"
  }
 },
 "nbformat": 4,
 "nbformat_minor": 5
}
