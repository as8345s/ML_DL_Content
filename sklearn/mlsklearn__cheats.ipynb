{
 "cells": [
  {
   "cell_type": "markdown",
   "id": "bc640239-306f-4d7d-bd13-d7beb290f752",
   "metadata": {},
   "source": [
    "<h3>Sammlung von nützlichen Funktionen und Allgemeines zu Sklearn.</h3>\n",
    "- Als Erstes als Notebook, wird evtl. als PDF oder Bild erstellt."
   ]
  },
  {
   "cell_type": "markdown",
   "id": "d3144050-f84d-441d-843e-5b84fa8ad949",
   "metadata": {},
   "source": [
    "Diese Sammlung ermöglicht es ein schnelles nachschlagen von Methoden und erklärt ganz kurz den Zweck. "
   ]
  },
  {
   "cell_type": "code",
   "execution_count": null,
   "id": "a6876800-d826-4412-b566-f2dc6b590640",
   "metadata": {},
   "outputs": [],
   "source": []
  },
  {
   "cell_type": "raw",
   "id": "27dc7394-866e-489a-a54c-edab6b2536f3",
   "metadata": {},
   "source": [
    "## Modelle ##\n",
    "from sklearn.linear_model import LinearRegression\n",
    "from sklearn.linear_model import LogisticRegression\n",
    "\n",
    "from sklearn.tree     import DecisionTreeClassifier\n",
    "from sklearn.ensemble import RandomForestClassifier\n",
    "\n",
    "from sklearn.naive_bayes  import MultinomialNB\n",
    "from sklearn.naive_bayes  import GaussianNB\n",
    "from sklearn.naive_bayes  import BernoulliNB\n",
    "\n",
    "from sklearn.neighbors    import  KNeighborsClassifier / KNeighborsRegressor\n",
    "from sklearn.svm          import SVC / SVR\n",
    "\n",
    "from sklearn.cluster      import KMeans"
   ]
  },
  {
   "cell_type": "code",
   "execution_count": null,
   "id": "3bf9f9b8-0632-47dd-86c9-a63d08b25705",
   "metadata": {},
   "outputs": [],
   "source": []
  },
  {
   "cell_type": "raw",
   "id": "c4ff9840-9da6-4107-a7db-c3dc71a26c79",
   "metadata": {},
   "source": [
    "## Plot Decision Boundary ## \n",
    "# - 2D\n",
    "from sklearn.inspection import DecisionBoundaryDisplay\n",
    "\n",
    "# Model.\n",
    "model = KNeighborsClassifier(n_neighbors=3).fit(X, y)\n",
    "# Skalar für Plot. \n",
    "skalar = [min(X['sepal length (cm)']), max(X['sepal length (cm)']),\\\n",
    "          min(X['sepal width (cm)']), max(X['sepal width (cm)'])]\n",
    "\n",
    "_, ax = plt.subplots(figsize=(6, 6))\n",
    "\n",
    "# Plot für Felder. \n",
    "common_params = {\"estimator\": model, \"X\": X, \"ax\": ax}\n",
    "DecisionBoundaryDisplay.from_estimator(\n",
    "        **common_params,\n",
    "        response_method=\"auto\",    # predict bei 2 Klassen\n",
    "        plot_method=\"pcolormesh\",  # {'contourf', 'contour', 'pcolormesh'}\n",
    "        alpha=0.3,\n",
    "    )\n",
    "# Plot Boundary.\n",
    "DecisionBoundaryDisplay.from_estimator(\n",
    "            **common_params,\n",
    "            response_method=\"auto\",  # decision_function bei 2 Klassen\n",
    "            plot_method=\"contour\",\n",
    "            levels=[-1, 0, 1],\n",
    "            colors=[\"k\", \"k\", \"k\"],\n",
    "            linestyles=[\"--\", \"-\", \"--\",],\n",
    "        )\n",
    "# Plot der Datenpunkte.\n",
    "ax.scatter(X['sepal length (cm)'], X['sepal width (cm)'], c=y, s=30, edgecolors=\"k\")\n",
    "ax.legend(*scatter.legend_elements(), loc=\"upper right\", title=\"Classes\")"
   ]
  },
  {
   "cell_type": "code",
   "execution_count": null,
   "id": "77323e35-e6d6-4809-8706-ece2feae0e58",
   "metadata": {},
   "outputs": [],
   "source": []
  },
  {
   "cell_type": "raw",
   "id": "1d50c354-d82a-410f-a427-cce8209eae11",
   "metadata": {},
   "source": [
    "## Cross-Validation ##\n",
    "\n",
    "from sklearn.model_selection import cross_val_score\n",
    "from sklearn.model_selection import cross_validate\n",
    "from sklearn.model_selection import cross_val_predict\n",
    "\n",
    "# Teile Dataset in n-teile auf und nutze subsets für den Score. \n",
    "cross_validate(model, X_train, y_train, cv=n)"
   ]
  },
  {
   "cell_type": "code",
   "execution_count": null,
   "id": "ff35d0c9-b622-4381-bc3e-1de54e35c884",
   "metadata": {},
   "outputs": [],
   "source": []
  },
  {
   "cell_type": "raw",
   "id": "1d31c850-7ef0-4a33-9eda-b6456ed8d939",
   "metadata": {},
   "source": [
    "## Grid-Search ## linear, random.\n",
    "# - Finde optimale Parameter für das Model - Hyperparameter Search. \n",
    "\n",
    "# Linear # \n",
    "gsc = GridSearchCV( model , { \n",
    "    'param_1': [1, 10, 10],\n",
    "    'param_2': ['rbf','linear'],\n",
    "}, cv=5, return_train_score=False)  # Mit Cross-Validation 5\n",
    "gsc.fit(X_train, y_train)\n",
    "gsc.best_score_\n",
    "gsc.best_params_\n",
    "\n",
    "# Random # \n",
    "rdm_gridCV = RandomizedSearchCV( model , {\n",
    "    'param_1': [1, 10, 10],\n",
    "    'param_2': ['rbf','linear'],\n",
    "}, cv=5, return_train_score=False, n_iter=20)  # Mit Cross-Validation 5 und 20 Iterationen.\n",
    "rdm_gridCV.fit(X_train, y_train)"
   ]
  },
  {
   "cell_type": "code",
   "execution_count": null,
   "id": "b557f3d5-472c-46c4-88be-2d6c076335e0",
   "metadata": {},
   "outputs": [],
   "source": []
  },
  {
   "cell_type": "raw",
   "id": "1a879b10-4d95-4a42-8372-62f5621c289f",
   "metadata": {},
   "source": [
    "## Model-Selection ## mit Grid-Search\n",
    "\n",
    "# Erstelle Dict.: \n",
    "data_dict = {\n",
    "    'svc':{                # Um welches Model es sich handelt. \n",
    "        'model': SVC(),    # Model, das verwendet werden soll ggf. mit Startparameter.\n",
    "        'model_param':{    # Verschiedene Paramter als Dict, damit diese gemeinsam plaziert werden. \n",
    "            'C': [1,10,20],             \n",
    "            'kernel': ['rbf','linear', 'poly', 'sigmoid'],\n",
    "            'degree': [2, 3, 4, 5]\n",
    "        }\n",
    "    },\n",
    "    \n",
    "    'gaussianNB':{\n",
    "        'model': GaussianNB(),  \n",
    "        'model_param':{   \n",
    "            'var_smoothing':[1e-9, 1e-8, 1e-7]             \n",
    "        }\n",
    "    },\n",
    "   '....':\n",
    "\n",
    "# Durchlauf mit allen Modellen. \n",
    "result = []\n",
    "for model, param in data_dict.items():\n",
    "\n",
    "    gsc = GridSearchCV( param['model'], param['model_param'], cv=5, return_train_score=False)\n",
    "    gsc.fit(X_train, y_train)\n",
    "\n",
    "    # Das kann dann später als Dataframe dargestellt werden. \n",
    "    result.append({         \n",
    "        'model_name':       model,\n",
    "        'best_model_score': gsc.best_score_,\n",
    "        'best_params':      gsc.best_params_\n",
    "    })\n",
    "best_modelparameters_df = pd.DataFrame(result, columns=list(result[0].keys()) )"
   ]
  },
  {
   "cell_type": "code",
   "execution_count": null,
   "id": "1b2ede82-aa73-48ca-9641-ecebca2a8ff0",
   "metadata": {},
   "outputs": [],
   "source": []
  },
  {
   "cell_type": "raw",
   "id": "af55a621-ce18-4bd8-98f2-3e81a36cf4a3",
   "metadata": {},
   "source": [
    "## PCA ## "
   ]
  },
  {
   "cell_type": "code",
   "execution_count": null,
   "id": "e0bcbf9d-6ef0-4339-9e3d-d7975e6f2747",
   "metadata": {},
   "outputs": [],
   "source": []
  },
  {
   "cell_type": "raw",
   "id": "b36318b7-8437-4fd1-8bd3-59cfe0f737d3",
   "metadata": {},
   "source": [
    "## Ensemble - Bagging ## "
   ]
  },
  {
   "cell_type": "code",
   "execution_count": null,
   "id": "850fd33d-5dd6-408e-a8af-8eea856c5755",
   "metadata": {},
   "outputs": [],
   "source": []
  },
  {
   "cell_type": "code",
   "execution_count": null,
   "id": "b3a9a984-5596-4d9c-aa18-7710a9bb9f44",
   "metadata": {},
   "outputs": [],
   "source": []
  },
  {
   "cell_type": "code",
   "execution_count": null,
   "id": "c98bb86a-ff20-4873-9e62-2fd449a8b9af",
   "metadata": {},
   "outputs": [],
   "source": []
  }
 ],
 "metadata": {
  "kernelspec": {
   "display_name": "Python 3 (ipykernel)",
   "language": "python",
   "name": "python3"
  },
  "language_info": {
   "codemirror_mode": {
    "name": "ipython",
    "version": 3
   },
   "file_extension": ".py",
   "mimetype": "text/x-python",
   "name": "python",
   "nbconvert_exporter": "python",
   "pygments_lexer": "ipython3",
   "version": "3.9.18"
  }
 },
 "nbformat": 4,
 "nbformat_minor": 5
}
