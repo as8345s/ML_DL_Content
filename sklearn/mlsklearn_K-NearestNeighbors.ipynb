{
 "cells": [
  {
   "cell_type": "markdown",
   "id": "059d7132-60b2-439d-8487-f377417db78e",
   "metadata": {},
   "source": [
    "<h1>K-Nearest Neighbors</h1>"
   ]
  },
  {
   "cell_type": "markdown",
   "id": "7cf13af1-ed6a-4311-b941-751438aa35bc",
   "metadata": {},
   "source": [
    "Der Parameter K beschreibt wie viele Datenpunkte angeschaut werden, um die Zugehörigkeit festzustellen. \n",
    "\n",
    "Dabei wird die Entfernung von dem ausgehenden Punkt zu den K-Nachbarn gemessen, z. B. mit der Euklidischen Distanz. "
   ]
  },
  {
   "cell_type": "markdown",
   "id": "eca2a0d1-6161-4475-ab18-2c3cbf351478",
   "metadata": {},
   "source": [
    "<i>Abb1:</i> KNN, 3 Klassen, K = 2.\n",
    "\n",
    "<img src=\"files_data/img/sklearn_knn_1.PNG\" width=600 hight= 400>"
   ]
  },
  {
   "cell_type": "markdown",
   "id": "9a90fc99-3043-4ff8-95cb-b064eb9d1b16",
   "metadata": {},
   "source": [
    "In der Abbildung 1 sind die grünen Punkte am nächsten dran. Deswegen gehört der pinke Punkt dem grünen Cluster an."
   ]
  },
  {
   "cell_type": "markdown",
   "id": "cdd34fce-9274-4f2a-be55-d246fae24aff",
   "metadata": {},
   "source": [
    "<i>Abb2:</i> Verschiedene Werte für K.\n",
    "\n",
    "<img src=\"files_data/img/sklearn_knn_2.PNG\" width=900 hight= 400>"
   ]
  },
  {
   "cell_type": "markdown",
   "id": "6d5e4cf5-b936-4d21-baa5-7cd79b33b810",
   "metadata": {},
   "source": [
    "Ein Problem was auftauchen kann ist, dass wenn der Wert von K sehr hoch ist, viele andere Datenpunkte in Betracht  gezogen werden, um die Zugehörigkeit zu bestimmen, was zu einer falschen Klassifikation führt. <br>\n"
   ]
  },
  {
   "cell_type": "code",
   "execution_count": null,
   "id": "7d38f535-949a-4ab2-adf8-a0c0d67fa417",
   "metadata": {},
   "outputs": [],
   "source": []
  },
  {
   "cell_type": "code",
   "execution_count": null,
   "id": "f6d17011-d8e0-4142-b1f2-d53af76b57d9",
   "metadata": {},
   "outputs": [],
   "source": [
    "# // Content is coming"
   ]
  },
  {
   "cell_type": "code",
   "execution_count": null,
   "id": "b6cc98e3-5ea2-4300-b2bc-069378d67130",
   "metadata": {},
   "outputs": [],
   "source": []
  },
  {
   "cell_type": "markdown",
   "id": "8acd8e8f-6764-4402-a065-791e3c656f4d",
   "metadata": {},
   "source": [
    "Der Wert von K muss also vorsichtig ausgewählt werden.\n",
    "\n",
    "Wir können KNN an dem Iris Dataset testen."
   ]
  },
  {
   "cell_type": "code",
   "execution_count": 25,
   "id": "5209b8d8-d789-462e-9d78-a5baaf261624",
   "metadata": {},
   "outputs": [],
   "source": [
    "import pandas as pd\n",
    "\n",
    "from sklearn.datasets  import load_iris\n",
    "from sklearn.neighbors import KNeighborsClassifier\n",
    "\n",
    "from sklearn.model_selection import cross_val_score  # Cross Validation \n",
    "\n",
    "from sklearn.metrics import confusion_matrix\n",
    "\n",
    "import matplotlib.pyplot as plt"
   ]
  },
  {
   "cell_type": "code",
   "execution_count": 2,
   "id": "81bed03d-d182-4394-bf55-f6af1a5de8d7",
   "metadata": {},
   "outputs": [
    {
     "data": {
      "text/plain": [
       "['DESCR',\n",
       " 'data',\n",
       " 'data_module',\n",
       " 'feature_names',\n",
       " 'filename',\n",
       " 'frame',\n",
       " 'target',\n",
       " 'target_names']"
      ]
     },
     "execution_count": 2,
     "metadata": {},
     "output_type": "execute_result"
    }
   ],
   "source": [
    "# Lade Iris Daten.\n",
    "iris_data = load_iris()\n",
    "dir(iris_data)"
   ]
  },
  {
   "cell_type": "code",
   "execution_count": 5,
   "id": "3bec91ed-87cb-47b4-8cce-2016fecd2f85",
   "metadata": {},
   "outputs": [
    {
     "data": {
      "text/html": [
       "<div>\n",
       "<style scoped>\n",
       "    .dataframe tbody tr th:only-of-type {\n",
       "        vertical-align: middle;\n",
       "    }\n",
       "\n",
       "    .dataframe tbody tr th {\n",
       "        vertical-align: top;\n",
       "    }\n",
       "\n",
       "    .dataframe thead th {\n",
       "        text-align: right;\n",
       "    }\n",
       "</style>\n",
       "<table border=\"1\" class=\"dataframe\">\n",
       "  <thead>\n",
       "    <tr style=\"text-align: right;\">\n",
       "      <th></th>\n",
       "      <th>sepal length (cm)</th>\n",
       "      <th>sepal width (cm)</th>\n",
       "      <th>petal length (cm)</th>\n",
       "      <th>petal width (cm)</th>\n",
       "    </tr>\n",
       "  </thead>\n",
       "  <tbody>\n",
       "    <tr>\n",
       "      <th>0</th>\n",
       "      <td>5.1</td>\n",
       "      <td>3.5</td>\n",
       "      <td>1.4</td>\n",
       "      <td>0.2</td>\n",
       "    </tr>\n",
       "    <tr>\n",
       "      <th>1</th>\n",
       "      <td>4.9</td>\n",
       "      <td>3.0</td>\n",
       "      <td>1.4</td>\n",
       "      <td>0.2</td>\n",
       "    </tr>\n",
       "    <tr>\n",
       "      <th>2</th>\n",
       "      <td>4.7</td>\n",
       "      <td>3.2</td>\n",
       "      <td>1.3</td>\n",
       "      <td>0.2</td>\n",
       "    </tr>\n",
       "    <tr>\n",
       "      <th>3</th>\n",
       "      <td>4.6</td>\n",
       "      <td>3.1</td>\n",
       "      <td>1.5</td>\n",
       "      <td>0.2</td>\n",
       "    </tr>\n",
       "    <tr>\n",
       "      <th>4</th>\n",
       "      <td>5.0</td>\n",
       "      <td>3.6</td>\n",
       "      <td>1.4</td>\n",
       "      <td>0.2</td>\n",
       "    </tr>\n",
       "  </tbody>\n",
       "</table>\n",
       "</div>"
      ],
      "text/plain": [
       "   sepal length (cm)  sepal width (cm)  petal length (cm)  petal width (cm)\n",
       "0                5.1               3.5                1.4               0.2\n",
       "1                4.9               3.0                1.4               0.2\n",
       "2                4.7               3.2                1.3               0.2\n",
       "3                4.6               3.1                1.5               0.2\n",
       "4                5.0               3.6                1.4               0.2"
      ]
     },
     "execution_count": 5,
     "metadata": {},
     "output_type": "execute_result"
    }
   ],
   "source": [
    "# Erstelle Dataframe\n",
    "iris_df = pd.DataFrame(iris_data.data, columns=iris_data.feature_names)\n",
    "iris_df.head()"
   ]
  },
  {
   "cell_type": "code",
   "execution_count": 6,
   "id": "15e66e54-3aba-4d1e-a924-aaa50391b5a9",
   "metadata": {},
   "outputs": [
    {
     "data": {
      "text/html": [
       "<div>\n",
       "<style scoped>\n",
       "    .dataframe tbody tr th:only-of-type {\n",
       "        vertical-align: middle;\n",
       "    }\n",
       "\n",
       "    .dataframe tbody tr th {\n",
       "        vertical-align: top;\n",
       "    }\n",
       "\n",
       "    .dataframe thead th {\n",
       "        text-align: right;\n",
       "    }\n",
       "</style>\n",
       "<table border=\"1\" class=\"dataframe\">\n",
       "  <thead>\n",
       "    <tr style=\"text-align: right;\">\n",
       "      <th></th>\n",
       "      <th>sepal length (cm)</th>\n",
       "      <th>sepal width (cm)</th>\n",
       "      <th>petal length (cm)</th>\n",
       "      <th>petal width (cm)</th>\n",
       "      <th>flower</th>\n",
       "    </tr>\n",
       "  </thead>\n",
       "  <tbody>\n",
       "    <tr>\n",
       "      <th>0</th>\n",
       "      <td>5.1</td>\n",
       "      <td>3.5</td>\n",
       "      <td>1.4</td>\n",
       "      <td>0.2</td>\n",
       "      <td>0</td>\n",
       "    </tr>\n",
       "    <tr>\n",
       "      <th>1</th>\n",
       "      <td>4.9</td>\n",
       "      <td>3.0</td>\n",
       "      <td>1.4</td>\n",
       "      <td>0.2</td>\n",
       "      <td>0</td>\n",
       "    </tr>\n",
       "    <tr>\n",
       "      <th>2</th>\n",
       "      <td>4.7</td>\n",
       "      <td>3.2</td>\n",
       "      <td>1.3</td>\n",
       "      <td>0.2</td>\n",
       "      <td>0</td>\n",
       "    </tr>\n",
       "    <tr>\n",
       "      <th>3</th>\n",
       "      <td>4.6</td>\n",
       "      <td>3.1</td>\n",
       "      <td>1.5</td>\n",
       "      <td>0.2</td>\n",
       "      <td>0</td>\n",
       "    </tr>\n",
       "    <tr>\n",
       "      <th>4</th>\n",
       "      <td>5.0</td>\n",
       "      <td>3.6</td>\n",
       "      <td>1.4</td>\n",
       "      <td>0.2</td>\n",
       "      <td>0</td>\n",
       "    </tr>\n",
       "  </tbody>\n",
       "</table>\n",
       "</div>"
      ],
      "text/plain": [
       "   sepal length (cm)  sepal width (cm)  petal length (cm)  petal width (cm)  \\\n",
       "0                5.1               3.5                1.4               0.2   \n",
       "1                4.9               3.0                1.4               0.2   \n",
       "2                4.7               3.2                1.3               0.2   \n",
       "3                4.6               3.1                1.5               0.2   \n",
       "4                5.0               3.6                1.4               0.2   \n",
       "\n",
       "   flower  \n",
       "0       0  \n",
       "1       0  \n",
       "2       0  \n",
       "3       0  \n",
       "4       0  "
      ]
     },
     "execution_count": 6,
     "metadata": {},
     "output_type": "execute_result"
    }
   ],
   "source": [
    "# Füge Target hinzu\n",
    "iris_df = pd.concat([iris_df, pd.DataFrame(iris_data.target, columns=['flower'])], axis='columns')\n",
    "iris_df.head()"
   ]
  },
  {
   "cell_type": "code",
   "execution_count": 9,
   "id": "333555ea-c0b7-4687-bcd0-3ecefac28c1f",
   "metadata": {},
   "outputs": [
    {
     "data": {
      "text/plain": [
       "<matplotlib.legend.Legend at 0x17f4b8a2730>"
      ]
     },
     "execution_count": 9,
     "metadata": {},
     "output_type": "execute_result"
    },
    {
     "data": {
      "image/png": "[encoded data removed]",
      "text/plain": [
       "<Figure size 640x480 with 1 Axes>"
      ]
     },
     "metadata": {},
     "output_type": "display_data"
    }
   ],
   "source": [
    "%matplotlib inline\n",
    "\n",
    "# Plote petal length #\n",
    "\n",
    "plt.title('petal')\n",
    "plt.xlabel('petal length cm')\n",
    "plt.ylabel('petal width cm')\n",
    "df1 = iris_df[ iris_df['flower']==0 ] # Sortiere Klassen aus.\n",
    "df2 = iris_df[ iris_df['flower']==1 ]\n",
    "df3 = iris_df[ iris_df['flower']==2 ]\n",
    "plt.scatter(df1['petal length (cm)'], df1['petal width (cm)'], color='blue', label=\"1\")   # Erstelle Plot\n",
    "plt.scatter(df2['petal length (cm)'], df2['petal width (cm)'], color=\"orange\", label=\"2\")\n",
    "plt.scatter(df3['petal length (cm)'], df3['petal width (cm)'], color=\"violet\", label=\"3\")\n",
    "plt.legend()"
   ]
  },
  {
   "cell_type": "markdown",
   "id": "043aea80-0eca-470b-adcc-06ffd23a265a",
   "metadata": {},
   "source": [
    "Jetzt kann das Model erstellt und trainiert werden."
   ]
  },
  {
   "cell_type": "code",
   "execution_count": 33,
   "id": "4eaf76fe-b242-4680-a374-bd370137dc92",
   "metadata": {},
   "outputs": [],
   "source": [
    "knn = KNeighborsClassifier(n_neighbors=5)  # n_neighbors ist der Parameter \"K\"."
   ]
  },
  {
   "cell_type": "code",
   "execution_count": 32,
   "id": "329b6174-6227-4398-b974-770c4056a942",
   "metadata": {},
   "outputs": [
    {
     "data": {
      "text/plain": [
       "array([0.98, 0.94, 0.96])"
      ]
     },
     "execution_count": 32,
     "metadata": {},
     "output_type": "execute_result"
    }
   ],
   "source": [
    "# Prüfe Score mit Cross Validation. \n",
    "cross_val_score(knn, iris_df[['petal length (cm)','petal width (cm)']], \\\n",
    "               iris_df['flower'], cv=3)\n",
    "             "
   ]
  },
  {
   "cell_type": "markdown",
   "id": "88a88790-9a37-4bf5-9538-848039869183",
   "metadata": {},
   "source": []
  },
  {
   "cell_type": "code",
   "execution_count": null,
   "id": "dbbbed0c-2347-49a0-b3ba-53242b6e5a6c",
   "metadata": {},
   "outputs": [],
   "source": []
  }
 ],
 "metadata": {
  "kernelspec": {
   "display_name": "Python 3 (ipykernel)",
   "language": "python",
   "name": "python3"
  },
  "language_info": {
   "codemirror_mode": {
    "name": "ipython",
    "version": 3
   },
   "file_extension": ".py",
   "mimetype": "text/x-python",
   "name": "python",
   "nbconvert_exporter": "python",
   "pygments_lexer": "ipython3",
   "version": "3.9.18"
  }
 },
 "nbformat": 4,
 "nbformat_minor": 5
}
