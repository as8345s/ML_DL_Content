{
 "cells": [
  {
   "cell_type": "markdown",
   "id": "2bf3072d-4199-448e-9c72-555da3268b80",
   "metadata": {},
   "source": [
    "<h1>L1 (Lasso) und L2 (Ridge) Regulation von Modellen</h1>"
   ]
  },
  {
   "cell_type": "markdown",
   "id": "344e1ff0-7633-4266-896d-82b7d06014a8",
   "metadata": {},
   "source": [
    "L1 und L2 Regulierungen können Modellen helfen, die unter Overfitting leiden. \n",
    "\n",
    "Mit einer Regulierung kann der Score beim Testen und später beim Einsatz mit echten Daten verbessert werden."
   ]
  },
  {
   "cell_type": "markdown",
   "id": "9d851f72-1b9b-4d9e-b2b3-de310c41904b",
   "metadata": {},
   "source": [
    "<i>Abb1</i>: Überblick der drei verschiedenen Fittings. \n",
    "\n",
    "<img src=\"files_data/img/ml_fitting_1.PNG\" width=700 hight=500>"
   ]
  },
  {
   "cell_type": "markdown",
   "id": "8ca8d6f1-b5d4-40a4-9806-268f91b19f57",
   "metadata": {},
   "source": [
    "Die Abbilding 1 zeigt links ein Model das unter Overfitting leidet, was zu einer hohen Varianz führt.\n",
    "\n",
    "Die Varianz bezeichnet den deutlich sichtbaren Unterschied in dem Score, wenn aus demselben Dataset andere Datenpunkte für das Testen genommen werden."
   ]
  },
  {
   "cell_type": "markdown",
   "id": "2b46d593-dbf4-4689-afe4-049bf4c931f8",
   "metadata": {},
   "source": [
    "Wenn wir ein Model haben, das unter Overfitting leidet, können durch den Einsatz von L2 die Werter der Koeffizienten des Models gesenkt/klein gehalten werden, was auch als Penalty bezeichnet wird. \n",
    "\n",
    "Lambda ist ein feier Parameter. <br>\n",
    "L2 Quadriert jeden Wert eines Parameters und addiert diesen zu der Originalen Lossfunktion (z. B. MSE bei linearer Regression). <br>\n",
    "Das Resultat ist, das die Koeffizienten (werden niemals 0) der Parameter (z. B. 3x³) reduziert werden, um den Fehler besser zu verteilen, was das Overfitting reduziert.\n",
    "- Verändert den Einfluss von Features, anwendbar wenn alle Features eines Datasets genutzt werden und es zu Overfitting kommt."
   ]
  },
  {
   "cell_type": "markdown",
   "id": "8b12f5ca-73ed-4352-8f20-443df385cf00",
   "metadata": {},
   "source": [
    "> L2 Regulierung (Ridge):\n",
    "$$\n",
    "Loss = Loss + \\lambda \\sum_{i=1}^n( x_i ^ 2 )\n",
    "$$\n",
    "> L1 Regulierung (Lasso):\n",
    "$$\n",
    "Loss = Loss + \\lambda \\sum_{i=1}^n(  |x_i|  )\n",
    "$$\n",
    "> Elastic Net:\n",
    "$$\n",
    "Loss = Loss + \\lambda \\sum_{i=1}^n(  |x_i|  ) + \\lambda \\sum_{i=1}^n( x_i ^ 2 )\n",
    "$$"
   ]
  },
  {
   "cell_type": "markdown",
   "id": "96139e3e-00c2-415d-8898-62f9d0176aa9",
   "metadata": {},
   "source": [
    "Die L1 Regulierung macht fast dasselbe, nur dass die Koeffizienten als Betrag summiert werden.\n",
    "- L1 wird oft als Lasso bezeichnet => Least Absolute Shrinkage and Selection Operator.\n",
    "\n",
    "Der Effekt, der hier entsteht, ist, dass L1 einige Koeffizienten in die Richtung der 0 treibt, was dazu führt, dass eher die Features herausstechen, die am \"wichtigsten\" sind. So können aus vielen Features diejenigen identifiziert werden, die den meisten Einfluss haben. "
   ]
  },
  {
   "cell_type": "markdown",
   "id": "f6d6dd5e-6499-4582-91c7-162c1fc02294",
   "metadata": {},
   "source": [
    "Die Kombination von L1 und L2 wird als Elastic Next bezeichnet, und kann für eine Balance der zwei verschiedenen Eigenschaften sogen."
   ]
  },
  {
   "cell_type": "markdown",
   "id": "bd98da76-6813-45d5-af20-ff180712090c",
   "metadata": {},
   "source": [
    "Die Regulierungen sind einfach zu verwenden, das untere Beispiel zeigt es."
   ]
  },
  {
   "cell_type": "markdown",
   "id": "7c71595f-bf59-42b8-97c1-479d0f1d8785",
   "metadata": {},
   "source": [
    "Dataset: https://www.kaggle.com/datasets/sukhmandeepsinghbrar/housing-price-dataset [Letzter Zugriff: 10,06.2024]\n",
    "> \"Housing Price Dataset\" by SUKHMANDEEP SINGH BRAR on Kaggle.com\n",
    "\n",
    "**For this specific Case I will choose a different Dataset, this will be edit later."
   ]
  },
  {
   "cell_type": "code",
   "execution_count": 89,
   "id": "8a27d111-ab1e-4f29-9c04-ed2cf570274e",
   "metadata": {},
   "outputs": [],
   "source": [
    "# Imports\n",
    "\n",
    "import pandas as pd\n",
    "import matplotlib.pyplot as plt\n",
    "\n",
    "from sklearn.linear_model import Lasso  # L1 für lineare Regression.\n",
    "from sklearn.linear_model import Ridge  # L2 für lineare Regression.  \n",
    "from sklearn.linear_model import LinearRegression\n",
    "\n",
    "from sklearn.model_selection import train_test_split"
   ]
  },
  {
   "cell_type": "code",
   "execution_count": 72,
   "id": "583867df-0f6e-4c89-89a9-863c66a8c36f",
   "metadata": {},
   "outputs": [
    {
     "data": {
      "text/html": [
       "<div>\n",
       "<style scoped>\n",
       "    .dataframe tbody tr th:only-of-type {\n",
       "        vertical-align: middle;\n",
       "    }\n",
       "\n",
       "    .dataframe tbody tr th {\n",
       "        vertical-align: top;\n",
       "    }\n",
       "\n",
       "    .dataframe thead th {\n",
       "        text-align: right;\n",
       "    }\n",
       "</style>\n",
       "<table border=\"1\" class=\"dataframe\">\n",
       "  <thead>\n",
       "    <tr style=\"text-align: right;\">\n",
       "      <th></th>\n",
       "      <th>id</th>\n",
       "      <th>date</th>\n",
       "      <th>price</th>\n",
       "      <th>bedrooms</th>\n",
       "      <th>bathrooms</th>\n",
       "      <th>sqft_living</th>\n",
       "      <th>sqft_lot</th>\n",
       "      <th>floors</th>\n",
       "      <th>waterfront</th>\n",
       "      <th>view</th>\n",
       "      <th>...</th>\n",
       "      <th>grade</th>\n",
       "      <th>sqft_above</th>\n",
       "      <th>sqft_basement</th>\n",
       "      <th>yr_built</th>\n",
       "      <th>yr_renovated</th>\n",
       "      <th>zipcode</th>\n",
       "      <th>lat</th>\n",
       "      <th>long</th>\n",
       "      <th>sqft_living15</th>\n",
       "      <th>sqft_lot15</th>\n",
       "    </tr>\n",
       "  </thead>\n",
       "  <tbody>\n",
       "    <tr>\n",
       "      <th>0</th>\n",
       "      <td>7229300521</td>\n",
       "      <td>20141013T000000</td>\n",
       "      <td>231300.0</td>\n",
       "      <td>2</td>\n",
       "      <td>1.00</td>\n",
       "      <td>1180</td>\n",
       "      <td>5650</td>\n",
       "      <td>1.0</td>\n",
       "      <td>0</td>\n",
       "      <td>0</td>\n",
       "      <td>...</td>\n",
       "      <td>7</td>\n",
       "      <td>1180</td>\n",
       "      <td>0</td>\n",
       "      <td>1955</td>\n",
       "      <td>0</td>\n",
       "      <td>98178</td>\n",
       "      <td>47.5112</td>\n",
       "      <td>-122.257</td>\n",
       "      <td>1340</td>\n",
       "      <td>5650</td>\n",
       "    </tr>\n",
       "    <tr>\n",
       "      <th>1</th>\n",
       "      <td>6414100192</td>\n",
       "      <td>20141209T000000</td>\n",
       "      <td>538000.0</td>\n",
       "      <td>3</td>\n",
       "      <td>2.25</td>\n",
       "      <td>2570</td>\n",
       "      <td>7242</td>\n",
       "      <td>2.0</td>\n",
       "      <td>0</td>\n",
       "      <td>0</td>\n",
       "      <td>...</td>\n",
       "      <td>7</td>\n",
       "      <td>2170</td>\n",
       "      <td>400</td>\n",
       "      <td>1951</td>\n",
       "      <td>1991</td>\n",
       "      <td>98125</td>\n",
       "      <td>47.7210</td>\n",
       "      <td>-122.319</td>\n",
       "      <td>1690</td>\n",
       "      <td>7639</td>\n",
       "    </tr>\n",
       "    <tr>\n",
       "      <th>2</th>\n",
       "      <td>5631500400</td>\n",
       "      <td>20150225T000000</td>\n",
       "      <td>180000.0</td>\n",
       "      <td>2</td>\n",
       "      <td>1.00</td>\n",
       "      <td>770</td>\n",
       "      <td>10000</td>\n",
       "      <td>1.0</td>\n",
       "      <td>0</td>\n",
       "      <td>0</td>\n",
       "      <td>...</td>\n",
       "      <td>6</td>\n",
       "      <td>770</td>\n",
       "      <td>0</td>\n",
       "      <td>1933</td>\n",
       "      <td>0</td>\n",
       "      <td>98028</td>\n",
       "      <td>47.7379</td>\n",
       "      <td>-122.233</td>\n",
       "      <td>2720</td>\n",
       "      <td>8062</td>\n",
       "    </tr>\n",
       "    <tr>\n",
       "      <th>3</th>\n",
       "      <td>2487200875</td>\n",
       "      <td>20141209T000000</td>\n",
       "      <td>604000.0</td>\n",
       "      <td>4</td>\n",
       "      <td>3.00</td>\n",
       "      <td>1960</td>\n",
       "      <td>5000</td>\n",
       "      <td>1.0</td>\n",
       "      <td>0</td>\n",
       "      <td>0</td>\n",
       "      <td>...</td>\n",
       "      <td>7</td>\n",
       "      <td>1050</td>\n",
       "      <td>910</td>\n",
       "      <td>1965</td>\n",
       "      <td>0</td>\n",
       "      <td>98136</td>\n",
       "      <td>47.5208</td>\n",
       "      <td>-122.393</td>\n",
       "      <td>1360</td>\n",
       "      <td>5000</td>\n",
       "    </tr>\n",
       "    <tr>\n",
       "      <th>4</th>\n",
       "      <td>1954400510</td>\n",
       "      <td>20150218T000000</td>\n",
       "      <td>510000.0</td>\n",
       "      <td>3</td>\n",
       "      <td>2.00</td>\n",
       "      <td>1680</td>\n",
       "      <td>8080</td>\n",
       "      <td>1.0</td>\n",
       "      <td>0</td>\n",
       "      <td>0</td>\n",
       "      <td>...</td>\n",
       "      <td>8</td>\n",
       "      <td>1680</td>\n",
       "      <td>0</td>\n",
       "      <td>1987</td>\n",
       "      <td>0</td>\n",
       "      <td>98074</td>\n",
       "      <td>47.6168</td>\n",
       "      <td>-122.045</td>\n",
       "      <td>1800</td>\n",
       "      <td>7503</td>\n",
       "    </tr>\n",
       "  </tbody>\n",
       "</table>\n",
       "<p>5 rows × 21 columns</p>\n",
       "</div>"
      ],
      "text/plain": [
       "           id             date     price  bedrooms  bathrooms  sqft_living  \\\n",
       "0  7229300521  20141013T000000  231300.0         2       1.00         1180   \n",
       "1  6414100192  20141209T000000  538000.0         3       2.25         2570   \n",
       "2  5631500400  20150225T000000  180000.0         2       1.00          770   \n",
       "3  2487200875  20141209T000000  604000.0         4       3.00         1960   \n",
       "4  1954400510  20150218T000000  510000.0         3       2.00         1680   \n",
       "\n",
       "   sqft_lot  floors  waterfront  view  ...  grade  sqft_above  sqft_basement  \\\n",
       "0      5650     1.0           0     0  ...      7        1180              0   \n",
       "1      7242     2.0           0     0  ...      7        2170            400   \n",
       "2     10000     1.0           0     0  ...      6         770              0   \n",
       "3      5000     1.0           0     0  ...      7        1050            910   \n",
       "4      8080     1.0           0     0  ...      8        1680              0   \n",
       "\n",
       "   yr_built  yr_renovated  zipcode      lat     long  sqft_living15  \\\n",
       "0      1955             0    98178  47.5112 -122.257           1340   \n",
       "1      1951          1991    98125  47.7210 -122.319           1690   \n",
       "2      1933             0    98028  47.7379 -122.233           2720   \n",
       "3      1965             0    98136  47.5208 -122.393           1360   \n",
       "4      1987             0    98074  47.6168 -122.045           1800   \n",
       "\n",
       "   sqft_lot15  \n",
       "0        5650  \n",
       "1        7639  \n",
       "2        8062  \n",
       "3        5000  \n",
       "4        7503  \n",
       "\n",
       "[5 rows x 21 columns]"
      ]
     },
     "execution_count": 72,
     "metadata": {},
     "output_type": "execute_result"
    }
   ],
   "source": [
    "data_df = pd.read_csv('./files_data/data/Housing_Price_Dataset.zip', compression='zip')\n",
    "data_df.head()"
   ]
  },
  {
   "cell_type": "code",
   "execution_count": 73,
   "id": "090e10f6-d540-47e2-8fff-5730f664fc3e",
   "metadata": {},
   "outputs": [
    {
     "data": {
      "text/html": [
       "<div>\n",
       "<style scoped>\n",
       "    .dataframe tbody tr th:only-of-type {\n",
       "        vertical-align: middle;\n",
       "    }\n",
       "\n",
       "    .dataframe tbody tr th {\n",
       "        vertical-align: top;\n",
       "    }\n",
       "\n",
       "    .dataframe thead th {\n",
       "        text-align: right;\n",
       "    }\n",
       "</style>\n",
       "<table border=\"1\" class=\"dataframe\">\n",
       "  <thead>\n",
       "    <tr style=\"text-align: right;\">\n",
       "      <th></th>\n",
       "      <th>price</th>\n",
       "      <th>bedrooms</th>\n",
       "      <th>sqft_living</th>\n",
       "      <th>sqft_basement</th>\n",
       "      <th>yr_built</th>\n",
       "    </tr>\n",
       "  </thead>\n",
       "  <tbody>\n",
       "    <tr>\n",
       "      <th>0</th>\n",
       "      <td>231300.0</td>\n",
       "      <td>2</td>\n",
       "      <td>1180</td>\n",
       "      <td>0</td>\n",
       "      <td>1955</td>\n",
       "    </tr>\n",
       "    <tr>\n",
       "      <th>1</th>\n",
       "      <td>538000.0</td>\n",
       "      <td>3</td>\n",
       "      <td>2570</td>\n",
       "      <td>400</td>\n",
       "      <td>1951</td>\n",
       "    </tr>\n",
       "    <tr>\n",
       "      <th>2</th>\n",
       "      <td>180000.0</td>\n",
       "      <td>2</td>\n",
       "      <td>770</td>\n",
       "      <td>0</td>\n",
       "      <td>1933</td>\n",
       "    </tr>\n",
       "    <tr>\n",
       "      <th>3</th>\n",
       "      <td>604000.0</td>\n",
       "      <td>4</td>\n",
       "      <td>1960</td>\n",
       "      <td>910</td>\n",
       "      <td>1965</td>\n",
       "    </tr>\n",
       "    <tr>\n",
       "      <th>4</th>\n",
       "      <td>510000.0</td>\n",
       "      <td>3</td>\n",
       "      <td>1680</td>\n",
       "      <td>0</td>\n",
       "      <td>1987</td>\n",
       "    </tr>\n",
       "  </tbody>\n",
       "</table>\n",
       "</div>"
      ],
      "text/plain": [
       "      price  bedrooms  sqft_living  sqft_basement  yr_built\n",
       "0  231300.0         2         1180              0      1955\n",
       "1  538000.0         3         2570            400      1951\n",
       "2  180000.0         2          770              0      1933\n",
       "3  604000.0         4         1960            910      1965\n",
       "4  510000.0         3         1680              0      1987"
      ]
     },
     "execution_count": 73,
     "metadata": {},
     "output_type": "execute_result"
    }
   ],
   "source": [
    "# Filtere Spalten aus.\n",
    "data_df = data_df[['price', 'bedrooms', 'sqft_living','sqft_basement', 'yr_built' ]]\n",
    "data_df.head()"
   ]
  },
  {
   "cell_type": "code",
   "execution_count": 74,
   "id": "61bf8587-8923-4ac1-9966-34eb58037961",
   "metadata": {},
   "outputs": [
    {
     "data": {
      "text/plain": [
       "price            0\n",
       "bedrooms         0\n",
       "sqft_living      0\n",
       "sqft_basement    0\n",
       "yr_built         0\n",
       "dtype: int64"
      ]
     },
     "execution_count": 74,
     "metadata": {},
     "output_type": "execute_result"
    }
   ],
   "source": [
    "data_df.isnull().sum()"
   ]
  },
  {
   "cell_type": "markdown",
   "id": "1659436e-f7fb-4e77-bd6f-ad042cb44d2d",
   "metadata": {},
   "source": [
    "Wir werden gleich sehen, ob das Model ein Overfitting Problem hat."
   ]
  },
  {
   "cell_type": "code",
   "execution_count": 75,
   "id": "919a9eda-dd5a-4db1-b09e-6b6f295528ae",
   "metadata": {},
   "outputs": [
    {
     "data": {
      "text/plain": [
       "(21613, 5)"
      ]
     },
     "execution_count": 75,
     "metadata": {},
     "output_type": "execute_result"
    }
   ],
   "source": [
    "data_df.shape"
   ]
  },
  {
   "cell_type": "code",
   "execution_count": 79,
   "id": "b434fc51-5417-4d6a-a33d-a15756c57f88",
   "metadata": {},
   "outputs": [],
   "source": [
    "X_train, X_test, y_train, y_test = train_test_split( \\\n",
    "    data_df.drop('price', axis=\"columns\"), data_df['price'],test_size=0.40)"
   ]
  },
  {
   "cell_type": "code",
   "execution_count": 84,
   "id": "f5005e6f-68ed-4cf9-b5ca-604246ce466e",
   "metadata": {},
   "outputs": [
    {
     "data": {
      "text/plain": [
       "0.5495568725114214"
      ]
     },
     "execution_count": 84,
     "metadata": {},
     "output_type": "execute_result"
    }
   ],
   "source": [
    "# Overfitting: Trainscore ist um einiges besser als Testscore. \n",
    "model = LinearRegression()\n",
    "model.fit(X_train, y_train)\n",
    "model.score(X_train, y_train)  # Teste mit Trainingset"
   ]
  },
  {
   "cell_type": "code",
   "execution_count": 85,
   "id": "bbdd611a-21b1-4ec4-b07d-40e37b22e16c",
   "metadata": {},
   "outputs": [
    {
     "data": {
      "text/plain": [
       "0.5252211734398953"
      ]
     },
     "execution_count": 85,
     "metadata": {},
     "output_type": "execute_result"
    }
   ],
   "source": [
    "model.score(X_test, y_test)  # Teste mit Testset"
   ]
  },
  {
   "cell_type": "code",
   "execution_count": 88,
   "id": "b0424914-3458-426e-b776-07071ddd5176",
   "metadata": {},
   "outputs": [
    {
     "data": {
      "text/plain": [
       "{'fit_intercept': True,\n",
       " 'copy_X': True,\n",
       " 'n_jobs': None,\n",
       " 'positive': False,\n",
       " 'feature_names_in_': array(['bedrooms', 'sqft_living', 'sqft_basement', 'yr_built'],\n",
       "       dtype=object),\n",
       " 'n_features_in_': 4,\n",
       " 'coef_': array([-6.16955387e+04,  3.57597536e+02, -3.12694442e+01, -2.72125903e+03]),\n",
       " 'rank_': 4,\n",
       " 'singular_': array([1.08843108e+05, 4.41744485e+04, 2.99308965e+03, 8.86184629e+01]),\n",
       " 'intercept_': 5377949.676913661}"
      ]
     },
     "execution_count": 88,
     "metadata": {},
     "output_type": "execute_result"
    }
   ],
   "source": [
    "# Zeige Model an.\n",
    "model.__dict__"
   ]
  },
  {
   "cell_type": "code",
   "execution_count": 107,
   "id": "0c6c88c7-f59c-4f77-b24a-ae1e24964a45",
   "metadata": {},
   "outputs": [],
   "source": [
    "model_lasso = Lasso(\n",
    "    alpha = 70,  # Lambda vor dem L1 Term.\n",
    ")"
   ]
  },
  {
   "cell_type": "code",
   "execution_count": 108,
   "id": "17e919c5-b4eb-4c19-b73b-c4b23d26e897",
   "metadata": {},
   "outputs": [
    {
     "data": {
      "text/plain": [
       "0.5495568725114214"
      ]
     },
     "execution_count": 108,
     "metadata": {},
     "output_type": "execute_result"
    }
   ],
   "source": [
    "model_lasso.fit(X_train, y_train)\n",
    "model.score(X_train, y_train)  # Teste mit Trainingset"
   ]
  },
  {
   "cell_type": "code",
   "execution_count": 109,
   "id": "9ad23f60-8aca-484f-8f7c-1839c13440b3",
   "metadata": {},
   "outputs": [
    {
     "data": {
      "text/plain": [
       "0.5252275844143669"
      ]
     },
     "execution_count": 109,
     "metadata": {},
     "output_type": "execute_result"
    }
   ],
   "source": [
    "model_lasso.score(X_test, y_test)  # Teste mit Testset"
   ]
  },
  {
   "cell_type": "code",
   "execution_count": 106,
   "id": "1195786c-d310-463a-acbb-6bf48d89ce30",
   "metadata": {
    "collapsed": true,
    "jupyter": {
     "outputs_hidden": true
    }
   },
   "outputs": [
    {
     "data": {
      "text/plain": [
       "{'alpha': 70,\n",
       " 'l1_ratio': 1.0,\n",
       " 'fit_intercept': True,\n",
       " 'precompute': False,\n",
       " 'max_iter': 1000,\n",
       " 'copy_X': True,\n",
       " 'tol': 0.1,\n",
       " 'warm_start': False,\n",
       " 'positive': False,\n",
       " 'random_state': None,\n",
       " 'selection': 'cyclic',\n",
       " 'feature_names_in_': array(['bedrooms', 'sqft_living', 'sqft_basement', 'yr_built'],\n",
       "       dtype=object),\n",
       " 'n_features_in_': 4,\n",
       " 'n_iter_': 10,\n",
       " 'coef_': array([-6.15592155e+04,  3.57519777e+02, -3.12829742e+01, -2.72108884e+03]),\n",
       " 'dual_gap_': 8876921374.187698,\n",
       " 'intercept_': 5377319.687146853}"
      ]
     },
     "execution_count": 106,
     "metadata": {},
     "output_type": "execute_result"
    }
   ],
   "source": [
    "model_lasso.__dict__"
   ]
  },
  {
   "cell_type": "code",
   "execution_count": null,
   "id": "2d7283f6-1ffe-4f5b-a6f8-157a96b1004b",
   "metadata": {},
   "outputs": [],
   "source": []
  },
  {
   "cell_type": "code",
   "execution_count": null,
   "id": "3a53326d-2329-474b-8347-34a82b36508e",
   "metadata": {},
   "outputs": [],
   "source": []
  },
  {
   "cell_type": "code",
   "execution_count": 110,
   "id": "fa0e6ed3-8f3d-4926-8c67-95517c89db3d",
   "metadata": {},
   "outputs": [],
   "source": [
    "model_ridge = Ridge(\n",
    "    alpha = 70  # Lambda vor dem L2 Term. \n",
    ")"
   ]
  },
  {
   "cell_type": "code",
   "execution_count": 111,
   "id": "f707cb53-f10a-488d-8cc3-79bbedfd4c27",
   "metadata": {},
   "outputs": [
    {
     "data": {
      "text/plain": [
       "0.5495556218890753"
      ]
     },
     "execution_count": 111,
     "metadata": {},
     "output_type": "execute_result"
    }
   ],
   "source": [
    "model_ridge.fit(X_train, y_train)\n",
    "model_ridge.score(X_train, y_train)  # Teste mit Trainingset"
   ]
  },
  {
   "cell_type": "code",
   "execution_count": 112,
   "id": "e1272888-5d0c-44ae-bd93-66e3b7878ed9",
   "metadata": {},
   "outputs": [
    {
     "data": {
      "text/plain": [
       "0.525247908973574"
      ]
     },
     "execution_count": 112,
     "metadata": {},
     "output_type": "execute_result"
    }
   ],
   "source": [
    "model_ridge.score(X_test, y_test)  # Teste mit Testset"
   ]
  }
 ],
 "metadata": {
  "kernelspec": {
   "display_name": "Python 3 (ipykernel)",
   "language": "python",
   "name": "python3"
  },
  "language_info": {
   "codemirror_mode": {
    "name": "ipython",
    "version": 3
   },
   "file_extension": ".py",
   "mimetype": "text/x-python",
   "name": "python",
   "nbconvert_exporter": "python",
   "pygments_lexer": "ipython3",
   "version": "3.9.19"
  }
 },
 "nbformat": 4,
 "nbformat_minor": 5
}
