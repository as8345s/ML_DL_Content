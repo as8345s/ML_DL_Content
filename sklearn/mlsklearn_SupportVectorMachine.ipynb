{
 "cells": [
  {
   "cell_type": "markdown",
   "id": "c079c841-91a9-4f3b-8f41-12b8735387e4",
   "metadata": {},
   "source": [
    "<h1>Support Vector Machines (SVM)</h1>"
   ]
  },
  {
   "cell_type": "markdown",
   "id": "315e7b75-418c-4e8f-b549-2bdd77d7b7aa",
   "metadata": {},
   "source": [
    "Bei einem überblickbaren Dataset wie in der Abbildung 1, ist das Ziel diese Datenpunkte zu unterscheiden.\n",
    "\n",
    "Die Boundary, die gezogen wird (in der Abbildung 1 ist es linear) soll diese Trennung vornehmen. Die Grenze kann dabei linear sein oder eine andere Form annehmen, welches konfigurierbar ist.\n",
    "\n",
    "Verschiedene Linien können passen, um die beste zu finden wird versucht Margin von nahen Datenpunkten zu maximieren. Dadurch ist genug Abstand da, um kommende Datenpunkte besser einzugruppieren. "
   ]
  },
  {
   "cell_type": "markdown",
   "id": "16317b50-6f65-4006-b9a7-7eccdfb7a29e",
   "metadata": {},
   "source": [
    "<i>Abb1</i>: SVM teilt die Gruppen ein und versucht Margin zu maximieren. \n",
    "\n",
    "<img src=\"./files_data/img/sklearn_svm_1.PNG\" width=500 hight=500>"
   ]
  },
  {
   "cell_type": "markdown",
   "id": "26a7ed48-e213-4992-8aa7-4bb9f02d31cd",
   "metadata": {},
   "source": [
    "In einem 2D Raum ist die Grenze eine Linie, im 3D Raum eine Ebene, und in höheren Dimensionen eine Hyperebene (Hyperplane)"
   ]
  },
  {
   "cell_type": "code",
   "execution_count": null,
   "id": "6cb2df94-3a4c-4461-a02f-b6d0e7571992",
   "metadata": {},
   "outputs": [],
   "source": []
  },
  {
   "cell_type": "code",
   "execution_count": null,
   "id": "ba678ef7-d14b-430c-8f04-2c9f12b43f85",
   "metadata": {},
   "outputs": [],
   "source": []
  },
  {
   "cell_type": "code",
   "execution_count": null,
   "id": "6663584d-97f3-4758-964b-dbb2b9a6c3ea",
   "metadata": {},
   "outputs": [],
   "source": []
  },
  {
   "cell_type": "code",
   "execution_count": null,
   "id": "83bc6cee-3586-49bd-a847-22cdf8e8fa82",
   "metadata": {},
   "outputs": [],
   "source": []
  },
  {
   "cell_type": "code",
   "execution_count": null,
   "id": "285c2e2c-8d6c-4276-9ab9-fe33f8b81b5e",
   "metadata": {},
   "outputs": [],
   "source": []
  },
  {
   "cell_type": "code",
   "execution_count": null,
   "id": "6925f232-b1b4-4592-8672-2cb39dec032e",
   "metadata": {},
   "outputs": [],
   "source": []
  },
  {
   "cell_type": "code",
   "execution_count": null,
   "id": "80e2db8f-2c45-45dc-865f-3839db2affd1",
   "metadata": {},
   "outputs": [],
   "source": []
  },
  {
   "cell_type": "code",
   "execution_count": null,
   "id": "30226ec1-1c27-4f32-b3e2-4941ae83931f",
   "metadata": {},
   "outputs": [],
   "source": []
  }
 ],
 "metadata": {
  "kernelspec": {
   "display_name": "Python 3 (ipykernel)",
   "language": "python",
   "name": "python3"
  },
  "language_info": {
   "codemirror_mode": {
    "name": "ipython",
    "version": 3
   },
   "file_extension": ".py",
   "mimetype": "text/x-python",
   "name": "python",
   "nbconvert_exporter": "python",
   "pygments_lexer": "ipython3",
   "version": "3.9.18"
  }
 },
 "nbformat": 4,
 "nbformat_minor": 5
}
