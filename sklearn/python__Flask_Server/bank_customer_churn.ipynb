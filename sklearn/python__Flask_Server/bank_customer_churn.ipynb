{
 "cells": [
  {
   "cell_type": "markdown",
   "id": "191390a8-7cc7-4b5a-a1ed-40076ccd0c9c",
   "metadata": {},
   "source": [
    "<h1>Customer Churn</h1>"
   ]
  },
  {
   "cell_type": "markdown",
   "id": "76101f67-8b9f-4983-831c-474c0e0f0859",
   "metadata": {},
   "source": [
    "Hier wird es darum gehen, ob Kunden bei bestimmten Bedingungen ehe dazu neigen, die Bank zu verlassen.\n",
    "\n",
    "Es werden einige Visualisierungen gezeigt und die Daten werden bereinigt. Später soll das Model mit Flask verfügbar gemacht werden."
   ]
  },
  {
   "cell_type": "markdown",
   "id": "63811fbf-2a23-4ad1-bc4f-a7287974a6f6",
   "metadata": {},
   "source": [
    "Dataset:\n",
    "\n",
    "> Bank Customer Churn Dataset: https://www.kaggle.com/datasets/gauravtopre/bank-customer-churn-dataset [Letzter Zugriff: 03.07.2024]"
   ]
  },
  {
   "cell_type": "code",
   "execution_count": 77,
   "id": "8dfe27d0-bb87-459b-8825-5eb2e8ead089",
   "metadata": {},
   "outputs": [],
   "source": [
    "# Imports.\n",
    "import pandas  as pd\n",
    "import numpy   as np\n",
    "import seaborn as sn\n",
    "\n",
    "import matplotlib.pyplot as plt\n",
    "\n",
    "from sklearn.preprocessing   import MinMaxScaler\n",
    "from sklearn.model_selection import train_test_split\n",
    "from sklearn.model_selection import GridSearchCV\n",
    "\n",
    "from sklearn.linear_model import LogisticRegression\n",
    "from sklearn.ensemble     import RandomForestClassifier\n",
    "from sklearn.svm          import SVC\n",
    "\n",
    "from sklearn.metrics import classification_report\n",
    "from sklearn.metrics import confusion_matrix\n",
    "\n",
    "from imblearn.over_sampling import SMOTE\n",
    "\n",
    "import pickle"
   ]
  },
  {
   "cell_type": "markdown",
   "id": "704beb81-5acc-455a-ac42-38460f555225",
   "metadata": {},
   "source": [
    "<h2>Explore</h2>"
   ]
  },
  {
   "cell_type": "code",
   "execution_count": 2,
   "id": "0e1da979-0668-441d-b266-fec8e8d1124b",
   "metadata": {},
   "outputs": [
    {
     "data": {
      "text/html": [
       "<div>\n",
       "<style scoped>\n",
       "    .dataframe tbody tr th:only-of-type {\n",
       "        vertical-align: middle;\n",
       "    }\n",
       "\n",
       "    .dataframe tbody tr th {\n",
       "        vertical-align: top;\n",
       "    }\n",
       "\n",
       "    .dataframe thead th {\n",
       "        text-align: right;\n",
       "    }\n",
       "</style>\n",
       "<table border=\"1\" class=\"dataframe\">\n",
       "  <thead>\n",
       "    <tr style=\"text-align: right;\">\n",
       "      <th></th>\n",
       "      <th>customer_id</th>\n",
       "      <th>credit_score</th>\n",
       "      <th>country</th>\n",
       "      <th>gender</th>\n",
       "      <th>age</th>\n",
       "      <th>tenure</th>\n",
       "      <th>balance</th>\n",
       "      <th>products_number</th>\n",
       "      <th>credit_card</th>\n",
       "      <th>active_member</th>\n",
       "      <th>estimated_salary</th>\n",
       "      <th>churn</th>\n",
       "    </tr>\n",
       "  </thead>\n",
       "  <tbody>\n",
       "    <tr>\n",
       "      <th>0</th>\n",
       "      <td>15634602</td>\n",
       "      <td>619</td>\n",
       "      <td>France</td>\n",
       "      <td>Female</td>\n",
       "      <td>42</td>\n",
       "      <td>2</td>\n",
       "      <td>0.00</td>\n",
       "      <td>1</td>\n",
       "      <td>1</td>\n",
       "      <td>1</td>\n",
       "      <td>101348.88</td>\n",
       "      <td>1</td>\n",
       "    </tr>\n",
       "    <tr>\n",
       "      <th>1</th>\n",
       "      <td>15647311</td>\n",
       "      <td>608</td>\n",
       "      <td>Spain</td>\n",
       "      <td>Female</td>\n",
       "      <td>41</td>\n",
       "      <td>1</td>\n",
       "      <td>83807.86</td>\n",
       "      <td>1</td>\n",
       "      <td>0</td>\n",
       "      <td>1</td>\n",
       "      <td>112542.58</td>\n",
       "      <td>0</td>\n",
       "    </tr>\n",
       "    <tr>\n",
       "      <th>2</th>\n",
       "      <td>15619304</td>\n",
       "      <td>502</td>\n",
       "      <td>France</td>\n",
       "      <td>Female</td>\n",
       "      <td>42</td>\n",
       "      <td>8</td>\n",
       "      <td>159660.80</td>\n",
       "      <td>3</td>\n",
       "      <td>1</td>\n",
       "      <td>0</td>\n",
       "      <td>113931.57</td>\n",
       "      <td>1</td>\n",
       "    </tr>\n",
       "    <tr>\n",
       "      <th>3</th>\n",
       "      <td>15701354</td>\n",
       "      <td>699</td>\n",
       "      <td>France</td>\n",
       "      <td>Female</td>\n",
       "      <td>39</td>\n",
       "      <td>1</td>\n",
       "      <td>0.00</td>\n",
       "      <td>2</td>\n",
       "      <td>0</td>\n",
       "      <td>0</td>\n",
       "      <td>93826.63</td>\n",
       "      <td>0</td>\n",
       "    </tr>\n",
       "    <tr>\n",
       "      <th>4</th>\n",
       "      <td>15737888</td>\n",
       "      <td>850</td>\n",
       "      <td>Spain</td>\n",
       "      <td>Female</td>\n",
       "      <td>43</td>\n",
       "      <td>2</td>\n",
       "      <td>125510.82</td>\n",
       "      <td>1</td>\n",
       "      <td>1</td>\n",
       "      <td>1</td>\n",
       "      <td>79084.10</td>\n",
       "      <td>0</td>\n",
       "    </tr>\n",
       "  </tbody>\n",
       "</table>\n",
       "</div>"
      ],
      "text/plain": [
       "   customer_id  credit_score country  gender  age  tenure    balance  \\\n",
       "0     15634602           619  France  Female   42       2       0.00   \n",
       "1     15647311           608   Spain  Female   41       1   83807.86   \n",
       "2     15619304           502  France  Female   42       8  159660.80   \n",
       "3     15701354           699  France  Female   39       1       0.00   \n",
       "4     15737888           850   Spain  Female   43       2  125510.82   \n",
       "\n",
       "   products_number  credit_card  active_member  estimated_salary  churn  \n",
       "0                1            1              1         101348.88      1  \n",
       "1                1            0              1         112542.58      0  \n",
       "2                3            1              0         113931.57      1  \n",
       "3                2            0              0          93826.63      0  \n",
       "4                1            1              1          79084.10      0  "
      ]
     },
     "execution_count": 2,
     "metadata": {},
     "output_type": "execute_result"
    }
   ],
   "source": [
    "# Lade CSV.\n",
    "churn_df = pd.read_csv('./data/archive.zip', compression='zip')\n",
    "churn_df.head()"
   ]
  },
  {
   "cell_type": "code",
   "execution_count": 3,
   "id": "3d124966-bd68-4d5a-8290-0e1c632a8af6",
   "metadata": {},
   "outputs": [
    {
     "data": {
      "text/plain": [
       "(10000, 12)"
      ]
     },
     "execution_count": 3,
     "metadata": {},
     "output_type": "execute_result"
    }
   ],
   "source": [
    "# 12 Features und 10.000 Einträge.\n",
    "churn_df.shape"
   ]
  },
  {
   "cell_type": "code",
   "execution_count": 4,
   "id": "988618f8-bc4b-4fb7-9d9c-75012569e195",
   "metadata": {},
   "outputs": [
    {
     "data": {
      "text/plain": [
       "customer_id           int64\n",
       "credit_score          int64\n",
       "country              object\n",
       "gender               object\n",
       "age                   int64\n",
       "tenure                int64\n",
       "balance             float64\n",
       "products_number       int64\n",
       "credit_card           int64\n",
       "active_member         int64\n",
       "estimated_salary    float64\n",
       "churn                 int64\n",
       "dtype: object"
      ]
     },
     "execution_count": 4,
     "metadata": {},
     "output_type": "execute_result"
    }
   ],
   "source": [
    "churn_df.dtypes"
   ]
  },
  {
   "cell_type": "markdown",
   "id": "7f93729a-c4f6-4ea0-a4aa-4bea2e49d454",
   "metadata": {},
   "source": [
    "Die meisten Features sind schon numerisch. <br>\n",
    "Das Feature \"customer_id\" liefert uns keinen Mehrwert, also wird es gedropt. "
   ]
  },
  {
   "cell_type": "code",
   "execution_count": 5,
   "id": "9bd1b7ba-bf4d-4fbc-a0ef-1d9ba6587eb1",
   "metadata": {},
   "outputs": [
    {
     "data": {
      "text/html": [
       "<div>\n",
       "<style scoped>\n",
       "    .dataframe tbody tr th:only-of-type {\n",
       "        vertical-align: middle;\n",
       "    }\n",
       "\n",
       "    .dataframe tbody tr th {\n",
       "        vertical-align: top;\n",
       "    }\n",
       "\n",
       "    .dataframe thead th {\n",
       "        text-align: right;\n",
       "    }\n",
       "</style>\n",
       "<table border=\"1\" class=\"dataframe\">\n",
       "  <thead>\n",
       "    <tr style=\"text-align: right;\">\n",
       "      <th></th>\n",
       "      <th>credit_score</th>\n",
       "      <th>country</th>\n",
       "      <th>gender</th>\n",
       "      <th>age</th>\n",
       "      <th>tenure</th>\n",
       "      <th>balance</th>\n",
       "      <th>products_number</th>\n",
       "      <th>credit_card</th>\n",
       "      <th>active_member</th>\n",
       "      <th>estimated_salary</th>\n",
       "      <th>churn</th>\n",
       "    </tr>\n",
       "  </thead>\n",
       "  <tbody>\n",
       "    <tr>\n",
       "      <th>0</th>\n",
       "      <td>619</td>\n",
       "      <td>France</td>\n",
       "      <td>Female</td>\n",
       "      <td>42</td>\n",
       "      <td>2</td>\n",
       "      <td>0.00</td>\n",
       "      <td>1</td>\n",
       "      <td>1</td>\n",
       "      <td>1</td>\n",
       "      <td>101348.88</td>\n",
       "      <td>1</td>\n",
       "    </tr>\n",
       "    <tr>\n",
       "      <th>1</th>\n",
       "      <td>608</td>\n",
       "      <td>Spain</td>\n",
       "      <td>Female</td>\n",
       "      <td>41</td>\n",
       "      <td>1</td>\n",
       "      <td>83807.86</td>\n",
       "      <td>1</td>\n",
       "      <td>0</td>\n",
       "      <td>1</td>\n",
       "      <td>112542.58</td>\n",
       "      <td>0</td>\n",
       "    </tr>\n",
       "  </tbody>\n",
       "</table>\n",
       "</div>"
      ],
      "text/plain": [
       "   credit_score country  gender  age  tenure   balance  products_number  \\\n",
       "0           619  France  Female   42       2      0.00                1   \n",
       "1           608   Spain  Female   41       1  83807.86                1   \n",
       "\n",
       "   credit_card  active_member  estimated_salary  churn  \n",
       "0            1              1         101348.88      1  \n",
       "1            0              1         112542.58      0  "
      ]
     },
     "execution_count": 5,
     "metadata": {},
     "output_type": "execute_result"
    }
   ],
   "source": [
    "churn_df.drop(['customer_id'], axis='columns', inplace=True)\n",
    "churn_df.head(2)"
   ]
  },
  {
   "cell_type": "code",
   "execution_count": 6,
   "id": "1b77647e-18f9-4b67-a479-223198cd97cf",
   "metadata": {},
   "outputs": [
    {
     "name": "stdout",
     "output_type": "stream",
     "text": [
      "active_member:\n",
      "[1 0]\n",
      "churn:\n",
      "[1 0]\n",
      "country:\n",
      "['France' 'Spain' 'Germany']\n",
      "credit_card:\n",
      "[1 0]\n",
      "gender:\n",
      "['Female' 'Male']\n",
      "products_number:\n",
      "[1 3 2 4]\n",
      "tenure:\n",
      "[ 2  1  8  7  4  6  3 10  5  9  0]\n"
     ]
    }
   ],
   "source": [
    "# Nutze unique(), um Werte von bestimmten Spalten anzuzeigen. \n",
    "# - np.setdiff1d: löscht Einträge die wir nicht brauchen.\n",
    "for col in np.setdiff1d(churn_df.columns, ['age', 'balance', 'balance', 'estimated_salary', 'credit_score']):\n",
    "    print(f'{col}:')\n",
    "    print(churn_df[col].unique())"
   ]
  },
  {
   "cell_type": "code",
   "execution_count": 7,
   "id": "15996281-3170-434f-be28-dfe42edf703c",
   "metadata": {},
   "outputs": [
    {
     "data": {
      "text/plain": [
       "credit_score        0\n",
       "country             0\n",
       "gender              0\n",
       "age                 0\n",
       "tenure              0\n",
       "balance             0\n",
       "products_number     0\n",
       "credit_card         0\n",
       "active_member       0\n",
       "estimated_salary    0\n",
       "churn               0\n",
       "dtype: int64"
      ]
     },
     "execution_count": 7,
     "metadata": {},
     "output_type": "execute_result"
    }
   ],
   "source": [
    "churn_df.isnull().sum()"
   ]
  },
  {
   "cell_type": "markdown",
   "id": "c26f82de-279e-442c-8cc5-c2adda94bd28",
   "metadata": {},
   "source": [
    "Als Nächstes müssen die nicht-numerischen Features codiert werden. "
   ]
  },
  {
   "cell_type": "code",
   "execution_count": 8,
   "id": "b9d6e76a-888a-493b-96db-f25fe8530932",
   "metadata": {},
   "outputs": [
    {
     "name": "stderr",
     "output_type": "stream",
     "text": [
      "C:\\Users\\Alexander\\AppData\\Local\\Temp\\ipykernel_22964\\1410523213.py:5: FutureWarning: Downcasting behavior in `replace` is deprecated and will be removed in a future version. To retain the old behavior, explicitly call `result.infer_objects(copy=False)`. To opt-in to the future behavior, set `pd.set_option('future.no_silent_downcasting', True)`\n",
      "  churn_df.replace(target, replace, inplace=True)\n"
     ]
    },
    {
     "data": {
      "text/plain": [
       "array([0, 1, 0, ..., 0, 2, 0], dtype=int64)"
      ]
     },
     "execution_count": 8,
     "metadata": {},
     "output_type": "execute_result"
    }
   ],
   "source": [
    "target   = ['France', 'Spain', 'Germany'] \n",
    "ersetzen = [0, 1, 2]\n",
    "\n",
    "for target, replace in zip(target, ersetzen):\n",
    "    churn_df.replace(target, replace, inplace=True)\n",
    "\n",
    "churn_df['country'].values"
   ]
  },
  {
   "cell_type": "code",
   "execution_count": 9,
   "id": "833ef154-8f16-4d23-a68e-b6e721cd458c",
   "metadata": {},
   "outputs": [
    {
     "data": {
      "text/html": [
       "<div>\n",
       "<style scoped>\n",
       "    .dataframe tbody tr th:only-of-type {\n",
       "        vertical-align: middle;\n",
       "    }\n",
       "\n",
       "    .dataframe tbody tr th {\n",
       "        vertical-align: top;\n",
       "    }\n",
       "\n",
       "    .dataframe thead th {\n",
       "        text-align: right;\n",
       "    }\n",
       "</style>\n",
       "<table border=\"1\" class=\"dataframe\">\n",
       "  <thead>\n",
       "    <tr style=\"text-align: right;\">\n",
       "      <th></th>\n",
       "      <th>credit_score</th>\n",
       "      <th>country</th>\n",
       "      <th>gender</th>\n",
       "      <th>age</th>\n",
       "      <th>tenure</th>\n",
       "      <th>balance</th>\n",
       "      <th>products_number</th>\n",
       "      <th>credit_card</th>\n",
       "      <th>active_member</th>\n",
       "      <th>estimated_salary</th>\n",
       "      <th>churn</th>\n",
       "    </tr>\n",
       "  </thead>\n",
       "  <tbody>\n",
       "    <tr>\n",
       "      <th>0</th>\n",
       "      <td>619</td>\n",
       "      <td>0</td>\n",
       "      <td>0</td>\n",
       "      <td>42</td>\n",
       "      <td>2</td>\n",
       "      <td>0.00</td>\n",
       "      <td>1</td>\n",
       "      <td>1</td>\n",
       "      <td>1</td>\n",
       "      <td>101348.88</td>\n",
       "      <td>1</td>\n",
       "    </tr>\n",
       "    <tr>\n",
       "      <th>1</th>\n",
       "      <td>608</td>\n",
       "      <td>1</td>\n",
       "      <td>0</td>\n",
       "      <td>41</td>\n",
       "      <td>1</td>\n",
       "      <td>83807.86</td>\n",
       "      <td>1</td>\n",
       "      <td>0</td>\n",
       "      <td>1</td>\n",
       "      <td>112542.58</td>\n",
       "      <td>0</td>\n",
       "    </tr>\n",
       "    <tr>\n",
       "      <th>2</th>\n",
       "      <td>502</td>\n",
       "      <td>0</td>\n",
       "      <td>0</td>\n",
       "      <td>42</td>\n",
       "      <td>8</td>\n",
       "      <td>159660.80</td>\n",
       "      <td>3</td>\n",
       "      <td>1</td>\n",
       "      <td>0</td>\n",
       "      <td>113931.57</td>\n",
       "      <td>1</td>\n",
       "    </tr>\n",
       "    <tr>\n",
       "      <th>3</th>\n",
       "      <td>699</td>\n",
       "      <td>0</td>\n",
       "      <td>0</td>\n",
       "      <td>39</td>\n",
       "      <td>1</td>\n",
       "      <td>0.00</td>\n",
       "      <td>2</td>\n",
       "      <td>0</td>\n",
       "      <td>0</td>\n",
       "      <td>93826.63</td>\n",
       "      <td>0</td>\n",
       "    </tr>\n",
       "    <tr>\n",
       "      <th>4</th>\n",
       "      <td>850</td>\n",
       "      <td>1</td>\n",
       "      <td>0</td>\n",
       "      <td>43</td>\n",
       "      <td>2</td>\n",
       "      <td>125510.82</td>\n",
       "      <td>1</td>\n",
       "      <td>1</td>\n",
       "      <td>1</td>\n",
       "      <td>79084.10</td>\n",
       "      <td>0</td>\n",
       "    </tr>\n",
       "  </tbody>\n",
       "</table>\n",
       "</div>"
      ],
      "text/plain": [
       "   credit_score  country  gender  age  tenure    balance  products_number  \\\n",
       "0           619        0       0   42       2       0.00                1   \n",
       "1           608        1       0   41       1   83807.86                1   \n",
       "2           502        0       0   42       8  159660.80                3   \n",
       "3           699        0       0   39       1       0.00                2   \n",
       "4           850        1       0   43       2  125510.82                1   \n",
       "\n",
       "   credit_card  active_member  estimated_salary  churn  \n",
       "0            1              1         101348.88      1  \n",
       "1            0              1         112542.58      0  \n",
       "2            1              0         113931.57      1  \n",
       "3            0              0          93826.63      0  \n",
       "4            1              1          79084.10      0  "
      ]
     },
     "execution_count": 9,
     "metadata": {},
     "output_type": "execute_result"
    }
   ],
   "source": [
    "# On-Hot Encode Gender\n",
    "churn_df['gender'] = pd.get_dummies(churn_df['gender'], drop_first=True, dtype='int')\n",
    "# Female: 0, Male: 1\n",
    "churn_df.head()"
   ]
  },
  {
   "cell_type": "code",
   "execution_count": 10,
   "id": "6ade3bc2-23f8-4d26-ba27-08b9813fc321",
   "metadata": {},
   "outputs": [
    {
     "data": {
      "text/plain": [
       "credit_score          int64\n",
       "country               int64\n",
       "gender                int32\n",
       "age                   int64\n",
       "tenure                int64\n",
       "balance             float64\n",
       "products_number       int64\n",
       "credit_card           int64\n",
       "active_member         int64\n",
       "estimated_salary    float64\n",
       "churn                 int64\n",
       "dtype: object"
      ]
     },
     "execution_count": 10,
     "metadata": {},
     "output_type": "execute_result"
    }
   ],
   "source": [
    "churn_df.dtypes"
   ]
  },
  {
   "cell_type": "code",
   "execution_count": 11,
   "id": "1f40f2c6-c866-4bac-b09d-93752312156e",
   "metadata": {},
   "outputs": [
    {
     "data": {
      "text/plain": [
       "<matplotlib.legend.Legend at 0x20ffccbc2b0>"
      ]
     },
     "execution_count": 11,
     "metadata": {},
     "output_type": "execute_result"
    },
    {
     "data": {
      "image/png": "[encoded data removed]",
      "text/plain": [
       "<Figure size 640x480 with 1 Axes>"
      ]
     },
     "metadata": {},
     "output_type": "display_data"
    }
   ],
   "source": [
    "# tenure: Wie lange ist diese Person ein Kunde gewesen?\n",
    "# - In Jahren, siehe Dataset Beschreibung.\n",
    "\n",
    "plt.title(\"Tenure Count\")\n",
    "plt.xlabel('Tenure')\n",
    "plt.ylabel('Count')\n",
    "plt.hist([ churn_df[churn_df['churn']==1].tenure, churn_df[churn_df['churn']==0].tenure ], \\\n",
    "        color=['lightcoral', 'yellowgreen'],  label=['gegangen', 'geblieben'])\n",
    "plt.legend()"
   ]
  },
  {
   "cell_type": "code",
   "execution_count": 12,
   "id": "db95340e-4318-48f5-8069-3e301f5de197",
   "metadata": {},
   "outputs": [
    {
     "data": {
      "text/plain": [
       "churn\n",
       "0    7963\n",
       "1    2037\n",
       "Name: count, dtype: int64"
      ]
     },
     "execution_count": 12,
     "metadata": {},
     "output_type": "execute_result"
    }
   ],
   "source": [
    "# Sind die Klassen ausgeglichen? \n",
    "churn_df['churn'].value_counts()"
   ]
  },
  {
   "cell_type": "code",
   "execution_count": 13,
   "id": "f5fa0c54-4a5a-4f29-bb29-b892c8beaec6",
   "metadata": {},
   "outputs": [
    {
     "name": "stderr",
     "output_type": "stream",
     "text": [
      "C:\\Users\\Alexander\\anaconda3\\lib\\site-packages\\seaborn\\_oldcore.py:1119: FutureWarning: use_inf_as_na option is deprecated and will be removed in a future version. Convert inf values to NaN before operating instead.\n",
      "  with pd.option_context('mode.use_inf_as_na', True):\n"
     ]
    },
    {
     "data": {
      "text/plain": [
       "<Axes: xlabel='age', ylabel='Count'>"
      ]
     },
     "execution_count": 13,
     "metadata": {},
     "output_type": "execute_result"
    },
    {
     "data": {
      "image/png": "[encoded data removed]",
      "text/plain": [
       "<Figure size 640x480 with 1 Axes>"
      ]
     },
     "metadata": {},
     "output_type": "display_data"
    }
   ],
   "source": [
    "# Wie ist das Alter aufgeteilt? \n",
    "sn.histplot(churn_df['age'])"
   ]
  },
  {
   "cell_type": "markdown",
   "id": "f9b4f538-5381-46c3-b59a-198f0f9b9a14",
   "metadata": {},
   "source": [
    "Customer Churn Datasets sind meist unbalanciert. Später werden wir es mit einer Methode balancieren."
   ]
  },
  {
   "cell_type": "code",
   "execution_count": 14,
   "id": "50c17142-84f2-4a16-9ed1-5afd18d5718b",
   "metadata": {},
   "outputs": [
    {
     "data": {
      "text/plain": [
       "<matplotlib.legend.Legend at 0x20ffd722eb0>"
      ]
     },
     "execution_count": 14,
     "metadata": {},
     "output_type": "execute_result"
    },
    {
     "data": {
      "image/png": "[encoded data removed]",
      "text/plain": [
       "<Figure size 640x480 with 1 Axes>"
      ]
     },
     "metadata": {},
     "output_type": "display_data"
    }
   ],
   "source": [
    "# Age zu Churn.\n",
    "\n",
    "# Wie viele sind im Alter gegangen?\n",
    "plt.title(\"Age to Churn\")\n",
    "plt.xlabel(\"Age\")\n",
    "plt.ylabel('Churn')\n",
    "\n",
    "churn_yes = churn_df[['age', 'churn']].loc[churn_df['churn']==1].groupby('age')['churn'].value_counts().unstack(fill_value=0)\n",
    "churn_no = churn_df[['age', 'churn']].loc[churn_df['churn']==0].groupby('age')['churn'].value_counts().unstack(fill_value=0)\n",
    "plt.bar(churn_no.index,  churn_no[0],   label='Churn No',  color=\"yellowgreen\")\n",
    "plt.bar(churn_yes.index, churn_yes[1],  label='Churn Yes', color=\"lightcoral\")\n",
    "plt.legend()"
   ]
  },
  {
   "cell_type": "markdown",
   "id": "741dd1b4-d926-4553-8cfb-06558cf3377f",
   "metadata": {},
   "source": [
    "Auf diesem Plot sieht man, dass das Alter der Personen hauptsächlich in dem Bereich 25 bis 60 liegt. Die jüngeren Leute bleiben eher und ab dem Alter von 35 steigt die Anzahl der die Gehen. Ab da könnte man diesen Leuten Angebote unterbreiten, um diese zum Bleiben anzuregen.\n",
    "\n",
    "Man sieht auch einige Wucherungen nach rechts, wo es wenig Daten gibt. Weit rechts stehende Werte sind Outlier."
   ]
  },
  {
   "cell_type": "code",
   "execution_count": 15,
   "id": "3355eb14-b805-46e2-a339-7ad161dc515b",
   "metadata": {},
   "outputs": [
    {
     "data": {
      "image/png": "[encoded data removed]",
      "text/plain": [
       "<Figure size 1800x600 with 3 Axes>"
      ]
     },
     "metadata": {},
     "output_type": "display_data"
    }
   ],
   "source": [
    "## Plot: Age to Churn gruppiert nach Ländern. \n",
    "country = ['France', 'Spain', 'Germany'] \n",
    "\n",
    "fig, axs = plt.subplots(1,3, figsize=(18, 6))\n",
    "axs = axs.ravel()\n",
    "\n",
    "for i in range(3):\n",
    "    churn_no  = churn_df[['age', 'churn', 'country']].loc[(churn_df['churn']==0) & (churn_df['country']==i) ].groupby('age')['churn'].value_counts().unstack(fill_value=0)\n",
    "    churn_yes = churn_df[['age', 'churn', 'country']].loc[(churn_df['churn']==1) & (churn_df['country']==i) ].groupby('age')['churn'].value_counts().unstack(fill_value=0)\n",
    "    axs[i].set_title(\"Age to Churn\")\n",
    "    axs[i].set_xlabel('Age')\n",
    "    axs[i].set_ylabel('Churn')\n",
    "    axs[i].set_ylim(0, 250)\n",
    "    axs[i].bar(churn_no.index,  churn_no[0],    label='Churn No',  color=\"yellowgreen\")\n",
    "    axs[i].bar(churn_yes.index,  churn_yes[1],  label='Churn Yes', color=\"lightcoral\")\n",
    "    axs[i].legend(title=country[i])"
   ]
  },
  {
   "cell_type": "markdown",
   "id": "841855ec-7d92-4165-a188-910b92f8858f",
   "metadata": {},
   "source": [
    "Durch das Spezifizieren der Länder kann untersucht werden, welche Gegebenheiten dazu führen, dass Leute bleiben oder gehen. Das ist wichtig, da in jedem Land andere Regeln gelten und Menschen sich anders verhalten mögen, doch gibt es Ähnlichkeiten."
   ]
  },
  {
   "cell_type": "code",
   "execution_count": 16,
   "id": "a25a30a2-00d5-4622-88ff-7d59b3ac6fd4",
   "metadata": {},
   "outputs": [
    {
     "data": {
      "image/png": "[encoded data removed]",
      "text/plain": [
       "<Figure size 1400x500 with 3 Axes>"
      ]
     },
     "metadata": {},
     "output_type": "display_data"
    }
   ],
   "source": [
    "## Plot: Übersicht als Piechart. \n",
    "fig, axs = plt.subplots(1,3, figsize=(14, 5))\n",
    "fig.tight_layout(pad=5.0)\n",
    "axs = axs.ravel()\n",
    "\n",
    "def func(pct, allvals):\n",
    "    absolute = int(np.round(pct/100.*np.sum(allvals)))\n",
    "    return f\"{pct:.1f}%\\n({absolute:d})\"\n",
    "\n",
    "for i in range(3):\n",
    "    churn_no  = churn_df[['churn', 'country']].loc[(churn_df['churn']==0) & (churn_df['country']==i) ].groupby('country').value_counts().unstack(fill_value=0)\n",
    "    churn_yes = churn_df[['churn', 'country']].loc[(churn_df['churn']==1) & (churn_df['country']==i) ].groupby('country').value_counts().unstack(fill_value=0)\n",
    "    axs[i].set_title(country[i])\n",
    "    axs[i].pie([np.sum( churn_no[0].values ), np.sum( churn_yes[1].values )],\\\n",
    "               startangle=90, colors=[\"yellowgreen\", 'lightcoral'], labels=['Churn NO', 'Churn Yes'], autopct=lambda pct: func(pct, np.sum( churn_no[0].values ) + np.sum( churn_yes[1].values )))\n",
    "    axs[i].axis('equal')"
   ]
  },
  {
   "cell_type": "code",
   "execution_count": 17,
   "id": "497ce1e0-68e7-4c22-9354-e872bdceb9a6",
   "metadata": {},
   "outputs": [
    {
     "data": {
      "text/plain": [
       "([<matplotlib.patches.Wedge at 0x20ffe058130>,\n",
       "  <matplotlib.patches.Wedge at 0x20ffe030df0>],\n",
       " [Text(-0.6568642010431011, -0.8823431426537006, 'Churn NO'),\n",
       "  Text(0.6568642010431012, 0.8823431426537006, 'Churn Yes')],\n",
       " [Text(-0.3582895642053278, -0.4812780778111093, '79.6%\\n(7963)'),\n",
       "  Text(0.35828956420532787, 0.4812780778111093, '20.4%\\n(2037)')])"
      ]
     },
     "execution_count": 17,
     "metadata": {},
     "output_type": "execute_result"
    },
    {
     "data": {
      "image/png": "[encoded data removed]",
      "text/plain": [
       "<Figure size 1400x500 with 1 Axes>"
      ]
     },
     "metadata": {},
     "output_type": "display_data"
    }
   ],
   "source": [
    "## Plot: Gesamtüberblick.\n",
    "plt.figure(figsize=(14, 5))\n",
    "  \n",
    "churn_no  = churn_df['churn'].value_counts()[0]\n",
    "churn_yes = churn_df['churn'].value_counts()[1]\n",
    "plt.title(\"Gesamtübersicht\")\n",
    "plt.pie([churn_no, churn_yes],\\\n",
    "               startangle=90, colors=[\"yellowgreen\",'lightcoral'], labels=['Churn NO', 'Churn Yes'], autopct=lambda pct: func(pct, churn_no + churn_yes))\n",
    "    "
   ]
  },
  {
   "cell_type": "markdown",
   "id": "a45ce289-744a-4225-b869-72b8335ac229",
   "metadata": {},
   "source": [
    "Wir können uns weitere Einzelheiten anschauen."
   ]
  },
  {
   "cell_type": "code",
   "execution_count": 18,
   "id": "4e3b7a9f-1f0d-4d82-91a7-403585cffba0",
   "metadata": {},
   "outputs": [
    {
     "data": {
      "text/html": [
       "<div>\n",
       "<style scoped>\n",
       "    .dataframe tbody tr th:only-of-type {\n",
       "        vertical-align: middle;\n",
       "    }\n",
       "\n",
       "    .dataframe tbody tr th {\n",
       "        vertical-align: top;\n",
       "    }\n",
       "\n",
       "    .dataframe thead th {\n",
       "        text-align: right;\n",
       "    }\n",
       "</style>\n",
       "<table border=\"1\" class=\"dataframe\">\n",
       "  <thead>\n",
       "    <tr style=\"text-align: right;\">\n",
       "      <th></th>\n",
       "      <th>credit_score</th>\n",
       "      <th>country</th>\n",
       "      <th>gender</th>\n",
       "      <th>age</th>\n",
       "      <th>tenure</th>\n",
       "      <th>balance</th>\n",
       "      <th>products_number</th>\n",
       "      <th>credit_card</th>\n",
       "      <th>active_member</th>\n",
       "      <th>estimated_salary</th>\n",
       "      <th>churn</th>\n",
       "    </tr>\n",
       "  </thead>\n",
       "  <tbody>\n",
       "    <tr>\n",
       "      <th>count</th>\n",
       "      <td>10000.000000</td>\n",
       "      <td>10000.000000</td>\n",
       "      <td>10000.000000</td>\n",
       "      <td>10000.000000</td>\n",
       "      <td>10000.000000</td>\n",
       "      <td>10000.000000</td>\n",
       "      <td>10000.000000</td>\n",
       "      <td>10000.00000</td>\n",
       "      <td>10000.000000</td>\n",
       "      <td>10000.000000</td>\n",
       "      <td>10000.000000</td>\n",
       "    </tr>\n",
       "    <tr>\n",
       "      <th>mean</th>\n",
       "      <td>650.528800</td>\n",
       "      <td>0.749500</td>\n",
       "      <td>0.545700</td>\n",
       "      <td>38.921800</td>\n",
       "      <td>5.012800</td>\n",
       "      <td>76485.889288</td>\n",
       "      <td>1.530200</td>\n",
       "      <td>0.70550</td>\n",
       "      <td>0.515100</td>\n",
       "      <td>100090.239881</td>\n",
       "      <td>0.203700</td>\n",
       "    </tr>\n",
       "    <tr>\n",
       "      <th>std</th>\n",
       "      <td>96.653299</td>\n",
       "      <td>0.830433</td>\n",
       "      <td>0.497932</td>\n",
       "      <td>10.487806</td>\n",
       "      <td>2.892174</td>\n",
       "      <td>62397.405202</td>\n",
       "      <td>0.581654</td>\n",
       "      <td>0.45584</td>\n",
       "      <td>0.499797</td>\n",
       "      <td>57510.492818</td>\n",
       "      <td>0.402769</td>\n",
       "    </tr>\n",
       "    <tr>\n",
       "      <th>min</th>\n",
       "      <td>350.000000</td>\n",
       "      <td>0.000000</td>\n",
       "      <td>0.000000</td>\n",
       "      <td>18.000000</td>\n",
       "      <td>0.000000</td>\n",
       "      <td>0.000000</td>\n",
       "      <td>1.000000</td>\n",
       "      <td>0.00000</td>\n",
       "      <td>0.000000</td>\n",
       "      <td>11.580000</td>\n",
       "      <td>0.000000</td>\n",
       "    </tr>\n",
       "    <tr>\n",
       "      <th>25%</th>\n",
       "      <td>584.000000</td>\n",
       "      <td>0.000000</td>\n",
       "      <td>0.000000</td>\n",
       "      <td>32.000000</td>\n",
       "      <td>3.000000</td>\n",
       "      <td>0.000000</td>\n",
       "      <td>1.000000</td>\n",
       "      <td>0.00000</td>\n",
       "      <td>0.000000</td>\n",
       "      <td>51002.110000</td>\n",
       "      <td>0.000000</td>\n",
       "    </tr>\n",
       "    <tr>\n",
       "      <th>50%</th>\n",
       "      <td>652.000000</td>\n",
       "      <td>0.000000</td>\n",
       "      <td>1.000000</td>\n",
       "      <td>37.000000</td>\n",
       "      <td>5.000000</td>\n",
       "      <td>97198.540000</td>\n",
       "      <td>1.000000</td>\n",
       "      <td>1.00000</td>\n",
       "      <td>1.000000</td>\n",
       "      <td>100193.915000</td>\n",
       "      <td>0.000000</td>\n",
       "    </tr>\n",
       "    <tr>\n",
       "      <th>75%</th>\n",
       "      <td>718.000000</td>\n",
       "      <td>2.000000</td>\n",
       "      <td>1.000000</td>\n",
       "      <td>44.000000</td>\n",
       "      <td>7.000000</td>\n",
       "      <td>127644.240000</td>\n",
       "      <td>2.000000</td>\n",
       "      <td>1.00000</td>\n",
       "      <td>1.000000</td>\n",
       "      <td>149388.247500</td>\n",
       "      <td>0.000000</td>\n",
       "    </tr>\n",
       "    <tr>\n",
       "      <th>max</th>\n",
       "      <td>850.000000</td>\n",
       "      <td>2.000000</td>\n",
       "      <td>1.000000</td>\n",
       "      <td>92.000000</td>\n",
       "      <td>10.000000</td>\n",
       "      <td>250898.090000</td>\n",
       "      <td>4.000000</td>\n",
       "      <td>1.00000</td>\n",
       "      <td>1.000000</td>\n",
       "      <td>199992.480000</td>\n",
       "      <td>1.000000</td>\n",
       "    </tr>\n",
       "  </tbody>\n",
       "</table>\n",
       "</div>"
      ],
      "text/plain": [
       "       credit_score       country        gender           age        tenure  \\\n",
       "count  10000.000000  10000.000000  10000.000000  10000.000000  10000.000000   \n",
       "mean     650.528800      0.749500      0.545700     38.921800      5.012800   \n",
       "std       96.653299      0.830433      0.497932     10.487806      2.892174   \n",
       "min      350.000000      0.000000      0.000000     18.000000      0.000000   \n",
       "25%      584.000000      0.000000      0.000000     32.000000      3.000000   \n",
       "50%      652.000000      0.000000      1.000000     37.000000      5.000000   \n",
       "75%      718.000000      2.000000      1.000000     44.000000      7.000000   \n",
       "max      850.000000      2.000000      1.000000     92.000000     10.000000   \n",
       "\n",
       "             balance  products_number  credit_card  active_member  \\\n",
       "count   10000.000000     10000.000000  10000.00000   10000.000000   \n",
       "mean    76485.889288         1.530200      0.70550       0.515100   \n",
       "std     62397.405202         0.581654      0.45584       0.499797   \n",
       "min         0.000000         1.000000      0.00000       0.000000   \n",
       "25%         0.000000         1.000000      0.00000       0.000000   \n",
       "50%     97198.540000         1.000000      1.00000       1.000000   \n",
       "75%    127644.240000         2.000000      1.00000       1.000000   \n",
       "max    250898.090000         4.000000      1.00000       1.000000   \n",
       "\n",
       "       estimated_salary         churn  \n",
       "count      10000.000000  10000.000000  \n",
       "mean      100090.239881      0.203700  \n",
       "std        57510.492818      0.402769  \n",
       "min           11.580000      0.000000  \n",
       "25%        51002.110000      0.000000  \n",
       "50%       100193.915000      0.000000  \n",
       "75%       149388.247500      0.000000  \n",
       "max       199992.480000      1.000000  "
      ]
     },
     "execution_count": 18,
     "metadata": {},
     "output_type": "execute_result"
    }
   ],
   "source": [
    "churn_df.describe()"
   ]
  },
  {
   "cell_type": "code",
   "execution_count": null,
   "id": "9a4e233b-8c75-446f-9199-0c4c6481637b",
   "metadata": {},
   "outputs": [],
   "source": []
  },
  {
   "cell_type": "code",
   "execution_count": 20,
   "id": "f7e3545a-f2b5-4e05-a848-b5abd6666a1b",
   "metadata": {},
   "outputs": [],
   "source": [
    "# // Content coming"
   ]
  },
  {
   "cell_type": "code",
   "execution_count": null,
   "id": "70f31b12-9312-4022-9c5a-2326260f58a9",
   "metadata": {},
   "outputs": [],
   "source": []
  },
  {
   "cell_type": "markdown",
   "id": "7126d857-baaf-4542-b3e3-8303625fd24a",
   "metadata": {},
   "source": [
    "Jetzt kümmern wir uns um mögliche Outlier. Dafür können wir z. B. Percentiles nutzen."
   ]
  },
  {
   "cell_type": "code",
   "execution_count": 21,
   "id": "d94167d9-d5d7-4fff-b7c6-b04b7cb06c5c",
   "metadata": {},
   "outputs": [
    {
     "data": {
      "text/plain": [
       "<Axes: xlabel='credit_score'>"
      ]
     },
     "execution_count": 21,
     "metadata": {},
     "output_type": "execute_result"
    },
    {
     "data": {
      "image/png": "[encoded data removed]",
      "text/plain": [
       "<Figure size 640x480 with 1 Axes>"
      ]
     },
     "metadata": {},
     "output_type": "display_data"
    }
   ],
   "source": [
    "target = ['credit_score'] \n",
    "sn.boxplot(x=churn_df['credit_score'], palette=\"pastel\" )"
   ]
  },
  {
   "cell_type": "code",
   "execution_count": 22,
   "id": "0e213132-3586-4082-90a0-d13799eba22c",
   "metadata": {},
   "outputs": [
    {
     "data": {
      "text/plain": [
       "(9563, 11)"
      ]
     },
     "execution_count": 22,
     "metadata": {},
     "output_type": "execute_result"
    }
   ],
   "source": [
    "# Durch die Angabe von Quantile können diese 3 Features gefiltert werden. \n",
    "\n",
    "filtered_df = churn_df.copy()\n",
    "\n",
    "for col in target:  \n",
    "    threshold_high = churn_df[col].quantile(0.98)\n",
    "    threshold_low  = churn_df[col].quantile(0.02)\n",
    "\n",
    "    filtered_df = filtered_df[ (filtered_df[col] > threshold_low) & (filtered_df[col] < threshold_high ) ] \n",
    "\n",
    "filtered_df.shape"
   ]
  },
  {
   "cell_type": "code",
   "execution_count": null,
   "id": "906f67a1-4825-44d7-aaa9-e8a5b01f24c6",
   "metadata": {},
   "outputs": [],
   "source": []
  },
  {
   "cell_type": "code",
   "execution_count": 75,
   "id": "83f0b105-5892-4db9-a02c-dbd7fb6232e6",
   "metadata": {},
   "outputs": [],
   "source": [
    "# //Content coming"
   ]
  },
  {
   "cell_type": "code",
   "execution_count": null,
   "id": "5852992b-f0d1-4cc7-9037-c2bf32ad09c1",
   "metadata": {},
   "outputs": [],
   "source": []
  },
  {
   "cell_type": "markdown",
   "id": "52341d14-9e14-4a97-a36d-9c7e5a4cfa6e",
   "metadata": {},
   "source": [
    "<h2>Training</h2>"
   ]
  },
  {
   "cell_type": "markdown",
   "id": "78303735-8dc2-4d7c-8a71-1cc93f49e855",
   "metadata": {},
   "source": [
    "Jetzt erstellen wir das Dataset für das Training. Vorher werden wir noch die Daten skalieren."
   ]
  },
  {
   "cell_type": "code",
   "execution_count": 24,
   "id": "aa91f5f5-a402-42a3-8b47-35ef20546fbd",
   "metadata": {},
   "outputs": [],
   "source": [
    "X, y = filtered_df.drop(['churn'], axis='columns'), filtered_df['churn']"
   ]
  },
  {
   "cell_type": "code",
   "execution_count": 25,
   "id": "3b3040ab-9806-4568-8137-5559e672d6bb",
   "metadata": {},
   "outputs": [
    {
     "data": {
      "text/plain": [
       "(9563, 10)"
      ]
     },
     "execution_count": 25,
     "metadata": {},
     "output_type": "execute_result"
    }
   ],
   "source": [
    "X.shape"
   ]
  },
  {
   "cell_type": "code",
   "execution_count": 26,
   "id": "cb3b8587-4e0c-479f-9b53-d468982a9ffb",
   "metadata": {
    "scrolled": true
   },
   "outputs": [
    {
     "data": {
      "text/plain": [
       "array([[0.41919192, 0.        , 0.        , ..., 1.        , 1.        ,\n",
       "        0.50673489],\n",
       "       [0.39141414, 0.5       , 0.        , ..., 0.        , 1.        ,\n",
       "        0.56270874],\n",
       "       [0.12373737, 0.        , 0.        , ..., 1.        , 0.        ,\n",
       "        0.56965435],\n",
       "       ...,\n",
       "       [0.64646465, 0.        , 0.        , ..., 0.        , 1.        ,\n",
       "        0.21039009],\n",
       "       [0.80555556, 1.        , 1.        , ..., 1.        , 0.        ,\n",
       "        0.46442905],\n",
       "       [0.85606061, 0.        , 0.        , ..., 1.        , 0.        ,\n",
       "        0.19091423]])"
      ]
     },
     "execution_count": 26,
     "metadata": {},
     "output_type": "execute_result"
    }
   ],
   "source": [
    "scaler   = MinMaxScaler()\n",
    "X_scaled = scaler.fit_transform(X)\n",
    "X_scaled"
   ]
  },
  {
   "cell_type": "code",
   "execution_count": 27,
   "id": "42b2a68f-0710-44c0-9c59-c8691eaa24e2",
   "metadata": {},
   "outputs": [],
   "source": [
    "# Erstelle Train- und Testset.\n",
    "X_train, X_test, y_train, y_test = train_test_split(X_scaled, y, stratify=y, test_size=0.12)"
   ]
  },
  {
   "cell_type": "markdown",
   "id": "78febc1f-960a-4bdb-b4f6-6a98b89ca827",
   "metadata": {},
   "source": [
    "Es gibt 3 Modelle mit verschiedenen Parametern, die wir testen werden."
   ]
  },
  {
   "cell_type": "code",
   "execution_count": 28,
   "id": "8a1c3770-01aa-4702-9b42-cabd13649c66",
   "metadata": {},
   "outputs": [
    {
     "data": {
      "text/plain": [
       "[{'model_name': 'svc',\n",
       "  'best_model_score': 0.8549019607843137,\n",
       "  'best_params': {'C': 5, 'degree': 2, 'kernel': 'rbf'}},\n",
       " {'model_name': 'random_forest',\n",
       "  'best_model_score': 0.8627450980392158,\n",
       "  'best_params': {'criterion': 'log_loss', 'n_estimators': 500}},\n",
       " {'model_name': 'logistic_regression',\n",
       "  'best_model_score': 0.813903743315508,\n",
       "  'best_params': {'solver': 'lbfgs'}}]"
      ]
     },
     "execution_count": 28,
     "metadata": {},
     "output_type": "execute_result"
    }
   ],
   "source": [
    "# Dieser Vorgang kann Zeit in Anspruch nehmen.\n",
    "data_dict = {\n",
    "    'svc':{                 \n",
    "        'model': SVC(),    \n",
    "        'model_param':{  \n",
    "            'C': [1, 2, 4, 5],             \n",
    "            'kernel': ['rbf','linear', 'poly', 'sigmoid'],\n",
    "            'degree': [2, 3, 4, 5]\n",
    "        }\n",
    "    },\n",
    "    'random_forest':{\n",
    "        'model': RandomForestClassifier(),  \n",
    "        'model_param':{   \n",
    "            'n_estimators':[50, 100, 500],\n",
    "            'criterion': ['gini', 'entropy', 'log_loss']\n",
    "        }\n",
    "    },\n",
    "   'logistic_regression':{\n",
    "        'model': LogisticRegression(),  \n",
    "        'model_param':{   \n",
    "            'solver':['lbfgs', 'newton-cholesky'] \n",
    "        }\n",
    "   }\n",
    "}\n",
    "\n",
    "result = []\n",
    "for model, param in data_dict.items():\n",
    "    # Mit Cross-Validation 5\n",
    "    grid_search = GridSearchCV( param['model'], param['model_param'], cv=5, return_train_score=False)\n",
    "    grid_search.fit(X_train, y_train)\n",
    "\n",
    "    result.append({         \n",
    "        'model_name':       model,\n",
    "        'best_model_score': grid_search.best_score_,\n",
    "        'best_params':      grid_search.best_params_\n",
    "    })\n",
    "result"
   ]
  },
  {
   "cell_type": "code",
   "execution_count": 29,
   "id": "ba8ad833-785d-46f0-8b90-cda38bc88965",
   "metadata": {},
   "outputs": [
    {
     "data": {
      "text/html": [
       "<div>\n",
       "<style scoped>\n",
       "    .dataframe tbody tr th:only-of-type {\n",
       "        vertical-align: middle;\n",
       "    }\n",
       "\n",
       "    .dataframe tbody tr th {\n",
       "        vertical-align: top;\n",
       "    }\n",
       "\n",
       "    .dataframe thead th {\n",
       "        text-align: right;\n",
       "    }\n",
       "</style>\n",
       "<table border=\"1\" class=\"dataframe\">\n",
       "  <thead>\n",
       "    <tr style=\"text-align: right;\">\n",
       "      <th></th>\n",
       "      <th>model_name</th>\n",
       "      <th>best_model_score</th>\n",
       "      <th>best_params</th>\n",
       "    </tr>\n",
       "  </thead>\n",
       "  <tbody>\n",
       "    <tr>\n",
       "      <th>0</th>\n",
       "      <td>svc</td>\n",
       "      <td>0.854902</td>\n",
       "      <td>{'C': 5, 'degree': 2, 'kernel': 'rbf'}</td>\n",
       "    </tr>\n",
       "    <tr>\n",
       "      <th>1</th>\n",
       "      <td>random_forest</td>\n",
       "      <td>0.862745</td>\n",
       "      <td>{'criterion': 'log_loss', 'n_estimators': 500}</td>\n",
       "    </tr>\n",
       "    <tr>\n",
       "      <th>2</th>\n",
       "      <td>logistic_regression</td>\n",
       "      <td>0.813904</td>\n",
       "      <td>{'solver': 'lbfgs'}</td>\n",
       "    </tr>\n",
       "  </tbody>\n",
       "</table>\n",
       "</div>"
      ],
      "text/plain": [
       "            model_name  best_model_score  \\\n",
       "0                  svc          0.854902   \n",
       "1        random_forest          0.862745   \n",
       "2  logistic_regression          0.813904   \n",
       "\n",
       "                                      best_params  \n",
       "0          {'C': 5, 'degree': 2, 'kernel': 'rbf'}  \n",
       "1  {'criterion': 'log_loss', 'n_estimators': 500}  \n",
       "2                             {'solver': 'lbfgs'}  "
      ]
     },
     "execution_count": 29,
     "metadata": {},
     "output_type": "execute_result"
    }
   ],
   "source": [
    "best_modelparameters = pd.DataFrame(result, columns=list(result[0].keys()) )  \n",
    "best_modelparameters"
   ]
  },
  {
   "cell_type": "code",
   "execution_count": 30,
   "id": "2a97c71b-9200-4219-918d-113f5b57c8ad",
   "metadata": {},
   "outputs": [
    {
     "data": {
      "text/html": [
       "<style>#sk-container-id-1 {color: black;}#sk-container-id-1 pre{padding: 0;}#sk-container-id-1 div.sk-toggleable {background-color: white;}#sk-container-id-1 label.sk-toggleable__label {cursor: pointer;display: block;width: 100%;margin-bottom: 0;padding: 0.3em;box-sizing: border-box;text-align: center;}#sk-container-id-1 label.sk-toggleable__label-arrow:before {content: \"▸\";float: left;margin-right: 0.25em;color: #696969;}#sk-container-id-1 label.sk-toggleable__label-arrow:hover:before {color: black;}#sk-container-id-1 div.sk-estimator:hover label.sk-toggleable__label-arrow:before {color: black;}#sk-container-id-1 div.sk-toggleable__content {max-height: 0;max-width: 0;overflow: hidden;text-align: left;background-color: #f0f8ff;}#sk-container-id-1 div.sk-toggleable__content pre {margin: 0.2em;color: black;border-radius: 0.25em;background-color: #f0f8ff;}#sk-container-id-1 input.sk-toggleable__control:checked~div.sk-toggleable__content {max-height: 200px;max-width: 100%;overflow: auto;}#sk-container-id-1 input.sk-toggleable__control:checked~label.sk-toggleable__label-arrow:before {content: \"▾\";}#sk-container-id-1 div.sk-estimator input.sk-toggleable__control:checked~label.sk-toggleable__label {background-color: #d4ebff;}#sk-container-id-1 div.sk-label input.sk-toggleable__control:checked~label.sk-toggleable__label {background-color: #d4ebff;}#sk-container-id-1 input.sk-hidden--visually {border: 0;clip: rect(1px 1px 1px 1px);clip: rect(1px, 1px, 1px, 1px);height: 1px;margin: -1px;overflow: hidden;padding: 0;position: absolute;width: 1px;}#sk-container-id-1 div.sk-estimator {font-family: monospace;background-color: #f0f8ff;border: 1px dotted black;border-radius: 0.25em;box-sizing: border-box;margin-bottom: 0.5em;}#sk-container-id-1 div.sk-estimator:hover {background-color: #d4ebff;}#sk-container-id-1 div.sk-parallel-item::after {content: \"\";width: 100%;border-bottom: 1px solid gray;flex-grow: 1;}#sk-container-id-1 div.sk-label:hover label.sk-toggleable__label {background-color: #d4ebff;}#sk-container-id-1 div.sk-serial::before {content: \"\";position: absolute;border-left: 1px solid gray;box-sizing: border-box;top: 0;bottom: 0;left: 50%;z-index: 0;}#sk-container-id-1 div.sk-serial {display: flex;flex-direction: column;align-items: center;background-color: white;padding-right: 0.2em;padding-left: 0.2em;position: relative;}#sk-container-id-1 div.sk-item {position: relative;z-index: 1;}#sk-container-id-1 div.sk-parallel {display: flex;align-items: stretch;justify-content: center;background-color: white;position: relative;}#sk-container-id-1 div.sk-item::before, #sk-container-id-1 div.sk-parallel-item::before {content: \"\";position: absolute;border-left: 1px solid gray;box-sizing: border-box;top: 0;bottom: 0;left: 50%;z-index: -1;}#sk-container-id-1 div.sk-parallel-item {display: flex;flex-direction: column;z-index: 1;position: relative;background-color: white;}#sk-container-id-1 div.sk-parallel-item:first-child::after {align-self: flex-end;width: 50%;}#sk-container-id-1 div.sk-parallel-item:last-child::after {align-self: flex-start;width: 50%;}#sk-container-id-1 div.sk-parallel-item:only-child::after {width: 0;}#sk-container-id-1 div.sk-dashed-wrapped {border: 1px dashed gray;margin: 0 0.4em 0.5em 0.4em;box-sizing: border-box;padding-bottom: 0.4em;background-color: white;}#sk-container-id-1 div.sk-label label {font-family: monospace;font-weight: bold;display: inline-block;line-height: 1.2em;}#sk-container-id-1 div.sk-label-container {text-align: center;}#sk-container-id-1 div.sk-container {/* jupyter's `normalize.less` sets `[hidden] { display: none; }` but bootstrap.min.css set `[hidden] { display: none !important; }` so we also need the `!important` here to be able to override the default hidden behavior on the sphinx rendered scikit-learn.org. See: https://github.com/scikit-learn/scikit-learn/issues/21755 */display: inline-block !important;position: relative;}#sk-container-id-1 div.sk-text-repr-fallback {display: none;}</style><div id=\"sk-container-id-1\" class=\"sk-top-container\"><div class=\"sk-text-repr-fallback\"><pre>RandomForestClassifier(criterion=&#x27;log_loss&#x27;, n_estimators=500)</pre><b>In a Jupyter environment, please rerun this cell to show the HTML representation or trust the notebook. <br />On GitHub, the HTML representation is unable to render, please try loading this page with nbviewer.org.</b></div><div class=\"sk-container\" hidden><div class=\"sk-item\"><div class=\"sk-estimator sk-toggleable\"><input class=\"sk-toggleable__control sk-hidden--visually\" id=\"sk-estimator-id-1\" type=\"checkbox\" checked><label for=\"sk-estimator-id-1\" class=\"sk-toggleable__label sk-toggleable__label-arrow\">RandomForestClassifier</label><div class=\"sk-toggleable__content\"><pre>RandomForestClassifier(criterion=&#x27;log_loss&#x27;, n_estimators=500)</pre></div></div></div></div></div>"
      ],
      "text/plain": [
       "RandomForestClassifier(criterion='log_loss', n_estimators=500)"
      ]
     },
     "execution_count": 30,
     "metadata": {},
     "output_type": "execute_result"
    }
   ],
   "source": [
    "model = RandomForestClassifier(criterion= 'log_loss', n_estimators=500)\n",
    "model"
   ]
  },
  {
   "cell_type": "code",
   "execution_count": 32,
   "id": "4db88e35-979c-4e90-a92e-0f0332593302",
   "metadata": {},
   "outputs": [
    {
     "data": {
      "text/plain": [
       "0.8493031358885017"
      ]
     },
     "execution_count": 32,
     "metadata": {},
     "output_type": "execute_result"
    }
   ],
   "source": [
    "model.fit(X_train, y_train)\n",
    "model.score(X_test, y_test)"
   ]
  },
  {
   "cell_type": "code",
   "execution_count": 39,
   "id": "b5f0134e-bc3a-4025-a478-178c935caf3a",
   "metadata": {},
   "outputs": [
    {
     "data": {
      "text/plain": [
       "Text(58.222222222222214, 0.5, 'Truth')"
      ]
     },
     "execution_count": 39,
     "metadata": {},
     "output_type": "execute_result"
    },
    {
     "data": {
      "image/png": "[encoded data removed]",
      "text/plain": [
       "<Figure size 700x500 with 2 Axes>"
      ]
     },
     "metadata": {},
     "output_type": "display_data"
    }
   ],
   "source": [
    "# Erstelle Heat-Map\n",
    "\n",
    "cm = confusion_matrix(y_test, model.predict(X_test))\n",
    "\n",
    "plt.figure(figsize=(7,5))\n",
    "sn.heatmap(cm, annot=True)\n",
    "plt.xlabel('Predicted')\n",
    "plt.ylabel('Truth')"
   ]
  },
  {
   "cell_type": "code",
   "execution_count": 41,
   "id": "6f6d51fe-3083-4140-8fc1-f8d67308f086",
   "metadata": {},
   "outputs": [
    {
     "name": "stdout",
     "output_type": "stream",
     "text": [
      "              precision    recall  f1-score   support\n",
      "\n",
      "           0       0.87      0.96      0.91       916\n",
      "           1       0.72      0.41      0.53       232\n",
      "\n",
      "    accuracy                           0.85      1148\n",
      "   macro avg       0.79      0.69      0.72      1148\n",
      "weighted avg       0.84      0.85      0.83      1148\n",
      "\n"
     ]
    }
   ],
   "source": [
    "print(classification_report(y_test, model.predict(X_test)))"
   ]
  },
  {
   "cell_type": "markdown",
   "id": "546f9dfd-f7ca-40cb-bdf9-a9c5b4cf7e16",
   "metadata": {},
   "source": [
    "<h2>F1-Score niedrig</h2>"
   ]
  },
  {
   "cell_type": "markdown",
   "id": "7768df09-ba14-4ef3-8156-9b6c778ca009",
   "metadata": {},
   "source": [
    "Wie wir gesehen haben, ist das Dataset nicht gut balanciert. Das liegt einfach an der Natur des Datasets. Bei einem Customer Churm Dataset, das keine besonderen Auffälligkeiten hat, hat die Klasse, die den Abgang von Leute beschreibt, immer viel weniger Samples.\n",
    "\n",
    "Es ist schon vorher klar gewesen, dass dieses Dataset diese Eigenschaft hat. Ohne das Wissen hätte man es spätestens an dem F1-Score gesehen. Oder an der verteilung der Klassen.\n",
    "\n",
    "Es gibt verschiedene Methoden ein Gleichgewicht zu erzeigen wie: Undersampling, Oversampling, Ensemble, SMOTE, usw."
   ]
  },
  {
   "cell_type": "code",
   "execution_count": 64,
   "id": "0af796f1-19c0-478b-ac07-10b29321bc0f",
   "metadata": {},
   "outputs": [
    {
     "data": {
      "text/html": [
       "<div>\n",
       "<style scoped>\n",
       "    .dataframe tbody tr th:only-of-type {\n",
       "        vertical-align: middle;\n",
       "    }\n",
       "\n",
       "    .dataframe tbody tr th {\n",
       "        vertical-align: top;\n",
       "    }\n",
       "\n",
       "    .dataframe thead th {\n",
       "        text-align: right;\n",
       "    }\n",
       "</style>\n",
       "<table border=\"1\" class=\"dataframe\">\n",
       "  <thead>\n",
       "    <tr style=\"text-align: right;\">\n",
       "      <th></th>\n",
       "      <th>credit_score</th>\n",
       "      <th>country</th>\n",
       "      <th>gender</th>\n",
       "      <th>age</th>\n",
       "      <th>tenure</th>\n",
       "      <th>balance</th>\n",
       "      <th>products_number</th>\n",
       "      <th>credit_card</th>\n",
       "      <th>active_member</th>\n",
       "      <th>estimated_salary</th>\n",
       "      <th>churn</th>\n",
       "    </tr>\n",
       "  </thead>\n",
       "  <tbody>\n",
       "    <tr>\n",
       "      <th>0</th>\n",
       "      <td>619</td>\n",
       "      <td>0</td>\n",
       "      <td>0</td>\n",
       "      <td>42</td>\n",
       "      <td>2</td>\n",
       "      <td>0.00</td>\n",
       "      <td>1</td>\n",
       "      <td>1</td>\n",
       "      <td>1</td>\n",
       "      <td>101348.88</td>\n",
       "      <td>1</td>\n",
       "    </tr>\n",
       "    <tr>\n",
       "      <th>2</th>\n",
       "      <td>502</td>\n",
       "      <td>0</td>\n",
       "      <td>0</td>\n",
       "      <td>42</td>\n",
       "      <td>8</td>\n",
       "      <td>159660.80</td>\n",
       "      <td>3</td>\n",
       "      <td>1</td>\n",
       "      <td>0</td>\n",
       "      <td>113931.57</td>\n",
       "      <td>1</td>\n",
       "    </tr>\n",
       "    <tr>\n",
       "      <th>5</th>\n",
       "      <td>645</td>\n",
       "      <td>1</td>\n",
       "      <td>1</td>\n",
       "      <td>44</td>\n",
       "      <td>8</td>\n",
       "      <td>113755.78</td>\n",
       "      <td>2</td>\n",
       "      <td>1</td>\n",
       "      <td>0</td>\n",
       "      <td>149756.71</td>\n",
       "      <td>1</td>\n",
       "    </tr>\n",
       "    <tr>\n",
       "      <th>16</th>\n",
       "      <td>653</td>\n",
       "      <td>2</td>\n",
       "      <td>1</td>\n",
       "      <td>58</td>\n",
       "      <td>1</td>\n",
       "      <td>132602.88</td>\n",
       "      <td>1</td>\n",
       "      <td>1</td>\n",
       "      <td>0</td>\n",
       "      <td>5097.67</td>\n",
       "      <td>1</td>\n",
       "    </tr>\n",
       "    <tr>\n",
       "      <th>22</th>\n",
       "      <td>510</td>\n",
       "      <td>1</td>\n",
       "      <td>0</td>\n",
       "      <td>38</td>\n",
       "      <td>4</td>\n",
       "      <td>0.00</td>\n",
       "      <td>1</td>\n",
       "      <td>1</td>\n",
       "      <td>0</td>\n",
       "      <td>118913.53</td>\n",
       "      <td>1</td>\n",
       "    </tr>\n",
       "  </tbody>\n",
       "</table>\n",
       "</div>"
      ],
      "text/plain": [
       "    credit_score  country  gender  age  tenure    balance  products_number  \\\n",
       "0            619        0       0   42       2       0.00                1   \n",
       "2            502        0       0   42       8  159660.80                3   \n",
       "5            645        1       1   44       8  113755.78                2   \n",
       "16           653        2       1   58       1  132602.88                1   \n",
       "22           510        1       0   38       4       0.00                1   \n",
       "\n",
       "    credit_card  active_member  estimated_salary  churn  \n",
       "0             1              1         101348.88      1  \n",
       "2             1              0         113931.57      1  \n",
       "5             1              0         149756.71      1  \n",
       "16            1              0           5097.67      1  \n",
       "22            1              0         118913.53      1  "
      ]
     },
     "execution_count": 64,
     "metadata": {},
     "output_type": "execute_result"
    }
   ],
   "source": [
    "# Oversampling + SMOTE\n",
    "high_class_df  = filtered_df[filtered_df['churn']==0]\n",
    "lower_class_df = filtered_df[filtered_df['churn']==1]\n",
    "lower_class_df.head()"
   ]
  },
  {
   "cell_type": "code",
   "execution_count": 65,
   "id": "a2a97283-f222-4063-9137-3e973afeb8f8",
   "metadata": {},
   "outputs": [
    {
     "data": {
      "text/plain": [
       "churn\n",
       "0    7630\n",
       "1    1933\n",
       "Name: count, dtype: int64"
      ]
     },
     "execution_count": 65,
     "metadata": {},
     "output_type": "execute_result"
    }
   ],
   "source": [
    "class_counts = dataset['churn'].value_counts()\n",
    "class_counts"
   ]
  },
  {
   "cell_type": "code",
   "execution_count": 66,
   "id": "fd2b9c03-69d7-4740-a275-544c9e02e992",
   "metadata": {},
   "outputs": [
    {
     "data": {
      "text/plain": [
       "(3815, 11)"
      ]
     },
     "execution_count": 66,
     "metadata": {},
     "output_type": "execute_result"
    }
   ],
   "source": [
    "# Sample Hälfte, dann verwende SMOTE\n",
    "lower_class_df = lower_class_df.sample(int(class_counts[0]/2), replace=True)\n",
    "lower_class_df.shape"
   ]
  },
  {
   "cell_type": "code",
   "execution_count": 67,
   "id": "0187bf65-4352-4b25-be2e-a5f09e48b1c3",
   "metadata": {},
   "outputs": [
    {
     "data": {
      "text/plain": [
       "churn\n",
       "0    7630\n",
       "1    3815\n",
       "Name: count, dtype: int64"
      ]
     },
     "execution_count": 67,
     "metadata": {},
     "output_type": "execute_result"
    }
   ],
   "source": [
    "dataset = pd.concat([high_class_df, lower_class_df], axis=0)\n",
    "dataset['churn'].value_counts()"
   ]
  },
  {
   "cell_type": "code",
   "execution_count": 68,
   "id": "e40fcdcb-f78f-4596-8fbc-4d1c991d9a42",
   "metadata": {},
   "outputs": [
    {
     "data": {
      "text/plain": [
       "(15260, 10)"
      ]
     },
     "execution_count": 68,
     "metadata": {},
     "output_type": "execute_result"
    }
   ],
   "source": [
    "# SMOTE #\n",
    "smote = SMOTE(sampling_strategy='minority')\n",
    "X, y = smote.fit_resample(dataset.drop(['churn'], axis=\"columns\"), dataset['churn'])\n",
    "X.shape"
   ]
  },
  {
   "cell_type": "code",
   "execution_count": 69,
   "id": "6d69fb7f-eb82-4e66-9892-acc62cf8bb80",
   "metadata": {},
   "outputs": [
    {
     "data": {
      "text/plain": [
       "True"
      ]
     },
     "execution_count": 69,
     "metadata": {},
     "output_type": "execute_result"
    }
   ],
   "source": [
    "# Beide Klassen haben gleich viele Samples. \n",
    "class_counts[0]*2 == X.shape[0]"
   ]
  },
  {
   "cell_type": "code",
   "execution_count": 70,
   "id": "845788e4-3c77-4751-b793-00ef7e1f092f",
   "metadata": {
    "scrolled": true
   },
   "outputs": [
    {
     "data": {
      "text/plain": [
       "array([[0.39141414, 0.5       , 0.        , ..., 0.        , 1.        ,\n",
       "        0.56270874],\n",
       "       [0.62121212, 0.        , 0.        , ..., 0.        , 0.        ,\n",
       "        0.46912005],\n",
       "       [0.93181818, 0.        , 1.        , ..., 1.        , 1.        ,\n",
       "        0.0502609 ],\n",
       "       ...,\n",
       "       [0.48737374, 0.        , 0.        , ..., 0.        , 0.        ,\n",
       "        0.54583107],\n",
       "       [0.30050505, 0.        , 1.        , ..., 0.        , 1.        ,\n",
       "        0.76441136],\n",
       "       [0.5       , 0.        , 1.        , ..., 1.        , 0.        ,\n",
       "        0.11522565]])"
      ]
     },
     "execution_count": 70,
     "metadata": {},
     "output_type": "execute_result"
    }
   ],
   "source": [
    "X_scaled = scaler.fit_transform(X)\n",
    "X_scaled"
   ]
  },
  {
   "cell_type": "code",
   "execution_count": 71,
   "id": "39c29a17-a60a-4753-97bc-488e8b847d1a",
   "metadata": {},
   "outputs": [],
   "source": [
    "X_train, X_test, y_train, y_test = train_test_split(X_scaled, y, test_size=0.2, stratify=y)"
   ]
  },
  {
   "cell_type": "markdown",
   "id": "6da5f735-d4e2-4fdf-81d0-158068139c22",
   "metadata": {},
   "source": [
    "Danach wieder das Model trainieren und den Score ausgeben. "
   ]
  },
  {
   "cell_type": "code",
   "execution_count": 72,
   "id": "cee7e29d-411c-4da9-8dea-7bc548d0d11a",
   "metadata": {},
   "outputs": [
    {
     "data": {
      "text/plain": [
       "0.913826998689384"
      ]
     },
     "execution_count": 72,
     "metadata": {},
     "output_type": "execute_result"
    }
   ],
   "source": [
    "model = RandomForestClassifier(criterion= 'log_loss', n_estimators=500)\n",
    "model.fit(X_train, y_train)\n",
    "model.score(X_test, y_test)"
   ]
  },
  {
   "cell_type": "code",
   "execution_count": 73,
   "id": "f14bfe21-45d0-4a6b-9f6b-5f743666e6dd",
   "metadata": {},
   "outputs": [
    {
     "name": "stdout",
     "output_type": "stream",
     "text": [
      "              precision    recall  f1-score   support\n",
      "\n",
      "           0       0.93      0.89      0.91      1526\n",
      "           1       0.90      0.93      0.92      1526\n",
      "\n",
      "    accuracy                           0.91      3052\n",
      "   macro avg       0.91      0.91      0.91      3052\n",
      "weighted avg       0.91      0.91      0.91      3052\n",
      "\n"
     ]
    }
   ],
   "source": [
    "print(classification_report(y_test, model.predict(X_test)))"
   ]
  },
  {
   "cell_type": "markdown",
   "id": "e63ac5d7-e604-40eb-9e85-d929b71a6b45",
   "metadata": {},
   "source": [
    "Der F1-Score hat sich deutlich verbessert. \n",
    "\n",
    "Zum Schluss speichern wir das Model. "
   ]
  },
  {
   "cell_type": "code",
   "execution_count": 78,
   "id": "e97b7e25-138b-413c-b315-bff7e97baa83",
   "metadata": {},
   "outputs": [],
   "source": [
    "with open(\"1/model/churn_predict.pickle\" ,'wb') as f:\n",
    "    pickle.dump(model, f)  "
   ]
  },
  {
   "cell_type": "code",
   "execution_count": 79,
   "id": "c9b4d102-d44b-4d14-ac5e-6a933ec15593",
   "metadata": {},
   "outputs": [
    {
     "data": {
      "text/html": [
       "<style>#sk-container-id-2 {color: black;}#sk-container-id-2 pre{padding: 0;}#sk-container-id-2 div.sk-toggleable {background-color: white;}#sk-container-id-2 label.sk-toggleable__label {cursor: pointer;display: block;width: 100%;margin-bottom: 0;padding: 0.3em;box-sizing: border-box;text-align: center;}#sk-container-id-2 label.sk-toggleable__label-arrow:before {content: \"▸\";float: left;margin-right: 0.25em;color: #696969;}#sk-container-id-2 label.sk-toggleable__label-arrow:hover:before {color: black;}#sk-container-id-2 div.sk-estimator:hover label.sk-toggleable__label-arrow:before {color: black;}#sk-container-id-2 div.sk-toggleable__content {max-height: 0;max-width: 0;overflow: hidden;text-align: left;background-color: #f0f8ff;}#sk-container-id-2 div.sk-toggleable__content pre {margin: 0.2em;color: black;border-radius: 0.25em;background-color: #f0f8ff;}#sk-container-id-2 input.sk-toggleable__control:checked~div.sk-toggleable__content {max-height: 200px;max-width: 100%;overflow: auto;}#sk-container-id-2 input.sk-toggleable__control:checked~label.sk-toggleable__label-arrow:before {content: \"▾\";}#sk-container-id-2 div.sk-estimator input.sk-toggleable__control:checked~label.sk-toggleable__label {background-color: #d4ebff;}#sk-container-id-2 div.sk-label input.sk-toggleable__control:checked~label.sk-toggleable__label {background-color: #d4ebff;}#sk-container-id-2 input.sk-hidden--visually {border: 0;clip: rect(1px 1px 1px 1px);clip: rect(1px, 1px, 1px, 1px);height: 1px;margin: -1px;overflow: hidden;padding: 0;position: absolute;width: 1px;}#sk-container-id-2 div.sk-estimator {font-family: monospace;background-color: #f0f8ff;border: 1px dotted black;border-radius: 0.25em;box-sizing: border-box;margin-bottom: 0.5em;}#sk-container-id-2 div.sk-estimator:hover {background-color: #d4ebff;}#sk-container-id-2 div.sk-parallel-item::after {content: \"\";width: 100%;border-bottom: 1px solid gray;flex-grow: 1;}#sk-container-id-2 div.sk-label:hover label.sk-toggleable__label {background-color: #d4ebff;}#sk-container-id-2 div.sk-serial::before {content: \"\";position: absolute;border-left: 1px solid gray;box-sizing: border-box;top: 0;bottom: 0;left: 50%;z-index: 0;}#sk-container-id-2 div.sk-serial {display: flex;flex-direction: column;align-items: center;background-color: white;padding-right: 0.2em;padding-left: 0.2em;position: relative;}#sk-container-id-2 div.sk-item {position: relative;z-index: 1;}#sk-container-id-2 div.sk-parallel {display: flex;align-items: stretch;justify-content: center;background-color: white;position: relative;}#sk-container-id-2 div.sk-item::before, #sk-container-id-2 div.sk-parallel-item::before {content: \"\";position: absolute;border-left: 1px solid gray;box-sizing: border-box;top: 0;bottom: 0;left: 50%;z-index: -1;}#sk-container-id-2 div.sk-parallel-item {display: flex;flex-direction: column;z-index: 1;position: relative;background-color: white;}#sk-container-id-2 div.sk-parallel-item:first-child::after {align-self: flex-end;width: 50%;}#sk-container-id-2 div.sk-parallel-item:last-child::after {align-self: flex-start;width: 50%;}#sk-container-id-2 div.sk-parallel-item:only-child::after {width: 0;}#sk-container-id-2 div.sk-dashed-wrapped {border: 1px dashed gray;margin: 0 0.4em 0.5em 0.4em;box-sizing: border-box;padding-bottom: 0.4em;background-color: white;}#sk-container-id-2 div.sk-label label {font-family: monospace;font-weight: bold;display: inline-block;line-height: 1.2em;}#sk-container-id-2 div.sk-label-container {text-align: center;}#sk-container-id-2 div.sk-container {/* jupyter's `normalize.less` sets `[hidden] { display: none; }` but bootstrap.min.css set `[hidden] { display: none !important; }` so we also need the `!important` here to be able to override the default hidden behavior on the sphinx rendered scikit-learn.org. See: https://github.com/scikit-learn/scikit-learn/issues/21755 */display: inline-block !important;position: relative;}#sk-container-id-2 div.sk-text-repr-fallback {display: none;}</style><div id=\"sk-container-id-2\" class=\"sk-top-container\"><div class=\"sk-text-repr-fallback\"><pre>RandomForestClassifier(criterion=&#x27;log_loss&#x27;, n_estimators=500)</pre><b>In a Jupyter environment, please rerun this cell to show the HTML representation or trust the notebook. <br />On GitHub, the HTML representation is unable to render, please try loading this page with nbviewer.org.</b></div><div class=\"sk-container\" hidden><div class=\"sk-item\"><div class=\"sk-estimator sk-toggleable\"><input class=\"sk-toggleable__control sk-hidden--visually\" id=\"sk-estimator-id-2\" type=\"checkbox\" checked><label for=\"sk-estimator-id-2\" class=\"sk-toggleable__label sk-toggleable__label-arrow\">RandomForestClassifier</label><div class=\"sk-toggleable__content\"><pre>RandomForestClassifier(criterion=&#x27;log_loss&#x27;, n_estimators=500)</pre></div></div></div></div></div>"
      ],
      "text/plain": [
       "RandomForestClassifier(criterion='log_loss', n_estimators=500)"
      ]
     },
     "execution_count": 79,
     "metadata": {},
     "output_type": "execute_result"
    }
   ],
   "source": [
    "# Lade Model.\n",
    "with open('1/model/churn_predict.pickle', 'rb') as f:\n",
    "    my_model = pickle.load(f)\n",
    "my_model"
   ]
  },
  {
   "cell_type": "code",
   "execution_count": 80,
   "id": "6247bf39-01bf-4132-b0f2-cac84ffde84e",
   "metadata": {},
   "outputs": [
    {
     "name": "stdout",
     "output_type": "stream",
     "text": [
      "              precision    recall  f1-score   support\n",
      "\n",
      "           0       0.93      0.89      0.91      1526\n",
      "           1       0.90      0.93      0.92      1526\n",
      "\n",
      "    accuracy                           0.91      3052\n",
      "   macro avg       0.91      0.91      0.91      3052\n",
      "weighted avg       0.91      0.91      0.91      3052\n",
      "\n"
     ]
    }
   ],
   "source": [
    "print(classification_report(y_test, my_model.predict(X_test)))"
   ]
  }
 ],
 "metadata": {
  "kernelspec": {
   "display_name": "Python 3 (ipykernel)",
   "language": "python",
   "name": "python3"
  },
  "language_info": {
   "codemirror_mode": {
    "name": "ipython",
    "version": 3
   },
   "file_extension": ".py",
   "mimetype": "text/x-python",
   "name": "python",
   "nbconvert_exporter": "python",
   "pygments_lexer": "ipython3",
   "version": "3.9.18"
  }
 },
 "nbformat": 4,
 "nbformat_minor": 5
}
