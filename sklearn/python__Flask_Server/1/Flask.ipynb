{
 "cells": [
  {
   "cell_type": "markdown",
   "id": "c446fa8d-2d78-44e9-8b11-a0a839245eb1",
   "metadata": {},
   "source": [
    "<h1>Python Flask Server</h1>\n",
    "- Execute in PyCharm. "
   ]
  },
  {
   "cell_type": "markdown",
   "id": "277b840f-0e10-42f1-a14b-db3e16268ee5",
   "metadata": {},
   "source": [
    "Flask bietet die Möglichkeit, die trainieren Modelle über ein Service zu nutzen.\n",
    "\n",
    "Das Aufsetzen geht einfach und ist in wenigen Schritten erledigt.\n",
    "\n",
    "Als Erstes muss ein Verzeichnis angelegt werden z. B. 1/ <br>\n",
    "Darunter: 1/client, 1/model und 1/server\n",
    "\n",
    "Der Client wird die UI Elemente enthalten. Der Server wird sich um den Server kümmern und das Verzeichnis model/ enthält die Artefakte. <br>\n",
    "Weitere Bestandteile und Verzeichnisse können erstellt werden. \n",
    "- Verzeichnis Client wird html, js, php, css usw. enthalten."
   ]
  },
  {
   "cell_type": "markdown",
   "id": "84fcb63b-bf97-4a26-ba79-bde62c10aeab",
   "metadata": {},
   "source": [
    "Beim ersten Versuch werden wir das Model nehmen, was in dem Notebook bank_customer_churn erstellt wurde. Am Ende soll eine einfache UI erstellt werden, um die nötigen Eingaben zu sammeln.\n",
    "\n",
    "\n",
    "<u>Hinweis</u>:<br>\n",
    "- Beim Laden mit Sklearn sollte die Version übereinstimmen."
   ]
  },
  {
   "cell_type": "code",
   "execution_count": 1,
   "id": "96fe4774-fbaa-4270-a254-69cd104c771c",
   "metadata": {},
   "outputs": [],
   "source": [
    "# Imports.\n",
    "import json"
   ]
  },
  {
   "cell_type": "code",
   "execution_count": 3,
   "id": "458ac63c-c629-4b10-a78c-62e4270985ca",
   "metadata": {},
   "outputs": [],
   "source": [
    "# Spalten die wir für die Predictions brauchen, genau in dieser Reihenfolge.\n",
    "columns = { 'data': ['credit_score', 'country',\t'gender', 'age', 'tenur', 'balance', 'products_number',\t'credit_card',\t'active_member', 'estimated_salary']}\n",
    "\n",
    "with open ('model/columns.json', 'w') as f:\n",
    "    f.write(json.dumps(columns))"
   ]
  },
  {
   "cell_type": "markdown",
   "id": "5bbb4117-6697-4d30-b8e9-c8059202ab72",
   "metadata": {},
   "source": [
    "Dann wird das Model und die Json-Datei in das Verzeichnis `server/artefakte/` kopiert\n",
    "\n",
    "Das einfachste Setup sieht so aus:"
   ]
  },
  {
   "cell_type": "raw",
   "id": "dc893530-21fb-478e-ad3a-6995b4e82a4a",
   "metadata": {},
   "source": [
    "## Datei server.py ## \n",
    "# Ausführung in PyCharm. #\n",
    "\n",
    "# Import Flask.\n",
    "from flask import Flask, request, jsonify\n",
    "# Start App. \n",
    "app = Flask(__name__)\n",
    "\n",
    "# A route to a dir. Here: it's blank and we just print Hallo. \n",
    "# - Can be used to test basic functionality.\n",
    "# - After Start: localhost:port/my_function\n",
    "@app.route('/my_function')\n",
    "def my_function():\n",
    "    \"\"\"Test Function\n",
    "    - This function just returns Hello. A test to see if the server and Flask work.\n",
    "    \"\"\"\n",
    "    return \"Hallo\"\n",
    "\n",
    "if __name__ == \"__main__\":\n",
    "    \"\"\"Starting point of the server.\n",
    "    \"\"\"\n",
    "    print(\"Starting server\")\n",
    "\n",
    "    app.run()"
   ]
  },
  {
   "cell_type": "markdown",
   "id": "0385e914-241e-4933-92e9-a753ac23a48a",
   "metadata": {},
   "source": [
    "Man sieht das es nur wenig Code bedarf, um den Server zu starten. Daher ist das aufsetzen mit zusätzlichen Konfigurationen schnell erledigt.\n",
    "\n",
    "Die untere Zelle zeigt die Datei `util.py`. Hier erstellen wir Hilfsfunktionen und testen die Prediction. <br>\n",
    "Ziel ist das das Model zu laden und erfolgreich eine Prediction auszuführen. Wenn alles klappt kann das Model, Code etc. weiter verbessert werden. Mit dem Customer Churn Dataset testen wir die Basisfunktionalität. "
   ]
  },
  {
   "cell_type": "raw",
   "id": "25e4b972-b661-4946-927b-53666f815b91",
   "metadata": {},
   "source": [
    "## Datei util.py ## \n",
    "\n",
    "import pickle\n",
    "import sklearn\n",
    "\n",
    "__model = None\n",
    "\n",
    "\n",
    "def load_artifacts():\n",
    "    \"\"\"Load artifacts and other resources.\n",
    "    Here we load the model.\n",
    "    :return: None.\n",
    "    \"\"\"\n",
    "    print(\"Load Model...\")\n",
    "\n",
    "    # Wenn Server läuft: ./server/artefakte/churn_predict.pickle\" \n",
    "    with open(\"./artefakte/churn_predict.pickle\", 'rb') as f:\n",
    "         global __model\n",
    "         __model = pickle.load(f)\n",
    "    print(\"Model loaded\")\n",
    "    return None\n",
    "\n",
    "\n",
    "def make_prediction(X):\n",
    "    \"\"\"Predict outcome.\n",
    "    This function takes columns/features that were used for training.\n",
    "    Here we could perform various transformation before the model gets the data.\n",
    "    :return: int\n",
    "    \"\"\"\n",
    "    # ...\n",
    "    load_artifacts()\n",
    "    return float(__model.predict(X)[0])\n",
    "\n",
    "\n",
    "if __name__ == '__main__':\n",
    "    print(sklearn.__version__)\n",
    "    # Load model.\n",
    "    load_artifacts()\n",
    "    # Test the predict function\n",
    "    print(\"Make Prediction:\")\n",
    "    print(make_prediction( [ [0.39141414, 0.5, 0., 1.0, 0, 0.5, 0., 0, 1., 0.5627087] ] ) )"
   ]
  },
  {
   "cell_type": "markdown",
   "id": "2c4ce4ca-b25e-48a1-9574-5d798815a2ae",
   "metadata": {},
   "source": [
    "Danach schreiben wir weitere Funktionen wie `predict()`, die eine Prediction ausführen soll. Dabei können wir auch den Input überprüfen. <br>\n",
    "Und das ist auch schon alles was nötig ist."
   ]
  },
  {
   "cell_type": "raw",
   "id": "22562fa0-8341-4a8e-bceb-a05d758e7659",
   "metadata": {},
   "source": [
    "## Datei server.py ## \n",
    "# Ausführung in PyCharm. #\n",
    "\n",
    "from flask import Flask, request, jsonify\n",
    "import util\n",
    "\n",
    "app = Flask(__name__)\n",
    "\n",
    "\n",
    "# A route to a dir. Here: it's blank and we just print Hallo.\n",
    "# - Can be used to test basic functionality.\n",
    "# - After Start: localhost:port/my_function\n",
    "@app.route('/my_function')\n",
    "def my_function():\n",
    "    \"\"\"Test Function\n",
    "    - This function just returns Hello. A test to see if the server and Flask work.\n",
    "    \"\"\"\n",
    "    return \"Hallo\"\n",
    "\n",
    "\n",
    "@app.route('/make_prediction', methods=['GET', 'POST'])\n",
    "def predict():\n",
    "    \"\"\"Route to the site /make_prediction\n",
    "    Here we collect the data that is needed for the model to make predictions.\n",
    "    :return:\n",
    "    \"\"\"\n",
    "    # Collect all data.\n",
    "    # - Data can be checked for errors and so on.\n",
    "    credit_score = float(request.form['credit_score'])\n",
    "    country = float(request.form['country'])\n",
    "    gender  =float(request.form['gender'])\n",
    "    age = float(request.form['age'])\n",
    "    tenure  = float(request.form['tenure'])\n",
    "    balance = float(request.form['balance'])\n",
    "    products_number = float(request.form['products_number'])\n",
    "    credit_card      = float(request.form['credit_card'])\n",
    "    active_member    = float(request.form['active_member'])\n",
    "    estimated_salary = float(request.form['estimated_salary'])\n",
    "\n",
    "    response = jsonify({\n",
    "        'churn_prediction': util.make_prediction([[credit_score, country, gender, age, tenure,\\\n",
    "                                                 balance, products_number, credit_card, active_member,\\\n",
    "                                                   estimated_salary]])\n",
    "    })\n",
    "    response.headers.add('Access-Control-Allow-Origin', '*')\n",
    "\n",
    "    return response\n",
    "\n",
    "\n",
    "if __name__ == \"__main__\":\n",
    "    \"\"\"Starting point of the server.\n",
    "    \"\"\"\n",
    "    print(\"Starting server\")\n",
    "\n",
    "    app.run()"
   ]
  },
  {
   "cell_type": "markdown",
   "id": "a82deb9d-6ecb-4f4e-a0d7-3fee700db04a",
   "metadata": {},
   "source": [
    "<h2>Nutze Postman</h2>"
   ]
  },
  {
   "cell_type": "markdown",
   "id": "aaf6faca-4ed6-4a20-a2eb-9034d69fe056",
   "metadata": {},
   "source": [
    "Postman:\n",
    "\n",
    "> https://www.postman.com [Letzter Zugriff: 04.07.2024]"
   ]
  },
  {
   "cell_type": "markdown",
   "id": "714bad78-9710-4755-b15b-5f77d7739990",
   "metadata": {},
   "source": [
    "Mit Postman können wir einfach eine Abfrage durchführen."
   ]
  },
  {
   "cell_type": "markdown",
   "id": "1b140eda-fdf6-4287-8add-5295c0f2ae46",
   "metadata": {},
   "source": [
    "Starte Server: `python ./server/server.py`\n",
    "\n",
    "Konsole: `* Running on http://127.0.0.1:5000`\n",
    "\n",
    "\n",
    "Danach können die Keys and Values in Postman für die Methode POST angegeben werden.\n",
    "\n",
    "\n",
    "Als Antwort bekommen wir: `\"churn_prediction\": 0.0`"
   ]
  },
  {
   "cell_type": "markdown",
   "id": "36af7c20-82ed-4fda-aa8e-820aab0b5b0e",
   "metadata": {},
   "source": [
    "<i>Abb1</i>: Eingabe der Parameter mit Postman, am Ende liefert der Server eine Antwort.\n",
    "\n",
    "<img src=\"./notebook_img/postman_1.PNG\" width=600 hight=500>"
   ]
  },
  {
   "cell_type": "markdown",
   "id": "68d7a85b-2f3b-4b34-b3ce-371b8b7c0c18",
   "metadata": {},
   "source": [
    "<h2>Erstelle UI</h2>\n",
    "- HTML, CSS, JS"
   ]
  },
  {
   "cell_type": "markdown",
   "id": "a51c538d-806c-44ec-90b8-82839b671b56",
   "metadata": {},
   "source": [
    "Als Nächstes können wir mit PyCharm oder einer anderen IDE diese drei Dateien erstellen, die dann bequem das Projekt abrunden und Anfragen entgegennehmen.\n",
    "\n",
    "Neben der UI, die auch sehr einfach und funktional gestaltet werden kann, ist der eigentliche Kern JS, die Funktionen ausführt und somit Daten an das Model liefert und Antworten zurückgibt. So können auch die Aufgabenverteilung dementsprechend verteilt werden, wenn es sich um ein größeres Projekt handelt.\n",
    "\n",
    "Für diesen Zweck hier wird die UI einfach und funktional gehalten.\n",
    "\n",
    "Die .js Datei könne so aussehen:"
   ]
  },
  {
   "cell_type": "raw",
   "id": "3aa50451-a5c6-40ae-8d17-d17dacd14b8c",
   "metadata": {},
   "source": [
    "//-- app.js --\\\\\n",
    "\n",
    "// Test function, opens new tab and displays result.\n",
    "function test_func(){\n",
    "    document.write(5 + 6);\n",
    "}\n",
    "\n",
    "\n",
    "// Core of the prediction.\n",
    "function exec_prediction(){\n",
    "    \n",
    "    // collect variables.\n",
    "    var credit_score = document.getElementById('id_credit_score').value;\n",
    "    var country      = document.getElementById('idcountry').value;\n",
    "    var gender   = document.getElementById('idgender').value;\n",
    "    var age      = document.getElementById('idage').value;\n",
    "    var tenur    = document.getElementById('idtenur').value;\n",
    "    var balance  =  document.getElementById('idbalance').value;\n",
    "    var products_number = document.getElementById('idproducts_number').value;\n",
    "    var credit_card     = document.getElementById('idcredit_card').value;\n",
    "    var active_member   = document.getElementById('idactive_member').value;\n",
    "    var estimated_salary= document.getElementById('idestimated_salary').value;\n",
    "    // More inputs... \n",
    "    // - Watch out for the right spelling.\n",
    "    // - Input can be parsed and so on.  \n",
    "  \n",
    "    // End point URL to post data for prediction.\n",
    "    // - See file server.py which uses predict() to collect data and returns the result. \n",
    "    var url = \"http://localhost:5000/make_prediction\";\n",
    "   \n",
    "    // Query.\n",
    "    // - Post data and get result and status.\n",
    "    $.post(url, {\n",
    "        credit_score: credit_score,\n",
    "        country: country,\n",
    "        gender: gender,\n",
    "        age: age,\n",
    "        tenure: tenur,\n",
    "        balance: balance,\n",
    "        products_number: products_number,\n",
    "        credit_card: credit_card,\n",
    "        active_member:active_member,\n",
    "        estimated_salary: estimated_salary,\n",
    "\n",
    "    },function(data, status){ \n",
    "        console.log(data.churn_prediction);\n",
    "        document.getElementById(\"result\").innerHTML = \"Prediction: \" + data.churn_prediction + \" Status Request: \" + status;\n",
    "        console.log(status);\n",
    "    });\n",
    "\n",
    "}     //console.log(status);\r\n",
    "    });\r\n",
    "\r\n",
    "}"
   ]
  },
  {
   "cell_type": "markdown",
   "id": "e76aad51-79d2-4f59-8f79-17c56c6a299f",
   "metadata": {},
   "source": [
    "Der aufbau ist sehr simpel. Nach der übergabe der Parameter wird mittels `document.getElementById(\"result\").innerHTML = \"Prediction: \" + data.churn_prediction + \" Status Request: \" + status;` das Ergebnis angezeigt."
   ]
  },
  {
   "cell_type": "markdown",
   "id": "1f969ad9-003a-416e-9581-c964bf735988",
   "metadata": {},
   "source": [
    "Damit funktioniert alles und die UI und sonstige Elemente können weiter entwickelt werden => Deployment."
   ]
  }
 ],
 "metadata": {
  "kernelspec": {
   "display_name": "Python 3 (ipykernel)",
   "language": "python",
   "name": "python3"
  },
  "language_info": {
   "codemirror_mode": {
    "name": "ipython",
    "version": 3
   },
   "file_extension": ".py",
   "mimetype": "text/x-python",
   "name": "python",
   "nbconvert_exporter": "python",
   "pygments_lexer": "ipython3",
   "version": "3.9.18"
  }
 },
 "nbformat": 4,
 "nbformat_minor": 5
}
