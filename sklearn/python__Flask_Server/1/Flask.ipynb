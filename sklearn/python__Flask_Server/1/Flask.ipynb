{
 "cells": [
  {
   "cell_type": "markdown",
   "id": "c446fa8d-2d78-44e9-8b11-a0a839245eb1",
   "metadata": {},
   "source": [
    "<h1>Python Flask Server</h1>"
   ]
  },
  {
   "cell_type": "markdown",
   "id": "277b840f-0e10-42f1-a14b-db3e16268ee5",
   "metadata": {},
   "source": [
    "Flask bietet die Möglichkeit, die trainieren Modelle über ein Service zu nutzen.\n",
    "\n",
    "Das Aufsetzen geht einfach und ist in wenigen Schritten erledigt.\n",
    "\n",
    "Als Erstes muss ein Verzeichnis angelegt werden z. B. 1/ <br>\n",
    "Darunter: 1/client, 1/model und 1/server\n",
    "\n",
    "Der Client wird die UI Elemente enthalten. Der Server wird sich um den Server kümmern und das Verzeichnis model/ enthält die Artefakte. "
   ]
  },
  {
   "cell_type": "code",
   "execution_count": null,
   "id": "959e420d-a308-467f-9067-409969d53738",
   "metadata": {},
   "outputs": [],
   "source": []
  },
  {
   "cell_type": "code",
   "execution_count": null,
   "id": "96fe4774-fbaa-4270-a254-69cd104c771c",
   "metadata": {},
   "outputs": [],
   "source": []
  },
  {
   "cell_type": "code",
   "execution_count": null,
   "id": "458ac63c-c629-4b10-a78c-62e4270985ca",
   "metadata": {},
   "outputs": [],
   "source": []
  },
  {
   "cell_type": "code",
   "execution_count": null,
   "id": "189d4214-a06f-4bd4-91a5-5db8c9173c75",
   "metadata": {},
   "outputs": [],
   "source": []
  },
  {
   "cell_type": "code",
   "execution_count": null,
   "id": "03b87fee-0ef7-4765-9390-977b3c9167ec",
   "metadata": {},
   "outputs": [],
   "source": []
  },
  {
   "cell_type": "code",
   "execution_count": null,
   "id": "920592e4-c777-4981-825e-a55e685be144",
   "metadata": {},
   "outputs": [],
   "source": []
  },
  {
   "cell_type": "code",
   "execution_count": null,
   "id": "07b985b8-6de1-495d-abdf-05fa5a5a8294",
   "metadata": {},
   "outputs": [],
   "source": []
  },
  {
   "cell_type": "code",
   "execution_count": null,
   "id": "e018f906-88d0-4d45-ac89-65a67f2ac791",
   "metadata": {},
   "outputs": [],
   "source": []
  },
  {
   "cell_type": "code",
   "execution_count": null,
   "id": "d49646b0-126f-4855-baaf-27b08d4db8cf",
   "metadata": {},
   "outputs": [],
   "source": []
  }
 ],
 "metadata": {
  "kernelspec": {
   "display_name": "Python 3 (ipykernel)",
   "language": "python",
   "name": "python3"
  },
  "language_info": {
   "codemirror_mode": {
    "name": "ipython",
    "version": 3
   },
   "file_extension": ".py",
   "mimetype": "text/x-python",
   "name": "python",
   "nbconvert_exporter": "python",
   "pygments_lexer": "ipython3",
   "version": "3.9.18"
  }
 },
 "nbformat": 4,
 "nbformat_minor": 5
}
