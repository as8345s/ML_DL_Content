{
 "cells": [
  {
   "cell_type": "code",
   "execution_count": null,
   "id": "95547352-2807-420d-b279-b11900c1affe",
   "metadata": {},
   "outputs": [],
   "source": []
  },
  {
   "cell_type": "code",
   "execution_count": null,
   "id": "33ee14ec-cc40-42ac-b3cc-ebc004a1e83a",
   "metadata": {},
   "outputs": [],
   "source": []
  },
  {
   "cell_type": "code",
   "execution_count": null,
   "id": "bde0bb3e-6342-4b00-b01f-3d71183fac67",
   "metadata": {},
   "outputs": [],
   "source": []
  },
  {
   "cell_type": "raw",
   "id": "203289d4-78f1-44f4-9d88-342c7df9ba7f",
   "metadata": {},
   "source": [
    "## Colors ##\n",
    "https://matplotlib.org/stable/gallery/color/named_colors.html\n"
   ]
  },
  {
   "cell_type": "code",
   "execution_count": null,
   "id": "897e7a35-89dc-4d83-9a40-12208633855e",
   "metadata": {},
   "outputs": [],
   "source": []
  },
  {
   "cell_type": "code",
   "execution_count": null,
   "id": "16179554-ab24-45d3-82ce-4500bbd701af",
   "metadata": {},
   "outputs": [],
   "source": []
  }
 ],
 "metadata": {
  "kernelspec": {
   "display_name": "Python 3 (ipykernel)",
   "language": "python",
   "name": "python3"
  },
  "language_info": {
   "codemirror_mode": {
    "name": "ipython",
    "version": 3
   },
   "file_extension": ".py",
   "mimetype": "text/x-python",
   "name": "python",
   "nbconvert_exporter": "python",
   "pygments_lexer": "ipython3",
   "version": "3.9.19"
  }
 },
 "nbformat": 4,
 "nbformat_minor": 5
}
