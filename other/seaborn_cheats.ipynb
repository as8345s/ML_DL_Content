{
 "cells": [
  {
   "cell_type": "code",
   "execution_count": null,
   "id": "60fa76a9-ea40-4804-9cb9-e99ec29382ca",
   "metadata": {},
   "outputs": [],
   "source": []
  },
  {
   "cell_type": "code",
   "execution_count": null,
   "id": "b928b10a-9161-4556-94a0-e6bb58d31b8b",
   "metadata": {},
   "outputs": [],
   "source": []
  },
  {
   "cell_type": "code",
   "execution_count": null,
   "id": "df22948b-c626-4faa-b68a-b5ec838d6c33",
   "metadata": {},
   "outputs": [],
   "source": []
  },
  {
   "cell_type": "code",
   "execution_count": null,
   "id": "491f5216-dd5d-4dc8-860c-30c3a37993ed",
   "metadata": {},
   "outputs": [],
   "source": []
  },
  {
   "cell_type": "code",
   "execution_count": null,
   "id": "152addf8-6471-4144-b0e5-f764abd8fd53",
   "metadata": {},
   "outputs": [],
   "source": []
  },
  {
   "cell_type": "raw",
   "id": "4ac3e236-75ba-490b-a487-ec698adae4a5",
   "metadata": {},
   "source": [
    "## Box-Plot ##\n",
    "# - https://seaborn.pydata.org/generated/seaborn.boxplot.html\n",
    "\n",
    "sns.boxplot(x=<X-Data>, legend=False, hue=0)\n",
    "sns.boxplot(data=dataset, x=<age>, y=<Klasse:[0,1,2]>)\n",
    "\n",
    "# Mehrere Plots:\n",
    "for i in range(2) :\n",
    "    plt.subplot(1,2, i+1) # 2 Plots, Columns. 2 Features.\n",
    "    sn.boxplot(x=<[Features]>, palette=\"pastel\", legend=False, hue=0)\n"
   ]
  },
  {
   "cell_type": "code",
   "execution_count": null,
   "id": "d387ce83-c49f-4754-8cc0-79c56f11fd51",
   "metadata": {},
   "outputs": [],
   "source": []
  },
  {
   "cell_type": "code",
   "execution_count": null,
   "id": "9662fc63-b048-45b2-aa8a-d4add23ce867",
   "metadata": {},
   "outputs": [],
   "source": []
  },
  {
   "cell_type": "code",
   "execution_count": null,
   "id": "fb4655c3-5449-48f3-9e62-3e0376a62094",
   "metadata": {},
   "outputs": [],
   "source": []
  },
  {
   "cell_type": "code",
   "execution_count": null,
   "id": "44ddd9a2-be39-4b7e-810b-b989f1420301",
   "metadata": {},
   "outputs": [],
   "source": []
  }
 ],
 "metadata": {
  "kernelspec": {
   "display_name": "Python 3 (ipykernel)",
   "language": "python",
   "name": "python3"
  },
  "language_info": {
   "codemirror_mode": {
    "name": "ipython",
    "version": 3
   },
   "file_extension": ".py",
   "mimetype": "text/x-python",
   "name": "python",
   "nbconvert_exporter": "python",
   "pygments_lexer": "ipython3",
   "version": "3.9.19"
  }
 },
 "nbformat": 4,
 "nbformat_minor": 5
}
