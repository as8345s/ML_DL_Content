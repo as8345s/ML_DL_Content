{
 "cells": [
  {
   "cell_type": "markdown",
   "id": "8b495c6b-f9d6-455b-aa76-27ec11ba28d6",
   "metadata": {},
   "source": [
    "<h1>Audio - Transer-Learning</h1>\n",
    "- Nutze Pre-Trained Model"
   ]
  },
  {
   "cell_type": "markdown",
   "id": "f98668b5-50cf-460e-9204-850b388d9226",
   "metadata": {},
   "source": [
    "In diesem Notebook wollen wir Umgebungsgeräusche mithilfe eines bereits trainierten Models klassifizieren.\n",
    "\n",
    "Das Model das wir nutzen: YAMNet.\n",
    "> yamnet: <br>\n",
    "> https://www.kaggle.com/models/google/yamnet/tensorFlow2/yamnet/1?tfhub-redirect=true [Letzter Zugriff: 19.09.2024] <br>\n",
    "\n",
    "> Trainiert mit 521 Klassen: <br>\n",
    "> https://github.com/tensorflow/models/blob/master/research/audioset/yamnet/yamnet_class_map.csv\n",
    "\n",
    "Das Model nimmt 1-D Waveform Daten an die sich in dem Bereich von -1 bis +1 befinden. "
   ]
  },
  {
   "cell_type": "code",
   "execution_count": 2,
   "id": "d62865b9-f345-4005-8a8d-ab55b2d9369d",
   "metadata": {},
   "outputs": [
    {
     "name": "stdout",
     "output_type": "stream",
     "text": [
      "WARNING:tensorflow:From C:\\Users\\Alexander\\anaconda3\\envs\\tensorflow\\lib\\site-packages\\tf_keras\\src\\losses.py:2976: The name tf.losses.sparse_softmax_cross_entropy is deprecated. Please use tf.compat.v1.losses.sparse_softmax_cross_entropy instead.\n",
      "\n"
     ]
    }
   ],
   "source": [
    "# Imports. \n",
    "import os\n",
    "\n",
    "from IPython import display\n",
    "import matplotlib.pyplot as plt\n",
    "import numpy as np\n",
    "import pandas as pd\n",
    "\n",
    "import tensorflow as tf\n",
    "import tensorflow_hub as hub\n",
    "import tensorflow_io as tfio"
   ]
  },
  {
   "cell_type": "code",
   "execution_count": 3,
   "id": "bdbc29fd-327b-4015-9f9c-1e74d1c0720d",
   "metadata": {},
   "outputs": [
    {
     "name": "stdout",
     "output_type": "stream",
     "text": [
      "WARNING:tensorflow:From C:\\Users\\Alexander\\anaconda3\\envs\\tensorflow\\lib\\site-packages\\tensorflow_hub\\resolver.py:120: The name tf.gfile.MakeDirs is deprecated. Please use tf.io.gfile.makedirs instead.\n",
      "\n"
     ]
    },
    {
     "name": "stderr",
     "output_type": "stream",
     "text": [
      "WARNING:tensorflow:From C:\\Users\\Alexander\\anaconda3\\envs\\tensorflow\\lib\\site-packages\\tensorflow_hub\\resolver.py:120: The name tf.gfile.MakeDirs is deprecated. Please use tf.io.gfile.makedirs instead.\n",
      "\n"
     ]
    },
    {
     "name": "stdout",
     "output_type": "stream",
     "text": [
      "WARNING:tensorflow:From C:\\Users\\Alexander\\anaconda3\\envs\\tensorflow\\lib\\site-packages\\tensorflow_hub\\module_v2.py:126: The name tf.saved_model.load_v2 is deprecated. Please use tf.compat.v2.saved_model.load instead.\n",
      "\n"
     ]
    },
    {
     "name": "stderr",
     "output_type": "stream",
     "text": [
      "WARNING:tensorflow:From C:\\Users\\Alexander\\anaconda3\\envs\\tensorflow\\lib\\site-packages\\tensorflow_hub\\module_v2.py:126: The name tf.saved_model.load_v2 is deprecated. Please use tf.compat.v2.saved_model.load instead.\n",
      "\n"
     ]
    }
   ],
   "source": [
    "# Lade Model aus dem Hub # \n",
    "yamnet_model_handle = 'https://tfhub.dev/google/yamnet/1'\n",
    "yamnet_model        = hub.load(yamnet_model_handle)"
   ]
  },
  {
   "cell_type": "markdown",
   "id": "260fe41c-6269-45cf-b1c5-c211fa90d5f5",
   "metadata": {},
   "source": [
    "Wir können auch das passende Dataset herunterladen und das mit dem Model testen."
   ]
  },
  {
   "cell_type": "code",
   "execution_count": 4,
   "id": "44c7ed9d-4492-419e-9c94-2883398cd205",
   "metadata": {},
   "outputs": [
    {
     "name": "stdout",
     "output_type": "stream",
     "text": [
      "./test_data\\miaow_16k.wav\n"
     ]
    }
   ],
   "source": [
    "testing_wav_file_name = \\\n",
    "    tf.keras.utils.get_file('miaow_16k.wav',\n",
    "                    'https://storage.googleapis.com/audioset/miaow_16k.wav',\n",
    "                     cache_dir='./',\n",
    "                     cache_subdir='test_data')\n",
    "\n",
    "print(testing_wav_file_name)"
   ]
  },
  {
   "cell_type": "markdown",
   "id": "7ea1ed6b-5456-4e1d-ad1b-6cab27d735ab",
   "metadata": {},
   "source": [
    "Wie erwähnt muss die Audiodatei ein 1-D Tensor sein, single-channel (mono) und 16kHz in dem Bereich [-1.0, 1.0].\n",
    "Je nach Model müssen andere Vorverarbeitungsschritte durchgeführt werden, wenn von der Webseite keine eigene Konvertierung angeboten wird."
   ]
  },
  {
   "cell_type": "code",
   "execution_count": 5,
   "id": "ddff4c69-9dfa-4b35-9d84-435e808b9dcf",
   "metadata": {},
   "outputs": [],
   "source": [
    "def load_wav_16k_mono(audio_file):\n",
    "    \n",
    "    # 1-D, 16kHz, -1.0 bis 1.0\n",
    "    file_contents = tf.io.read_file(audio_file)\n",
    "    wav, sample_rate = tf.audio.decode_wav(\n",
    "          file_contents,\n",
    "          desired_channels=1)\n",
    "    \n",
    "    wav = tf.squeeze(wav, axis=-1)\n",
    "    sample_rate = tf.cast(sample_rate, dtype=tf.int64)\n",
    "    wav = tfio.audio.resample(wav, rate_in=sample_rate, rate_out=16000)  # 16kHz\n",
    "    return wav"
   ]
  },
  {
   "cell_type": "code",
   "execution_count": 6,
   "id": "31ab6de5-58ce-4308-8840-78cba967cc6e",
   "metadata": {},
   "outputs": [
    {
     "ename": "NotImplementedError",
     "evalue": "in user code:\n\n    File \"C:\\Users\\Alexander\\anaconda3\\envs\\tensorflow\\lib\\site-packages\\tensorflow_io\\python\\ops\\audio_ops.py\", line 458, in f\n        return core_ops.io_audio_resample(\n    File \"C:\\Users\\Alexander\\anaconda3\\envs\\tensorflow\\lib\\site-packages\\tensorflow_io\\python\\ops\\__init__.py\", line 88, in __getattr__\n        return getattr(self._load(), attrb)\n    File \"C:\\Users\\Alexander\\anaconda3\\envs\\tensorflow\\lib\\site-packages\\tensorflow_io\\python\\ops\\__init__.py\", line 84, in _load\n        self._mod = _load_library(self._library)\n    File \"C:\\Users\\Alexander\\anaconda3\\envs\\tensorflow\\lib\\site-packages\\tensorflow_io\\python\\ops\\__init__.py\", line 69, in _load_library\n        raise NotImplementedError(\n\n    NotImplementedError: unable to open file: libtensorflow_io.so, from paths: ['C:\\\\Users\\\\Alexander\\\\anaconda3\\\\envs\\\\tensorflow\\\\lib\\\\site-packages\\\\tensorflow_io\\\\python\\\\ops\\\\libtensorflow_io.so']\n    caused by: ['C:\\\\Users\\\\Alexander\\\\anaconda3\\\\envs\\\\tensorflow\\\\lib\\\\site-packages\\\\tensorflow_io\\\\python\\\\ops\\\\libtensorflow_io.so not found']\n",
     "output_type": "error",
     "traceback": [
      "\u001b[1;31m---------------------------------------------------------------------------\u001b[0m",
      "\u001b[1;31mNotImplementedError\u001b[0m                       Traceback (most recent call last)",
      "Cell \u001b[1;32mIn[6], line 1\u001b[0m\n\u001b[1;32m----> 1\u001b[0m testing_wav_data \u001b[38;5;241m=\u001b[39m \u001b[43mload_wav_16k_mono\u001b[49m\u001b[43m(\u001b[49m\u001b[43mtesting_wav_file_name\u001b[49m\u001b[43m)\u001b[49m\n\u001b[0;32m      3\u001b[0m _ \u001b[38;5;241m=\u001b[39m plt\u001b[38;5;241m.\u001b[39mplot(testing_wav_data)\n\u001b[0;32m      5\u001b[0m \u001b[38;5;66;03m# Play the audio file.\u001b[39;00m\n",
      "Cell \u001b[1;32mIn[5], line 11\u001b[0m, in \u001b[0;36mload_wav_16k_mono\u001b[1;34m(audio_file)\u001b[0m\n\u001b[0;32m      9\u001b[0m wav \u001b[38;5;241m=\u001b[39m tf\u001b[38;5;241m.\u001b[39msqueeze(wav, axis\u001b[38;5;241m=\u001b[39m\u001b[38;5;241m-\u001b[39m\u001b[38;5;241m1\u001b[39m)\n\u001b[0;32m     10\u001b[0m sample_rate \u001b[38;5;241m=\u001b[39m tf\u001b[38;5;241m.\u001b[39mcast(sample_rate, dtype\u001b[38;5;241m=\u001b[39mtf\u001b[38;5;241m.\u001b[39mint64)\n\u001b[1;32m---> 11\u001b[0m wav \u001b[38;5;241m=\u001b[39m \u001b[43mtfio\u001b[49m\u001b[38;5;241;43m.\u001b[39;49m\u001b[43maudio\u001b[49m\u001b[38;5;241;43m.\u001b[39;49m\u001b[43mresample\u001b[49m\u001b[43m(\u001b[49m\u001b[43mwav\u001b[49m\u001b[43m,\u001b[49m\u001b[43m \u001b[49m\u001b[43mrate_in\u001b[49m\u001b[38;5;241;43m=\u001b[39;49m\u001b[43msample_rate\u001b[49m\u001b[43m,\u001b[49m\u001b[43m \u001b[49m\u001b[43mrate_out\u001b[49m\u001b[38;5;241;43m=\u001b[39;49m\u001b[38;5;241;43m16000\u001b[39;49m\u001b[43m)\u001b[49m  \u001b[38;5;66;03m# 16kHz\u001b[39;00m\n\u001b[0;32m     12\u001b[0m \u001b[38;5;28;01mreturn\u001b[39;00m wav\n",
      "File \u001b[1;32m~\\anaconda3\\envs\\tensorflow\\lib\\site-packages\\tensorflow_io\\python\\ops\\audio_ops.py:462\u001b[0m, in \u001b[0;36mresample\u001b[1;34m(input, rate_in, rate_out, name)\u001b[0m\n\u001b[0;32m    457\u001b[0m \u001b[38;5;28;01mdef\u001b[39;00m \u001b[38;5;21mf\u001b[39m(i):\n\u001b[0;32m    458\u001b[0m     \u001b[38;5;28;01mreturn\u001b[39;00m core_ops\u001b[38;5;241m.\u001b[39mio_audio_resample(\n\u001b[0;32m    459\u001b[0m         i, rate_in\u001b[38;5;241m=\u001b[39mrate_in, rate_out\u001b[38;5;241m=\u001b[39mrate_out, name\u001b[38;5;241m=\u001b[39mname\n\u001b[0;32m    460\u001b[0m     )\n\u001b[1;32m--> 462\u001b[0m value \u001b[38;5;241m=\u001b[39m \u001b[43mtf\u001b[49m\u001b[38;5;241;43m.\u001b[39;49m\u001b[43mvectorized_map\u001b[49m\u001b[43m(\u001b[49m\u001b[43mf\u001b[49m\u001b[43m,\u001b[49m\u001b[43m \u001b[49m\u001b[38;5;28;43minput\u001b[39;49m\u001b[43m)\u001b[49m\n\u001b[0;32m    464\u001b[0m \u001b[38;5;28;01mdef\u001b[39;00m \u001b[38;5;21mg1\u001b[39m():\n\u001b[0;32m    465\u001b[0m     \u001b[38;5;28;01mreturn\u001b[39;00m tf\u001b[38;5;241m.\u001b[39msqueeze(value, [\u001b[38;5;241m0\u001b[39m, \u001b[38;5;241m-\u001b[39m\u001b[38;5;241m1\u001b[39m])\n",
      "File \u001b[1;32m~\\anaconda3\\envs\\tensorflow\\lib\\site-packages\\tensorflow\\python\\ops\\parallel_for\\control_flow_ops.py:578\u001b[0m, in \u001b[0;36mvectorized_map\u001b[1;34m(fn, elems, fallback_to_while_loop, warn)\u001b[0m\n\u001b[0;32m    575\u001b[0m \u001b[38;5;28;01melse\u001b[39;00m:\n\u001b[0;32m    576\u001b[0m   batch_size \u001b[38;5;241m=\u001b[39m \u001b[38;5;28mmax\u001b[39m(static_first_dims)\n\u001b[1;32m--> 578\u001b[0m \u001b[38;5;28;01mreturn\u001b[39;00m \u001b[43mpfor\u001b[49m\u001b[43m(\u001b[49m\n\u001b[0;32m    579\u001b[0m \u001b[43m    \u001b[49m\u001b[43mloop_fn\u001b[49m\u001b[43m,\u001b[49m\n\u001b[0;32m    580\u001b[0m \u001b[43m    \u001b[49m\u001b[43mbatch_size\u001b[49m\u001b[43m,\u001b[49m\n\u001b[0;32m    581\u001b[0m \u001b[43m    \u001b[49m\u001b[43mfallback_to_while_loop\u001b[49m\u001b[38;5;241;43m=\u001b[39;49m\u001b[43mfallback_to_while_loop\u001b[49m\u001b[43m,\u001b[49m\n\u001b[0;32m    582\u001b[0m \u001b[43m    \u001b[49m\u001b[43mwarn\u001b[49m\u001b[38;5;241;43m=\u001b[39;49m\u001b[43mwarn\u001b[49m\u001b[43m)\u001b[49m\n",
      "File \u001b[1;32m~\\anaconda3\\envs\\tensorflow\\lib\\site-packages\\tensorflow\\python\\ops\\parallel_for\\control_flow_ops.py:228\u001b[0m, in \u001b[0;36mpfor\u001b[1;34m(loop_fn, iters, fallback_to_while_loop, parallel_iterations, warn)\u001b[0m\n\u001b[0;32m    225\u001b[0m     def_function\u001b[38;5;241m.\u001b[39mrun_functions_eagerly(\u001b[38;5;28;01mFalse\u001b[39;00m)\n\u001b[0;32m    226\u001b[0m   f \u001b[38;5;241m=\u001b[39m def_function\u001b[38;5;241m.\u001b[39mfunction(f)\n\u001b[1;32m--> 228\u001b[0m outputs \u001b[38;5;241m=\u001b[39m \u001b[43mf\u001b[49m\u001b[43m(\u001b[49m\u001b[43m)\u001b[49m\n\u001b[0;32m    229\u001b[0m \u001b[38;5;28;01mif\u001b[39;00m functions_run_eagerly \u001b[38;5;129;01mis\u001b[39;00m \u001b[38;5;129;01mnot\u001b[39;00m \u001b[38;5;28;01mNone\u001b[39;00m:\n\u001b[0;32m    230\u001b[0m   def_function\u001b[38;5;241m.\u001b[39mrun_functions_eagerly(functions_run_eagerly)\n",
      "File \u001b[1;32m~\\anaconda3\\envs\\tensorflow\\lib\\site-packages\\tensorflow\\python\\util\\traceback_utils.py:153\u001b[0m, in \u001b[0;36mfilter_traceback.<locals>.error_handler\u001b[1;34m(*args, **kwargs)\u001b[0m\n\u001b[0;32m    151\u001b[0m \u001b[38;5;28;01mexcept\u001b[39;00m \u001b[38;5;167;01mException\u001b[39;00m \u001b[38;5;28;01mas\u001b[39;00m e:\n\u001b[0;32m    152\u001b[0m   filtered_tb \u001b[38;5;241m=\u001b[39m _process_traceback_frames(e\u001b[38;5;241m.\u001b[39m__traceback__)\n\u001b[1;32m--> 153\u001b[0m   \u001b[38;5;28;01mraise\u001b[39;00m e\u001b[38;5;241m.\u001b[39mwith_traceback(filtered_tb) \u001b[38;5;28;01mfrom\u001b[39;00m \u001b[38;5;28;01mNone\u001b[39;00m\n\u001b[0;32m    154\u001b[0m \u001b[38;5;28;01mfinally\u001b[39;00m:\n\u001b[0;32m    155\u001b[0m   \u001b[38;5;28;01mdel\u001b[39;00m filtered_tb\n",
      "File \u001b[1;32mC:\\Users\\ALEXAN~1\\AppData\\Local\\Temp\\__autograph_generated_file9954m0sk.py:17\u001b[0m, in \u001b[0;36mouter_factory.<locals>.inner_factory.<locals>.tf__f\u001b[1;34m()\u001b[0m\n\u001b[0;32m     15\u001b[0m \u001b[38;5;28;01mtry\u001b[39;00m:\n\u001b[0;32m     16\u001b[0m     do_return \u001b[38;5;241m=\u001b[39m \u001b[38;5;28;01mTrue\u001b[39;00m\n\u001b[1;32m---> 17\u001b[0m     retval_ \u001b[38;5;241m=\u001b[39m ag__\u001b[38;5;241m.\u001b[39mconverted_call(ag__\u001b[38;5;241m.\u001b[39mld(_pfor_impl), (ag__\u001b[38;5;241m.\u001b[39mld(loop_fn), ag__\u001b[38;5;241m.\u001b[39mld(iters)), \u001b[38;5;28mdict\u001b[39m(fallback_to_while_loop\u001b[38;5;241m=\u001b[39mag__\u001b[38;5;241m.\u001b[39mld(fallback_to_while_loop), parallel_iterations\u001b[38;5;241m=\u001b[39mag__\u001b[38;5;241m.\u001b[39mld(parallel_iterations), warn\u001b[38;5;241m=\u001b[39mag__\u001b[38;5;241m.\u001b[39mld(warn)), fscope)\n\u001b[0;32m     18\u001b[0m \u001b[38;5;28;01mexcept\u001b[39;00m:\n\u001b[0;32m     19\u001b[0m     do_return \u001b[38;5;241m=\u001b[39m \u001b[38;5;28;01mFalse\u001b[39;00m\n",
      "File \u001b[1;32m~\\anaconda3\\envs\\tensorflow\\lib\\site-packages\\tensorflow_io\\python\\ops\\audio_ops.py:458\u001b[0m, in \u001b[0;36mresample.<locals>.f\u001b[1;34m(i)\u001b[0m\n\u001b[0;32m    457\u001b[0m \u001b[38;5;28;01mdef\u001b[39;00m \u001b[38;5;21mf\u001b[39m(i):\n\u001b[1;32m--> 458\u001b[0m     \u001b[38;5;28;01mreturn\u001b[39;00m \u001b[43mcore_ops\u001b[49m\u001b[38;5;241;43m.\u001b[39;49m\u001b[43mio_audio_resample\u001b[49m(\n\u001b[0;32m    459\u001b[0m         i, rate_in\u001b[38;5;241m=\u001b[39mrate_in, rate_out\u001b[38;5;241m=\u001b[39mrate_out, name\u001b[38;5;241m=\u001b[39mname\n\u001b[0;32m    460\u001b[0m     )\n",
      "File \u001b[1;32m~\\anaconda3\\envs\\tensorflow\\lib\\site-packages\\tensorflow_io\\python\\ops\\__init__.py:88\u001b[0m, in \u001b[0;36mLazyLoader.__getattr__\u001b[1;34m(self, attrb)\u001b[0m\n\u001b[0;32m     87\u001b[0m \u001b[38;5;28;01mdef\u001b[39;00m \u001b[38;5;21m__getattr__\u001b[39m(\u001b[38;5;28mself\u001b[39m, attrb):\n\u001b[1;32m---> 88\u001b[0m     \u001b[38;5;28;01mreturn\u001b[39;00m \u001b[38;5;28mgetattr\u001b[39m(\u001b[38;5;28;43mself\u001b[39;49m\u001b[38;5;241;43m.\u001b[39;49m\u001b[43m_load\u001b[49m\u001b[43m(\u001b[49m\u001b[43m)\u001b[49m, attrb)\n",
      "File \u001b[1;32m~\\anaconda3\\envs\\tensorflow\\lib\\site-packages\\tensorflow_io\\python\\ops\\__init__.py:84\u001b[0m, in \u001b[0;36mLazyLoader._load\u001b[1;34m(self)\u001b[0m\n\u001b[0;32m     82\u001b[0m \u001b[38;5;28;01mdef\u001b[39;00m \u001b[38;5;21m_load\u001b[39m(\u001b[38;5;28mself\u001b[39m):\n\u001b[0;32m     83\u001b[0m     \u001b[38;5;28;01mif\u001b[39;00m \u001b[38;5;28mself\u001b[39m\u001b[38;5;241m.\u001b[39m_mod \u001b[38;5;129;01mis\u001b[39;00m \u001b[38;5;28;01mNone\u001b[39;00m:\n\u001b[1;32m---> 84\u001b[0m         \u001b[38;5;28mself\u001b[39m\u001b[38;5;241m.\u001b[39m_mod \u001b[38;5;241m=\u001b[39m \u001b[43m_load_library\u001b[49m\u001b[43m(\u001b[49m\u001b[38;5;28;43mself\u001b[39;49m\u001b[38;5;241;43m.\u001b[39;49m\u001b[43m_library\u001b[49m\u001b[43m)\u001b[49m\n\u001b[0;32m     85\u001b[0m     \u001b[38;5;28;01mreturn\u001b[39;00m \u001b[38;5;28mself\u001b[39m\u001b[38;5;241m.\u001b[39m_mod\n",
      "File \u001b[1;32m~\\anaconda3\\envs\\tensorflow\\lib\\site-packages\\tensorflow_io\\python\\ops\\__init__.py:69\u001b[0m, in \u001b[0;36m_load_library\u001b[1;34m(filename, lib)\u001b[0m\n\u001b[0;32m     67\u001b[0m     \u001b[38;5;28;01mexcept\u001b[39;00m (tf\u001b[38;5;241m.\u001b[39merrors\u001b[38;5;241m.\u001b[39mNotFoundError, \u001b[38;5;167;01mOSError\u001b[39;00m) \u001b[38;5;28;01mas\u001b[39;00m e:\n\u001b[0;32m     68\u001b[0m         errs\u001b[38;5;241m.\u001b[39mappend(\u001b[38;5;28mstr\u001b[39m(e))\n\u001b[1;32m---> 69\u001b[0m \u001b[38;5;28;01mraise\u001b[39;00m \u001b[38;5;167;01mNotImplementedError\u001b[39;00m(\n\u001b[0;32m     70\u001b[0m     \u001b[38;5;124m\"\u001b[39m\u001b[38;5;124munable to open file: \u001b[39m\u001b[38;5;124m\"\u001b[39m\n\u001b[0;32m     71\u001b[0m     \u001b[38;5;241m+\u001b[39m \u001b[38;5;124mf\u001b[39m\u001b[38;5;124m\"\u001b[39m\u001b[38;5;132;01m{\u001b[39;00mfilename\u001b[38;5;132;01m}\u001b[39;00m\u001b[38;5;124m, from paths: \u001b[39m\u001b[38;5;132;01m{\u001b[39;00mfilenames\u001b[38;5;132;01m}\u001b[39;00m\u001b[38;5;130;01m\\n\u001b[39;00m\u001b[38;5;124mcaused by: \u001b[39m\u001b[38;5;132;01m{\u001b[39;00merrs\u001b[38;5;132;01m}\u001b[39;00m\u001b[38;5;124m\"\u001b[39m\n\u001b[0;32m     72\u001b[0m )\n",
      "\u001b[1;31mNotImplementedError\u001b[0m: in user code:\n\n    File \"C:\\Users\\Alexander\\anaconda3\\envs\\tensorflow\\lib\\site-packages\\tensorflow_io\\python\\ops\\audio_ops.py\", line 458, in f\n        return core_ops.io_audio_resample(\n    File \"C:\\Users\\Alexander\\anaconda3\\envs\\tensorflow\\lib\\site-packages\\tensorflow_io\\python\\ops\\__init__.py\", line 88, in __getattr__\n        return getattr(self._load(), attrb)\n    File \"C:\\Users\\Alexander\\anaconda3\\envs\\tensorflow\\lib\\site-packages\\tensorflow_io\\python\\ops\\__init__.py\", line 84, in _load\n        self._mod = _load_library(self._library)\n    File \"C:\\Users\\Alexander\\anaconda3\\envs\\tensorflow\\lib\\site-packages\\tensorflow_io\\python\\ops\\__init__.py\", line 69, in _load_library\n        raise NotImplementedError(\n\n    NotImplementedError: unable to open file: libtensorflow_io.so, from paths: ['C:\\\\Users\\\\Alexander\\\\anaconda3\\\\envs\\\\tensorflow\\\\lib\\\\site-packages\\\\tensorflow_io\\\\python\\\\ops\\\\libtensorflow_io.so']\n    caused by: ['C:\\\\Users\\\\Alexander\\\\anaconda3\\\\envs\\\\tensorflow\\\\lib\\\\site-packages\\\\tensorflow_io\\\\python\\\\ops\\\\libtensorflow_io.so not found']\n"
     ]
    }
   ],
   "source": [
    "testing_wav_data = load_wav_16k_mono(testing_wav_file_name)\n",
    "plt.plot(testing_wav_data)\n",
    "\n",
    "display.Audio(testing_wav_data, rate=16000)"
   ]
  },
  {
   "cell_type": "code",
   "execution_count": null,
   "id": "78c0d063-f153-4bb9-9536-8a5eb869151b",
   "metadata": {},
   "outputs": [],
   "source": []
  },
  {
   "cell_type": "code",
   "execution_count": null,
   "id": "8d77a66a-f3d7-4e4b-9489-378ecd9d88d4",
   "metadata": {},
   "outputs": [],
   "source": []
  },
  {
   "cell_type": "code",
   "execution_count": 9,
   "id": "f598eaca-58f5-46aa-8e09-75925a328dfb",
   "metadata": {},
   "outputs": [
    {
     "name": "stdout",
     "output_type": "stream",
     "text": [
      "tensorflow-io (0.31.0)\n",
      "Available versions: 0.31.0, 0.30.0, 0.29.0, 0.28.0, 0.27.0, 0.26.0, 0.25.0, 0.24.0, 0.23.1, 0.23.0, 0.22.0, 0.21.0, 0.20.0, 0.19.1, 0.19.0, 0.18.0\n",
      "  INSTALLED: 0.31.0\n",
      "  LATEST:    0.31.0\n"
     ]
    },
    {
     "name": "stderr",
     "output_type": "stream",
     "text": [
      "WARNING: pip index is currently an experimental command. It may be removed/changed in a future release without prior warning.\n"
     ]
    }
   ],
   "source": [
    "!pip index versions tensorflow-io"
   ]
  },
  {
   "cell_type": "code",
   "execution_count": 10,
   "id": "112017ae-0302-44a2-a9ee-07731141a206",
   "metadata": {},
   "outputs": [
    {
     "data": {
      "text/plain": [
       "'0.31.0'"
      ]
     },
     "execution_count": 10,
     "metadata": {},
     "output_type": "execute_result"
    }
   ],
   "source": [
    "tfio.__version__"
   ]
  },
  {
   "cell_type": "code",
   "execution_count": 1,
   "id": "8fc5a869-6287-4442-9315-13ea4b96bb98",
   "metadata": {
    "scrolled": true
   },
   "outputs": [
    {
     "name": "stdout",
     "output_type": "stream",
     "text": [
      "Collecting tensorflow-io==0.28.0\n",
      "  Downloading tensorflow_io-0.28.0-cp39-cp39-win_amd64.whl.metadata (14 kB)\n",
      "Collecting tensorflow-io-gcs-filesystem==0.28.0 (from tensorflow-io==0.28.0)\n",
      "  Downloading tensorflow_io_gcs_filesystem-0.28.0-cp39-cp39-win_amd64.whl.metadata (14 kB)\n",
      "Downloading tensorflow_io-0.28.0-cp39-cp39-win_amd64.whl (22.9 MB)\n",
      "   ---------------------------------------- 0.0/22.9 MB ? eta -:--:--\n",
      "   ---------------------------------------- 0.1/22.9 MB 4.3 MB/s eta 0:00:06\n",
      "   - -------------------------------------- 0.7/22.9 MB 8.7 MB/s eta 0:00:03\n",
      "   - -------------------------------------- 1.0/22.9 MB 9.5 MB/s eta 0:00:03\n",
      "   - -------------------------------------- 1.0/22.9 MB 9.5 MB/s eta 0:00:03\n",
      "   - -------------------------------------- 1.0/22.9 MB 9.5 MB/s eta 0:00:03\n",
      "   - -------------------------------------- 1.0/22.9 MB 9.5 MB/s eta 0:00:03\n",
      "   - -------------------------------------- 1.0/22.9 MB 9.5 MB/s eta 0:00:03\n",
      "   - -------------------------------------- 1.0/22.9 MB 9.5 MB/s eta 0:00:03\n",
      "   - -------------------------------------- 1.0/22.9 MB 9.5 MB/s eta 0:00:03\n",
      "   -- ------------------------------------- 1.1/22.9 MB 2.5 MB/s eta 0:00:09\n",
      "   -- ------------------------------------- 1.7/22.9 MB 3.3 MB/s eta 0:00:07\n",
      "   --- ------------------------------------ 2.1/22.9 MB 3.8 MB/s eta 0:00:06\n",
      "   ---- ----------------------------------- 2.4/22.9 MB 4.1 MB/s eta 0:00:05\n",
      "   ----- ---------------------------------- 3.0/22.9 MB 4.6 MB/s eta 0:00:05\n",
      "   ----- ---------------------------------- 3.2/22.9 MB 4.7 MB/s eta 0:00:05\n",
      "   ------ --------------------------------- 3.8/22.9 MB 5.1 MB/s eta 0:00:04\n",
      "   ------- -------------------------------- 4.2/22.9 MB 5.3 MB/s eta 0:00:04\n",
      "   ------- -------------------------------- 4.6/22.9 MB 5.5 MB/s eta 0:00:04\n",
      "   -------- ------------------------------- 5.1/22.9 MB 5.8 MB/s eta 0:00:04\n",
      "   --------- ------------------------------ 5.3/22.9 MB 5.7 MB/s eta 0:00:04\n",
      "   ---------- ----------------------------- 5.8/22.9 MB 6.0 MB/s eta 0:00:03\n",
      "   ----------- ---------------------------- 6.3/22.9 MB 6.2 MB/s eta 0:00:03\n",
      "   ----------- ---------------------------- 6.6/22.9 MB 6.2 MB/s eta 0:00:03\n",
      "   ------------ --------------------------- 7.2/22.9 MB 6.5 MB/s eta 0:00:03\n",
      "   ------------ --------------------------- 7.3/22.9 MB 6.5 MB/s eta 0:00:03\n",
      "   ------------- -------------------------- 7.7/22.9 MB 6.4 MB/s eta 0:00:03\n",
      "   -------------- ------------------------- 8.2/22.9 MB 6.6 MB/s eta 0:00:03\n",
      "   -------------- ------------------------- 8.4/22.9 MB 6.6 MB/s eta 0:00:03\n",
      "   -------------- ------------------------- 8.4/22.9 MB 6.6 MB/s eta 0:00:03\n",
      "   -------------- ------------------------- 8.4/22.9 MB 6.6 MB/s eta 0:00:03\n",
      "   -------------- ------------------------- 8.4/22.9 MB 6.6 MB/s eta 0:00:03\n",
      "   -------------- ------------------------- 8.4/22.9 MB 6.6 MB/s eta 0:00:03\n",
      "   -------------- ------------------------- 8.4/22.9 MB 6.6 MB/s eta 0:00:03\n",
      "   --------------- ------------------------ 8.7/22.9 MB 5.5 MB/s eta 0:00:03\n",
      "   ---------------- ----------------------- 9.3/22.9 MB 5.7 MB/s eta 0:00:03\n",
      "   ---------------- ----------------------- 9.4/22.9 MB 5.7 MB/s eta 0:00:03\n",
      "   ----------------- ---------------------- 10.0/22.9 MB 5.8 MB/s eta 0:00:03\n",
      "   ------------------ --------------------- 10.5/22.9 MB 6.0 MB/s eta 0:00:03\n",
      "   ------------------ --------------------- 10.7/22.9 MB 5.8 MB/s eta 0:00:03\n",
      "   ------------------- -------------------- 11.3/22.9 MB 5.8 MB/s eta 0:00:02\n",
      "   -------------------- ------------------- 11.5/22.9 MB 7.3 MB/s eta 0:00:02\n",
      "   -------------------- ------------------- 12.0/22.9 MB 7.1 MB/s eta 0:00:02\n",
      "   --------------------- ------------------ 12.5/22.9 MB 7.3 MB/s eta 0:00:02\n",
      "   ---------------------- ----------------- 12.8/22.9 MB 7.1 MB/s eta 0:00:02\n",
      "   ----------------------- ---------------- 13.3/22.9 MB 7.1 MB/s eta 0:00:02\n",
      "   ----------------------- ---------------- 13.6/22.9 MB 7.2 MB/s eta 0:00:02\n",
      "   ------------------------ --------------- 14.0/22.9 MB 7.1 MB/s eta 0:00:02\n",
      "   ------------------------- -------------- 14.6/22.9 MB 7.2 MB/s eta 0:00:02\n",
      "   ------------------------- -------------- 14.8/22.9 MB 7.1 MB/s eta 0:00:02\n",
      "   -------------------------- ------------- 15.4/22.9 MB 7.1 MB/s eta 0:00:02\n",
      "   --------------------------- ------------ 15.9/22.9 MB 7.3 MB/s eta 0:00:01\n",
      "   ---------------------------- ----------- 16.5/22.9 MB 7.2 MB/s eta 0:00:01\n",
      "   ----------------------------- ---------- 16.8/22.9 MB 7.4 MB/s eta 0:00:01\n",
      "   ----------------------------- ---------- 17.1/22.9 MB 7.2 MB/s eta 0:00:01\n",
      "   ------------------------------ --------- 17.7/22.9 MB 7.4 MB/s eta 0:00:01\n",
      "   ------------------------------- -------- 17.9/22.9 MB 7.3 MB/s eta 0:00:01\n",
      "   -------------------------------- ------- 18.4/22.9 MB 7.3 MB/s eta 0:00:01\n",
      "   --------------------------------- ------ 18.9/22.9 MB 9.1 MB/s eta 0:00:01\n",
      "   --------------------------------- ------ 19.3/22.9 MB 9.1 MB/s eta 0:00:01\n",
      "   ---------------------------------- ----- 19.9/22.9 MB 9.4 MB/s eta 0:00:01\n",
      "   ----------------------------------- ---- 20.5/22.9 MB 9.4 MB/s eta 0:00:01\n",
      "   ------------------------------------ --- 21.0/22.9 MB 9.6 MB/s eta 0:00:01\n",
      "   ------------------------------------- -- 21.3/22.9 MB 9.4 MB/s eta 0:00:01\n",
      "   -------------------------------------- - 21.8/22.9 MB 9.6 MB/s eta 0:00:01\n",
      "   -------------------------------------- - 22.3/22.9 MB 9.5 MB/s eta 0:00:01\n",
      "   ---------------------------------------  22.8/22.9 MB 9.8 MB/s eta 0:00:01\n",
      "   ---------------------------------------  22.9/22.9 MB 9.8 MB/s eta 0:00:01\n",
      "   ---------------------------------------  22.9/22.9 MB 9.8 MB/s eta 0:00:01\n",
      "   ---------------------------------------- 22.9/22.9 MB 9.0 MB/s eta 0:00:00\n",
      "Downloading tensorflow_io_gcs_filesystem-0.28.0-cp39-cp39-win_amd64.whl (1.5 MB)\n",
      "   ---------------------------------------- 0.0/1.5 MB ? eta -:--:--\n",
      "   ------------ --------------------------- 0.5/1.5 MB 15.2 MB/s eta 0:00:01\n",
      "   ---------------------------- ----------- 1.0/1.5 MB 13.3 MB/s eta 0:00:01\n",
      "   ---------------------------------------  1.5/1.5 MB 11.8 MB/s eta 0:00:01\n",
      "   ---------------------------------------- 1.5/1.5 MB 10.5 MB/s eta 0:00:00\n",
      "Installing collected packages: tensorflow-io-gcs-filesystem, tensorflow-io\n",
      "  Attempting uninstall: tensorflow-io-gcs-filesystem\n",
      "    Found existing installation: tensorflow-io-gcs-filesystem 0.30.0\n",
      "    Uninstalling tensorflow-io-gcs-filesystem-0.30.0:\n",
      "      Successfully uninstalled tensorflow-io-gcs-filesystem-0.30.0\n",
      "Successfully installed tensorflow-io-0.28.0 tensorflow-io-gcs-filesystem-0.28.0\n"
     ]
    }
   ],
   "source": [
    "!pip install tensorflow-io==0.28.0"
   ]
  },
  {
   "cell_type": "code",
   "execution_count": null,
   "id": "a9f82977-5573-4950-aa5b-037b2848283c",
   "metadata": {},
   "outputs": [],
   "source": []
  },
  {
   "cell_type": "code",
   "execution_count": null,
   "id": "a24e5065-6b79-493e-9ab2-da4b478770c1",
   "metadata": {},
   "outputs": [],
   "source": []
  },
  {
   "cell_type": "code",
   "execution_count": null,
   "id": "552fa144-06a9-4b8b-a220-970594e08885",
   "metadata": {},
   "outputs": [],
   "source": []
  },
  {
   "cell_type": "code",
   "execution_count": null,
   "id": "30736d88-9054-4df6-9b36-d3f4a3088f2a",
   "metadata": {},
   "outputs": [],
   "source": []
  }
 ],
 "metadata": {
  "kernelspec": {
   "display_name": "Python 3 (ipykernel)",
   "language": "python",
   "name": "python3"
  },
  "language_info": {
   "codemirror_mode": {
    "name": "ipython",
    "version": 3
   },
   "file_extension": ".py",
   "mimetype": "text/x-python",
   "name": "python",
   "nbconvert_exporter": "python",
   "pygments_lexer": "ipython3",
   "version": "3.9.19"
  }
 },
 "nbformat": 4,
 "nbformat_minor": 5
}
