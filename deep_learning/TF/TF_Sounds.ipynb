{
 "cells": [
  {
   "cell_type": "markdown",
   "id": "facc5cd2-f601-4af6-9157-a8aae37590f3",
   "metadata": {},
   "source": [
    "<h1>Sounds</h1>"
   ]
  },
  {
   "cell_type": "code",
   "execution_count": null,
   "id": "979331bc-d851-4e3c-ae8f-89b3e7bfad68",
   "metadata": {},
   "outputs": [],
   "source": []
  },
  {
   "cell_type": "code",
   "execution_count": null,
   "id": "0b53cfa6-2be2-4818-8a52-0cf384995a27",
   "metadata": {},
   "outputs": [],
   "source": []
  },
  {
   "cell_type": "code",
   "execution_count": null,
   "id": "8615c9e8-8625-46b7-b329-61ae4f07f2c9",
   "metadata": {},
   "outputs": [],
   "source": []
  },
  {
   "cell_type": "code",
   "execution_count": null,
   "id": "31595713-c4e5-4e8c-ba54-bc2fdf22c12d",
   "metadata": {},
   "outputs": [],
   "source": []
  },
  {
   "cell_type": "code",
   "execution_count": null,
   "id": "560a9292-7141-4d68-afa5-d5eede24be42",
   "metadata": {},
   "outputs": [],
   "source": []
  },
  {
   "cell_type": "code",
   "execution_count": null,
   "id": "f3f926d7-9ee9-4a43-b717-a465acd3c3e7",
   "metadata": {},
   "outputs": [],
   "source": []
  },
  {
   "cell_type": "code",
   "execution_count": null,
   "id": "6ba09b51-a4fb-4c0e-9dd3-d5aeeaa3c945",
   "metadata": {},
   "outputs": [],
   "source": []
  }
 ],
 "metadata": {
  "kernelspec": {
   "display_name": "Python 3 (ipykernel)",
   "language": "python",
   "name": "python3"
  },
  "language_info": {
   "codemirror_mode": {
    "name": "ipython",
    "version": 3
   },
   "file_extension": ".py",
   "mimetype": "text/x-python",
   "name": "python",
   "nbconvert_exporter": "python",
   "pygments_lexer": "ipython3",
   "version": "3.12.4"
  }
 },
 "nbformat": 4,
 "nbformat_minor": 5
}
