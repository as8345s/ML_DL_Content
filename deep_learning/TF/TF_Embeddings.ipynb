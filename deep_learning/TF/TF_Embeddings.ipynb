{
 "cells": [
  {
   "cell_type": "markdown",
   "id": "1864e6fd-5c3f-471c-9323-ac9af5dc3a5e",
   "metadata": {},
   "source": [
    "<h1>Keras einfaches Word Embedding</h1>"
   ]
  },
  {
   "cell_type": "markdown",
   "id": "0ec3632b-08fb-4072-9431-eb39d0df1989",
   "metadata": {},
   "source": [
    "Word Embeddings sind eine Form der Repräsentation von Wörtern in Zahlen, mit dem ein Model trainiert werden kann, um NLP Aufgaben zu lösen.\n",
    "\n",
    "Mit Embeddings können Relationen gut abgebildet werden. <br>\n",
    "Eine Methode Embeddings zu erstellen ist, durch Trainieren eines Models, das uns am Ende Embeddings liefert.\n",
    "- Erstelle Fake-Problem, um eventuell Embeddings zu bekommen, die die Wörter gut repräsentiert"
   ]
  },
  {
   "cell_type": "markdown",
   "id": "5fec1673-b11d-405f-81e2-6e1c9714c88f",
   "metadata": {},
   "source": [
    "Als Einstieg in die Thematik sollen mittels einfachen Reviews Embeddings erstellt werden. "
   ]
  },
  {
   "cell_type": "code",
   "execution_count": null,
   "id": "7538a710-bc8f-45b1-b744-5725211faa05",
   "metadata": {},
   "outputs": [],
   "source": []
  },
  {
   "cell_type": "code",
   "execution_count": 1,
   "id": "67badb92-1fea-40a5-bf49-3bd3da34a847",
   "metadata": {},
   "outputs": [],
   "source": [
    "import numpy as np\n",
    "from tensorflow.keras.preprocessing.text import one_hot\n",
    "from tensorflow.keras.layers import Embedding\n",
    "import tensorflow as tf\n",
    "\n",
    "# Mögliche Reviews:\n",
    "reviews = ['nice food',\n",
    "        'amazing restaurant',\n",
    "        'too good',\n",
    "        'just loved it!',\n",
    "        'will go again',\n",
    "        'horrible food',\n",
    "        'never go there',\n",
    "        'poor service',\n",
    "        'poor quality',\n",
    "        'needs improvement']"
   ]
  },
  {
   "cell_type": "code",
   "execution_count": 15,
   "id": "b8b50741-07ae-45de-b87e-a49a31443f20",
   "metadata": {},
   "outputs": [],
   "source": [
    "# Positiver oder negativer Review. \n",
    "y_truth = np.array([1,1,1,1,1,0,0,0,0,0])"
   ]
  },
  {
   "cell_type": "markdown",
   "id": "dab9142b-3444-423c-9a88-c7fe30c7cc6d",
   "metadata": {},
   "source": [
    "Als Erstes muss das Vokabular erstellt werden. Jedes Wort bekommt eine Zahl, Relationen können damit nicht abgebildet werden.\n",
    "\n",
    "Keras liefert eine Methode, mit dem das einfach umsetzbar ist."
   ]
  },
  {
   "cell_type": "code",
   "execution_count": 2,
   "id": "86eef94d-7f97-4e51-8980-fa95231fdeb1",
   "metadata": {},
   "outputs": [
    {
     "data": {
      "text/plain": [
       "[2, 6, 7]"
      ]
     },
     "execution_count": 2,
     "metadata": {},
     "output_type": "execute_result"
    }
   ],
   "source": [
    "# Input Text | n\n",
    "# - Hat auch Filterfunktion. \n",
    "one_hot(\"eins zwei drei\", 10)  # Vokabular Größe n, hier 10."
   ]
  },
  {
   "cell_type": "markdown",
   "id": "c8ea501f-6fb1-4614-97d7-39e55992f479",
   "metadata": {},
   "source": [
    "Damit bekommt jedes Wort eine Zahl.\n",
    "\n",
    "Damit erstellen wir eine On-Hot-Encode Matrix. <br>\n",
    "Diese Vektoren werden später für die Multiplikation benötigt. "
   ]
  },
  {
   "cell_type": "code",
   "execution_count": 3,
   "id": "0695bc94-d3b0-419d-ab28-f24df9aa5d3f",
   "metadata": {},
   "outputs": [
    {
     "data": {
      "text/plain": [
       "[[6, 3],\n",
       " [4, 5],\n",
       " [6, 2],\n",
       " [8, 2, 3],\n",
       " [4, 6, 9],\n",
       " [2, 3],\n",
       " [3, 6, 2],\n",
       " [5, 5],\n",
       " [5, 2],\n",
       " [5, 5]]"
      ]
     },
     "execution_count": 3,
     "metadata": {},
     "output_type": "execute_result"
    }
   ],
   "source": [
    "# Einfach als Liste.\n",
    "ohe_review = [one_hot(wort, 10)  for wort in reviews ]\n",
    "ohe_review"
   ]
  },
  {
   "cell_type": "markdown",
   "id": "a6ae0236-337d-4800-bb31-b5096cd4a017",
   "metadata": {},
   "source": [
    "Das neurale Netz hat eine feste Größe, um eine verschiedene Anzahl von Wörtern (in einem Satz) zu verarbeiten, wird Padding angewendet, um den Rest mit Nullen zu füllen.\n",
    "\n",
    "Dabei kann Keras uns auch wieder helfen, es schnell und sauber umzusetzen. "
   ]
  },
  {
   "cell_type": "code",
   "execution_count": 4,
   "id": "29150d8e-6e7f-40a9-a2b7-d49b94b9f870",
   "metadata": {},
   "outputs": [
    {
     "data": {
      "text/plain": [
       "array([[6, 3, 0, 0, 0],\n",
       "       [4, 5, 0, 0, 0],\n",
       "       [6, 2, 0, 0, 0],\n",
       "       [8, 2, 3, 0, 0],\n",
       "       [4, 6, 9, 0, 0],\n",
       "       [2, 3, 0, 0, 0],\n",
       "       [3, 6, 2, 0, 0],\n",
       "       [5, 5, 0, 0, 0],\n",
       "       [5, 2, 0, 0, 0],\n",
       "       [5, 5, 0, 0, 0]])"
      ]
     },
     "execution_count": 4,
     "metadata": {},
     "output_type": "execute_result"
    }
   ],
   "source": [
    "# Keras übernimmt Padding.\n",
    "# - Als Input: Review, Max. Länge des Satzes, Padding Typ. \n",
    "ohe_review_pad = tf.keras.preprocessing.sequence.pad_sequences(\\\n",
    "               ohe_review, maxlen=5, padding='post')\n",
    "ohe_review_pad"
   ]
  },
  {
   "cell_type": "markdown",
   "id": "c0ae8b9e-847b-4748-8236-5a2217a7e301",
   "metadata": {},
   "source": [
    "Der Rest wurde mit Nullen aufgefüllt. \n",
    "\n",
    "Für die Embeddings muss jetzt eine Vektorgröße festgelegt werden. "
   ]
  },
  {
   "cell_type": "code",
   "execution_count": 13,
   "id": "a433bdc7-05d8-44a3-b678-414ac7213ed3",
   "metadata": {},
   "outputs": [],
   "source": [
    "# Vektorgröße:\n",
    "vec_size = 6\n",
    "\n",
    "# Model:\n",
    "# - Siehe: https://www.tensorflow.org/api_docs/python/tf/keras/layers/Embedding\n",
    "model = tf.keras.Sequential([\n",
    "    # Vokabulargröße | Vektorgröße  | Name\n",
    "    tf.keras.layers.Embedding(10, vec_size, name=\"emb_1\"),   # Embedding Layer\n",
    "    tf.keras.layers.Flatten(),  # Flattern der Vektoren (10 x 6).\n",
    "    tf.keras.layers.Dense(units=1, activation='sigmoid')\n",
    "])\n",
    "\n",
    "model.compile(\n",
    "    optimizer = 'adam',\n",
    "    loss      = 'binary_crossentropy',\n",
    "    metrics   = ['accuracy']\n",
    ")"
   ]
  },
  {
   "cell_type": "code",
   "execution_count": 16,
   "id": "b368805e-0905-4515-bc19-5407a1ba8c06",
   "metadata": {
    "scrolled": true
   },
   "outputs": [
    {
     "name": "stdout",
     "output_type": "stream",
     "text": [
      "Epoch 1/30\n",
      "\u001b[1m1/1\u001b[0m \u001b[32m━━━━━━━━━━━━━━━━━━━━\u001b[0m\u001b[37m\u001b[0m \u001b[1m1s\u001b[0m 715ms/step - accuracy: 0.5000 - loss: 0.6901\n",
      "Epoch 2/30\n",
      "\u001b[1m1/1\u001b[0m \u001b[32m━━━━━━━━━━━━━━━━━━━━\u001b[0m\u001b[37m\u001b[0m \u001b[1m0s\u001b[0m 22ms/step - accuracy: 0.5000 - loss: 0.6890\n",
      "Epoch 3/30\n",
      "\u001b[1m1/1\u001b[0m \u001b[32m━━━━━━━━━━━━━━━━━━━━\u001b[0m\u001b[37m\u001b[0m \u001b[1m0s\u001b[0m 20ms/step - accuracy: 0.5000 - loss: 0.6880\n",
      "Epoch 4/30\n",
      "\u001b[1m1/1\u001b[0m \u001b[32m━━━━━━━━━━━━━━━━━━━━\u001b[0m\u001b[37m\u001b[0m \u001b[1m0s\u001b[0m 20ms/step - accuracy: 0.5000 - loss: 0.6870\n",
      "Epoch 5/30\n",
      "\u001b[1m1/1\u001b[0m \u001b[32m━━━━━━━━━━━━━━━━━━━━\u001b[0m\u001b[37m\u001b[0m \u001b[1m0s\u001b[0m 20ms/step - accuracy: 0.7000 - loss: 0.6860\n",
      "Epoch 6/30\n",
      "\u001b[1m1/1\u001b[0m \u001b[32m━━━━━━━━━━━━━━━━━━━━\u001b[0m\u001b[37m\u001b[0m \u001b[1m0s\u001b[0m 19ms/step - accuracy: 0.7000 - loss: 0.6850\n",
      "Epoch 7/30\n",
      "\u001b[1m1/1\u001b[0m \u001b[32m━━━━━━━━━━━━━━━━━━━━\u001b[0m\u001b[37m\u001b[0m \u001b[1m0s\u001b[0m 30ms/step - accuracy: 0.7000 - loss: 0.6840\n",
      "Epoch 8/30\n",
      "\u001b[1m1/1\u001b[0m \u001b[32m━━━━━━━━━━━━━━━━━━━━\u001b[0m\u001b[37m\u001b[0m \u001b[1m0s\u001b[0m 22ms/step - accuracy: 0.8000 - loss: 0.6829\n",
      "Epoch 9/30\n",
      "\u001b[1m1/1\u001b[0m \u001b[32m━━━━━━━━━━━━━━━━━━━━\u001b[0m\u001b[37m\u001b[0m \u001b[1m0s\u001b[0m 19ms/step - accuracy: 0.8000 - loss: 0.6819\n",
      "Epoch 10/30\n",
      "\u001b[1m1/1\u001b[0m \u001b[32m━━━━━━━━━━━━━━━━━━━━\u001b[0m\u001b[37m\u001b[0m \u001b[1m0s\u001b[0m 20ms/step - accuracy: 0.8000 - loss: 0.6809\n",
      "Epoch 11/30\n",
      "\u001b[1m1/1\u001b[0m \u001b[32m━━━━━━━━━━━━━━━━━━━━\u001b[0m\u001b[37m\u001b[0m \u001b[1m0s\u001b[0m 21ms/step - accuracy: 0.8000 - loss: 0.6798\n",
      "Epoch 12/30\n",
      "\u001b[1m1/1\u001b[0m \u001b[32m━━━━━━━━━━━━━━━━━━━━\u001b[0m\u001b[37m\u001b[0m \u001b[1m0s\u001b[0m 20ms/step - accuracy: 0.8000 - loss: 0.6788\n",
      "Epoch 13/30\n",
      "\u001b[1m1/1\u001b[0m \u001b[32m━━━━━━━━━━━━━━━━━━━━\u001b[0m\u001b[37m\u001b[0m \u001b[1m0s\u001b[0m 20ms/step - accuracy: 0.8000 - loss: 0.6778\n",
      "Epoch 14/30\n",
      "\u001b[1m1/1\u001b[0m \u001b[32m━━━━━━━━━━━━━━━━━━━━\u001b[0m\u001b[37m\u001b[0m \u001b[1m0s\u001b[0m 21ms/step - accuracy: 1.0000 - loss: 0.6767\n",
      "Epoch 15/30\n",
      "\u001b[1m1/1\u001b[0m \u001b[32m━━━━━━━━━━━━━━━━━━━━\u001b[0m\u001b[37m\u001b[0m \u001b[1m0s\u001b[0m 20ms/step - accuracy: 1.0000 - loss: 0.6757\n",
      "Epoch 16/30\n",
      "\u001b[1m1/1\u001b[0m \u001b[32m━━━━━━━━━━━━━━━━━━━━\u001b[0m\u001b[37m\u001b[0m \u001b[1m0s\u001b[0m 20ms/step - accuracy: 1.0000 - loss: 0.6746\n",
      "Epoch 17/30\n",
      "\u001b[1m1/1\u001b[0m \u001b[32m━━━━━━━━━━━━━━━━━━━━\u001b[0m\u001b[37m\u001b[0m \u001b[1m0s\u001b[0m 20ms/step - accuracy: 1.0000 - loss: 0.6735\n",
      "Epoch 18/30\n",
      "\u001b[1m1/1\u001b[0m \u001b[32m━━━━━━━━━━━━━━━━━━━━\u001b[0m\u001b[37m\u001b[0m \u001b[1m0s\u001b[0m 20ms/step - accuracy: 1.0000 - loss: 0.6725\n",
      "Epoch 19/30\n",
      "\u001b[1m1/1\u001b[0m \u001b[32m━━━━━━━━━━━━━━━━━━━━\u001b[0m\u001b[37m\u001b[0m \u001b[1m0s\u001b[0m 21ms/step - accuracy: 1.0000 - loss: 0.6714\n",
      "Epoch 20/30\n",
      "\u001b[1m1/1\u001b[0m \u001b[32m━━━━━━━━━━━━━━━━━━━━\u001b[0m\u001b[37m\u001b[0m \u001b[1m0s\u001b[0m 20ms/step - accuracy: 1.0000 - loss: 0.6703\n",
      "Epoch 21/30\n",
      "\u001b[1m1/1\u001b[0m \u001b[32m━━━━━━━━━━━━━━━━━━━━\u001b[0m\u001b[37m\u001b[0m \u001b[1m0s\u001b[0m 20ms/step - accuracy: 1.0000 - loss: 0.6692\n",
      "Epoch 22/30\n",
      "\u001b[1m1/1\u001b[0m \u001b[32m━━━━━━━━━━━━━━━━━━━━\u001b[0m\u001b[37m\u001b[0m \u001b[1m0s\u001b[0m 20ms/step - accuracy: 1.0000 - loss: 0.6681\n",
      "Epoch 23/30\n",
      "\u001b[1m1/1\u001b[0m \u001b[32m━━━━━━━━━━━━━━━━━━━━\u001b[0m\u001b[37m\u001b[0m \u001b[1m0s\u001b[0m 20ms/step - accuracy: 1.0000 - loss: 0.6670\n",
      "Epoch 24/30\n",
      "\u001b[1m1/1\u001b[0m \u001b[32m━━━━━━━━━━━━━━━━━━━━\u001b[0m\u001b[37m\u001b[0m \u001b[1m0s\u001b[0m 20ms/step - accuracy: 1.0000 - loss: 0.6659\n",
      "Epoch 25/30\n",
      "\u001b[1m1/1\u001b[0m \u001b[32m━━━━━━━━━━━━━━━━━━━━\u001b[0m\u001b[37m\u001b[0m \u001b[1m0s\u001b[0m 20ms/step - accuracy: 1.0000 - loss: 0.6648\n",
      "Epoch 26/30\n",
      "\u001b[1m1/1\u001b[0m \u001b[32m━━━━━━━━━━━━━━━━━━━━\u001b[0m\u001b[37m\u001b[0m \u001b[1m0s\u001b[0m 20ms/step - accuracy: 1.0000 - loss: 0.6637\n",
      "Epoch 27/30\n",
      "\u001b[1m1/1\u001b[0m \u001b[32m━━━━━━━━━━━━━━━━━━━━\u001b[0m\u001b[37m\u001b[0m \u001b[1m0s\u001b[0m 20ms/step - accuracy: 1.0000 - loss: 0.6626\n",
      "Epoch 28/30\n",
      "\u001b[1m1/1\u001b[0m \u001b[32m━━━━━━━━━━━━━━━━━━━━\u001b[0m\u001b[37m\u001b[0m \u001b[1m0s\u001b[0m 21ms/step - accuracy: 1.0000 - loss: 0.6614\n",
      "Epoch 29/30\n",
      "\u001b[1m1/1\u001b[0m \u001b[32m━━━━━━━━━━━━━━━━━━━━\u001b[0m\u001b[37m\u001b[0m \u001b[1m0s\u001b[0m 20ms/step - accuracy: 1.0000 - loss: 0.6603\n",
      "Epoch 30/30\n",
      "\u001b[1m1/1\u001b[0m \u001b[32m━━━━━━━━━━━━━━━━━━━━\u001b[0m\u001b[37m\u001b[0m \u001b[1m0s\u001b[0m 20ms/step - accuracy: 1.0000 - loss: 0.6591\n"
     ]
    },
    {
     "data": {
      "text/plain": [
       "<keras.src.callbacks.history.History at 0x1f028788e50>"
      ]
     },
     "execution_count": 16,
     "metadata": {},
     "output_type": "execute_result"
    }
   ],
   "source": [
    "model.fit(ohe_review_pad, y_truth, epochs=30)"
   ]
  },
  {
   "cell_type": "markdown",
   "id": "79be50e6-9990-4402-ac4c-197f138fc1f1",
   "metadata": {},
   "source": [
    "Die Embeddings, die wir brauchen, befinden sich in dem Model selber. <br>\n",
    "Die Paramter des Models liefern und die Embeddings.\n"
   ]
  },
  {
   "cell_type": "code",
   "execution_count": 20,
   "id": "ca35521f-f6b9-4dec-b749-1a99c58262de",
   "metadata": {},
   "outputs": [
    {
     "data": {
      "text/plain": [
       "(10, 6)"
      ]
     },
     "execution_count": 20,
     "metadata": {},
     "output_type": "execute_result"
    }
   ],
   "source": [
    "# Shape:\n",
    "# - 10 x 6, da Vokabular 10, und Vektoren 6\n",
    "model.get_layer('emb_1').get_weights()[0].shape"
   ]
  },
  {
   "cell_type": "code",
   "execution_count": 21,
   "id": "2b6af000-f661-4ed6-8630-e7af8105f5e8",
   "metadata": {},
   "outputs": [
    {
     "data": {
      "text/plain": [
       "array([[ 0.01813056, -0.0137063 ,  0.04271284,  0.02789754, -0.03505011,\n",
       "        -0.02280086],\n",
       "       [-0.01580471,  0.03044316, -0.02784019, -0.02579024,  0.01480803,\n",
       "        -0.00919183],\n",
       "       [-0.08440124, -0.01927229,  0.02501341,  0.01622639, -0.03229559,\n",
       "        -0.04692887],\n",
       "       [ 0.0414257 ,  0.04064957, -0.03529285,  0.01843199, -0.007053  ,\n",
       "        -0.00471885],\n",
       "       [ 0.01832675, -0.08308379,  0.01550242, -0.07139666, -0.03885722,\n",
       "         0.08597784],\n",
       "       [-0.09916144,  0.07317287, -0.09895664,  0.00464139,  0.05587775,\n",
       "        -0.01652415],\n",
       "       [ 0.02392933, -0.06716495, -0.01238208, -0.03219894, -0.03007421,\n",
       "         0.06286578],\n",
       "       [-0.03673953, -0.00168223,  0.04505447, -0.01007368,  0.00092851,\n",
       "         0.02447336],\n",
       "       [ 0.07097796, -0.03203809,  0.02632191, -0.07793061, -0.02839172,\n",
       "         0.02507659],\n",
       "       [ 0.05204882, -0.03395499,  0.07831118,  0.02311316, -0.00902729,\n",
       "        -0.0138696 ]], dtype=float32)"
      ]
     },
     "execution_count": 21,
     "metadata": {},
     "output_type": "execute_result"
    }
   ],
   "source": [
    "model.get_layer('emb_1').get_weights()[0]"
   ]
  },
  {
   "cell_type": "code",
   "execution_count": 23,
   "id": "1c110dd6-40cc-4101-a4de-fb0a807ffd00",
   "metadata": {},
   "outputs": [],
   "source": [
    "emb = model.get_layer('emb_1').get_weights()[0]"
   ]
  },
  {
   "cell_type": "markdown",
   "id": "34516e3b-9de5-44a1-8ac1-d68b8d9ecfc8",
   "metadata": {},
   "source": [
    "Jetzt können wir uns die Embeddings für bestimmte Wörter anschauen."
   ]
  },
  {
   "cell_type": "code",
   "execution_count": 24,
   "id": "87b97bc6-c27e-4b36-9416-252bc52656be",
   "metadata": {},
   "outputs": [
    {
     "data": {
      "text/plain": [
       "array([ 0.02392933, -0.06716495, -0.01238208, -0.03219894, -0.03007421,\n",
       "        0.06286578], dtype=float32)"
      ]
     },
     "execution_count": 24,
     "metadata": {},
     "output_type": "execute_result"
    }
   ],
   "source": [
    "# Nice:6, amazing: 4\n",
    "emb[6]"
   ]
  },
  {
   "cell_type": "code",
   "execution_count": 25,
   "id": "8780c451-6fc9-40df-82bf-b72dc5036d49",
   "metadata": {},
   "outputs": [
    {
     "data": {
      "text/plain": [
       "array([ 0.01832675, -0.08308379,  0.01550242, -0.07139666, -0.03885722,\n",
       "        0.08597784], dtype=float32)"
      ]
     },
     "execution_count": 25,
     "metadata": {},
     "output_type": "execute_result"
    }
   ],
   "source": [
    "emb[4]"
   ]
  },
  {
   "cell_type": "code",
   "execution_count": 26,
   "id": "f69899c2-4c4f-47cd-8282-2fe8beaac135",
   "metadata": {},
   "outputs": [
    {
     "data": {
      "text/plain": [
       "array([-0.09916144,  0.07317287, -0.09895664,  0.00464139,  0.05587775,\n",
       "       -0.01652415], dtype=float32)"
      ]
     },
     "execution_count": 26,
     "metadata": {},
     "output_type": "execute_result"
    }
   ],
   "source": [
    "# poor: 5\n",
    "emb[5]"
   ]
  },
  {
   "cell_type": "markdown",
   "id": "52906759-d315-409f-997e-b0c2a398afb4",
   "metadata": {},
   "source": []
  },
  {
   "cell_type": "code",
   "execution_count": null,
   "id": "fa3e34e5-5579-466e-b119-f73cfbf64236",
   "metadata": {},
   "outputs": [],
   "source": []
  }
 ],
 "metadata": {
  "kernelspec": {
   "display_name": "Python 3 (ipykernel)",
   "language": "python",
   "name": "python3"
  },
  "language_info": {
   "codemirror_mode": {
    "name": "ipython",
    "version": 3
   },
   "file_extension": ".py",
   "mimetype": "text/x-python",
   "name": "python",
   "nbconvert_exporter": "python",
   "pygments_lexer": "ipython3",
   "version": "3.9.19"
  }
 },
 "nbformat": 4,
 "nbformat_minor": 5
}
