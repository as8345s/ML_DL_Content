{
 "cells": [
  {
   "cell_type": "markdown",
   "id": "facc5cd2-f601-4af6-9157-a8aae37590f3",
   "metadata": {},
   "source": [
    "<h1>Audio</h1>"
   ]
  },
  {
   "cell_type": "markdown",
   "id": "46aa0062-5b79-447a-8a10-e13dea6049db",
   "metadata": {},
   "source": [
    "Wieso sind Töne und Geräusche wichtig?<br>\n",
    "Auch diese können wie normale Daten wie Text oder Bilder mit einem neuralen Netz verarbeitet werden. Neurale Netze sind dafür sehr gut geeignet, diese können verschiedenste Features erfassen anders als die einfacheren Machine Learning Konzepte. Besonders wenn es komplexere Zusammenhänge gibt wie bei Bildern.\n",
    "\n",
    "Es gibt unterschiedlichste Use-Cases wie:\n",
    "- Spracherkennung (Wörter, Befehle, Audio-to-text)\n",
    "- Klassifizierung von Tönen wie Musik.\n",
    "- Umgebungswahrnehmung\n",
    "- Geräusche differenzieren und Unterschiede erkennen"
   ]
  },
  {
   "cell_type": "markdown",
   "id": "054c17bd-c396-405a-98e7-adf70d42f180",
   "metadata": {},
   "source": [
    "Um den Anfang zu machen, wollen wir als Ziel ein Model trainieren, dass Wörter erkennen soll.:\n",
    "- Ein ASR Model (Automatic-speech-recognition)\n",
    "\n",
    "Als Dataset nutzen wir:\n",
    "> Speech Commands dataset (Warden, 2018) <br>\n",
    "> https://www.tensorflow.org/datasets/catalog/speech_commands [Letzter Zugriff: 12.08.2024]\n",
    "\n",
    "Dieses Dataset enthält folgende Wörter im Audioformat: \"down\", \"go\", \"left\", \"no\", \"right\", \"stop\", \"up\" und \"yes\""
   ]
  },
  {
   "cell_type": "code",
   "execution_count": 1,
   "id": "d124c370-efbb-4489-9f70-65b35ad4c84c",
   "metadata": {},
   "outputs": [],
   "source": [
    "# Imports \n",
    "import os\n",
    "import pathlib\n",
    "\n",
    "import matplotlib.pyplot as plt\n",
    "import numpy as np\n",
    "import seaborn as sns\n",
    "import tensorflow as tf\n",
    "\n",
    "from IPython import display"
   ]
  },
  {
   "cell_type": "code",
   "execution_count": 2,
   "id": "bcbb1d4b-6124-4143-a5de-562f943f3b7e",
   "metadata": {},
   "outputs": [
    {
     "data": {
      "text/plain": [
       "'2.17.0'"
      ]
     },
     "execution_count": 2,
     "metadata": {},
     "output_type": "execute_result"
    }
   ],
   "source": [
    "tf.__version__"
   ]
  },
  {
   "cell_type": "markdown",
   "id": "d295f26f-0cc4-461a-bea1-5914bb1b334a",
   "metadata": {},
   "source": [
    "Dan laden wir das Dataset herunter."
   ]
  },
  {
   "cell_type": "code",
   "execution_count": 5,
   "id": "72baf718-a15d-459e-95c9-2c679ae91574",
   "metadata": {},
   "outputs": [
    {
     "name": "stdout",
     "output_type": "stream",
     "text": [
      "Downloading data from http://storage.googleapis.com/download.tensorflow.org/data/mini_speech_commands.zip\n",
      "\u001b[1m182082353/182082353\u001b[0m \u001b[32m━━━━━━━━━━━━━━━━━━━━\u001b[0m\u001b[37m\u001b[0m \u001b[1m16s\u001b[0m 0us/step\n"
     ]
    }
   ],
   "source": [
    "DATASET_PATH = 'data/mini_speech_commands'\n",
    "\n",
    "data_dir = pathlib.Path(DATASET_PATH)\n",
    "if not data_dir.exists():\n",
    "  tf.keras.utils.get_file(\n",
    "      'mini_speech_commands.zip',\n",
    "      origin=\"http://storage.googleapis.com/download.tensorflow.org/data/mini_speech_commands.zip\",\n",
    "      extract=True,\n",
    "      cache_dir='.', cache_subdir='data')"
   ]
  },
  {
   "cell_type": "code",
   "execution_count": 8,
   "id": "c30b0e99-ee79-4e9d-837d-1d1e73d5b4b6",
   "metadata": {},
   "outputs": [
    {
     "name": "stdout",
     "output_type": "stream",
     "text": [
      "Kommandos: ['down' 'go' 'left' 'no' 'right' 'stop' 'up' 'yes']\n"
     ]
    }
   ],
   "source": [
    "# Dataset enthält Ordner mit Audiodateien.\n",
    "commands = np.array(tf.io.gfile.listdir(str(data_dir)))\n",
    "commands = commands[(commands != 'README.md') & (commands != '.DS_Store')]\n",
    "print(f'Kommandos: {commands}')"
   ]
  },
  {
   "cell_type": "code",
   "execution_count": null,
   "id": "54b8043e-91e9-4ec6-b1cc-0aae9cac2f66",
   "metadata": {},
   "outputs": [],
   "source": []
  },
  {
   "cell_type": "code",
   "execution_count": null,
   "id": "8615c9e8-8625-46b7-b329-61ae4f07f2c9",
   "metadata": {},
   "outputs": [],
   "source": []
  },
  {
   "cell_type": "code",
   "execution_count": null,
   "id": "31595713-c4e5-4e8c-ba54-bc2fdf22c12d",
   "metadata": {},
   "outputs": [],
   "source": []
  },
  {
   "cell_type": "code",
   "execution_count": null,
   "id": "560a9292-7141-4d68-afa5-d5eede24be42",
   "metadata": {},
   "outputs": [],
   "source": []
  },
  {
   "cell_type": "code",
   "execution_count": null,
   "id": "f3f926d7-9ee9-4a43-b717-a465acd3c3e7",
   "metadata": {},
   "outputs": [],
   "source": []
  },
  {
   "cell_type": "code",
   "execution_count": null,
   "id": "6ba09b51-a4fb-4c0e-9dd3-d5aeeaa3c945",
   "metadata": {},
   "outputs": [],
   "source": []
  }
 ],
 "metadata": {
  "kernelspec": {
   "display_name": "Python 3 (ipykernel)",
   "language": "python",
   "name": "python3"
  },
  "language_info": {
   "codemirror_mode": {
    "name": "ipython",
    "version": 3
   },
   "file_extension": ".py",
   "mimetype": "text/x-python",
   "name": "python",
   "nbconvert_exporter": "python",
   "pygments_lexer": "ipython3",
   "version": "3.9.19"
  }
 },
 "nbformat": 4,
 "nbformat_minor": 5
}
