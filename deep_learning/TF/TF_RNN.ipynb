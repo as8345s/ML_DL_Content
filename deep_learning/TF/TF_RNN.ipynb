{
 "cells": [
  {
   "cell_type": "markdown",
   "id": "912326dd-33c2-4ebc-8d75-201e08afab70",
   "metadata": {},
   "source": [
    "<h1>RNN</h1>"
   ]
  },
  {
   "cell_type": "code",
   "execution_count": null,
   "id": "a51c3767-668e-47c1-a8ac-c0593aaa920a",
   "metadata": {},
   "outputs": [],
   "source": []
  },
  {
   "cell_type": "code",
   "execution_count": null,
   "id": "04fa2b54-a9ce-4407-a1eb-3c8006d6167b",
   "metadata": {},
   "outputs": [],
   "source": []
  },
  {
   "cell_type": "code",
   "execution_count": null,
   "id": "8dce249f-fd77-4c2a-933b-d5724c0ea26d",
   "metadata": {},
   "outputs": [],
   "source": []
  },
  {
   "cell_type": "code",
   "execution_count": null,
   "id": "2c3d98b3-273d-4919-bd89-bb8989dded3c",
   "metadata": {},
   "outputs": [],
   "source": []
  },
  {
   "cell_type": "code",
   "execution_count": null,
   "id": "7f8893db-d51f-4711-a856-e3376fe9df87",
   "metadata": {},
   "outputs": [],
   "source": []
  },
  {
   "cell_type": "code",
   "execution_count": null,
   "id": "d84e76d1-8b48-4ab1-b59f-71bc0743b750",
   "metadata": {},
   "outputs": [],
   "source": []
  },
  {
   "cell_type": "code",
   "execution_count": null,
   "id": "9f382063-2fce-4a17-8463-798105f1fcdb",
   "metadata": {},
   "outputs": [],
   "source": []
  },
  {
   "cell_type": "code",
   "execution_count": null,
   "id": "48ba3924-e9d0-43fb-acce-6b399bf11b6f",
   "metadata": {},
   "outputs": [],
   "source": []
  },
  {
   "cell_type": "code",
   "execution_count": null,
   "id": "9daa8cc8-8922-45fa-8559-c13f9ede4912",
   "metadata": {},
   "outputs": [],
   "source": []
  }
 ],
 "metadata": {
  "kernelspec": {
   "display_name": "Python 3 (ipykernel)",
   "language": "python",
   "name": "python3"
  },
  "language_info": {
   "codemirror_mode": {
    "name": "ipython",
    "version": 3
   },
   "file_extension": ".py",
   "mimetype": "text/x-python",
   "name": "python",
   "nbconvert_exporter": "python",
   "pygments_lexer": "ipython3",
   "version": "3.9.19"
  }
 },
 "nbformat": 4,
 "nbformat_minor": 5
}
