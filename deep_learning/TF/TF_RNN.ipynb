{
 "cells": [
  {
   "cell_type": "markdown",
   "id": "352799dd-ccbf-4656-91b3-ffe31fed2e40",
   "metadata": {},
   "source": [
    "<h1>RNNs in TensorFlow</h1>"
   ]
  },
  {
   "cell_type": "markdown",
   "id": "94162bdb-24c7-4aa6-a7a1-81e3ebfed859",
   "metadata": {},
   "source": [
    "Das Notebook zeigt kurz wie RNNs in TensorFlow verwendet werden können.\n",
    "\n",
    "In dem Notebook NN_RNN wurden die verschiedenen Varianten der RNN Netze gezeigt. Man hat deutlich gesehen das LSTM und GRU Zellen deutlich aufwendiger sind als herkömmliche RNN Zellen.\n",
    "\n",
    "Dank Frameworks wie PyTorch und TensorFlow können solche Netze einfach aufgebaut und verwendet werden. Diese beinhalten die volle Implementierung dieser Zellen und bieten verschiedene Umgangsformen an."
   ]
  },
  {
   "cell_type": "code",
   "execution_count": 1,
   "id": "4a85d9aa-6c80-4f89-9caa-9b4bb167c050",
   "metadata": {},
   "outputs": [],
   "source": [
    "# Imports. \n",
    "import numpy as np\n",
    "import tensorflow as tf\n",
    "import keras\n",
    "from keras import layers"
   ]
  },
  {
   "cell_type": "markdown",
   "id": "22997ffa-1386-4055-9474-707266cd2f14",
   "metadata": {},
   "source": [
    "Übersicht der RNN Typen:\n",
    "\n",
    "<i>Abb1</i>: Vanilla-RNN Veranschaulichung. Kontext / Memory.\n",
    "\n",
    "<img src=\"../img/2_rnn.PNG\" height=800 width=600>\n",
    "\n",
    "\n",
    "<i>Abb2</i>: LSTM Zelle Schaubild.\n",
    "\n",
    "<img src=\"../img/14_rnn.PNG\" height=700 width=700>\n",
    "\n",
    "\n",
    "<i>Abb3</i>: GRU Zelle Schaubild.\n",
    "\n",
    "<img src=\"../img/15_rnn.PNG\" height=700 width=700>"
   ]
  },
  {
   "cell_type": "markdown",
   "id": "25781c1d-12a4-4a7c-973a-16877bbd2580",
   "metadata": {},
   "source": [
    "TensorFlow Keras bietet drei grundlegende Typen an: Vanilla-RNN, LSTM und GRU.: <br>\n",
    "1. keras.layers.SimpleRNN \n",
    "2. keras.layers.GRU \n",
    "3. keras.layers.LSTM\n",
    "\n",
    "Siehe auch:<br>\n",
    "Enthählt weitere Details wie Optimierung.\n",
    "- Recurrent layers: https://keras.io/api/layers/recurrent_layers/  [Letzter Zugriff: 29.08.2024]\n",
    "\n",
    "Es werden Dropouts unterstützt `dropout`, `recurrent_dropout` und Loop Unrolling. Weitere Details in der Dokumentation."
   ]
  },
  {
   "cell_type": "code",
   "execution_count": 4,
   "id": "fbfa964b-5d03-448a-a4c8-7fa4106d48e8",
   "metadata": {},
   "outputs": [
    {
     "data": {
      "text/html": [
       "<pre style=\"white-space:pre;overflow-x:auto;line-height:normal;font-family:Menlo,'DejaVu Sans Mono',consolas,'Courier New',monospace\"><span style=\"font-weight: bold\">Model: \"sequential_2\"</span>\n",
       "</pre>\n"
      ],
      "text/plain": [
       "\u001b[1mModel: \"sequential_2\"\u001b[0m\n"
      ]
     },
     "metadata": {},
     "output_type": "display_data"
    },
    {
     "data": {
      "text/html": [
       "<pre style=\"white-space:pre;overflow-x:auto;line-height:normal;font-family:Menlo,'DejaVu Sans Mono',consolas,'Courier New',monospace\">┏━━━━━━━━━━━━━━━━━━━━━━━━━━━━━━━━━┳━━━━━━━━━━━━━━━━━━━━━━━━┳━━━━━━━━━━━━━━━┓\n",
       "┃<span style=\"font-weight: bold\"> Layer (type)                    </span>┃<span style=\"font-weight: bold\"> Output Shape           </span>┃<span style=\"font-weight: bold\">       Param # </span>┃\n",
       "┡━━━━━━━━━━━━━━━━━━━━━━━━━━━━━━━━━╇━━━━━━━━━━━━━━━━━━━━━━━━╇━━━━━━━━━━━━━━━┩\n",
       "│ embedding_2 (<span style=\"color: #0087ff; text-decoration-color: #0087ff\">Embedding</span>)         │ ?                      │   <span style=\"color: #00af00; text-decoration-color: #00af00\">0</span> (unbuilt) │\n",
       "├─────────────────────────────────┼────────────────────────┼───────────────┤\n",
       "│ lstm_2 (<span style=\"color: #0087ff; text-decoration-color: #0087ff\">LSTM</span>)                   │ ?                      │   <span style=\"color: #00af00; text-decoration-color: #00af00\">0</span> (unbuilt) │\n",
       "├─────────────────────────────────┼────────────────────────┼───────────────┤\n",
       "│ dense_2 (<span style=\"color: #0087ff; text-decoration-color: #0087ff\">Dense</span>)                 │ ?                      │   <span style=\"color: #00af00; text-decoration-color: #00af00\">0</span> (unbuilt) │\n",
       "└─────────────────────────────────┴────────────────────────┴───────────────┘\n",
       "</pre>\n"
      ],
      "text/plain": [
       "┏━━━━━━━━━━━━━━━━━━━━━━━━━━━━━━━━━┳━━━━━━━━━━━━━━━━━━━━━━━━┳━━━━━━━━━━━━━━━┓\n",
       "┃\u001b[1m \u001b[0m\u001b[1mLayer (type)                   \u001b[0m\u001b[1m \u001b[0m┃\u001b[1m \u001b[0m\u001b[1mOutput Shape          \u001b[0m\u001b[1m \u001b[0m┃\u001b[1m \u001b[0m\u001b[1m      Param #\u001b[0m\u001b[1m \u001b[0m┃\n",
       "┡━━━━━━━━━━━━━━━━━━━━━━━━━━━━━━━━━╇━━━━━━━━━━━━━━━━━━━━━━━━╇━━━━━━━━━━━━━━━┩\n",
       "│ embedding_2 (\u001b[38;5;33mEmbedding\u001b[0m)         │ ?                      │   \u001b[38;5;34m0\u001b[0m (unbuilt) │\n",
       "├─────────────────────────────────┼────────────────────────┼───────────────┤\n",
       "│ lstm_2 (\u001b[38;5;33mLSTM\u001b[0m)                   │ ?                      │   \u001b[38;5;34m0\u001b[0m (unbuilt) │\n",
       "├─────────────────────────────────┼────────────────────────┼───────────────┤\n",
       "│ dense_2 (\u001b[38;5;33mDense\u001b[0m)                 │ ?                      │   \u001b[38;5;34m0\u001b[0m (unbuilt) │\n",
       "└─────────────────────────────────┴────────────────────────┴───────────────┘\n"
      ]
     },
     "metadata": {},
     "output_type": "display_data"
    },
    {
     "data": {
      "text/html": [
       "<pre style=\"white-space:pre;overflow-x:auto;line-height:normal;font-family:Menlo,'DejaVu Sans Mono',consolas,'Courier New',monospace\"><span style=\"font-weight: bold\"> Total params: </span><span style=\"color: #00af00; text-decoration-color: #00af00\">0</span> (0.00 B)\n",
       "</pre>\n"
      ],
      "text/plain": [
       "\u001b[1m Total params: \u001b[0m\u001b[38;5;34m0\u001b[0m (0.00 B)\n"
      ]
     },
     "metadata": {},
     "output_type": "display_data"
    },
    {
     "data": {
      "text/html": [
       "<pre style=\"white-space:pre;overflow-x:auto;line-height:normal;font-family:Menlo,'DejaVu Sans Mono',consolas,'Courier New',monospace\"><span style=\"font-weight: bold\"> Trainable params: </span><span style=\"color: #00af00; text-decoration-color: #00af00\">0</span> (0.00 B)\n",
       "</pre>\n"
      ],
      "text/plain": [
       "\u001b[1m Trainable params: \u001b[0m\u001b[38;5;34m0\u001b[0m (0.00 B)\n"
      ]
     },
     "metadata": {},
     "output_type": "display_data"
    },
    {
     "data": {
      "text/html": [
       "<pre style=\"white-space:pre;overflow-x:auto;line-height:normal;font-family:Menlo,'DejaVu Sans Mono',consolas,'Courier New',monospace\"><span style=\"font-weight: bold\"> Non-trainable params: </span><span style=\"color: #00af00; text-decoration-color: #00af00\">0</span> (0.00 B)\n",
       "</pre>\n"
      ],
      "text/plain": [
       "\u001b[1m Non-trainable params: \u001b[0m\u001b[38;5;34m0\u001b[0m (0.00 B)\n"
      ]
     },
     "metadata": {},
     "output_type": "display_data"
    }
   ],
   "source": [
    "# Erstelle Model # \n",
    "\n",
    "model = keras.Sequential()\n",
    "# Füge Embedding hinzu. \n",
    "model.add(layers.Embedding(input_dim=1000, output_dim=64))\n",
    "\n",
    "# Füge LSTM Zellen ein. Ein Layer mit 128 Zellen.\n",
    "model.add(layers.LSTM(128))\n",
    "\n",
    "# Output\n",
    "model.add(layers.Dense(10))\n",
    "\n",
    "model.summary()"
   ]
  },
  {
   "cell_type": "code",
   "execution_count": null,
   "id": "f758180f-91b7-459a-adc0-efc57e8ac524",
   "metadata": {},
   "outputs": [],
   "source": []
  },
  {
   "cell_type": "code",
   "execution_count": null,
   "id": "156552e7-ab05-43a3-b1ac-6bbfd922b8cd",
   "metadata": {},
   "outputs": [],
   "source": []
  },
  {
   "cell_type": "code",
   "execution_count": null,
   "id": "199d98d1-b802-4a27-8db0-d2e46007e643",
   "metadata": {},
   "outputs": [],
   "source": []
  },
  {
   "cell_type": "code",
   "execution_count": null,
   "id": "c6da6f90-4b18-4313-9c70-85ab9d9b2d81",
   "metadata": {},
   "outputs": [],
   "source": []
  },
  {
   "cell_type": "code",
   "execution_count": null,
   "id": "38a0be98-d4af-4735-8493-5bb4c700d175",
   "metadata": {},
   "outputs": [],
   "source": []
  },
  {
   "cell_type": "code",
   "execution_count": null,
   "id": "1c53f4fd-9c43-4368-84f3-6c5099af008f",
   "metadata": {},
   "outputs": [],
   "source": []
  }
 ],
 "metadata": {
  "kernelspec": {
   "display_name": "Python 3 (ipykernel)",
   "language": "python",
   "name": "python3"
  },
  "language_info": {
   "codemirror_mode": {
    "name": "ipython",
    "version": 3
   },
   "file_extension": ".py",
   "mimetype": "text/x-python",
   "name": "python",
   "nbconvert_exporter": "python",
   "pygments_lexer": "ipython3",
   "version": "3.9.19"
  }
 },
 "nbformat": 4,
 "nbformat_minor": 5
}
