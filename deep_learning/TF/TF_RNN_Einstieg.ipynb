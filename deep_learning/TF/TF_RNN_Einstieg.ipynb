{
 "cells": [
  {
   "cell_type": "markdown",
   "id": "912326dd-33c2-4ebc-8d75-201e08afab70",
   "metadata": {},
   "source": [
    "<h1>RNN - Einstieg</h1>"
   ]
  },
  {
   "cell_type": "markdown",
   "id": "b83394ed-ba97-4c24-badc-a37c7197fd52",
   "metadata": {},
   "source": [
    "RNN steht für Recurrent Neural Network und beinhaltet verschiedene Varianten.\n",
    "\n",
    "Der Hauptunterschied zu normale Netze und CNNs ist das RNNs eine Art Gedächtnis aufweisen. <br>\n",
    "Das Vanilla-RNN leidet deutlich unter dem Vanishing-Gradient Problem, mehr dazu später.\n",
    "\n",
    "RNNs sind sehr gut dafür geeignet mit Daten zu arbeiten die eine bestimmte Sequenz aufweisen, wie das Vorhersagen des nächsten Wortes eines Satzes basierend auf den schon geschriebenen Wörter => Autovervollständigung.\n",
    "\n",
    "Das Gedächtnis entsteht dadurch, das der Output zum Input geführt wird- um es einfach auszudrücken.\n",
    "\n",
    "Use-Cases sind z B.:\n",
    "- NLP\n",
    "- Übersetzungen\n",
    "- Autovervollständigung\n",
    "- NER (Named Entity Recognition)\n",
    "- Semantische Analysen von Texten"
   ]
  },
  {
   "cell_type": "markdown",
   "id": "80904453-354a-4003-b8df-a863dd6b7223",
   "metadata": {},
   "source": [
    "<i>Abb1</i>: RNN Use-Case Beispiele.\n",
    "\n",
    "<img src=\"./data/img/1_rnn.PNG\" height=800 width=600>"
   ]
  },
  {
   "cell_type": "markdown",
   "id": "ae945969-51f1-4eff-b7ff-129173c7f445",
   "metadata": {},
   "source": [
    "Wieso nutzt man keine normalen Netze für diese Probleme? <br>\n",
    "Alle diese genannten Probleme sind <u>Sequential-Modelling-Problems,</u> weil die <u>Sequenz</u> wichtig ist.\n",
    "\n",
    "Eine Sequenz ist z. B.: \"How are you\", was sich von \"Are you how\" unterscheidet. Für uns Menschen ist das deutlich sichtbar.\n",
    "\n",
    "Weitere Issues mit normale Netzen:\n",
    "- Wie viele Output-Neuronen?\n",
    "- Zu viele Berechnungen, da bei Texten ein Vokabular benutzt wird (Siehe Text in numerischer Darstellung).<br>\n",
    "  Für 30.000 Wörter ist ein Vektor der Größe 30.000 notwendig + Output Größe. <br>\n",
    "  Vokabular:  how: [0, 0, 1, ...], are: [0, 1, 0, ...], ... (On-Hot Encoding)\n",
    "- Keine geteilten Parameter: mehrere Deutungen von Texten.\n",
    "\n",
    "Bei Texten ist die Inputreihenfolge von Wörtern auch entscheidend, nicht wie bei normalen Features wie Eigenschaften, um etwas zu klassifizieren."
   ]
  },
  {
   "cell_type": "code",
   "execution_count": null,
   "id": "b78dd77e-9ecc-43f3-852d-6eecdaed9c7f",
   "metadata": {},
   "outputs": [],
   "source": []
  },
  {
   "cell_type": "code",
   "execution_count": null,
   "id": "92261d7d-09e2-4f8c-8ffb-e6ba1eb14150",
   "metadata": {},
   "outputs": [],
   "source": []
  },
  {
   "cell_type": "code",
   "execution_count": null,
   "id": "cdc08ce4-af79-4347-ba29-551de593fb5c",
   "metadata": {},
   "outputs": [],
   "source": []
  },
  {
   "cell_type": "code",
   "execution_count": null,
   "id": "04fa2b54-a9ce-4407-a1eb-3c8006d6167b",
   "metadata": {},
   "outputs": [],
   "source": []
  },
  {
   "cell_type": "code",
   "execution_count": null,
   "id": "8dce249f-fd77-4c2a-933b-d5724c0ea26d",
   "metadata": {},
   "outputs": [],
   "source": []
  },
  {
   "cell_type": "code",
   "execution_count": null,
   "id": "2c3d98b3-273d-4919-bd89-bb8989dded3c",
   "metadata": {},
   "outputs": [],
   "source": []
  },
  {
   "cell_type": "code",
   "execution_count": null,
   "id": "7f8893db-d51f-4711-a856-e3376fe9df87",
   "metadata": {},
   "outputs": [],
   "source": []
  },
  {
   "cell_type": "code",
   "execution_count": null,
   "id": "d84e76d1-8b48-4ab1-b59f-71bc0743b750",
   "metadata": {},
   "outputs": [],
   "source": []
  },
  {
   "cell_type": "code",
   "execution_count": null,
   "id": "9f382063-2fce-4a17-8463-798105f1fcdb",
   "metadata": {},
   "outputs": [],
   "source": []
  },
  {
   "cell_type": "code",
   "execution_count": null,
   "id": "48ba3924-e9d0-43fb-acce-6b399bf11b6f",
   "metadata": {},
   "outputs": [],
   "source": []
  },
  {
   "cell_type": "code",
   "execution_count": null,
   "id": "9daa8cc8-8922-45fa-8559-c13f9ede4912",
   "metadata": {},
   "outputs": [],
   "source": []
  }
 ],
 "metadata": {
  "kernelspec": {
   "display_name": "Python 3 (ipykernel)",
   "language": "python",
   "name": "python3"
  },
  "language_info": {
   "codemirror_mode": {
    "name": "ipython",
    "version": 3
   },
   "file_extension": ".py",
   "mimetype": "text/x-python",
   "name": "python",
   "nbconvert_exporter": "python",
   "pygments_lexer": "ipython3",
   "version": "3.9.19"
  }
 },
 "nbformat": 4,
 "nbformat_minor": 5
}
