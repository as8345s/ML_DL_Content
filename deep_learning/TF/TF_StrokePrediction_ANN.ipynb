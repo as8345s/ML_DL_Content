{
 "cells": [
  {
   "cell_type": "markdown",
   "id": "bfaae740-7ad8-4204-9edf-451eedcd391c",
   "metadata": {},
   "source": [
    "<h1>Stroke Prediction mit ANN </h1>"
   ]
  },
  {
   "cell_type": "markdown",
   "id": "ecd6a6fe-87e2-4399-9a8e-c4a446452850",
   "metadata": {},
   "source": [
    "Hier geht es darum mittels eines ANNs festzustellen, ob eine Person einen Schlaganfall bekommt oder nicht.\n",
    "\n",
    "Dataset: <br>\n",
    "> Stroke Prediction Dataset - 11 clinical features for predicting stroke events. By fedesoriano on Kaggle. <br>\n",
    ">https://www.kaggle.com/datasets/fedesoriano/stroke-prediction-dataset [Letzter Zugriff: 06.06.2024]"
   ]
  },
  {
   "cell_type": "code",
   "execution_count": 219,
   "id": "9c9a44d0-4d1e-404d-84c1-125a6cf27f72",
   "metadata": {},
   "outputs": [],
   "source": [
    "# Imports.\n",
    "\n",
    "import tensorflow as tf\n",
    "import pandas     as pd\n",
    "import seaborn    as sn\n",
    "\n",
    "import matplotlib.pyplot as plt\n",
    "\n",
    "from sklearn.preprocessing   import StandardScaler\n",
    "from sklearn.preprocessing   import MinMaxScaler\n",
    "from sklearn.model_selection import train_test_split\n",
    "from sklearn.preprocessing   import LabelEncoder\n",
    "\n",
    "from imblearn.over_sampling import SMOTE\n",
    "\n",
    "from sklearn.ensemble import RandomForestClassifier\n",
    "from sklearn.metrics  import classification_report"
   ]
  },
  {
   "cell_type": "code",
   "execution_count": 169,
   "id": "ad56b146-d18f-41f9-8f16-0c46a85034de",
   "metadata": {},
   "outputs": [
    {
     "data": {
      "text/html": [
       "<div>\n",
       "<style scoped>\n",
       "    .dataframe tbody tr th:only-of-type {\n",
       "        vertical-align: middle;\n",
       "    }\n",
       "\n",
       "    .dataframe tbody tr th {\n",
       "        vertical-align: top;\n",
       "    }\n",
       "\n",
       "    .dataframe thead th {\n",
       "        text-align: right;\n",
       "    }\n",
       "</style>\n",
       "<table border=\"1\" class=\"dataframe\">\n",
       "  <thead>\n",
       "    <tr style=\"text-align: right;\">\n",
       "      <th></th>\n",
       "      <th>id</th>\n",
       "      <th>gender</th>\n",
       "      <th>age</th>\n",
       "      <th>hypertension</th>\n",
       "      <th>heart_disease</th>\n",
       "      <th>ever_married</th>\n",
       "      <th>work_type</th>\n",
       "      <th>Residence_type</th>\n",
       "      <th>avg_glucose_level</th>\n",
       "      <th>bmi</th>\n",
       "      <th>smoking_status</th>\n",
       "      <th>stroke</th>\n",
       "    </tr>\n",
       "  </thead>\n",
       "  <tbody>\n",
       "    <tr>\n",
       "      <th>0</th>\n",
       "      <td>9046</td>\n",
       "      <td>Male</td>\n",
       "      <td>67.0</td>\n",
       "      <td>0</td>\n",
       "      <td>1</td>\n",
       "      <td>Yes</td>\n",
       "      <td>Private</td>\n",
       "      <td>Urban</td>\n",
       "      <td>228.69</td>\n",
       "      <td>36.6</td>\n",
       "      <td>formerly smoked</td>\n",
       "      <td>1</td>\n",
       "    </tr>\n",
       "    <tr>\n",
       "      <th>1</th>\n",
       "      <td>51676</td>\n",
       "      <td>Female</td>\n",
       "      <td>61.0</td>\n",
       "      <td>0</td>\n",
       "      <td>0</td>\n",
       "      <td>Yes</td>\n",
       "      <td>Self-employed</td>\n",
       "      <td>Rural</td>\n",
       "      <td>202.21</td>\n",
       "      <td>NaN</td>\n",
       "      <td>never smoked</td>\n",
       "      <td>1</td>\n",
       "    </tr>\n",
       "    <tr>\n",
       "      <th>2</th>\n",
       "      <td>31112</td>\n",
       "      <td>Male</td>\n",
       "      <td>80.0</td>\n",
       "      <td>0</td>\n",
       "      <td>1</td>\n",
       "      <td>Yes</td>\n",
       "      <td>Private</td>\n",
       "      <td>Rural</td>\n",
       "      <td>105.92</td>\n",
       "      <td>32.5</td>\n",
       "      <td>never smoked</td>\n",
       "      <td>1</td>\n",
       "    </tr>\n",
       "    <tr>\n",
       "      <th>3</th>\n",
       "      <td>60182</td>\n",
       "      <td>Female</td>\n",
       "      <td>49.0</td>\n",
       "      <td>0</td>\n",
       "      <td>0</td>\n",
       "      <td>Yes</td>\n",
       "      <td>Private</td>\n",
       "      <td>Urban</td>\n",
       "      <td>171.23</td>\n",
       "      <td>34.4</td>\n",
       "      <td>smokes</td>\n",
       "      <td>1</td>\n",
       "    </tr>\n",
       "    <tr>\n",
       "      <th>4</th>\n",
       "      <td>1665</td>\n",
       "      <td>Female</td>\n",
       "      <td>79.0</td>\n",
       "      <td>1</td>\n",
       "      <td>0</td>\n",
       "      <td>Yes</td>\n",
       "      <td>Self-employed</td>\n",
       "      <td>Rural</td>\n",
       "      <td>174.12</td>\n",
       "      <td>24.0</td>\n",
       "      <td>never smoked</td>\n",
       "      <td>1</td>\n",
       "    </tr>\n",
       "  </tbody>\n",
       "</table>\n",
       "</div>"
      ],
      "text/plain": [
       "      id  gender   age  hypertension  heart_disease ever_married  \\\n",
       "0   9046    Male  67.0             0              1          Yes   \n",
       "1  51676  Female  61.0             0              0          Yes   \n",
       "2  31112    Male  80.0             0              1          Yes   \n",
       "3  60182  Female  49.0             0              0          Yes   \n",
       "4   1665  Female  79.0             1              0          Yes   \n",
       "\n",
       "       work_type Residence_type  avg_glucose_level   bmi   smoking_status  \\\n",
       "0        Private          Urban             228.69  36.6  formerly smoked   \n",
       "1  Self-employed          Rural             202.21   NaN     never smoked   \n",
       "2        Private          Rural             105.92  32.5     never smoked   \n",
       "3        Private          Urban             171.23  34.4           smokes   \n",
       "4  Self-employed          Rural             174.12  24.0     never smoked   \n",
       "\n",
       "   stroke  \n",
       "0       1  \n",
       "1       1  \n",
       "2       1  \n",
       "3       1  \n",
       "4       1  "
      ]
     },
     "execution_count": 169,
     "metadata": {},
     "output_type": "execute_result"
    }
   ],
   "source": [
    "# Lade Daten in ein Dataframe. \n",
    "data_df = pd.read_csv('./data/datasets/stroke_pred.zip', compression=\"zip\")\n",
    "data_df.head()"
   ]
  },
  {
   "cell_type": "code",
   "execution_count": 170,
   "id": "1ba5f0db-3359-4361-9d48-cd5570e09312",
   "metadata": {},
   "outputs": [
    {
     "data": {
      "text/plain": [
       "(5110, 12)"
      ]
     },
     "execution_count": 170,
     "metadata": {},
     "output_type": "execute_result"
    }
   ],
   "source": [
    "# Dimension des Datasets.\n",
    "data_df.shape"
   ]
  },
  {
   "cell_type": "code",
   "execution_count": 171,
   "id": "cd130c9c-6547-44b7-8129-a3147045045a",
   "metadata": {},
   "outputs": [
    {
     "name": "stdout",
     "output_type": "stream",
     "text": [
      "<class 'pandas.core.frame.DataFrame'>\n",
      "RangeIndex: 5110 entries, 0 to 5109\n",
      "Data columns (total 12 columns):\n",
      " #   Column             Non-Null Count  Dtype  \n",
      "---  ------             --------------  -----  \n",
      " 0   id                 5110 non-null   int64  \n",
      " 1   gender             5110 non-null   object \n",
      " 2   age                5110 non-null   float64\n",
      " 3   hypertension       5110 non-null   int64  \n",
      " 4   heart_disease      5110 non-null   int64  \n",
      " 5   ever_married       5110 non-null   object \n",
      " 6   work_type          5110 non-null   object \n",
      " 7   Residence_type     5110 non-null   object \n",
      " 8   avg_glucose_level  5110 non-null   float64\n",
      " 9   bmi                4909 non-null   float64\n",
      " 10  smoking_status     5110 non-null   object \n",
      " 11  stroke             5110 non-null   int64  \n",
      "dtypes: float64(3), int64(4), object(5)\n",
      "memory usage: 479.2+ KB\n"
     ]
    }
   ],
   "source": [
    "# Zeige Informationen über das Dataframe.\n",
    "data_df.info()"
   ]
  },
  {
   "cell_type": "code",
   "execution_count": 172,
   "id": "e6c281d4-1d3d-4852-a338-16b34c2212f4",
   "metadata": {},
   "outputs": [
    {
     "data": {
      "text/plain": [
       "id                     0\n",
       "gender                 0\n",
       "age                    0\n",
       "hypertension           0\n",
       "heart_disease          0\n",
       "ever_married           0\n",
       "work_type              0\n",
       "Residence_type         0\n",
       "avg_glucose_level      0\n",
       "bmi                  201\n",
       "smoking_status         0\n",
       "stroke                 0\n",
       "dtype: int64"
      ]
     },
     "execution_count": 172,
     "metadata": {},
     "output_type": "execute_result"
    }
   ],
   "source": [
    "# Feature bmi hat NA-Werte. \n",
    "data_df.isna().sum()"
   ]
  },
  {
   "cell_type": "code",
   "execution_count": null,
   "id": "91090ef6-50fb-4eed-98c0-47d1f51e3caa",
   "metadata": {},
   "outputs": [],
   "source": []
  },
  {
   "cell_type": "code",
   "execution_count": 173,
   "id": "7c6ace56-bc93-48db-81ab-4e98261131cb",
   "metadata": {},
   "outputs": [
    {
     "data": {
      "text/html": [
       "<div>\n",
       "<style scoped>\n",
       "    .dataframe tbody tr th:only-of-type {\n",
       "        vertical-align: middle;\n",
       "    }\n",
       "\n",
       "    .dataframe tbody tr th {\n",
       "        vertical-align: top;\n",
       "    }\n",
       "\n",
       "    .dataframe thead th {\n",
       "        text-align: right;\n",
       "    }\n",
       "</style>\n",
       "<table border=\"1\" class=\"dataframe\">\n",
       "  <thead>\n",
       "    <tr style=\"text-align: right;\">\n",
       "      <th></th>\n",
       "      <th>id</th>\n",
       "      <th>age</th>\n",
       "      <th>hypertension</th>\n",
       "      <th>heart_disease</th>\n",
       "      <th>avg_glucose_level</th>\n",
       "      <th>bmi</th>\n",
       "      <th>stroke</th>\n",
       "    </tr>\n",
       "  </thead>\n",
       "  <tbody>\n",
       "    <tr>\n",
       "      <th>count</th>\n",
       "      <td>5110.000000</td>\n",
       "      <td>5110.000000</td>\n",
       "      <td>5110.000000</td>\n",
       "      <td>5110.000000</td>\n",
       "      <td>5110.000000</td>\n",
       "      <td>4909.000000</td>\n",
       "      <td>5110.000000</td>\n",
       "    </tr>\n",
       "    <tr>\n",
       "      <th>mean</th>\n",
       "      <td>36517.829354</td>\n",
       "      <td>43.226614</td>\n",
       "      <td>0.097456</td>\n",
       "      <td>0.054012</td>\n",
       "      <td>106.147677</td>\n",
       "      <td>28.893237</td>\n",
       "      <td>0.048728</td>\n",
       "    </tr>\n",
       "    <tr>\n",
       "      <th>std</th>\n",
       "      <td>21161.721625</td>\n",
       "      <td>22.612647</td>\n",
       "      <td>0.296607</td>\n",
       "      <td>0.226063</td>\n",
       "      <td>45.283560</td>\n",
       "      <td>7.854067</td>\n",
       "      <td>0.215320</td>\n",
       "    </tr>\n",
       "    <tr>\n",
       "      <th>min</th>\n",
       "      <td>67.000000</td>\n",
       "      <td>0.080000</td>\n",
       "      <td>0.000000</td>\n",
       "      <td>0.000000</td>\n",
       "      <td>55.120000</td>\n",
       "      <td>10.300000</td>\n",
       "      <td>0.000000</td>\n",
       "    </tr>\n",
       "    <tr>\n",
       "      <th>25%</th>\n",
       "      <td>17741.250000</td>\n",
       "      <td>25.000000</td>\n",
       "      <td>0.000000</td>\n",
       "      <td>0.000000</td>\n",
       "      <td>77.245000</td>\n",
       "      <td>23.500000</td>\n",
       "      <td>0.000000</td>\n",
       "    </tr>\n",
       "    <tr>\n",
       "      <th>50%</th>\n",
       "      <td>36932.000000</td>\n",
       "      <td>45.000000</td>\n",
       "      <td>0.000000</td>\n",
       "      <td>0.000000</td>\n",
       "      <td>91.885000</td>\n",
       "      <td>28.100000</td>\n",
       "      <td>0.000000</td>\n",
       "    </tr>\n",
       "    <tr>\n",
       "      <th>75%</th>\n",
       "      <td>54682.000000</td>\n",
       "      <td>61.000000</td>\n",
       "      <td>0.000000</td>\n",
       "      <td>0.000000</td>\n",
       "      <td>114.090000</td>\n",
       "      <td>33.100000</td>\n",
       "      <td>0.000000</td>\n",
       "    </tr>\n",
       "    <tr>\n",
       "      <th>max</th>\n",
       "      <td>72940.000000</td>\n",
       "      <td>82.000000</td>\n",
       "      <td>1.000000</td>\n",
       "      <td>1.000000</td>\n",
       "      <td>271.740000</td>\n",
       "      <td>97.600000</td>\n",
       "      <td>1.000000</td>\n",
       "    </tr>\n",
       "  </tbody>\n",
       "</table>\n",
       "</div>"
      ],
      "text/plain": [
       "                 id          age  hypertension  heart_disease  \\\n",
       "count   5110.000000  5110.000000   5110.000000    5110.000000   \n",
       "mean   36517.829354    43.226614      0.097456       0.054012   \n",
       "std    21161.721625    22.612647      0.296607       0.226063   \n",
       "min       67.000000     0.080000      0.000000       0.000000   \n",
       "25%    17741.250000    25.000000      0.000000       0.000000   \n",
       "50%    36932.000000    45.000000      0.000000       0.000000   \n",
       "75%    54682.000000    61.000000      0.000000       0.000000   \n",
       "max    72940.000000    82.000000      1.000000       1.000000   \n",
       "\n",
       "       avg_glucose_level          bmi       stroke  \n",
       "count        5110.000000  4909.000000  5110.000000  \n",
       "mean          106.147677    28.893237     0.048728  \n",
       "std            45.283560     7.854067     0.215320  \n",
       "min            55.120000    10.300000     0.000000  \n",
       "25%            77.245000    23.500000     0.000000  \n",
       "50%            91.885000    28.100000     0.000000  \n",
       "75%           114.090000    33.100000     0.000000  \n",
       "max           271.740000    97.600000     1.000000  "
      ]
     },
     "execution_count": 173,
     "metadata": {},
     "output_type": "execute_result"
    }
   ],
   "source": [
    "data_df.describe()"
   ]
  },
  {
   "cell_type": "markdown",
   "id": "22e97bbe-74ca-4bcc-a975-6ce13f36f0b5",
   "metadata": {},
   "source": [
    "Samples so der bmi-Wert NA ist löschen wir. <br>\n",
    "Dann löschen wir noch die Spalte id und werden uns dann um die Outlier kümmern.\n",
    "\n",
    "Am Ende müssen dann die kategorischen Features in numerische umgewandelt werden."
   ]
  },
  {
   "cell_type": "code",
   "execution_count": 174,
   "id": "c04a6541-a2df-49c2-8e85-c4d2fd0bc6df",
   "metadata": {},
   "outputs": [
    {
     "data": {
      "text/plain": [
       "id                   0\n",
       "gender               0\n",
       "age                  0\n",
       "hypertension         0\n",
       "heart_disease        0\n",
       "ever_married         0\n",
       "work_type            0\n",
       "Residence_type       0\n",
       "avg_glucose_level    0\n",
       "bmi                  0\n",
       "smoking_status       0\n",
       "stroke               0\n",
       "dtype: int64"
      ]
     },
     "execution_count": 174,
     "metadata": {},
     "output_type": "execute_result"
    }
   ],
   "source": [
    "# Lösche Einträge mit NA\n",
    "data_df = data_df.dropna()\n",
    "data_df.isna().sum()"
   ]
  },
  {
   "cell_type": "markdown",
   "id": "7c42e246-f81c-4dfc-ba17-f75515f3073e",
   "metadata": {},
   "source": [
    "Es gibt verschiedene Wege Outliers visuell darzustellen und diese zu eliminieren.\n",
    "\n",
    "Dafür schauen wir uns die Features age, avg_glucose_level und bmi an. Mit dem Boxplot von Seaborn lassen sich solche Daten sehr gut visualisieren."
   ]
  },
  {
   "cell_type": "code",
   "execution_count": 175,
   "id": "22e2dbfa-18f6-4809-abee-f2ca62192ae9",
   "metadata": {},
   "outputs": [],
   "source": [
    "# Lösche Spalte id.\n",
    "data_df = data_df.drop(['id'], axis=\"columns\")"
   ]
  },
  {
   "cell_type": "code",
   "execution_count": 176,
   "id": "1ce8f7d2-6ff0-49d4-abad-e76bc4346ec6",
   "metadata": {},
   "outputs": [
    {
     "data": {
      "text/plain": [
       "<Axes: xlabel='age'>"
      ]
     },
     "execution_count": 176,
     "metadata": {},
     "output_type": "execute_result"
    },
    {
     "data": {
      "image/png": "[encoded data removed]",
      "text/plain": [
       "<Figure size 500x300 with 1 Axes>"
      ]
     },
     "metadata": {},
     "output_type": "display_data"
    }
   ],
   "source": [
    "# Visualisiere Outlier mit Boxplot. \n",
    "# - Age\n",
    "plt.figure(figsize=(5,3))\n",
    "\n",
    "sn.boxplot(x=data_df['age'], legend=False, hue=0, palette=\"pastel\")"
   ]
  },
  {
   "cell_type": "code",
   "execution_count": 177,
   "id": "ffa3bd92-a881-453f-a815-fb4c8d68f39e",
   "metadata": {},
   "outputs": [
    {
     "data": {
      "image/png": "[encoded data removed]",
      "text/plain": [
       "<Figure size 1000x300 with 2 Axes>"
      ]
     },
     "metadata": {},
     "output_type": "display_data"
    }
   ],
   "source": [
    "# Visualisiere Outlier mit Boxplot. \n",
    "# - avg_glucose_level, bmi.\n",
    "plt.figure(figsize=(10,3))\n",
    "\n",
    "target = ['avg_glucose_level' , 'bmi']\n",
    "\n",
    "for i in range(2) :\n",
    "    plt.subplot(1,2, i+1)\n",
    "    sn.boxplot(x=data_df[target[i]], palette=\"pastel\", legend=False, hue=0)\n",
    "    "
   ]
  },
  {
   "cell_type": "markdown",
   "id": "c84fdc38-05a5-4131-a331-00bb61192ccf",
   "metadata": {},
   "source": [
    "Durch das Plotten haben wir eine bessere Sicht auf die Daten. Bei zwei Features müssen die Outlier entfernt werden.\n",
    "\n",
    "Wir nutzen die IQR Methode, um diese zu entfernen. "
   ]
  },
  {
   "cell_type": "code",
   "execution_count": 178,
   "id": "a8b1a32d-ac9e-44ef-822e-57c4745a451a",
   "metadata": {},
   "outputs": [
    {
     "data": {
      "text/plain": [
       "(4252, 11)"
      ]
     },
     "execution_count": 178,
     "metadata": {},
     "output_type": "execute_result"
    }
   ],
   "source": [
    "target = ['avg_glucose_level' , 'bmi']\n",
    "\n",
    "for col in target:\n",
    "    Q1  = data_df[col].quantile(0.25)\n",
    "    Q3  = data_df[col].quantile(0.75)\n",
    "    IQR = Q3 - Q1\n",
    "    max_data = Q3 + 1.5 * IQR\n",
    "    min_data = Q1 - 1.5 * IQR\n",
    "\n",
    "    data_df = data_df[ (data_df[col]<max_data)  &  (data_df[col]>min_data) ]\n",
    "    \n",
    "data_df.shape"
   ]
  },
  {
   "cell_type": "code",
   "execution_count": 179,
   "id": "9f431d83-b3dc-4994-ab29-a1988ca37d42",
   "metadata": {},
   "outputs": [
    {
     "data": {
      "image/png": "[encoded data removed]",
      "text/plain": [
       "<Figure size 1000x300 with 2 Axes>"
      ]
     },
     "metadata": {},
     "output_type": "display_data"
    }
   ],
   "source": [
    "plt.figure(figsize=(10,3))\n",
    "target = ['avg_glucose_level' , 'bmi']\n",
    "for i in range(2) :\n",
    "    plt.subplot(1,2, i+1)\n",
    "    sn.boxplot(x=data_df[target[i]], palette=\"pastel\", legend=False, hue=0)"
   ]
  },
  {
   "cell_type": "markdown",
   "id": "f5350d9a-cc74-49bb-846b-b66684b1588b",
   "metadata": {},
   "source": [
    "Alternativ könnte man auch die Standardabweichung nehmen."
   ]
  },
  {
   "cell_type": "markdown",
   "id": "e631d7d6-0493-4b57-8ae8-e13c353107bc",
   "metadata": {},
   "source": [
    "Als Nächstes wollen wir ein Count-Plot erstellen, dass die Relation zu verschiedenen Features zeigt, basierend auf den Vorfall."
   ]
  },
  {
   "cell_type": "code",
   "execution_count": 180,
   "id": "5c9942d9-6582-42a3-8f75-82e81c86eb6b",
   "metadata": {},
   "outputs": [
    {
     "data": {
      "text/html": [
       "<div>\n",
       "<style scoped>\n",
       "    .dataframe tbody tr th:only-of-type {\n",
       "        vertical-align: middle;\n",
       "    }\n",
       "\n",
       "    .dataframe tbody tr th {\n",
       "        vertical-align: top;\n",
       "    }\n",
       "\n",
       "    .dataframe thead th {\n",
       "        text-align: right;\n",
       "    }\n",
       "</style>\n",
       "<table border=\"1\" class=\"dataframe\">\n",
       "  <thead>\n",
       "    <tr style=\"text-align: right;\">\n",
       "      <th></th>\n",
       "      <th>gender</th>\n",
       "      <th>age</th>\n",
       "      <th>hypertension</th>\n",
       "      <th>heart_disease</th>\n",
       "      <th>ever_married</th>\n",
       "      <th>work_type</th>\n",
       "      <th>Residence_type</th>\n",
       "      <th>avg_glucose_level</th>\n",
       "      <th>bmi</th>\n",
       "      <th>smoking_status</th>\n",
       "      <th>stroke</th>\n",
       "    </tr>\n",
       "  </thead>\n",
       "  <tbody>\n",
       "    <tr>\n",
       "      <th>2</th>\n",
       "      <td>Male</td>\n",
       "      <td>80.0</td>\n",
       "      <td>0</td>\n",
       "      <td>1</td>\n",
       "      <td>Yes</td>\n",
       "      <td>Private</td>\n",
       "      <td>Rural</td>\n",
       "      <td>105.92</td>\n",
       "      <td>32.5</td>\n",
       "      <td>never smoked</td>\n",
       "      <td>1</td>\n",
       "    </tr>\n",
       "    <tr>\n",
       "      <th>6</th>\n",
       "      <td>Male</td>\n",
       "      <td>74.0</td>\n",
       "      <td>1</td>\n",
       "      <td>1</td>\n",
       "      <td>Yes</td>\n",
       "      <td>Private</td>\n",
       "      <td>Rural</td>\n",
       "      <td>70.09</td>\n",
       "      <td>27.4</td>\n",
       "      <td>never smoked</td>\n",
       "      <td>1</td>\n",
       "    </tr>\n",
       "    <tr>\n",
       "      <th>7</th>\n",
       "      <td>Female</td>\n",
       "      <td>69.0</td>\n",
       "      <td>0</td>\n",
       "      <td>0</td>\n",
       "      <td>No</td>\n",
       "      <td>Private</td>\n",
       "      <td>Urban</td>\n",
       "      <td>94.39</td>\n",
       "      <td>22.8</td>\n",
       "      <td>never smoked</td>\n",
       "      <td>1</td>\n",
       "    </tr>\n",
       "    <tr>\n",
       "      <th>9</th>\n",
       "      <td>Female</td>\n",
       "      <td>78.0</td>\n",
       "      <td>0</td>\n",
       "      <td>0</td>\n",
       "      <td>Yes</td>\n",
       "      <td>Private</td>\n",
       "      <td>Urban</td>\n",
       "      <td>58.57</td>\n",
       "      <td>24.2</td>\n",
       "      <td>Unknown</td>\n",
       "      <td>1</td>\n",
       "    </tr>\n",
       "    <tr>\n",
       "      <th>10</th>\n",
       "      <td>Female</td>\n",
       "      <td>81.0</td>\n",
       "      <td>1</td>\n",
       "      <td>0</td>\n",
       "      <td>Yes</td>\n",
       "      <td>Private</td>\n",
       "      <td>Rural</td>\n",
       "      <td>80.43</td>\n",
       "      <td>29.7</td>\n",
       "      <td>never smoked</td>\n",
       "      <td>1</td>\n",
       "    </tr>\n",
       "  </tbody>\n",
       "</table>\n",
       "</div>"
      ],
      "text/plain": [
       "    gender   age  hypertension  heart_disease ever_married work_type  \\\n",
       "2     Male  80.0             0              1          Yes   Private   \n",
       "6     Male  74.0             1              1          Yes   Private   \n",
       "7   Female  69.0             0              0           No   Private   \n",
       "9   Female  78.0             0              0          Yes   Private   \n",
       "10  Female  81.0             1              0          Yes   Private   \n",
       "\n",
       "   Residence_type  avg_glucose_level   bmi smoking_status  stroke  \n",
       "2           Rural             105.92  32.5   never smoked       1  \n",
       "6           Rural              70.09  27.4   never smoked       1  \n",
       "7           Urban              94.39  22.8   never smoked       1  \n",
       "9           Urban              58.57  24.2        Unknown       1  \n",
       "10          Rural              80.43  29.7   never smoked       1  "
      ]
     },
     "execution_count": 180,
     "metadata": {},
     "output_type": "execute_result"
    }
   ],
   "source": [
    "# Mochmal als Überblick. \n",
    "data_df.head()"
   ]
  },
  {
   "cell_type": "code",
   "execution_count": 181,
   "id": "45f0b12f-8569-4904-a941-a6e2d308d39c",
   "metadata": {},
   "outputs": [
    {
     "data": {
      "image/png": "[encoded data removed]",
      "text/plain": [
       "<Figure size 1300x600 with 7 Axes>"
      ]
     },
     "metadata": {},
     "output_type": "display_data"
    }
   ],
   "source": [
    "# Mit Seaborn ist ein Countplot einfach zu erstellen. \n",
    "\n",
    "plt.figure(figsize=(13,6))\n",
    "target = ['gender', 'hypertension', 'heart_disease', 'ever_married', 'work_type', 'Residence_type', 'smoking_status']\n",
    "\n",
    "for i in range(len(target)): # 7\n",
    "    plt.subplot(round(len(target) / 4), 4,i+1)\n",
    "    plt.tight_layout(pad=2.0, h_pad=2.0)\n",
    "    plt.xticks(rotation=30)\n",
    "    \n",
    "    sn.countplot(x=data_df[target[i]], hue= data_df['stroke'], palette= 'pastel')"
   ]
  },
  {
   "cell_type": "markdown",
   "id": "9f76c85b-186c-407b-8cab-01c1c24fa76d",
   "metadata": {},
   "source": [
    "Datasets wie Stroke Prediction und auch Customer Predictions sind meist nicht balanciert. "
   ]
  },
  {
   "cell_type": "code",
   "execution_count": 182,
   "id": "1659b7d0-748e-4af3-bb81-65b4bdf356e0",
   "metadata": {},
   "outputs": [
    {
     "data": {
      "text/plain": [
       "stroke\n",
       "0    4116\n",
       "1     136\n",
       "Name: count, dtype: int64"
      ]
     },
     "execution_count": 182,
     "metadata": {},
     "output_type": "execute_result"
    }
   ],
   "source": [
    "data_df['stroke'].value_counts()"
   ]
  },
  {
   "cell_type": "markdown",
   "id": "834b9d5a-097a-419a-b1e6-695cce6e6e52",
   "metadata": {},
   "source": [
    "Es gibt verschiedene Methoden, das Dataset zu balancieren."
   ]
  },
  {
   "cell_type": "code",
   "execution_count": 183,
   "id": "2a1e3f08-96bd-4717-83b7-643bc8c4d670",
   "metadata": {},
   "outputs": [],
   "source": [
    "# Teile Dataframe auf.\n",
    "\n",
    "stroke_0 = data_df[data_df['stroke']==0]\n",
    "stroke_1 = data_df[data_df['stroke']==1]"
   ]
  },
  {
   "cell_type": "code",
   "execution_count": 184,
   "id": "44289e27-1175-47b8-999e-f16b224a6963",
   "metadata": {},
   "outputs": [
    {
     "data": {
      "text/plain": [
       "(2058, 11)"
      ]
     },
     "execution_count": 184,
     "metadata": {},
     "output_type": "execute_result"
    }
   ],
   "source": [
    "# Oversampling + SMOTE\n",
    "stroke_1 = stroke_1.sample( int(  data_df['stroke'].value_counts()[0] / 2), replace=True )\n",
    "stroke_1.shape"
   ]
  },
  {
   "cell_type": "markdown",
   "id": "38cc9b65-406f-4474-9c6a-54b7f041fbc4",
   "metadata": {},
   "source": [
    "Smote werden wir am Ende einsetzen. Jetzt müssen die kategorischen Features in numerische Werte umgewandelt werden. "
   ]
  },
  {
   "cell_type": "code",
   "execution_count": 185,
   "id": "d5b5bfb3-5c1a-4ea4-a2ec-887198f7e838",
   "metadata": {},
   "outputs": [
    {
     "data": {
      "text/html": [
       "<div>\n",
       "<style scoped>\n",
       "    .dataframe tbody tr th:only-of-type {\n",
       "        vertical-align: middle;\n",
       "    }\n",
       "\n",
       "    .dataframe tbody tr th {\n",
       "        vertical-align: top;\n",
       "    }\n",
       "\n",
       "    .dataframe thead th {\n",
       "        text-align: right;\n",
       "    }\n",
       "</style>\n",
       "<table border=\"1\" class=\"dataframe\">\n",
       "  <thead>\n",
       "    <tr style=\"text-align: right;\">\n",
       "      <th></th>\n",
       "      <th>gender</th>\n",
       "      <th>age</th>\n",
       "      <th>hypertension</th>\n",
       "      <th>heart_disease</th>\n",
       "      <th>ever_married</th>\n",
       "      <th>work_type</th>\n",
       "      <th>Residence_type</th>\n",
       "      <th>avg_glucose_level</th>\n",
       "      <th>bmi</th>\n",
       "      <th>smoking_status</th>\n",
       "      <th>stroke</th>\n",
       "    </tr>\n",
       "  </thead>\n",
       "  <tbody>\n",
       "    <tr>\n",
       "      <th>249</th>\n",
       "      <td>Male</td>\n",
       "      <td>3.0</td>\n",
       "      <td>0</td>\n",
       "      <td>0</td>\n",
       "      <td>No</td>\n",
       "      <td>children</td>\n",
       "      <td>Rural</td>\n",
       "      <td>95.12</td>\n",
       "      <td>18.0</td>\n",
       "      <td>Unknown</td>\n",
       "      <td>0</td>\n",
       "    </tr>\n",
       "    <tr>\n",
       "      <th>250</th>\n",
       "      <td>Male</td>\n",
       "      <td>58.0</td>\n",
       "      <td>1</td>\n",
       "      <td>0</td>\n",
       "      <td>Yes</td>\n",
       "      <td>Private</td>\n",
       "      <td>Urban</td>\n",
       "      <td>87.96</td>\n",
       "      <td>39.2</td>\n",
       "      <td>never smoked</td>\n",
       "      <td>0</td>\n",
       "    </tr>\n",
       "  </tbody>\n",
       "</table>\n",
       "</div>"
      ],
      "text/plain": [
       "    gender   age  hypertension  heart_disease ever_married work_type  \\\n",
       "249   Male   3.0             0              0           No  children   \n",
       "250   Male  58.0             1              0          Yes   Private   \n",
       "\n",
       "    Residence_type  avg_glucose_level   bmi smoking_status  stroke  \n",
       "249          Rural              95.12  18.0        Unknown       0  \n",
       "250          Urban              87.96  39.2   never smoked       0  "
      ]
     },
     "execution_count": 185,
     "metadata": {},
     "output_type": "execute_result"
    }
   ],
   "source": [
    "dataset = pd.concat([stroke_0, stroke_1], axis=0)\n",
    "dataset.head(2)"
   ]
  },
  {
   "cell_type": "code",
   "execution_count": 186,
   "id": "cc52b30f-6ab5-49b6-94f0-69c015af0368",
   "metadata": {},
   "outputs": [
    {
     "data": {
      "text/plain": [
       "(6174, 11)"
      ]
     },
     "execution_count": 186,
     "metadata": {},
     "output_type": "execute_result"
    }
   ],
   "source": [
    "dataset.shape"
   ]
  },
  {
   "cell_type": "code",
   "execution_count": 187,
   "id": "fe0ce3e5-785d-4987-a532-e57071688b77",
   "metadata": {},
   "outputs": [
    {
     "data": {
      "text/plain": [
       "stroke\n",
       "0    4116\n",
       "1    2058\n",
       "Name: count, dtype: int64"
      ]
     },
     "execution_count": 187,
     "metadata": {},
     "output_type": "execute_result"
    }
   ],
   "source": [
    "dataset['stroke'].value_counts()"
   ]
  },
  {
   "cell_type": "code",
   "execution_count": 188,
   "id": "b4a42456-f4a1-4e3a-a259-753405ed2a50",
   "metadata": {},
   "outputs": [
    {
     "name": "stdout",
     "output_type": "stream",
     "text": [
      "col: gender values:\n",
      "['Male' 'Female' 'Other']\n",
      "col: ever_married values:\n",
      "['No' 'Yes']\n",
      "col: Residence_type values:\n",
      "['Rural' 'Urban']\n",
      "col: smoking_status values:\n",
      "['Unknown' 'never smoked' 'formerly smoked' 'smokes']\n"
     ]
    }
   ],
   "source": [
    "# Welche kategorischen Werte gibt es?\n",
    "target = ['gender', 'ever_married', 'Residence_type',  'smoking_status']\n",
    "for col in target:\n",
    "    print(f'col: {col} values:\\n{dataset[col].unique()}')"
   ]
  },
  {
   "cell_type": "markdown",
   "id": "c4cc261a-74af-49ec-a55a-e188ebfc3069",
   "metadata": {},
   "source": [
    "On-Hot Encode auf: gender, ever_married und Residence_type <br>\n",
    "Label-Encoding: smoking_status, work_type\t"
   ]
  },
  {
   "cell_type": "code",
   "execution_count": 189,
   "id": "ff142617-c393-413d-9b16-2fc8c4e92ee2",
   "metadata": {},
   "outputs": [
    {
     "data": {
      "text/html": [
       "<div>\n",
       "<style scoped>\n",
       "    .dataframe tbody tr th:only-of-type {\n",
       "        vertical-align: middle;\n",
       "    }\n",
       "\n",
       "    .dataframe tbody tr th {\n",
       "        vertical-align: top;\n",
       "    }\n",
       "\n",
       "    .dataframe thead th {\n",
       "        text-align: right;\n",
       "    }\n",
       "</style>\n",
       "<table border=\"1\" class=\"dataframe\">\n",
       "  <thead>\n",
       "    <tr style=\"text-align: right;\">\n",
       "      <th></th>\n",
       "      <th>gender_Male</th>\n",
       "      <th>gender_Other</th>\n",
       "      <th>ever_married_Yes</th>\n",
       "      <th>Residence_type_Urban</th>\n",
       "      <th>age</th>\n",
       "      <th>hypertension</th>\n",
       "      <th>heart_disease</th>\n",
       "      <th>work_type</th>\n",
       "      <th>avg_glucose_level</th>\n",
       "      <th>bmi</th>\n",
       "      <th>smoking_status</th>\n",
       "      <th>stroke</th>\n",
       "    </tr>\n",
       "  </thead>\n",
       "  <tbody>\n",
       "    <tr>\n",
       "      <th>249</th>\n",
       "      <td>1</td>\n",
       "      <td>0</td>\n",
       "      <td>0</td>\n",
       "      <td>0</td>\n",
       "      <td>3.0</td>\n",
       "      <td>0</td>\n",
       "      <td>0</td>\n",
       "      <td>children</td>\n",
       "      <td>95.12</td>\n",
       "      <td>18.0</td>\n",
       "      <td>Unknown</td>\n",
       "      <td>0</td>\n",
       "    </tr>\n",
       "    <tr>\n",
       "      <th>250</th>\n",
       "      <td>1</td>\n",
       "      <td>0</td>\n",
       "      <td>1</td>\n",
       "      <td>1</td>\n",
       "      <td>58.0</td>\n",
       "      <td>1</td>\n",
       "      <td>0</td>\n",
       "      <td>Private</td>\n",
       "      <td>87.96</td>\n",
       "      <td>39.2</td>\n",
       "      <td>never smoked</td>\n",
       "      <td>0</td>\n",
       "    </tr>\n",
       "    <tr>\n",
       "      <th>251</th>\n",
       "      <td>0</td>\n",
       "      <td>0</td>\n",
       "      <td>0</td>\n",
       "      <td>1</td>\n",
       "      <td>8.0</td>\n",
       "      <td>0</td>\n",
       "      <td>0</td>\n",
       "      <td>Private</td>\n",
       "      <td>110.89</td>\n",
       "      <td>17.6</td>\n",
       "      <td>Unknown</td>\n",
       "      <td>0</td>\n",
       "    </tr>\n",
       "    <tr>\n",
       "      <th>252</th>\n",
       "      <td>0</td>\n",
       "      <td>0</td>\n",
       "      <td>1</td>\n",
       "      <td>0</td>\n",
       "      <td>70.0</td>\n",
       "      <td>0</td>\n",
       "      <td>0</td>\n",
       "      <td>Private</td>\n",
       "      <td>69.04</td>\n",
       "      <td>35.9</td>\n",
       "      <td>formerly smoked</td>\n",
       "      <td>0</td>\n",
       "    </tr>\n",
       "    <tr>\n",
       "      <th>253</th>\n",
       "      <td>1</td>\n",
       "      <td>0</td>\n",
       "      <td>0</td>\n",
       "      <td>0</td>\n",
       "      <td>14.0</td>\n",
       "      <td>0</td>\n",
       "      <td>0</td>\n",
       "      <td>Never_worked</td>\n",
       "      <td>161.28</td>\n",
       "      <td>19.1</td>\n",
       "      <td>Unknown</td>\n",
       "      <td>0</td>\n",
       "    </tr>\n",
       "  </tbody>\n",
       "</table>\n",
       "</div>"
      ],
      "text/plain": [
       "     gender_Male  gender_Other  ever_married_Yes  Residence_type_Urban   age  \\\n",
       "249            1             0                 0                     0   3.0   \n",
       "250            1             0                 1                     1  58.0   \n",
       "251            0             0                 0                     1   8.0   \n",
       "252            0             0                 1                     0  70.0   \n",
       "253            1             0                 0                     0  14.0   \n",
       "\n",
       "     hypertension  heart_disease     work_type  avg_glucose_level   bmi  \\\n",
       "249             0              0      children              95.12  18.0   \n",
       "250             1              0       Private              87.96  39.2   \n",
       "251             0              0       Private             110.89  17.6   \n",
       "252             0              0       Private              69.04  35.9   \n",
       "253             0              0  Never_worked             161.28  19.1   \n",
       "\n",
       "      smoking_status  stroke  \n",
       "249          Unknown       0  \n",
       "250     never smoked       0  \n",
       "251          Unknown       0  \n",
       "252  formerly smoked       0  \n",
       "253          Unknown       0  "
      ]
     },
     "execution_count": 189,
     "metadata": {},
     "output_type": "execute_result"
    }
   ],
   "source": [
    "dummy_df = pd.get_dummies(dataset[['gender', 'ever_married', 'Residence_type']], drop_first=True, dtype='int')\n",
    "dataset.drop(['gender', 'ever_married', 'Residence_type'], axis=\"columns\", inplace=True)\n",
    "dataset = pd.concat([dummy_df, dataset], axis=\"columns\")\n",
    "dataset.head()"
   ]
  },
  {
   "cell_type": "code",
   "execution_count": 190,
   "id": "b1ea7e33-b654-44b7-b3c6-bb02479d73b5",
   "metadata": {},
   "outputs": [
    {
     "data": {
      "text/html": [
       "<div>\n",
       "<style scoped>\n",
       "    .dataframe tbody tr th:only-of-type {\n",
       "        vertical-align: middle;\n",
       "    }\n",
       "\n",
       "    .dataframe tbody tr th {\n",
       "        vertical-align: top;\n",
       "    }\n",
       "\n",
       "    .dataframe thead th {\n",
       "        text-align: right;\n",
       "    }\n",
       "</style>\n",
       "<table border=\"1\" class=\"dataframe\">\n",
       "  <thead>\n",
       "    <tr style=\"text-align: right;\">\n",
       "      <th></th>\n",
       "      <th>gender_Male</th>\n",
       "      <th>gender_Other</th>\n",
       "      <th>ever_married_Yes</th>\n",
       "      <th>Residence_type_Urban</th>\n",
       "      <th>age</th>\n",
       "      <th>hypertension</th>\n",
       "      <th>heart_disease</th>\n",
       "      <th>work_type</th>\n",
       "      <th>avg_glucose_level</th>\n",
       "      <th>bmi</th>\n",
       "      <th>smoking_status</th>\n",
       "      <th>stroke</th>\n",
       "    </tr>\n",
       "  </thead>\n",
       "  <tbody>\n",
       "    <tr>\n",
       "      <th>249</th>\n",
       "      <td>1</td>\n",
       "      <td>0</td>\n",
       "      <td>0</td>\n",
       "      <td>0</td>\n",
       "      <td>3.0</td>\n",
       "      <td>0</td>\n",
       "      <td>0</td>\n",
       "      <td>4</td>\n",
       "      <td>95.12</td>\n",
       "      <td>18.0</td>\n",
       "      <td>0</td>\n",
       "      <td>0</td>\n",
       "    </tr>\n",
       "    <tr>\n",
       "      <th>250</th>\n",
       "      <td>1</td>\n",
       "      <td>0</td>\n",
       "      <td>1</td>\n",
       "      <td>1</td>\n",
       "      <td>58.0</td>\n",
       "      <td>1</td>\n",
       "      <td>0</td>\n",
       "      <td>2</td>\n",
       "      <td>87.96</td>\n",
       "      <td>39.2</td>\n",
       "      <td>2</td>\n",
       "      <td>0</td>\n",
       "    </tr>\n",
       "    <tr>\n",
       "      <th>251</th>\n",
       "      <td>0</td>\n",
       "      <td>0</td>\n",
       "      <td>0</td>\n",
       "      <td>1</td>\n",
       "      <td>8.0</td>\n",
       "      <td>0</td>\n",
       "      <td>0</td>\n",
       "      <td>2</td>\n",
       "      <td>110.89</td>\n",
       "      <td>17.6</td>\n",
       "      <td>0</td>\n",
       "      <td>0</td>\n",
       "    </tr>\n",
       "    <tr>\n",
       "      <th>252</th>\n",
       "      <td>0</td>\n",
       "      <td>0</td>\n",
       "      <td>1</td>\n",
       "      <td>0</td>\n",
       "      <td>70.0</td>\n",
       "      <td>0</td>\n",
       "      <td>0</td>\n",
       "      <td>2</td>\n",
       "      <td>69.04</td>\n",
       "      <td>35.9</td>\n",
       "      <td>1</td>\n",
       "      <td>0</td>\n",
       "    </tr>\n",
       "    <tr>\n",
       "      <th>253</th>\n",
       "      <td>1</td>\n",
       "      <td>0</td>\n",
       "      <td>0</td>\n",
       "      <td>0</td>\n",
       "      <td>14.0</td>\n",
       "      <td>0</td>\n",
       "      <td>0</td>\n",
       "      <td>1</td>\n",
       "      <td>161.28</td>\n",
       "      <td>19.1</td>\n",
       "      <td>0</td>\n",
       "      <td>0</td>\n",
       "    </tr>\n",
       "  </tbody>\n",
       "</table>\n",
       "</div>"
      ],
      "text/plain": [
       "     gender_Male  gender_Other  ever_married_Yes  Residence_type_Urban   age  \\\n",
       "249            1             0                 0                     0   3.0   \n",
       "250            1             0                 1                     1  58.0   \n",
       "251            0             0                 0                     1   8.0   \n",
       "252            0             0                 1                     0  70.0   \n",
       "253            1             0                 0                     0  14.0   \n",
       "\n",
       "     hypertension  heart_disease  work_type  avg_glucose_level   bmi  \\\n",
       "249             0              0          4              95.12  18.0   \n",
       "250             1              0          2              87.96  39.2   \n",
       "251             0              0          2             110.89  17.6   \n",
       "252             0              0          2              69.04  35.9   \n",
       "253             0              0          1             161.28  19.1   \n",
       "\n",
       "     smoking_status  stroke  \n",
       "249               0       0  \n",
       "250               2       0  \n",
       "251               0       0  \n",
       "252               1       0  \n",
       "253               0       0  "
      ]
     },
     "execution_count": 190,
     "metadata": {},
     "output_type": "execute_result"
    }
   ],
   "source": [
    "label_encoder = LabelEncoder()\n",
    "dataset['work_type']       = label_encoder.fit_transform(dataset['work_type'] )\n",
    "dataset['smoking_status']  = label_encoder.fit_transform(dataset['smoking_status'] )\n",
    "dataset.head()"
   ]
  },
  {
   "cell_type": "markdown",
   "id": "c0bcddde-c39f-4956-b653-73562714cb9a",
   "metadata": {},
   "source": [
    "Dann müssen die Daten skaliert werden. Vorher wenden wir SMOTE an."
   ]
  },
  {
   "cell_type": "code",
   "execution_count": 191,
   "id": "eab97f25-2c1c-4f81-b967-b302fbd7b7d3",
   "metadata": {},
   "outputs": [],
   "source": [
    "# SMOTE\n",
    "smote = SMOTE(sampling_strategy='minority')\n",
    "X_smote, y_smote = smote.fit_resample(dataset.drop(['stroke'], axis=\"columns\"), dataset['stroke'])"
   ]
  },
  {
   "cell_type": "code",
   "execution_count": 192,
   "id": "20c3542e-eb2d-42b1-a074-568acc40ab7f",
   "metadata": {},
   "outputs": [
    {
     "data": {
      "text/plain": [
       "stroke\n",
       "0    4116\n",
       "1    4116\n",
       "Name: count, dtype: int64"
      ]
     },
     "execution_count": 192,
     "metadata": {},
     "output_type": "execute_result"
    }
   ],
   "source": [
    "y_smote.value_counts()"
   ]
  },
  {
   "cell_type": "code",
   "execution_count": 193,
   "id": "03a0dd97-393a-447d-a6b2-5f15c0ea9ef7",
   "metadata": {},
   "outputs": [
    {
     "data": {
      "image/png": "[encoded data removed]",
      "text/plain": [
       "<Figure size 1000x500 with 2 Axes>"
      ]
     },
     "metadata": {},
     "output_type": "display_data"
    }
   ],
   "source": [
    "plt.figure(figsize=(10, 5))\n",
    "target = ['age', 'avg_glucose_level']\n",
    "\n",
    "for i in range(len(target)):\n",
    "    plt.subplot(1, 2,i+1)\n",
    "    plt.tight_layout(pad=2.0, h_pad=2.0)\n",
    "    plt.hist(X_smote[target[i]], color='limegreen')\n",
    "    plt.xlabel(target[i])"
   ]
  },
  {
   "cell_type": "markdown",
   "id": "d9989204-5d1a-41e2-8765-de781ed64d70",
   "metadata": {},
   "source": [
    "Hier könnte man bei Age den MinMax-Scaler verwenden. "
   ]
  },
  {
   "cell_type": "code",
   "execution_count": 194,
   "id": "f0b8c193-336c-47f6-b9c5-cebfb41aa35d",
   "metadata": {},
   "outputs": [
    {
     "data": {
      "text/html": [
       "<div>\n",
       "<style scoped>\n",
       "    .dataframe tbody tr th:only-of-type {\n",
       "        vertical-align: middle;\n",
       "    }\n",
       "\n",
       "    .dataframe tbody tr th {\n",
       "        vertical-align: top;\n",
       "    }\n",
       "\n",
       "    .dataframe thead th {\n",
       "        text-align: right;\n",
       "    }\n",
       "</style>\n",
       "<table border=\"1\" class=\"dataframe\">\n",
       "  <thead>\n",
       "    <tr style=\"text-align: right;\">\n",
       "      <th></th>\n",
       "      <th>gender_Male</th>\n",
       "      <th>gender_Other</th>\n",
       "      <th>ever_married_Yes</th>\n",
       "      <th>Residence_type_Urban</th>\n",
       "      <th>age</th>\n",
       "      <th>hypertension</th>\n",
       "      <th>heart_disease</th>\n",
       "      <th>work_type</th>\n",
       "      <th>avg_glucose_level</th>\n",
       "      <th>bmi</th>\n",
       "      <th>smoking_status</th>\n",
       "    </tr>\n",
       "  </thead>\n",
       "  <tbody>\n",
       "    <tr>\n",
       "      <th>0</th>\n",
       "      <td>1</td>\n",
       "      <td>0</td>\n",
       "      <td>0</td>\n",
       "      <td>0</td>\n",
       "      <td>0.035645</td>\n",
       "      <td>0</td>\n",
       "      <td>0</td>\n",
       "      <td>4</td>\n",
       "      <td>0.136847</td>\n",
       "      <td>18.0</td>\n",
       "      <td>0</td>\n",
       "    </tr>\n",
       "    <tr>\n",
       "      <th>1</th>\n",
       "      <td>1</td>\n",
       "      <td>0</td>\n",
       "      <td>1</td>\n",
       "      <td>1</td>\n",
       "      <td>0.707031</td>\n",
       "      <td>1</td>\n",
       "      <td>0</td>\n",
       "      <td>2</td>\n",
       "      <td>-0.172274</td>\n",
       "      <td>39.2</td>\n",
       "      <td>2</td>\n",
       "    </tr>\n",
       "    <tr>\n",
       "      <th>2</th>\n",
       "      <td>0</td>\n",
       "      <td>0</td>\n",
       "      <td>0</td>\n",
       "      <td>1</td>\n",
       "      <td>0.096680</td>\n",
       "      <td>0</td>\n",
       "      <td>0</td>\n",
       "      <td>2</td>\n",
       "      <td>0.817689</td>\n",
       "      <td>17.6</td>\n",
       "      <td>0</td>\n",
       "    </tr>\n",
       "    <tr>\n",
       "      <th>3</th>\n",
       "      <td>0</td>\n",
       "      <td>0</td>\n",
       "      <td>1</td>\n",
       "      <td>0</td>\n",
       "      <td>0.853516</td>\n",
       "      <td>0</td>\n",
       "      <td>0</td>\n",
       "      <td>2</td>\n",
       "      <td>-0.989111</td>\n",
       "      <td>35.9</td>\n",
       "      <td>1</td>\n",
       "    </tr>\n",
       "    <tr>\n",
       "      <th>4</th>\n",
       "      <td>1</td>\n",
       "      <td>0</td>\n",
       "      <td>0</td>\n",
       "      <td>0</td>\n",
       "      <td>0.169922</td>\n",
       "      <td>0</td>\n",
       "      <td>0</td>\n",
       "      <td>1</td>\n",
       "      <td>2.993188</td>\n",
       "      <td>19.1</td>\n",
       "      <td>0</td>\n",
       "    </tr>\n",
       "  </tbody>\n",
       "</table>\n",
       "</div>"
      ],
      "text/plain": [
       "   gender_Male  gender_Other  ever_married_Yes  Residence_type_Urban  \\\n",
       "0            1             0                 0                     0   \n",
       "1            1             0                 1                     1   \n",
       "2            0             0                 0                     1   \n",
       "3            0             0                 1                     0   \n",
       "4            1             0                 0                     0   \n",
       "\n",
       "        age  hypertension  heart_disease  work_type  avg_glucose_level   bmi  \\\n",
       "0  0.035645             0              0          4           0.136847  18.0   \n",
       "1  0.707031             1              0          2          -0.172274  39.2   \n",
       "2  0.096680             0              0          2           0.817689  17.6   \n",
       "3  0.853516             0              0          2          -0.989111  35.9   \n",
       "4  0.169922             0              0          1           2.993188  19.1   \n",
       "\n",
       "   smoking_status  \n",
       "0               0  \n",
       "1               2  \n",
       "2               0  \n",
       "3               1  \n",
       "4               0  "
      ]
     },
     "execution_count": 194,
     "metadata": {},
     "output_type": "execute_result"
    }
   ],
   "source": [
    "minmax_scaler = MinMaxScaler()\n",
    "std_scaler    = StandardScaler()\n",
    "\n",
    "X_smote['age'] = minmax_scaler.fit_transform(X_smote[['age']])\n",
    "X_smote['avg_glucose_level'] = std_scaler.fit_transform(X_smote[['avg_glucose_level']])\n",
    "\n",
    "X_smote.head()"
   ]
  },
  {
   "cell_type": "markdown",
   "id": "79cb02c4-5443-47b7-9222-228eba068dd8",
   "metadata": {},
   "source": [
    "<h2>Model und Dataset</h2>"
   ]
  },
  {
   "cell_type": "code",
   "execution_count": 196,
   "id": "2ea0518b-c63b-4bf9-8c45-08e53b01292a",
   "metadata": {},
   "outputs": [
    {
     "data": {
      "text/plain": [
       "(6585, 11)"
      ]
     },
     "execution_count": 196,
     "metadata": {},
     "output_type": "execute_result"
    }
   ],
   "source": [
    "# Train- und Testset.\n",
    "X_train, X_test, y_train, y_test = train_test_split(X_smote, y_smote, stratify=y_smote, test_size=0.2)\n",
    "X_train.shape"
   ]
  },
  {
   "cell_type": "code",
   "execution_count": 229,
   "id": "ef5065ce-e352-4c00-a605-3e67fc500f8b",
   "metadata": {},
   "outputs": [],
   "source": [
    "# Try-and-Error für verschiedene Werte. \n",
    "model = tf.keras.Sequential([\n",
    "    tf.keras.layers.Dense(units=50, input_shape=(11,), activation='leaky_relu' ), # L1 + L2\n",
    "    tf.keras.layers.Dropout(0.2),\n",
    "    tf.keras.layers.Dense(units=75, activation='leaky_relu'),\n",
    "    tf.keras.layers.Dense(units=30, activation='leaky_relu' ),\n",
    "    tf.keras.layers.Dropout(0.2),\n",
    "    tf.keras.layers.Dense(units=15, activation='leaky_relu' ),\n",
    "    tf.keras.layers.Dense(units=1, activation='sigmoid')  # Output unit 1, da binär.\n",
    "])\n",
    "\n",
    "model.compile(\n",
    "    optimizer='adam',\n",
    "    loss     ='binary_crossentropy',\n",
    "    metrics  = ['accuracy']\n",
    ")"
   ]
  },
  {
   "cell_type": "code",
   "execution_count": 230,
   "id": "1de6e2ae-b0eb-478c-9c10-31ac029e3c58",
   "metadata": {
    "scrolled": true
   },
   "outputs": [
    {
     "name": "stdout",
     "output_type": "stream",
     "text": [
      "Epoch 1/50\n",
      "824/824 [==============================] - 1s 863us/step - loss: 0.6766 - accuracy: 0.5818\n",
      "Epoch 2/50\n",
      "824/824 [==============================] - 1s 930us/step - loss: 0.5906 - accuracy: 0.6822\n",
      "Epoch 3/50\n",
      "824/824 [==============================] - 1s 824us/step - loss: 0.5548 - accuracy: 0.7166\n",
      "Epoch 4/50\n",
      "824/824 [==============================] - 1s 826us/step - loss: 0.5291 - accuracy: 0.7306\n",
      "Epoch 5/50\n",
      "824/824 [==============================] - 1s 827us/step - loss: 0.5137 - accuracy: 0.7382\n",
      "Epoch 6/50\n",
      "824/824 [==============================] - 1s 834us/step - loss: 0.5027 - accuracy: 0.7417\n",
      "Epoch 7/50\n",
      "824/824 [==============================] - 1s 837us/step - loss: 0.4903 - accuracy: 0.7496\n",
      "Epoch 8/50\n",
      "824/824 [==============================] - 1s 861us/step - loss: 0.4801 - accuracy: 0.7523\n",
      "Epoch 9/50\n",
      "824/824 [==============================] - 1s 831us/step - loss: 0.4661 - accuracy: 0.7640\n",
      "Epoch 10/50\n",
      "824/824 [==============================] - 1s 832us/step - loss: 0.4630 - accuracy: 0.7661\n",
      "Epoch 11/50\n",
      "824/824 [==============================] - 1s 831us/step - loss: 0.4465 - accuracy: 0.7778\n",
      "Epoch 12/50\n",
      "824/824 [==============================] - 1s 831us/step - loss: 0.4407 - accuracy: 0.7833\n",
      "Epoch 13/50\n",
      "824/824 [==============================] - 1s 831us/step - loss: 0.4258 - accuracy: 0.7875\n",
      "Epoch 14/50\n",
      "824/824 [==============================] - 1s 853us/step - loss: 0.4213 - accuracy: 0.7944\n",
      "Epoch 15/50\n",
      "824/824 [==============================] - 1s 826us/step - loss: 0.4070 - accuracy: 0.8047\n",
      "Epoch 16/50\n",
      "824/824 [==============================] - 1s 827us/step - loss: 0.3974 - accuracy: 0.8096\n",
      "Epoch 17/50\n",
      "824/824 [==============================] - 1s 825us/step - loss: 0.3941 - accuracy: 0.8131\n",
      "Epoch 18/50\n",
      "824/824 [==============================] - 1s 859us/step - loss: 0.3823 - accuracy: 0.8279\n",
      "Epoch 19/50\n",
      "824/824 [==============================] - 1s 837us/step - loss: 0.3804 - accuracy: 0.8231\n",
      "Epoch 20/50\n",
      "824/824 [==============================] - 1s 838us/step - loss: 0.3709 - accuracy: 0.8295\n",
      "Epoch 21/50\n",
      "824/824 [==============================] - 1s 823us/step - loss: 0.3669 - accuracy: 0.8360\n",
      "Epoch 22/50\n",
      "824/824 [==============================] - 1s 827us/step - loss: 0.3617 - accuracy: 0.8317\n",
      "Epoch 23/50\n",
      "824/824 [==============================] - 1s 876us/step - loss: 0.3536 - accuracy: 0.8405\n",
      "Epoch 24/50\n",
      "824/824 [==============================] - 1s 859us/step - loss: 0.3468 - accuracy: 0.8504\n",
      "Epoch 25/50\n",
      "824/824 [==============================] - 1s 827us/step - loss: 0.3480 - accuracy: 0.8468\n",
      "Epoch 26/50\n",
      "824/824 [==============================] - 1s 834us/step - loss: 0.3408 - accuracy: 0.8510\n",
      "Epoch 27/50\n",
      "824/824 [==============================] - 1s 836us/step - loss: 0.3300 - accuracy: 0.8569\n",
      "Epoch 28/50\n",
      "824/824 [==============================] - 1s 863us/step - loss: 0.3260 - accuracy: 0.8579\n",
      "Epoch 29/50\n",
      "824/824 [==============================] - 1s 844us/step - loss: 0.3250 - accuracy: 0.8569\n",
      "Epoch 30/50\n",
      "824/824 [==============================] - 1s 843us/step - loss: 0.3266 - accuracy: 0.8604\n",
      "Epoch 31/50\n",
      "824/824 [==============================] - 1s 843us/step - loss: 0.3191 - accuracy: 0.8617\n",
      "Epoch 32/50\n",
      "824/824 [==============================] - 1s 829us/step - loss: 0.3098 - accuracy: 0.8662\n",
      "Epoch 33/50\n",
      "824/824 [==============================] - 1s 844us/step - loss: 0.3118 - accuracy: 0.8673\n",
      "Epoch 34/50\n",
      "824/824 [==============================] - 1s 827us/step - loss: 0.3078 - accuracy: 0.8699\n",
      "Epoch 35/50\n",
      "824/824 [==============================] - 1s 829us/step - loss: 0.3120 - accuracy: 0.8706\n",
      "Epoch 36/50\n",
      "824/824 [==============================] - 1s 844us/step - loss: 0.3031 - accuracy: 0.8735\n",
      "Epoch 37/50\n",
      "824/824 [==============================] - 1s 853us/step - loss: 0.2942 - accuracy: 0.8787\n",
      "Epoch 38/50\n",
      "824/824 [==============================] - 1s 840us/step - loss: 0.3038 - accuracy: 0.8703\n",
      "Epoch 39/50\n",
      "824/824 [==============================] - 1s 914us/step - loss: 0.2949 - accuracy: 0.8758\n",
      "Epoch 40/50\n",
      "824/824 [==============================] - 1s 831us/step - loss: 0.2900 - accuracy: 0.8771\n",
      "Epoch 41/50\n",
      "824/824 [==============================] - 1s 829us/step - loss: 0.2865 - accuracy: 0.8838\n",
      "Epoch 42/50\n",
      "824/824 [==============================] - 1s 831us/step - loss: 0.2859 - accuracy: 0.8815\n",
      "Epoch 43/50\n",
      "824/824 [==============================] - 1s 848us/step - loss: 0.2853 - accuracy: 0.8797\n",
      "Epoch 44/50\n",
      "824/824 [==============================] - 1s 831us/step - loss: 0.2707 - accuracy: 0.8896\n",
      "Epoch 45/50\n",
      "824/824 [==============================] - 1s 835us/step - loss: 0.2757 - accuracy: 0.8858\n",
      "Epoch 46/50\n",
      "824/824 [==============================] - 1s 887us/step - loss: 0.2757 - accuracy: 0.8878\n",
      "Epoch 47/50\n",
      "824/824 [==============================] - 1s 858us/step - loss: 0.2666 - accuracy: 0.8904\n",
      "Epoch 48/50\n",
      "824/824 [==============================] - 1s 838us/step - loss: 0.2726 - accuracy: 0.8861\n",
      "Epoch 49/50\n",
      "824/824 [==============================] - 1s 848us/step - loss: 0.2709 - accuracy: 0.8863\n",
      "Epoch 50/50\n",
      "824/824 [==============================] - 1s 832us/step - loss: 0.2716 - accuracy: 0.8888\n"
     ]
    },
    {
     "data": {
      "text/plain": [
       "<keras.callbacks.History at 0x1b7376a43a0>"
      ]
     },
     "execution_count": 230,
     "metadata": {},
     "output_type": "execute_result"
    }
   ],
   "source": [
    "model.fit(X_train, y_train, epochs=50, batch_size=8)"
   ]
  },
  {
   "cell_type": "code",
   "execution_count": 231,
   "id": "956052f4-358b-4f4d-81c1-5285ce21260c",
   "metadata": {},
   "outputs": [
    {
     "name": "stdout",
     "output_type": "stream",
     "text": [
      "52/52 [==============================] - 0s 705us/step - loss: 0.2459 - accuracy: 0.9004\n"
     ]
    },
    {
     "data": {
      "text/plain": [
       "[0.24594593048095703, 0.9004250168800354]"
      ]
     },
     "execution_count": 231,
     "metadata": {},
     "output_type": "execute_result"
    }
   ],
   "source": [
    "model.evaluate(X_test, y_test)"
   ]
  },
  {
   "cell_type": "code",
   "execution_count": 232,
   "id": "5cf7899d-c7c6-44a4-9c36-743e42623e32",
   "metadata": {},
   "outputs": [
    {
     "name": "stdout",
     "output_type": "stream",
     "text": [
      "52/52 [==============================] - 0s 628us/step\n"
     ]
    },
    {
     "data": {
      "text/plain": [
       "array([[8.8130730e-01],\n",
       "       [1.3408340e-10],\n",
       "       [8.2768863e-01],\n",
       "       ...,\n",
       "       [7.5770336e-01],\n",
       "       [1.2029500e-01],\n",
       "       [9.4971126e-01]], dtype=float32)"
      ]
     },
     "execution_count": 232,
     "metadata": {},
     "output_type": "execute_result"
    }
   ],
   "source": [
    "# Aktivierungsfunktion Sigmoid liefert Werte zwischen 0 und 1.\n",
    "model.predict(X_test)"
   ]
  },
  {
   "cell_type": "code",
   "execution_count": 233,
   "id": "ab4d2817-3b63-492c-bfea-7d07329576d0",
   "metadata": {},
   "outputs": [
    {
     "name": "stdout",
     "output_type": "stream",
     "text": [
      "52/52 [==============================] - 0s 628us/step\n"
     ]
    }
   ],
   "source": [
    "pred = [0 if x<0.5 else 1  for x in  model.predict(X_test)]"
   ]
  },
  {
   "cell_type": "code",
   "execution_count": 234,
   "id": "4082284b-ca82-46ee-b3fd-fbf1ac50c7cb",
   "metadata": {},
   "outputs": [
    {
     "name": "stdout",
     "output_type": "stream",
     "text": [
      "              precision    recall  f1-score   support\n",
      "\n",
      "           0       1.00      0.80      0.89       823\n",
      "           1       0.83      1.00      0.91       824\n",
      "\n",
      "    accuracy                           0.90      1647\n",
      "   macro avg       0.92      0.90      0.90      1647\n",
      "weighted avg       0.92      0.90      0.90      1647\n",
      "\n"
     ]
    }
   ],
   "source": [
    "print(classification_report(y_test, pred))"
   ]
  },
  {
   "cell_type": "markdown",
   "id": "02b253b0-107e-48fa-bddc-acb1ee4f4ea6",
   "metadata": {},
   "source": [
    "Der F1-Score sieht in Ordnung aus.\n",
    "\n",
    "Wie sieht das ganze aus wenn wir Random-Forest nutzen?"
   ]
  },
  {
   "cell_type": "code",
   "execution_count": 235,
   "id": "02ba31ea-dac5-4e4e-8c22-ce3a8f1b3bb0",
   "metadata": {},
   "outputs": [
    {
     "data": {
      "text/plain": [
       "0.9987856709168185"
      ]
     },
     "execution_count": 235,
     "metadata": {},
     "output_type": "execute_result"
    }
   ],
   "source": [
    "rm_model = RandomForestClassifier(n_estimators=120, criterion='entropy')\n",
    "rm_model.fit(X_train, y_train)\n",
    "rm_model.score(X_test, y_test)"
   ]
  },
  {
   "cell_type": "code",
   "execution_count": 236,
   "id": "31d334bf-38c3-411f-821c-284a7cf2d30f",
   "metadata": {},
   "outputs": [
    {
     "name": "stdout",
     "output_type": "stream",
     "text": [
      "              precision    recall  f1-score   support\n",
      "\n",
      "           0       1.00      1.00      1.00       823\n",
      "           1       1.00      1.00      1.00       824\n",
      "\n",
      "    accuracy                           1.00      1647\n",
      "   macro avg       1.00      1.00      1.00      1647\n",
      "weighted avg       1.00      1.00      1.00      1647\n",
      "\n"
     ]
    }
   ],
   "source": [
    "print(classification_report(y_test, rm_model.predict(X_test)))"
   ]
  },
  {
   "cell_type": "code",
   "execution_count": null,
   "id": "371db74e-bb15-4fc7-bd89-6a52ff697fb4",
   "metadata": {},
   "outputs": [],
   "source": []
  }
 ],
 "metadata": {
  "kernelspec": {
   "display_name": "Python 3 (ipykernel)",
   "language": "python",
   "name": "python3"
  },
  "language_info": {
   "codemirror_mode": {
    "name": "ipython",
    "version": 3
   },
   "file_extension": ".py",
   "mimetype": "text/x-python",
   "name": "python",
   "nbconvert_exporter": "python",
   "pygments_lexer": "ipython3",
   "version": "3.9.19"
  }
 },
 "nbformat": 4,
 "nbformat_minor": 5
}
