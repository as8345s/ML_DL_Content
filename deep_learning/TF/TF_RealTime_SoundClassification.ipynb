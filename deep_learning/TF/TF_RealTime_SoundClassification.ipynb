{
 "cells": [
  {
   "cell_type": "markdown",
   "id": "dfbd45e8-a762-4d64-8feb-a84291d82949",
   "metadata": {},
   "source": [
    "<h1>Real Time Audio Klassifizierung</h1>"
   ]
  },
  {
   "cell_type": "markdown",
   "id": "ddd91e95-4133-4424-9ea2-7798ab2e9c49",
   "metadata": {},
   "source": [
    "Hier wollen wir ein Model erstellen, dass Sound klassifizieren soll. Dan soll das Model in Echtzeit Klassifizierungen durchführen.\n",
    "\n",
    "Als Startpunkt orientieren wir uns an dem Notebook TF_Audio.\n",
    "\n",
    "Als zusätzliche Aufgabe sollen die betroffenen stellen der Sounds markiert werden."
   ]
  },
  {
   "cell_type": "markdown",
   "id": "7ad31194-8810-4d7d-bedf-779def5c12ea",
   "metadata": {},
   "source": [
    "Um den Anfang zu machen, wollen wir als Ziel ein Model trainieren, dass Wörter erkennen soll.:\n",
    "- Ein ASR Model (Automatic-speech-recognition)\n",
    "\n",
    "Als Dataset nutzen wir:\n",
    "> Speech Commands dataset (Warden, 2018) <br>\n",
    "> https://www.tensorflow.org/datasets/catalog/speech_commands [Letzter Zugriff: 5.09.2024]\n",
    "\n",
    "Dieses Dataset enthält folgende Wörter im Audioformat: \"down\", \"go\", \"left\", \"no\", \"right\", \"stop\", \"up\" und \"yes\" <br>"
   ]
  },
  {
   "cell_type": "code",
   "execution_count": 29,
   "id": "ea44b9ba-7045-4fd3-9b03-854cd9a8a8fe",
   "metadata": {},
   "outputs": [],
   "source": [
    "# Imports \n",
    "import os\n",
    "import pathlib\n",
    "\n",
    "import matplotlib.pyplot as plt\n",
    "import numpy as np\n",
    "import seaborn as sns\n",
    "import tensorflow as tf\n",
    "\n",
    "import IPython\n",
    "from IPython import display\n",
    "\n",
    "import sounddevice as sd\n",
    "import librosa\n",
    "from scipy.io import wavfile\n",
    "import wave"
   ]
  },
  {
   "cell_type": "markdown",
   "id": "3c139afb-777b-4673-ba98-b00e5e747426",
   "metadata": {},
   "source": [
    "Lade Dataset herunter."
   ]
  },
  {
   "cell_type": "code",
   "execution_count": 107,
   "id": "83ed01ce-d3bf-4b07-a0e6-a00728990163",
   "metadata": {},
   "outputs": [],
   "source": [
    "DATASET_PATH = 'data/mini_speech_commands'\n",
    "\n",
    "data_dir = pathlib.Path(DATASET_PATH)\n",
    "if not data_dir.exists():\n",
    "  tf.keras.utils.get_file(\n",
    "      'mini_speech_commands.zip',\n",
    "      origin=\"http://storage.googleapis.com/download.tensorflow.org/data/mini_speech_commands.zip\",\n",
    "      extract=True,\n",
    "      cache_dir='.', cache_subdir='data')"
   ]
  },
  {
   "cell_type": "code",
   "execution_count": 108,
   "id": "c453618a-51e0-43df-ae2c-7c23a99b4d9e",
   "metadata": {},
   "outputs": [
    {
     "name": "stdout",
     "output_type": "stream",
     "text": [
      "Kommandos: ['down' 'go' 'left' 'no' 'right' 'stop' 'up' 'yes']\n"
     ]
    }
   ],
   "source": [
    "# Dataset enthält Ordner mit Audiodateien.\n",
    "commands = np.array(tf.io.gfile.listdir(str(data_dir)))\n",
    "\n",
    "commands = commands[(commands != 'README.md') & (commands != '.DS_Store')]\n",
    "print(f'Kommandos: {commands}')"
   ]
  },
  {
   "cell_type": "code",
   "execution_count": 109,
   "id": "e31b51c3-f6e9-49f1-b7aa-520e97606168",
   "metadata": {},
   "outputs": [
    {
     "name": "stdout",
     "output_type": "stream",
     "text": [
      "Found 8000 files belonging to 8 classes.\n",
      "Using 6400 files for training.\n",
      "Using 1600 files for validation.\n"
     ]
    },
    {
     "data": {
      "text/plain": [
       "<_BatchDataset element_spec=(TensorSpec(shape=(None, 16000, None), dtype=tf.float32, name=None), TensorSpec(shape=(None,), dtype=tf.int32, name=None))>"
      ]
     },
     "execution_count": 109,
     "metadata": {},
     "output_type": "execute_result"
    }
   ],
   "source": [
    "# Erstelle Dataset # \n",
    "train_ds, val_ds = tf.keras.utils.audio_dataset_from_directory(\n",
    "    directory=data_dir,\n",
    "    batch_size=32,\n",
    "    validation_split=0.2,\n",
    "    seed=0,\n",
    "    output_sequence_length=16000,  # Padding \n",
    "    subset='both')\n",
    "train_ds"
   ]
  },
  {
   "cell_type": "code",
   "execution_count": 5,
   "id": "879f0641-b0a3-495e-8017-341459d3c6e6",
   "metadata": {},
   "outputs": [
    {
     "data": {
      "text/plain": [
       "['down', 'go', 'left', 'no', 'right', 'stop', 'up', 'yes']"
      ]
     },
     "execution_count": 5,
     "metadata": {},
     "output_type": "execute_result"
    }
   ],
   "source": [
    "label_names = train_ds.class_names\n",
    "train_ds.class_names"
   ]
  },
  {
   "cell_type": "markdown",
   "id": "2a3b9eab-cae2-4cef-98af-52b8981be28c",
   "metadata": {},
   "source": [
    "Alternativ können auch nur einige dieser Kommandos oder andere verwendet werden."
   ]
  },
  {
   "cell_type": "markdown",
   "id": "c36a4b3d-7b03-407f-90a9-e71cfb0bf8be",
   "metadata": {},
   "source": [
    "<h2>Audio File Analyse</h2>"
   ]
  },
  {
   "cell_type": "markdown",
   "id": "ea51f18c-8bce-4189-9a58-b40ea9ce857d",
   "metadata": {},
   "source": [
    "Dafür eignen sich viele Libraries, generell.:\n",
    "- scipy\n",
    "- wave"
   ]
  },
  {
   "cell_type": "code",
   "execution_count": 103,
   "id": "c4069759-883a-4d02-99db-07b5c8a6d793",
   "metadata": {},
   "outputs": [
    {
     "name": "stdout",
     "output_type": "stream",
     "text": [
      "Kommando: right\n",
      "number of channels = 16000\n",
      "Länge = 1.0s\n"
     ]
    }
   ],
   "source": [
    "random_command = np.random.randint(1, len(label_names)-1)\n",
    "random_command = label_names[random_command]\n",
    "\n",
    "listed_audio_files = os.listdir(DATASET_PATH+f\"/{random_command}\")\n",
    "\n",
    "samplerate, data = wavfile.read(DATASET_PATH+f\"/{random_command}/{listed_audio_files[6]}\")\n",
    "print(f\"Kommando: {random_command}\")\n",
    "print(f\"number of channels = {data.shape[0]}\")\n",
    "\n",
    "length = data.shape[0] / samplerate\n",
    "print(f\"Länge = {length}s\")"
   ]
  },
  {
   "cell_type": "markdown",
   "id": "f3b0cae1-06a5-45fb-835e-553cafcc89fd",
   "metadata": {},
   "source": [
    "<b>Samplerate</b>: Samples pro Sekunde (Hz)<br>\n",
    "<b>Data</b>: Stellt die Amplitude der Schallwellen bei jedem Sample dar. Die Struktur ist abhängig von der Anzahl der Channels (mono, stereo) und der Bittiefe. <br>\n",
    "Mono: 1D, Stereo: 2D, für rechts und links.\n",
    "\n",
    "Die Bittiefe beschreibt die Range und Genauigkeit der Werte. Jedes Sample repräsentiert durch die Amplitude wie laut es ist. Bei einer Tiefe von 16-Bit sind also 2^16 Werte möglich."
   ]
  },
  {
   "cell_type": "code",
   "execution_count": 75,
   "id": "5ee3ebc9-9367-47d0-a1cf-9e0af87ca410",
   "metadata": {},
   "outputs": [
    {
     "data": {
      "text/plain": [
       "16000"
      ]
     },
     "execution_count": 75,
     "metadata": {},
     "output_type": "execute_result"
    }
   ],
   "source": [
    "samplerate"
   ]
  },
  {
   "cell_type": "code",
   "execution_count": 76,
   "id": "42314c67-a292-4a89-9b53-2b78949c1bcc",
   "metadata": {},
   "outputs": [
    {
     "data": {
      "text/plain": [
       "array([-1, -2, -1,  1, -1,  1,  2,  2,  2,  2], dtype=int16)"
      ]
     },
     "execution_count": 76,
     "metadata": {},
     "output_type": "execute_result"
    }
   ],
   "source": [
    "data[:10]"
   ]
  },
  {
   "cell_type": "code",
   "execution_count": 77,
   "id": "21ca185c-4a08-4074-877c-a6282dde43a0",
   "metadata": {},
   "outputs": [
    {
     "data": {
      "text/plain": [
       "[<matplotlib.lines.Line2D at 0x1fee6e05640>]"
      ]
     },
     "execution_count": 77,
     "metadata": {},
     "output_type": "execute_result"
    },
    {
     "data": {
      "image/png": "[encoded data removed]",
      "text/plain": [
       "<Figure size 1000x400 with 1 Axes>"
      ]
     },
     "metadata": {},
     "output_type": "display_data"
    }
   ],
   "source": [
    "plt.figure(figsize=(10,4))\n",
    "plt.plot(data)"
   ]
  },
  {
   "cell_type": "code",
   "execution_count": 78,
   "id": "e03e1042-0918-4cc9-86f3-ba4aab655d5c",
   "metadata": {},
   "outputs": [],
   "source": [
    "# Mit Wave # \n",
    "wave_audiofile = wave.Wave_read(DATASET_PATH+f\"/{random_command}/{listed_audio_files[6]}\")"
   ]
  },
  {
   "cell_type": "code",
   "execution_count": 79,
   "id": "b5c28fa6-4ba1-49f9-924c-8b8a219120bc",
   "metadata": {},
   "outputs": [
    {
     "data": {
      "text/plain": [
       "1"
      ]
     },
     "execution_count": 79,
     "metadata": {},
     "output_type": "execute_result"
    }
   ],
   "source": [
    "wave_audiofile.getnchannels()\n",
    "# Auch:\n",
    "# - max\n",
    "# - frame_rate\n",
    "# ..."
   ]
  },
  {
   "cell_type": "code",
   "execution_count": 80,
   "id": "65f30ac6-4700-400c-befd-fab62057a270",
   "metadata": {},
   "outputs": [
    {
     "data": {
      "text/plain": [
       "16000"
      ]
     },
     "execution_count": 80,
     "metadata": {},
     "output_type": "execute_result"
    }
   ],
   "source": [
    "wave_audiofile.getframerate()"
   ]
  },
  {
   "cell_type": "markdown",
   "id": "2e0681b1-0494-4831-9e9c-1e380c9591f5",
   "metadata": {},
   "source": [
    "Die Channels beschreiben dabei mono oder stereo. Ein Audiosignal was in waveform vorliegt, kann in ein Spektrogramm umgeformt werden, was das Signal in x: Zeit und y: Frequenz aufteilt (siehe Plot), die Pixelwerte geben dabei Stärke der Sounds an, was man auch Dezibel nennt. Da ein Spektrogramm als 2D Bild vorliegt, können herkömmliche CNNs verwendet werden. Da Audio eine Sequenz darstellt, können RNNs und CNN-RNNs verwendet werden.\n",
    "\n",
    "Genau das ist ein gutes Beispiel für die Verwendung von RNNs bei Bilddaten.\n",
    "\n",
    "- Vergiss nicht zu normalisieren und zu Argumentieren"
   ]
  },
  {
   "cell_type": "code",
   "execution_count": 81,
   "id": "ce64fd6b-4b62-4bec-b2d7-5ea6bc3eef40",
   "metadata": {},
   "outputs": [],
   "source": [
    "# Wandel in Spektrogramm um #\n",
    "def get_spectrogram(waveform):\n",
    "    # Short-Time Fourier Transformation: Analysiere Frequenz \n",
    "    # - Teile Signal in Frames ein, wende auf Frame Fourier Transformation an.\n",
    "    # - frame_length: nehme n-Samples für den Frame\n",
    "    # - frame_step: Overlapping. Seichterer Übergang. \n",
    "    spectrogram = tf.signal.stft(waveform, frame_length=255, frame_step=128)\n",
    "    # Ergebnis sind komplexe Zahlen => berechne Betrag der Zahlen.\n",
    "    # - Phasenifnromationen werden verworfen und Amplitude behalten\n",
    "    #   Reich oft für Analyse des Frequenzinhalts.\n",
    "    spectrogram = tf.abs(spectrogram)  # 2D Repräsentation \n",
    "    # Füge eine Achse hinzu, da z. B. CNN ein 3D Tensor erwartet. \n",
    "    # - Statt RGB 3D Channel ist es hier ein Greyscale 1D Channel.\n",
    "    spectrogram = spectrogram[..., tf.newaxis]\n",
    "    return spectrogram"
   ]
  },
  {
   "cell_type": "code",
   "execution_count": 126,
   "id": "22e77e3c-cb58-49ff-bdbc-457777eb73a6",
   "metadata": {},
   "outputs": [],
   "source": [
    "def plot_spectrogram(spectrogram):\n",
    "      if len(spectrogram.shape) > 2:\n",
    "            assert len(spectrogram.shape) == 3\n",
    "      spectrogram = np.squeeze(spectrogram, axis=-1)\n",
    "      spectrogram = np.squeeze(spectrogram, axis=-1)\n",
    "      # Transponiere: x: Zeit\n",
    "      # Füge Eps. hinzu, dmait nicht log(0).\n",
    "      log_spec = np.log(spectrogram.T + np.finfo(float).eps)\n",
    "      height = log_spec.shape[0]\n",
    "      width = log_spec.shape[1]\n",
    "      X = np.linspace(0, np.size(spectrogram), num=width, dtype=int)\n",
    "      Y = range(height)\n",
    "      plt.pcolormesh(X, Y, log_spec)"
   ]
  },
  {
   "cell_type": "code",
   "execution_count": null,
   "id": "cdd2686a-8f16-4985-8fc8-9d6bd600f3cb",
   "metadata": {},
   "outputs": [],
   "source": []
  },
  {
   "cell_type": "code",
   "execution_count": null,
   "id": "0423f07b-0ccf-4b60-8c03-f0c5300c4e28",
   "metadata": {},
   "outputs": [],
   "source": []
  },
  {
   "cell_type": "code",
   "execution_count": 142,
   "id": "cac42a2f-8cf7-4c45-9e6f-6cdc1608b351",
   "metadata": {},
   "outputs": [
    {
     "name": "stdout",
     "output_type": "stream",
     "text": [
      "Found 8000 files belonging to 8 classes.\n",
      "Using 6400 files for training.\n",
      "Using 1600 files for validation.\n"
     ]
    },
    {
     "data": {
      "text/plain": [
       "<_BatchDataset element_spec=(TensorSpec(shape=(None, 16000, None), dtype=tf.float32, name=None), TensorSpec(shape=(None,), dtype=tf.int32, name=None))>"
      ]
     },
     "execution_count": 142,
     "metadata": {},
     "output_type": "execute_result"
    }
   ],
   "source": [
    "# Erstelle Dataset # \n",
    "train_ds, val_ds = tf.keras.utils.audio_dataset_from_directory(\n",
    "    directory=data_dir,\n",
    "    batch_size=32,\n",
    "    validation_split=0.2,\n",
    "    seed=0,\n",
    "    output_sequence_length=16000,  # Padding \n",
    "    subset='both')\n",
    "train_ds"
   ]
  },
  {
   "cell_type": "code",
   "execution_count": 143,
   "id": "0a64d18c-51f9-45bf-aa6b-af8b3563a365",
   "metadata": {},
   "outputs": [],
   "source": [
    "# Entferne eine Achse, da Single-Channel # \n",
    "def squeeze(audio, labels):\n",
    "  audio = tf.squeeze(audio, axis=-1)\n",
    "  return audio, labels\n",
    "\n",
    "train_ds = train_ds.map(squeeze, tf.data.AUTOTUNE)\n",
    "val_ds   = val_ds.map(squeeze, tf.data.AUTOTUNE)"
   ]
  },
  {
   "cell_type": "code",
   "execution_count": null,
   "id": "e24982d9-1ea2-4201-88b4-e0e025a56e62",
   "metadata": {},
   "outputs": [],
   "source": []
  },
  {
   "cell_type": "code",
   "execution_count": null,
   "id": "2490f573-0121-4ef1-8c2a-ec81bf086135",
   "metadata": {},
   "outputs": [],
   "source": []
  },
  {
   "cell_type": "code",
   "execution_count": null,
   "id": "bd8abade-1cb9-4076-91d4-e8b8bc3c6d1e",
   "metadata": {},
   "outputs": [],
   "source": []
  },
  {
   "cell_type": "code",
   "execution_count": null,
   "id": "a113c451-9aa8-4f71-9833-530a645ed510",
   "metadata": {},
   "outputs": [],
   "source": []
  },
  {
   "cell_type": "code",
   "execution_count": null,
   "id": "2a719fed-4382-465a-bc04-7e076a2ec317",
   "metadata": {},
   "outputs": [],
   "source": []
  },
  {
   "cell_type": "markdown",
   "id": "a293af4a-513c-437c-a7a2-063a8c7c4dbc",
   "metadata": {},
   "source": [
    "<h2>Dataset vorbereiten und Model</h2>"
   ]
  },
  {
   "cell_type": "code",
   "execution_count": null,
   "id": "d54b148c-20a9-4789-ac10-35631a5c4e4e",
   "metadata": {},
   "outputs": [],
   "source": []
  },
  {
   "cell_type": "code",
   "execution_count": 83,
   "id": "21b8d67a-29c8-4945-bf06-8c90a85c7dab",
   "metadata": {},
   "outputs": [],
   "source": [
    "# Entferne eine Achse, da Single-Channel # \n",
    "def squeeze(audio, labels):\n",
    "  audio = tf.squeeze(audio, axis=-1)\n",
    "  return audio, labels\n",
    "\n",
    "train_ds = train_ds.map(squeeze, tf.data.AUTOTUNE)\n",
    "val_ds   = val_ds.map(squeeze, tf.data.AUTOTUNE)"
   ]
  },
  {
   "cell_type": "code",
   "execution_count": 48,
   "id": "f62bacc1-ee22-4165-a575-2c02814df0f4",
   "metadata": {},
   "outputs": [],
   "source": [
    "# Erstelle Test- und Validationset mit Shards #\n",
    "test_ds = val_ds.shard(num_shards=2, index=0)\n",
    "val_ds  = val_ds.shard(num_shards=2, index=1)"
   ]
  },
  {
   "cell_type": "code",
   "execution_count": null,
   "id": "f39b9328-0a98-47ef-b22f-45b1f4202831",
   "metadata": {},
   "outputs": [],
   "source": []
  },
  {
   "cell_type": "code",
   "execution_count": null,
   "id": "88d65e1d-de5f-4362-ab9c-7abf06b756fd",
   "metadata": {},
   "outputs": [],
   "source": []
  },
  {
   "cell_type": "code",
   "execution_count": 49,
   "id": "12b9611c-3633-4e9a-a0c1-ed3a0e8eb5c0",
   "metadata": {},
   "outputs": [],
   "source": [
    "def make_spec_ds(ds):\n",
    "  return ds.map(\n",
    "      map_func=lambda audio,label: (get_spectrogram(audio), label),\n",
    "      num_parallel_calls=tf.data.AUTOTUNE)"
   ]
  },
  {
   "cell_type": "code",
   "execution_count": 50,
   "id": "fe85c042-e541-4c51-9a0d-dc8d68fb1dca",
   "metadata": {
    "scrolled": true
   },
   "outputs": [],
   "source": [
    "train_ds_spec = make_spec_ds(train_ds)\n",
    "val_ds_spec   = make_spec_ds(val_ds)\n",
    "test_ds_spec  = make_spec_ds(test_ds)"
   ]
  },
  {
   "cell_type": "code",
   "execution_count": null,
   "id": "7288a4f3-89f7-4ddd-879f-fb84415401dd",
   "metadata": {},
   "outputs": [],
   "source": []
  },
  {
   "cell_type": "markdown",
   "id": "da50769e-3a49-4476-a212-066c2c166094",
   "metadata": {},
   "source": [
    "Dann erstellen wir das Model."
   ]
  },
  {
   "cell_type": "code",
   "execution_count": 51,
   "id": "6d42ed9a-ee54-44c2-8e87-244ac06f8287",
   "metadata": {},
   "outputs": [],
   "source": [
    "for example_spectrograms, example_spect_labels in train_ds_spec.take(1):\n",
    "  break"
   ]
  },
  {
   "cell_type": "code",
   "execution_count": 41,
   "id": "0bc6d1a9-b5dc-4ede-bb03-88827f78e45e",
   "metadata": {},
   "outputs": [
    {
     "data": {
      "text/plain": [
       "TensorShape([124, 129, 1])"
      ]
     },
     "execution_count": 41,
     "metadata": {},
     "output_type": "execute_result"
    }
   ],
   "source": [
    "input_shape"
   ]
  },
  {
   "cell_type": "code",
   "execution_count": 54,
   "id": "231874d0-13cd-4253-863f-ce97b4b05887",
   "metadata": {},
   "outputs": [
    {
     "data": {
      "text/plain": [
       "32"
      ]
     },
     "execution_count": 54,
     "metadata": {},
     "output_type": "execute_result"
    }
   ],
   "source": [
    "example_spectrograms.shape[0]"
   ]
  },
  {
   "cell_type": "code",
   "execution_count": 68,
   "id": "3e3cb592-f14b-4755-a15c-66928d731d6c",
   "metadata": {},
   "outputs": [],
   "source": [
    "\n",
    "input_shape = example_spectrograms.shape[1:]\n",
    "num_labels  = len(label_names)\n",
    "\n",
    "norm_layer = tf.keras.layers.Normalization()\n",
    "norm_layer.adapt(data=train_ds_spec.map(map_func=lambda spec, label: spec))\n",
    "\n",
    "sound_model = tf.keras.Sequential([\n",
    "    \n",
    "    #tf.keras.layers.Input(shape=(124, 129, 1)),\n",
    "   \n",
    "    norm_layer,\n",
    "    tf.keras.layers.Reshape((124, 129 )),\n",
    "    tf.keras.layers.LSTM(64, return_sequences=True),\n",
    "    tf.keras.layers.LSTM(128, return_sequences=False),\n",
    "\n",
    "    tf.keras.layers.Dense(64, activation=\"relu\"),\n",
    "    tf.keras.layers.Dropout(0.1),\n",
    "    tf.keras.layers.Dense(num_labels, activation=\"softmax\")\n",
    "])\n",
    "\n",
    "tb_callback = tf.keras.callbacks.TensorBoard(log_dir=\"logs/sound_realtime/sound_model\", histogram_freq=1)\n",
    "\n",
    "sound_model.compile(\n",
    "    optimizer=\"adam\",\n",
    "    loss     = tf.keras.losses.SparseCategoricalCrossentropy,\n",
    "    metrics  = [\"accuracy\"]\n",
    ")"
   ]
  },
  {
   "cell_type": "code",
   "execution_count": 69,
   "id": "2940aeb7-f2ff-4ab0-a5d0-41ab8c39b989",
   "metadata": {},
   "outputs": [
    {
     "data": {
      "text/html": [
       "<pre style=\"white-space:pre;overflow-x:auto;line-height:normal;font-family:Menlo,'DejaVu Sans Mono',consolas,'Courier New',monospace\"><span style=\"font-weight: bold\">Model: \"sequential_16\"</span>\n",
       "</pre>\n"
      ],
      "text/plain": [
       "\u001b[1mModel: \"sequential_16\"\u001b[0m\n"
      ]
     },
     "metadata": {},
     "output_type": "display_data"
    },
    {
     "data": {
      "text/html": [
       "<pre style=\"white-space:pre;overflow-x:auto;line-height:normal;font-family:Menlo,'DejaVu Sans Mono',consolas,'Courier New',monospace\">┏━━━━━━━━━━━━━━━━━━━━━━━━━━━━━━━━━┳━━━━━━━━━━━━━━━━━━━━━━━━┳━━━━━━━━━━━━━━━┓\n",
       "┃<span style=\"font-weight: bold\"> Layer (type)                    </span>┃<span style=\"font-weight: bold\"> Output Shape           </span>┃<span style=\"font-weight: bold\">       Param # </span>┃\n",
       "┡━━━━━━━━━━━━━━━━━━━━━━━━━━━━━━━━━╇━━━━━━━━━━━━━━━━━━━━━━━━╇━━━━━━━━━━━━━━━┩\n",
       "│ normalization_18                │ (<span style=\"color: #00d7ff; text-decoration-color: #00d7ff\">None</span>, <span style=\"color: #00af00; text-decoration-color: #00af00\">124</span>, <span style=\"color: #00af00; text-decoration-color: #00af00\">129</span>, <span style=\"color: #00af00; text-decoration-color: #00af00\">1</span>)    │             <span style=\"color: #00af00; text-decoration-color: #00af00\">3</span> │\n",
       "│ (<span style=\"color: #0087ff; text-decoration-color: #0087ff\">Normalization</span>)                 │                        │               │\n",
       "├─────────────────────────────────┼────────────────────────┼───────────────┤\n",
       "│ reshape_2 (<span style=\"color: #0087ff; text-decoration-color: #0087ff\">Reshape</span>)             │ ?                      │   <span style=\"color: #00af00; text-decoration-color: #00af00\">0</span> (unbuilt) │\n",
       "├─────────────────────────────────┼────────────────────────┼───────────────┤\n",
       "│ lstm_30 (<span style=\"color: #0087ff; text-decoration-color: #0087ff\">LSTM</span>)                  │ ?                      │   <span style=\"color: #00af00; text-decoration-color: #00af00\">0</span> (unbuilt) │\n",
       "├─────────────────────────────────┼────────────────────────┼───────────────┤\n",
       "│ lstm_31 (<span style=\"color: #0087ff; text-decoration-color: #0087ff\">LSTM</span>)                  │ ?                      │   <span style=\"color: #00af00; text-decoration-color: #00af00\">0</span> (unbuilt) │\n",
       "├─────────────────────────────────┼────────────────────────┼───────────────┤\n",
       "│ dense_30 (<span style=\"color: #0087ff; text-decoration-color: #0087ff\">Dense</span>)                │ ?                      │   <span style=\"color: #00af00; text-decoration-color: #00af00\">0</span> (unbuilt) │\n",
       "├─────────────────────────────────┼────────────────────────┼───────────────┤\n",
       "│ dropout_15 (<span style=\"color: #0087ff; text-decoration-color: #0087ff\">Dropout</span>)            │ ?                      │   <span style=\"color: #00af00; text-decoration-color: #00af00\">0</span> (unbuilt) │\n",
       "├─────────────────────────────────┼────────────────────────┼───────────────┤\n",
       "│ dense_31 (<span style=\"color: #0087ff; text-decoration-color: #0087ff\">Dense</span>)                │ ?                      │   <span style=\"color: #00af00; text-decoration-color: #00af00\">0</span> (unbuilt) │\n",
       "└─────────────────────────────────┴────────────────────────┴───────────────┘\n",
       "</pre>\n"
      ],
      "text/plain": [
       "┏━━━━━━━━━━━━━━━━━━━━━━━━━━━━━━━━━┳━━━━━━━━━━━━━━━━━━━━━━━━┳━━━━━━━━━━━━━━━┓\n",
       "┃\u001b[1m \u001b[0m\u001b[1mLayer (type)                   \u001b[0m\u001b[1m \u001b[0m┃\u001b[1m \u001b[0m\u001b[1mOutput Shape          \u001b[0m\u001b[1m \u001b[0m┃\u001b[1m \u001b[0m\u001b[1m      Param #\u001b[0m\u001b[1m \u001b[0m┃\n",
       "┡━━━━━━━━━━━━━━━━━━━━━━━━━━━━━━━━━╇━━━━━━━━━━━━━━━━━━━━━━━━╇━━━━━━━━━━━━━━━┩\n",
       "│ normalization_18                │ (\u001b[38;5;45mNone\u001b[0m, \u001b[38;5;34m124\u001b[0m, \u001b[38;5;34m129\u001b[0m, \u001b[38;5;34m1\u001b[0m)    │             \u001b[38;5;34m3\u001b[0m │\n",
       "│ (\u001b[38;5;33mNormalization\u001b[0m)                 │                        │               │\n",
       "├─────────────────────────────────┼────────────────────────┼───────────────┤\n",
       "│ reshape_2 (\u001b[38;5;33mReshape\u001b[0m)             │ ?                      │   \u001b[38;5;34m0\u001b[0m (unbuilt) │\n",
       "├─────────────────────────────────┼────────────────────────┼───────────────┤\n",
       "│ lstm_30 (\u001b[38;5;33mLSTM\u001b[0m)                  │ ?                      │   \u001b[38;5;34m0\u001b[0m (unbuilt) │\n",
       "├─────────────────────────────────┼────────────────────────┼───────────────┤\n",
       "│ lstm_31 (\u001b[38;5;33mLSTM\u001b[0m)                  │ ?                      │   \u001b[38;5;34m0\u001b[0m (unbuilt) │\n",
       "├─────────────────────────────────┼────────────────────────┼───────────────┤\n",
       "│ dense_30 (\u001b[38;5;33mDense\u001b[0m)                │ ?                      │   \u001b[38;5;34m0\u001b[0m (unbuilt) │\n",
       "├─────────────────────────────────┼────────────────────────┼───────────────┤\n",
       "│ dropout_15 (\u001b[38;5;33mDropout\u001b[0m)            │ ?                      │   \u001b[38;5;34m0\u001b[0m (unbuilt) │\n",
       "├─────────────────────────────────┼────────────────────────┼───────────────┤\n",
       "│ dense_31 (\u001b[38;5;33mDense\u001b[0m)                │ ?                      │   \u001b[38;5;34m0\u001b[0m (unbuilt) │\n",
       "└─────────────────────────────────┴────────────────────────┴───────────────┘\n"
      ]
     },
     "metadata": {},
     "output_type": "display_data"
    },
    {
     "data": {
      "text/html": [
       "<pre style=\"white-space:pre;overflow-x:auto;line-height:normal;font-family:Menlo,'DejaVu Sans Mono',consolas,'Courier New',monospace\"><span style=\"font-weight: bold\"> Total params: </span><span style=\"color: #00af00; text-decoration-color: #00af00\">3</span> (16.00 B)\n",
       "</pre>\n"
      ],
      "text/plain": [
       "\u001b[1m Total params: \u001b[0m\u001b[38;5;34m3\u001b[0m (16.00 B)\n"
      ]
     },
     "metadata": {},
     "output_type": "display_data"
    },
    {
     "data": {
      "text/html": [
       "<pre style=\"white-space:pre;overflow-x:auto;line-height:normal;font-family:Menlo,'DejaVu Sans Mono',consolas,'Courier New',monospace\"><span style=\"font-weight: bold\"> Trainable params: </span><span style=\"color: #00af00; text-decoration-color: #00af00\">0</span> (0.00 B)\n",
       "</pre>\n"
      ],
      "text/plain": [
       "\u001b[1m Trainable params: \u001b[0m\u001b[38;5;34m0\u001b[0m (0.00 B)\n"
      ]
     },
     "metadata": {},
     "output_type": "display_data"
    },
    {
     "data": {
      "text/html": [
       "<pre style=\"white-space:pre;overflow-x:auto;line-height:normal;font-family:Menlo,'DejaVu Sans Mono',consolas,'Courier New',monospace\"><span style=\"font-weight: bold\"> Non-trainable params: </span><span style=\"color: #00af00; text-decoration-color: #00af00\">3</span> (16.00 B)\n",
       "</pre>\n"
      ],
      "text/plain": [
       "\u001b[1m Non-trainable params: \u001b[0m\u001b[38;5;34m3\u001b[0m (16.00 B)\n"
      ]
     },
     "metadata": {},
     "output_type": "display_data"
    }
   ],
   "source": [
    "sound_model.summary()"
   ]
  },
  {
   "cell_type": "code",
   "execution_count": 70,
   "id": "2b19fb27-f48d-4d6e-ba31-2863401b1b29",
   "metadata": {},
   "outputs": [
    {
     "name": "stdout",
     "output_type": "stream",
     "text": [
      "Epoch 1/30\n",
      "\u001b[1m200/200\u001b[0m \u001b[32m━━━━━━━━━━━━━━━━━━━━\u001b[0m\u001b[37m\u001b[0m \u001b[1m17s\u001b[0m 71ms/step - accuracy: 0.2035 - loss: 1.9843 - val_accuracy: 0.3288 - val_loss: 1.8446\n",
      "Epoch 2/30\n",
      "\u001b[1m200/200\u001b[0m \u001b[32m━━━━━━━━━━━━━━━━━━━━\u001b[0m\u001b[37m\u001b[0m \u001b[1m13s\u001b[0m 66ms/step - accuracy: 0.2878 - loss: 1.8223 - val_accuracy: 0.3262 - val_loss: 1.7359\n",
      "Epoch 3/30\n",
      "\u001b[1m200/200\u001b[0m \u001b[32m━━━━━━━━━━━━━━━━━━━━\u001b[0m\u001b[37m\u001b[0m \u001b[1m13s\u001b[0m 65ms/step - accuracy: 0.3057 - loss: 1.8101 - val_accuracy: 0.3963 - val_loss: 1.5781\n",
      "Epoch 4/30\n",
      "\u001b[1m200/200\u001b[0m \u001b[32m━━━━━━━━━━━━━━━━━━━━\u001b[0m\u001b[37m\u001b[0m \u001b[1m13s\u001b[0m 66ms/step - accuracy: 0.3670 - loss: 1.6419 - val_accuracy: 0.4750 - val_loss: 1.3817\n",
      "Epoch 5/30\n",
      "\u001b[1m200/200\u001b[0m \u001b[32m━━━━━━━━━━━━━━━━━━━━\u001b[0m\u001b[37m\u001b[0m \u001b[1m13s\u001b[0m 66ms/step - accuracy: 0.4484 - loss: 1.4432 - val_accuracy: 0.4888 - val_loss: 1.3370\n",
      "Epoch 6/30\n",
      "\u001b[1m200/200\u001b[0m \u001b[32m━━━━━━━━━━━━━━━━━━━━\u001b[0m\u001b[37m\u001b[0m \u001b[1m13s\u001b[0m 66ms/step - accuracy: 0.5452 - loss: 1.2377 - val_accuracy: 0.5838 - val_loss: 1.1543\n",
      "Epoch 7/30\n",
      "\u001b[1m200/200\u001b[0m \u001b[32m━━━━━━━━━━━━━━━━━━━━\u001b[0m\u001b[37m\u001b[0m \u001b[1m13s\u001b[0m 65ms/step - accuracy: 0.6026 - loss: 1.1132 - val_accuracy: 0.6413 - val_loss: 1.0009\n",
      "Epoch 8/30\n",
      "\u001b[1m200/200\u001b[0m \u001b[32m━━━━━━━━━━━━━━━━━━━━\u001b[0m\u001b[37m\u001b[0m \u001b[1m13s\u001b[0m 66ms/step - accuracy: 0.6048 - loss: 1.0809 - val_accuracy: 0.5650 - val_loss: 1.1953\n",
      "Epoch 9/30\n",
      "\u001b[1m200/200\u001b[0m \u001b[32m━━━━━━━━━━━━━━━━━━━━\u001b[0m\u001b[37m\u001b[0m \u001b[1m13s\u001b[0m 64ms/step - accuracy: 0.5684 - loss: 1.1951 - val_accuracy: 0.6288 - val_loss: 0.9861\n",
      "Epoch 10/30\n",
      "\u001b[1m200/200\u001b[0m \u001b[32m━━━━━━━━━━━━━━━━━━━━\u001b[0m\u001b[37m\u001b[0m \u001b[1m13s\u001b[0m 65ms/step - accuracy: 0.6354 - loss: 1.0131 - val_accuracy: 0.6775 - val_loss: 0.8702\n",
      "Epoch 11/30\n",
      "\u001b[1m200/200\u001b[0m \u001b[32m━━━━━━━━━━━━━━━━━━━━\u001b[0m\u001b[37m\u001b[0m \u001b[1m13s\u001b[0m 65ms/step - accuracy: 0.6726 - loss: 0.8916 - val_accuracy: 0.7063 - val_loss: 0.8248\n",
      "Epoch 12/30\n",
      "\u001b[1m200/200\u001b[0m \u001b[32m━━━━━━━━━━━━━━━━━━━━\u001b[0m\u001b[37m\u001b[0m \u001b[1m13s\u001b[0m 64ms/step - accuracy: 0.6938 - loss: 0.8212 - val_accuracy: 0.6988 - val_loss: 0.8698\n",
      "Epoch 13/30\n",
      "\u001b[1m200/200\u001b[0m \u001b[32m━━━━━━━━━━━━━━━━━━━━\u001b[0m\u001b[37m\u001b[0m \u001b[1m13s\u001b[0m 62ms/step - accuracy: 0.7231 - loss: 0.7634 - val_accuracy: 0.7525 - val_loss: 0.6978\n",
      "Epoch 14/30\n",
      "\u001b[1m200/200\u001b[0m \u001b[32m━━━━━━━━━━━━━━━━━━━━\u001b[0m\u001b[37m\u001b[0m \u001b[1m13s\u001b[0m 62ms/step - accuracy: 0.7430 - loss: 0.7026 - val_accuracy: 0.7738 - val_loss: 0.6257\n",
      "Epoch 15/30\n",
      "\u001b[1m200/200\u001b[0m \u001b[32m━━━━━━━━━━━━━━━━━━━━\u001b[0m\u001b[37m\u001b[0m \u001b[1m13s\u001b[0m 63ms/step - accuracy: 0.7682 - loss: 0.6502 - val_accuracy: 0.7750 - val_loss: 0.6398\n",
      "Epoch 16/30\n",
      "\u001b[1m200/200\u001b[0m \u001b[32m━━━━━━━━━━━━━━━━━━━━\u001b[0m\u001b[37m\u001b[0m \u001b[1m13s\u001b[0m 63ms/step - accuracy: 0.7935 - loss: 0.5769 - val_accuracy: 0.7663 - val_loss: 0.6457\n",
      "Epoch 17/30\n",
      "\u001b[1m200/200\u001b[0m \u001b[32m━━━━━━━━━━━━━━━━━━━━\u001b[0m\u001b[37m\u001b[0m \u001b[1m14s\u001b[0m 69ms/step - accuracy: 0.8075 - loss: 0.5502 - val_accuracy: 0.7900 - val_loss: 0.6208\n",
      "Epoch 18/30\n",
      "\u001b[1m200/200\u001b[0m \u001b[32m━━━━━━━━━━━━━━━━━━━━\u001b[0m\u001b[37m\u001b[0m \u001b[1m13s\u001b[0m 64ms/step - accuracy: 0.8125 - loss: 0.5484 - val_accuracy: 0.8175 - val_loss: 0.5672\n",
      "Epoch 19/30\n",
      "\u001b[1m200/200\u001b[0m \u001b[32m━━━━━━━━━━━━━━━━━━━━\u001b[0m\u001b[37m\u001b[0m \u001b[1m13s\u001b[0m 63ms/step - accuracy: 0.8393 - loss: 0.4832 - val_accuracy: 0.8200 - val_loss: 0.5215\n",
      "Epoch 20/30\n",
      "\u001b[1m200/200\u001b[0m \u001b[32m━━━━━━━━━━━━━━━━━━━━\u001b[0m\u001b[37m\u001b[0m \u001b[1m13s\u001b[0m 65ms/step - accuracy: 0.8672 - loss: 0.3992 - val_accuracy: 0.8213 - val_loss: 0.5352\n",
      "Epoch 21/30\n",
      "\u001b[1m200/200\u001b[0m \u001b[32m━━━━━━━━━━━━━━━━━━━━\u001b[0m\u001b[37m\u001b[0m \u001b[1m13s\u001b[0m 65ms/step - accuracy: 0.8639 - loss: 0.4166 - val_accuracy: 0.8425 - val_loss: 0.4544\n",
      "Epoch 22/30\n",
      "\u001b[1m200/200\u001b[0m \u001b[32m━━━━━━━━━━━━━━━━━━━━\u001b[0m\u001b[37m\u001b[0m \u001b[1m13s\u001b[0m 64ms/step - accuracy: 0.8818 - loss: 0.3429 - val_accuracy: 0.8500 - val_loss: 0.4534\n",
      "Epoch 23/30\n",
      "\u001b[1m200/200\u001b[0m \u001b[32m━━━━━━━━━━━━━━━━━━━━\u001b[0m\u001b[37m\u001b[0m \u001b[1m13s\u001b[0m 64ms/step - accuracy: 0.8944 - loss: 0.3166 - val_accuracy: 0.8525 - val_loss: 0.4300\n",
      "Epoch 24/30\n",
      "\u001b[1m200/200\u001b[0m \u001b[32m━━━━━━━━━━━━━━━━━━━━\u001b[0m\u001b[37m\u001b[0m \u001b[1m13s\u001b[0m 64ms/step - accuracy: 0.8943 - loss: 0.3153 - val_accuracy: 0.8637 - val_loss: 0.4268\n",
      "Epoch 25/30\n",
      "\u001b[1m200/200\u001b[0m \u001b[32m━━━━━━━━━━━━━━━━━━━━\u001b[0m\u001b[37m\u001b[0m \u001b[1m13s\u001b[0m 62ms/step - accuracy: 0.9066 - loss: 0.2686 - val_accuracy: 0.8687 - val_loss: 0.4282\n",
      "Epoch 26/30\n",
      "\u001b[1m200/200\u001b[0m \u001b[32m━━━━━━━━━━━━━━━━━━━━\u001b[0m\u001b[37m\u001b[0m \u001b[1m13s\u001b[0m 63ms/step - accuracy: 0.9125 - loss: 0.2528 - val_accuracy: 0.8600 - val_loss: 0.4859\n",
      "Epoch 27/30\n",
      "\u001b[1m200/200\u001b[0m \u001b[32m━━━━━━━━━━━━━━━━━━━━\u001b[0m\u001b[37m\u001b[0m \u001b[1m13s\u001b[0m 64ms/step - accuracy: 0.9069 - loss: 0.2677 - val_accuracy: 0.8763 - val_loss: 0.4113\n",
      "Epoch 28/30\n",
      "\u001b[1m200/200\u001b[0m \u001b[32m━━━━━━━━━━━━━━━━━━━━\u001b[0m\u001b[37m\u001b[0m \u001b[1m13s\u001b[0m 66ms/step - accuracy: 0.9163 - loss: 0.2363 - val_accuracy: 0.8662 - val_loss: 0.4207\n",
      "Epoch 29/30\n",
      "\u001b[1m200/200\u001b[0m \u001b[32m━━━━━━━━━━━━━━━━━━━━\u001b[0m\u001b[37m\u001b[0m \u001b[1m13s\u001b[0m 65ms/step - accuracy: 0.9092 - loss: 0.2507 - val_accuracy: 0.8825 - val_loss: 0.3908\n",
      "Epoch 30/30\n",
      "\u001b[1m200/200\u001b[0m \u001b[32m━━━━━━━━━━━━━━━━━━━━\u001b[0m\u001b[37m\u001b[0m \u001b[1m13s\u001b[0m 64ms/step - accuracy: 0.9247 - loss: 0.2182 - val_accuracy: 0.8700 - val_loss: 0.4561\n"
     ]
    }
   ],
   "source": [
    "sound_m_history = sound_model.fit(train_ds_spec, validation_data=val_ds_spec, callbacks=[tb_callback], epochs=30)"
   ]
  },
  {
   "cell_type": "code",
   "execution_count": null,
   "id": "b8f6dab1-150e-4d49-9016-08da838baa10",
   "metadata": {},
   "outputs": [],
   "source": []
  },
  {
   "cell_type": "code",
   "execution_count": null,
   "id": "501edb85-7b6e-4148-99a6-39c532174120",
   "metadata": {},
   "outputs": [],
   "source": []
  },
  {
   "cell_type": "code",
   "execution_count": null,
   "id": "b831358e-ab15-41db-9c60-df7ab506a43f",
   "metadata": {},
   "outputs": [],
   "source": []
  },
  {
   "cell_type": "code",
   "execution_count": null,
   "id": "d822cda0-de18-4ace-9873-3cd90794c4f2",
   "metadata": {},
   "outputs": [],
   "source": []
  },
  {
   "cell_type": "code",
   "execution_count": null,
   "id": "4da274eb-5f4f-400d-b87f-2a24da9527ed",
   "metadata": {},
   "outputs": [],
   "source": []
  },
  {
   "cell_type": "code",
   "execution_count": null,
   "id": "62b6abcd-e5ce-431b-8785-7eb8157ec1ad",
   "metadata": {},
   "outputs": [],
   "source": []
  },
  {
   "cell_type": "code",
   "execution_count": null,
   "id": "62c9c842-b9ab-4b1e-8c79-824cd30058e2",
   "metadata": {},
   "outputs": [],
   "source": []
  },
  {
   "cell_type": "code",
   "execution_count": null,
   "id": "247cda5a-8898-4d18-9a02-79e216409ae6",
   "metadata": {},
   "outputs": [],
   "source": []
  }
 ],
 "metadata": {
  "kernelspec": {
   "display_name": "Python 3 (ipykernel)",
   "language": "python",
   "name": "python3"
  },
  "language_info": {
   "codemirror_mode": {
    "name": "ipython",
    "version": 3
   },
   "file_extension": ".py",
   "mimetype": "text/x-python",
   "name": "python",
   "nbconvert_exporter": "python",
   "pygments_lexer": "ipython3",
   "version": "3.9.19"
  }
 },
 "nbformat": 4,
 "nbformat_minor": 5
}
