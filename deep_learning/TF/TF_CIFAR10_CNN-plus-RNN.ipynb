{
 "cells": [
  {
   "cell_type": "markdown",
   "id": "f444b3e9-dfd8-4fbe-b402-9cadd5f8fdf5",
   "metadata": {},
   "source": [
    "<h1>CNN-RNN Model</h1>"
   ]
  },
  {
   "cell_type": "code",
   "execution_count": null,
   "id": "be544ffd-edb9-47fc-8ba6-9e664349490e",
   "metadata": {},
   "outputs": [],
   "source": []
  },
  {
   "cell_type": "code",
   "execution_count": null,
   "id": "4cb775f5-a29d-4bc8-adf6-dfdbc01a6070",
   "metadata": {},
   "outputs": [],
   "source": []
  },
  {
   "cell_type": "code",
   "execution_count": null,
   "id": "e084e0ae-1217-467a-9052-56a805913b67",
   "metadata": {},
   "outputs": [],
   "source": []
  },
  {
   "cell_type": "code",
   "execution_count": null,
   "id": "9900d671-6053-4bb7-8bb2-ff806ed2faad",
   "metadata": {},
   "outputs": [],
   "source": []
  },
  {
   "cell_type": "code",
   "execution_count": null,
   "id": "abaec885-5cc2-42ca-8865-2e70a2b48f8b",
   "metadata": {},
   "outputs": [],
   "source": []
  },
  {
   "cell_type": "code",
   "execution_count": null,
   "id": "cabd6e05-3803-4118-899a-310209d15d3c",
   "metadata": {},
   "outputs": [],
   "source": []
  },
  {
   "cell_type": "code",
   "execution_count": null,
   "id": "9c4a691d-007a-4a26-81ab-2ba0cb0790b1",
   "metadata": {},
   "outputs": [],
   "source": []
  }
 ],
 "metadata": {
  "kernelspec": {
   "display_name": "Python 3 (ipykernel)",
   "language": "python",
   "name": "python3"
  },
  "language_info": {
   "codemirror_mode": {
    "name": "ipython",
    "version": 3
   },
   "file_extension": ".py",
   "mimetype": "text/x-python",
   "name": "python",
   "nbconvert_exporter": "python",
   "pygments_lexer": "ipython3",
   "version": "3.9.19"
  }
 },
 "nbformat": 4,
 "nbformat_minor": 5
}
