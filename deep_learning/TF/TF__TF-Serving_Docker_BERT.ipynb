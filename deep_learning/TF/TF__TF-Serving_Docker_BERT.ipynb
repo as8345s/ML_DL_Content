{
 "cells": [
  {
   "cell_type": "markdown",
   "id": "a80c8256-57d3-4c73-814b-82e1768712b4",
   "metadata": {},
   "source": [
    "<h1> TF-Serving: BERT</h1>"
   ]
  },
  {
   "cell_type": "markdown",
   "id": "f08d8a57-2568-4e5c-8d72-59cea74c4be6",
   "metadata": {},
   "source": [
    "Mit TF-Serving kann problemlos ein Server erstellt und konfiguriert werden, der das Model mit Anfragen beliefert und als Rückgabe Predictions ausgibt.\n",
    "\n",
    "Anders als bei Flask und Fast-API, bietet TF-Serving Features, die den Umgang vereinfachen.\n",
    "- Es können Batch-Predictions ausgeführt werden.\n",
    "- Timeouts können eingestellt werden.\n",
    "- Verschiedene Versionen (management von versionen) und Konfigurationen.\n",
    "- Durch Docker einfaches Monitoring, einfaches Starten und Stoppen des Servers. Container kann beliebig konfiguriert und erweitert werden.\n",
    "- Zuweisung von Ressourcen.\n",
    "- ..."
   ]
  },
  {
   "cell_type": "markdown",
   "id": "92eafd7f-ce72-46f9-ab9f-bd9d23ad257b",
   "metadata": {},
   "source": [
    "Weitere inhaltliche Details sind auf der Tensorflow Seite zu finden.\n",
    "> https://www.tensorflow.org/tfx/serving/docker [Letzter Zugriff: 21.06.2024]"
   ]
  },
  {
   "cell_type": "markdown",
   "id": "b37a3933-5a61-4a81-9322-546583c7a32b",
   "metadata": {},
   "source": []
  },
  {
   "cell_type": "code",
   "execution_count": null,
   "id": "4da94e10-68af-434a-bbf3-bca021449321",
   "metadata": {},
   "outputs": [],
   "source": []
  },
  {
   "cell_type": "code",
   "execution_count": null,
   "id": "2d8a6ca5-5bb3-4d42-8334-90df1a92bb46",
   "metadata": {},
   "outputs": [],
   "source": []
  },
  {
   "cell_type": "code",
   "execution_count": null,
   "id": "fd6287ee-cb84-466c-90ef-e891ff37b0b5",
   "metadata": {},
   "outputs": [],
   "source": []
  },
  {
   "cell_type": "markdown",
   "id": "447080bc-486f-4aff-8303-25f10062cea2",
   "metadata": {},
   "source": [
    "<h2>Basis Set-Up</h2>"
   ]
  },
  {
   "cell_type": "markdown",
   "id": "026b3711-212a-4996-9da0-51129c5f5d7c",
   "metadata": {},
   "source": []
  },
  {
   "cell_type": "markdown",
   "id": "5b3d846d-4952-426d-881a-e6396323c758",
   "metadata": {},
   "source": []
  },
  {
   "cell_type": "code",
   "execution_count": null,
   "id": "d79a988b-2f9c-43b6-88d5-05bffb91bd1b",
   "metadata": {},
   "outputs": [],
   "source": []
  },
  {
   "cell_type": "code",
   "execution_count": null,
   "id": "7b6bcfda-0dcc-4bd5-9d98-675b607a32bb",
   "metadata": {},
   "outputs": [],
   "source": []
  },
  {
   "cell_type": "code",
   "execution_count": null,
   "id": "38ae7ffd-36ae-440d-ac37-1279428f1bba",
   "metadata": {},
   "outputs": [],
   "source": []
  }
 ],
 "metadata": {
  "kernelspec": {
   "display_name": "Python 3 (ipykernel)",
   "language": "python",
   "name": "python3"
  },
  "language_info": {
   "codemirror_mode": {
    "name": "ipython",
    "version": 3
   },
   "file_extension": ".py",
   "mimetype": "text/x-python",
   "name": "python",
   "nbconvert_exporter": "python",
   "pygments_lexer": "ipython3",
   "version": "3.9.19"
  }
 },
 "nbformat": 4,
 "nbformat_minor": 5
}
