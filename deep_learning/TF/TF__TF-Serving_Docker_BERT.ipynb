{
 "cells": [
  {
   "cell_type": "markdown",
   "id": "a80c8256-57d3-4c73-814b-82e1768712b4",
   "metadata": {},
   "source": [
    "<h1> TF-Serving: BERT</h1>\n",
    "- Windows mit WLS2 -"
   ]
  },
  {
   "cell_type": "markdown",
   "id": "f08d8a57-2568-4e5c-8d72-59cea74c4be6",
   "metadata": {},
   "source": [
    "Mit TF-Serving kann problemlos ein Server erstellt und konfiguriert werden, der das Model mit Anfragen beliefert und als Rückgabe Predictions ausgibt.\n",
    "\n",
    "Anders als bei Flask und Fast-API, bietet TF-Serving Features, die den Umgang vereinfachen.\n",
    "- Es können Batch-Predictions ausgeführt werden.\n",
    "- Timeouts können eingestellt werden.\n",
    "- Verschiedene Versionen (management von versionen) und Konfigurationen.\n",
    "- Durch Docker einfaches Monitoring, einfaches Starten und Stoppen des Servers. Container kann beliebig konfiguriert und erweitert werden.\n",
    "- Zuweisung von Ressourcen.\n",
    "- ...\n",
    "\n",
    "Auch andere Arten von Modellen können verwendet werden."
   ]
  },
  {
   "cell_type": "markdown",
   "id": "92eafd7f-ce72-46f9-ab9f-bd9d23ad257b",
   "metadata": {},
   "source": [
    "Weitere inhaltliche Details sind auf der Tensorflow Seite zu finden.\n",
    "> https://www.tensorflow.org/tfx/serving/docker [Letzter Zugriff: 21.06.2024] <br>\n",
    "> https://www.tensorflow.org/tfx/serving/architecture [Letzter Zugriff: 21.06.2024] <br>\n",
    "> https://www.tensorflow.org/tfx/serving/serving_config [Letzter Zugriff: 21.06.2024]"
   ]
  },
  {
   "cell_type": "markdown",
   "id": "b37a3933-5a61-4a81-9322-546583c7a32b",
   "metadata": {},
   "source": [
    "<i>Abb1</i>: Überblick TF-Serving\n",
    "\n",
    "\n",
    "<img src=\"./data/img/tf_serving_1.PNG\" width=600 hight=500 > "
   ]
  },
  {
   "cell_type": "markdown",
   "id": "4ce34b9e-f3ec-4851-9ac2-d40c148339b6",
   "metadata": {},
   "source": [
    "Für das Model nehmen wir das Trainierte BERT Model für die Klassifizierung von Filmbewertungen."
   ]
  },
  {
   "cell_type": "markdown",
   "id": "447080bc-486f-4aff-8303-25f10062cea2",
   "metadata": {},
   "source": [
    "<h2>Basis Set-Up</h2>"
   ]
  },
  {
   "cell_type": "markdown",
   "id": "bebbaaa0-d723-4244-88fa-73d5b55413ee",
   "metadata": {},
   "source": [
    "Als Erstes wird das Model gespeichert, hier wird es in einem Windowsverzeichnis abgelegt. \n",
    "\n",
    "Model Version 1 wird in dem Verzeichnis mit dem Namen 1 abgelegt."
   ]
  },
  {
   "cell_type": "markdown",
   "id": "ed45a8fe-3560-4626-921c-2db34da763af",
   "metadata": {},
   "source": [
    "Unter Windows: <br>\n",
    "`model.save('C:/.../tf_serving/movie_review/1', include_optimizer=False)`"
   ]
  },
  {
   "cell_type": "markdown",
   "id": "a3801318-1dc7-4607-bebe-89574589471d",
   "metadata": {},
   "source": [
    "Unter WLS: <br>\n",
    "Dann wird der TF-Serving Container heruntergeladen, wie auf der Webseite beschrieben.:<br>\n",
    "`# Download the TensorFlow Serving Docker image and repo ` <br>\n",
    "`docker pull tensorflow/serving`"
   ]
  },
  {
   "cell_type": "markdown",
   "id": "c3f15490-8c09-42fe-9423-12b7840d054b",
   "metadata": {},
   "source": [
    "Danach sollte der Container sichtbar sein.\n",
    "\n",
    "Mit dem Befehl `docker images` werden alle Container gelistet."
   ]
  },
  {
   "cell_type": "markdown",
   "id": "8203c455-4381-45e6-936e-4c63b52164dd",
   "metadata": {},
   "source": [
    "<i>Abb2</i>: Liste Container in Docker\n",
    "\n",
    "\n",
    "<img src=\"./data/img/tf_serving_2.PNG\" width=600 hight=500 > "
   ]
  },
  {
   "cell_type": "markdown",
   "id": "026b3711-212a-4996-9da0-51129c5f5d7c",
   "metadata": {},
   "source": [
    "Der Container beinhaltet alles was nötig ist, um TF-Serving zu nutze.<br>\n",
    "Der Container kann, wenn nötig, weiter modifiziert werden.\n",
    "\n",
    "Für den `docker run` Befehl gibt es zahlreiche Parameter, die genutzt werden können."
   ]
  },
  {
   "cell_type": "markdown",
   "id": "4da66d5e-3830-46d8-b93b-3e142aaf6d25",
   "metadata": {},
   "source": [
    "<b>Starte den Container:</b>"
   ]
  },
  {
   "cell_type": "raw",
   "id": "2e3154c2-86df-41d4-a006-94e84830b24c",
   "metadata": {},
   "source": [
    "docker run -it -p 8501:8501 \\\n",
    "    --entrypoint /bin/bash  \\\n",
    "    -v /mnt/c/.../tf_serving:/tf_serving \\\n",
    "    -e MODEL_NAME=movie_review \\\n",
    "    tensorflow/serving"
   ]
  },
  {
   "cell_type": "markdown",
   "id": "2c52e7f5-ee8c-4b76-a716-32765943dbc6",
   "metadata": {},
   "source": [
    "<b>--entrypoint</b>: Einstieg in die Konsole des Containers. Hier können wir dann manuell den Server starten. <br>\n",
    "<b>-v /mnt/c/.../tf_serving:/tf_serving</b>: Mit `/mnt` kann auf die Datenträger zugegriffen werden z. B. C, von dort aus kann das Workspace mitgegeben werden. <br>\n",
    "Dabei ist das Verzeichnis tf_serving:  `.../tf_serving/movie_review/1/<-saved_model->`\n",
    "\n",
    "Der Name des Models wird auch mitgegeben. "
   ]
  },
  {
   "cell_type": "markdown",
   "id": "e77e2574-b8a8-4c5f-a43c-ef2301b8c3e5",
   "metadata": {},
   "source": [
    "Wenn der Container läuft, können weitere Befehle gegeben werden. <br>\n",
    "Um TF-Serving zu startet, wird ein bestimmter Befehl ausgeführt:"
   ]
  },
  {
   "cell_type": "raw",
   "id": "6afda4e1-6adf-49d6-b052-0f4e5bc7bba3",
   "metadata": {},
   "source": [
    "tensorflow_model_server --port=8500 --rest_api_port=8501  \\\n",
    "--model_name=${MODEL_NAME} --model_base_path=/tf_serving/${MODEL_NAME}"
   ]
  },
  {
   "cell_type": "markdown",
   "id": "5b3d846d-4952-426d-881a-e6396323c758",
   "metadata": {},
   "source": [
    "<b>--model_base_path</b>: Der Pfad zum Modelverzeichnis, wo sich die verschiedenen Versionen befinden.\n",
    "\n",
    "Danach sollte der Server starten. Die Abbildung 3 zeigt die Ausgabe in der Konsole (im Docker Container)"
   ]
  },
  {
   "cell_type": "markdown",
   "id": "bd31c738-6483-423c-a540-380fa3db4392",
   "metadata": {},
   "source": [
    "<i>Abb3</i>: TF-Serving gestartet.\n",
    "\n",
    "\n",
    "<img src=\"./data/img/tf_serving_3.PNG\" width=700 hight=400 > "
   ]
  },
  {
   "cell_type": "markdown",
   "id": "09553390-8379-489f-bde0-dc9a4a25b6d4",
   "metadata": {},
   "source": [
    "<h2>Abfrage mit Curl</h2>"
   ]
  },
  {
   "cell_type": "markdown",
   "id": "5868d3f4-7e97-49ec-b394-aa0d41805f85",
   "metadata": {},
   "source": [
    "Um es zu testen, kann eine zweite Konsole geöffnet werden, um eine Request zu senden. \n",
    "\n",
    "`curl -d '{\"instances\": [\"The movie was not good, it was bad\"]}'  -X POST http://localhost:8501/v1/models/movie_review:predict`\n",
    "\n",
    "Dabei soll `\"The movie was not good, it was bad\"` als negatives Review klassifiziert werden."
   ]
  },
  {
   "cell_type": "markdown",
   "id": "10cbf0cf-4a5b-4c0b-bab5-71e6bb644e40",
   "metadata": {},
   "source": [
    "<i>Abb4</i>: Antwort des Servers.\n",
    "\n",
    "\n",
    "<img src=\"./data/img/tf_serving_4.PNG\" width=500 hight=200 > "
   ]
  },
  {
   "cell_type": "markdown",
   "id": "273d1d4d-1051-49ff-ab20-3437e9bfa7e3",
   "metadata": {},
   "source": [
    "Diese Antwort bedeutet, dass dieses Review negativ war."
   ]
  },
  {
   "cell_type": "markdown",
   "id": "b1c51495-0825-43b6-a650-d39565ecbcf7",
   "metadata": {},
   "source": [
    "<h2>Abfrage mit Json</h2>"
   ]
  },
  {
   "cell_type": "markdown",
   "id": "01410779-28e0-44eb-9f5b-b6daf1895004",
   "metadata": {},
   "source": [
    "Im Alltag würde man nicht die Konsole für die Abfragen nutzen. \n",
    "- Ist aber gut, um schnell kleine Testabfragen durchzuführen. "
   ]
  },
  {
   "cell_type": "markdown",
   "id": "ea351bae-6b0c-40f3-9bed-7576fb88b899",
   "metadata": {},
   "source": [
    "In Anwendung z. B. unter Streamlit, würde man diese Abfrage in einer Funktion unterbringen, wo ggf. noch Einstellungen vorgenommen werden."
   ]
  },
  {
   "cell_type": "code",
   "execution_count": 1,
   "id": "bd1a3292-a202-4579-9f25-549f1bccf2aa",
   "metadata": {},
   "outputs": [],
   "source": [
    "import json\n",
    "import requests\n",
    "model_name:str= \"movie_review\"\n",
    "url = f'http://localhost:8501/v1/models/{model_name}:predict'"
   ]
  },
  {
   "cell_type": "code",
   "execution_count": 2,
   "id": "8b901ae4-2ac5-44f5-9662-437ddc74fdda",
   "metadata": {},
   "outputs": [],
   "source": [
    "# Funktion für die Abfrage.\n",
    "def make_prediction(instances:list):\n",
    "   data = json.dumps({\"signature_name\": \"serving_default\", \"instances\": instances})\n",
    "   headers = {\"content-type\": \"application/json\"}\n",
    "   json_response = requests.post(url, data=data, headers=headers)\n",
    "   predictions = json.loads(json_response.text)['predictions']\n",
    "   return predictions"
   ]
  },
  {
   "cell_type": "markdown",
   "id": "e1b84d99-0916-4b91-b115-2cc6fe7a781a",
   "metadata": {},
   "source": [
    "<u>Hinweis</u>:<br>\n",
    "Das Model hat ein Layer, der das Vorverarbeiten der Texte übernimmt. <br>\n",
    "Sonst könnte man den Text nicht einfach so als Request schicken."
   ]
  },
  {
   "cell_type": "code",
   "execution_count": 7,
   "id": "5fe96f37-5ddf-407f-a9fc-77fab5b09595",
   "metadata": {},
   "outputs": [],
   "source": [
    "# Beispielhafte Reviews. \n",
    "# - 1 Positives und negatives Review. \n",
    "reviews=[\n",
    "    \"This movie was really good, I loved the part where the hero saved the world, I recommend you all to watch it!!!!!\",   \n",
    "    \"Bruh, this movie was trash, I don't understand why poeple liked it. Boring story and the effects were cheesy. To make it short, boring, trash,  24/7 movie, medicore. Not gonna watch this again xd\"                                 \n",
    "]"
   ]
  },
  {
   "cell_type": "code",
   "execution_count": 8,
   "id": "cfb56f78-77ab-4dfc-9ad3-76b7c0fb3196",
   "metadata": {},
   "outputs": [
    {
     "data": {
      "text/plain": [
       "[[0.748233378], [0.313450456]]"
      ]
     },
     "execution_count": 8,
     "metadata": {},
     "output_type": "execute_result"
    }
   ],
   "source": [
    "# Stelle Anfrage. \n",
    "make_prediction(reviews)"
   ]
  },
  {
   "cell_type": "markdown",
   "id": "af10662b-43b9-4934-afd7-7134322439cf",
   "metadata": {},
   "source": [
    "<h1>Model Versionen und Konfigurationsdatei</h1>"
   ]
  },
  {
   "cell_type": "markdown",
   "id": "65191746-8229-4a50-86f1-f9a62a16127b",
   "metadata": {},
   "source": [
    "Um es übersichtlich und verständlich zu halten, wird das Model in dem Verzeichnis einfach zweimal kopiert- jetzt haben wir drei „verschiedene“ Versionen eines Models.\n",
    "\n",
    "`C:/.../tf_serving/my_models/movie_review/1`<br>\n",
    "`C:/.../tf_serving/my_models/movie_review/2`<br>\n",
    "`C:/.../tf_serving/my_models/movie_review/3`<br>\n",
    "\n",
    "und: <br>\n",
    "\n",
    "`C:/.../tf_serving/my_models/movie_review_2/1`<br>\n",
    "`C:/.../tf_serving/my_models/movie_review_2/2`<br>\n",
    "`C:/.../tf_serving/my_models/movie_review_2/3`<br>"
   ]
  },
  {
   "cell_type": "markdown",
   "id": "837af2bc-4d47-4973-a5de-4058f693ee69",
   "metadata": {},
   "source": [
    "<h2>Wähle alle Versionen</h2>"
   ]
  },
  {
   "cell_type": "markdown",
   "id": "7b3f39a1-5ac4-4dfb-a659-ef710632c0f8",
   "metadata": {},
   "source": [
    "Jetzt legen wir eine Konfigurationsdatei an im Verzeichnis `tf_serving/`\n",
    "\n",
    "Als erstes: <br>\n",
    "Wir nutzen nur das Model <b>movie_review</b> mit allen Versionen.\n",
    "- Achte dabei auf die richtige Angabe der Pfade."
   ]
  },
  {
   "cell_type": "raw",
   "id": "00f62376-0c7e-4bbc-a16c-3b6081913082",
   "metadata": {},
   "source": [
    "### Datei model_config.a ### \n",
    "\n",
    "model_config_list {\n",
    "  config {\n",
    "    name: 'movie_review'\n",
    "    base_path: '/tf_serving/my_models/movie_review'\n",
    "    model_platform: 'tensorflow'\n",
    "\t\n",
    "\tmodel_version_policy {all: {} }     \n",
    "  }\n",
    "}"
   ]
  },
  {
   "cell_type": "markdown",
   "id": "ccc6bcdd-fecd-4972-96e3-94026a05a652",
   "metadata": {},
   "source": [
    "<b>--model_config_file_poll_wait_seconds</b>: Schaue alle n-Sekunden nach, ob sich die Konfigurationsdatei geändert hat. <br>\n",
    "<b>--model_config_file=</b>: Gebe den Pfad der Datei an, hier: `/tf_serving/model_config.a`"
   ]
  },
  {
   "cell_type": "markdown",
   "id": "6d6cb49f-58ec-474c-a4e6-78c8eadcc7a3",
   "metadata": {},
   "source": [
    "Docker Container Starten: <br>\n",
    "`tensorflow_model_server --port=8500 --rest_api_port=8501 --model_config_file_poll_wait_seconds=10 --model_config_file=/tf_serving/model_config.a`"
   ]
  },
  {
   "cell_type": "markdown",
   "id": "01d72eef-8885-4c24-a303-358c3ff1d2ea",
   "metadata": {},
   "source": [
    "<i>Abb5</i>: Auszug der Konsolenausgabe: alle drei Modelle geladen.\n",
    "\n",
    "\n",
    "<img src=\"./data/img/tf_serving_5.PNG\" width=800 hight=500 > "
   ]
  },
  {
   "cell_type": "markdown",
   "id": "7420e65a-4631-48f9-8e92-5af07b5e2b25",
   "metadata": {},
   "source": [
    "<h2>Wähle bestimme Versionen eines Models</h2>"
   ]
  },
  {
   "cell_type": "markdown",
   "id": "fcaca5b7-bc7c-4877-88a1-fecc94260243",
   "metadata": {},
   "source": [
    "Bei der Angabe verschiedener Versionen sieht die Datei so aus: "
   ]
  },
  {
   "cell_type": "raw",
   "id": "4e4a6193-0e15-40ac-95d6-8c13dbc15e43",
   "metadata": {},
   "source": [
    "### Datei model_config.a ### \n",
    "\n",
    "model_config_list {\n",
    "  config {\n",
    "    name: 'movie_review'\n",
    "    base_path: '/tf_serving/my_models/movie_review'\n",
    "    model_platform: 'tensorflow'\n",
    "\t\n",
    "\tmodel_version_policy {  # Spezifische Versionen. \n",
    "       specific {\n",
    "          versions: 2 \n",
    "\t\t  versions: 3\n",
    "         }\n",
    "    }\n",
    "    version_labels {  # Gebe Version und Label an. \n",
    "       key: 'stable'\n",
    "       value: 2\n",
    "    }\n",
    "    version_labels {\n",
    "       key: 'not_stable'\n",
    "       value: 3\n",
    "    }\n",
    "   }\t \n",
    "}"
   ]
  },
  {
   "cell_type": "markdown",
   "id": "d7d86ed7-3b4c-44dc-a2f4-d4051a136854",
   "metadata": {},
   "source": [
    "Docker Container Starten: <br>\n",
    "`tensorflow_model_server --port=8500 --rest_api_port=8501 --model_config_file_poll_wait_seconds=60 --model_config_file=/tf_serving/model_config.a --allow_version_labels_for_unavailable_models=True`\n",
    "\n",
    "<u>Hinweis</u>: <br>\n",
    "Hier muss der Parameter `--allow_version_labels_for_unavailable_models=True` mitgegeben werden. <br>\n",
    "Labels können nur bei geladenen Modellen angebracht werden. <br>\n",
    "Am Ende werden die spezifischen Modelle geladen und mit einem Label versehen. \n",
    "\n",
    "Siehe: https://www.tensorflow.org/tfx/serving/serving_config [Letzter Zugriff: 21.06.2024]"
   ]
  },
  {
   "cell_type": "markdown",
   "id": "7fe58172-022d-473e-89a4-a65c57e08395",
   "metadata": {},
   "source": [
    "<h2>Zwei Modelle mit verschiedenen Versionen</h2>"
   ]
  },
  {
   "cell_type": "markdown",
   "id": "13f97ccb-6c61-49b4-acc5-1cc63389872a",
   "metadata": {},
   "source": [
    "Mit der Angabe eines zweiten Models und deren Versionen sieht das ganze dann so aus:"
   ]
  },
  {
   "cell_type": "raw",
   "id": "8750185a-1a73-4b36-8d9b-1b63ce934ec2",
   "metadata": {},
   "source": [
    "### Datei model_config.a ### \n",
    "\n",
    "model_config_list {\n",
    "  #- Model 1 -#\n",
    "  config {\n",
    "    name: 'movie_review'\n",
    "    base_path: '/tf_serving/my_models/movie_review'\n",
    "    model_platform: 'tensorflow'\n",
    "\tmodel_version_policy {\n",
    "\t\tspecific{\n",
    "\t\t\tversions: 1\n",
    "\t\t\tversions: 3\n",
    "\t\t}\n",
    "\t}\n",
    "\tversion_labels{\n",
    "\t\tkey: 'stable'\n",
    "\t\tvalue: 1\n",
    "\t}\n",
    "\t\n",
    "\tversion_labels{\n",
    "\t\tkey: 'not_stable'\n",
    "\t\tvalue: 3\n",
    "\t}\n",
    "        \n",
    "   }\t\n",
    "    #- Model 2 -#\n",
    "   config {\n",
    "     name: 'movie_review_2'\n",
    "     base_path: '/tf_serving/my_models/movie_review_2'\n",
    "     model_platform: 'tensorflow'\n",
    "\t model_version_policy {\n",
    "\t\t specific{\n",
    "\t\t\t versions: 2\n",
    "\t\t}\n",
    "\t}\n",
    "\t version_labels{\n",
    "\t\t key: 'stable'\n",
    "\t\t value: 2\n",
    "\t}\n",
    " \n",
    "   }   \n",
    "}"
   ]
  },
  {
   "cell_type": "markdown",
   "id": "e7543d6f-7eb9-4962-a61a-59ce0389de9d",
   "metadata": {},
   "source": [
    "Docker Container Starten: <br>\n",
    "`tensorflow_model_server --port=8500 --rest_api_port=8501 --model_config_file_poll_wait_seconds=60 --model_config_file=/tf_serving/model_config.a --allow_version_labels_for_unavailable_models=True`\n"
   ]
  },
  {
   "cell_type": "code",
   "execution_count": null,
   "id": "0443c503-afd5-4bd8-83e7-9ac11a28fb37",
   "metadata": {},
   "outputs": [],
   "source": []
  },
  {
   "cell_type": "code",
   "execution_count": null,
   "id": "8ff0c1a6-581a-4c78-baa4-563214857e72",
   "metadata": {},
   "outputs": [],
   "source": []
  },
  {
   "cell_type": "code",
   "execution_count": null,
   "id": "4bf8f65e-97de-40cd-b96c-2ae9ad6b4962",
   "metadata": {},
   "outputs": [],
   "source": []
  },
  {
   "cell_type": "code",
   "execution_count": null,
   "id": "c694ebcb-34b0-499f-9146-e234c6d21182",
   "metadata": {},
   "outputs": [],
   "source": []
  },
  {
   "cell_type": "code",
   "execution_count": null,
   "id": "7b6bcfda-0dcc-4bd5-9d98-675b607a32bb",
   "metadata": {},
   "outputs": [],
   "source": []
  },
  {
   "cell_type": "code",
   "execution_count": null,
   "id": "38ae7ffd-36ae-440d-ac37-1279428f1bba",
   "metadata": {},
   "outputs": [],
   "source": []
  }
 ],
 "metadata": {
  "kernelspec": {
   "display_name": "Python 3 (ipykernel)",
   "language": "python",
   "name": "python3"
  },
  "language_info": {
   "codemirror_mode": {
    "name": "ipython",
    "version": 3
   },
   "file_extension": ".py",
   "mimetype": "text/x-python",
   "name": "python",
   "nbconvert_exporter": "python",
   "pygments_lexer": "ipython3",
   "version": "3.9.19"
  }
 },
 "nbformat": 4,
 "nbformat_minor": 5
}
