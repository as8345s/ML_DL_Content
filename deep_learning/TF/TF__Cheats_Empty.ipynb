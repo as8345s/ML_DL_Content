{
 "cells": [
  {
   "cell_type": "markdown",
   "id": "f181cca5-76e2-44db-a679-b1b4ad41a997",
   "metadata": {},
   "source": [
    "Während meiner Bachelorarbeit habe ich einige Cheats gesammelt, die das Arbeiten mit verschiedenen Frameworks erleichtert.\n",
    "\n",
    "Dieses Notebook wird später und stückweise Updates bekommen."
   ]
  },
  {
   "cell_type": "code",
   "execution_count": null,
   "id": "274b86c0-1432-4caa-8bdc-a63cc1829175",
   "metadata": {},
   "outputs": [],
   "source": []
  },
  {
   "cell_type": "code",
   "execution_count": null,
   "id": "65c6053b-1311-4b0c-88e4-071fb5acb40d",
   "metadata": {},
   "outputs": [],
   "source": [
    "# // Content Coming"
   ]
  },
  {
   "cell_type": "code",
   "execution_count": null,
   "id": "01cabdd9-84d5-488b-967b-0ccf139dcb53",
   "metadata": {},
   "outputs": [],
   "source": []
  },
  {
   "cell_type": "code",
   "execution_count": null,
   "id": "5823f740-57e3-4f16-88bd-7c461a16e82b",
   "metadata": {},
   "outputs": [],
   "source": []
  },
  {
   "cell_type": "code",
   "execution_count": null,
   "id": "3c89aa61-3f64-4433-bde9-4031f9a904e2",
   "metadata": {},
   "outputs": [],
   "source": [
    "tf.keras.layers"
   ]
  },
  {
   "cell_type": "code",
   "execution_count": null,
   "id": "f9428579-f558-4b19-9aaa-ca5d1151b1f7",
   "metadata": {},
   "outputs": [],
   "source": [
    "# TF Random\n",
    "# TF Tensor and Array"
   ]
  },
  {
   "cell_type": "code",
   "execution_count": null,
   "id": "6ad3c60b-679b-4d41-9f9d-959edb03e0df",
   "metadata": {},
   "outputs": [],
   "source": []
  }
 ],
 "metadata": {
  "kernelspec": {
   "display_name": "Python 3 (ipykernel)",
   "language": "python",
   "name": "python3"
  },
  "language_info": {
   "codemirror_mode": {
    "name": "ipython",
    "version": 3
   },
   "file_extension": ".py",
   "mimetype": "text/x-python",
   "name": "python",
   "nbconvert_exporter": "python",
   "pygments_lexer": "ipython3",
   "version": "3.9.19"
  }
 },
 "nbformat": 4,
 "nbformat_minor": 5
}
