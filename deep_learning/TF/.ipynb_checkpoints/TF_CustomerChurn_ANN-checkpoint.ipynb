{
 "cells": [
  {
   "cell_type": "markdown",
   "id": "be2e4f4e-75de-44bf-a542-9ea7561b1e04",
   "metadata": {},
   "source": [
    "<h3>Customer Churn - Wieso gehen Kunden weg? - ANN </h3>"
   ]
  },
  {
   "cell_type": "markdown",
   "id": "c5a1a42e-5106-4d26-a272-fe0146a469ed",
   "metadata": {},
   "source": [
    "In diesem Abschnitt geht es darum, mit einem ANN herauszufinden, ob Kunden bei bestimmten Bedingungen gehen oder bleiben.\n",
    "\n",
    "Für das Training wird ein ANN eingesetzt."
   ]
  },
  {
   "cell_type": "markdown",
   "id": "21b36dcf-9d0e-4930-b524-abe677c098a4",
   "metadata": {},
   "source": [
    ">\n",
    ">Dataset:  https://www.kaggle.com/datasets/blastchar/telco-customer-churn [Letzter Zugriff: 14.06.2024]\n",
    ">\n",
    ">Telco Customer Churn - Focused customer retention programs\n",
    ">\n",
    ">Siehe auch: https://community.ibm.com/community/user/businessanalytics/blogs/steven-macko/2019/07/11/telco-customer-churn-1113 [Letzter Zugriff: 14.06.2024]"
   ]
  },
  {
   "cell_type": "code",
   "execution_count": 200,
   "id": "f5d74a97-99ab-40b5-9a68-d54bc82d25d1",
   "metadata": {},
   "outputs": [],
   "source": [
    "# Imports.\n",
    "import tensorflow as tf\n",
    "import pandas     as pd\n",
    "import numpy      as np\n",
    "import seaborn    as sn\n",
    "\n",
    "import matplotlib.pyplot as plt\n",
    "\n",
    "from sklearn.preprocessing   import MinMaxScaler\n",
    "from sklearn.model_selection import train_test_split"
   ]
  },
  {
   "cell_type": "code",
   "execution_count": 153,
   "id": "0efabf4a-c9c4-44e3-90af-7a3193492244",
   "metadata": {},
   "outputs": [
    {
     "data": {
      "text/html": [
       "<div>\n",
       "<style scoped>\n",
       "    .dataframe tbody tr th:only-of-type {\n",
       "        vertical-align: middle;\n",
       "    }\n",
       "\n",
       "    .dataframe tbody tr th {\n",
       "        vertical-align: top;\n",
       "    }\n",
       "\n",
       "    .dataframe thead th {\n",
       "        text-align: right;\n",
       "    }\n",
       "</style>\n",
       "<table border=\"1\" class=\"dataframe\">\n",
       "  <thead>\n",
       "    <tr style=\"text-align: right;\">\n",
       "      <th></th>\n",
       "      <th>customerID</th>\n",
       "      <th>gender</th>\n",
       "      <th>SeniorCitizen</th>\n",
       "      <th>Partner</th>\n",
       "      <th>Dependents</th>\n",
       "      <th>tenure</th>\n",
       "      <th>PhoneService</th>\n",
       "      <th>MultipleLines</th>\n",
       "      <th>InternetService</th>\n",
       "      <th>OnlineSecurity</th>\n",
       "      <th>...</th>\n",
       "      <th>DeviceProtection</th>\n",
       "      <th>TechSupport</th>\n",
       "      <th>StreamingTV</th>\n",
       "      <th>StreamingMovies</th>\n",
       "      <th>Contract</th>\n",
       "      <th>PaperlessBilling</th>\n",
       "      <th>PaymentMethod</th>\n",
       "      <th>MonthlyCharges</th>\n",
       "      <th>TotalCharges</th>\n",
       "      <th>Churn</th>\n",
       "    </tr>\n",
       "  </thead>\n",
       "  <tbody>\n",
       "    <tr>\n",
       "      <th>0</th>\n",
       "      <td>7590-VHVEG</td>\n",
       "      <td>Female</td>\n",
       "      <td>0</td>\n",
       "      <td>Yes</td>\n",
       "      <td>No</td>\n",
       "      <td>1</td>\n",
       "      <td>No</td>\n",
       "      <td>No phone service</td>\n",
       "      <td>DSL</td>\n",
       "      <td>No</td>\n",
       "      <td>...</td>\n",
       "      <td>No</td>\n",
       "      <td>No</td>\n",
       "      <td>No</td>\n",
       "      <td>No</td>\n",
       "      <td>Month-to-month</td>\n",
       "      <td>Yes</td>\n",
       "      <td>Electronic check</td>\n",
       "      <td>29.85</td>\n",
       "      <td>29.85</td>\n",
       "      <td>No</td>\n",
       "    </tr>\n",
       "    <tr>\n",
       "      <th>1</th>\n",
       "      <td>5575-GNVDE</td>\n",
       "      <td>Male</td>\n",
       "      <td>0</td>\n",
       "      <td>No</td>\n",
       "      <td>No</td>\n",
       "      <td>34</td>\n",
       "      <td>Yes</td>\n",
       "      <td>No</td>\n",
       "      <td>DSL</td>\n",
       "      <td>Yes</td>\n",
       "      <td>...</td>\n",
       "      <td>Yes</td>\n",
       "      <td>No</td>\n",
       "      <td>No</td>\n",
       "      <td>No</td>\n",
       "      <td>One year</td>\n",
       "      <td>No</td>\n",
       "      <td>Mailed check</td>\n",
       "      <td>56.95</td>\n",
       "      <td>1889.5</td>\n",
       "      <td>No</td>\n",
       "    </tr>\n",
       "    <tr>\n",
       "      <th>2</th>\n",
       "      <td>3668-QPYBK</td>\n",
       "      <td>Male</td>\n",
       "      <td>0</td>\n",
       "      <td>No</td>\n",
       "      <td>No</td>\n",
       "      <td>2</td>\n",
       "      <td>Yes</td>\n",
       "      <td>No</td>\n",
       "      <td>DSL</td>\n",
       "      <td>Yes</td>\n",
       "      <td>...</td>\n",
       "      <td>No</td>\n",
       "      <td>No</td>\n",
       "      <td>No</td>\n",
       "      <td>No</td>\n",
       "      <td>Month-to-month</td>\n",
       "      <td>Yes</td>\n",
       "      <td>Mailed check</td>\n",
       "      <td>53.85</td>\n",
       "      <td>108.15</td>\n",
       "      <td>Yes</td>\n",
       "    </tr>\n",
       "  </tbody>\n",
       "</table>\n",
       "<p>3 rows × 21 columns</p>\n",
       "</div>"
      ],
      "text/plain": [
       "   customerID  gender  SeniorCitizen Partner Dependents  tenure PhoneService  \\\n",
       "0  7590-VHVEG  Female              0     Yes         No       1           No   \n",
       "1  5575-GNVDE    Male              0      No         No      34          Yes   \n",
       "2  3668-QPYBK    Male              0      No         No       2          Yes   \n",
       "\n",
       "      MultipleLines InternetService OnlineSecurity  ... DeviceProtection  \\\n",
       "0  No phone service             DSL             No  ...               No   \n",
       "1                No             DSL            Yes  ...              Yes   \n",
       "2                No             DSL            Yes  ...               No   \n",
       "\n",
       "  TechSupport StreamingTV StreamingMovies        Contract PaperlessBilling  \\\n",
       "0          No          No              No  Month-to-month              Yes   \n",
       "1          No          No              No        One year               No   \n",
       "2          No          No              No  Month-to-month              Yes   \n",
       "\n",
       "      PaymentMethod MonthlyCharges  TotalCharges Churn  \n",
       "0  Electronic check          29.85         29.85    No  \n",
       "1      Mailed check          56.95        1889.5    No  \n",
       "2      Mailed check          53.85        108.15   Yes  \n",
       "\n",
       "[3 rows x 21 columns]"
      ]
     },
     "execution_count": 153,
     "metadata": {},
     "output_type": "execute_result"
    }
   ],
   "source": [
    "churn_df = pd.read_csv('./data/datasets/telcoc_customer_churn.zip', compression='zip')\n",
    "churn_df.head(3)"
   ]
  },
  {
   "cell_type": "code",
   "execution_count": 154,
   "id": "caee86a1-8e24-4364-9f18-8d4f95913cdf",
   "metadata": {},
   "outputs": [
    {
     "data": {
      "text/plain": [
       "(7043, 21)"
      ]
     },
     "execution_count": 154,
     "metadata": {},
     "output_type": "execute_result"
    }
   ],
   "source": [
    "churn_df.shape"
   ]
  },
  {
   "cell_type": "markdown",
   "id": "d590fad7-5a99-44cd-bd54-61f383a7c8b5",
   "metadata": {},
   "source": [
    "Data Exploration und Feature Engineering.:\n",
    "\n",
    "Das Dataset hat 21 Features, die vielleicht nicht alle gleich wichtig sind.\n",
    "\n",
    "Die Features haben numerische und kategorische Werte. Features, die kategorische Werten haben, können mit On-Hot-Enocde oder Label-Enocder behandelt werden. \n",
    "\n",
    "Bei Features mit numerischen Werten können wir Outliers finden und eliminieren."
   ]
  },
  {
   "cell_type": "code",
   "execution_count": 155,
   "id": "89073268-ee41-47c5-be6a-a2ed57fbfa2f",
   "metadata": {},
   "outputs": [
    {
     "data": {
      "text/plain": [
       "Index(['customerID', 'gender', 'SeniorCitizen', 'Partner', 'Dependents',\n",
       "       'tenure', 'PhoneService', 'MultipleLines', 'InternetService',\n",
       "       'OnlineSecurity', 'OnlineBackup', 'DeviceProtection', 'TechSupport',\n",
       "       'StreamingTV', 'StreamingMovies', 'Contract', 'PaperlessBilling',\n",
       "       'PaymentMethod', 'MonthlyCharges', 'TotalCharges', 'Churn'],\n",
       "      dtype='object')"
      ]
     },
     "execution_count": 155,
     "metadata": {},
     "output_type": "execute_result"
    }
   ],
   "source": [
    "# Zeige Spalten an.\n",
    "churn_df.columns"
   ]
  },
  {
   "cell_type": "code",
   "execution_count": 156,
   "id": "4fb0bfcf-c17c-4f85-b9a0-1733e98790cc",
   "metadata": {},
   "outputs": [
    {
     "data": {
      "text/plain": [
       "customerID           object\n",
       "gender               object\n",
       "SeniorCitizen         int64\n",
       "Partner              object\n",
       "Dependents           object\n",
       "tenure                int64\n",
       "PhoneService         object\n",
       "MultipleLines        object\n",
       "InternetService      object\n",
       "OnlineSecurity       object\n",
       "OnlineBackup         object\n",
       "DeviceProtection     object\n",
       "TechSupport          object\n",
       "StreamingTV          object\n",
       "StreamingMovies      object\n",
       "Contract             object\n",
       "PaperlessBilling     object\n",
       "PaymentMethod        object\n",
       "MonthlyCharges      float64\n",
       "TotalCharges         object\n",
       "Churn                object\n",
       "dtype: object"
      ]
     },
     "execution_count": 156,
     "metadata": {},
     "output_type": "execute_result"
    }
   ],
   "source": [
    "# Zeige Datentypen an.\n",
    "churn_df.dtypes"
   ]
  },
  {
   "cell_type": "markdown",
   "id": "5ecc19d0-e35b-4762-aca8-40466d0b721d",
   "metadata": {},
   "source": [
    "Nach dem Betrachten der Features kann festgestellt werden, dass die Spalte mit der KundenID uns keinen wichtigen Informationen liefert, diese können wir löschen.\n",
    "\n",
    "Zudem ist zu sehen, das numerische Werte als Objekte angegeben sind."
   ]
  },
  {
   "cell_type": "code",
   "execution_count": 157,
   "id": "37fbe3f1-5360-4276-aaa2-f55e02430528",
   "metadata": {},
   "outputs": [],
   "source": [
    "dataset = churn_df.drop(['customerID'], axis=\"columns\")"
   ]
  },
  {
   "cell_type": "code",
   "execution_count": 158,
   "id": "96ac07e9-73f2-4b0e-930c-3bc1aa02fe00",
   "metadata": {},
   "outputs": [
    {
     "data": {
      "text/plain": [
       "array([0, 0, 0, ..., 0, 1, 0], dtype=int64)"
      ]
     },
     "execution_count": 158,
     "metadata": {},
     "output_type": "execute_result"
    }
   ],
   "source": [
    "# Mit .values können sich Werte angeschaut werden => wirklich als int/float hinterlegt? \n",
    "# - Features, die numerisch sein sollten, können durch den Namen identifiziert werden\n",
    "dataset.SeniorCitizen.values"
   ]
  },
  {
   "cell_type": "code",
   "execution_count": 159,
   "id": "4e9f22fd-4ae5-4194-93f7-a6aac4e67436",
   "metadata": {},
   "outputs": [
    {
     "data": {
      "text/plain": [
       "array(['29.85', '1889.5', '108.15', ..., '346.45', '306.6', '6844.5'],\n",
       "      dtype=object)"
      ]
     },
     "execution_count": 159,
     "metadata": {},
     "output_type": "execute_result"
    }
   ],
   "source": [
    "# Hört sich nach einer Zahl an, ist als String hinterlegt.\n",
    "dataset.TotalCharges.values"
   ]
  },
  {
   "cell_type": "code",
   "execution_count": 160,
   "id": "6c20a691-15d1-4079-82a0-a99c7f7fff47",
   "metadata": {},
   "outputs": [
    {
     "data": {
      "text/plain": [
       "6.0"
      ]
     },
     "execution_count": 160,
     "metadata": {},
     "output_type": "execute_result"
    }
   ],
   "source": [
    "float(\" 6 \")"
   ]
  },
  {
   "cell_type": "code",
   "execution_count": 161,
   "id": "d63fa9e4-18d3-4f0f-8a46-f499dd5489b2",
   "metadata": {},
   "outputs": [],
   "source": [
    "# Nutze Lambda und .apply.:\n",
    "# - Problem:\n",
    "#    - Es gibt Werte die nicht als Float gecastet werden können.\n",
    "#dataset['TotalCharges'].apply(lambda x: float(x))"
   ]
  },
  {
   "cell_type": "code",
   "execution_count": 162,
   "id": "44b325b0-5417-423c-8f27-b0e743e28427",
   "metadata": {},
   "outputs": [
    {
     "data": {
      "text/plain": [
       "0         29.85\n",
       "1       1889.50\n",
       "2        108.15\n",
       "3       1840.75\n",
       "4        151.65\n",
       "         ...   \n",
       "7038    1990.50\n",
       "7039    7362.90\n",
       "7040     346.45\n",
       "7041     306.60\n",
       "7042    6844.50\n",
       "Name: TotalCharges, Length: 7043, dtype: float64"
      ]
     },
     "execution_count": 162,
     "metadata": {},
     "output_type": "execute_result"
    }
   ],
   "source": [
    "# Alternativ können wir das nutzen.: \n",
    "# - Siehe: https://pandas.pydata.org/docs/reference/api/pandas.to_numeric.html\n",
    "# - Werte bei den es Scheitert, werden mit NaN ersetzt => später füllen. \n",
    "#  - errors='coerce' => NaN \n",
    "pd.to_numeric(dataset['TotalCharges'], errors='coerce')"
   ]
  },
  {
   "cell_type": "markdown",
   "id": "497f63ce-abfa-4fa4-8d7b-d6da67026a54",
   "metadata": {},
   "source": [
    "Damit kann auch noch mehr.:"
   ]
  },
  {
   "cell_type": "code",
   "execution_count": 163,
   "id": "4c51477c-dd41-4ff0-9618-0278b9dd2f84",
   "metadata": {},
   "outputs": [
    {
     "data": {
      "text/html": [
       "<div>\n",
       "<style scoped>\n",
       "    .dataframe tbody tr th:only-of-type {\n",
       "        vertical-align: middle;\n",
       "    }\n",
       "\n",
       "    .dataframe tbody tr th {\n",
       "        vertical-align: top;\n",
       "    }\n",
       "\n",
       "    .dataframe thead th {\n",
       "        text-align: right;\n",
       "    }\n",
       "</style>\n",
       "<table border=\"1\" class=\"dataframe\">\n",
       "  <thead>\n",
       "    <tr style=\"text-align: right;\">\n",
       "      <th></th>\n",
       "      <th>gender</th>\n",
       "      <th>SeniorCitizen</th>\n",
       "      <th>Partner</th>\n",
       "      <th>Dependents</th>\n",
       "      <th>tenure</th>\n",
       "      <th>PhoneService</th>\n",
       "      <th>MultipleLines</th>\n",
       "      <th>InternetService</th>\n",
       "      <th>OnlineSecurity</th>\n",
       "      <th>OnlineBackup</th>\n",
       "      <th>DeviceProtection</th>\n",
       "      <th>TechSupport</th>\n",
       "      <th>StreamingTV</th>\n",
       "      <th>StreamingMovies</th>\n",
       "      <th>Contract</th>\n",
       "      <th>PaperlessBilling</th>\n",
       "      <th>PaymentMethod</th>\n",
       "      <th>MonthlyCharges</th>\n",
       "      <th>TotalCharges</th>\n",
       "      <th>Churn</th>\n",
       "    </tr>\n",
       "  </thead>\n",
       "  <tbody>\n",
       "    <tr>\n",
       "      <th>488</th>\n",
       "      <td>Female</td>\n",
       "      <td>0</td>\n",
       "      <td>Yes</td>\n",
       "      <td>Yes</td>\n",
       "      <td>0</td>\n",
       "      <td>No</td>\n",
       "      <td>No phone service</td>\n",
       "      <td>DSL</td>\n",
       "      <td>Yes</td>\n",
       "      <td>No</td>\n",
       "      <td>Yes</td>\n",
       "      <td>Yes</td>\n",
       "      <td>Yes</td>\n",
       "      <td>No</td>\n",
       "      <td>Two year</td>\n",
       "      <td>Yes</td>\n",
       "      <td>Bank transfer (automatic)</td>\n",
       "      <td>52.55</td>\n",
       "      <td></td>\n",
       "      <td>No</td>\n",
       "    </tr>\n",
       "    <tr>\n",
       "      <th>753</th>\n",
       "      <td>Male</td>\n",
       "      <td>0</td>\n",
       "      <td>No</td>\n",
       "      <td>Yes</td>\n",
       "      <td>0</td>\n",
       "      <td>Yes</td>\n",
       "      <td>No</td>\n",
       "      <td>No</td>\n",
       "      <td>No internet service</td>\n",
       "      <td>No internet service</td>\n",
       "      <td>No internet service</td>\n",
       "      <td>No internet service</td>\n",
       "      <td>No internet service</td>\n",
       "      <td>No internet service</td>\n",
       "      <td>Two year</td>\n",
       "      <td>No</td>\n",
       "      <td>Mailed check</td>\n",
       "      <td>20.25</td>\n",
       "      <td></td>\n",
       "      <td>No</td>\n",
       "    </tr>\n",
       "    <tr>\n",
       "      <th>936</th>\n",
       "      <td>Female</td>\n",
       "      <td>0</td>\n",
       "      <td>Yes</td>\n",
       "      <td>Yes</td>\n",
       "      <td>0</td>\n",
       "      <td>Yes</td>\n",
       "      <td>No</td>\n",
       "      <td>DSL</td>\n",
       "      <td>Yes</td>\n",
       "      <td>Yes</td>\n",
       "      <td>Yes</td>\n",
       "      <td>No</td>\n",
       "      <td>Yes</td>\n",
       "      <td>Yes</td>\n",
       "      <td>Two year</td>\n",
       "      <td>No</td>\n",
       "      <td>Mailed check</td>\n",
       "      <td>80.85</td>\n",
       "      <td></td>\n",
       "      <td>No</td>\n",
       "    </tr>\n",
       "    <tr>\n",
       "      <th>1082</th>\n",
       "      <td>Male</td>\n",
       "      <td>0</td>\n",
       "      <td>Yes</td>\n",
       "      <td>Yes</td>\n",
       "      <td>0</td>\n",
       "      <td>Yes</td>\n",
       "      <td>Yes</td>\n",
       "      <td>No</td>\n",
       "      <td>No internet service</td>\n",
       "      <td>No internet service</td>\n",
       "      <td>No internet service</td>\n",
       "      <td>No internet service</td>\n",
       "      <td>No internet service</td>\n",
       "      <td>No internet service</td>\n",
       "      <td>Two year</td>\n",
       "      <td>No</td>\n",
       "      <td>Mailed check</td>\n",
       "      <td>25.75</td>\n",
       "      <td></td>\n",
       "      <td>No</td>\n",
       "    </tr>\n",
       "    <tr>\n",
       "      <th>1340</th>\n",
       "      <td>Female</td>\n",
       "      <td>0</td>\n",
       "      <td>Yes</td>\n",
       "      <td>Yes</td>\n",
       "      <td>0</td>\n",
       "      <td>No</td>\n",
       "      <td>No phone service</td>\n",
       "      <td>DSL</td>\n",
       "      <td>Yes</td>\n",
       "      <td>Yes</td>\n",
       "      <td>Yes</td>\n",
       "      <td>Yes</td>\n",
       "      <td>Yes</td>\n",
       "      <td>No</td>\n",
       "      <td>Two year</td>\n",
       "      <td>No</td>\n",
       "      <td>Credit card (automatic)</td>\n",
       "      <td>56.05</td>\n",
       "      <td></td>\n",
       "      <td>No</td>\n",
       "    </tr>\n",
       "    <tr>\n",
       "      <th>3331</th>\n",
       "      <td>Male</td>\n",
       "      <td>0</td>\n",
       "      <td>Yes</td>\n",
       "      <td>Yes</td>\n",
       "      <td>0</td>\n",
       "      <td>Yes</td>\n",
       "      <td>No</td>\n",
       "      <td>No</td>\n",
       "      <td>No internet service</td>\n",
       "      <td>No internet service</td>\n",
       "      <td>No internet service</td>\n",
       "      <td>No internet service</td>\n",
       "      <td>No internet service</td>\n",
       "      <td>No internet service</td>\n",
       "      <td>Two year</td>\n",
       "      <td>No</td>\n",
       "      <td>Mailed check</td>\n",
       "      <td>19.85</td>\n",
       "      <td></td>\n",
       "      <td>No</td>\n",
       "    </tr>\n",
       "    <tr>\n",
       "      <th>3826</th>\n",
       "      <td>Male</td>\n",
       "      <td>0</td>\n",
       "      <td>Yes</td>\n",
       "      <td>Yes</td>\n",
       "      <td>0</td>\n",
       "      <td>Yes</td>\n",
       "      <td>Yes</td>\n",
       "      <td>No</td>\n",
       "      <td>No internet service</td>\n",
       "      <td>No internet service</td>\n",
       "      <td>No internet service</td>\n",
       "      <td>No internet service</td>\n",
       "      <td>No internet service</td>\n",
       "      <td>No internet service</td>\n",
       "      <td>Two year</td>\n",
       "      <td>No</td>\n",
       "      <td>Mailed check</td>\n",
       "      <td>25.35</td>\n",
       "      <td></td>\n",
       "      <td>No</td>\n",
       "    </tr>\n",
       "    <tr>\n",
       "      <th>4380</th>\n",
       "      <td>Female</td>\n",
       "      <td>0</td>\n",
       "      <td>Yes</td>\n",
       "      <td>Yes</td>\n",
       "      <td>0</td>\n",
       "      <td>Yes</td>\n",
       "      <td>No</td>\n",
       "      <td>No</td>\n",
       "      <td>No internet service</td>\n",
       "      <td>No internet service</td>\n",
       "      <td>No internet service</td>\n",
       "      <td>No internet service</td>\n",
       "      <td>No internet service</td>\n",
       "      <td>No internet service</td>\n",
       "      <td>Two year</td>\n",
       "      <td>No</td>\n",
       "      <td>Mailed check</td>\n",
       "      <td>20.00</td>\n",
       "      <td></td>\n",
       "      <td>No</td>\n",
       "    </tr>\n",
       "    <tr>\n",
       "      <th>5218</th>\n",
       "      <td>Male</td>\n",
       "      <td>0</td>\n",
       "      <td>Yes</td>\n",
       "      <td>Yes</td>\n",
       "      <td>0</td>\n",
       "      <td>Yes</td>\n",
       "      <td>No</td>\n",
       "      <td>No</td>\n",
       "      <td>No internet service</td>\n",
       "      <td>No internet service</td>\n",
       "      <td>No internet service</td>\n",
       "      <td>No internet service</td>\n",
       "      <td>No internet service</td>\n",
       "      <td>No internet service</td>\n",
       "      <td>One year</td>\n",
       "      <td>Yes</td>\n",
       "      <td>Mailed check</td>\n",
       "      <td>19.70</td>\n",
       "      <td></td>\n",
       "      <td>No</td>\n",
       "    </tr>\n",
       "    <tr>\n",
       "      <th>6670</th>\n",
       "      <td>Female</td>\n",
       "      <td>0</td>\n",
       "      <td>Yes</td>\n",
       "      <td>Yes</td>\n",
       "      <td>0</td>\n",
       "      <td>Yes</td>\n",
       "      <td>Yes</td>\n",
       "      <td>DSL</td>\n",
       "      <td>No</td>\n",
       "      <td>Yes</td>\n",
       "      <td>Yes</td>\n",
       "      <td>Yes</td>\n",
       "      <td>Yes</td>\n",
       "      <td>No</td>\n",
       "      <td>Two year</td>\n",
       "      <td>No</td>\n",
       "      <td>Mailed check</td>\n",
       "      <td>73.35</td>\n",
       "      <td></td>\n",
       "      <td>No</td>\n",
       "    </tr>\n",
       "    <tr>\n",
       "      <th>6754</th>\n",
       "      <td>Male</td>\n",
       "      <td>0</td>\n",
       "      <td>No</td>\n",
       "      <td>Yes</td>\n",
       "      <td>0</td>\n",
       "      <td>Yes</td>\n",
       "      <td>Yes</td>\n",
       "      <td>DSL</td>\n",
       "      <td>Yes</td>\n",
       "      <td>Yes</td>\n",
       "      <td>No</td>\n",
       "      <td>Yes</td>\n",
       "      <td>No</td>\n",
       "      <td>No</td>\n",
       "      <td>Two year</td>\n",
       "      <td>Yes</td>\n",
       "      <td>Bank transfer (automatic)</td>\n",
       "      <td>61.90</td>\n",
       "      <td></td>\n",
       "      <td>No</td>\n",
       "    </tr>\n",
       "  </tbody>\n",
       "</table>\n",
       "</div>"
      ],
      "text/plain": [
       "      gender  SeniorCitizen Partner Dependents  tenure PhoneService  \\\n",
       "488   Female              0     Yes        Yes       0           No   \n",
       "753     Male              0      No        Yes       0          Yes   \n",
       "936   Female              0     Yes        Yes       0          Yes   \n",
       "1082    Male              0     Yes        Yes       0          Yes   \n",
       "1340  Female              0     Yes        Yes       0           No   \n",
       "3331    Male              0     Yes        Yes       0          Yes   \n",
       "3826    Male              0     Yes        Yes       0          Yes   \n",
       "4380  Female              0     Yes        Yes       0          Yes   \n",
       "5218    Male              0     Yes        Yes       0          Yes   \n",
       "6670  Female              0     Yes        Yes       0          Yes   \n",
       "6754    Male              0      No        Yes       0          Yes   \n",
       "\n",
       "         MultipleLines InternetService       OnlineSecurity  \\\n",
       "488   No phone service             DSL                  Yes   \n",
       "753                 No              No  No internet service   \n",
       "936                 No             DSL                  Yes   \n",
       "1082               Yes              No  No internet service   \n",
       "1340  No phone service             DSL                  Yes   \n",
       "3331                No              No  No internet service   \n",
       "3826               Yes              No  No internet service   \n",
       "4380                No              No  No internet service   \n",
       "5218                No              No  No internet service   \n",
       "6670               Yes             DSL                   No   \n",
       "6754               Yes             DSL                  Yes   \n",
       "\n",
       "             OnlineBackup     DeviceProtection          TechSupport  \\\n",
       "488                    No                  Yes                  Yes   \n",
       "753   No internet service  No internet service  No internet service   \n",
       "936                   Yes                  Yes                   No   \n",
       "1082  No internet service  No internet service  No internet service   \n",
       "1340                  Yes                  Yes                  Yes   \n",
       "3331  No internet service  No internet service  No internet service   \n",
       "3826  No internet service  No internet service  No internet service   \n",
       "4380  No internet service  No internet service  No internet service   \n",
       "5218  No internet service  No internet service  No internet service   \n",
       "6670                  Yes                  Yes                  Yes   \n",
       "6754                  Yes                   No                  Yes   \n",
       "\n",
       "              StreamingTV      StreamingMovies  Contract PaperlessBilling  \\\n",
       "488                   Yes                   No  Two year              Yes   \n",
       "753   No internet service  No internet service  Two year               No   \n",
       "936                   Yes                  Yes  Two year               No   \n",
       "1082  No internet service  No internet service  Two year               No   \n",
       "1340                  Yes                   No  Two year               No   \n",
       "3331  No internet service  No internet service  Two year               No   \n",
       "3826  No internet service  No internet service  Two year               No   \n",
       "4380  No internet service  No internet service  Two year               No   \n",
       "5218  No internet service  No internet service  One year              Yes   \n",
       "6670                  Yes                   No  Two year               No   \n",
       "6754                   No                   No  Two year              Yes   \n",
       "\n",
       "                  PaymentMethod  MonthlyCharges TotalCharges Churn  \n",
       "488   Bank transfer (automatic)           52.55                 No  \n",
       "753                Mailed check           20.25                 No  \n",
       "936                Mailed check           80.85                 No  \n",
       "1082               Mailed check           25.75                 No  \n",
       "1340    Credit card (automatic)           56.05                 No  \n",
       "3331               Mailed check           19.85                 No  \n",
       "3826               Mailed check           25.35                 No  \n",
       "4380               Mailed check           20.00                 No  \n",
       "5218               Mailed check           19.70                 No  \n",
       "6670               Mailed check           73.35                 No  \n",
       "6754  Bank transfer (automatic)           61.90                 No  "
      ]
     },
     "execution_count": 163,
     "metadata": {},
     "output_type": "execute_result"
    }
   ],
   "source": [
    "dataset[ pd.to_numeric(dataset['TotalCharges'], errors='coerce').isnull() ] \n",
    "# Diese Einträge können wir löschen."
   ]
  },
  {
   "cell_type": "code",
   "execution_count": 164,
   "id": "7600dcef-2dcf-4c14-bb89-2ce4446cfdf2",
   "metadata": {},
   "outputs": [],
   "source": [
    "dataset = dataset[dataset['TotalCharges'] != ' ']"
   ]
  },
  {
   "cell_type": "code",
   "execution_count": 165,
   "id": "ea79fd99-4b67-4502-8c22-f09ea7de1d71",
   "metadata": {},
   "outputs": [
    {
     "data": {
      "text/plain": [
       "(7032, 20)"
      ]
     },
     "execution_count": 165,
     "metadata": {},
     "output_type": "execute_result"
    }
   ],
   "source": [
    "dataset.shape"
   ]
  },
  {
   "cell_type": "markdown",
   "id": "4001c62a-4ae5-4f62-9d2b-fc45ca2e8543",
   "metadata": {},
   "source": [
    "Das Feature TotalCharges kann jetzt problemlos in numerische Werte umgewandelt werden.\n",
    "\n",
    "Felder, die keine Werte oder andere Zeichen enthalten, können auch ersetzt werden."
   ]
  },
  {
   "cell_type": "code",
   "execution_count": 166,
   "id": "34901f1f-4297-4fe7-aad7-84377eac8f6c",
   "metadata": {},
   "outputs": [
    {
     "data": {
      "text/plain": [
       "gender               object\n",
       "SeniorCitizen         int64\n",
       "Partner              object\n",
       "Dependents           object\n",
       "tenure                int64\n",
       "PhoneService         object\n",
       "MultipleLines        object\n",
       "InternetService      object\n",
       "OnlineSecurity       object\n",
       "OnlineBackup         object\n",
       "DeviceProtection     object\n",
       "TechSupport          object\n",
       "StreamingTV          object\n",
       "StreamingMovies      object\n",
       "Contract             object\n",
       "PaperlessBilling     object\n",
       "PaymentMethod        object\n",
       "MonthlyCharges      float64\n",
       "TotalCharges        float64\n",
       "Churn                object\n",
       "dtype: object"
      ]
     },
     "execution_count": 166,
     "metadata": {},
     "output_type": "execute_result"
    }
   ],
   "source": [
    "dataset['TotalCharges'] = pd.to_numeric(dataset['TotalCharges'])\n",
    "dataset.dtypes"
   ]
  },
  {
   "cell_type": "code",
   "execution_count": 167,
   "id": "0a67f7bc-4ac8-42e1-8a93-6337f89a9264",
   "metadata": {},
   "outputs": [
    {
     "data": {
      "text/plain": [
       "<Axes: xlabel='MonthlyCharges'>"
      ]
     },
     "execution_count": 167,
     "metadata": {},
     "output_type": "execute_result"
    },
    {
     "data": {
      "image/png": "[encoded data removed]",
      "text/plain": [
       "<Figure size 640x480 with 1 Axes>"
      ]
     },
     "metadata": {},
     "output_type": "display_data"
    }
   ],
   "source": [
    "# Outlier mit Boxplot feststellen. \n",
    "sn.barplot(data=dataset, x=dataset['MonthlyCharges'])\n"
   ]
  },
  {
   "cell_type": "code",
   "execution_count": 168,
   "id": "379e9945-2acf-46f7-a6dd-522659ceb774",
   "metadata": {},
   "outputs": [
    {
     "data": {
      "text/plain": [
       "<Axes: xlabel='Partner', ylabel='count'>"
      ]
     },
     "execution_count": 168,
     "metadata": {},
     "output_type": "execute_result"
    },
    {
     "data": {
      "image/png": "[encoded data removed]",
      "text/plain": [
       "<Figure size 640x480 with 1 Axes>"
      ]
     },
     "metadata": {},
     "output_type": "display_data"
    }
   ],
   "source": [
    "# Kategorische Features können so gezählt werden:\n",
    "sn.countplot(data=dataset, x=dataset['Partner'])"
   ]
  },
  {
   "cell_type": "code",
   "execution_count": 169,
   "id": "3e4b8158-9709-443e-ae8a-b90586d3f8d5",
   "metadata": {},
   "outputs": [
    {
     "data": {
      "text/plain": [
       "<Axes: title={'center': 'PhoneService gegen Tenure'}, xlabel='Contract', ylabel='tenure'>"
      ]
     },
     "execution_count": 169,
     "metadata": {},
     "output_type": "execute_result"
    },
    {
     "data": {
      "image/png": "[encoded data removed]",
      "text/plain": [
       "<Figure size 640x480 with 1 Axes>"
      ]
     },
     "metadata": {},
     "output_type": "display_data"
    }
   ],
   "source": [
    "# Plot tenure \"wie lange war diese Person dabei\".\n",
    "plt.title(\"PhoneService gegen Tenure\")\n",
    "plt.xlabel(\"Contract\")\n",
    "plt.ylabel('tenure')\n",
    "sn.barplot(data=dataset, x=dataset['Contract'].values, y=dataset['tenure'].values, hue=dataset['Churn'], palette='pastel')\n",
    "# palette='pastel': sieht angenehmer aus- Geschmackssache."
   ]
  },
  {
   "cell_type": "code",
   "execution_count": 170,
   "id": "342f03f5-f63d-4b8c-8a22-f7e70a29e040",
   "metadata": {},
   "outputs": [
    {
     "data": {
      "image/png": "[encoded data removed]",
      "text/plain": [
       "<Figure size 1500x600 with 10 Axes>"
      ]
     },
     "metadata": {},
     "output_type": "display_data"
    }
   ],
   "source": [
    "# Mehrere Plots\n",
    "\n",
    "colums_list = list( dataset.columns )\n",
    "exclude = ['tenure', 'Churn', 'MonthlyCharges', 'TotalCharges', 'SeniorCitizen']\n",
    "\n",
    "#                       y  x\n",
    "fig, axs = plt.subplots(2,5, figsize=(15, 6), )\n",
    "\n",
    "fig.tight_layout(pad=5.0)\n",
    "axs = axs.ravel()\n",
    "\n",
    "for i in exclude:\n",
    "    colums_list.remove(i)\n",
    "\n",
    "for i in range(10): # Ziege einige.\n",
    "    sn.barplot(data=dataset, x=dataset[colums_list[i]].values, y=dataset['tenure'].values, \\\n",
    "               hue=dataset['Churn'], palette='pastel', ax=axs[i])\n",
    "  \n",
    "    axs[i].set_title(colums_list[i])\n",
    "plt.show()"
   ]
  },
  {
   "cell_type": "markdown",
   "id": "ec92a900-55c7-4ea3-9981-b67123ff3aae",
   "metadata": {},
   "source": [
    "Viele weitere Visualisierungen sind möglich. "
   ]
  },
  {
   "cell_type": "code",
   "execution_count": 171,
   "id": "ce9df8c9-9792-4983-a010-2589517e531e",
   "metadata": {},
   "outputs": [
    {
     "data": {
      "text/plain": [
       "<matplotlib.legend.Legend at 0x20a8b5684c0>"
      ]
     },
     "execution_count": 171,
     "metadata": {},
     "output_type": "execute_result"
    },
    {
     "data": {
      "image/png": "[encoded data removed]",
      "text/plain": [
       "<Figure size 640x480 with 1 Axes>"
      ]
     },
     "metadata": {},
     "output_type": "display_data"
    }
   ],
   "source": [
    "# Ein Histogramm liefert uns auch wichtige Informationen.\n",
    "# - Plote Kundenanzahl die gehen und bleiben basierend auf tenure\n",
    "plt.title(\"Tenure Count\")\n",
    "plt.xlabel('tenure')\n",
    "plt.ylabel('Count')\n",
    "plt.hist([ dataset[dataset['Churn']=='Yes'].tenure, dataset[dataset['Churn']=='No'].tenure ], \\\n",
    "        color=['orange', 'green'],  label=['Yes', 'No'])\n",
    "plt.legend()"
   ]
  },
  {
   "cell_type": "markdown",
   "id": "a7f914ea-14da-4b4d-9234-5b9a0036c1d3",
   "metadata": {},
   "source": [
    "Jetzt geht es darum, die kategorischen Werte numerisch zu repräsentieren.\n",
    "\n",
    "Dafür kann On-Hot Encode und Label Encoding eingesetzt werden. <br>\n",
    "Bei Werten wie (yes, no), eignet sich On-Hot Encode gut. "
   ]
  },
  {
   "cell_type": "code",
   "execution_count": 172,
   "id": "b72a1e2b-93bf-425f-a176-717439d0984b",
   "metadata": {},
   "outputs": [
    {
     "data": {
      "text/html": [
       "<div>\n",
       "<style scoped>\n",
       "    .dataframe tbody tr th:only-of-type {\n",
       "        vertical-align: middle;\n",
       "    }\n",
       "\n",
       "    .dataframe tbody tr th {\n",
       "        vertical-align: top;\n",
       "    }\n",
       "\n",
       "    .dataframe thead th {\n",
       "        text-align: right;\n",
       "    }\n",
       "</style>\n",
       "<table border=\"1\" class=\"dataframe\">\n",
       "  <thead>\n",
       "    <tr style=\"text-align: right;\">\n",
       "      <th></th>\n",
       "      <th>gender</th>\n",
       "      <th>SeniorCitizen</th>\n",
       "      <th>Partner</th>\n",
       "      <th>Dependents</th>\n",
       "      <th>tenure</th>\n",
       "      <th>PhoneService</th>\n",
       "      <th>MultipleLines</th>\n",
       "      <th>InternetService</th>\n",
       "      <th>OnlineSecurity</th>\n",
       "      <th>OnlineBackup</th>\n",
       "      <th>DeviceProtection</th>\n",
       "      <th>TechSupport</th>\n",
       "      <th>StreamingTV</th>\n",
       "      <th>StreamingMovies</th>\n",
       "      <th>Contract</th>\n",
       "      <th>PaperlessBilling</th>\n",
       "      <th>PaymentMethod</th>\n",
       "      <th>MonthlyCharges</th>\n",
       "      <th>TotalCharges</th>\n",
       "      <th>Churn</th>\n",
       "    </tr>\n",
       "  </thead>\n",
       "  <tbody>\n",
       "    <tr>\n",
       "      <th>0</th>\n",
       "      <td>Female</td>\n",
       "      <td>0</td>\n",
       "      <td>Yes</td>\n",
       "      <td>No</td>\n",
       "      <td>1</td>\n",
       "      <td>No</td>\n",
       "      <td>No phone service</td>\n",
       "      <td>DSL</td>\n",
       "      <td>No</td>\n",
       "      <td>Yes</td>\n",
       "      <td>No</td>\n",
       "      <td>No</td>\n",
       "      <td>No</td>\n",
       "      <td>No</td>\n",
       "      <td>Month-to-month</td>\n",
       "      <td>Yes</td>\n",
       "      <td>Electronic check</td>\n",
       "      <td>29.85</td>\n",
       "      <td>29.85</td>\n",
       "      <td>No</td>\n",
       "    </tr>\n",
       "    <tr>\n",
       "      <th>1</th>\n",
       "      <td>Male</td>\n",
       "      <td>0</td>\n",
       "      <td>No</td>\n",
       "      <td>No</td>\n",
       "      <td>34</td>\n",
       "      <td>Yes</td>\n",
       "      <td>No</td>\n",
       "      <td>DSL</td>\n",
       "      <td>Yes</td>\n",
       "      <td>No</td>\n",
       "      <td>Yes</td>\n",
       "      <td>No</td>\n",
       "      <td>No</td>\n",
       "      <td>No</td>\n",
       "      <td>One year</td>\n",
       "      <td>No</td>\n",
       "      <td>Mailed check</td>\n",
       "      <td>56.95</td>\n",
       "      <td>1889.50</td>\n",
       "      <td>No</td>\n",
       "    </tr>\n",
       "    <tr>\n",
       "      <th>2</th>\n",
       "      <td>Male</td>\n",
       "      <td>0</td>\n",
       "      <td>No</td>\n",
       "      <td>No</td>\n",
       "      <td>2</td>\n",
       "      <td>Yes</td>\n",
       "      <td>No</td>\n",
       "      <td>DSL</td>\n",
       "      <td>Yes</td>\n",
       "      <td>Yes</td>\n",
       "      <td>No</td>\n",
       "      <td>No</td>\n",
       "      <td>No</td>\n",
       "      <td>No</td>\n",
       "      <td>Month-to-month</td>\n",
       "      <td>Yes</td>\n",
       "      <td>Mailed check</td>\n",
       "      <td>53.85</td>\n",
       "      <td>108.15</td>\n",
       "      <td>Yes</td>\n",
       "    </tr>\n",
       "  </tbody>\n",
       "</table>\n",
       "</div>"
      ],
      "text/plain": [
       "   gender  SeniorCitizen Partner Dependents  tenure PhoneService  \\\n",
       "0  Female              0     Yes         No       1           No   \n",
       "1    Male              0      No         No      34          Yes   \n",
       "2    Male              0      No         No       2          Yes   \n",
       "\n",
       "      MultipleLines InternetService OnlineSecurity OnlineBackup  \\\n",
       "0  No phone service             DSL             No          Yes   \n",
       "1                No             DSL            Yes           No   \n",
       "2                No             DSL            Yes          Yes   \n",
       "\n",
       "  DeviceProtection TechSupport StreamingTV StreamingMovies        Contract  \\\n",
       "0               No          No          No              No  Month-to-month   \n",
       "1              Yes          No          No              No        One year   \n",
       "2               No          No          No              No  Month-to-month   \n",
       "\n",
       "  PaperlessBilling     PaymentMethod  MonthlyCharges  TotalCharges Churn  \n",
       "0              Yes  Electronic check           29.85         29.85    No  \n",
       "1               No      Mailed check           56.95       1889.50    No  \n",
       "2              Yes      Mailed check           53.85        108.15   Yes  "
      ]
     },
     "execution_count": 172,
     "metadata": {},
     "output_type": "execute_result"
    }
   ],
   "source": [
    "dataset.head(3)"
   ]
  },
  {
   "cell_type": "code",
   "execution_count": 173,
   "id": "aba589cd-ae46-4e4a-be57-988908ec0d0d",
   "metadata": {},
   "outputs": [
    {
     "data": {
      "text/plain": [
       "array(['Yes', 'No'], dtype=object)"
      ]
     },
     "execution_count": 173,
     "metadata": {},
     "output_type": "execute_result"
    }
   ],
   "source": [
    "# Schaue welche unique Werte es gibt.\n",
    "dataset.Partner.unique()"
   ]
  },
  {
   "cell_type": "code",
   "execution_count": 174,
   "id": "77795d19-ac13-4563-a4af-85f8049085a2",
   "metadata": {},
   "outputs": [
    {
     "name": "stdout",
     "output_type": "stream",
     "text": [
      "gender\n",
      "SeniorCitizen\n",
      "Partner\n",
      "Dependents\n",
      "tenure\n",
      "PhoneService\n",
      "MultipleLines\n",
      "InternetService\n",
      "OnlineSecurity\n",
      "OnlineBackup\n",
      "DeviceProtection\n",
      "TechSupport\n",
      "StreamingTV\n",
      "StreamingMovies\n",
      "Contract\n",
      "PaperlessBilling\n",
      "PaymentMethod\n",
      "MonthlyCharges\n",
      "TotalCharges\n",
      "Churn\n"
     ]
    }
   ],
   "source": [
    "# oder auch als Schleife:\n",
    "# - Man kann einfach durch das Dataframe iterieren. \n",
    "for fet in dataset:\n",
    "    print(fet) # Gibt Features aus, das können wir so nutzen."
   ]
  },
  {
   "cell_type": "code",
   "execution_count": 175,
   "id": "f9a1e502-9d74-482d-b414-c63ec6b13c02",
   "metadata": {},
   "outputs": [
    {
     "name": "stdout",
     "output_type": "stream",
     "text": [
      "Feature: gender, Unique-Count: 2, Values: \n",
      "['Female' 'Male'] \n",
      "Feature: Partner, Unique-Count: 2, Values: \n",
      "['Yes' 'No'] \n",
      "Feature: Dependents, Unique-Count: 2, Values: \n",
      "['No' 'Yes'] \n",
      "Feature: PhoneService, Unique-Count: 2, Values: \n",
      "['No' 'Yes'] \n",
      "Feature: MultipleLines, Unique-Count: 3, Values: \n",
      "['No phone service' 'No' 'Yes'] \n",
      "Feature: InternetService, Unique-Count: 3, Values: \n",
      "['DSL' 'Fiber optic' 'No'] \n",
      "Feature: OnlineSecurity, Unique-Count: 3, Values: \n",
      "['No' 'Yes' 'No internet service'] \n",
      "Feature: OnlineBackup, Unique-Count: 3, Values: \n",
      "['Yes' 'No' 'No internet service'] \n",
      "Feature: DeviceProtection, Unique-Count: 3, Values: \n",
      "['No' 'Yes' 'No internet service'] \n",
      "Feature: TechSupport, Unique-Count: 3, Values: \n",
      "['No' 'Yes' 'No internet service'] \n",
      "Feature: StreamingTV, Unique-Count: 3, Values: \n",
      "['No' 'Yes' 'No internet service'] \n",
      "Feature: StreamingMovies, Unique-Count: 3, Values: \n",
      "['No' 'Yes' 'No internet service'] \n",
      "Feature: Contract, Unique-Count: 3, Values: \n",
      "['Month-to-month' 'One year' 'Two year'] \n",
      "Feature: PaperlessBilling, Unique-Count: 2, Values: \n",
      "['Yes' 'No'] \n",
      "Feature: PaymentMethod, Unique-Count: 4, Values: \n",
      "['Electronic check' 'Mailed check' 'Bank transfer (automatic)'\n",
      " 'Credit card (automatic)'] \n",
      "Feature: Churn, Unique-Count: 2, Values: \n",
      "['No' 'Yes'] \n"
     ]
    }
   ],
   "source": [
    "# Für alle Features\n",
    "# - Gebe Namen aus, wie viele Werte unique sind, und welche es sind.\n",
    "# - Nur bei nicht-numerischen Werten.\n",
    "for fet in dataset:\n",
    "    if dataset[fet].dtypes=='object':\n",
    "        print(f\"Feature: {fet}, Unique-Count: {dataset[fet].unique().shape[0]}, Values: \\n{dataset[fet].unique()} \") \n",
    "# - Weitere Ausgaben und Kombinationen sind möglich."
   ]
  },
  {
   "cell_type": "markdown",
   "id": "f45210db-67c8-4d9f-8b15-49617806a526",
   "metadata": {},
   "source": [
    "Durch diese Ausgaben ist deutlich zu sehen, welche Werte für das Training eine Rolle spielen könnten bzw. welche Werte wir ersetzen oder löschen können. \n",
    "\n",
    "Bei Werten wie ['No' 'Yes' 'No internet service'] können wir ausgehen, das 'No internet service' No bedeutet. So wird die Menge der verschiedenen Werte reduziert und das Dataset wird eindeutiger. "
   ]
  },
  {
   "cell_type": "markdown",
   "id": "a78aff4c-db67-4040-b136-7ba0c8130551",
   "metadata": {},
   "source": [
    "Um die nötigen Änderungen vorzunehmen, kann eine Lambdaoperation oder eine einfache Ersetzung vorgenommen werden."
   ]
  },
  {
   "cell_type": "code",
   "execution_count": 176,
   "id": "450bca5c-509f-4f1e-9434-7e5940caeeba",
   "metadata": {},
   "outputs": [],
   "source": [
    "# Funktion für das ersetzen.\n",
    "# - * Nicht an Feature gebunden. \n",
    "def replace_val(df:pd.DataFrame, targets:[str], replacements:[str]) -> pd.DataFrame:\n",
    "\n",
    "    if len(targets) != len(replacements):\n",
    "        return None\n",
    "\n",
    "    for target, replacement in zip(targets, replacements):\n",
    "        df.replace(target, replacement, inplace=True)\n",
    "\n",
    "    return df"
   ]
  },
  {
   "cell_type": "code",
   "execution_count": 177,
   "id": "249d0ef2-1b3a-4a27-8d4c-e705938dc756",
   "metadata": {},
   "outputs": [],
   "source": [
    "ziel     = ['No internet service', 'No phone service'] \n",
    "ersetzen = ['No', 'No']\n",
    "dataset_new = replace_val(dataset, ziel, ersetzen)"
   ]
  },
  {
   "cell_type": "code",
   "execution_count": 183,
   "id": "1ac07852-d62d-40a7-99f0-cadf0162501e",
   "metadata": {},
   "outputs": [
    {
     "name": "stdout",
     "output_type": "stream",
     "text": [
      "Feature: gender, Unique-Count: 2, Values: \n",
      "['Female' 'Male'] \n",
      "Feature: Partner, Unique-Count: 2, Values: \n",
      "['Yes' 'No'] \n",
      "Feature: Dependents, Unique-Count: 2, Values: \n",
      "['No' 'Yes'] \n",
      "Feature: PhoneService, Unique-Count: 2, Values: \n",
      "['No' 'Yes'] \n",
      "Feature: MultipleLines, Unique-Count: 2, Values: \n",
      "['No' 'Yes'] \n",
      "Feature: InternetService, Unique-Count: 3, Values: \n",
      "['DSL' 'Fiber optic' 'No'] \n",
      "Feature: OnlineSecurity, Unique-Count: 2, Values: \n",
      "['No' 'Yes'] \n",
      "Feature: OnlineBackup, Unique-Count: 2, Values: \n",
      "['Yes' 'No'] \n",
      "Feature: DeviceProtection, Unique-Count: 2, Values: \n",
      "['No' 'Yes'] \n",
      "Feature: TechSupport, Unique-Count: 2, Values: \n",
      "['No' 'Yes'] \n",
      "Feature: StreamingTV, Unique-Count: 2, Values: \n",
      "['No' 'Yes'] \n",
      "Feature: StreamingMovies, Unique-Count: 2, Values: \n",
      "['No' 'Yes'] \n",
      "Feature: Contract, Unique-Count: 3, Values: \n",
      "['Month-to-month' 'One year' 'Two year'] \n",
      "Feature: PaperlessBilling, Unique-Count: 2, Values: \n",
      "['Yes' 'No'] \n",
      "Feature: PaymentMethod, Unique-Count: 4, Values: \n",
      "['Electronic check' 'Mailed check' 'Bank transfer (automatic)'\n",
      " 'Credit card (automatic)'] \n",
      "Feature: Churn, Unique-Count: 2, Values: \n",
      "['No' 'Yes'] \n"
     ]
    }
   ],
   "source": [
    "for fet in dataset_new:\n",
    "    if dataset_new[fet].dtypes=='object':\n",
    "        print(f\"Feature: {fet}, Unique-Count: {dataset_new[fet].unique().shape[0]}, Values: \\n{dataset_new[fet].unique()} \") "
   ]
  },
  {
   "cell_type": "markdown",
   "id": "63955886-0622-4f69-9864-5e12010988cf",
   "metadata": {},
   "source": [
    "Durch diese Veränderung ist das Encoding simpler und liefert einen höheren Mehrwert. \n",
    "- Es können viele Vorgänge automatisiert werden.\n",
    "\n",
    "Jetzt kann der Rest codiert werden. Dafür kann wieder optional eine Funktion angelegt werden."
   ]
  },
  {
   "cell_type": "code",
   "execution_count": 191,
   "id": "8fa4b755-864e-40f0-949c-6d516be716a2",
   "metadata": {},
   "outputs": [],
   "source": [
    "# Z. B. so.:\n",
    "# - So können noch andere Werte ersetzt oder andere Operationen zusätzlich durchgeführt werden.\n",
    "def pandas_OnHot(df:pd.DataFrame, targets:[str]) -> pd.DataFrame:\n",
    "\n",
    "    dummies_df = pd.get_dummies(df[targets], drop_first=True, dtype='int') # Erstelle Dummies, lösche erste Spalte.\n",
    "    df1 = df.drop(targets, axis=\"columns\")                          # Lösche Targets aus df.\n",
    "    df2 = pd.concat([df1, dummies_df], axis=\"columns\")          # Füge Dummies ein.\n",
    "    # Sonstiges ...\n",
    "    return df2"
   ]
  },
  {
   "cell_type": "code",
   "execution_count": 192,
   "id": "9dd03b9b-532a-4db3-a9d8-266d6224400a",
   "metadata": {},
   "outputs": [],
   "source": [
    "ziel = ['gender', 'Partner', 'Dependents', 'PhoneService', 'MultipleLines', 'InternetService', 'OnlineSecurity', \\\n",
    "       'OnlineBackup', 'DeviceProtection', 'TechSupport', 'StreamingTV', 'StreamingMovies', 'PaperlessBilling', 'Churn', 'PaymentMethod',\\\n",
    "       'Contract']\n",
    "dataset_with_dummies = pandas_OnHot(dataset_new, ziel)"
   ]
  },
  {
   "cell_type": "code",
   "execution_count": 193,
   "id": "242e0fbe-0413-4d8a-90e2-17107ded76d8",
   "metadata": {},
   "outputs": [
    {
     "name": "stdout",
     "output_type": "stream",
     "text": [
      "Feature: SeniorCitizen, Unique-Count: 2,    Values: \n",
      "[0 1] \n",
      "Feature: tenure, Unique-Count: 72,    Values: \n",
      "[ 1 34  2 45  8 22 10 28 62 13 16 58 49 25 69 52 71 21 12 30 47 72 17 27\n",
      "  5 46 11 70 63 43 15 60 18 66  9  3 31 50 64 56  7 42 35 48 29 65 38 68\n",
      " 32 55 37 36 41  6  4 33 67 23 57 61 14 20 53 40 59 24 44 19 54 51 26 39] \n",
      "Feature: MonthlyCharges, Unique-Count: 1584,    Values: \n",
      "[29.85 56.95 53.85 ... 63.1  44.2  78.7 ] \n",
      "Feature: TotalCharges, Unique-Count: 6530,    Values: \n",
      "[  29.85 1889.5   108.15 ...  346.45  306.6  6844.5 ] \n",
      "Feature: gender_Male, Unique-Count: 2,    Values: \n",
      "[0 1] \n",
      "Feature: Partner_Yes, Unique-Count: 2,    Values: \n",
      "[1 0] \n",
      "Feature: Dependents_Yes, Unique-Count: 2,    Values: \n",
      "[0 1] \n",
      "Feature: PhoneService_Yes, Unique-Count: 2,    Values: \n",
      "[0 1] \n",
      "Feature: MultipleLines_Yes, Unique-Count: 2,    Values: \n",
      "[0 1] \n",
      "Feature: InternetService_Fiber optic, Unique-Count: 2,    Values: \n",
      "[0 1] \n",
      "Feature: InternetService_No, Unique-Count: 2,    Values: \n",
      "[0 1] \n",
      "Feature: OnlineSecurity_Yes, Unique-Count: 2,    Values: \n",
      "[0 1] \n",
      "Feature: OnlineBackup_Yes, Unique-Count: 2,    Values: \n",
      "[1 0] \n",
      "Feature: DeviceProtection_Yes, Unique-Count: 2,    Values: \n",
      "[0 1] \n",
      "Feature: TechSupport_Yes, Unique-Count: 2,    Values: \n",
      "[0 1] \n",
      "Feature: StreamingTV_Yes, Unique-Count: 2,    Values: \n",
      "[0 1] \n",
      "Feature: StreamingMovies_Yes, Unique-Count: 2,    Values: \n",
      "[0 1] \n",
      "Feature: PaperlessBilling_Yes, Unique-Count: 2,    Values: \n",
      "[1 0] \n",
      "Feature: Churn_Yes, Unique-Count: 2,    Values: \n",
      "[0 1] \n",
      "Feature: PaymentMethod_Credit card (automatic), Unique-Count: 2,    Values: \n",
      "[0 1] \n",
      "Feature: PaymentMethod_Electronic check, Unique-Count: 2,    Values: \n",
      "[1 0] \n",
      "Feature: PaymentMethod_Mailed check, Unique-Count: 2,    Values: \n",
      "[0 1] \n",
      "Feature: Contract_One year, Unique-Count: 2,    Values: \n",
      "[0 1] \n",
      "Feature: Contract_Two year, Unique-Count: 2,    Values: \n",
      "[0 1] \n"
     ]
    }
   ],
   "source": [
    "for fet in dataset_with_dummies:\n",
    "    print(f\"Feature: {fet}, Unique-Count: {dataset_with_dummies[fet].unique().shape[0]},\\\n",
    "    Values: \\n{dataset_with_dummies[fet].unique()} \") "
   ]
  },
  {
   "cell_type": "code",
   "execution_count": 194,
   "id": "015ac2c0-9fd0-4e27-87be-3a56d30dc5fa",
   "metadata": {},
   "outputs": [
    {
     "data": {
      "text/plain": [
       "SeniorCitizen                              int64\n",
       "tenure                                     int64\n",
       "MonthlyCharges                           float64\n",
       "TotalCharges                             float64\n",
       "gender_Male                                int32\n",
       "Partner_Yes                                int32\n",
       "Dependents_Yes                             int32\n",
       "PhoneService_Yes                           int32\n",
       "MultipleLines_Yes                          int32\n",
       "InternetService_Fiber optic                int32\n",
       "InternetService_No                         int32\n",
       "OnlineSecurity_Yes                         int32\n",
       "OnlineBackup_Yes                           int32\n",
       "DeviceProtection_Yes                       int32\n",
       "TechSupport_Yes                            int32\n",
       "StreamingTV_Yes                            int32\n",
       "StreamingMovies_Yes                        int32\n",
       "PaperlessBilling_Yes                       int32\n",
       "Churn_Yes                                  int32\n",
       "PaymentMethod_Credit card (automatic)      int32\n",
       "PaymentMethod_Electronic check             int32\n",
       "PaymentMethod_Mailed check                 int32\n",
       "Contract_One year                          int32\n",
       "Contract_Two year                          int32\n",
       "dtype: object"
      ]
     },
     "execution_count": 194,
     "metadata": {},
     "output_type": "execute_result"
    }
   ],
   "source": [
    "# Zeige alle Typen nochmal an. \n",
    "# - Es kann auch Encoding von [0, 1, 2, ...] verwendet werden => Label Encoding\n",
    "#   und Ordinal-Encoding, wenn der Rank eine Rolle spielt.\n",
    "dataset_with_dummies.dtypes"
   ]
  },
  {
   "cell_type": "code",
   "execution_count": 196,
   "id": "9a213fc5-c395-4973-be44-e6bdc0799cad",
   "metadata": {},
   "outputs": [
    {
     "data": {
      "text/html": [
       "<div>\n",
       "<style scoped>\n",
       "    .dataframe tbody tr th:only-of-type {\n",
       "        vertical-align: middle;\n",
       "    }\n",
       "\n",
       "    .dataframe tbody tr th {\n",
       "        vertical-align: top;\n",
       "    }\n",
       "\n",
       "    .dataframe thead th {\n",
       "        text-align: right;\n",
       "    }\n",
       "</style>\n",
       "<table border=\"1\" class=\"dataframe\">\n",
       "  <thead>\n",
       "    <tr style=\"text-align: right;\">\n",
       "      <th></th>\n",
       "      <th>SeniorCitizen</th>\n",
       "      <th>tenure</th>\n",
       "      <th>MonthlyCharges</th>\n",
       "      <th>TotalCharges</th>\n",
       "      <th>gender_Male</th>\n",
       "      <th>Partner_Yes</th>\n",
       "      <th>Dependents_Yes</th>\n",
       "      <th>PhoneService_Yes</th>\n",
       "      <th>MultipleLines_Yes</th>\n",
       "      <th>InternetService_Fiber optic</th>\n",
       "      <th>...</th>\n",
       "      <th>TechSupport_Yes</th>\n",
       "      <th>StreamingTV_Yes</th>\n",
       "      <th>StreamingMovies_Yes</th>\n",
       "      <th>PaperlessBilling_Yes</th>\n",
       "      <th>Churn_Yes</th>\n",
       "      <th>PaymentMethod_Credit card (automatic)</th>\n",
       "      <th>PaymentMethod_Electronic check</th>\n",
       "      <th>PaymentMethod_Mailed check</th>\n",
       "      <th>Contract_One year</th>\n",
       "      <th>Contract_Two year</th>\n",
       "    </tr>\n",
       "  </thead>\n",
       "  <tbody>\n",
       "    <tr>\n",
       "      <th>0</th>\n",
       "      <td>0</td>\n",
       "      <td>1</td>\n",
       "      <td>29.85</td>\n",
       "      <td>29.85</td>\n",
       "      <td>0</td>\n",
       "      <td>1</td>\n",
       "      <td>0</td>\n",
       "      <td>0</td>\n",
       "      <td>0</td>\n",
       "      <td>0</td>\n",
       "      <td>...</td>\n",
       "      <td>0</td>\n",
       "      <td>0</td>\n",
       "      <td>0</td>\n",
       "      <td>1</td>\n",
       "      <td>0</td>\n",
       "      <td>0</td>\n",
       "      <td>1</td>\n",
       "      <td>0</td>\n",
       "      <td>0</td>\n",
       "      <td>0</td>\n",
       "    </tr>\n",
       "    <tr>\n",
       "      <th>1</th>\n",
       "      <td>0</td>\n",
       "      <td>34</td>\n",
       "      <td>56.95</td>\n",
       "      <td>1889.50</td>\n",
       "      <td>1</td>\n",
       "      <td>0</td>\n",
       "      <td>0</td>\n",
       "      <td>1</td>\n",
       "      <td>0</td>\n",
       "      <td>0</td>\n",
       "      <td>...</td>\n",
       "      <td>0</td>\n",
       "      <td>0</td>\n",
       "      <td>0</td>\n",
       "      <td>0</td>\n",
       "      <td>0</td>\n",
       "      <td>0</td>\n",
       "      <td>0</td>\n",
       "      <td>1</td>\n",
       "      <td>1</td>\n",
       "      <td>0</td>\n",
       "    </tr>\n",
       "    <tr>\n",
       "      <th>2</th>\n",
       "      <td>0</td>\n",
       "      <td>2</td>\n",
       "      <td>53.85</td>\n",
       "      <td>108.15</td>\n",
       "      <td>1</td>\n",
       "      <td>0</td>\n",
       "      <td>0</td>\n",
       "      <td>1</td>\n",
       "      <td>0</td>\n",
       "      <td>0</td>\n",
       "      <td>...</td>\n",
       "      <td>0</td>\n",
       "      <td>0</td>\n",
       "      <td>0</td>\n",
       "      <td>1</td>\n",
       "      <td>1</td>\n",
       "      <td>0</td>\n",
       "      <td>0</td>\n",
       "      <td>1</td>\n",
       "      <td>0</td>\n",
       "      <td>0</td>\n",
       "    </tr>\n",
       "    <tr>\n",
       "      <th>3</th>\n",
       "      <td>0</td>\n",
       "      <td>45</td>\n",
       "      <td>42.30</td>\n",
       "      <td>1840.75</td>\n",
       "      <td>1</td>\n",
       "      <td>0</td>\n",
       "      <td>0</td>\n",
       "      <td>0</td>\n",
       "      <td>0</td>\n",
       "      <td>0</td>\n",
       "      <td>...</td>\n",
       "      <td>1</td>\n",
       "      <td>0</td>\n",
       "      <td>0</td>\n",
       "      <td>0</td>\n",
       "      <td>0</td>\n",
       "      <td>0</td>\n",
       "      <td>0</td>\n",
       "      <td>0</td>\n",
       "      <td>1</td>\n",
       "      <td>0</td>\n",
       "    </tr>\n",
       "    <tr>\n",
       "      <th>4</th>\n",
       "      <td>0</td>\n",
       "      <td>2</td>\n",
       "      <td>70.70</td>\n",
       "      <td>151.65</td>\n",
       "      <td>0</td>\n",
       "      <td>0</td>\n",
       "      <td>0</td>\n",
       "      <td>1</td>\n",
       "      <td>0</td>\n",
       "      <td>1</td>\n",
       "      <td>...</td>\n",
       "      <td>0</td>\n",
       "      <td>0</td>\n",
       "      <td>0</td>\n",
       "      <td>1</td>\n",
       "      <td>1</td>\n",
       "      <td>0</td>\n",
       "      <td>1</td>\n",
       "      <td>0</td>\n",
       "      <td>0</td>\n",
       "      <td>0</td>\n",
       "    </tr>\n",
       "    <tr>\n",
       "      <th>5</th>\n",
       "      <td>0</td>\n",
       "      <td>8</td>\n",
       "      <td>99.65</td>\n",
       "      <td>820.50</td>\n",
       "      <td>0</td>\n",
       "      <td>0</td>\n",
       "      <td>0</td>\n",
       "      <td>1</td>\n",
       "      <td>1</td>\n",
       "      <td>1</td>\n",
       "      <td>...</td>\n",
       "      <td>0</td>\n",
       "      <td>1</td>\n",
       "      <td>1</td>\n",
       "      <td>1</td>\n",
       "      <td>1</td>\n",
       "      <td>0</td>\n",
       "      <td>1</td>\n",
       "      <td>0</td>\n",
       "      <td>0</td>\n",
       "      <td>0</td>\n",
       "    </tr>\n",
       "  </tbody>\n",
       "</table>\n",
       "<p>6 rows × 24 columns</p>\n",
       "</div>"
      ],
      "text/plain": [
       "   SeniorCitizen  tenure  MonthlyCharges  TotalCharges  gender_Male  \\\n",
       "0              0       1           29.85         29.85            0   \n",
       "1              0      34           56.95       1889.50            1   \n",
       "2              0       2           53.85        108.15            1   \n",
       "3              0      45           42.30       1840.75            1   \n",
       "4              0       2           70.70        151.65            0   \n",
       "5              0       8           99.65        820.50            0   \n",
       "\n",
       "   Partner_Yes  Dependents_Yes  PhoneService_Yes  MultipleLines_Yes  \\\n",
       "0            1               0                 0                  0   \n",
       "1            0               0                 1                  0   \n",
       "2            0               0                 1                  0   \n",
       "3            0               0                 0                  0   \n",
       "4            0               0                 1                  0   \n",
       "5            0               0                 1                  1   \n",
       "\n",
       "   InternetService_Fiber optic  ...  TechSupport_Yes  StreamingTV_Yes  \\\n",
       "0                            0  ...                0                0   \n",
       "1                            0  ...                0                0   \n",
       "2                            0  ...                0                0   \n",
       "3                            0  ...                1                0   \n",
       "4                            1  ...                0                0   \n",
       "5                            1  ...                0                1   \n",
       "\n",
       "   StreamingMovies_Yes  PaperlessBilling_Yes  Churn_Yes  \\\n",
       "0                    0                     1          0   \n",
       "1                    0                     0          0   \n",
       "2                    0                     1          1   \n",
       "3                    0                     0          0   \n",
       "4                    0                     1          1   \n",
       "5                    1                     1          1   \n",
       "\n",
       "   PaymentMethod_Credit card (automatic)  PaymentMethod_Electronic check  \\\n",
       "0                                      0                               1   \n",
       "1                                      0                               0   \n",
       "2                                      0                               0   \n",
       "3                                      0                               0   \n",
       "4                                      0                               1   \n",
       "5                                      0                               1   \n",
       "\n",
       "   PaymentMethod_Mailed check  Contract_One year  Contract_Two year  \n",
       "0                           0                  0                  0  \n",
       "1                           1                  1                  0  \n",
       "2                           1                  0                  0  \n",
       "3                           0                  1                  0  \n",
       "4                           0                  0                  0  \n",
       "5                           0                  0                  0  \n",
       "\n",
       "[6 rows x 24 columns]"
      ]
     },
     "execution_count": 196,
     "metadata": {},
     "output_type": "execute_result"
    }
   ],
   "source": [
    "dataset_with_dummies.head(6)"
   ]
  },
  {
   "cell_type": "markdown",
   "id": "95c56006-2c51-4121-881d-4af78303c357",
   "metadata": {},
   "source": [
    "Bevor das eigentliche Training losgeht, müssen die Daten skaliert werden."
   ]
  },
  {
   "cell_type": "code",
   "execution_count": 199,
   "id": "852bfe3d-242e-4f83-8904-867008a8e342",
   "metadata": {},
   "outputs": [
    {
     "data": {
      "text/html": [
       "<div>\n",
       "<style scoped>\n",
       "    .dataframe tbody tr th:only-of-type {\n",
       "        vertical-align: middle;\n",
       "    }\n",
       "\n",
       "    .dataframe tbody tr th {\n",
       "        vertical-align: top;\n",
       "    }\n",
       "\n",
       "    .dataframe thead th {\n",
       "        text-align: right;\n",
       "    }\n",
       "</style>\n",
       "<table border=\"1\" class=\"dataframe\">\n",
       "  <thead>\n",
       "    <tr style=\"text-align: right;\">\n",
       "      <th></th>\n",
       "      <th>SeniorCitizen</th>\n",
       "      <th>tenure</th>\n",
       "      <th>MonthlyCharges</th>\n",
       "      <th>TotalCharges</th>\n",
       "      <th>gender_Male</th>\n",
       "      <th>Partner_Yes</th>\n",
       "      <th>Dependents_Yes</th>\n",
       "      <th>PhoneService_Yes</th>\n",
       "      <th>MultipleLines_Yes</th>\n",
       "      <th>InternetService_Fiber optic</th>\n",
       "      <th>...</th>\n",
       "      <th>TechSupport_Yes</th>\n",
       "      <th>StreamingTV_Yes</th>\n",
       "      <th>StreamingMovies_Yes</th>\n",
       "      <th>PaperlessBilling_Yes</th>\n",
       "      <th>Churn_Yes</th>\n",
       "      <th>PaymentMethod_Credit card (automatic)</th>\n",
       "      <th>PaymentMethod_Electronic check</th>\n",
       "      <th>PaymentMethod_Mailed check</th>\n",
       "      <th>Contract_One year</th>\n",
       "      <th>Contract_Two year</th>\n",
       "    </tr>\n",
       "  </thead>\n",
       "  <tbody>\n",
       "    <tr>\n",
       "      <th>0</th>\n",
       "      <td>0</td>\n",
       "      <td>0.000000</td>\n",
       "      <td>0.115423</td>\n",
       "      <td>0.001275</td>\n",
       "      <td>0</td>\n",
       "      <td>1</td>\n",
       "      <td>0</td>\n",
       "      <td>0</td>\n",
       "      <td>0</td>\n",
       "      <td>0</td>\n",
       "      <td>...</td>\n",
       "      <td>0</td>\n",
       "      <td>0</td>\n",
       "      <td>0</td>\n",
       "      <td>1</td>\n",
       "      <td>0</td>\n",
       "      <td>0</td>\n",
       "      <td>1</td>\n",
       "      <td>0</td>\n",
       "      <td>0</td>\n",
       "      <td>0</td>\n",
       "    </tr>\n",
       "    <tr>\n",
       "      <th>1</th>\n",
       "      <td>0</td>\n",
       "      <td>0.464789</td>\n",
       "      <td>0.385075</td>\n",
       "      <td>0.215867</td>\n",
       "      <td>1</td>\n",
       "      <td>0</td>\n",
       "      <td>0</td>\n",
       "      <td>1</td>\n",
       "      <td>0</td>\n",
       "      <td>0</td>\n",
       "      <td>...</td>\n",
       "      <td>0</td>\n",
       "      <td>0</td>\n",
       "      <td>0</td>\n",
       "      <td>0</td>\n",
       "      <td>0</td>\n",
       "      <td>0</td>\n",
       "      <td>0</td>\n",
       "      <td>1</td>\n",
       "      <td>1</td>\n",
       "      <td>0</td>\n",
       "    </tr>\n",
       "    <tr>\n",
       "      <th>2</th>\n",
       "      <td>0</td>\n",
       "      <td>0.014085</td>\n",
       "      <td>0.354229</td>\n",
       "      <td>0.010310</td>\n",
       "      <td>1</td>\n",
       "      <td>0</td>\n",
       "      <td>0</td>\n",
       "      <td>1</td>\n",
       "      <td>0</td>\n",
       "      <td>0</td>\n",
       "      <td>...</td>\n",
       "      <td>0</td>\n",
       "      <td>0</td>\n",
       "      <td>0</td>\n",
       "      <td>1</td>\n",
       "      <td>1</td>\n",
       "      <td>0</td>\n",
       "      <td>0</td>\n",
       "      <td>1</td>\n",
       "      <td>0</td>\n",
       "      <td>0</td>\n",
       "    </tr>\n",
       "    <tr>\n",
       "      <th>3</th>\n",
       "      <td>0</td>\n",
       "      <td>0.619718</td>\n",
       "      <td>0.239303</td>\n",
       "      <td>0.210241</td>\n",
       "      <td>1</td>\n",
       "      <td>0</td>\n",
       "      <td>0</td>\n",
       "      <td>0</td>\n",
       "      <td>0</td>\n",
       "      <td>0</td>\n",
       "      <td>...</td>\n",
       "      <td>1</td>\n",
       "      <td>0</td>\n",
       "      <td>0</td>\n",
       "      <td>0</td>\n",
       "      <td>0</td>\n",
       "      <td>0</td>\n",
       "      <td>0</td>\n",
       "      <td>0</td>\n",
       "      <td>1</td>\n",
       "      <td>0</td>\n",
       "    </tr>\n",
       "    <tr>\n",
       "      <th>4</th>\n",
       "      <td>0</td>\n",
       "      <td>0.014085</td>\n",
       "      <td>0.521891</td>\n",
       "      <td>0.015330</td>\n",
       "      <td>0</td>\n",
       "      <td>0</td>\n",
       "      <td>0</td>\n",
       "      <td>1</td>\n",
       "      <td>0</td>\n",
       "      <td>1</td>\n",
       "      <td>...</td>\n",
       "      <td>0</td>\n",
       "      <td>0</td>\n",
       "      <td>0</td>\n",
       "      <td>1</td>\n",
       "      <td>1</td>\n",
       "      <td>0</td>\n",
       "      <td>1</td>\n",
       "      <td>0</td>\n",
       "      <td>0</td>\n",
       "      <td>0</td>\n",
       "    </tr>\n",
       "  </tbody>\n",
       "</table>\n",
       "<p>5 rows × 24 columns</p>\n",
       "</div>"
      ],
      "text/plain": [
       "   SeniorCitizen    tenure  MonthlyCharges  TotalCharges  gender_Male  \\\n",
       "0              0  0.000000        0.115423      0.001275            0   \n",
       "1              0  0.464789        0.385075      0.215867            1   \n",
       "2              0  0.014085        0.354229      0.010310            1   \n",
       "3              0  0.619718        0.239303      0.210241            1   \n",
       "4              0  0.014085        0.521891      0.015330            0   \n",
       "\n",
       "   Partner_Yes  Dependents_Yes  PhoneService_Yes  MultipleLines_Yes  \\\n",
       "0            1               0                 0                  0   \n",
       "1            0               0                 1                  0   \n",
       "2            0               0                 1                  0   \n",
       "3            0               0                 0                  0   \n",
       "4            0               0                 1                  0   \n",
       "\n",
       "   InternetService_Fiber optic  ...  TechSupport_Yes  StreamingTV_Yes  \\\n",
       "0                            0  ...                0                0   \n",
       "1                            0  ...                0                0   \n",
       "2                            0  ...                0                0   \n",
       "3                            0  ...                1                0   \n",
       "4                            1  ...                0                0   \n",
       "\n",
       "   StreamingMovies_Yes  PaperlessBilling_Yes  Churn_Yes  \\\n",
       "0                    0                     1          0   \n",
       "1                    0                     0          0   \n",
       "2                    0                     1          1   \n",
       "3                    0                     0          0   \n",
       "4                    0                     1          1   \n",
       "\n",
       "   PaymentMethod_Credit card (automatic)  PaymentMethod_Electronic check  \\\n",
       "0                                      0                               1   \n",
       "1                                      0                               0   \n",
       "2                                      0                               0   \n",
       "3                                      0                               0   \n",
       "4                                      0                               1   \n",
       "\n",
       "   PaymentMethod_Mailed check  Contract_One year  Contract_Two year  \n",
       "0                           0                  0                  0  \n",
       "1                           1                  1                  0  \n",
       "2                           1                  0                  0  \n",
       "3                           0                  1                  0  \n",
       "4                           0                  0                  0  \n",
       "\n",
       "[5 rows x 24 columns]"
      ]
     },
     "execution_count": 199,
     "metadata": {},
     "output_type": "execute_result"
    }
   ],
   "source": [
    "# Erstelle Scaler, skaliert Werte in den Bereich 0 bis 1.\n",
    "scaler = MinMaxScaler()\n",
    "\n",
    "dataset_with_dummies[ ['tenure', 'MonthlyCharges', 'TotalCharges'] ] = \\\n",
    "         scaler.fit_transform(dataset_with_dummies[ ['tenure', 'MonthlyCharges', 'TotalCharges'] ])\n",
    "\n",
    "dataset_with_dummies.head()"
   ]
  },
  {
   "cell_type": "code",
   "execution_count": 214,
   "id": "fd5f4854-ff1f-4459-9797-20634ec02773",
   "metadata": {},
   "outputs": [],
   "source": [
    "# Teile Dataset in Train- und Testdaten auf. \n",
    "X_train, X_test, y_train, y_test = train_test_split(\\\n",
    "            dataset_with_dummies.drop(['Churn_Yes'], axis=\"columns\"), dataset_with_dummies['Churn_Yes'], test_size=.20)"
   ]
  },
  {
   "cell_type": "code",
   "execution_count": 215,
   "id": "3ff1a690-3873-4f7e-a7fe-4f24a4e50922",
   "metadata": {},
   "outputs": [
    {
     "data": {
      "text/plain": [
       "(5625, 23)"
      ]
     },
     "execution_count": 215,
     "metadata": {},
     "output_type": "execute_result"
    }
   ],
   "source": [
    "X_train.shape"
   ]
  },
  {
   "cell_type": "markdown",
   "id": "cde79c05-2a14-48f4-aa23-3dfae98951f9",
   "metadata": {},
   "source": [
    "Jetzt kann das Training losgehen. "
   ]
  },
  {
   "cell_type": "code",
   "execution_count": 225,
   "id": "81917aaa-ad1b-419d-b0fc-b9575b6f8797",
   "metadata": {},
   "outputs": [],
   "source": [
    "# Model.\n",
    "model = tf.keras.Sequential([\n",
    "    tf.keras.layers.Dense(units=15, input_shape=(23,), activation='leaky_relu' ),  # L1: Input Neuronen,  + L2: Dense\n",
    "    tf.keras.layers.Dense(10, activation='leaky_relu'),  # L3: Dense\n",
    "    tf.keras.layers.Dense(1, activation='sigmoid')       # L4: Dense\n",
    "])\n",
    "\n",
    "tb_callback = tf.keras.callbacks.TensorBoard(log_dir=\"logs/churn_ann/leaky_relu\", histogram_freq=1)\n",
    "\n",
    "model.compile(\n",
    "    optimizer= 'adam',\n",
    "    loss     = 'binary_crossentropy',\n",
    "    metrics  = ['accuracy'])  # Da wir 0 und 1 als Output haben.\n"
   ]
  },
  {
   "cell_type": "code",
   "execution_count": 226,
   "id": "467b37dc-729d-4df4-a775-1e42836beb70",
   "metadata": {
    "collapsed": true,
    "jupyter": {
     "outputs_hidden": true
    }
   },
   "outputs": [
    {
     "name": "stdout",
     "output_type": "stream",
     "text": [
      "Epoch 1/15\n",
      "176/176 [==============================] - 1s 1ms/step - loss: 0.5579 - accuracy: 0.6924\n",
      "Epoch 2/15\n",
      "176/176 [==============================] - 0s 1ms/step - loss: 0.4408 - accuracy: 0.7884\n",
      "Epoch 3/15\n",
      "176/176 [==============================] - 0s 1ms/step - loss: 0.4253 - accuracy: 0.7975\n",
      "Epoch 4/15\n",
      "176/176 [==============================] - 0s 1ms/step - loss: 0.4193 - accuracy: 0.7995\n",
      "Epoch 5/15\n",
      "176/176 [==============================] - 0s 1ms/step - loss: 0.4153 - accuracy: 0.8016\n",
      "Epoch 6/15\n",
      "176/176 [==============================] - 0s 1ms/step - loss: 0.4134 - accuracy: 0.8060\n",
      "Epoch 7/15\n",
      "176/176 [==============================] - 0s 1ms/step - loss: 0.4128 - accuracy: 0.8032\n",
      "Epoch 8/15\n",
      "176/176 [==============================] - 0s 1ms/step - loss: 0.4110 - accuracy: 0.8048\n",
      "Epoch 9/15\n",
      "176/176 [==============================] - 0s 1ms/step - loss: 0.4099 - accuracy: 0.8052\n",
      "Epoch 10/15\n",
      "176/176 [==============================] - 0s 1ms/step - loss: 0.4085 - accuracy: 0.8059\n",
      "Epoch 11/15\n",
      "176/176 [==============================] - 0s 1ms/step - loss: 0.4076 - accuracy: 0.8057\n",
      "Epoch 12/15\n",
      "176/176 [==============================] - 0s 1ms/step - loss: 0.4064 - accuracy: 0.8094\n",
      "Epoch 13/15\n",
      "176/176 [==============================] - 0s 1ms/step - loss: 0.4056 - accuracy: 0.8084\n",
      "Epoch 14/15\n",
      "176/176 [==============================] - 0s 1ms/step - loss: 0.4051 - accuracy: 0.8075\n",
      "Epoch 15/15\n",
      "176/176 [==============================] - 0s 1ms/step - loss: 0.4042 - accuracy: 0.8087\n"
     ]
    },
    {
     "data": {
      "text/plain": [
       "<keras.src.callbacks.History at 0x20a8bc1a1c0>"
      ]
     },
     "execution_count": 226,
     "metadata": {},
     "output_type": "execute_result"
    }
   ],
   "source": [
    "model.fit(X_train, y_train, epochs=15, callbacks=[tb_callback])"
   ]
  },
  {
   "cell_type": "code",
   "execution_count": 213,
   "id": "c8d45299-30cb-4c47-8cbc-61d300552598",
   "metadata": {},
   "outputs": [
    {
     "name": "stdout",
     "output_type": "stream",
     "text": [
      "55/55 [==============================] - 0s 704us/step - loss: 0.4623 - accuracy: 0.7856\n"
     ]
    },
    {
     "data": {
      "text/plain": [
       "[0.4623105227947235, 0.7855517864227295]"
      ]
     },
     "execution_count": 213,
     "metadata": {},
     "output_type": "execute_result"
    }
   ],
   "source": [
    "# Model Testen.\n",
    "model.evaluate(X_test, y_test)"
   ]
  },
  {
   "cell_type": "code",
   "execution_count": 218,
   "id": "b1d90543-9ab1-429c-a8b2-15ad3ca5029e",
   "metadata": {},
   "outputs": [
    {
     "name": "stdout",
     "output_type": "stream",
     "text": [
      "44/44 [==============================] - 0s 605us/step\n"
     ]
    },
    {
     "data": {
      "text/plain": [
       "array([[0.11977867],\n",
       "       [0.1603721 ],\n",
       "       [0.00429565],\n",
       "       ...,\n",
       "       [0.5811807 ],\n",
       "       [0.49930185],\n",
       "       [0.42095348]], dtype=float32)"
      ]
     },
     "execution_count": 218,
     "metadata": {},
     "output_type": "execute_result"
    }
   ],
   "source": [
    "model.predict(X_test)"
   ]
  },
  {
   "cell_type": "code",
   "execution_count": 221,
   "id": "926766e8-60bb-46d0-a90c-1a424e62a457",
   "metadata": {},
   "outputs": [
    {
     "name": "stdout",
     "output_type": "stream",
     "text": [
      "44/44 [==============================] - 0s 651us/step\n"
     ]
    }
   ],
   "source": [
    "# Wandle zahlen in 1 und 0 um.\n",
    "# - In Python einfach umsetzbar. \n",
    "preds = [ 0 if x<0.5 else 1 for x in model.predict(X_test) ]"
   ]
  },
  {
   "cell_type": "markdown",
   "id": "fc0658db-8aa7-4589-8f6c-30fa86dd485e",
   "metadata": {},
   "source": [
    "Jetzt können wir eine Heat-Map erstellen wie sonst auch immer."
   ]
  },
  {
   "cell_type": "code",
   "execution_count": 227,
   "id": "af4ad98a-d558-4f80-8661-25a6bf5026b1",
   "metadata": {},
   "outputs": [
    {
     "data": {
      "text/plain": [
       "<tf.Tensor: shape=(2, 2), dtype=int32, numpy=\n",
       "array([[925, 109],\n",
       "       [184, 189]])>"
      ]
     },
     "execution_count": 227,
     "metadata": {},
     "output_type": "execute_result"
    }
   ],
   "source": [
    "tf.math.confusion_matrix(labels=y_test, predictions=preds)"
   ]
  },
  {
   "cell_type": "code",
   "execution_count": 230,
   "id": "055e124a-3079-4445-ad58-4e6252e9cea7",
   "metadata": {},
   "outputs": [
    {
     "data": {
      "text/plain": [
       "Text(33.22222222222222, 0.5, 'Truth')"
      ]
     },
     "execution_count": 230,
     "metadata": {},
     "output_type": "execute_result"
    },
    {
     "data": {
      "image/png": "[encoded data removed]",
      "text/plain": [
       "<Figure size 500x500 with 2 Axes>"
      ]
     },
     "metadata": {},
     "output_type": "display_data"
    }
   ],
   "source": [
    "# Mit Matplotlib und Seaborn visualisieren.\n",
    "# - Hier ohne Klassennamen.\n",
    "heatmap = tf.math.confusion_matrix(labels=y_test, predictions=preds)\n",
    "plt.figure(figsize=(5, 5))\n",
    "sn.heatmap(heatmap, annot=True)\n",
    "plt.title(\"Heat-Map\")\n",
    "plt.xlabel(\"Pred.\")\n",
    "plt.ylabel(\"Truth\")"
   ]
  }
 ],
 "metadata": {
  "kernelspec": {
   "display_name": "Python 3 (ipykernel)",
   "language": "python",
   "name": "python3"
  },
  "language_info": {
   "codemirror_mode": {
    "name": "ipython",
    "version": 3
   },
   "file_extension": ".py",
   "mimetype": "text/x-python",
   "name": "python",
   "nbconvert_exporter": "python",
   "pygments_lexer": "ipython3",
   "version": "3.9.19"
  }
 },
 "nbformat": 4,
 "nbformat_minor": 5
}
