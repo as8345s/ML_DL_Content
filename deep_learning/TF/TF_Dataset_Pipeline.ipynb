{
 "cells": [
  {
   "cell_type": "markdown",
   "id": "a1599fa2-58e3-4d56-9a64-02a5faa2da47",
   "metadata": {},
   "source": [
    "<h1>Tensorflow Datasets und Pipeline</h1>"
   ]
  },
  {
   "cell_type": "markdown",
   "id": "ae1c4974-ea0b-4743-a226-756c1f192e5c",
   "metadata": {},
   "source": [
    "\n",
    "\n",
    "\n",
    "Siehe: https://www.tensorflow.org/guide/data [Letzter Zugriff: 19.06.2024]"
   ]
  },
  {
   "cell_type": "code",
   "execution_count": null,
   "id": "9ba5bac9-36ab-4f96-b1c7-14250d02a091",
   "metadata": {},
   "outputs": [],
   "source": []
  },
  {
   "cell_type": "code",
   "execution_count": null,
   "id": "5525a71e-a489-481f-9ad7-bfb70d982ab4",
   "metadata": {},
   "outputs": [],
   "source": [
    "# // Content Coming"
   ]
  },
  {
   "cell_type": "markdown",
   "id": "c8482dcb-d57a-4b32-a1f0-cd9ef3a39d55",
   "metadata": {},
   "source": [
    "Mit den Datasets von Tensorflow sind einige Dinge möglich, hier werden die Einzelheiten gezeigt."
   ]
  },
  {
   "cell_type": "code",
   "execution_count": 3,
   "id": "0f737b1c-6498-4a27-a9cd-befd342925d4",
   "metadata": {},
   "outputs": [],
   "source": [
    "import tensorflow as tf\n",
    "import numpy as np"
   ]
  },
  {
   "cell_type": "markdown",
   "id": "68d4767f-6380-4ba3-8b97-8e6af142f5b5",
   "metadata": {},
   "source": [
    "Die Dataset Struktur von Tensorflow bietet viele Möglichkeiten für ETL. "
   ]
  },
  {
   "cell_type": "code",
   "execution_count": 28,
   "id": "aa1797cd-953e-4f49-9512-668727fa5bca",
   "metadata": {},
   "outputs": [
    {
     "data": {
      "text/plain": [
       "array([ 0,  1,  2,  3,  4,  5,  6,  7,  8,  9, 10, 11, 12, 13, 14, 15, 16,\n",
       "       17, 18, 19])"
      ]
     },
     "execution_count": 28,
     "metadata": {},
     "output_type": "execute_result"
    }
   ],
   "source": [
    "# Dataset:\n",
    "data = np.array(range(20))\n",
    "data"
   ]
  },
  {
   "cell_type": "code",
   "execution_count": 29,
   "id": "c6b824db-7eb5-4629-83ea-a918eca88c88",
   "metadata": {},
   "outputs": [
    {
     "data": {
      "text/plain": [
       "array([  0,   1,   2,   3,   4,   5,   6,   7,   8,   9,  10,  11,  12,\n",
       "        13,  14,  15,  16,  17,  18,  19, -10, -50, 200, 400])"
      ]
     },
     "execution_count": 29,
     "metadata": {},
     "output_type": "execute_result"
    }
   ],
   "source": [
    "# Füge Dataset negative  und große Werte hinzu. \n",
    "data = np.append(data, [-10, -50, 200, 400])\n",
    "data"
   ]
  },
  {
   "cell_type": "code",
   "execution_count": 30,
   "id": "fea7ff2e-8048-40c5-baec-f83a566d0e45",
   "metadata": {},
   "outputs": [
    {
     "data": {
      "text/plain": [
       "<_TensorSliceDataset element_spec=TensorSpec(shape=(), dtype=tf.int32, name=None)>"
      ]
     },
     "execution_count": 30,
     "metadata": {},
     "output_type": "execute_result"
    }
   ],
   "source": [
    "# TF Dataset.:\n",
    "tf_dataset = tf.data.Dataset.from_tensor_slices(data)\n",
    "tf_dataset"
   ]
  },
  {
   "cell_type": "markdown",
   "id": "d0043858-697a-442a-adbd-5069e9c6c085",
   "metadata": {},
   "source": [
    "Durch dieses Dataset kann jetzt iteriert werden. <br>\n",
    "Um wieder eine Zahl als Numpy zu bekommen, wird die Methode .numpy() angewendet.\n",
    "\n",
    "Durch das einfache Iterieren kann man sich schnell die Daten anschauen."
   ]
  },
  {
   "cell_type": "code",
   "execution_count": 23,
   "id": "7d69f805-e85c-42f6-b1f4-5479b1718cb9",
   "metadata": {
    "scrolled": true
   },
   "outputs": [
    {
     "name": "stdout",
     "output_type": "stream",
     "text": [
      "0\n",
      "1\n",
      "2\n",
      "3\n",
      "4\n",
      "5\n",
      "6\n",
      "7\n",
      "8\n",
      "9\n",
      "10\n",
      "11\n",
      "12\n",
      "13\n",
      "14\n",
      "15\n",
      "16\n",
      "17\n",
      "18\n",
      "19\n",
      "-10\n",
      "-50\n",
      "-10\n",
      "-50\n",
      "200\n",
      "400\n"
     ]
    }
   ],
   "source": [
    "for i in tf_dataset:\n",
    "    #print(i)  # Ausgabe: tf.Tensor(0, shape=(), dtype=int32), ...\n",
    "    print(i.numpy())  # Ausgabe: 0, ...\n",
    "\n",
    "    # Oder direkt als Numpy mit: tf_dataset.as_numpy_iterator()\n",
    "\n",
    "    # Oder nehme nur die ersten 5  mit tf_dataset.take(5):\n",
    "    "
   ]
  },
  {
   "cell_type": "markdown",
   "id": "fae95375-52b8-4a88-8f30-b8b116cbb831",
   "metadata": {},
   "source": [
    "Ein Dataset kann durch ein Lambda oder eine separate Funktion gefiltert werden. "
   ]
  },
  {
   "cell_type": "code",
   "execution_count": 73,
   "id": "1d922bdd-72f3-4ba9-b522-272d510109d2",
   "metadata": {},
   "outputs": [],
   "source": [
    "def print_dataset(dataset):\n",
    "    for i in dataset.as_numpy_iterator():\n",
    "        print(i)\n",
    "\n",
    "def do_op(x):\n",
    "    return x*3"
   ]
  },
  {
   "cell_type": "code",
   "execution_count": 43,
   "id": "d5a400e3-0169-4632-9bc6-c865542e0ba7",
   "metadata": {},
   "outputs": [],
   "source": [
    "# Lambda:\n",
    "tf_dataset = tf_dataset.filter(lambda x: ( (x>0) & (x<70) ))"
   ]
  },
  {
   "cell_type": "code",
   "execution_count": 44,
   "id": "8ef16bec-b766-4810-ad12-2adb7f04c188",
   "metadata": {
    "scrolled": true
   },
   "outputs": [
    {
     "name": "stdout",
     "output_type": "stream",
     "text": [
      "1\n",
      "2\n",
      "3\n",
      "4\n",
      "5\n",
      "6\n",
      "7\n",
      "8\n",
      "9\n",
      "10\n",
      "11\n",
      "12\n",
      "13\n",
      "14\n",
      "15\n",
      "16\n",
      "17\n",
      "18\n",
      "19\n"
     ]
    }
   ],
   "source": [
    "print_dataset(tf_dataset)"
   ]
  },
  {
   "cell_type": "code",
   "execution_count": 76,
   "id": "514918bf-ac31-461c-95e0-a44ea9865bb9",
   "metadata": {},
   "outputs": [],
   "source": [
    "# Wende weitere Operation an.\n",
    "tf_dataset  = tf_dataset.filter(lambda x:  x>9)\n",
    "tf_dataset2 = tf_dataset.map(lambda x: x*2)\n",
    "tf_dataset3 = tf_dataset.map(do_op)  # Mit Funktion. "
   ]
  },
  {
   "cell_type": "code",
   "execution_count": 72,
   "id": "34548145-d569-47a2-b10d-4c9ff67997e4",
   "metadata": {},
   "outputs": [
    {
     "name": "stdout",
     "output_type": "stream",
     "text": [
      "20\n",
      "22\n",
      "24\n",
      "26\n",
      "28\n",
      "30\n",
      "32\n",
      "34\n",
      "36\n",
      "38\n"
     ]
    }
   ],
   "source": [
    "print_dataset(tf_dataset2)"
   ]
  },
  {
   "cell_type": "markdown",
   "id": "2bf9ab62-42b0-4c07-b759-ea7a429cd1e5",
   "metadata": {},
   "source": [
    "Die Daten können auch gemischt werden."
   ]
  },
  {
   "cell_type": "code",
   "execution_count": null,
   "id": "99fd3c4a-d0c1-4089-82c7-86503e35773c",
   "metadata": {},
   "outputs": [],
   "source": [
    "tf_dataset2.shuffle"
   ]
  },
  {
   "cell_type": "code",
   "execution_count": null,
   "id": "f57d067b-94c5-42ae-b7ea-2c1de02a4847",
   "metadata": {},
   "outputs": [],
   "source": []
  },
  {
   "cell_type": "code",
   "execution_count": null,
   "id": "79a36c56-81fa-4a57-91c1-9079411932f3",
   "metadata": {},
   "outputs": [],
   "source": []
  },
  {
   "cell_type": "code",
   "execution_count": null,
   "id": "28586619-5c5b-4657-94e5-0f7fd2798114",
   "metadata": {},
   "outputs": [],
   "source": []
  },
  {
   "cell_type": "code",
   "execution_count": null,
   "id": "9fd36752-fb32-4597-b663-47081c4c6a2b",
   "metadata": {},
   "outputs": [],
   "source": []
  },
  {
   "cell_type": "code",
   "execution_count": null,
   "id": "83f5e6b0-439b-408d-8fb1-ca625f4a3db8",
   "metadata": {},
   "outputs": [],
   "source": []
  },
  {
   "cell_type": "code",
   "execution_count": null,
   "id": "5a32b8ae-fc8e-4254-b185-2d7f596b9538",
   "metadata": {},
   "outputs": [],
   "source": []
  }
 ],
 "metadata": {
  "kernelspec": {
   "display_name": "Python 3 (ipykernel)",
   "language": "python",
   "name": "python3"
  },
  "language_info": {
   "codemirror_mode": {
    "name": "ipython",
    "version": 3
   },
   "file_extension": ".py",
   "mimetype": "text/x-python",
   "name": "python",
   "nbconvert_exporter": "python",
   "pygments_lexer": "ipython3",
   "version": "3.9.19"
  }
 },
 "nbformat": 4,
 "nbformat_minor": 5
}
