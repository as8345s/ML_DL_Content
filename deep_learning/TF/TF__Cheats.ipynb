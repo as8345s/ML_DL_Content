{
 "cells": [
  {
   "cell_type": "markdown",
   "id": "f181cca5-76e2-44db-a679-b1b4ad41a997",
   "metadata": {},
   "source": [
    "<h1>Tensorflow Cheats</h1>"
   ]
  },
  {
   "cell_type": "markdown",
   "id": "f53119e4-0c65-4363-909b-319a517b59ce",
   "metadata": {},
   "source": [
    "Eine Sammlung von Funktionen und Methoden, die einen kurzen Überblick geben über Funktion und Nutzen.\n",
    "\n",
    "Die Sammlung wird weiter vervollständigt. "
   ]
  },
  {
   "cell_type": "code",
   "execution_count": null,
   "id": "01cabdd9-84d5-488b-967b-0ccf139dcb53",
   "metadata": {},
   "outputs": [],
   "source": []
  },
  {
   "cell_type": "code",
   "execution_count": null,
   "id": "5823f740-57e3-4f16-88bd-7c461a16e82b",
   "metadata": {},
   "outputs": [],
   "source": []
  },
  {
   "cell_type": "code",
   "execution_count": null,
   "id": "6533f320-c922-4f94-b653-c855cd61092e",
   "metadata": {},
   "outputs": [],
   "source": []
  },
  {
   "cell_type": "code",
   "execution_count": null,
   "id": "19f868e7-649a-4db4-8b48-2df5eeb306f0",
   "metadata": {},
   "outputs": [],
   "source": []
  },
  {
   "cell_type": "code",
   "execution_count": null,
   "id": "96c141fb-576c-43a5-b23d-56e64a117d83",
   "metadata": {},
   "outputs": [],
   "source": []
  },
  {
   "cell_type": "code",
   "execution_count": null,
   "id": "9061751b-bede-4269-bb0f-458ee3a01816",
   "metadata": {},
   "outputs": [],
   "source": []
  },
  {
   "cell_type": "raw",
   "id": "9a7d77c2-9eb9-4f19-b33a-a85a66022b40",
   "metadata": {},
   "source": [
    "## TF erstelle Sequentielles  Model ## \n",
    "# - ANN - # \n",
    "\n",
    "model = tf.keras.Sequential([\n",
    "    tf.keras.layers.Dense(units=15, input_shape=(23,), activation='relu' ),  # L1: Input Neuronen,  + L2: Dense. Input: [ [size 23], [...] ]\n",
    "    tf.keras.layers.Dense(10, activation='relu'),   # L3: Dense. 10 Neuronen. \n",
    "    tf.keras.layers.Dense(1, activation='sigmoid')  # L4: Dense. 1 Neuron. \n",
    "])\n",
    "\n",
    "tb_callback = tf.keras.callbacks.TensorBoard(log_dir=\"logs/churn_ann/relu_base\", histogram_freq=1)  # Erstelle Callback für Tensorboard.\n",
    "\n",
    "model.compile(\n",
    "    optimizer= 'adam',  # Wähle Gradientenabstieg.\n",
    "    loss     = 'binary_crossentropy',  # Wähle Kostenfunktion. \n",
    "    metrics  = ['accuracy'])  "
   ]
  },
  {
   "cell_type": "code",
   "execution_count": null,
   "id": "1d9ca7cd-fd15-491c-acd9-496cae26e3a2",
   "metadata": {},
   "outputs": [],
   "source": []
  },
  {
   "cell_type": "raw",
   "id": "60773ebb-f4e7-4648-be43-7cfe6e5f18d7",
   "metadata": {},
   "source": [
    "## TF erstelle Sequentielles  Model ## \n",
    "# - CNN - # \n",
    "\n",
    "model = tf.keras.Sequential([\n",
    "    # Faltungsnetz. \n",
    "    # filters: Filteranzahl, padding: Padding typ: same/valid. kernel_size: Filtergröße. Pooling: reduziere Größe, gebe Fenstergröße an. \n",
    "    tf.keras.layers.Conv2D(filters=30, padding='same', kernel_size=(3,3), activation='relu'),\n",
    "    tf.keras.layers.MaxPooling2D((2,2)),\n",
    "    tf.keras.layers.Conv2D(filters=40, padding='same', kernel_size=(3,3), activation='relu'),\n",
    "    tf.keras.layers.MaxPooling2D((2,2)),\n",
    "    tf.keras.layers.Conv2D(filters=50, padding='same', kernel_size=(3,3), activation='relu'),\n",
    "    tf.keras.layers.MaxPooling2D((2,2)),\n",
    "    # ANN Dense.\n",
    "    tf.keras.layers.Flatten(),\n",
    "    tf.keras.layers.Dense(64, activation='relu'),\n",
    "    tf.keras.layers.Dense(5)  \n",
    "])"
   ]
  },
  {
   "cell_type": "code",
   "execution_count": null,
   "id": "7731df11-20aa-40d5-b47d-1d59c7a74aa9",
   "metadata": {},
   "outputs": [],
   "source": []
  },
  {
   "cell_type": "raw",
   "id": "7102e989-47b3-4977-9e75-e1b817055935",
   "metadata": {},
   "source": [
    "# Kostenfunktionen.\n",
    "\n",
    "binary_crossentropy: Für binäre Klassifikation.\n",
    "MeanSquaredError: z. B. für Regression. \n",
    "categorical_crossentropy:        2 oder mehr Klassen. On-Hot Encode. \n",
    "sparse_categorical_crossentropy: 2 oder mehr Klassen. Labels als int [1, 2, 3, ...]  und nicht On-Hot Encode"
   ]
  },
  {
   "cell_type": "code",
   "execution_count": null,
   "id": "dedc8ff8-ff95-4228-be03-011689b1b46b",
   "metadata": {},
   "outputs": [],
   "source": []
  },
  {
   "cell_type": "code",
   "execution_count": null,
   "id": "3ab70ad2-fc56-436a-bd9d-c7c9934b012f",
   "metadata": {},
   "outputs": [],
   "source": []
  }
 ],
 "metadata": {
  "kernelspec": {
   "display_name": "Python 3 (ipykernel)",
   "language": "python",
   "name": "python3"
  },
  "language_info": {
   "codemirror_mode": {
    "name": "ipython",
    "version": 3
   },
   "file_extension": ".py",
   "mimetype": "text/x-python",
   "name": "python",
   "nbconvert_exporter": "python",
   "pygments_lexer": "ipython3",
   "version": "3.9.19"
  }
 },
 "nbformat": 4,
 "nbformat_minor": 5
}
