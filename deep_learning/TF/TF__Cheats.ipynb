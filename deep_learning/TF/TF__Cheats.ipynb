{
 "cells": [
  {
   "cell_type": "markdown",
   "id": "f181cca5-76e2-44db-a679-b1b4ad41a997",
   "metadata": {},
   "source": [
    "<h1>Tensorflow Cheats</h1>"
   ]
  },
  {
   "cell_type": "markdown",
   "id": "f53119e4-0c65-4363-909b-319a517b59ce",
   "metadata": {},
   "source": [
    "Eine Sammlung von Funktionen und Methoden, die einen kurzen Überblick geben über Funktion und Nutzen.\n",
    "\n",
    "Die Sammlung wird weiter vervollständigt. "
   ]
  },
  {
   "cell_type": "code",
   "execution_count": null,
   "id": "01cabdd9-84d5-488b-967b-0ccf139dcb53",
   "metadata": {},
   "outputs": [],
   "source": []
  },
  {
   "cell_type": "code",
   "execution_count": null,
   "id": "5823f740-57e3-4f16-88bd-7c461a16e82b",
   "metadata": {},
   "outputs": [],
   "source": []
  },
  {
   "cell_type": "code",
   "execution_count": null,
   "id": "6533f320-c922-4f94-b653-c855cd61092e",
   "metadata": {},
   "outputs": [],
   "source": []
  },
  {
   "cell_type": "code",
   "execution_count": null,
   "id": "19f868e7-649a-4db4-8b48-2df5eeb306f0",
   "metadata": {},
   "outputs": [],
   "source": []
  },
  {
   "cell_type": "code",
   "execution_count": null,
   "id": "96c141fb-576c-43a5-b23d-56e64a117d83",
   "metadata": {},
   "outputs": [],
   "source": []
  },
  {
   "cell_type": "code",
   "execution_count": null,
   "id": "9061751b-bede-4269-bb0f-458ee3a01816",
   "metadata": {},
   "outputs": [],
   "source": []
  },
  {
   "cell_type": "raw",
   "id": "9a7d77c2-9eb9-4f19-b33a-a85a66022b40",
   "metadata": {},
   "source": [
    "## TF erstelle Sequentielles  Model ## \n",
    "# - ANN - # \n",
    "\n",
    "model = tf.keras.Sequential([\n",
    "    tf.keras.layers.Dense(units=15, input_shape=(23,), activation='relu' ),  # L1: Input Neuronen,  + L2: Dense. Input: [ [size 23], [...] ]\n",
    "    tf.keras.layers.Dense(10, activation='relu'),   # L3: Dense. 10 Neuronen. \n",
    "    tf.keras.layers.Dense(1, activation='sigmoid')  # L4: Dense. 1 Neuron. \n",
    "])\n",
    "\n",
    "tb_callback = tf.keras.callbacks.TensorBoard(log_dir=\"logs/churn_ann/relu_base\", histogram_freq=1)  # Erstelle Callback für Tensorboard.\n",
    "\n",
    "model.compile(\n",
    "    optimizer= 'adam',  # Wähle Gradientenabstieg.\n",
    "    loss     = 'binary_crossentropy',  # Wähle Kostenfunktion. \n",
    "    metrics  = ['accuracy'])  "
   ]
  },
  {
   "cell_type": "code",
   "execution_count": null,
   "id": "1d9ca7cd-fd15-491c-acd9-496cae26e3a2",
   "metadata": {},
   "outputs": [],
   "source": []
  },
  {
   "cell_type": "raw",
   "id": "60773ebb-f4e7-4648-be43-7cfe6e5f18d7",
   "metadata": {},
   "source": [
    "## TF erstelle Sequentielles  Model ## \n",
    "# - CNN - # \n",
    "\n",
    "model = tf.keras.Sequential([\n",
    "    # Faltungsnetz. \n",
    "    # filters: Filteranzahl, padding: Padding typ: same/valid. kernel_size: Filtergröße. Pooling: reduziere Größe, gebe Fenstergröße an. \n",
    "    tf.keras.layers.Conv2D(filters=30, padding='same', kernel_size=(3,3), activation='relu'),\n",
    "    tf.keras.layers.MaxPooling2D((2,2)),\n",
    "    tf.keras.layers.Conv2D(filters=40, padding='same', kernel_size=(3,3), activation='relu'),\n",
    "    tf.keras.layers.MaxPooling2D((2,2)),\n",
    "    tf.keras.layers.Conv2D(filters=50, padding='same', kernel_size=(3,3), activation='relu'),\n",
    "    tf.keras.layers.MaxPooling2D((2,2)),\n",
    "    # ANN Dense.\n",
    "    tf.keras.layers.Flatten(),\n",
    "    tf.keras.layers.Dense(64, activation='relu'),\n",
    "    tf.keras.layers.Dense(5)  \n",
    "])\n",
    "\n",
    "Ggf. reshape(-1, x, x, 1) anwenden, um Dimension anzupassen. => (batch_size, height, width, channels)"
   ]
  },
  {
   "cell_type": "code",
   "execution_count": null,
   "id": "7731df11-20aa-40d5-b47d-1d59c7a74aa9",
   "metadata": {},
   "outputs": [],
   "source": []
  },
  {
   "cell_type": "raw",
   "id": "7102e989-47b3-4977-9e75-e1b817055935",
   "metadata": {},
   "source": [
    "# Kostenfunktionen.\n",
    "\n",
    "binary_crossentropy: Für binäre Klassifikation.\n",
    "MeanSquaredError: z. B. für Regression. \n",
    "categorical_crossentropy:        2 oder mehr Klassen. On-Hot Encode.  [0, 0, 1, 0, 0, ...]\n",
    "sparse_categorical_crossentropy: 2 oder mehr Klassen. Labels als int [1, 2, 3, ...]  und nicht On-Hot Encode. "
   ]
  },
  {
   "cell_type": "raw",
   "id": "0ee75112-5fa6-4772-a3f4-8c4b1f03452f",
   "metadata": {},
   "source": [
    "# Gebe Weights und Bias aus. \n",
    "coef, b = model.get_layer('L1a2').get_weights()"
   ]
  },
  {
   "cell_type": "code",
   "execution_count": null,
   "id": "3ab70ad2-fc56-436a-bd9d-c7c9934b012f",
   "metadata": {},
   "outputs": [],
   "source": []
  },
  {
   "cell_type": "raw",
   "id": "2e5465d1-d098-4e5d-9922-0ca63ede93ed",
   "metadata": {},
   "source": [
    "# CNN Input Shape  32x32 Channels 3\n",
    "model_cnn = tf.keras.Sequential([\n",
    "    tf.keras.layers.Input(shape=(32,32,3)),\n",
    "    tf.keras.layers.Conv2D(filters=16, kernel_size=(3,3), strides=(1,1), activation=\"relu\", padding=\"same\"),\n",
    "...."
   ]
  },
  {
   "cell_type": "code",
   "execution_count": null,
   "id": "73b658f7-266f-4efb-a84c-83b49d6799ac",
   "metadata": {},
   "outputs": [],
   "source": []
  },
  {
   "cell_type": "raw",
   "id": "b67395f6-7fc1-4833-a533-add168a053d5",
   "metadata": {},
   "source": [
    "# Plote Ergebnisse #\n",
    "fig, axs = plt.subplots(1,2, figsize=(15, 6))\n",
    "fig.suptitle(\"Vergleich Loss und Genauigkeit\")\n",
    "axs = axs.ravel()\n",
    "\n",
    "axs[0].set_title(\"Loss\")\n",
    "axs[0].plot(history_cnn.history[\"loss\"],      label=\"Base CNN\")\n",
    "axs[0].plot(history_cnn_rnn.history[\"loss\"],  label=\"Simple RNN\")\n",
    "axs[0].plot(history_cnn_lstm.history[\"loss\"], label=\"LSTM\")\n",
    "axs[0].plot(history_cnn_gru.history[\"loss\"],  label=\"GRU\")\n",
    "axs[0].legend()\n",
    "\n",
    "axs[1].set_title(\"Genauigkeit\")\n",
    "axs[1].plot(history_cnn.history[\"accuracy\"],      label=\"Base CNN\")\n",
    "axs[1].plot(history_cnn_rnn.history[\"accuracy\"],  label=\"Simple RNN\")\n",
    "axs[1].plot(history_cnn_lstm.history[\"accuracy\"], label=\"LSTM\")\n",
    "axs[1].plot(history_cnn_gru.history[\"accuracy\"],  label=\"GRU\")\n",
    "axs[1].legend()"
   ]
  },
  {
   "cell_type": "code",
   "execution_count": null,
   "id": "c2f2464b-54de-4013-a08f-4aecc0e89e5b",
   "metadata": {},
   "outputs": [],
   "source": []
  },
  {
   "cell_type": "raw",
   "id": "a12f64e0-6bca-46b3-a867-b887b97a9a7b",
   "metadata": {},
   "source": [
    "# Extrahiere Lables aus Dataset. \n",
    "y_true = tf.concat(list(test_ds_spec.map(lambda s,lab: lab)), axis=0)"
   ]
  },
  {
   "cell_type": "code",
   "execution_count": null,
   "id": "3e481d18-7eaf-4240-8de1-9d014cbb1be1",
   "metadata": {},
   "outputs": [],
   "source": []
  },
  {
   "cell_type": "raw",
   "id": "e6ae7ad7-0997-4f24-8ad1-c41c4ca3b262",
   "metadata": {},
   "source": [
    "# \n",
    "pred = [0 if x<0.5 else 1  for x in  model.predict(X_test)]"
   ]
  },
  {
   "cell_type": "code",
   "execution_count": null,
   "id": "dd78ff3d-90ca-471a-8df0-516a882ec106",
   "metadata": {},
   "outputs": [],
   "source": []
  },
  {
   "cell_type": "raw",
   "id": "1b49ecf9-9cdf-4946-a49e-3895e24957f9",
   "metadata": {},
   "source": [
    "# Netz was man bei Audio nutzen könnte # \n",
    "\n",
    "input_shape = example_spectrograms.shape[1:]\n",
    "num_labels  = len(label_names)\n",
    "\n",
    "norm_layer = tf.keras.layers.Normalization()\n",
    "norm_layer.adapt(data=train_ds_spec.map(map_func=lambda spec, label: spec))\n",
    "\n",
    "sound_model = tf.keras.Sequential([\n",
    "    \n",
    "    #tf.keras.layers.Input(shape=(124, 129, 1)),\n",
    "\n",
    "\n",
    "    \"\"\" CNN oder RNN oder Beides.\n",
    "    - Achte auf Anzahl der Layers für das Endergebnis usw. \n",
    "\n",
    "    tf.keras.layers.Conv2D(filters=32, kernel_size=(3,3), activation=\"relu\"),\n",
    "    tf.keras.layers.MaxPooling2D(pool_size=(2, 2)), \n",
    "    tf.keras.layers.Conv2D(filters=64, kernel_size=(3,3), activation=\"relu\"),\n",
    "    tf.keras.layers.MaxPooling2D(pool_size=(2, 2)), \n",
    "    tf.keras.layers.Conv2D(filters=128, kernel_size=(3,3), activation=\"relu\"),\n",
    "    tf.keras.layers.MaxPooling2D(pool_size=(2, 2)), \n",
    "    \"\"\"\n",
    "   \n",
    "    norm_layer,\n",
    "    tf.keras.layers.Reshape((124, 129 )),\n",
    "    tf.keras.layers.LSTM(64, return_sequences=True),\n",
    "    tf.keras.layers.LSTM(128, return_sequences=False),\n",
    "\n",
    "    tf.keras.layers.Dense(64, activation=\"relu\"),\n",
    "    tf.keras.layers.Dropout(0.1),\n",
    "    tf.keras.layers.Dense(num_labels, activation=\"softmax\")\n",
    "])\n",
    "\n",
    "tb_callback = tf.keras.callbacks.TensorBoard(log_dir=\"logs/sound_realtime/sound_model\", histogram_freq=1)\n",
    "\n",
    "sound_model.compile(\n",
    "    optimizer=\"adam\",\n",
    "    loss     = tf.keras.losses.SparseCategoricalCrossentropy,\n",
    "    metrics  = [\"accuracy\"]\n",
    ")"
   ]
  },
  {
   "cell_type": "code",
   "execution_count": null,
   "id": "33d8bbdc-ae2b-4bfb-8f0e-f88db6f1c45a",
   "metadata": {},
   "outputs": [],
   "source": []
  },
  {
   "cell_type": "code",
   "execution_count": null,
   "id": "72711344-ce35-4621-8f11-9c2c4f393f7a",
   "metadata": {},
   "outputs": [],
   "source": []
  },
  {
   "cell_type": "code",
   "execution_count": null,
   "id": "c96ab1f2-8ceb-477d-81d4-6df08c4cf0e6",
   "metadata": {},
   "outputs": [],
   "source": []
  },
  {
   "cell_type": "code",
   "execution_count": null,
   "id": "88b7de40-e159-44e4-9d3a-ec2cbe4ec085",
   "metadata": {},
   "outputs": [],
   "source": []
  },
  {
   "cell_type": "code",
   "execution_count": null,
   "id": "103ee31a-93b5-4351-944c-ac90a1616754",
   "metadata": {},
   "outputs": [],
   "source": []
  },
  {
   "cell_type": "code",
   "execution_count": null,
   "id": "3430b683-fa70-4d43-9a4c-51f9f62bcecb",
   "metadata": {},
   "outputs": [],
   "source": []
  },
  {
   "cell_type": "code",
   "execution_count": null,
   "id": "9605aef0-2def-47a1-a7f2-0010dc49fbcc",
   "metadata": {},
   "outputs": [],
   "source": []
  }
 ],
 "metadata": {
  "kernelspec": {
   "display_name": "Python 3 (ipykernel)",
   "language": "python",
   "name": "python3"
  },
  "language_info": {
   "codemirror_mode": {
    "name": "ipython",
    "version": 3
   },
   "file_extension": ".py",
   "mimetype": "text/x-python",
   "name": "python",
   "nbconvert_exporter": "python",
   "pygments_lexer": "ipython3",
   "version": "3.9.19"
  }
 },
 "nbformat": 4,
 "nbformat_minor": 5
}
