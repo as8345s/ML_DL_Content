{
 "cells": [
  {
   "cell_type": "markdown",
   "id": "173dff46-1160-4156-9a77-36e37d97af3d",
   "metadata": {},
   "source": [
    "<h1>Aktivierungsfunktionen in neuralen Netzen</h1>"
   ]
  },
  {
   "cell_type": "markdown",
   "id": "04b11e7c-77c9-46f8-bb51-52fc08fab379",
   "metadata": {},
   "source": [
    "Aktivierungsfunktionen sind kleinere Funktionen, die ein Neuron hat, die einen Output generieren.\n",
    "\n",
    "Jeder Neuron hat zu Beginn zufällig initialisierte Weights (Gewichte). Das Ziel ist es, diese Weights so anzupassen, dass der Fehler, der am Ende berechnet wird (Loss, total Error) minimal wird. Dieser Vorgang ist das Training."
   ]
  },
  {
   "cell_type": "markdown",
   "id": "23938dcf-af42-4847-8c43-df6f6dbdf4ab",
   "metadata": {},
   "source": [
    "<i>Abb1</i>: Eingabe der Features in ein einziges Neuron. Jedes Neuron hat 2 Komponente.\n",
    "\n",
    "<img src=\"./img/nn_1.PNG\" width=600 hight=400>"
   ]
  },
  {
   "cell_type": "markdown",
   "id": "0cebee82-47b3-4c6f-bda1-204c577f09c5",
   "metadata": {},
   "source": [
    "Die Funktion wandeln das Ergebnis der Summe in eine andere Zahl um, wie z. B. die Zahl 50 in 0,5.\n",
    "\n",
    "Mit einer Sigmoidfunktion am Ende des Netzes können die Zahlen in den Bereich von 0 bis 1 umgewandelt werden. Dadurch eine es viel einfacher eine Entscheidung zu treffen, wenn alles über 0,5 als Positiv gewertet wird => Neuron ist aktiviert. \n",
    "\n",
    "Kleinere Zahlen sind besser für ein Netzwerk geeignet als sehr große Zahlen. \n",
    "\n",
    "Es gibt viele dieser Funktionen, die unterschiedliche Aufgabe haben. Eine Funktion, die linear ist, gibt den Output so weiter wie dieser angekommen ist, mit anderen Worten, genau das Ergebnis der Summe.\n",
    "\n",
    "Die Berechnung der linearen Outputs ist weit weniger aufwendig als bei den andere Funktion, wo verschiedene mathematische Operationen ausgeführt werden müssen. Frameworks wie PyTorch, Tensorflow, usw. haben diese Algorithmen effizient passend zur Hardware implementiert, oder nutzen speziele Libraries wo dies schon erledigt wurde. Die Berechnungen müssen sehr effizient laufen, da es sehr viele Neuronen und Layers in einem Netzwerk gibt. Eine langsame Berechnung verlängert das Training.  \n",
    "In C++ könnte man z. B. Intrinsics nutzen, um effizient die Vektorisierung der CPU zu verwenden.\n",
    "\n",
    "Daher ist es wichtig zu verstehen, welche Auswirkungen verschiedenen Funktionen haben, und welche Funktionen wo besser eingesetzt werden sollten. Ohne die Aktivierungsfunktion kann die Gleichung als einfache lineare Funktion dargestellt werden. Komplexere Probleme können aber nicht einfach linear gelöst werden."
   ]
  },
  {
   "cell_type": "markdown",
   "id": "cb0ebd4f-5d2e-4e6e-ada2-67ba43938241",
   "metadata": {},
   "source": [
    "<i>Abb2</i>: Einfaches neurales Netz.\n",
    "\n",
    "<img src=\"./img/nn_3.PNG\" width=600 hight=400>"
   ]
  },
  {
   "cell_type": "markdown",
   "id": "3b04e7bb-3f44-4ae5-b432-49122f0bc40c",
   "metadata": {},
   "source": [
    "Die Weights eines Model beeinflussen wie stark sich ein kommender Wert eines Neurons oder Inputs auf das Ergebnis der Summe auswirkt. Mit der Veränderung der Gewichte ändert sich auch das Ergebnis, und damit hoffentlich der Gesamtfehler am Ende, der minimiert werden soll.\n",
    "\n",
    "Verschiedene Funktionen haben auch unterschiedlichen Umgang mit Outlier. "
   ]
  },
  {
   "cell_type": "markdown",
   "id": "aac8113b-c90e-451c-9869-89be66928b99",
   "metadata": {},
   "source": [
    "<i>Abb3</i>: Grobes Beispiel wie eine Funktion Datenpunkte abdeckt.\n",
    "\n",
    "<img src=\"./img/nn_2.PNG\" width=600 hight=400>"
   ]
  },
  {
   "cell_type": "markdown",
   "id": "0af26b11-e81a-4a69-89fc-d77e2519c590",
   "metadata": {},
   "source": [
    "Ein anderes Beispiel wäre, wenn der Output eines Netzes fünf Neuronen für die Klassifizierung hat, kann eine falsch angewendete Aktivierungsfunktion dafür sorgen, dass der Output genau 1 oder 0 ist. \n",
    "\n",
    "Bei einer Klassifizierung wäre es besser einen Bereich zwischen 0 und 1 Anzugeben (wie 0,3, 0,567, oder 0,81), wo der höchste Wert z. B. 0,91 als positiv gewertet wird. "
   ]
  },
  {
   "cell_type": "markdown",
   "id": "3a75f8a1-aeaa-4ce6-a980-1340d2fa644d",
   "metadata": {},
   "source": [
    "<i>Abb4</i>: Auswahl der falschen Aktivierungsfunktion sorgt dafür, das der Output entweder 1 oder 0 ist.\n",
    "\n",
    "<img src=\"./img/nn_4.PNG\" width=600 hight=400>"
   ]
  },
  {
   "cell_type": "markdown",
   "id": "e08a12ce-3ac0-46f4-906b-778d16c69cd9",
   "metadata": {},
   "source": [
    "Ein andere sehr wichtiger Punkt ist: Eine ausgewählte Funktion kann bei bestimmten Eingaben ein Problem mit sich bringen. <bR>\n",
    "(Es gibt viele interessante Artikel darüber)\n",
    "- Vanishing-Gradient\n",
    "- Exploding-Gradient"
   ]
  },
  {
   "cell_type": "markdown",
   "id": "7ea16b64-150e-4882-b351-b98cb0f49c10",
   "metadata": {},
   "source": [
    "Vanishing-Gradient beschreibt das Problem, dass die Steigung einer Funktion sich bei bestimmten Eingaben nicht groß verändert. Durch eine sehr geringe Veränderung ist der Anpassungsprozess des Gradienten langsam => langsames lernen."
   ]
  },
  {
   "cell_type": "markdown",
   "id": "8d933263-9bfb-485a-9de7-fba87248cb82",
   "metadata": {},
   "source": [
    "Je nach Framework können die Funktionen mit Parametern angepasst werden."
   ]
  },
  {
   "cell_type": "markdown",
   "id": "cd1024d4-1b18-440d-9951-73544666e2c3",
   "metadata": {},
   "source": [
    "<h1>Code</h1>"
   ]
  },
  {
   "cell_type": "markdown",
   "id": "15cdf926-602c-423f-984c-aa281ff8060a",
   "metadata": {},
   "source": [
    "Mit Frameworks wie Tensorflow können die verschiedenen Funktionen direkt angewendet werden."
   ]
  },
  {
   "cell_type": "code",
   "execution_count": 17,
   "id": "cd45e5e7-58bf-4df3-b011-933795abcd1d",
   "metadata": {},
   "outputs": [],
   "source": [
    "import tensorflow as tf\n",
    "import math\n",
    "import numpy as np\n",
    "import matplotlib.pyplot as plt\n",
    "from scipy.interpolate import interp1d"
   ]
  },
  {
   "cell_type": "code",
   "execution_count": 49,
   "id": "6098a531-95c4-4777-8345-bc7be901d6e6",
   "metadata": {},
   "outputs": [],
   "source": [
    "# Zeichne Funktion.\n",
    "def draw_plot(X, y, title:str, verc:int=0, horiz_act:bool=False, horiz:float=0.6):\n",
    "    intp = interp1d(x=X, y=y, kind=2)\n",
    "    x2 = np.linspace(start=X[0], stop=X[len(X)-1], num=1000)\n",
    "    y2 = intp(x2)\n",
    "    plt.title(title)\n",
    "    plt.xlabel(\"X\")\n",
    "    plt.ylabel('y')\n",
    "    plt.plot(x2, y2, color='green' )\n",
    "    plt.axvline(x = verc, color = 'black', linestyle='--')\n",
    "\n",
    "    if horiz_act:\n",
    "        plt.hlines(y = horiz, color = 'black', linestyle='--', xmin=X[0], xmax=X[len(X)-1])\n",
    "    \n",
    "    plt.show()"
   ]
  },
  {
   "cell_type": "markdown",
   "id": "ef72038c-ce98-46b8-966f-e93ff21750d9",
   "metadata": {},
   "source": [
    "<h2>Sigmoid</h2>"
   ]
  },
  {
   "cell_type": "markdown",
   "id": "6b8e917c-7fe8-4081-8d4e-f7b84dc911a8",
   "metadata": {},
   "source": [
    "Sigmoid Funktion: <br>\n",
    "$\n",
    "f(x) = \\frac{1}{1 + e^{-x} }\n",
    "$"
   ]
  },
  {
   "cell_type": "code",
   "execution_count": 4,
   "id": "1ba8c3e8-998d-41a2-8f74-1e48e6a057e0",
   "metadata": {},
   "outputs": [
    {
     "data": {
      "text/plain": [
       "<tf.Tensor: shape=(), dtype=float32, numpy=0.9999546>"
      ]
     },
     "execution_count": 4,
     "metadata": {},
     "output_type": "execute_result"
    }
   ],
   "source": [
    "# Anwendung der Funktion mit Tensorflow.keras\n",
    "tf.keras.activations.sigmoid(10.0)"
   ]
  },
  {
   "cell_type": "code",
   "execution_count": 10,
   "id": "b9db17a3-9a4e-4916-a2fb-c4af61087d5f",
   "metadata": {},
   "outputs": [
    {
     "data": {
      "text/plain": [
       "0.9999546021312976"
      ]
     },
     "execution_count": 10,
     "metadata": {},
     "output_type": "execute_result"
    }
   ],
   "source": [
    "# In Python Code:\n",
    "def sigmoid_funk(x:float):\n",
    "    return 1 / (1 + math.exp(-x))\n",
    "\n",
    "sigmoid_funk(10.0)"
   ]
  },
  {
   "cell_type": "code",
   "execution_count": 25,
   "id": "d4b14d19-c8b9-4b65-9ebe-5c8e01460a32",
   "metadata": {},
   "outputs": [],
   "source": [
    "X = np.array(range(-10, 10))\n",
    "y = [sigmoid_funk(i)  for i in x]"
   ]
  },
  {
   "cell_type": "code",
   "execution_count": 52,
   "id": "bba5c8ec-d592-414c-ac41-da677acc133a",
   "metadata": {},
   "outputs": [
    {
     "data": {
      "image/png": "[encoded data removed]",
      "text/plain": [
       "<Figure size 640x480 with 1 Axes>"
      ]
     },
     "metadata": {},
     "output_type": "display_data"
    }
   ],
   "source": [
    "draw_plot(X, y, 'Sigmoid', horiz_act=True, horiz=0.5)"
   ]
  },
  {
   "cell_type": "markdown",
   "id": "fff81642-9ce5-457e-b479-9c4b4e506b04",
   "metadata": {},
   "source": [
    "<h2>Hard-Sigmoid</h2>"
   ]
  },
  {
   "cell_type": "code",
   "execution_count": null,
   "id": "936419f3-821f-4cd4-9523-2896227c57c6",
   "metadata": {},
   "outputs": [],
   "source": []
  },
  {
   "cell_type": "code",
   "execution_count": 53,
   "id": "6c22f76e-61c2-4639-aa01-b24b2bcd631b",
   "metadata": {
    "collapsed": true,
    "jupyter": {
     "outputs_hidden": true
    }
   },
   "outputs": [
    {
     "ename": "AttributeError",
     "evalue": "'float' object has no attribute 'dtype'",
     "output_type": "error",
     "traceback": [
      "\u001b[1;31m---------------------------------------------------------------------------\u001b[0m",
      "\u001b[1;31mAttributeError\u001b[0m                            Traceback (most recent call last)",
      "Cell \u001b[1;32mIn[53], line 2\u001b[0m\n\u001b[0;32m      1\u001b[0m \u001b[38;5;66;03m# Anwendung der Funktion mit Tensorflow.keras\u001b[39;00m\n\u001b[1;32m----> 2\u001b[0m \u001b[43mtf\u001b[49m\u001b[38;5;241;43m.\u001b[39;49m\u001b[43mkeras\u001b[49m\u001b[38;5;241;43m.\u001b[39;49m\u001b[43mactivations\u001b[49m\u001b[38;5;241;43m.\u001b[39;49m\u001b[43mhard_sigmoid\u001b[49m\u001b[43m(\u001b[49m\u001b[38;5;241;43m10.0\u001b[39;49m\u001b[43m)\u001b[49m\n",
      "File \u001b[1;32m~\\AppData\\Roaming\\Python\\Python39\\site-packages\\tensorflow\\python\\util\\traceback_utils.py:153\u001b[0m, in \u001b[0;36mfilter_traceback.<locals>.error_handler\u001b[1;34m(*args, **kwargs)\u001b[0m\n\u001b[0;32m    151\u001b[0m \u001b[38;5;28;01mexcept\u001b[39;00m \u001b[38;5;167;01mException\u001b[39;00m \u001b[38;5;28;01mas\u001b[39;00m e:\n\u001b[0;32m    152\u001b[0m   filtered_tb \u001b[38;5;241m=\u001b[39m _process_traceback_frames(e\u001b[38;5;241m.\u001b[39m__traceback__)\n\u001b[1;32m--> 153\u001b[0m   \u001b[38;5;28;01mraise\u001b[39;00m e\u001b[38;5;241m.\u001b[39mwith_traceback(filtered_tb) \u001b[38;5;28;01mfrom\u001b[39;00m \u001b[38;5;28;01mNone\u001b[39;00m\n\u001b[0;32m    154\u001b[0m \u001b[38;5;28;01mfinally\u001b[39;00m:\n\u001b[0;32m    155\u001b[0m   \u001b[38;5;28;01mdel\u001b[39;00m filtered_tb\n",
      "File \u001b[1;32m~\\anaconda3\\envs\\my_tensorflow_env\\lib\\site-packages\\keras\\activations.py:464\u001b[0m, in \u001b[0;36mhard_sigmoid\u001b[1;34m(x)\u001b[0m\n\u001b[0;32m    438\u001b[0m \u001b[38;5;129m@keras_export\u001b[39m(\u001b[38;5;124m\"\u001b[39m\u001b[38;5;124mkeras.activations.hard_sigmoid\u001b[39m\u001b[38;5;124m\"\u001b[39m)\n\u001b[0;32m    439\u001b[0m \u001b[38;5;129m@tf\u001b[39m\u001b[38;5;241m.\u001b[39m__internal__\u001b[38;5;241m.\u001b[39mdispatch\u001b[38;5;241m.\u001b[39madd_dispatch_support\n\u001b[0;32m    440\u001b[0m \u001b[38;5;28;01mdef\u001b[39;00m \u001b[38;5;21mhard_sigmoid\u001b[39m(x):\n\u001b[0;32m    441\u001b[0m \u001b[38;5;250m    \u001b[39m\u001b[38;5;124;03m\"\"\"Hard sigmoid activation function.\u001b[39;00m\n\u001b[0;32m    442\u001b[0m \n\u001b[0;32m    443\u001b[0m \u001b[38;5;124;03m    A faster approximation of the sigmoid activation.\u001b[39;00m\n\u001b[1;32m   (...)\u001b[0m\n\u001b[0;32m    462\u001b[0m \u001b[38;5;124;03m        - `if -2.5 <= x <= 2.5: return 0.2 * x + 0.5`\u001b[39;00m\n\u001b[0;32m    463\u001b[0m \u001b[38;5;124;03m    \"\"\"\u001b[39;00m\n\u001b[1;32m--> 464\u001b[0m     \u001b[38;5;28;01mreturn\u001b[39;00m \u001b[43mbackend\u001b[49m\u001b[38;5;241;43m.\u001b[39;49m\u001b[43mhard_sigmoid\u001b[49m\u001b[43m(\u001b[49m\u001b[43mx\u001b[49m\u001b[43m)\u001b[49m\n",
      "File \u001b[1;32m~\\anaconda3\\envs\\my_tensorflow_env\\lib\\site-packages\\keras\\backend.py:5788\u001b[0m, in \u001b[0;36mhard_sigmoid\u001b[1;34m(x)\u001b[0m\n\u001b[0;32m   5772\u001b[0m \u001b[38;5;129m@keras_export\u001b[39m(\u001b[38;5;124m\"\u001b[39m\u001b[38;5;124mkeras.backend.hard_sigmoid\u001b[39m\u001b[38;5;124m\"\u001b[39m)\n\u001b[0;32m   5773\u001b[0m \u001b[38;5;129m@tf\u001b[39m\u001b[38;5;241m.\u001b[39m__internal__\u001b[38;5;241m.\u001b[39mdispatch\u001b[38;5;241m.\u001b[39madd_dispatch_support\n\u001b[0;32m   5774\u001b[0m \u001b[38;5;129m@doc_controls\u001b[39m\u001b[38;5;241m.\u001b[39mdo_not_generate_docs\n\u001b[0;32m   5775\u001b[0m \u001b[38;5;28;01mdef\u001b[39;00m \u001b[38;5;21mhard_sigmoid\u001b[39m(x):\n\u001b[0;32m   5776\u001b[0m \u001b[38;5;250m    \u001b[39m\u001b[38;5;124;03m\"\"\"Segment-wise linear approximation of sigmoid.\u001b[39;00m\n\u001b[0;32m   5777\u001b[0m \n\u001b[0;32m   5778\u001b[0m \u001b[38;5;124;03m    Faster than sigmoid.\u001b[39;00m\n\u001b[1;32m   (...)\u001b[0m\n\u001b[0;32m   5786\u001b[0m \u001b[38;5;124;03m        A tensor.\u001b[39;00m\n\u001b[0;32m   5787\u001b[0m \u001b[38;5;124;03m    \"\"\"\u001b[39;00m\n\u001b[1;32m-> 5788\u001b[0m     point_two \u001b[38;5;241m=\u001b[39m _constant_to_tensor(\u001b[38;5;241m0.2\u001b[39m, \u001b[43mx\u001b[49m\u001b[38;5;241;43m.\u001b[39;49m\u001b[43mdtype\u001b[49m\u001b[38;5;241m.\u001b[39mbase_dtype)\n\u001b[0;32m   5789\u001b[0m     point_five \u001b[38;5;241m=\u001b[39m _constant_to_tensor(\u001b[38;5;241m0.5\u001b[39m, x\u001b[38;5;241m.\u001b[39mdtype\u001b[38;5;241m.\u001b[39mbase_dtype)\n\u001b[0;32m   5790\u001b[0m     x \u001b[38;5;241m=\u001b[39m tf\u001b[38;5;241m.\u001b[39mmultiply(x, point_two)\n",
      "\u001b[1;31mAttributeError\u001b[0m: 'float' object has no attribute 'dtype'"
     ]
    }
   ],
   "source": [
    "# Anwendung der Funktion mit Tensorflow.keras\n",
    "tf.keras.activations.hard_sigmoid(10.0)"
   ]
  },
  {
   "cell_type": "code",
   "execution_count": null,
   "id": "38a852fb-2413-4224-a533-665220fbaea6",
   "metadata": {},
   "outputs": [],
   "source": []
  },
  {
   "cell_type": "code",
   "execution_count": null,
   "id": "a5d7d60a-4a79-413e-bef9-e74b8138650e",
   "metadata": {},
   "outputs": [],
   "source": []
  },
  {
   "cell_type": "code",
   "execution_count": null,
   "id": "acbc4c5a-8879-483d-a36c-7a433e776145",
   "metadata": {},
   "outputs": [],
   "source": []
  },
  {
   "cell_type": "markdown",
   "id": "32fac3e6-48d9-42a1-bf10-7840ce47d51a",
   "metadata": {},
   "source": [
    "<h2>ReLU</h2>"
   ]
  },
  {
   "cell_type": "code",
   "execution_count": null,
   "id": "9be65058-f9be-42ac-abeb-a833060fdaba",
   "metadata": {},
   "outputs": [],
   "source": []
  },
  {
   "cell_type": "code",
   "execution_count": null,
   "id": "daea3416-dd4d-447a-bff6-2bc720cd07fd",
   "metadata": {},
   "outputs": [],
   "source": []
  },
  {
   "cell_type": "code",
   "execution_count": null,
   "id": "17bc796c-37fe-4a83-8263-117e4cffdb7f",
   "metadata": {},
   "outputs": [],
   "source": []
  },
  {
   "cell_type": "markdown",
   "id": "3e797c87-f929-4b87-b86f-5df06919e3c0",
   "metadata": {},
   "source": [
    "<h1>Einsatzmöglichkeiten der Funktionen</h1>"
   ]
  },
  {
   "cell_type": "code",
   "execution_count": null,
   "id": "fbc62535-097b-4741-a3fa-9d44bd1077a7",
   "metadata": {},
   "outputs": [],
   "source": []
  },
  {
   "cell_type": "code",
   "execution_count": null,
   "id": "f899d25f-f196-49fe-b86f-6d322d87d0d2",
   "metadata": {},
   "outputs": [],
   "source": []
  }
 ],
 "metadata": {
  "kernelspec": {
   "display_name": "Python 3 (ipykernel)",
   "language": "python",
   "name": "python3"
  },
  "language_info": {
   "codemirror_mode": {
    "name": "ipython",
    "version": 3
   },
   "file_extension": ".py",
   "mimetype": "text/x-python",
   "name": "python",
   "nbconvert_exporter": "python",
   "pygments_lexer": "ipython3",
   "version": "3.9.19"
  }
 },
 "nbformat": 4,
 "nbformat_minor": 5
}
