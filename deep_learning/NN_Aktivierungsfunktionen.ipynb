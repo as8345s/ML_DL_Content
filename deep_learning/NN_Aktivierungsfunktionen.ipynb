{
 "cells": [
  {
   "cell_type": "markdown",
   "id": "173dff46-1160-4156-9a77-36e37d97af3d",
   "metadata": {},
   "source": [
    "<h1>Aktivierungsfunktionen in neuralen Netzen</h1>"
   ]
  },
  {
   "cell_type": "markdown",
   "id": "04b11e7c-77c9-46f8-bb51-52fc08fab379",
   "metadata": {},
   "source": [
    "Aktivierungsfunktionen sind kleinere Funktionen, die Neuron haben, die einen Output generieren.\n",
    "- Funktionen verändern den Wertebereich und geben Aufschluss, wie sehr sich der Output abhängig vom Input verändert.\n",
    "\n",
    "Jeder Neuron hat zu Beginn zufällig initialisierte Weights (Gewichte). Das Ziel ist es, diese Weights so anzupassen, dass der Fehler, der am Ende berechnet wird (Loss, total Error) minimal wird. Dieser Vorgang ist das Training."
   ]
  },
  {
   "cell_type": "markdown",
   "id": "23938dcf-af42-4847-8c43-df6f6dbdf4ab",
   "metadata": {},
   "source": [
    "<i>Abb1</i>: Eingabe der Features in ein einziges Neuron. Jedes Neuron hat 2 Komponente.\n",
    "\n",
    "<img src=\"./img/nn_1.PNG\" width=600 hight=400>"
   ]
  },
  {
   "cell_type": "markdown",
   "id": "0cebee82-47b3-4c6f-bda1-204c577f09c5",
   "metadata": {},
   "source": [
    "Die Funktion wandeln das Ergebnis der Summe in eine andere Zahl um, wie z. B. die Zahl 50 in 0,5.\n",
    "\n",
    "Mit einer Sigmoidfunktion am Ende des Netzes können die Zahlen in den Bereich von 0 bis 1 umgewandelt werden. Dadurch eine es viel einfacher eine Entscheidung zu treffen. \n",
    "\n",
    "Kleinere Zahlen sind besser für ein Netzwerk geeignet als sehr große Zahlen. \n",
    "\n",
    "Es gibt viele dieser Funktionen, die unterschiedliche Aufgabe haben. Eine Funktion, die linear ist, gibt den Output so weiter wie dieser angekommen ist, mit anderen Worten, genau das Ergebnis der Summe.\n",
    "\n",
    "Die Berechnung der linearen Outputs ist weit weniger aufwendig als bei den andere Funktion, wo verschiedene mathematische Operationen ausgeführt werden müssen. Frameworks wie PyTorch, Tensorflow, usw. haben diese Algorithmen effizient passend zur Hardware implementiert, oder nutzen spezielle Libraries, wo dies schon implementiert sind. Die Berechnungen müssen sehr effizient laufen, da es sehr viele Neuronen und Layers in einem Netzwerk gibt. Eine langsame Berechnung verlängert das Training.  \n",
    "In C++ könnte man z. B. Intrinsics nutzen, um effizient die Vektorisierung der CPU zu verwenden.\n",
    "\n",
    "Daher ist es wichtig zu verstehen, welche Auswirkungen verschiedenen Funktionen haben, und welche Funktionen wo besser eingesetzt werden sollten. Ohne die Aktivierungsfunktion kann die Gleichung als einfache lineare Funktion dargestellt werden. Komplexere Probleme können aber nicht einfach linear gelöst werden."
   ]
  },
  {
   "cell_type": "markdown",
   "id": "cb0ebd4f-5d2e-4e6e-ada2-67ba43938241",
   "metadata": {},
   "source": [
    "<i>Abb2</i>: Einfaches neurales Netz.\n",
    "\n",
    "<img src=\"./img/nn_3.PNG\" width=600 hight=400>"
   ]
  },
  {
   "cell_type": "markdown",
   "id": "3b04e7bb-3f44-4ae5-b432-49122f0bc40c",
   "metadata": {},
   "source": [
    "Die Weights eines Model beeinflussen wie stark sich ein kommender Wert eines Neurons oder Inputs auf das Ergebnis der Summe auswirkt. Mit der Veränderung der Gewichte ändert sich auch das Ergebnis, und damit hoffentlich der Gesamtfehler am Ende, der minimiert werden soll.\n",
    "\n",
    "Verschiedene Funktionen haben auch einen unterschiedlichen Umgang mit Outlier. "
   ]
  },
  {
   "cell_type": "markdown",
   "id": "aac8113b-c90e-451c-9869-89be66928b99",
   "metadata": {},
   "source": [
    "<i>Abb3</i>: Grobes Beispiel wie eine Funktion Datenpunkte abdeckt.\n",
    "\n",
    "<img src=\"./img/nn_2.PNG\" width=600 hight=400>"
   ]
  },
  {
   "cell_type": "markdown",
   "id": "0af26b11-e81a-4a69-89fc-d77e2519c590",
   "metadata": {},
   "source": [
    "Ein anderes Beispiel wäre, wenn der Output eines Netzes fünf Neuronen für die Klassifizierung hat, kann eine falsch angewendete Aktivierungsfunktion dafür sorgen, dass der Output genau 1 oder 0 ist. \n",
    "\n",
    "Bei einer Klassifizierung wäre es besser einen Bereich zwischen 0 und 1 Anzugeben (wie 0,3, 0,567, oder 0,81), wo der höchste Wert z. B. 0,91 als positiv gewertet wird. "
   ]
  },
  {
   "cell_type": "markdown",
   "id": "3a75f8a1-aeaa-4ce6-a980-1340d2fa644d",
   "metadata": {},
   "source": [
    "<i>Abb4</i>: Auswahl der falschen Aktivierungsfunktion sorgt dafür, das der Output entweder 1 oder 0 ist.\n",
    "\n",
    "<img src=\"./img/nn_4.PNG\" width=600 hight=400>"
   ]
  },
  {
   "cell_type": "markdown",
   "id": "e08a12ce-3ac0-46f4-906b-778d16c69cd9",
   "metadata": {},
   "source": [
    "Ein andere sehr wichtiger Punkt ist: Eine ausgewählte Funktion kann bei bestimmten Eingaben ein Problem mit sich bringen. <bR>\n",
    "(Es gibt viele interessante Artikel darüber)\n",
    "- Vanishing-Gradient\n",
    "- Exploding-Gradient"
   ]
  },
  {
   "cell_type": "markdown",
   "id": "7ea16b64-150e-4882-b351-b98cb0f49c10",
   "metadata": {},
   "source": [
    "Vanishing-Gradient beschreibt das Problem, dass die Steigung einer Funktion sich bei bestimmten Eingaben nicht groß verändert. Durch eine sehr geringe Veränderung ist der Anpassungsprozess des Gradienten langsam => langsames lernen."
   ]
  },
  {
   "cell_type": "markdown",
   "id": "8d933263-9bfb-485a-9de7-fba87248cb82",
   "metadata": {},
   "source": [
    "Je nach Framework können die Funktionen mit Parametern angepasst werden."
   ]
  },
  {
   "cell_type": "markdown",
   "id": "cd1024d4-1b18-440d-9951-73544666e2c3",
   "metadata": {},
   "source": [
    "<h1>Code</h1>"
   ]
  },
  {
   "cell_type": "markdown",
   "id": "15cdf926-602c-423f-984c-aa281ff8060a",
   "metadata": {},
   "source": [
    "Mit Frameworks wie Tensorflow können die verschiedenen Funktionen direkt angewendet werden."
   ]
  },
  {
   "cell_type": "code",
   "execution_count": 307,
   "id": "cd45e5e7-58bf-4df3-b011-933795abcd1d",
   "metadata": {},
   "outputs": [],
   "source": [
    "import tensorflow as tf\n",
    "import math\n",
    "import numpy as np\n",
    "import matplotlib.pyplot as plt\n",
    "from scipy.interpolate import interp1d"
   ]
  },
  {
   "cell_type": "code",
   "execution_count": 97,
   "id": "6098a531-95c4-4777-8345-bc7be901d6e6",
   "metadata": {},
   "outputs": [],
   "source": [
    "# Zeichne Funktion.\n",
    "def draw_plot(X, y, title:str, verc:int=0, horiz_act:bool=False, horiz:float=0.6):\n",
    "    intp = interp1d(x=X, y=y, kind=2)\n",
    "    x2 = np.linspace(start=X[0], stop=X[len(X)-1], num=2000)\n",
    "    y2 = intp(x2)\n",
    "    plt.title(title)\n",
    "    plt.xlabel(\"X\")\n",
    "    plt.ylabel('y')\n",
    "    plt.grid()\n",
    "    plt.plot(x2, y2, color='green' )\n",
    "    plt.axvline(x = verc, color = 'black', linestyle='--')\n",
    "    \n",
    "    if horiz_act:\n",
    "        plt.hlines(y = horiz, color = 'black', linestyle='--', xmin=X[0], xmax=X[len(X)-1])\n",
    "    \n",
    "    plt.show()"
   ]
  },
  {
   "cell_type": "markdown",
   "id": "ef72038c-ce98-46b8-966f-e93ff21750d9",
   "metadata": {},
   "source": [
    "<h2>Sigmoid</h2>"
   ]
  },
  {
   "cell_type": "markdown",
   "id": "6b8e917c-7fe8-4081-8d4e-f7b84dc911a8",
   "metadata": {},
   "source": [
    "Sigmoid Funktion: <br>\n",
    "$\n",
    "f(x) = \\frac{1}{1 + e^{-x} }\n",
    "$"
   ]
  },
  {
   "cell_type": "code",
   "execution_count": 4,
   "id": "1ba8c3e8-998d-41a2-8f74-1e48e6a057e0",
   "metadata": {},
   "outputs": [
    {
     "data": {
      "text/plain": [
       "<tf.Tensor: shape=(), dtype=float32, numpy=0.9999546>"
      ]
     },
     "execution_count": 4,
     "metadata": {},
     "output_type": "execute_result"
    }
   ],
   "source": [
    "# Anwendung der Funktion mit Tensorflow.keras\n",
    "tf.keras.activations.sigmoid(10.0)"
   ]
  },
  {
   "cell_type": "code",
   "execution_count": 10,
   "id": "b9db17a3-9a4e-4916-a2fb-c4af61087d5f",
   "metadata": {},
   "outputs": [
    {
     "data": {
      "text/plain": [
       "0.9999546021312976"
      ]
     },
     "execution_count": 10,
     "metadata": {},
     "output_type": "execute_result"
    }
   ],
   "source": [
    "# In Python Code:\n",
    "def sigmoid_funk(x:float):\n",
    "    return 1 / (1 + math.exp(-x))\n",
    "\n",
    "sigmoid_funk(10.0)"
   ]
  },
  {
   "cell_type": "code",
   "execution_count": 101,
   "id": "d4b14d19-c8b9-4b65-9ebe-5c8e01460a32",
   "metadata": {},
   "outputs": [],
   "source": [
    "X = np.array(range(-10, 10))\n",
    "y = [sigmoid_funk(i)  for i in X]"
   ]
  },
  {
   "cell_type": "code",
   "execution_count": 102,
   "id": "bba5c8ec-d592-414c-ac41-da677acc133a",
   "metadata": {},
   "outputs": [
    {
     "data": {
      "image/png": "[encoded data removed]",
      "text/plain": [
       "<Figure size 640x480 with 1 Axes>"
      ]
     },
     "metadata": {},
     "output_type": "display_data"
    }
   ],
   "source": [
    "draw_plot(X, y, 'Sigmoid', horiz_act=True, horiz=0.5)"
   ]
  },
  {
   "cell_type": "markdown",
   "id": "9be7d2ca-9d86-410c-943d-09ea807d72ef",
   "metadata": {},
   "source": [
    "Die Sigmoidfunktion quetscht alle X-Werte in den 0 bis 1 Bereich. Der höchste dieser Werte könnte z. B. positiv interpretiert werden. Diese Funktion eignet sich gut für die letzte Schicht. "
   ]
  },
  {
   "cell_type": "markdown",
   "id": "fff81642-9ce5-457e-b479-9c4b4e506b04",
   "metadata": {},
   "source": [
    "<h2>Hard-Sigmoid</h2>"
   ]
  },
  {
   "cell_type": "markdown",
   "id": "3ac45644-937b-474a-93ac-565609a74a08",
   "metadata": {},
   "source": [
    "Hard-Sigmoid Funktion: <br>"
   ]
  },
  {
   "cell_type": "markdown",
   "id": "9a286dfc-8326-4fd1-a8b8-64a0fe62d605",
   "metadata": {},
   "source": [
    "$\n",
    "f(x) = \\left\\{\n",
    "    \\begin{array}\\\\\n",
    "        0 & \\mbox{if. }\\ x < -2.5 \\\\\n",
    "        1 & \\mbox{if. }\\ x >  +2.5  \\\\\n",
    "        0.2 * x + 0.5 & \\mbox{if.} \\ -2.5 <= x <= 2.5\n",
    "    \\end{array}\n",
    "\\right.\n",
    "$"
   ]
  },
  {
   "cell_type": "code",
   "execution_count": 308,
   "id": "6c22f76e-61c2-4639-aa01-b24b2bcd631b",
   "metadata": {},
   "outputs": [
    {
     "data": {
      "text/plain": [
       "<tf.Tensor: shape=(), dtype=float32, numpy=1.0>"
      ]
     },
     "execution_count": 308,
     "metadata": {},
     "output_type": "execute_result"
    }
   ],
   "source": [
    "# Anwendung der Funktion mit Tensorflow.keras\n",
    "tf.keras.activations.hard_sigmoid( tf.convert_to_tensor(10.0) )"
   ]
  },
  {
   "cell_type": "code",
   "execution_count": 309,
   "id": "5b408738-47cc-41ae-afa9-242802db8766",
   "metadata": {},
   "outputs": [],
   "source": [
    "# In Python Code:\n",
    "def hard_sigmoud_funk_1(x):\n",
    "    return max(0, min(1, (2*x +5)/10 ))\n",
    "\n",
    "def hard_sigmoud_funk_2(x):\n",
    "    if x > 2.5:\n",
    "        return 1\n",
    "    elif x<-2.5:\n",
    "        return 0\n",
    "    elif -2.5 <= x <= 2.5:\n",
    "        return 0.2 * x + 0.5"
   ]
  },
  {
   "cell_type": "code",
   "execution_count": 310,
   "id": "38a852fb-2413-4224-a533-665220fbaea6",
   "metadata": {},
   "outputs": [],
   "source": [
    "X = np.arange(-10, 10, 0.2)\n",
    "y = [hard_sigmoud_funk_2(i)  for i in X]"
   ]
  },
  {
   "cell_type": "code",
   "execution_count": 311,
   "id": "bd2cd8ff-7b81-4703-9a96-cd2cda41f9cd",
   "metadata": {},
   "outputs": [
    {
     "data": {
      "image/png": "[encoded data removed]",
      "text/plain": [
       "<Figure size 640x480 with 1 Axes>"
      ]
     },
     "metadata": {},
     "output_type": "display_data"
    }
   ],
   "source": [
    "draw_plot(X, y, 'Hard-Sigmoid', horiz_act=True, horiz=0.5)"
   ]
  },
  {
   "cell_type": "code",
   "execution_count": 123,
   "id": "a5d7d60a-4a79-413e-bef9-e74b8138650e",
   "metadata": {},
   "outputs": [
    {
     "data": {
      "text/plain": [
       "(2.0000000000042208e-05, 0, 1, 0.9998000000000001)"
      ]
     },
     "execution_count": 123,
     "metadata": {},
     "output_type": "execute_result"
    }
   ],
   "source": [
    "(hard_sigmoud_funk_1(-2.4999), hard_sigmoud_funk_1(-2.5),  hard_sigmoud_funk_1(2.5),  hard_sigmoud_funk_1(2.499)) "
   ]
  },
  {
   "cell_type": "code",
   "execution_count": 124,
   "id": "246078ff-f10e-4128-a6c8-494109819382",
   "metadata": {},
   "outputs": [
    {
     "data": {
      "text/plain": [
       "(2.0000000000020002e-05, 0.0, 1.0, 0.9998)"
      ]
     },
     "execution_count": 124,
     "metadata": {},
     "output_type": "execute_result"
    }
   ],
   "source": [
    "(hard_sigmoud_funk_2(-2.4999), hard_sigmoud_funk_2(-2.5),  hard_sigmoud_funk_2(2.5),  hard_sigmoud_funk_2(2.499)) "
   ]
  },
  {
   "cell_type": "markdown",
   "id": "bb66153f-a1f3-4cf0-a4d6-32a3a7fb7efa",
   "metadata": {},
   "source": [
    "Diese Funktion ist eine lineare Annäherung an die Sigmoidfunktion und beansprucht weniger Rechenleistung.\n",
    "\n",
    "Beide sind gut, wenn es um binäre Klassifizierung geht."
   ]
  },
  {
   "cell_type": "markdown",
   "id": "fdc66599-0da9-47c2-880a-4f199ec4f2fe",
   "metadata": {},
   "source": [
    "<h2>Linear</h2>"
   ]
  },
  {
   "cell_type": "markdown",
   "id": "3943ddf4-4189-4143-8ee3-38aefc9b8f90",
   "metadata": {},
   "source": [
    "Lineare Funktion:\n",
    "\n",
    "$\n",
    "f(x) = x\n",
    "$\n"
   ]
  },
  {
   "cell_type": "code",
   "execution_count": 125,
   "id": "9be65058-f9be-42ac-abeb-a833060fdaba",
   "metadata": {},
   "outputs": [
    {
     "data": {
      "text/plain": [
       "43"
      ]
     },
     "execution_count": 125,
     "metadata": {},
     "output_type": "execute_result"
    }
   ],
   "source": [
    "# Anwendung der Funktion mit Tensorflow.keras\n",
    "tf.keras.activations.linear(43)"
   ]
  },
  {
   "cell_type": "code",
   "execution_count": 126,
   "id": "3f8617d6-2c9b-4edf-8266-615b592aac3d",
   "metadata": {},
   "outputs": [],
   "source": [
    "# In Python Code:\n",
    "def linear_funk(x):\n",
    "    return x"
   ]
  },
  {
   "cell_type": "code",
   "execution_count": 127,
   "id": "daea3416-dd4d-447a-bff6-2bc720cd07fd",
   "metadata": {},
   "outputs": [],
   "source": [
    "X = np.arange(-10, 10, 0.2)\n",
    "y = [linear_funk(i)  for i in X]"
   ]
  },
  {
   "cell_type": "code",
   "execution_count": 129,
   "id": "02360b65-d19a-481e-840d-3921093ff172",
   "metadata": {},
   "outputs": [
    {
     "data": {
      "image/png": "[encoded data removed]",
      "text/plain": [
       "<Figure size 640x480 with 1 Axes>"
      ]
     },
     "metadata": {},
     "output_type": "display_data"
    }
   ],
   "source": [
    "draw_plot(X, y, 'Linear', horiz_act=True, horiz=0)"
   ]
  },
  {
   "cell_type": "markdown",
   "id": "4e4d1c49-713f-4312-bd58-a065ca7eacfc",
   "metadata": {},
   "source": [
    "Bei der linearen Aktivierungsfunktion werden die Werte so weitergegeben wie sie kommen. <br>\n",
    "Dadurch sind die Berechnungskosten sehr niedrig => Rufe Funktion auf und geben den Wert zurück."
   ]
  },
  {
   "cell_type": "markdown",
   "id": "32fac3e6-48d9-42a1-bf10-7840ce47d51a",
   "metadata": {},
   "source": [
    "<h2>ReLU (Rectified Linear Unit)</h2>"
   ]
  },
  {
   "cell_type": "markdown",
   "id": "33184035-39f8-4ebc-8677-c081fd69e016",
   "metadata": {},
   "source": [
    "ReLU Formel:\n",
    "\n",
    "$\n",
    "f(x) = \\left\\{\n",
    "    \\begin{array}\\\\\n",
    "        0 & \\mbox{if. }\\ x <= 0 \\\\\n",
    "        x & \\mbox{if. }\\ x > 0 \\\\\n",
    "    \\end{array}\n",
    "\\right.\n",
    "$\n",
    "\n",
    "\n",
    "Oft auch als:\n",
    "\n",
    "$\n",
    "f(x) = max(x, 0)\n",
    "$"
   ]
  },
  {
   "cell_type": "code",
   "execution_count": 135,
   "id": "f5e4134c-d7c4-4b8d-bec4-8e6feebf833a",
   "metadata": {},
   "outputs": [
    {
     "data": {
      "text/plain": [
       "<tf.Tensor: shape=(2,), dtype=int32, numpy=array([5, 0])>"
      ]
     },
     "execution_count": 135,
     "metadata": {},
     "output_type": "execute_result"
    }
   ],
   "source": [
    "# Anwendung der Funktion mit Tensorflow.keras\n",
    "tf.keras.activations.relu([5, -5])"
   ]
  },
  {
   "cell_type": "code",
   "execution_count": 131,
   "id": "1a11ce82-6e11-4299-8f01-b5b098278b7b",
   "metadata": {},
   "outputs": [],
   "source": [
    "# In Python Code:\n",
    "def relu_funk(x):\n",
    "    return max(0,x)"
   ]
  },
  {
   "cell_type": "code",
   "execution_count": 132,
   "id": "364ab7b5-ae04-4166-bb07-18e363abaefb",
   "metadata": {},
   "outputs": [],
   "source": [
    "X = np.arange(-10, 10, 0.2)\n",
    "y = [relu_funk(i)  for i in X]"
   ]
  },
  {
   "cell_type": "code",
   "execution_count": 134,
   "id": "0cc8e726-c58a-4310-986f-bb0d9ee92a54",
   "metadata": {},
   "outputs": [
    {
     "data": {
      "image/png": "[encoded data removed]",
      "text/plain": [
       "<Figure size 640x480 with 1 Axes>"
      ]
     },
     "metadata": {},
     "output_type": "display_data"
    }
   ],
   "source": [
    "draw_plot(X, y, 'ReLU', horiz_act=True, horiz=0)"
   ]
  },
  {
   "cell_type": "code",
   "execution_count": 312,
   "id": "a6a76369-219a-4310-86f1-6fdec510de8f",
   "metadata": {},
   "outputs": [
    {
     "data": {
      "text/plain": [
       "0"
      ]
     },
     "execution_count": 312,
     "metadata": {},
     "output_type": "execute_result"
    }
   ],
   "source": [
    "relu_funk(-5)"
   ]
  },
  {
   "cell_type": "code",
   "execution_count": 313,
   "id": "e65b82db-3fe7-42bc-9134-4da3456e90ef",
   "metadata": {},
   "outputs": [
    {
     "data": {
      "text/plain": [
       "3"
      ]
     },
     "execution_count": 313,
     "metadata": {},
     "output_type": "execute_result"
    }
   ],
   "source": [
    "relu_funk(3)"
   ]
  },
  {
   "cell_type": "markdown",
   "id": "002825d8-a19b-4af9-b70b-2760244e6572",
   "metadata": {},
   "source": [
    "Diese Funktion ist in aller Munde und wird sehr gerne für Deep-Learning genutzt. Die Berechnungskosten sind hier auch relativ gering gegenüber anderen. Für Inputs die kleiner 0 sind, wird 0 zurückgegeben, sonst wandert der Input weiter. \n",
    "\n",
    "Hier kann das Phänomen Dying-ReLU auftauchen, was bedeutet, dass ein Neuron mit dieser Aktivierung dauerhaft inaktive bleiben kann, wenn es immer auf negative Werte trifft. Außerdem neigt es mehr zu Overfitting, dieser Effekt kann mit Dropouts reduziert werden. "
   ]
  },
  {
   "cell_type": "markdown",
   "id": "174d0efa-a526-48c7-84ae-ed36f252953d",
   "metadata": {},
   "source": [
    "<h2>Leaky ReLU  (LReLU)</h2>"
   ]
  },
  {
   "cell_type": "markdown",
   "id": "23c4e352-0818-4d96-82fd-fb6119cfc41a",
   "metadata": {},
   "source": [
    "LReLU Formel:\n",
    "\n",
    "$\n",
    "f(x) = \\left\\{\n",
    "    \\begin{array}\\\\\n",
    "        0 & \\mbox{if. }\\ 0.1x <= 0 \\\\\n",
    "        x & \\mbox{if. } x > 0 \\\\\n",
    "    \\end{array}\n",
    "\\right.\n",
    "$\n",
    "\n",
    "Oft auch mit Parameter:\n",
    "\n",
    "$\n",
    "f(x) = \\left\\{\n",
    "    \\begin{array}\\\\\n",
    "        \\alpha * x & \\mbox{if. }\\  x <= 0 \\\\\n",
    "        x & \\mbox{if. } x > 0 \\\\\n",
    "    \\end{array}\n",
    "\\right.\n",
    "$\n",
    "\n",
    "Oft auch als:\n",
    "\n",
    "$\n",
    "f(x) =  max ( \\alpha * x, x) \n",
    "$"
   ]
  },
  {
   "cell_type": "code",
   "execution_count": 140,
   "id": "cc584894-7589-4b2e-9a5b-79b8b53914aa",
   "metadata": {
    "scrolled": true
   },
   "outputs": [],
   "source": [
    "# Anwendung der Funktion mit Tensorflow.keras\n",
    "# - Alpha Standard: -0.2\n",
    "tf.keras.activations.leaky_relu(6, negative_slope=0.2)"
   ]
  },
  {
   "cell_type": "code",
   "execution_count": 148,
   "id": "350b01b3-5e11-47d4-a0f9-e9cea8ebfc50",
   "metadata": {},
   "outputs": [],
   "source": [
    "# In Python Code:\n",
    "def lrelu_funk(x, alpha:float=0.1):\n",
    "    return max(alpha*x, x)"
   ]
  },
  {
   "cell_type": "code",
   "execution_count": 149,
   "id": "9d62aeed-0f71-4b96-90cc-0e9a0e513234",
   "metadata": {},
   "outputs": [],
   "source": [
    "X = np.arange(-10, 10, 0.2)\n",
    "y = [lrelu_funk(i)  for i in X]"
   ]
  },
  {
   "cell_type": "code",
   "execution_count": 150,
   "id": "634ce1f2-4bc1-4eda-8fbf-5dfc27f0e7a8",
   "metadata": {},
   "outputs": [
    {
     "data": {
      "image/png": "[encoded data removed]",
      "text/plain": [
       "<Figure size 640x480 with 1 Axes>"
      ]
     },
     "metadata": {},
     "output_type": "display_data"
    }
   ],
   "source": [
    "draw_plot(X, y, 'LReLU', horiz_act=True, horiz=0)"
   ]
  },
  {
   "cell_type": "code",
   "execution_count": 151,
   "id": "e5d1efd4-6d0d-4882-b9d2-b965ea5f98a5",
   "metadata": {},
   "outputs": [
    {
     "data": {
      "text/plain": [
       "-10.0"
      ]
     },
     "execution_count": 151,
     "metadata": {},
     "output_type": "execute_result"
    }
   ],
   "source": [
    "lrelu_funk(-100)"
   ]
  },
  {
   "cell_type": "markdown",
   "id": "d60ae5e5-6319-4e7d-8813-514e19a037bd",
   "metadata": {},
   "source": [
    "Um das Problem mit Dying-ReLU anzugehen, wird hier zusätzlich ein Parameter angeben, mit dem diese Funktion negative Werte mitnehmen kann.\n",
    "\n",
    "Damit kann sichergestellt werden, dass das Neuron nicht dauerhaft inaktiv bleibt. "
   ]
  },
  {
   "cell_type": "markdown",
   "id": "af57940f-9a12-444c-ad92-31314a39cd66",
   "metadata": {},
   "source": [
    "<h2>GELU (Gaussian Error Linear Unit)</h2>"
   ]
  },
  {
   "cell_type": "markdown",
   "id": "c7ed7f3a-7cfd-4c1b-a216-96029f5da370",
   "metadata": {},
   "source": [
    "GELU Formel:\n",
    "- ERF: Gaußsche Fehlerfunktion.<br>\n",
    "\n",
    "$\n",
    "\\frac{1}{2}x (1 + erf  ( \\frac{x}{\\sqrt2} ))\n",
    "$"
   ]
  },
  {
   "cell_type": "code",
   "execution_count": 158,
   "id": "55231199-d4f3-41e5-a0ad-7d24d218d78f",
   "metadata": {},
   "outputs": [
    {
     "data": {
      "text/plain": [
       "<tf.Tensor: shape=(), dtype=float32, numpy=-0.100210726>"
      ]
     },
     "execution_count": 158,
     "metadata": {},
     "output_type": "execute_result"
    }
   ],
   "source": [
    "# Anwendung der Funktion mit Tensorflow.keras\n",
    "tf.keras.activations.gelu(-1.5)"
   ]
  },
  {
   "cell_type": "code",
   "execution_count": 159,
   "id": "861227e7-35ce-4c90-93ad-630fe28c6deb",
   "metadata": {},
   "outputs": [],
   "source": [
    "# In Python Code:\n",
    "def gelu_funk(x):\n",
    "    return 0.5*x * ( 1 + math.erf(x/math.sqrt(2)) )"
   ]
  },
  {
   "cell_type": "code",
   "execution_count": 160,
   "id": "f88e42ee-f5bf-4f6b-a66e-550700e23a0a",
   "metadata": {},
   "outputs": [],
   "source": [
    "X = np.arange(-10, 10, 0.2)\n",
    "y = [gelu_funk(i)  for i in X]"
   ]
  },
  {
   "cell_type": "code",
   "execution_count": 162,
   "id": "a417051f-b3e4-43ae-96ad-cbb83ba4f053",
   "metadata": {},
   "outputs": [
    {
     "data": {
      "image/png": "[encoded data removed]",
      "text/plain": [
       "<Figure size 640x480 with 1 Axes>"
      ]
     },
     "metadata": {},
     "output_type": "display_data"
    }
   ],
   "source": [
    "draw_plot(X, y, 'GELU', horiz_act=True, horiz=0)"
   ]
  },
  {
   "cell_type": "code",
   "execution_count": 164,
   "id": "0fdba835-425f-4a07-8a7b-bdad2c7cf9c1",
   "metadata": {},
   "outputs": [
    {
     "data": {
      "text/plain": [
       "-0.10021080190328713"
      ]
     },
     "execution_count": 164,
     "metadata": {},
     "output_type": "execute_result"
    }
   ],
   "source": [
    "gelu_funk(-1.5)"
   ]
  },
  {
   "cell_type": "markdown",
   "id": "b3471f1e-f555-4ce4-86a0-7ba9bb6c7d3a",
   "metadata": {},
   "source": [
    "GELU findet auch viele Anwendungszwecken wie z. B. Computer-Vision und NPL. Die Berechnungskosten sind hier höher."
   ]
  },
  {
   "cell_type": "markdown",
   "id": "27c34195-93ae-4ace-aef3-207b34f97875",
   "metadata": {},
   "source": [
    "<h2>Tanh (Tangens hyperbolicus)</h2>"
   ]
  },
  {
   "cell_type": "markdown",
   "id": "44d13afe-45c9-4073-8e17-1719ac3a1689",
   "metadata": {},
   "source": [
    "Tanh Formel:\n",
    "\n",
    "$\n",
    "f(x) = \\frac{e^x - e^{-x}}{e^x + e^{-x}}\n",
    "$"
   ]
  },
  {
   "cell_type": "code",
   "execution_count": 153,
   "id": "a5961377-d51c-45c5-a707-57561de0857b",
   "metadata": {},
   "outputs": [
    {
     "data": {
      "text/plain": [
       "<tf.Tensor: shape=(), dtype=float32, numpy=0.99990916>"
      ]
     },
     "execution_count": 153,
     "metadata": {},
     "output_type": "execute_result"
    }
   ],
   "source": [
    "# Anwendung der Funktion mit Tensorflow.keras\n",
    "tf.keras.activations.tanh(5.0)"
   ]
  },
  {
   "cell_type": "code",
   "execution_count": 155,
   "id": "60bbf69e-1605-42b4-89f0-0d54267d291b",
   "metadata": {},
   "outputs": [],
   "source": [
    "# In Python Code:\n",
    "def tanh_funk(x):\n",
    "    return (math.exp(x) - math.exp(-x)) / (math.exp(x) + math.exp(-x))"
   ]
  },
  {
   "cell_type": "code",
   "execution_count": 156,
   "id": "fbc62535-097b-4741-a3fa-9d44bd1077a7",
   "metadata": {},
   "outputs": [],
   "source": [
    "X = np.arange(-10, 10, 0.2)\n",
    "y = [tanh_funk(i)  for i in X]"
   ]
  },
  {
   "cell_type": "code",
   "execution_count": 157,
   "id": "70f2fde1-ae70-4622-8cf6-bfb865440b2b",
   "metadata": {},
   "outputs": [
    {
     "data": {
      "image/png": "[encoded data removed]",
      "text/plain": [
       "<Figure size 640x480 with 1 Axes>"
      ]
     },
     "metadata": {},
     "output_type": "display_data"
    }
   ],
   "source": [
    "draw_plot(X, y, 'Tanh', horiz_act=True, horiz=0)"
   ]
  },
  {
   "cell_type": "code",
   "execution_count": 163,
   "id": "96156070-bec1-47ee-b51f-c9d1fb0608eb",
   "metadata": {},
   "outputs": [
    {
     "data": {
      "text/plain": [
       "0.999909204262595"
      ]
     },
     "execution_count": 163,
     "metadata": {},
     "output_type": "execute_result"
    }
   ],
   "source": [
    "tanh_funk(5.0)"
   ]
  },
  {
   "cell_type": "markdown",
   "id": "04686af4-4141-4746-b8d8-78111e8201ad",
   "metadata": {},
   "source": [
    "Dies Funktion quetscht alle Werte in den Bereich -1 bis 1. Dabei ist diese Funktion zentrierter. Auch hier taucht das Problem Vanishing-Gradient auf.\n",
    "\n",
    "Meist eingesetzt bei RNNs, wenn es um NLP und Spracherkennung geht. \n",
    "\n",
    "Alternativ bietet sich auch Hard-Tanh an, welches auch bessere Ergebnisse liefern kann."
   ]
  },
  {
   "cell_type": "markdown",
   "id": "e720f99d-c43e-4f20-91fc-93e2de4040db",
   "metadata": {},
   "source": [
    "<h2>Softmax</h2>"
   ]
  },
  {
   "cell_type": "markdown",
   "id": "058a9a88-7169-4979-b782-6794b3bb9f97",
   "metadata": {},
   "source": [
    "Softmax Formel:\n",
    "\n",
    "$\n",
    "Output Vector = \\frac{e^{x_i}}{\\sum^{J}_{j=1} \\ e^{x_j}}\n",
    "$"
   ]
  },
  {
   "cell_type": "code",
   "execution_count": 168,
   "id": "0d6e7483-6458-4c74-ba2c-8058f1b93736",
   "metadata": {},
   "outputs": [
    {
     "data": {
      "text/plain": [
       "<tf.Tensor: shape=(1, 3), dtype=float32, numpy=array([[0.76615715, 0.17095277, 0.06289001]], dtype=float32)>"
      ]
     },
     "execution_count": 168,
     "metadata": {},
     "output_type": "execute_result"
    }
   ],
   "source": [
    "tf.keras.activations.softmax(tf.convert_to_tensor([[3, 1.5, 0.5]]))"
   ]
  },
  {
   "cell_type": "code",
   "execution_count": 171,
   "id": "fa9560a6-47e3-4592-8d69-ae8c33dc1b36",
   "metadata": {},
   "outputs": [],
   "source": [
    "# In Python Code:\n",
    "def softmax_funk(x:[]):\n",
    "    res_vec = []\n",
    "\n",
    "    for i in range(len(x)):\n",
    "        res_vec.append( math.exp(x[i]) / sum([ math.exp(k) for k in x])  )\n",
    "    \n",
    "    return res_vec"
   ]
  },
  {
   "cell_type": "code",
   "execution_count": 176,
   "id": "06a1d36a-4e3c-4c98-8131-ef740e126df6",
   "metadata": {},
   "outputs": [],
   "source": [
    "X = [3, 1.5, 0.5]\n",
    "y = softmax_funk(x)"
   ]
  },
  {
   "cell_type": "code",
   "execution_count": 183,
   "id": "54eba8a9-1891-4c83-97ae-bc833f209a86",
   "metadata": {},
   "outputs": [
    {
     "data": {
      "text/plain": [
       "[<matplotlib.lines.Line2D at 0x1e0808800d0>]"
      ]
     },
     "execution_count": 183,
     "metadata": {},
     "output_type": "execute_result"
    },
    {
     "data": {
      "image/png": "[encoded data removed]",
      "text/plain": [
       "<Figure size 640x480 with 1 Axes>"
      ]
     },
     "metadata": {},
     "output_type": "display_data"
    }
   ],
   "source": [
    "plt.xlabel('X')\n",
    "plt.ylabel('y')\n",
    "plt.xticks([3, 1.5, 0.5])\n",
    "plt.title('Softmax: y-Summe = 1')\n",
    "plt.plot(X, y)"
   ]
  },
  {
   "cell_type": "code",
   "execution_count": 184,
   "id": "12efaeb6-c8e7-4db5-9c01-32be1ac36554",
   "metadata": {},
   "outputs": [
    {
     "data": {
      "text/plain": [
       "[0.7661572065563422, 0.17095278019779026, 0.0628900132458675]"
      ]
     },
     "execution_count": 184,
     "metadata": {},
     "output_type": "execute_result"
    }
   ],
   "source": [
    "softmax_funk(X)"
   ]
  },
  {
   "cell_type": "code",
   "execution_count": 187,
   "id": "07b8b5d6-7286-4b52-856c-43a5164c1801",
   "metadata": {},
   "outputs": [
    {
     "data": {
      "text/plain": [
       "True"
      ]
     },
     "execution_count": 187,
     "metadata": {},
     "output_type": "execute_result"
    }
   ],
   "source": [
    "1 == sum( softmax_funk(X) )"
   ]
  },
  {
   "cell_type": "markdown",
   "id": "a4815bdd-2813-421f-90de-b0b814f4c6dd",
   "metadata": {},
   "source": [
    "Softmax wird hauptsächlich am Ende des Netzes benutzt, um eine Klassifizierung durchzuführen. \n",
    "\n",
    "Als Input nimmt es ein Vektor und berechnet damit die Wahrscheinlichkeit für jede Klasse. Dabei ist die Summe des Ergebnisses immer 1. \n",
    "\n",
    "Softmax eignet sich sehr gut für Multiclass-Klassifizierungen. Und Sigmoid für die Binäre-Klassifizierung. "
   ]
  },
  {
   "cell_type": "markdown",
   "id": "49b352e6-8105-492c-beab-749e358b35fa",
   "metadata": {},
   "source": [
    "Es gibt noch weitere Funktionen, die das Training positiv beeinflussen könne. Durch eine gegebene Formel sind die Funktionen einfach und schnell in Python implementierbar, man muss nur der Formel folgen."
   ]
  },
  {
   "cell_type": "markdown",
   "id": "b17b33fe-df8b-4f17-9c30-3c56713118b4",
   "metadata": {},
   "source": [
    "<h1>Keras Model</h1>"
   ]
  },
  {
   "cell_type": "markdown",
   "id": "fd839c35-5abd-4d75-98d4-03bddecdcec5",
   "metadata": {},
   "source": [
    "Wir können mit einem Überschaubaren Netz die verschiedenen Funktionen ausprobieren.\n",
    "\n",
    "Die Abbildung 1 zeigt nochmal eine kleine Übersicht eines Netzes, das genau aus einem Neuron besteht."
   ]
  },
  {
   "cell_type": "markdown",
   "id": "2ed2b1d2-b7e6-4e33-98a9-f3ce92eb1b31",
   "metadata": {},
   "source": [
    "<i>Abb1</i>: Eingabe der Features in ein einziges Neuron. Jedes Neuron hat 2 Komponente.\n",
    "\n",
    "<img src=\"./img/nn_1.PNG\" width=600 hight=400>"
   ]
  },
  {
   "cell_type": "code",
   "execution_count": 281,
   "id": "1fd8b202-4495-4ab8-aa76-847c0ca017d0",
   "metadata": {},
   "outputs": [],
   "source": [
    "# Einfaches Netz.:\n",
    "model = tf.keras.Sequential([\n",
    "    # L1: 2 Neuronen\n",
    "    # L2: 1 Neuron\n",
    "    # input_shape=(2,) => [ [1,2], [3,4] ]\n",
    "    # bias_initializer: soll 0 sein.\n",
    "    # kernel_initializer (Weights): sollen 1 sein.\n",
    "    tf.keras.layers.Dense(units=1, input_shape=(2,), bias_initializer='zeros', kernel_initializer=\"ones\", name=\"L1\"),\n",
    "])\n",
    "\n",
    "model.build(input_shape=(2,))"
   ]
  },
  {
   "cell_type": "code",
   "execution_count": 282,
   "id": "ce929a1d-e41e-4199-9be5-0cd3535079d7",
   "metadata": {},
   "outputs": [
    {
     "data": {
      "text/plain": [
       "[array([[1.],\n",
       "        [1.]], dtype=float32),\n",
       " array([0.], dtype=float32)]"
      ]
     },
     "execution_count": 282,
     "metadata": {},
     "output_type": "execute_result"
    }
   ],
   "source": [
    "model.get_layer('L1').get_weights()"
   ]
  },
  {
   "cell_type": "markdown",
   "id": "90746e9c-4c8c-41fc-8a5f-5973d5bf3314",
   "metadata": {},
   "source": [
    "Beide Weights sind mit dem Wert 1 initialisiert, Bias ist 0.\n",
    "\n",
    "Bei der Eingabe (forward pass) von [2, 2] sollte also (das) herauskommen.: <br>\n",
    "\n",
    "$\n",
    "res = w1(2) * 2 + w2(2) * 2 + 0 = 4\n",
    "$\n"
   ]
  },
  {
   "cell_type": "code",
   "execution_count": 283,
   "id": "71a5eb1e-aebd-4d9d-b859-4f2f0c11e854",
   "metadata": {},
   "outputs": [
    {
     "name": "stdout",
     "output_type": "stream",
     "text": [
      "1/1 [==============================] - 0s 30ms/step\n"
     ]
    },
    {
     "data": {
      "text/plain": [
       "array([[4.]], dtype=float32)"
      ]
     },
     "execution_count": 283,
     "metadata": {},
     "output_type": "execute_result"
    }
   ],
   "source": [
    "input_tensor = tf.convert_to_tensor([ [2, 2] ] )\n",
    "model.predict(input_tensor)"
   ]
  },
  {
   "cell_type": "code",
   "execution_count": 284,
   "id": "0ccfb034-9cee-42ea-ac44-276f05da3724",
   "metadata": {},
   "outputs": [],
   "source": [
    "## Softmax ## 1 Output Neuron. \n",
    "# - Mit einem Neuron als Output muss das Ergebnis 1 sein.\n",
    "model = tf.keras.Sequential([\n",
    "    tf.keras.layers.Dense(units=1, input_shape=(10,), \\\n",
    "                          bias_initializer='zeros', kernel_initializer=\"ones\", \\\n",
    "                         activation=\"softmax\"),\n",
    "])\n",
    "\n",
    "model.build(input_shape=(10,))"
   ]
  },
  {
   "cell_type": "code",
   "execution_count": 286,
   "id": "0ab6a6e5-43c7-4794-923f-f24837d71620",
   "metadata": {},
   "outputs": [
    {
     "name": "stdout",
     "output_type": "stream",
     "text": [
      "1/1 [==============================] - 0s 37ms/step\n"
     ]
    },
    {
     "data": {
      "text/plain": [
       "array([[1.]], dtype=float32)"
      ]
     },
     "execution_count": 286,
     "metadata": {},
     "output_type": "execute_result"
    }
   ],
   "source": [
    "X = np.arange(-5, 5, 1 )\n",
    "input_tensor = tf.convert_to_tensor([ X  ] )\n",
    "model.predict(input_tensor)"
   ]
  },
  {
   "cell_type": "code",
   "execution_count": 290,
   "id": "d1dc8344-94e5-4f63-9801-a6d4d0f64778",
   "metadata": {},
   "outputs": [],
   "source": [
    "## Softmax ## 2 Output Neuronen.\n",
    "# - Die Summe des Ergebnisses muss 1 sein. \n",
    "model = tf.keras.Sequential([\n",
    "    tf.keras.layers.Dense(units=2, input_shape=(10,), \\\n",
    "                          bias_initializer='zeros', kernel_initializer=\"ones\", \\\n",
    "                         activation=\"softmax\"),\n",
    "])\n",
    "\n",
    "model.build(input_shape=(10,))"
   ]
  },
  {
   "cell_type": "code",
   "execution_count": 293,
   "id": "ceee32da-bc54-4a95-8922-19d8374caf54",
   "metadata": {},
   "outputs": [
    {
     "name": "stdout",
     "output_type": "stream",
     "text": [
      "1/1 [==============================] - 0s 14ms/step\n"
     ]
    }
   ],
   "source": [
    "X = np.arange(-5, 5, 1 )\n",
    "input_tensor = tf.convert_to_tensor([ X  ] )\n",
    "res = model.predict(input_tensor)"
   ]
  },
  {
   "cell_type": "code",
   "execution_count": 301,
   "id": "6f154e1d-7562-49c4-9516-b6edd324af2e",
   "metadata": {},
   "outputs": [
    {
     "data": {
      "text/plain": [
       "True"
      ]
     },
     "execution_count": 301,
     "metadata": {},
     "output_type": "execute_result"
    }
   ],
   "source": [
    "1 == sum(np.array(res[0]))"
   ]
  },
  {
   "cell_type": "markdown",
   "id": "724ff737-1890-4f1c-9691-c9cff1b20831",
   "metadata": {},
   "source": [
    "Die ganzen Spielereien könnte man mit verschiedenen Funktionen und Netzaufbauten durchführen, es ist nichts anderes als die Verkettung von mathematische Operationen.\n",
    "\n",
    "Bei größeren Netzen ist es weniger überschaubar. Wenn am Anfang eines Netzes durch eine falsch eingesetzte Aktivierungsfunktion die Ergebnisse verschlechtert werden, wirkt sich das von vorne bis hinten auf das Endergebnis aus. Daher ist es wichtig zu verstehen, welche Auswirkung welche Funktionen haben, und welche man wo besser einsetzen sollte. \n",
    "\n",
    "Eine gängige Praxis ist z. B. ReLu beim Deep-Learning einzusetzen, und bei der letzten Schicht Softmax. Bei einer moderaten Trainingsdauer können verschiedene Funktionen getestet werden. Bei sehr großen Netzen sollte vorher gut überlegt werden."
   ]
  },
  {
   "cell_type": "markdown",
   "id": "5f33c502-8168-47e3-8ac8-54b0b8673577",
   "metadata": {},
   "source": [
    "Die untere Zelle zeigt nochmal ein Beispiel mit Sigmoid. Dem Ergebnis nach sieht man deutlich den Unterschied. Softmax wandelt den gesamten Vektor in den Bereich 0 bis 1 um, die Summe des Vektors ist 1. Die Zahlen kann man dann als Wahrscheinlichkeit interpretieren. Sigmoid hingegen wandelt alle Zahlen einzeln um."
   ]
  },
  {
   "cell_type": "code",
   "execution_count": 303,
   "id": "b284ca19-f159-4d11-b182-738916ebbd4a",
   "metadata": {},
   "outputs": [],
   "source": [
    "## Sigmoid ## 2 Output Neuronen.\n",
    "# - Die Summe des Ergebnisses muss 1 sein. \n",
    "model = tf.keras.Sequential([\n",
    "    tf.keras.layers.Dense(units=2, input_shape=(10,), \\\n",
    "                          bias_initializer='zeros', kernel_initializer=\"ones\", \\\n",
    "                         activation=\"sigmoid\"),\n",
    "])\n",
    "\n",
    "model.build(input_shape=(10,))"
   ]
  },
  {
   "cell_type": "code",
   "execution_count": 305,
   "id": "5f68768b-295c-415e-82df-e2847fc48051",
   "metadata": {},
   "outputs": [
    {
     "name": "stdout",
     "output_type": "stream",
     "text": [
      "1/1 [==============================] - 0s 15ms/step\n"
     ]
    },
    {
     "data": {
      "text/plain": [
       "array([[0.00669285, 0.00669285]], dtype=float32)"
      ]
     },
     "execution_count": 305,
     "metadata": {},
     "output_type": "execute_result"
    }
   ],
   "source": [
    "input_tensor = tf.convert_to_tensor([  X  ] )\n",
    "res = model.predict(input_tensor)\n",
    "res # 2 gleiche Ergebnisse, da 2 Neuronen, Weights sind alle 1."
   ]
  },
  {
   "cell_type": "code",
   "execution_count": 306,
   "id": "e6524960-57ca-4c25-aedb-62e2eb801050",
   "metadata": {},
   "outputs": [
    {
     "data": {
      "text/plain": [
       "0.0066928509242848554"
      ]
     },
     "execution_count": 306,
     "metadata": {},
     "output_type": "execute_result"
    }
   ],
   "source": [
    "# Genau dasselbe mit unserer Funktion. \n",
    "sigmoid_funk(sum(X))"
   ]
  }
 ],
 "metadata": {
  "kernelspec": {
   "display_name": "Python 3 (ipykernel)",
   "language": "python",
   "name": "python3"
  },
  "language_info": {
   "codemirror_mode": {
    "name": "ipython",
    "version": 3
   },
   "file_extension": ".py",
   "mimetype": "text/x-python",
   "name": "python",
   "nbconvert_exporter": "python",
   "pygments_lexer": "ipython3",
   "version": "3.9.19"
  }
 },
 "nbformat": 4,
 "nbformat_minor": 5
}
