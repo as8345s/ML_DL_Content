{
 "cells": [
  {
   "cell_type": "markdown",
   "id": "e5465b81-b364-4369-b8d8-e7d921814906",
   "metadata": {},
   "source": [
    "<h1>Loss-Kostenfunktion</h1>"
   ]
  },
  {
   "cell_type": "markdown",
   "id": "db0c5276-664b-48a0-8f3d-67c614b88b71",
   "metadata": {},
   "source": [
    "Loss oder auch Kostenfunkton ist ein sehr wichtiger Bestandteil, wenn es um Deep-Learning und Maschine-Learning geht. Durch das Berechnen der Abweichung des Ergebnisses von der Wahrheit (y_predicted und y_true), kann festgestellt werden wie falsch die prediction ist.\n",
    "\n",
    "Beim Trainieren soll diese Abweichung möglichst minimiert werden."
   ]
  },
  {
   "cell_type": "markdown",
   "id": "eec39b0b-17a2-4a85-a200-f4150f3725d6",
   "metadata": {},
   "source": [
    "Um diese Abweichung zu berechnen gibt es verschiedene Funktionen. Die Funktion MSE ist z. B. sehr bekannt. \n",
    "\n",
    "Es ist ein interessantes Thema, für das es auch viele gute Artikel zum Nachlesen gibt."
   ]
  },
  {
   "cell_type": "markdown",
   "id": "9113a1e7-a61d-4180-8445-971b8f89f5a0",
   "metadata": {},
   "source": [
    "<i>Abb1</i>: Eingabe der Features in ein einziges Neuron. Jedes Neuron hat 2 Komponente.\n",
    "\n",
    "<img src=\"./img/nn_1.PNG\" width=600 hight=400>"
   ]
  },
  {
   "cell_type": "markdown",
   "id": "3aab02a8-e44a-4ea9-9bed-1e604b39e975",
   "metadata": {},
   "source": [
    "Das Netz startet mit einer bestimmten Initialisierung der Gewichte, wie in der Abbildung 1 zusehen ist. Diese können mit 1 starten, oder mit jeder anderen beliebigen Zahl. Bias wird oft mit 0 initialisiert. In der Erstes Epoche (oder Batch) performt das Netz sehr schlecht, erst nach der Erfassung des Fehlers und deren Reduzierung durch das Finden des Minimums, verbessert sich die Genauigkeit durch das Anpassen dieser Gewichte.  \n"
   ]
  },
  {
   "cell_type": "markdown",
   "id": "eb05f858-0be9-4af4-9bbc-88cc323e1b8d",
   "metadata": {},
   "source": [
    "<i>Abb1</i>: MSE und MAE.\n",
    "\n",
    "<img src=\"./img/nn_5.PNG\" width=600 hight=700>"
   ]
  },
  {
   "cell_type": "markdown",
   "id": "5e3225e3-44b6-4f8f-8d6c-6e2732e166c6",
   "metadata": {},
   "source": [
    "MSE ist z. B. nützlich, wenn es negative Werte gibt.\n",
    "\n",
    "Es gibt viele Kostenfunktionen für verschiedene Einsätze. Frameworks wie Tensorflow bieten eine gute Übersicht der verfügbaren Kostenfunktionen, die während des Trainings genutzt werden können.\n",
    ">https://www.tensorflow.org/api_docs/python/tf/keras/losses [Letzter Zugriff: 24.06.2024]\n",
    "\n",
    "\n",
    "Wie auch bei den Aktivierungsfunktionen können diese einfach in Python umgesetzt werden, wenn man der Formel folgt.\n",
    "\n",
    "Einige dieser Kostenfunktionen haben Parameter die eingestellt werden könne. Die Funktion Log-Loss, auch genannt Binary-Crossentropy, hat solche Parameter\n",
    "\n",
    "> https://www.tensorflow.org/api_docs/python/tf/keras/losses/BinaryCrossentropy [Letzter Zugriff: 24.06.2024]"
   ]
  },
  {
   "cell_type": "markdown",
   "id": "1544b165-68c4-466f-a205-6c15c1d38cc9",
   "metadata": {},
   "source": [
    "Der Einsatz von Log-Loss findet Platz bei Klassifizierungsproblemen, wo der Output des Netzes eine Wahrscheinlichkeit für eine Klasse ist. \n",
    "Dabei befinden sich die Werte zwichen 0 und 1 (Output ist Binär). Bei Multiclass-Klassifizierungen und der Aktivierungsfunktion Softmax wird Log-Loss ebenfalls eingesetzt.  "
   ]
  },
  {
   "cell_type": "code",
   "execution_count": null,
   "id": "dbc395cb-6b7e-4e8b-82c2-cc3d67fd9550",
   "metadata": {},
   "outputs": [],
   "source": []
  },
  {
   "cell_type": "code",
   "execution_count": null,
   "id": "12e46b5d-132e-41fb-822c-767fdba910c0",
   "metadata": {},
   "outputs": [],
   "source": []
  },
  {
   "cell_type": "code",
   "execution_count": null,
   "id": "7dc4ca00-3e0d-4d84-bb74-229e9a633a74",
   "metadata": {},
   "outputs": [],
   "source": []
  },
  {
   "cell_type": "code",
   "execution_count": null,
   "id": "4db74182-106b-4647-b1c0-5771f692ddce",
   "metadata": {},
   "outputs": [],
   "source": []
  },
  {
   "cell_type": "code",
   "execution_count": null,
   "id": "66fed53f-4f16-475a-919f-c6d3cf30053f",
   "metadata": {},
   "outputs": [],
   "source": []
  },
  {
   "cell_type": "code",
   "execution_count": null,
   "id": "df4eb1a8-4d46-4b06-ab64-893e579c3a35",
   "metadata": {},
   "outputs": [],
   "source": []
  },
  {
   "cell_type": "code",
   "execution_count": null,
   "id": "7c702992-8374-4050-bc60-4e1bb74ff934",
   "metadata": {},
   "outputs": [],
   "source": []
  },
  {
   "cell_type": "code",
   "execution_count": null,
   "id": "a0c44ed5-a9ee-4594-9b7f-117bb68686b0",
   "metadata": {},
   "outputs": [],
   "source": []
  },
  {
   "cell_type": "code",
   "execution_count": null,
   "id": "c26b2fb2-5c66-4d9f-8db7-caea0f2da474",
   "metadata": {},
   "outputs": [],
   "source": []
  },
  {
   "cell_type": "markdown",
   "id": "39ff9a23-6ceb-444e-b791-d8bc50dcc7a8",
   "metadata": {},
   "source": [
    "$$\n",
    "\\frac{1}{n} \\ \\sum_{i=1}^{n}{(y_i - \\hat{y}_i)^{2}}\n",
    "$$"
   ]
  },
  {
   "cell_type": "code",
   "execution_count": null,
   "id": "0060e21c-f73b-4a47-8430-97a25594fd7d",
   "metadata": {},
   "outputs": [],
   "source": []
  }
 ],
 "metadata": {
  "kernelspec": {
   "display_name": "Python 3 (ipykernel)",
   "language": "python",
   "name": "python3"
  },
  "language_info": {
   "codemirror_mode": {
    "name": "ipython",
    "version": 3
   },
   "file_extension": ".py",
   "mimetype": "text/x-python",
   "name": "python",
   "nbconvert_exporter": "python",
   "pygments_lexer": "ipython3",
   "version": "3.9.19"
  }
 },
 "nbformat": 4,
 "nbformat_minor": 5
}
