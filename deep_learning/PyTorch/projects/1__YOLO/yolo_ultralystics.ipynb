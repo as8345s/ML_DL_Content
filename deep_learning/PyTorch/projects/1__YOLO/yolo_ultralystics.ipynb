{
 "cells": [
  {
   "cell_type": "markdown",
   "id": "b38b4024-8398-4518-bd1c-3a41365f8b64",
   "metadata": {},
   "source": [
    "<h1>YOLO</h1>"
   ]
  },
  {
   "cell_type": "markdown",
   "id": "507e94e0-9378-4f73-83bd-bac81820dfb5",
   "metadata": {},
   "source": [
    "[Details zur Funktionsweise von YOLO folgen]"
   ]
  },
  {
   "cell_type": "markdown",
   "id": "19920145-2279-4de0-923f-6095f1f0cd0e",
   "metadata": {},
   "source": [
    "<h2>1. Install</h2>"
   ]
  },
  {
   "cell_type": "markdown",
   "id": "aca91060-a4a1-4408-8e9d-62be9bf53b1e",
   "metadata": {},
   "source": [
    "Um nicht alles per Hand zu programmieren, gibt es Libraries, die eine bequeme Nutzung von YOLO erlauben.\n",
    "\n",
    "Als Erstes muss PyTorch installiert werden. <br>\n",
    "> https://pytorch.org/get-started/locally/ [Letzter Zugriff: 08.07.2024]\n",
    "\n",
    "Folge diesen Anweisungen, um Ultralytics zu installieren: <br>\n",
    "> https://github.com/ultralytics/ultralytics [Letzter Zugriff: 08.07.2024] <br>\n",
    "> https://docs.ultralytics.com/quickstart/   [Letzter Zugriff: 08.07.2024]\n",
    "\n",
    "\n",
    "Danach kann dieser Befehl in die Konsole eingegeben werden: <br>\n",
    "`yolo predict model=yolov8s.pt source='https://ultralytics.com/images/bus.jpg'` <br>\n",
    "\n",
    "Damit wird ein Bild heruntergeladen und direkt für die Predicion genutzt. Dabei wird ein Pre-Trained Model verwendet.\n",
    "\n",
    "<u>Hinweis</u>:<br>\n",
    "Um diese Prediction auszuführen, müssen alle Libraries verfügbar sein. <br>\n",
    "Nicht vorhandene Libraries können z. B. mit `pip install <package>==<version>` installiert werden. <br>\n",
    "- Bei Numpy kann der folgende Fehler auftreten: `ImportError: numpy.core.multiarray failed to import`. Um das zu beheben muss eine spezifische Numpy Version installiert werden (hier: 1.26.0 statt 2.0.0).\n",
    "- Dasselbe gilt auf für andere Packages."
   ]
  },
  {
   "cell_type": "code",
   "execution_count": 1,
   "id": "a718025a-df98-4f74-a4f2-6de2e3fd5f1a",
   "metadata": {},
   "outputs": [
    {
     "name": "stdout",
     "output_type": "stream",
     "text": [
      "Ultralytics YOLOv8.2.51 ðŸš€ Python-3.12.4 torch-2.3.1+cpu CPU (Intel Core(TM) i9-9900K 3.60GHz)\n",
      "YOLOv8s summary (fused): 168 layers, 11156544 parameters, 0 gradients, 28.6 GFLOPs\n",
      "\n",
      "Found https://ultralytics.com/images/bus.jpg locally at bus.jpg\n",
      "image 1/1 C:\\Users\\Alexander\\Desktop\\ML_DL_self_learn\\GitHub\\ML_DL_Content\\deep_learning\\PyTorch\\projects\\1__YOLO\\bus.jpg: 640x480 4 persons, 1 bus, 378.8ms\n",
      "Speed: 5.0ms preprocess, 378.8ms inference, 13.0ms postprocess per image at shape (1, 3, 640, 480)\n",
      "Results saved to \u001b[1mruns\\detect\\predict2\u001b[0m\n",
      "ðŸ’¡ Learn more at https://docs.ultralytics.com/modes/predict\n"
     ]
    }
   ],
   "source": [
    "# Befehl kann auch direkt im Notebook ausgeführt werden.\n",
    "!yolo predict model=yolov8s.pt source='https://ultralytics.com/images/bus.jpg'"
   ]
  },
  {
   "cell_type": "markdown",
   "id": "9dbd34f1-d68a-420d-9f70-cd18facf286f",
   "metadata": {},
   "source": [
    "Das Ergebnis: <br>\n",
    "\n",
    "Linkes Bild: Iput <br>\n",
    "Rechtes Bild: Output<br>"
   ]
  },
  {
   "cell_type": "markdown",
   "id": "fbc528ef-deb1-4cc8-9a54-7e0319efbcb8",
   "metadata": {},
   "source": [
    "<table>\n",
    "    <tr>\n",
    "      <td>\n",
    "      <img src=\"bus.jpg\" hight=300 width=300>\n",
    "      </td>\n",
    "      <td>\n",
    "        <img src=\"./runs/detect/predict/bus.jpg\"  hight=300 width=300>\n",
    "      </td>\n",
    "     </tr>\n",
    "</table>"
   ]
  },
  {
   "cell_type": "markdown",
   "id": "62b7f4f5-aeb5-4144-b187-ae2eb4ed344e",
   "metadata": {},
   "source": [
    "Wie geht das?: <br>\n",
    "Das Netzwerk gibt ein Vektor aus, wo unter anderem die Daten für die Boundaries stehen. Diese Müssen nach Klassen in das Bild eingezeichnet werden. <br>\n",
    "Vor dem Einzeichnen wird ein Algorithmus names <u>IOU</u> verwendet, um überlappenden Boxen zu einer zu verschmelzen.\n",
    "- Zudem werden noch andere Daten ausgegeben, wie: 4 persons, 1 bus, ..., siehe unten.\n",
    "\n",
    "Das alles passiert intern, und als Ausgabe bekommen wir das Bild. Die eigentliche Ausgabe des Netzes ist ein Vektor, bestehend aus mehreren sogenannten <u>Anchor Boxen<u>. <br>\n",
    "\n",
    "Siehe auch: <br>\n",
    "> YOLOv3 From Scratch Using PyTorch: <br>\n",
    "> https://www.geeksforgeeks.org/yolov3-from-scratch-using-pytorch/ [Letzter Zugriff: 08.07.2024]\n"
   ]
  },
  {
   "cell_type": "code",
   "execution_count": 2,
   "id": "2648d6b6-954b-49bb-b557-11e897b3240b",
   "metadata": {},
   "outputs": [
    {
     "name": "stdout",
     "output_type": "stream",
     "text": [
      "\n",
      "image 1/1 C:\\Users\\Alexander\\Desktop\\ML_DL_self_learn\\GitHub\\ML_DL_Content\\deep_learning\\PyTorch\\projects\\1__YOLO\\bus.jpg: 640x480 4 persons, 1 bus, 1 stop sign, 153.0ms\n",
      "Speed: 3.0ms preprocess, 153.0ms inference, 2.0ms postprocess per image at shape (1, 3, 640, 480)\n"
     ]
    }
   ],
   "source": [
    "## Als Code: ## \n",
    "from ultralytics import YOLO\n",
    "\n",
    "# Lade Model Typ Nano. \n",
    "# - 8n: YOLO Nano, es gibt noch s: small, L: Large und x: extra large.\n",
    "model = YOLO(\"yolov8n.pt\")  # load a pretrained model (recommended for training)\n",
    "\n",
    "# Führe Prediction aus. \n",
    "results = model(\"bus.jpg\")  "
   ]
  },
  {
   "cell_type": "code",
   "execution_count": null,
   "id": "7d9adc1b-2e77-4ee7-8df1-7d88a3d87f1b",
   "metadata": {},
   "outputs": [],
   "source": []
  },
  {
   "cell_type": "code",
   "execution_count": null,
   "id": "fc4f29d3-d868-4274-ade8-598126242102",
   "metadata": {},
   "outputs": [],
   "source": []
  },
  {
   "cell_type": "code",
   "execution_count": null,
   "id": "9b4da2f6-5868-4903-b97a-997f3f47e2ed",
   "metadata": {},
   "outputs": [],
   "source": []
  },
  {
   "cell_type": "code",
   "execution_count": null,
   "id": "8716fb62-502c-45c7-921b-c2f17a998619",
   "metadata": {},
   "outputs": [],
   "source": []
  },
  {
   "cell_type": "code",
   "execution_count": null,
   "id": "ddbc9a2f-2516-4233-9f82-38caa27c4a74",
   "metadata": {},
   "outputs": [],
   "source": []
  },
  {
   "cell_type": "code",
   "execution_count": null,
   "id": "9ed4885b-0567-4d13-b951-da79883c2b00",
   "metadata": {},
   "outputs": [],
   "source": []
  },
  {
   "cell_type": "code",
   "execution_count": null,
   "id": "4bbb602f-d6d3-4ca3-9cb3-bcdc5ae25bf9",
   "metadata": {},
   "outputs": [],
   "source": []
  },
  {
   "cell_type": "code",
   "execution_count": null,
   "id": "e312ace8-7c69-4cb7-b2a1-88302132d312",
   "metadata": {},
   "outputs": [],
   "source": []
  },
  {
   "cell_type": "code",
   "execution_count": null,
   "id": "7abf8779-af4b-417b-a3c1-173e717def58",
   "metadata": {},
   "outputs": [],
   "source": []
  },
  {
   "cell_type": "code",
   "execution_count": null,
   "id": "8e5100be-3ca0-4e98-b55f-dad66c124eed",
   "metadata": {},
   "outputs": [],
   "source": []
  },
  {
   "cell_type": "code",
   "execution_count": null,
   "id": "f816a3bb-1719-4971-ad11-024ff668b4d7",
   "metadata": {},
   "outputs": [],
   "source": []
  },
  {
   "cell_type": "code",
   "execution_count": null,
   "id": "920734d4-0943-452e-8d11-a12e1affcafa",
   "metadata": {},
   "outputs": [],
   "source": []
  }
 ],
 "metadata": {
  "kernelspec": {
   "display_name": "Python 3 (ipykernel)",
   "language": "python",
   "name": "python3"
  },
  "language_info": {
   "codemirror_mode": {
    "name": "ipython",
    "version": 3
   },
   "file_extension": ".py",
   "mimetype": "text/x-python",
   "name": "python",
   "nbconvert_exporter": "python",
   "pygments_lexer": "ipython3",
   "version": "3.12.4"
  }
 },
 "nbformat": 4,
 "nbformat_minor": 5
}
