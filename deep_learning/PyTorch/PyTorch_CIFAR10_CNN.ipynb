{
 "cells": [
  {
   "cell_type": "markdown",
   "id": "62efe47d-7e49-4929-ac1a-0d0ce1ce6751",
   "metadata": {},
   "source": [
    "<h1>CIFAR-10 Klassifizierung mit CNN</h1>"
   ]
  },
  {
   "cell_type": "markdown",
   "id": "456db80a-444d-4194-b044-4f7cd8b8e76f",
   "metadata": {},
   "source": [
    "Wie bei TensorFlow ist die Verwendung von PyTorch relative einfach und überschaubar.\n",
    "\n",
    "Das Notebook deckt dasselbe Thema ab, wie das Notebook das mit TensorFlow erstellt wurde.\n",
    "\n",
    "Das CIFAR-10 Dataset hat 10 Klassen und insgesamt 60K Bilder in der Auflösung 32x32. 50K für das Training und 10K für das Testen."
   ]
  },
  {
   "cell_type": "markdown",
   "id": "9ec36730-8cd1-406e-aadc-8e112ea4da7c",
   "metadata": {},
   "source": [
    "> The CIFAR-10 dataset\n",
    "https://www.cs.toronto.edu/~kriz/cifar.html [Letzter Zugriff: 09.07.2024]\n",
    ">\n",
    "> Reference:\n",
    "Learning Multiple Layers of Features from Tiny Images, Alex Krizhevsky, 2009."
   ]
  },
  {
   "cell_type": "markdown",
   "id": "ed877b98-02db-4a19-bca1-9ddb20d64532",
   "metadata": {},
   "source": [
    "Wie auch bei TensorFlow bietet PyTorch auch Build-In Datasets an, die z. B. für Versuche genutzt werden können."
   ]
  },
  {
   "cell_type": "code",
   "execution_count": 3,
   "id": "425480c1-0688-4360-a7ac-913ca67c479f",
   "metadata": {},
   "outputs": [],
   "source": [
    "# Imports.\n",
    "import torch   as pt\n",
    "import torchvision \n",
    "import pandas  as pd\n",
    "import seaborn as sns\n",
    "\n",
    "from sklearn.metrics import classification_report\n",
    "import matplotlib.pyplot as plt"
   ]
  },
  {
   "cell_type": "code",
   "execution_count": 11,
   "id": "21850424-6399-498d-bd18-b530702cecd5",
   "metadata": {},
   "outputs": [
    {
     "data": {
      "text/plain": [
       "'0.18.1+cpu'"
      ]
     },
     "execution_count": 11,
     "metadata": {},
     "output_type": "execute_result"
    }
   ],
   "source": [
    "torchvision.__version__"
   ]
  },
  {
   "cell_type": "code",
   "execution_count": 109,
   "id": "ad3b8830-083e-4a5c-adbf-09c0e733dd1e",
   "metadata": {},
   "outputs": [
    {
     "data": {
      "text/plain": [
       "'2.3.1+cpu'"
      ]
     },
     "execution_count": 109,
     "metadata": {},
     "output_type": "execute_result"
    }
   ],
   "source": [
    "pt.__version__"
   ]
  },
  {
   "cell_type": "markdown",
   "id": "90c8a4f5-aacc-4675-8da6-79f121e978aa",
   "metadata": {},
   "source": [
    "<h2>Dataset und Details</h2>"
   ]
  },
  {
   "cell_type": "code",
   "execution_count": 128,
   "id": "23af7466-1375-41da-9878-46487ffd7568",
   "metadata": {},
   "outputs": [],
   "source": [
    "# Gebe Transformation an.\n",
    "# - Data Argumentation, um Overfitting zu vermeiden. Daten können auch direkt normalisiert werden.\n",
    "# - Siehe:\n",
    "# https://pytorch.org/vision/main/generated/torchvision.transforms.Compose.html\n",
    "# https://pytorch.org/vision/stable/transforms.html\n",
    "# https://pytorch.org/vision/main/auto_examples/transforms/plot_transforms_getting_started.html\n",
    "# https://www.geeksforgeeks.org/how-to-normalize-images-in-pytorch/\n",
    "transform = torchvision.transforms.Compose([  # Liste der Transformationen. \n",
    "   # torchvision.transforms. < Transformation >\n",
    "    torchvision.transforms.ToTensor(),  # Bild zu Tensor [c, w, h]\n",
    "    torchvision.transforms.Normalize((0.485, 0.456, 0.406), (0.5, 0.5, 0.5)),\n",
    "    torchvision.transforms.RandomRotation(0.2)\n",
    "    # Weitere Angaben.\n",
    "    \n",
    "])"
   ]
  },
  {
   "cell_type": "code",
   "execution_count": 130,
   "id": "78d0df97-138c-4687-a0f6-c7a823f5b489",
   "metadata": {},
   "outputs": [
    {
     "name": "stdout",
     "output_type": "stream",
     "text": [
      "Files already downloaded and verified\n"
     ]
    }
   ],
   "source": [
    "# Erstellt direkt Trainingset.\n",
    "# - Siehe Parameter. \n",
    "trainset = torchvision.datasets.CIFAR10(root=\"./data/datasets\", train=True, download=True,  transform=transform)"
   ]
  },
  {
   "cell_type": "code",
   "execution_count": 14,
   "id": "231966cb-e4bb-49fc-bf96-b60137098d8e",
   "metadata": {},
   "outputs": [
    {
     "data": {
      "text/plain": [
       "Dataset CIFAR10\n",
       "    Number of datapoints: 50000\n",
       "    Root location: ./data/datasets\n",
       "    Split: Train"
      ]
     },
     "execution_count": 14,
     "metadata": {},
     "output_type": "execute_result"
    }
   ],
   "source": [
    "trainset"
   ]
  },
  {
   "cell_type": "markdown",
   "id": "0cf75a12-1b92-4841-96e4-ea646bae93ba",
   "metadata": {},
   "source": [
    "Einer der größten Unterschiede zu TensorFlow ist, dass es standardmäßig eine Trainingsschleife gibt, die beliebig angepasst werden kann."
   ]
  },
  {
   "cell_type": "code",
   "execution_count": 15,
   "id": "f13cf74c-9b3e-48ac-a475-411ac1fc34f0",
   "metadata": {},
   "outputs": [
    {
     "name": "stdout",
     "output_type": "stream",
     "text": [
      "0 (<PIL.Image.Image image mode=RGB size=32x32 at 0x222455E2D50>, 6)\n",
      "1 (<PIL.Image.Image image mode=RGB size=32x32 at 0x222455E0A10>, 9)\n",
      "2 (<PIL.Image.Image image mode=RGB size=32x32 at 0x222455E2D50>, 9)\n",
      "3 (<PIL.Image.Image image mode=RGB size=32x32 at 0x222455E0A10>, 4)\n",
      "4 (<PIL.Image.Image image mode=RGB size=32x32 at 0x222455E2D50>, 1)\n"
     ]
    }
   ],
   "source": [
    "stop = 5\n",
    "i=0\n",
    "for x, y in enumerate(trainset):\n",
    "    print(x, y)  # Ausgabe Bild und Klasse. \n",
    "    i+=1\n",
    "    if i ==stop:\n",
    "        break  "
   ]
  },
  {
   "cell_type": "code",
   "execution_count": 16,
   "id": "ec51c291-1cb2-46d4-b7f9-016483d1d8b4",
   "metadata": {},
   "outputs": [
    {
     "data": {
      "text/plain": [
       "(<PIL.Image.Image image mode=RGB size=32x32>, 6)"
      ]
     },
     "execution_count": 16,
     "metadata": {},
     "output_type": "execute_result"
    }
   ],
   "source": [
    "trainset[0]"
   ]
  },
  {
   "cell_type": "code",
   "execution_count": 17,
   "id": "7a79e4a8-0521-45af-86fc-23011d2abb9b",
   "metadata": {},
   "outputs": [
    {
     "data": {
      "text/plain": [
       "<matplotlib.image.AxesImage at 0x22247608e60>"
      ]
     },
     "execution_count": 17,
     "metadata": {},
     "output_type": "execute_result"
    },
    {
     "data": {
      "image/png": "[encoded data removed]",
      "text/plain": [
       "<Figure size 480x480 with 1 Axes>"
      ]
     },
     "metadata": {},
     "output_type": "display_data"
    }
   ],
   "source": [
    "plt.matshow(trainset[0][0])"
   ]
  },
  {
   "cell_type": "code",
   "execution_count": 84,
   "id": "18837925-5e54-42dd-a416-e2dd5da9bf86",
   "metadata": {},
   "outputs": [
    {
     "data": {
      "text/plain": [
       "{0: 'plane',\n",
       " 1: 'car',\n",
       " 2: 'bird',\n",
       " 3: 'cat',\n",
       " 4: 'deer',\n",
       " 5: 'dog',\n",
       " 6: 'frog',\n",
       " 7: 'horse',\n",
       " 8: 'ship',\n",
       " 9: 'truck'}"
      ]
     },
     "execution_count": 84,
     "metadata": {},
     "output_type": "execute_result"
    }
   ],
   "source": [
    "classes = ['plane', 'car', 'bird', 'cat',\n",
    "           'deer', 'dog', 'frog', 'horse', 'ship', 'truck']\n",
    "class_dict = {}\n",
    "for i in range(len(classes)):\n",
    "    class_dict[i] = classes[i]"
   ]
  },
  {
   "cell_type": "code",
   "execution_count": 131,
   "id": "6294c499-4d2b-4d01-adfe-f469870f5e24",
   "metadata": {},
   "outputs": [
    {
     "name": "stdout",
     "output_type": "stream",
     "text": [
      "Files already downloaded and verified\n"
     ]
    }
   ],
   "source": [
    "# Testset:\n",
    "# - train=False\n",
    "testset     = torchvision.datasets.CIFAR10(root=\"./data/datasets\", train=True, download=True,  transform=transform)\n",
    "\n",
    "# Dataloader haben verschiedene wichtige Parameter. \n",
    "# - Hier nutzen wir nur einige.\n",
    "\n",
    "trainloader = pt.utils.data.DataLoader( trainset )\n",
    "testloader  = pt.utils.data.DataLoader( trainset )"
   ]
  },
  {
   "cell_type": "markdown",
   "id": "5c088a01-b761-4f99-8f26-d0a3c4e97799",
   "metadata": {},
   "source": [
    "Danach erstellen wir das Model."
   ]
  },
  {
   "cell_type": "code",
   "execution_count": 116,
   "id": "58182b0f-06dd-4f02-85cc-eaf94ad39de6",
   "metadata": {},
   "outputs": [
    {
     "data": {
      "text/plain": [
       "MaxPool2d(kernel_size=2, stride=2, padding=0, dilation=1, ceil_mode=False)"
      ]
     },
     "execution_count": 116,
     "metadata": {},
     "output_type": "execute_result"
    }
   ],
   "source": [
    "layer = pt.nn.MaxPool2d(2, 2)\n",
    "layer"
   ]
  },
  {
   "cell_type": "markdown",
   "id": "5c18325f-3e04-4af5-832c-30fe4d602e05",
   "metadata": {},
   "source": [
    "<h2>Model und Training</h2>"
   ]
  },
  {
   "cell_type": "code",
   "execution_count": 156,
   "id": "38362f4c-36fa-4ae0-ada7-2f60e6e618db",
   "metadata": {},
   "outputs": [],
   "source": [
    "\n",
    "# - Siehe:\n",
    "#   nn:     https://pytorch.org/docs/stable/nn.html\n",
    "#   Conv2D: https://pytorch.org/docs/stable/generated/torch.nn.Conv2d.html#torch.nn.Conv2d\n",
    "#   torch.nn.Conv2d(in_channels, out_channels, kernel_size, stride=1, padding=0, dilation=1, groups=1, bias=True, padding_mode='zeros', device=None, dtype=None)\n",
    "\n",
    "# in_channels=3, wenn RGB, wenn grau: 1.  \n",
    "# out_channels: n-feature Maps, diese dann als Input nutzen. \n",
    "# kernel_size: größe des Filters. Int oder Tupel. \n",
    "# Zusammengefasst: pt.nn.Conv2d(in_channels,  out_channels, kernel_size, ...) \n",
    "\n",
    "class my_model(pt.nn.Module):\n",
    "    def __init__(self):\n",
    "        super().__init__()\n",
    "        # Erstelle verschiedene Schichten.\n",
    "        # - Faltungsnetz \n",
    "        self.conv1 = pt.nn.Conv2d(in_channels=3, out_channels=5, kernel_size=(3, 3))\n",
    "        self.pool  = pt.nn.MaxPool2d(2, 2)  # Pooling. pt.nn.MaxPool2d(kernel_size=2, stride=2, padding=0, ...) \n",
    "        self.conv2 = pt.nn.Conv2d(5, 14, 5)\n",
    "        # - ANN\n",
    "        self.fc1 = pt.nn.Linear(14 * 5 * 5, 100) #  torch.nn.Linear(in_features, out_features, bias=True, device=None, dtype=None)\n",
    "        self.fc2 = pt.nn.Linear(100, 50)\n",
    "        self.fc3 = pt.nn.Linear(50, 10)\n",
    "        \n",
    "    # Forward-Pass.\n",
    "    def forward(self, x):\n",
    "        # Nutze definiertes Pooling und Aktivierungsfunktion. \n",
    "        x = self.pool( pt.nn.functional.relu( self.conv1(x) ))\n",
    "        x = self.pool( pt.nn.functional.relu( self.conv2(x) ))\n",
    "        # Flattern und an ANN anschließen. \n",
    "        x = pt.flatten(x, 1) \n",
    "        x = pt.nn.functional.relu( self.fc1(x))\n",
    "        x = pt.nn.functional.relu( self.fc2(x))\n",
    "        x = self.fc3(x)\n",
    "        return x"
   ]
  },
  {
   "cell_type": "code",
   "execution_count": 157,
   "id": "67a08cf1-e140-491b-acc0-c4e7a5ab34e2",
   "metadata": {},
   "outputs": [],
   "source": [
    "model = my_model()"
   ]
  },
  {
   "cell_type": "code",
   "execution_count": 158,
   "id": "38aa6e88-3b46-48e8-87c9-171a8395347e",
   "metadata": {},
   "outputs": [
    {
     "data": {
      "text/plain": [
       "my_model(\n",
       "  (conv1): Conv2d(3, 5, kernel_size=(3, 3), stride=(1, 1))\n",
       "  (pool): MaxPool2d(kernel_size=2, stride=2, padding=0, dilation=1, ceil_mode=False)\n",
       "  (conv2): Conv2d(5, 14, kernel_size=(5, 5), stride=(1, 1))\n",
       "  (fc1): Linear(in_features=350, out_features=100, bias=True)\n",
       "  (fc2): Linear(in_features=100, out_features=50, bias=True)\n",
       "  (fc3): Linear(in_features=50, out_features=10, bias=True)\n",
       ")"
      ]
     },
     "execution_count": 158,
     "metadata": {},
     "output_type": "execute_result"
    }
   ],
   "source": [
    "model"
   ]
  },
  {
   "cell_type": "code",
   "execution_count": 159,
   "id": "5a147366-3516-4072-8906-7138952cb109",
   "metadata": {},
   "outputs": [],
   "source": [
    "# Erstelle Kostenfunktion und Optimierer für Gradientenabstieg.\n",
    "\n",
    "criterion = pt.nn.CrossEntropyLoss()\n",
    "optimizer = pt.optim.SGD(model.parameters(), lr=0.001, momentum=0.9)"
   ]
  },
  {
   "cell_type": "code",
   "execution_count": 160,
   "id": "c9b7f7ab-85c5-4f4a-a5ca-99ed34180c31",
   "metadata": {},
   "outputs": [
    {
     "data": {
      "text/plain": [
       "SGD (\n",
       "Parameter Group 0\n",
       "    dampening: 0\n",
       "    differentiable: False\n",
       "    foreach: None\n",
       "    fused: None\n",
       "    lr: 0.001\n",
       "    maximize: False\n",
       "    momentum: 0.9\n",
       "    nesterov: False\n",
       "    weight_decay: 0\n",
       ")"
      ]
     },
     "execution_count": 160,
     "metadata": {},
     "output_type": "execute_result"
    }
   ],
   "source": [
    "optimizer"
   ]
  },
  {
   "cell_type": "markdown",
   "id": "01c45ae7-18c6-45ea-8e77-375a3bc24132",
   "metadata": {},
   "source": [
    "Dann erstellen wir eine Trainingsschleife, wo einiges an Zusätzen dazugepackt werden kann. "
   ]
  },
  {
   "cell_type": "code",
   "execution_count": 162,
   "id": "87ae6eb1-be6f-4d76-bd0f-32bfe55dad89",
   "metadata": {
    "scrolled": true
   },
   "outputs": [
    {
     "name": "stdout",
     "output_type": "stream",
     "text": [
      "[1,  2000] loss: 2.057\n",
      "[1,  4000] loss: 4.032\n",
      "[1,  6000] loss: 5.896\n",
      "[1,  8000] loss: 7.705\n",
      "[1, 10000] loss: 9.493\n",
      "[1, 12000] loss: 11.217\n",
      "[1, 14000] loss: 12.915\n",
      "[1, 16000] loss: 14.638\n",
      "[1, 18000] loss: 16.317\n",
      "[1, 20000] loss: 17.992\n",
      "[1, 22000] loss: 19.621\n",
      "[1, 24000] loss: 21.208\n",
      "[1, 26000] loss: 22.802\n",
      "[1, 28000] loss: 24.387\n",
      "[1, 30000] loss: 25.959\n",
      "[1, 32000] loss: 27.555\n",
      "[1, 34000] loss: 29.204\n",
      "[1, 36000] loss: 30.783\n",
      "[1, 38000] loss: 32.355\n",
      "[1, 40000] loss: 33.926\n",
      "[1, 42000] loss: 35.491\n",
      "[1, 44000] loss: 37.053\n",
      "[1, 46000] loss: 38.598\n",
      "[1, 48000] loss: 40.141\n",
      "[1, 50000] loss: 41.647\n",
      "[2,  2000] loss: 1.525\n",
      "[2,  4000] loss: 3.066\n",
      "[2,  6000] loss: 4.590\n",
      "[2,  8000] loss: 6.114\n",
      "[2, 10000] loss: 7.622\n",
      "[2, 12000] loss: 9.117\n",
      "[2, 14000] loss: 10.627\n",
      "[2, 16000] loss: 12.150\n",
      "[2, 18000] loss: 13.649\n",
      "[2, 20000] loss: 15.150\n",
      "[2, 22000] loss: 16.642\n",
      "[2, 24000] loss: 18.077\n",
      "[2, 26000] loss: 19.519\n",
      "[2, 28000] loss: 20.975\n",
      "[2, 30000] loss: 22.440\n",
      "[2, 32000] loss: 23.914\n",
      "[2, 34000] loss: 25.460\n",
      "[2, 36000] loss: 26.950\n",
      "[2, 38000] loss: 28.423\n",
      "[2, 40000] loss: 29.890\n",
      "[2, 42000] loss: 31.354\n",
      "[2, 44000] loss: 32.855\n",
      "[2, 46000] loss: 34.318\n",
      "[2, 48000] loss: 35.757\n",
      "[2, 50000] loss: 37.211\n"
     ]
    }
   ],
   "source": [
    "epoches = 1\n",
    "for epoch in range(epoches):   # n-Epochen\n",
    "\n",
    "    epochs_loss = 0.0\n",
    "    \n",
    "    for i, data in enumerate(trainloader, 0):  # Iteriere durch Dataset. \n",
    "        \n",
    "        inputs, labels = data\n",
    "\n",
    "        # Setze Gradienten auf 0 für jedes mini-Batch.\n",
    "        optimizer.zero_grad()\n",
    "\n",
    "        outputs = model(inputs)   # Fowards-Pass: Schiebe Daten in das Netz und hole Ergebnis. Siehe: https://pytorch.org/tutorials/beginner/basics/optimization_tutorial.html\n",
    "        loss = criterion(outputs, labels)  # Berechne den Fehler mit der angegebenen Kostenfunktion. \n",
    "        loss.backward()                    # Passe Weights durch den angegebenen Gradientenasbtieg an. \n",
    "        \n",
    "        optimizer.step()  # Führe die Anpassung jetzt durch. \n",
    "\n",
    "        # PyTorch liefert von sich aus keine Ausgaben wie TensorFlow.\n",
    "        # - Hier können wir kreative Outputs generieren (oder an jeder anderen Stelle in der Schleife)\n",
    "        epochs_loss += loss.item()\n",
    "        if i % 2000 == 1999:    # Ausgabe alle 2000 mini-batches\n",
    "            print(f'[{epoch + 1}, {i + 1:5d}] loss: {epochs_loss / 2000:.3f}')\n",
    "            running_loss = 0.0"
   ]
  },
  {
   "cell_type": "markdown",
   "id": "7c3711aa-5ee1-4df2-87f1-fa4ffd668a10",
   "metadata": {},
   "source": [
    "Am Ende ohne die Kommentare und Erklärungen sieht es kompakt und sauber aus. "
   ]
  },
  {
   "cell_type": "markdown",
   "id": "d6e7f846-7538-4662-b4c6-b239ec3f23b0",
   "metadata": {},
   "source": [
    "<h2>Testen</h2>"
   ]
  },
  {
   "cell_type": "markdown",
   "id": "e2bb1f6b-6c4a-4095-9083-0695f6496f1f",
   "metadata": {},
   "source": [
    "Als Output bekommen wir einen Tensor. Der Index des höchsten Wertes gibt die Klasse an, die vorhergesagt wird."
   ]
  },
  {
   "cell_type": "code",
   "execution_count": 200,
   "id": "569a9e42-fb62-492b-a161-a30350a58fb1",
   "metadata": {},
   "outputs": [
    {
     "data": {
      "text/plain": [
       "torch.return_types.max(\n",
       "values=tensor([0.3000]),\n",
       "indices=tensor([2]))"
      ]
     },
     "execution_count": 200,
     "metadata": {},
     "output_type": "execute_result"
    }
   ],
   "source": [
    "# Index des höchsten Wertes. \n",
    "pt.max(pt.tensor([[ 0.1,  0.2, 0.3]]), 1)"
   ]
  },
  {
   "cell_type": "code",
   "execution_count": 201,
   "id": "d1bdf9b1-c9ac-4161-99be-9b604f39da1d",
   "metadata": {},
   "outputs": [
    {
     "data": {
      "text/plain": [
       "torch.return_types.max(\n",
       "values=tensor([0.4000]),\n",
       "indices=tensor([1]))"
      ]
     },
     "execution_count": 201,
     "metadata": {},
     "output_type": "execute_result"
    }
   ],
   "source": [
    "pt.max(pt.tensor([[ 0.2,  0.4, 0.1]]), 1)"
   ]
  },
  {
   "cell_type": "code",
   "execution_count": 202,
   "id": "de6dd37f-553d-4cd0-92a9-8d973bb87b34",
   "metadata": {},
   "outputs": [
    {
     "name": "stdout",
     "output_type": "stream",
     "text": [
      "tensor([[-2.0462, -1.3057,  0.8372,  2.4529,  0.6417,  1.7269,  2.6788,  0.3769,\n",
      "         -2.4192, -1.3475]])\n"
     ]
    }
   ],
   "source": [
    "with pt.no_grad():\n",
    "    for data in testloader:\n",
    "        images, labels = data\n",
    "        outputs = model(images)\n",
    "        print(outputs)\n",
    "        break"
   ]
  },
  {
   "cell_type": "markdown",
   "id": "02dff6c3-d9e7-4210-a47a-4bae3ad53dde",
   "metadata": {},
   "source": [
    "Als Ausgabe haben wir einen Vektor mit 10 Einträgen, da wir 10 Klassen haben.\n",
    "\n",
    "Damit können wir eine Funktion erstellen:"
   ]
  },
  {
   "cell_type": "code",
   "execution_count": 168,
   "id": "72caf6db-c759-4ce4-a9af-e62e6e84ce07",
   "metadata": {},
   "outputs": [
    {
     "name": "stdout",
     "output_type": "stream",
     "text": [
      "Accuracy of the network on the 10000 test images: 51 %\n"
     ]
    }
   ],
   "source": [
    "correct = 0\n",
    "total   = 0\n",
    "# Damit wird verhindert, dass Gradienten berechnet werden. \n",
    "with pt.no_grad():\n",
    "    for data in testloader:\n",
    "        \n",
    "        images, labels = data\n",
    "        outputs = model(images)\n",
    "        _, predicted = pt.max(outputs.data, 1)  # torch.max(input): Gibt höchsten Wert eines Tensors zurück. \n",
    "        \n",
    "        total += labels.size(0)\n",
    "        correct += (predicted == labels).sum().item()\n",
    "\n",
    "print(f'Accuracy of the network on the 10000 test images: {100 * correct // total} %')"
   ]
  },
  {
   "cell_type": "markdown",
   "id": "aebb7f13-370b-436e-ae7b-d5d66402046d",
   "metadata": {},
   "source": [
    "<h2>Zweiter Aufbau</h2>"
   ]
  },
  {
   "cell_type": "markdown",
   "id": "5fdaae7c-9ec2-497f-848a-35a8f0e119d7",
   "metadata": {},
   "source": [
    "Jetzt nutzen wir Softmax und ein paar andere Einstellungen."
   ]
  },
  {
   "cell_type": "code",
   "execution_count": null,
   "id": "fe7d00ab-09f3-4dee-a279-b1249deeaa38",
   "metadata": {},
   "outputs": [],
   "source": []
  },
  {
   "cell_type": "code",
   "execution_count": 209,
   "id": "48d20e00-37c1-413f-ab17-4c75ebb05a6f",
   "metadata": {},
   "outputs": [
    {
     "data": {
      "text/plain": [
       "tensor([[2., 2.]])"
      ]
     },
     "execution_count": 209,
     "metadata": {},
     "output_type": "execute_result"
    }
   ],
   "source": [
    "layer = pt.nn.Softmax(dim=1)\n",
    "input = pt.tensor([[2.0, 2.0]])\n",
    "input\n"
   ]
  },
  {
   "cell_type": "code",
   "execution_count": 210,
   "id": "4a6108b3-abfc-48f6-8319-8e855c058c47",
   "metadata": {},
   "outputs": [
    {
     "data": {
      "text/plain": [
       "tensor([[0.5000, 0.5000]])"
      ]
     },
     "execution_count": 210,
     "metadata": {},
     "output_type": "execute_result"
    }
   ],
   "source": [
    "layer(input)"
   ]
  },
  {
   "cell_type": "code",
   "execution_count": 215,
   "id": "0134ad75-cea0-4ec9-acb3-84c456b43826",
   "metadata": {},
   "outputs": [],
   "source": [
    "class my_model2(pt.nn.Module):\n",
    "    def __init__(self):\n",
    "        super().__init__()\n",
    "        self.conv1 = pt.nn.Conv2d(in_channels=3, out_channels=5, kernel_size=(3, 3))\n",
    "        self.pool  = pt.nn.MaxPool2d(2, 2)  \n",
    "        self.conv2 = pt.nn.Conv2d(5, 14, 5)\n",
    "        self.fc1 = pt.nn.Linear(14 * 5 * 5, 100) \n",
    "        self.fc2 = pt.nn.Linear(100, 50)\n",
    "        self.fc3 = pt.nn.Linear(50, 10)\n",
    "\n",
    "        self.softmax_layer =  pt.nn.Softmax(dim=1)\n",
    "    # Forward-Pass.\n",
    "    def forward(self, x):\n",
    "        x = self.pool( pt.nn.functional.relu( self.conv1(x) ))\n",
    "        x = self.pool( pt.nn.functional.relu( self.conv2(x) ))\n",
    "\n",
    "        x = pt.flatten(x, 1) \n",
    "        x = pt.nn.functional.relu( self.fc1(x))\n",
    "        x = pt.nn.functional.relu( self.fc2(x))\n",
    "        x = self.softmax_layer( self.fc3(x) )\n",
    "        return x"
   ]
  },
  {
   "cell_type": "code",
   "execution_count": 216,
   "id": "eda4b94d-ba62-4513-938e-55e954a4ca30",
   "metadata": {},
   "outputs": [],
   "source": [
    "model = my_model2()"
   ]
  },
  {
   "cell_type": "code",
   "execution_count": 217,
   "id": "e18825c3-01c3-4646-9e9d-babe8abe6b42",
   "metadata": {},
   "outputs": [],
   "source": [
    "criterion = pt.nn.CrossEntropyLoss()\n",
    "optimizer = pt.optim.Adam(model.parameters())"
   ]
  }
 ],
 "metadata": {
  "kernelspec": {
   "display_name": "Python 3 (ipykernel)",
   "language": "python",
   "name": "python3"
  },
  "language_info": {
   "codemirror_mode": {
    "name": "ipython",
    "version": 3
   },
   "file_extension": ".py",
   "mimetype": "text/x-python",
   "name": "python",
   "nbconvert_exporter": "python",
   "pygments_lexer": "ipython3",
   "version": "3.12.4"
  }
 },
 "nbformat": 4,
 "nbformat_minor": 5
}
