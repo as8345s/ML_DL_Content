{
 "cells": [
  {
   "cell_type": "markdown",
   "id": "62efe47d-7e49-4929-ac1a-0d0ce1ce6751",
   "metadata": {},
   "source": [
    "<h1>CIFAR-10 Klassifizierung mit CNN</h1>"
   ]
  },
  {
   "cell_type": "markdown",
   "id": "456db80a-444d-4194-b044-4f7cd8b8e76f",
   "metadata": {},
   "source": [
    "Wie bei TensorFlow ist die Verwendung von PyTorch relative einfach und überschaubar.\n",
    "\n",
    "Das Notebook deckt dasselbe Thema ab, wie das Notebook das mit TensorFlow erstellt wurde.\n",
    "\n",
    "Das CIFAR-10 Dataset hat 10 Klassen und insgesamt 60K Bilder in der Auflösung 32x32. 50K für das Training und 10K für das Testen."
   ]
  },
  {
   "cell_type": "markdown",
   "id": "9ec36730-8cd1-406e-aadc-8e112ea4da7c",
   "metadata": {},
   "source": [
    "> The CIFAR-10 dataset\n",
    "https://www.cs.toronto.edu/~kriz/cifar.html [Letzter Zugriff: 09.07.2024]\n",
    ">\n",
    "> Reference:\n",
    "Learning Multiple Layers of Features from Tiny Images, Alex Krizhevsky, 2009."
   ]
  },
  {
   "cell_type": "markdown",
   "id": "ed877b98-02db-4a19-bca1-9ddb20d64532",
   "metadata": {},
   "source": [
    "Wie auch bei TensorFlow bietet PyTorch auch Build-In Datasets an, die z. B. für Versuche genutzt werden können."
   ]
  },
  {
   "cell_type": "code",
   "execution_count": 28,
   "id": "425480c1-0688-4360-a7ac-913ca67c479f",
   "metadata": {},
   "outputs": [],
   "source": [
    "# Imports.\n",
    "import torch   as pt\n",
    "import torchvision \n",
    "import pandas  as pd\n",
    "import seaborn as sns\n",
    "\n",
    "from sklearn.metrics import classification_report\n",
    "import matplotlib.pyplot as plt"
   ]
  },
  {
   "cell_type": "code",
   "execution_count": 29,
   "id": "21850424-6399-498d-bd18-b530702cecd5",
   "metadata": {},
   "outputs": [
    {
     "data": {
      "text/plain": [
       "'0.18.1+cpu'"
      ]
     },
     "execution_count": 29,
     "metadata": {},
     "output_type": "execute_result"
    }
   ],
   "source": [
    "torchvision.__version__"
   ]
  },
  {
   "cell_type": "code",
   "execution_count": 30,
   "id": "ad3b8830-083e-4a5c-adbf-09c0e733dd1e",
   "metadata": {},
   "outputs": [
    {
     "data": {
      "text/plain": [
       "'2.3.1+cpu'"
      ]
     },
     "execution_count": 30,
     "metadata": {},
     "output_type": "execute_result"
    }
   ],
   "source": [
    "pt.__version__"
   ]
  },
  {
   "cell_type": "markdown",
   "id": "90c8a4f5-aacc-4675-8da6-79f121e978aa",
   "metadata": {},
   "source": [
    "<h2>Dataset und Details</h2>"
   ]
  },
  {
   "cell_type": "code",
   "execution_count": 14,
   "id": "23af7466-1375-41da-9878-46487ffd7568",
   "metadata": {},
   "outputs": [],
   "source": [
    "# Gebe Transformation an.\n",
    "# - Data Argumentation, um Overfitting zu vermeiden. Daten können auch direkt normalisiert werden.\n",
    "# - Siehe:\n",
    "# https://pytorch.org/vision/main/generated/torchvision.transforms.Compose.html\n",
    "# https://pytorch.org/vision/stable/transforms.html\n",
    "# https://pytorch.org/vision/main/auto_examples/transforms/plot_transforms_getting_started.html\n",
    "# https://www.geeksforgeeks.org/how-to-normalize-images-in-pytorch/\n",
    "transform = torchvision.transforms.Compose([  # Liste der Transformationen. \n",
    "   # torchvision.transforms. < Transformation >\n",
    "    torchvision.transforms.ToTensor(),  # Bild zu Tensor [c, w, h]\n",
    "    torchvision.transforms.Normalize((0.485, 0.456, 0.406), (0.5, 0.5, 0.5)),\n",
    "    torchvision.transforms.RandomRotation(0.2)\n",
    "    # Weitere Angaben.\n",
    "    \n",
    "])"
   ]
  },
  {
   "cell_type": "code",
   "execution_count": 31,
   "id": "78d0df97-138c-4687-a0f6-c7a823f5b489",
   "metadata": {},
   "outputs": [],
   "source": [
    "# Erstellt direkt Trainingset.\n",
    "# - Siehe Parameter. \n",
    "# - Beim Ersten mal:  download=True\n",
    "trainset = torchvision.datasets.CIFAR10(root=\"./data/datasets\", train=True, download=False)"
   ]
  },
  {
   "cell_type": "code",
   "execution_count": 35,
   "id": "fa74e8e1-fe28-4de9-91aa-ce05948f3cb5",
   "metadata": {},
   "outputs": [
    {
     "data": {
      "text/plain": [
       "<matplotlib.image.AxesImage at 0x1c4010b4f80>"
      ]
     },
     "execution_count": 35,
     "metadata": {},
     "output_type": "execute_result"
    },
    {
     "data": {
      "text/plain": [
       "<Figure size 200x200 with 0 Axes>"
      ]
     },
     "metadata": {},
     "output_type": "display_data"
    },
    {
     "data": {
      "image/png": "[encoded data removed]",
      "text/plain": [
       "<Figure size 480x480 with 1 Axes>"
      ]
     },
     "metadata": {},
     "output_type": "display_data"
    }
   ],
   "source": [
    "plt.figure(figsize=(2,2))\n",
    "plt.matshow(trainset[0][0])"
   ]
  },
  {
   "cell_type": "code",
   "execution_count": 36,
   "id": "25f17c6e-e98c-46fc-b6c8-cb29104b73c8",
   "metadata": {},
   "outputs": [],
   "source": [
    "# Wende Transformation an. \n",
    "trainset = torchvision.datasets.CIFAR10(root=\"./data/datasets\", train=True, download=False,  transform=transform)"
   ]
  },
  {
   "cell_type": "code",
   "execution_count": 37,
   "id": "231966cb-e4bb-49fc-bf96-b60137098d8e",
   "metadata": {},
   "outputs": [
    {
     "data": {
      "text/plain": [
       "Dataset CIFAR10\n",
       "    Number of datapoints: 50000\n",
       "    Root location: ./data/datasets\n",
       "    Split: Train\n",
       "    StandardTransform\n",
       "Transform: Compose(\n",
       "               ToTensor()\n",
       "               Normalize(mean=(0.485, 0.456, 0.406), std=(0.5, 0.5, 0.5))\n",
       "               RandomRotation(degrees=[-0.2, 0.2], interpolation=nearest, expand=False, fill=0)\n",
       "           )"
      ]
     },
     "execution_count": 37,
     "metadata": {},
     "output_type": "execute_result"
    }
   ],
   "source": [
    "trainset"
   ]
  },
  {
   "cell_type": "markdown",
   "id": "0cf75a12-1b92-4841-96e4-ea646bae93ba",
   "metadata": {},
   "source": [
    "Einer der größten Unterschiede zu TensorFlow ist, dass es standardmäßig eine Trainingsschleife gibt, die beliebig angepasst werden kann."
   ]
  },
  {
   "cell_type": "code",
   "execution_count": 38,
   "id": "f13cf74c-9b3e-48ac-a475-411ac1fc34f0",
   "metadata": {
    "scrolled": true
   },
   "outputs": [
    {
     "name": "stdout",
     "output_type": "stream",
     "text": [
      "0 (tensor([[[-0.5073, -0.6327, -0.5778,  ...,  0.2692,  0.2222,  0.1908],\n",
      "         [-0.8445, -0.9700, -0.8288,  ..., -0.0053, -0.0367, -0.0131],\n",
      "         [-0.7739, -0.8445, -0.5857,  ..., -0.0445, -0.0288, -0.1151],\n",
      "         ...,\n",
      "         [ 0.6614,  0.6065,  0.5829,  ...,  0.2849, -0.5308, -0.5543],\n",
      "         [ 0.4418,  0.3869,  0.4888,  ...,  0.4731, -0.2092, -0.3190],\n",
      "         [ 0.4182,  0.3476,  0.4339,  ...,  0.7241,  0.2143, -0.0053]],\n",
      "\n",
      "        [[-0.4257, -0.5512, -0.5355,  ...,  0.1233,  0.0684,  0.0605],\n",
      "         [-0.7551, -0.9120, -0.8493,  ..., -0.2218, -0.2610, -0.2296],\n",
      "         [-0.7238, -0.8571, -0.7002,  ..., -0.2532, -0.2532, -0.3395],\n",
      "         ...,\n",
      "         [ 0.4213,  0.2880,  0.3507,  ...,  0.1311, -0.6689, -0.6453],\n",
      "         [ 0.1782,  0.0527,  0.2174,  ...,  0.2488, -0.4257, -0.4963],\n",
      "         [ 0.2174,  0.0998,  0.2017,  ...,  0.5311,  0.0135, -0.1904]],\n",
      "\n",
      "        [[-0.3179, -0.4591, -0.4747,  ...,  0.0351, -0.0120, -0.0042],\n",
      "         [-0.6551, -0.8120, -0.8120,  ..., -0.3806, -0.4198, -0.3649],\n",
      "         [-0.6473, -0.8120, -0.7493,  ..., -0.4198, -0.4198, -0.4826],\n",
      "         ...,\n",
      "         [-0.0591, -0.5453, -0.6081,  ..., -0.2630, -0.7571, -0.6551],\n",
      "         [-0.0591, -0.4826, -0.5767,  ..., -0.0747, -0.5453, -0.5453],\n",
      "         [ 0.0978, -0.0747, -0.1296,  ...,  0.2860, -0.1532, -0.2473]]]), 6)\n",
      "1 (tensor([[[ 0.2378,  0.0182, -0.1465,  ..., -0.2563, -0.2876, -0.3504],\n",
      "         [ 0.1280,  0.1673,  0.0104,  ..., -0.2171, -0.3661, -0.4131],\n",
      "         [ 0.1280,  0.1202, -0.0680,  ..., -0.3504, -0.4367, -0.4445],\n",
      "         ...,\n",
      "         [ 0.4025,  0.2535,  0.2378,  ..., -0.6406, -0.4916, -0.2406],\n",
      "         [ 0.3241,  0.2535,  0.2771,  ..., -0.1622, -0.0053,  0.0575],\n",
      "         [ 0.3084,  0.2692,  0.3084,  ...,  0.1516,  0.1516,  0.1516]],\n",
      "\n",
      "        [[ 0.4762,  0.1625, -0.0963,  ..., -0.1669, -0.2061, -0.2767],\n",
      "         [ 0.3429,  0.2880,  0.0684,  ..., -0.1355, -0.2845, -0.3395],\n",
      "         [ 0.3037,  0.2331, -0.0100,  ..., -0.2689, -0.3630, -0.3708],\n",
      "         ...,\n",
      "         [ 0.3978,  0.2958,  0.3429,  ..., -0.6453, -0.4963, -0.2610],\n",
      "         [ 0.2958,  0.2802,  0.3507,  ..., -0.1826, -0.0179,  0.0370],\n",
      "         [ 0.2488,  0.2488,  0.3115,  ...,  0.1311,  0.1390,  0.1311]],\n",
      "\n",
      "        [[ 0.6547,  0.2547, -0.0669,  ..., -0.2551, -0.2551, -0.2630],\n",
      "         [ 0.5135,  0.3958,  0.1135,  ..., -0.2002, -0.3257, -0.3336],\n",
      "         [ 0.4743,  0.3566,  0.0664,  ..., -0.3100, -0.3806, -0.3806],\n",
      "         ...,\n",
      "         [ 0.4900,  0.4429,  0.5213,  ..., -0.5296, -0.3649, -0.0983],\n",
      "         [ 0.1919,  0.2076,  0.3017,  ..., -0.0591,  0.1292,  0.2155],\n",
      "         [ 0.1292,  0.1449,  0.2311,  ...,  0.2782,  0.3017,  0.3174]]]), 9)\n",
      "2 (tensor([[[ 1.0300,  1.0143,  1.0143,  ...,  1.0143,  1.0143,  1.0143],\n",
      "         [ 1.0300,  1.0300,  1.0300,  ...,  1.0300,  1.0300,  1.0300],\n",
      "         [ 1.0300,  1.0222,  1.0222,  ...,  1.0222,  1.0222,  1.0222],\n",
      "         ...,\n",
      "         [-0.0837, -0.0994, -0.1465,  ..., -0.4053, -0.4053, -0.4053],\n",
      "         [-0.0994, -0.1543, -0.1935,  ..., -0.4367, -0.4210, -0.3582],\n",
      "         [-0.1386, -0.1935, -0.2249,  ..., -0.3582, -0.3504, -0.3425]],\n",
      "\n",
      "        [[ 1.0880,  1.0723,  1.0723,  ...,  1.0723,  1.0723,  1.0723],\n",
      "         [ 1.0880,  1.0880,  1.0880,  ...,  1.0880,  1.0880,  1.0880],\n",
      "         [ 1.0880,  1.0802,  1.0802,  ...,  1.0802,  1.0802,  1.0802],\n",
      "         ...,\n",
      "         [ 0.0292,  0.0135, -0.0336,  ..., -0.2767, -0.2845, -0.2845],\n",
      "         [ 0.0135, -0.0414, -0.0806,  ..., -0.3238, -0.3159, -0.2532],\n",
      "         [-0.0257, -0.0806, -0.1120,  ..., -0.2453, -0.2453, -0.2375]],\n",
      "\n",
      "        [[ 1.1880,  1.1723,  1.1723,  ...,  1.1723,  1.1723,  1.1723],\n",
      "         [ 1.1880,  1.1880,  1.1880,  ...,  1.1880,  1.1880,  1.1880],\n",
      "         [ 1.1880,  1.1802,  1.1802,  ...,  1.1802,  1.1802,  1.1802],\n",
      "         ...,\n",
      "         [ 0.0664,  0.0586,  0.0194,  ..., -0.1845, -0.1924, -0.1924],\n",
      "         [ 0.0507,  0.0037, -0.0434,  ..., -0.2395, -0.2238, -0.1689],\n",
      "         [ 0.0115, -0.0434, -0.0747,  ..., -0.1610, -0.1610, -0.1532]]]), 9)\n",
      "3 (tensor([[[-0.7504, -0.6798, -0.6720,  ..., -0.3739, -0.3347, -0.3033],\n",
      "         [-0.7112, -0.7033, -0.7190,  ..., -0.2249, -0.2171, -0.3033],\n",
      "         [-0.6641, -0.6563, -0.5229,  ..., -0.2406, -0.1308, -0.2249],\n",
      "         ...,\n",
      "         [-0.3190, -0.2876, -0.3112,  ..., -0.1935, -0.2641, -0.3347],\n",
      "         [-0.2798, -0.2641, -0.2406,  ..., -0.3425, -0.3739, -0.3269],\n",
      "         [-0.2092, -0.2327, -0.2406,  ..., -0.5465, -0.4759, -0.4053]],\n",
      "\n",
      "        [[-0.7159, -0.6453, -0.6375,  ..., -0.3865, -0.3473, -0.3159],\n",
      "         [-0.6924, -0.6767, -0.7002,  ..., -0.2689, -0.2689, -0.3473],\n",
      "         [-0.6610, -0.6532, -0.5198,  ..., -0.3159, -0.2140, -0.3081],\n",
      "         ...,\n",
      "         [-0.3395, -0.3081, -0.3316,  ..., -0.1826, -0.2532, -0.3238],\n",
      "         [-0.3473, -0.3316, -0.3081,  ..., -0.3316, -0.3630, -0.3159],\n",
      "         [-0.3002, -0.3238, -0.3238,  ..., -0.5434, -0.4728, -0.4022]],\n",
      "\n",
      "        [[-0.7336, -0.6630, -0.6551,  ..., -0.5061, -0.4747, -0.4434],\n",
      "         [-0.7100, -0.7022, -0.7179,  ..., -0.3806, -0.3728, -0.4591],\n",
      "         [-0.6944, -0.6787, -0.5532,  ..., -0.4042, -0.2944, -0.3885],\n",
      "         ...,\n",
      "         [-0.4042, -0.3728, -0.4042,  ..., -0.2630, -0.3336, -0.4042],\n",
      "         [-0.4120, -0.4042, -0.3728,  ..., -0.3963, -0.4277, -0.3806],\n",
      "         [-0.3728, -0.3963, -0.3963,  ..., -0.5924, -0.5218, -0.4512]]]), 4)\n",
      "4 (tensor([[[ 0.3633,  0.3476,  0.4182,  ...,  0.3006,  0.2692,  0.2614],\n",
      "         [ 0.3476,  0.3790,  0.3712,  ...,  0.2771,  0.2535,  0.2378],\n",
      "         [ 0.2378,  0.1986,  0.0418,  ...,  0.2927,  0.2614,  0.2378],\n",
      "         ...,\n",
      "         [-0.3896, -0.3739, -0.3582,  ..., -0.4131, -0.4367, -0.4916],\n",
      "         [-0.4367, -0.4288, -0.4053,  ..., -0.3739, -0.4131, -0.4131],\n",
      "         [-0.4445, -0.4367, -0.4288,  ..., -0.3818, -0.4131, -0.3975]],\n",
      "\n",
      "        [[ 0.4998,  0.4841,  0.5390,  ...,  0.4919,  0.4841,  0.4762],\n",
      "         [ 0.5076,  0.5390,  0.5233,  ...,  0.4762,  0.4684,  0.4527],\n",
      "         [ 0.4213,  0.3821,  0.2174,  ...,  0.4841,  0.4762,  0.4527],\n",
      "         ...,\n",
      "         [-0.2532, -0.2453, -0.2453,  ..., -0.3238, -0.3473, -0.4022],\n",
      "         [-0.3159, -0.3081, -0.2924,  ..., -0.2845, -0.3238, -0.3238],\n",
      "         [-0.3238, -0.3159, -0.3238,  ..., -0.2924, -0.3238, -0.3081]],\n",
      "\n",
      "        [[ 0.7409,  0.7253,  0.7802,  ...,  0.8743,  0.8664,  0.8507],\n",
      "         [ 0.7409,  0.7645,  0.7566,  ...,  0.8507,  0.8429,  0.8272],\n",
      "         [ 0.6468,  0.6076,  0.4586,  ...,  0.8664,  0.8507,  0.8272],\n",
      "         ...,\n",
      "         [-0.1845, -0.1767, -0.1689,  ..., -0.2002, -0.2238, -0.2787],\n",
      "         [-0.2081, -0.2002, -0.2002,  ..., -0.1610, -0.2002, -0.2002],\n",
      "         [-0.2002, -0.1924, -0.2159,  ..., -0.1689, -0.2002, -0.1845]]]), 1)\n"
     ]
    }
   ],
   "source": [
    "stop = 5\n",
    "i=0\n",
    "for x, y in enumerate(trainset):\n",
    "    print(x, y)  # Ausgabe Bild und Klasse. \n",
    "    i+=1\n",
    "    if i ==stop:\n",
    "        break  "
   ]
  },
  {
   "cell_type": "code",
   "execution_count": 18,
   "id": "ec51c291-1cb2-46d4-b7f9-016483d1d8b4",
   "metadata": {},
   "outputs": [
    {
     "data": {
      "text/plain": [
       "(tensor([[[-0.5073, -0.6327, -0.5778,  ...,  0.2692,  0.2222,  0.1908],\n",
       "          [-0.8445, -0.9700, -0.8288,  ..., -0.0053, -0.0367, -0.0131],\n",
       "          [-0.7739, -0.8445, -0.5857,  ..., -0.0445, -0.0288, -0.1151],\n",
       "          ...,\n",
       "          [ 0.6614,  0.6065,  0.5829,  ...,  0.2849, -0.5308, -0.5543],\n",
       "          [ 0.4418,  0.3869,  0.4888,  ...,  0.4731, -0.2092, -0.3190],\n",
       "          [ 0.4182,  0.3476,  0.4339,  ...,  0.7241,  0.2143, -0.0053]],\n",
       " \n",
       "         [[-0.4257, -0.5512, -0.5355,  ...,  0.1233,  0.0684,  0.0605],\n",
       "          [-0.7551, -0.9120, -0.8493,  ..., -0.2218, -0.2610, -0.2296],\n",
       "          [-0.7238, -0.8571, -0.7002,  ..., -0.2532, -0.2532, -0.3395],\n",
       "          ...,\n",
       "          [ 0.4213,  0.2880,  0.3507,  ...,  0.1311, -0.6689, -0.6453],\n",
       "          [ 0.1782,  0.0527,  0.2174,  ...,  0.2488, -0.4257, -0.4963],\n",
       "          [ 0.2174,  0.0998,  0.2017,  ...,  0.5311,  0.0135, -0.1904]],\n",
       " \n",
       "         [[-0.3179, -0.4591, -0.4747,  ...,  0.0351, -0.0120, -0.0042],\n",
       "          [-0.6551, -0.8120, -0.8120,  ..., -0.3806, -0.4198, -0.3649],\n",
       "          [-0.6473, -0.8120, -0.7493,  ..., -0.4198, -0.4198, -0.4826],\n",
       "          ...,\n",
       "          [-0.0591, -0.5453, -0.6081,  ..., -0.2630, -0.7571, -0.6551],\n",
       "          [-0.0591, -0.4826, -0.5767,  ..., -0.0747, -0.5453, -0.5453],\n",
       "          [ 0.0978, -0.0747, -0.1296,  ...,  0.2860, -0.1532, -0.2473]]]),\n",
       " 6)"
      ]
     },
     "execution_count": 18,
     "metadata": {},
     "output_type": "execute_result"
    }
   ],
   "source": [
    "trainset[0]"
   ]
  },
  {
   "cell_type": "code",
   "execution_count": 22,
   "id": "46e5340a-23aa-4f85-b2a3-21964d95efe5",
   "metadata": {},
   "outputs": [
    {
     "data": {
      "text/plain": [
       "torch.Size([3, 32, 32])"
      ]
     },
     "execution_count": 22,
     "metadata": {},
     "output_type": "execute_result"
    }
   ],
   "source": [
    "trainset[0][0].shape"
   ]
  },
  {
   "cell_type": "code",
   "execution_count": 41,
   "id": "18837925-5e54-42dd-a416-e2dd5da9bf86",
   "metadata": {},
   "outputs": [
    {
     "data": {
      "text/plain": [
       "{0: 'plane',\n",
       " 1: 'car',\n",
       " 2: 'bird',\n",
       " 3: 'cat',\n",
       " 4: 'deer',\n",
       " 5: 'dog',\n",
       " 6: 'frog',\n",
       " 7: 'horse',\n",
       " 8: 'ship',\n",
       " 9: 'truck'}"
      ]
     },
     "execution_count": 41,
     "metadata": {},
     "output_type": "execute_result"
    }
   ],
   "source": [
    "# Erstelle Map für Klassen.\n",
    "classes = ['plane', 'car', 'bird', 'cat',\n",
    "           'deer', 'dog', 'frog', 'horse', 'ship', 'truck']\n",
    "class_dict = {}\n",
    "for i in range(len(classes)):\n",
    "    class_dict[i] = classes[i]\n",
    "class_dict"
   ]
  },
  {
   "cell_type": "code",
   "execution_count": 43,
   "id": "6294c499-4d2b-4d01-adfe-f469870f5e24",
   "metadata": {},
   "outputs": [],
   "source": [
    "# Testset:\n",
    "# - train=False\n",
    "testset     = torchvision.datasets.CIFAR10(root=\"./data/datasets\", train=True, download=False,  transform=transform)\n",
    "\n",
    "# Dataloader haben verschiedene wichtige Parameter. \n",
    "# - Hier nutzen wir nur einige.\n",
    "\n",
    "trainloader = pt.utils.data.DataLoader( trainset )\n",
    "testloader  = pt.utils.data.DataLoader( trainset )"
   ]
  },
  {
   "cell_type": "markdown",
   "id": "5c088a01-b761-4f99-8f26-d0a3c4e97799",
   "metadata": {},
   "source": [
    "Danach erstellen wir das Model."
   ]
  },
  {
   "cell_type": "markdown",
   "id": "5c18325f-3e04-4af5-832c-30fe4d602e05",
   "metadata": {},
   "source": [
    "<h2>Model und Training</h2>"
   ]
  },
  {
   "cell_type": "code",
   "execution_count": 44,
   "id": "38362f4c-36fa-4ae0-ada7-2f60e6e618db",
   "metadata": {},
   "outputs": [],
   "source": [
    "\n",
    "# - Siehe:\n",
    "#   nn:     https://pytorch.org/docs/stable/nn.html\n",
    "#   Conv2D: https://pytorch.org/docs/stable/generated/torch.nn.Conv2d.html#torch.nn.Conv2d\n",
    "#   torch.nn.Conv2d(in_channels, out_channels, kernel_size, stride=1, padding=0, dilation=1, groups=1, bias=True, padding_mode='zeros', device=None, dtype=None)\n",
    "\n",
    "# in_channels=3, wenn RGB, wenn grau: 1.  \n",
    "# out_channels: n-feature Maps, diese dann als Input nutzen. \n",
    "# kernel_size: größe des Filters. Int oder Tupel. \n",
    "# Zusammengefasst: pt.nn.Conv2d(in_channels,  out_channels, kernel_size, ...) \n",
    "\n",
    "class my_model(pt.nn.Module):\n",
    "    def __init__(self):\n",
    "        super().__init__()\n",
    "        # Erstelle verschiedene Schichten.\n",
    "        # - Faltungsnetz \n",
    "        self.conv1 = pt.nn.Conv2d(in_channels=3, out_channels=5, kernel_size=(3, 3))\n",
    "        self.pool  = pt.nn.MaxPool2d(2, 2)  # Pooling. pt.nn.MaxPool2d(kernel_size=2, stride=2, padding=0, ...) \n",
    "        self.conv2 = pt.nn.Conv2d(5, 14, 5)\n",
    "        # - ANN\n",
    "        self.fc1 = pt.nn.Linear(14 * 5 * 5, 100) #  torch.nn.Linear(in_features, out_features, bias=True, device=None, dtype=None)\n",
    "        self.fc2 = pt.nn.Linear(100, 50)\n",
    "        self.fc3 = pt.nn.Linear(50, 10)\n",
    "        \n",
    "    # Forward-Pass.\n",
    "    def forward(self, x):\n",
    "        # Nutze definiertes Pooling und Aktivierungsfunktion. \n",
    "        x = self.pool( pt.nn.functional.relu( self.conv1(x) ))\n",
    "        x = self.pool( pt.nn.functional.relu( self.conv2(x) ))\n",
    "        # Flattern und an ANN anschließen. \n",
    "        x = pt.flatten(x, 1) \n",
    "        x = pt.nn.functional.relu( self.fc1(x))\n",
    "        x = pt.nn.functional.relu( self.fc2(x))\n",
    "        x = self.fc3(x)\n",
    "        return x"
   ]
  },
  {
   "cell_type": "code",
   "execution_count": 45,
   "id": "67a08cf1-e140-491b-acc0-c4e7a5ab34e2",
   "metadata": {},
   "outputs": [],
   "source": [
    "model = my_model()"
   ]
  },
  {
   "cell_type": "code",
   "execution_count": 46,
   "id": "38aa6e88-3b46-48e8-87c9-171a8395347e",
   "metadata": {},
   "outputs": [
    {
     "data": {
      "text/plain": [
       "my_model(\n",
       "  (conv1): Conv2d(3, 5, kernel_size=(3, 3), stride=(1, 1))\n",
       "  (pool): MaxPool2d(kernel_size=2, stride=2, padding=0, dilation=1, ceil_mode=False)\n",
       "  (conv2): Conv2d(5, 14, kernel_size=(5, 5), stride=(1, 1))\n",
       "  (fc1): Linear(in_features=350, out_features=100, bias=True)\n",
       "  (fc2): Linear(in_features=100, out_features=50, bias=True)\n",
       "  (fc3): Linear(in_features=50, out_features=10, bias=True)\n",
       ")"
      ]
     },
     "execution_count": 46,
     "metadata": {},
     "output_type": "execute_result"
    }
   ],
   "source": [
    "model"
   ]
  },
  {
   "cell_type": "code",
   "execution_count": 47,
   "id": "5a147366-3516-4072-8906-7138952cb109",
   "metadata": {},
   "outputs": [],
   "source": [
    "# Erstelle Kostenfunktion und Optimierer für Gradientenabstieg.\n",
    "\n",
    "criterion = pt.nn.CrossEntropyLoss()\n",
    "optimizer = pt.optim.SGD(model.parameters(), lr=0.001, momentum=0.9)"
   ]
  },
  {
   "cell_type": "code",
   "execution_count": 48,
   "id": "c9b7f7ab-85c5-4f4a-a5ca-99ed34180c31",
   "metadata": {},
   "outputs": [
    {
     "data": {
      "text/plain": [
       "SGD (\n",
       "Parameter Group 0\n",
       "    dampening: 0\n",
       "    differentiable: False\n",
       "    foreach: None\n",
       "    fused: None\n",
       "    lr: 0.001\n",
       "    maximize: False\n",
       "    momentum: 0.9\n",
       "    nesterov: False\n",
       "    weight_decay: 0\n",
       ")"
      ]
     },
     "execution_count": 48,
     "metadata": {},
     "output_type": "execute_result"
    }
   ],
   "source": [
    "optimizer"
   ]
  },
  {
   "cell_type": "markdown",
   "id": "01c45ae7-18c6-45ea-8e77-375a3bc24132",
   "metadata": {},
   "source": [
    "Dann erstellen wir eine Trainingsschleife, wo einiges an Zusätzen dazugepackt werden kann. "
   ]
  },
  {
   "cell_type": "code",
   "execution_count": 49,
   "id": "87ae6eb1-be6f-4d76-bd0f-32bfe55dad89",
   "metadata": {},
   "outputs": [
    {
     "name": "stdout",
     "output_type": "stream",
     "text": [
      "[1,  2000] loss: 2.293\n",
      "[1,  4000] loss: 4.392\n",
      "[1,  6000] loss: 6.357\n",
      "[1,  8000] loss: 8.220\n",
      "[1, 10000] loss: 10.028\n",
      "[1, 12000] loss: 11.783\n",
      "[1, 14000] loss: 13.495\n",
      "[1, 16000] loss: 15.206\n",
      "[1, 18000] loss: 16.867\n",
      "[1, 20000] loss: 18.497\n",
      "[1, 22000] loss: 20.128\n",
      "[1, 24000] loss: 21.703\n",
      "[1, 26000] loss: 23.261\n",
      "[1, 28000] loss: 24.812\n",
      "[1, 30000] loss: 26.365\n",
      "[1, 32000] loss: 27.904\n",
      "[1, 34000] loss: 29.525\n",
      "[1, 36000] loss: 31.099\n",
      "[1, 38000] loss: 32.658\n",
      "[1, 40000] loss: 34.204\n",
      "[1, 42000] loss: 35.738\n",
      "[1, 44000] loss: 37.317\n",
      "[1, 46000] loss: 38.866\n",
      "[1, 48000] loss: 40.383\n",
      "[1, 50000] loss: 41.890\n"
     ]
    }
   ],
   "source": [
    "epoches = 2\n",
    "for epoch in range(epoches):   # n-Epochen\n",
    "\n",
    "    epochs_loss = 0.0\n",
    "    \n",
    "    for i, data in enumerate(trainloader, 0):  # Iteriere durch Dataset. \n",
    "        \n",
    "        inputs, labels = data\n",
    "\n",
    "        # Setze Gradienten auf 0 für jedes mini-Batch.\n",
    "        optimizer.zero_grad()\n",
    "\n",
    "        outputs = model(inputs)   # Fowards-Pass: Schiebe Daten in das Netz und hole Ergebnis. Siehe: https://pytorch.org/tutorials/beginner/basics/optimization_tutorial.html\n",
    "        loss = criterion(outputs, labels)  # Berechne den Fehler mit der angegebenen Kostenfunktion. \n",
    "        loss.backward()                    # Passe Weights durch den angegebenen Gradientenasbtieg an. \n",
    "        \n",
    "        optimizer.step()  # Führe die Anpassung jetzt durch. \n",
    "\n",
    "        # PyTorch liefert von sich aus keine Ausgaben wie TensorFlow.\n",
    "        # - Hier können wir kreative Outputs generieren (oder an jeder anderen Stelle in der Schleife)\n",
    "        epochs_loss += loss.item()\n",
    "        if i % 2000 == 1999:    # Ausgabe alle 2000 mini-batches\n",
    "            print(f'[{epoch + 1}, {i + 1:5d}] loss: {epochs_loss / 2000:.3f}')\n",
    "            running_loss = 0.0"
   ]
  },
  {
   "cell_type": "markdown",
   "id": "7c3711aa-5ee1-4df2-87f1-fa4ffd668a10",
   "metadata": {},
   "source": [
    "Am Ende ohne die Kommentare und Erklärungen sieht es kompakt und sauber aus. "
   ]
  },
  {
   "cell_type": "markdown",
   "id": "d6e7f846-7538-4662-b4c6-b239ec3f23b0",
   "metadata": {},
   "source": [
    "<h2>Testen</h2>"
   ]
  },
  {
   "cell_type": "markdown",
   "id": "e2bb1f6b-6c4a-4095-9083-0695f6496f1f",
   "metadata": {},
   "source": [
    "Als Output bekommen wir einen Tensor. Der Index des höchsten Wertes gibt die Klasse an, die vorhergesagt wird."
   ]
  },
  {
   "cell_type": "code",
   "execution_count": 50,
   "id": "569a9e42-fb62-492b-a161-a30350a58fb1",
   "metadata": {},
   "outputs": [
    {
     "data": {
      "text/plain": [
       "torch.return_types.max(\n",
       "values=tensor([0.3000]),\n",
       "indices=tensor([2]))"
      ]
     },
     "execution_count": 50,
     "metadata": {},
     "output_type": "execute_result"
    }
   ],
   "source": [
    "# Index des höchsten Wertes. \n",
    "pt.max(pt.tensor([[ 0.1,  0.2, 0.3]]), 1)"
   ]
  },
  {
   "cell_type": "code",
   "execution_count": 51,
   "id": "d1bdf9b1-c9ac-4161-99be-9b604f39da1d",
   "metadata": {},
   "outputs": [
    {
     "data": {
      "text/plain": [
       "torch.return_types.max(\n",
       "values=tensor([0.4000]),\n",
       "indices=tensor([1]))"
      ]
     },
     "execution_count": 51,
     "metadata": {},
     "output_type": "execute_result"
    }
   ],
   "source": [
    "pt.max(pt.tensor([[ 0.2,  0.4, 0.1]]), 1)"
   ]
  },
  {
   "cell_type": "code",
   "execution_count": 52,
   "id": "de6dd37f-553d-4cd0-92a9-8d973bb87b34",
   "metadata": {},
   "outputs": [
    {
     "name": "stdout",
     "output_type": "stream",
     "text": [
      "tensor([[-1.2708, -2.0719,  1.2771,  2.1320,  0.5370,  1.4362,  1.5946,  0.8822,\n",
      "         -1.6674, -0.8768]])\n"
     ]
    }
   ],
   "source": [
    "with pt.no_grad():\n",
    "    for data in testloader:\n",
    "        images, labels = data\n",
    "        outputs = model(images)\n",
    "        print(outputs)\n",
    "        break"
   ]
  },
  {
   "cell_type": "markdown",
   "id": "02dff6c3-d9e7-4210-a47a-4bae3ad53dde",
   "metadata": {},
   "source": [
    "Als Ausgabe haben wir einen Vektor mit 10 Einträgen, da wir 10 Klassen haben.\n",
    "\n",
    "Damit können wir eine Funktion erstellen:"
   ]
  },
  {
   "cell_type": "code",
   "execution_count": 53,
   "id": "72caf6db-c759-4ce4-a9af-e62e6e84ce07",
   "metadata": {},
   "outputs": [
    {
     "name": "stdout",
     "output_type": "stream",
     "text": [
      "Accuracy of the network on the 10000 test images: 47 %\n"
     ]
    }
   ],
   "source": [
    "correct = 0\n",
    "total   = 0\n",
    "# Damit wird verhindert, dass Gradienten berechnet werden. \n",
    "with pt.no_grad():\n",
    "    for data in testloader:\n",
    "        \n",
    "        images, labels = data\n",
    "        outputs = model(images)\n",
    "        _, predicted = pt.max(outputs.data, 1)  # torch.max(input): Gibt höchsten Wert eines Tensors zurück. \n",
    "        \n",
    "        total += labels.size(0)\n",
    "        correct += (predicted == labels).sum().item()\n",
    "\n",
    "print(f'Accuracy of the network on the 10000 test images: {100 * correct // total} %')"
   ]
  },
  {
   "cell_type": "markdown",
   "id": "aebb7f13-370b-436e-ae7b-d5d66402046d",
   "metadata": {},
   "source": [
    "<h2>Zweiter Aufbau</h2>"
   ]
  },
  {
   "cell_type": "code",
   "execution_count": 127,
   "id": "0134ad75-cea0-4ec9-acb3-84c456b43826",
   "metadata": {},
   "outputs": [],
   "source": [
    "class my_model2(pt.nn.Module):\n",
    "    def __init__(self):\n",
    "        super().__init__()\n",
    "        self.conv1 = pt.nn.Conv2d(in_channels=3, out_channels=12, kernel_size=(3, 3))\n",
    "        self.pool  = pt.nn.MaxPool2d(2, 2)  # Pooling. pt.nn.MaxPool2d(kernel_size=2, stride=2, padding=0, ...) \n",
    "        self.conv2 = pt.nn.Conv2d(12, 20, 5)\n",
    "        \n",
    "        self.fc1 = pt.nn.Linear(20 * 5 * 5, 125) #  torch.nn.Linear(in_features, out_features, bias=True, device=None, dtype=None)\n",
    "        self.fc2 = pt.nn.Linear(125, 75)\n",
    "        self.fc3 = pt.nn.Linear(75, 30)\n",
    "        self.fc4 = pt.nn.Linear(30, 10)\n",
    "        \n",
    "    # Forward-Pass.\n",
    "    def forward(self, x):\n",
    "        # Nutze definiertes Pooling und Aktivierungsfunktion. \n",
    "        x = self.pool( pt.nn.functional.relu( self.conv1(x) ))\n",
    "        x = self.pool( pt.nn.functional.relu( self.conv2(x) ))\n",
    "        # Flattern und an ANN anschließen. \n",
    "        x = pt.flatten(x, 1) \n",
    "        x = pt.nn.functional.relu( self.fc1(x))\n",
    "        x = pt.nn.functional.relu( self.fc2(x))\n",
    "        x = pt.nn.functional.relu( self.fc3(x))\n",
    "        x = self.fc4(x)\n",
    "        return x"
   ]
  },
  {
   "cell_type": "code",
   "execution_count": 128,
   "id": "d3afe5e6-b7a0-4b07-a2b1-26693ce36277",
   "metadata": {},
   "outputs": [
    {
     "data": {
      "text/plain": [
       "SGD (\n",
       "Parameter Group 0\n",
       "    dampening: 0\n",
       "    differentiable: False\n",
       "    foreach: None\n",
       "    fused: None\n",
       "    lr: 0.001\n",
       "    maximize: False\n",
       "    momentum: 0.9\n",
       "    nesterov: False\n",
       "    weight_decay: 0\n",
       ")"
      ]
     },
     "execution_count": 128,
     "metadata": {},
     "output_type": "execute_result"
    }
   ],
   "source": [
    "criterion = pt.nn.CrossEntropyLoss()\n",
    "optimizer = pt.optim.SGD(model.parameters(), lr=0.001, momentum=0.9)\n",
    "optimizer"
   ]
  },
  {
   "cell_type": "code",
   "execution_count": 129,
   "id": "eda4b94d-ba62-4513-938e-55e954a4ca30",
   "metadata": {},
   "outputs": [],
   "source": [
    "model = my_model2()"
   ]
  },
  {
   "cell_type": "code",
   "execution_count": 130,
   "id": "e18825c3-01c3-4646-9e9d-babe8abe6b42",
   "metadata": {},
   "outputs": [
    {
     "data": {
      "text/plain": [
       "SGD (\n",
       "Parameter Group 0\n",
       "    dampening: 0\n",
       "    differentiable: False\n",
       "    foreach: None\n",
       "    fused: None\n",
       "    lr: 0.001\n",
       "    maximize: False\n",
       "    momentum: 0.9\n",
       "    nesterov: False\n",
       "    weight_decay: 0\n",
       ")"
      ]
     },
     "execution_count": 130,
     "metadata": {},
     "output_type": "execute_result"
    }
   ],
   "source": [
    "criterion = pt.nn.CrossEntropyLoss()\n",
    "optimizer = pt.optim.SGD(model.parameters(), lr=0.001, momentum=0.9)\n",
    "optimizer"
   ]
  },
  {
   "cell_type": "code",
   "execution_count": 131,
   "id": "fcf0e949-bd94-4f82-9072-e882c92ee93a",
   "metadata": {
    "scrolled": true
   },
   "outputs": [
    {
     "name": "stdout",
     "output_type": "stream",
     "text": [
      "[1,  2000] loss: 2.305\n",
      "[1,  4000] loss: 4.566\n",
      "[1,  6000] loss: 6.655\n",
      "[1,  8000] loss: 8.610\n",
      "[1, 10000] loss: 10.510\n",
      "[1, 12000] loss: 12.324\n",
      "[1, 14000] loss: 14.098\n",
      "[1, 16000] loss: 15.847\n",
      "[1, 18000] loss: 17.542\n",
      "[1, 20000] loss: 19.224\n",
      "[1, 22000] loss: 20.863\n",
      "[1, 24000] loss: 22.455\n",
      "[1, 26000] loss: 24.003\n",
      "[1, 28000] loss: 25.564\n",
      "[1, 30000] loss: 27.086\n",
      "[1, 32000] loss: 28.643\n",
      "[1, 34000] loss: 30.226\n",
      "[1, 36000] loss: 31.757\n",
      "[1, 38000] loss: 33.308\n",
      "[1, 40000] loss: 34.825\n",
      "[1, 42000] loss: 36.312\n",
      "[1, 44000] loss: 37.837\n",
      "[1, 46000] loss: 39.319\n",
      "[1, 48000] loss: 40.772\n",
      "[1, 50000] loss: 42.219\n",
      "[2,  2000] loss: 1.433\n",
      "[2,  4000] loss: 2.917\n",
      "[2,  6000] loss: 4.372\n",
      "[2,  8000] loss: 5.813\n",
      "[2, 10000] loss: 7.223\n",
      "[2, 12000] loss: 8.671\n",
      "[2, 14000] loss: 10.103\n",
      "[2, 16000] loss: 11.552\n",
      "[2, 18000] loss: 12.962\n",
      "[2, 20000] loss: 14.405\n",
      "[2, 22000] loss: 15.835\n",
      "[2, 24000] loss: 17.196\n",
      "[2, 26000] loss: 18.552\n",
      "[2, 28000] loss: 19.907\n",
      "[2, 30000] loss: 21.250\n",
      "[2, 32000] loss: 22.595\n",
      "[2, 34000] loss: 24.010\n",
      "[2, 36000] loss: 25.432\n",
      "[2, 38000] loss: 26.816\n",
      "[2, 40000] loss: 28.175\n",
      "[2, 42000] loss: 29.523\n",
      "[2, 44000] loss: 30.912\n",
      "[2, 46000] loss: 32.236\n",
      "[2, 48000] loss: 33.565\n",
      "[2, 50000] loss: 34.910\n"
     ]
    }
   ],
   "source": [
    "epoches = 2\n",
    "for epoch in range(epoches):   # n-Epochen\n",
    "\n",
    "    epochs_loss = 0.0\n",
    "    \n",
    "    for i, data in enumerate(trainloader, 0):  # Iteriere durch Dataset. \n",
    "        \n",
    "        inputs, labels = data\n",
    "        optimizer.zero_grad()\n",
    "\n",
    "     \n",
    "        outputs =  model(inputs)\n",
    "        loss = criterion(outputs, labels)   \n",
    "        loss.backward()                    \n",
    "        \n",
    "        optimizer.step()  # Führe die Anpassung jetzt durch. \n",
    "\n",
    "        epochs_loss += loss.item()\n",
    "        if i % 2000 == 1999:    # Ausgabe alle 2000 mini-batches\n",
    "            print(f'[{epoch + 1}, {i + 1:5d}] loss: {epochs_loss / 2000:.3f}')\n",
    "            running_loss = 0.0"
   ]
  },
  {
   "cell_type": "code",
   "execution_count": 132,
   "id": "ef5de2ad-7117-4f5b-8a7e-c4dcbdacb93b",
   "metadata": {},
   "outputs": [
    {
     "name": "stdout",
     "output_type": "stream",
     "text": [
      "Accuracy of the network on the 10000 test images: 53 %\n"
     ]
    }
   ],
   "source": [
    "correct = 0\n",
    "total   = 0\n",
    "\n",
    "with pt.no_grad():\n",
    "    for data in testloader:\n",
    "        \n",
    "        images, labels = data\n",
    "        outputs = pt.softmax(model(images), dim=1)\n",
    "        _, predicted = pt.max(outputs.data, 1)  \n",
    "        \n",
    "        total += labels.size(0)\n",
    "        correct += (predicted == labels).sum().item()\n",
    "\n",
    "print(f'Accuracy of the network on the 10000 test images: {100 * correct // total} %')"
   ]
  },
  {
   "cell_type": "markdown",
   "id": "1130e33e-2083-4038-b989-81ec172b9598",
   "metadata": {},
   "source": [
    "<h2>F1-Score</h2>"
   ]
  },
  {
   "cell_type": "markdown",
   "id": "355c3fe6-27a1-474c-948d-85bc22f4c63e",
   "metadata": {},
   "source": [
    "Oder auch so:"
   ]
  },
  {
   "cell_type": "code",
   "execution_count": 137,
   "id": "dcd9efc4-dcbe-4ccc-ae1d-f0a8aa80f975",
   "metadata": {},
   "outputs": [],
   "source": [
    "y_true = []\n",
    "y_pred = []\n",
    "\n",
    "with pt.no_grad():\n",
    "    for data in testloader:\n",
    "        images, labels = data\n",
    "        outputs = pt.softmax(model(images), dim=1)\n",
    "        y_true.append(labels.numpy())\n",
    "        y_pred.append(outputs.numpy())"
   ]
  },
  {
   "cell_type": "code",
   "execution_count": 140,
   "id": "35711658-0960-4cb2-94da-f16f9fce7c51",
   "metadata": {},
   "outputs": [
    {
     "data": {
      "text/plain": [
       "array([[0.00303583, 0.0115311 , 0.0538298 , 0.33522657, 0.08058397,\n",
       "        0.14503089, 0.29600284, 0.04959843, 0.00312306, 0.02203758]],\n",
       "      dtype=float32)"
      ]
     },
     "execution_count": 140,
     "metadata": {},
     "output_type": "execute_result"
    }
   ],
   "source": [
    "y_pred[0]"
   ]
  },
  {
   "cell_type": "code",
   "execution_count": 143,
   "id": "f12899eb-0247-4222-9881-948e0482b15f",
   "metadata": {},
   "outputs": [],
   "source": [
    "import numpy as np"
   ]
  },
  {
   "cell_type": "code",
   "execution_count": 144,
   "id": "89fb3d9c-048a-4729-a681-e4eb228ae979",
   "metadata": {},
   "outputs": [],
   "source": [
    "pred_argmax = [np.argmax(x)   for x in y_pred]"
   ]
  },
  {
   "cell_type": "code",
   "execution_count": 145,
   "id": "a80f312b-bb98-44f6-8b4b-8006f03f2539",
   "metadata": {},
   "outputs": [
    {
     "name": "stdout",
     "output_type": "stream",
     "text": [
      "              precision    recall  f1-score   support\n",
      "\n",
      "           0       0.63      0.42      0.51      5000\n",
      "           1       0.60      0.78      0.68      5000\n",
      "           2       0.46      0.36      0.40      5000\n",
      "           3       0.33      0.39      0.36      5000\n",
      "           4       0.47      0.35      0.40      5000\n",
      "           5       0.49      0.37      0.42      5000\n",
      "           6       0.70      0.59      0.64      5000\n",
      "           7       0.48      0.79      0.60      5000\n",
      "           8       0.57      0.76      0.65      5000\n",
      "           9       0.73      0.54      0.62      5000\n",
      "\n",
      "    accuracy                           0.54     50000\n",
      "   macro avg       0.55      0.54      0.53     50000\n",
      "weighted avg       0.55      0.54      0.53     50000\n",
      "\n"
     ]
    }
   ],
   "source": [
    "print(classification_report(y_true, pred_argmax))"
   ]
  }
 ],
 "metadata": {
  "kernelspec": {
   "display_name": "Python 3 (ipykernel)",
   "language": "python",
   "name": "python3"
  },
  "language_info": {
   "codemirror_mode": {
    "name": "ipython",
    "version": 3
   },
   "file_extension": ".py",
   "mimetype": "text/x-python",
   "name": "python",
   "nbconvert_exporter": "python",
   "pygments_lexer": "ipython3",
   "version": "3.12.4"
  }
 },
 "nbformat": 4,
 "nbformat_minor": 5
}
