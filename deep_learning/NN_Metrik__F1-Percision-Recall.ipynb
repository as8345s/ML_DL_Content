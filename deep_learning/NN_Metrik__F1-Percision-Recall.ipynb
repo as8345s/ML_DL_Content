{
 "cells": [
  {
   "cell_type": "markdown",
   "id": "7bef5bb7-a55c-47d6-a4df-c92c9290aec2",
   "metadata": {},
   "source": [
    "<h1>Metriken</h1>"
   ]
  },
  {
   "cell_type": "markdown",
   "id": "415dbc0f-8a43-4016-bc0d-5980a8a369b4",
   "metadata": {},
   "source": [
    "Es gibt drei wichtige Metriken die man kennen sollte, F1-Score, Percision und Recall. \n",
    "\n",
    "Diese zeigen, wie gut das Model abschneidet. Bevor es darum geht, gibt es noch vier andere, die eine Rolle spielen.: <br>\n",
    "- True Positive, Flase-Positive\n",
    "- True Negative, False-negative"
   ]
  },
  {
   "cell_type": "markdown",
   "id": "82a2bbef-9e6c-42f8-8e33-12945f04ce76",
   "metadata": {},
   "source": [
    "Leicht erklärt durch eine Visualisierung. Als Beispiel, wir wollen Bilder mit Äpfeln klassifizieren. "
   ]
  },
  {
   "cell_type": "markdown",
   "id": "371184f4-fcd2-4393-a41f-90d29b2aeae7",
   "metadata": {},
   "source": [
    "<i>Abb1</i>: True Positiv und False Positive\n",
    "\n",
    "<img src=\"./img/metrik_1.PNG\" width=900, hight=300>"
   ]
  },
  {
   "cell_type": "markdown",
   "id": "46742549-b8fa-49aa-90d5-dcd8c115a22c",
   "metadata": {},
   "source": [
    "<u>True Positive</u>: Wie viele Samples, die als True markiert sind, sind auch richtig? True Positive: 4 <br>\n",
    "<u>False Positive</u>: Wie viele Samples, die als True markiert sind, sind falsch? True Positive: 3"
   ]
  },
  {
   "cell_type": "markdown",
   "id": "fad622d1-2491-4ff8-af2d-dda4463acf91",
   "metadata": {},
   "source": [
    "<i>Abb2</i>: True Negative und False Negative\n",
    "\n",
    "<img src=\"./img/metrik_2.PNG\" width=900, hight=300>"
   ]
  },
  {
   "cell_type": "markdown",
   "id": "23d94cb7-fa67-4c59-9e95-047ddb9df805",
   "metadata": {},
   "source": [
    "<u>True Negative</u>: Wie viele Samples, die als False markiert sind, sind auch richtig? True Negative: 1 <br>\n",
    "<u>False Negative</u>: Wie viele Samples, die als False markiert sind, sind falsch? True Negative: 2"
   ]
  },
  {
   "cell_type": "markdown",
   "id": "3d69b6c3-bc86-43ae-a49e-4a1b5651dd16",
   "metadata": {},
   "source": [
    "Daraus ergibt sich die Genauigkeit: <br> \n",
    "5 / 10 = 0.5  <br>\n",
    "Wir haben 5 falsche und 5 richtige."
   ]
  },
  {
   "cell_type": "markdown",
   "id": "c6e50f44-44da-419b-9c39-4360756f637f",
   "metadata": {},
   "source": [
    "<u>Precision</u>: Von allen Bildern, die als Apfel klassifiziert wurden, wie viele waren richtig? 4 von 7 -> 0.57 <br>\n",
    "Als Formel: <br>\n",
    "\n",
    "$\n",
    "Precision = \\frac{TP}{TP + FP}\n",
    "$"
   ]
  },
  {
   "cell_type": "markdown",
   "id": "777f8b98-6539-4171-86c4-992b65117403",
   "metadata": {},
   "source": [
    "<u>Recall</u>: Von allen Bildern, die einen Apfel haben, wie viele von denen wurden richtig als Apfel klassifiziert? 4 von 6 -> 0.67 <br>\n",
    "Als Formel: <br>\n",
    "\n",
    "$\n",
    "Recall = \\frac{TP}{TP + FN}\n",
    "$"
   ]
  },
  {
   "cell_type": "markdown",
   "id": "639d67a2-a025-4880-9296-25ee14c7743c",
   "metadata": {},
   "source": [
    "Precision und Recall können auch für negative Samples verwendet werden. <br>\n",
    "Hier wäre es: <br>\n",
    "Precision: 1 / 3 und Recall  1 / 4"
   ]
  },
  {
   "cell_type": "markdown",
   "id": "99da4560-a3fd-4c84-b7a0-89be83886a46",
   "metadata": {},
   "source": [
    "<u>F1-Score</u>: Ist der harmonische Durchschnitt von Precision und Recall. Damit kann die overall leistung des Model gemessen werden.<br>\n",
    "Als Formel: <br>\n",
    "\n",
    "$\n",
    "F1Score = 2 * \\frac{Precision * Recall}{Precision + recall}\n",
    "$"
   ]
  }
 ],
 "metadata": {
  "kernelspec": {
   "display_name": "Python 3 (ipykernel)",
   "language": "python",
   "name": "python3"
  },
  "language_info": {
   "codemirror_mode": {
    "name": "ipython",
    "version": 3
   },
   "file_extension": ".py",
   "mimetype": "text/x-python",
   "name": "python",
   "nbconvert_exporter": "python",
   "pygments_lexer": "ipython3",
   "version": "3.9.18"
  }
 },
 "nbformat": 4,
 "nbformat_minor": 5
}
