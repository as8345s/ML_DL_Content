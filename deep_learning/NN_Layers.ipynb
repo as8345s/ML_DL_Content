{
 "cells": [
  {
   "cell_type": "markdown",
   "id": "b9448904-ed30-47ab-b7dc-b3bf7c6f7631",
   "metadata": {},
   "source": [
    "<h1>NN Layers</h1>\n",
    "* TF Keras"
   ]
  },
  {
   "cell_type": "markdown",
   "id": "08ad3ca6-835e-4921-950d-3953acfd030f",
   "metadata": {},
   "source": [
    "Hier sollen verschiedenen Layers näher untersucht werden. \n",
    "\n",
    "> Alle TF Keras Layers: <br>\n",
    "> https://www.tensorflow.org/api_docs/python/tf/keras/layers [Letzter Zugriff: 17.09.2024]\n",
    "\n",
    "Es gibt sehr viele verschiedene Layers die verschiedenste Aufgaben übernehmen."
   ]
  },
  {
   "cell_type": "code",
   "execution_count": 1,
   "id": "9227d851-033f-47f1-804e-88ba7d08e402",
   "metadata": {},
   "outputs": [],
   "source": [
    "# Imports\n",
    "import tensorflow as tf\n",
    "import numpy as np"
   ]
  },
  {
   "cell_type": "code",
   "execution_count": null,
   "id": "b1aa3ecf-d517-4c20-94e6-d8c5e50a7b72",
   "metadata": {},
   "outputs": [],
   "source": []
  },
  {
   "cell_type": "code",
   "execution_count": null,
   "id": "8175f9fc-bee4-42e5-a7b2-9f5ed63cccb9",
   "metadata": {},
   "outputs": [],
   "source": []
  },
  {
   "cell_type": "markdown",
   "id": "b8895989-8bb8-44b4-a644-fdb5098f36d1",
   "metadata": {},
   "source": [
    "<h2>Input Layer</h2>"
   ]
  },
  {
   "cell_type": "markdown",
   "id": "b4ec9419-07cb-4b60-beb3-b37170a87da5",
   "metadata": {},
   "source": [
    "Als Layer `tf.keras.layers.InputLayer` oder Funktion `tf.keras.layers.Input()`."
   ]
  },
  {
   "cell_type": "code",
   "execution_count": 2,
   "id": "7e4efd26-a02c-454a-a93b-3dfb4f3c36e9",
   "metadata": {},
   "outputs": [],
   "source": [
    "# Instanziiere ein Keras Tensor mit einer bestimmten Form. \n",
    "# - Gebe Form der Daten an. \n",
    "shape_tuple = (5, 5)\n",
    "\n",
    "input_layer = tf.keras.layers.Input(shape=shape_tuple)"
   ]
  },
  {
   "cell_type": "markdown",
   "id": "a96855c7-9282-490f-b666-61fedac0fc87",
   "metadata": {},
   "source": [
    "Wichtige Parameter: <br>\n",
    "- <b>shape</b>: Form des Tensors, z. B. 2-D (5, 5)\n",
    "- <b>batch_size</b>: Optionale Batchgröße\n",
    "- <b>name</b>: Optionaler Name\n",
    "- <b>dtype</b>: Erwarteter Datentyp as String \"float32\", ...\n",
    "- <b>sparse</b>: True/False: Wenn ein Tensor viele Nullen enthält, werden nur die <u>nicht</u>-Nullen gespeichert, das spart Speicherplatz. <br> Default ist False: speichere alles, True meist für NLP Aufgaben wo es viele Nullen gibt (bag-of-words, ...)\n",
    "- <b>tensor</b>: Nutze einen bereits existierenden Tensor als Input. <br>\n",
    "tf.constant([[1.0, 2.0], [3.0, 4.0]]) => shape(2, 2) => tf.keras.layers.Input(tensor=existing_tensor)\n"
   ]
  },
  {
   "cell_type": "code",
   "execution_count": 203,
   "id": "5550d56a-1e44-4205-85ed-9f7a1f038402",
   "metadata": {},
   "outputs": [
    {
     "data": {
      "text/plain": [
       "(None, 5, 5)"
      ]
     },
     "execution_count": 203,
     "metadata": {},
     "output_type": "execute_result"
    }
   ],
   "source": [
    "input_layer.shape"
   ]
  },
  {
   "cell_type": "markdown",
   "id": "e478faac-d15e-4fd5-9651-7c6832558652",
   "metadata": {},
   "source": [
    "Mit der Funktion `tf.expand_dims()` kann die Dimension verändert werden.\n",
    "- `tf.expand_dims(data, axis=0)`: Batch Dimension.  (2, 3) => (1, 2, 3)\n",
    "- `tf.expand_dims(data, axis=-1)`: Channel Dimension, wenn es Bilddaten sind. (2, 3) => (2, 3, 1)"
   ]
  },
  {
   "cell_type": "markdown",
   "id": "78d83a33-7608-4298-a3e7-7917ba5c9c29",
   "metadata": {},
   "source": [
    "<h3>1-D</h3>"
   ]
  },
  {
   "cell_type": "markdown",
   "id": "d6ef1cd9-670d-4a0e-b95a-8b2323d54ad3",
   "metadata": {},
   "source": [
    "Tensorflow fügt immer eine Batchdimension `None` ein, die ein dynamischen Input nehmen kann.\n",
    "\n",
    "<b>*</b>Es muss ggf. neben dem Input ein weiterer Layer hinzugefügt werden, sonst setze zu Beginn Batchsize. "
   ]
  },
  {
   "cell_type": "code",
   "execution_count": 8,
   "id": "c2b51753-a0ea-4d84-be46-ac65480fe19c",
   "metadata": {},
   "outputs": [
    {
     "name": "stdout",
     "output_type": "stream",
     "text": [
      "<KerasTensor shape=(None, 2), dtype=int16, sparse=None, name=keras_tensor_3>\n"
     ]
    }
   ],
   "source": [
    "# 1-D #  Beispiel 1\n",
    "# - [1,2,3, ...]\n",
    "input_layer = tf.keras.layers.Input(shape=(2,), dtype=\"int16\")\n",
    "print(input_layer)\n",
    "model       = tf.keras.Sequential([input_layer])\n",
    "# Output soll linear sein. \n",
    "# - Ohne layer -> Error -> setze dann zu Beginn feste Batchgröße \n",
    "model.add(tf.keras.layers.Dense(2, activation=\"linear\", use_bias=False, kernel_initializer=\"ones\"))"
   ]
  },
  {
   "cell_type": "code",
   "execution_count": 9,
   "id": "d835baec-dea4-419b-9c2e-ff91ab170d0b",
   "metadata": {},
   "outputs": [
    {
     "data": {
      "text/plain": [
       "<tf.Tensor: shape=(2,), dtype=int16, numpy=array([1, 1], dtype=int16)>"
      ]
     },
     "execution_count": 9,
     "metadata": {},
     "output_type": "execute_result"
    }
   ],
   "source": [
    "my_data = tf.convert_to_tensor([1, 1], dtype=tf.int16)\n",
    "my_data"
   ]
  },
  {
   "cell_type": "code",
   "execution_count": 10,
   "id": "7023bf51-8ba2-4d29-9077-8fae62bd4556",
   "metadata": {},
   "outputs": [
    {
     "data": {
      "text/plain": [
       "<tf.Tensor: shape=(1, 2), dtype=float32, numpy=array([[2., 2.]], dtype=float32)>"
      ]
     },
     "execution_count": 10,
     "metadata": {},
     "output_type": "execute_result"
    }
   ],
   "source": [
    "my_data = tf.expand_dims(my_data, axis=0) # Batch-Dimension\n",
    "model( my_data ) "
   ]
  },
  {
   "cell_type": "code",
   "execution_count": 11,
   "id": "386114a2-93ee-4192-96e5-966d95445e35",
   "metadata": {},
   "outputs": [
    {
     "data": {
      "text/plain": [
       "<tf.Tensor: shape=(1, 2), dtype=float32, numpy=array([[2., 2.]], dtype=float32)>"
      ]
     },
     "execution_count": 11,
     "metadata": {},
     "output_type": "execute_result"
    }
   ],
   "source": [
    "# Oder so.:\n",
    "# - Zusätzlich [] als Dimension \n",
    "my_data = tf.convert_to_tensor([[1, 1]], dtype=tf.int16)\n",
    "model( my_data ) "
   ]
  },
  {
   "cell_type": "code",
   "execution_count": null,
   "id": "a44f0dc2-7c88-4013-a75d-2194c1ad5c90",
   "metadata": {},
   "outputs": [],
   "source": []
  },
  {
   "cell_type": "code",
   "execution_count": 16,
   "id": "896163a4-834c-4a08-842f-a99f3aa21ecc",
   "metadata": {},
   "outputs": [
    {
     "name": "stdout",
     "output_type": "stream",
     "text": [
      "<KerasTensor shape=(None, 10), dtype=int32, sparse=None, name=Input_Layer_1>\n"
     ]
    }
   ],
   "source": [
    "# 1-D #  Beispiel 2\n",
    "input_layer = tf.keras.layers.Input(shape=(10,), dtype=\"int32\", name=\"Input_Layer_1\")\n",
    "print(input_layer)\n",
    "model       = tf.keras.Sequential([input_layer])\n",
    "# Output soll linear sein. \n",
    "# - Ohne layer -> Error -> setze dann zu Beginn feste Batchgröße \n",
    "model.add(tf.keras.layers.Dense(10, activation=\"linear\", use_bias=False, kernel_initializer=\"ones\", ))"
   ]
  },
  {
   "cell_type": "code",
   "execution_count": 17,
   "id": "e344e020-38ac-4f02-948f-9b1b2dbc14ce",
   "metadata": {},
   "outputs": [
    {
     "data": {
      "text/plain": [
       "<tf.Tensor: shape=(10,), dtype=int32, numpy=array([1, 1, 2, 2, 3, 3, 4, 4, 5, 5])>"
      ]
     },
     "execution_count": 17,
     "metadata": {},
     "output_type": "execute_result"
    }
   ],
   "source": [
    "my_data = tf.convert_to_tensor([1, 1, 2, 2, 3, 3, 4, 4, 5, 5], dtype=tf.int32)\n",
    "my_data"
   ]
  },
  {
   "cell_type": "code",
   "execution_count": 18,
   "id": "0a8133a3-9f3e-4251-8175-03186c74c9ff",
   "metadata": {},
   "outputs": [
    {
     "data": {
      "text/plain": [
       "<tf.Tensor: shape=(1, 10), dtype=float32, numpy=array([[30., 30., 30., 30., 30., 30., 30., 30., 30., 30.]], dtype=float32)>"
      ]
     },
     "execution_count": 18,
     "metadata": {},
     "output_type": "execute_result"
    }
   ],
   "source": [
    "my_data = tf.expand_dims(my_data, axis=0)  # Batch-Dimension \n",
    "model( my_data )"
   ]
  },
  {
   "cell_type": "code",
   "execution_count": 15,
   "id": "2ccba607-0cdc-4b76-af71-eb08c7a6608e",
   "metadata": {},
   "outputs": [
    {
     "data": {
      "text/plain": [
       "30"
      ]
     },
     "execution_count": 15,
     "metadata": {},
     "output_type": "execute_result"
    }
   ],
   "source": [
    "np.sum(my_data)  # Da jedes Neuron eine Summe berechnet."
   ]
  },
  {
   "cell_type": "code",
   "execution_count": 19,
   "id": "9949ac6e-4a7a-49b4-add0-24c624cfe225",
   "metadata": {},
   "outputs": [
    {
     "data": {
      "text/plain": [
       "<tf.Tensor: shape=(1, 10), dtype=float32, numpy=array([[30., 30., 30., 30., 30., 30., 30., 30., 30., 30.]], dtype=float32)>"
      ]
     },
     "execution_count": 19,
     "metadata": {},
     "output_type": "execute_result"
    }
   ],
   "source": [
    "my_data = tf.convert_to_tensor( [ [1, 1, 2, 2, 3, 3, 4, 4, 5, 5] ] , dtype=tf.int32)\n",
    "model( my_data )"
   ]
  },
  {
   "cell_type": "code",
   "execution_count": 20,
   "id": "2014e843-84c2-4fc3-af6e-89910c4a90cf",
   "metadata": {},
   "outputs": [
    {
     "data": {
      "text/plain": [
       "<tf.Tensor: shape=(3, 10), dtype=float32, numpy=\n",
       "array([[30., 30., 30., 30., 30., 30., 30., 30., 30., 30.],\n",
       "       [30., 30., 30., 30., 30., 30., 30., 30., 30., 30.],\n",
       "       [30., 30., 30., 30., 30., 30., 30., 30., 30., 30.]], dtype=float32)>"
      ]
     },
     "execution_count": 20,
     "metadata": {},
     "output_type": "execute_result"
    }
   ],
   "source": [
    "# Mehrere #\n",
    "model( tf.reshape([my_data, my_data, my_data], shape=(3, 10)) )"
   ]
  },
  {
   "cell_type": "code",
   "execution_count": null,
   "id": "5997f6a6-3040-45b7-855f-469bde8d09d1",
   "metadata": {},
   "outputs": [],
   "source": []
  },
  {
   "cell_type": "code",
   "execution_count": 21,
   "id": "a523061b-422b-4287-8efd-9340c268e404",
   "metadata": {},
   "outputs": [
    {
     "name": "stdout",
     "output_type": "stream",
     "text": [
      "<KerasTensor shape=(3, 10), dtype=int32, sparse=None, name=Input_Layer_1>\n"
     ]
    }
   ],
   "source": [
    "# 1-D #  Beispiel 3 # Gegebene Batchgröße\n",
    "input_layer = tf.keras.layers.Input(shape=(10,), dtype=\"int32\", name=\"Input_Layer_1\", batch_size=3)\n",
    "# - Andere Batchgrößen als Input nach der Definition möglich. \n",
    "print(input_layer)\n",
    "model       = tf.keras.Sequential([input_layer])\n",
    "# Output soll linear sein. \n",
    "# - Ohne layer -> Error -> setze dann zu Beginn feste Batchgröße \n",
    "model.add(tf.keras.layers.Dense(10, activation=\"linear\", use_bias=False, kernel_initializer=\"ones\", ))"
   ]
  },
  {
   "cell_type": "code",
   "execution_count": 22,
   "id": "228cf90b-2cd4-4a0e-8b64-52665b6796d7",
   "metadata": {},
   "outputs": [
    {
     "data": {
      "text/plain": [
       "<tf.Tensor: shape=(3, 10), dtype=int32, numpy=\n",
       "array([[1, 1, 1, 1, 1, 1, 1, 1, 1, 1],\n",
       "       [1, 1, 1, 1, 1, 1, 1, 1, 1, 1],\n",
       "       [1, 1, 1, 1, 1, 1, 1, 1, 1, 1]])>"
      ]
     },
     "execution_count": 22,
     "metadata": {},
     "output_type": "execute_result"
    }
   ],
   "source": [
    "my_data = tf.convert_to_tensor([[1,1,1,1,1,1,1,1,1,1], [1,1,1,1,1,1,1,1,1,1], [1,1,1,1,1,1,1,1,1,1]], dtype=tf.int32) \n",
    "my_data"
   ]
  },
  {
   "cell_type": "code",
   "execution_count": 23,
   "id": "c5950aa7-28bf-4f16-82f3-a20d8ce87375",
   "metadata": {},
   "outputs": [
    {
     "data": {
      "text/plain": [
       "<tf.Tensor: shape=(3, 10), dtype=float32, numpy=\n",
       "array([[10., 10., 10., 10., 10., 10., 10., 10., 10., 10.],\n",
       "       [10., 10., 10., 10., 10., 10., 10., 10., 10., 10.],\n",
       "       [10., 10., 10., 10., 10., 10., 10., 10., 10., 10.]], dtype=float32)>"
      ]
     },
     "execution_count": 23,
     "metadata": {},
     "output_type": "execute_result"
    }
   ],
   "source": [
    "model( my_data )"
   ]
  },
  {
   "cell_type": "code",
   "execution_count": 24,
   "id": "7357ca80-7f4d-43f2-935c-e4509a75626f",
   "metadata": {},
   "outputs": [
    {
     "name": "stdout",
     "output_type": "stream",
     "text": [
      "data:  tf.Tensor(\n",
      "[[1 1 1 1 1 1 1 1 1 1]\n",
      " [1 1 1 1 1 1 1 1 1 1]], shape=(2, 10), dtype=int32)\n"
     ]
    },
    {
     "data": {
      "text/plain": [
       "<tf.Tensor: shape=(2, 10), dtype=float32, numpy=\n",
       "array([[10., 10., 10., 10., 10., 10., 10., 10., 10., 10.],\n",
       "       [10., 10., 10., 10., 10., 10., 10., 10., 10., 10.]], dtype=float32)>"
      ]
     },
     "execution_count": 24,
     "metadata": {},
     "output_type": "execute_result"
    }
   ],
   "source": [
    "# Andere Batchsize: \n",
    "my_data = tf.convert_to_tensor([[1,1,1,1,1,1,1,1,1,1], [1,1,1,1,1,1,1,1,1,1]], dtype=tf.int32) \n",
    "print(\"data: \", my_data)\n",
    "model( my_data )"
   ]
  },
  {
   "cell_type": "markdown",
   "id": "0a608e1b-5138-4dc8-85f6-fcf323340c34",
   "metadata": {},
   "source": [
    "<h3>2-D</h3>"
   ]
  },
  {
   "cell_type": "markdown",
   "id": "53f2d6c9-258f-4c22-b26b-76b5c660c00b",
   "metadata": {},
   "source": [
    "Dasselbe Spiel geht auch mit höheren Dimensionen.\n",
    "- Hier können Generatoren genutzt werden, um Daten zu erzeugen."
   ]
  },
  {
   "cell_type": "code",
   "execution_count": 215,
   "id": "0b9b605d-3d36-42cc-8318-519fc3005488",
   "metadata": {},
   "outputs": [
    {
     "data": {
      "text/plain": [
       "array([[2, 0],\n",
       "       [0, 3]])"
      ]
     },
     "execution_count": 215,
     "metadata": {},
     "output_type": "execute_result"
    }
   ],
   "source": [
    "np.random.randint(0, 5, (2,2))"
   ]
  },
  {
   "cell_type": "code",
   "execution_count": null,
   "id": "e7e5eaa7-c224-481d-83d7-d9e9c104b066",
   "metadata": {},
   "outputs": [],
   "source": []
  },
  {
   "cell_type": "code",
   "execution_count": null,
   "id": "e4f6894e-105b-4354-b61e-c71ab9f799b7",
   "metadata": {},
   "outputs": [],
   "source": []
  },
  {
   "cell_type": "code",
   "execution_count": null,
   "id": "2621dcf6-e167-4aac-b710-37f7907509a2",
   "metadata": {},
   "outputs": [],
   "source": []
  },
  {
   "cell_type": "code",
   "execution_count": null,
   "id": "33a1d841-f5c0-4564-abcc-50491d18758f",
   "metadata": {},
   "outputs": [],
   "source": []
  },
  {
   "cell_type": "code",
   "execution_count": 164,
   "id": "d0da3b44-d26a-45ff-96a5-6595ca9eafac",
   "metadata": {},
   "outputs": [],
   "source": [
    "# Batch Norm"
   ]
  },
  {
   "cell_type": "code",
   "execution_count": null,
   "id": "db4815ee-f8fa-4f09-9e25-5a1090b54a81",
   "metadata": {},
   "outputs": [],
   "source": []
  },
  {
   "cell_type": "code",
   "execution_count": null,
   "id": "a25f85eb-f932-44b1-999a-1777e6fb055c",
   "metadata": {},
   "outputs": [],
   "source": []
  },
  {
   "cell_type": "code",
   "execution_count": 165,
   "id": "c18ace39-23f6-451f-bcc9-ad1ef752c8e5",
   "metadata": {},
   "outputs": [],
   "source": [
    "# Dense"
   ]
  },
  {
   "cell_type": "code",
   "execution_count": null,
   "id": "75aa0c40-aa51-4520-a8ab-18db71a58331",
   "metadata": {},
   "outputs": [],
   "source": []
  },
  {
   "cell_type": "code",
   "execution_count": null,
   "id": "e22b53cb-f751-493b-a09c-03287437041b",
   "metadata": {},
   "outputs": [],
   "source": []
  },
  {
   "cell_type": "code",
   "execution_count": null,
   "id": "4a8827c9-f176-41bc-bcab-1f6b206975b6",
   "metadata": {},
   "outputs": [],
   "source": []
  },
  {
   "cell_type": "code",
   "execution_count": null,
   "id": "ae72ca71-1375-48fe-b72b-296736f75f97",
   "metadata": {},
   "outputs": [],
   "source": []
  },
  {
   "cell_type": "code",
   "execution_count": null,
   "id": "1e10e7ed-d6b8-4852-8332-03eb99f427b4",
   "metadata": {},
   "outputs": [],
   "source": []
  },
  {
   "cell_type": "code",
   "execution_count": null,
   "id": "9186b175-ed44-426a-a601-27165df42036",
   "metadata": {},
   "outputs": [],
   "source": []
  },
  {
   "cell_type": "code",
   "execution_count": null,
   "id": "7a11ef97-22d5-44fd-82fd-9557928382a3",
   "metadata": {},
   "outputs": [],
   "source": []
  },
  {
   "cell_type": "code",
   "execution_count": null,
   "id": "d311ac1a-aa37-4cce-b8d1-8a72a2c79328",
   "metadata": {},
   "outputs": [],
   "source": []
  },
  {
   "cell_type": "code",
   "execution_count": null,
   "id": "08775816-450a-45ec-bb6d-a6ee39480876",
   "metadata": {},
   "outputs": [],
   "source": []
  },
  {
   "cell_type": "code",
   "execution_count": null,
   "id": "f3df65ed-adeb-4ee5-8d9b-3ad747fab10b",
   "metadata": {},
   "outputs": [],
   "source": []
  },
  {
   "cell_type": "code",
   "execution_count": null,
   "id": "054721cb-a561-4b34-a4e7-c5ae1e9ec2fb",
   "metadata": {},
   "outputs": [],
   "source": []
  }
 ],
 "metadata": {
  "kernelspec": {
   "display_name": "Python 3 (ipykernel)",
   "language": "python",
   "name": "python3"
  },
  "language_info": {
   "codemirror_mode": {
    "name": "ipython",
    "version": 3
   },
   "file_extension": ".py",
   "mimetype": "text/x-python",
   "name": "python",
   "nbconvert_exporter": "python",
   "pygments_lexer": "ipython3",
   "version": "3.9.19"
  }
 },
 "nbformat": 4,
 "nbformat_minor": 5
}
