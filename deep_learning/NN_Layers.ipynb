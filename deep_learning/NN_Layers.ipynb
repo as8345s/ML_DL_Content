{
 "cells": [
  {
   "cell_type": "markdown",
   "id": "b9448904-ed30-47ab-b7dc-b3bf7c6f7631",
   "metadata": {},
   "source": [
    "<h1>NN Layers</h1>\n",
    "* TF Keras"
   ]
  },
  {
   "cell_type": "markdown",
   "id": "08ad3ca6-835e-4921-950d-3953acfd030f",
   "metadata": {},
   "source": [
    "Hier sollen verschiedenen Layers näher untersucht werden. \n",
    "\n",
    "> Alle TF Keras Layers: <br>\n",
    "> https://www.tensorflow.org/api_docs/python/tf/keras/layers [Letzter Zugriff: 17.09.2024]\n",
    "\n",
    "Es gibt sehr viele verschiedene Layers die verschiedenste Aufgaben übernehmen."
   ]
  },
  {
   "cell_type": "code",
   "execution_count": 2,
   "id": "9227d851-033f-47f1-804e-88ba7d08e402",
   "metadata": {},
   "outputs": [],
   "source": [
    "# Imports\n",
    "import tensorflow as tf"
   ]
  },
  {
   "cell_type": "code",
   "execution_count": null,
   "id": "b1aa3ecf-d517-4c20-94e6-d8c5e50a7b72",
   "metadata": {},
   "outputs": [],
   "source": []
  },
  {
   "cell_type": "code",
   "execution_count": null,
   "id": "8175f9fc-bee4-42e5-a7b2-9f5ed63cccb9",
   "metadata": {},
   "outputs": [],
   "source": []
  },
  {
   "cell_type": "markdown",
   "id": "b8895989-8bb8-44b4-a644-fdb5098f36d1",
   "metadata": {},
   "source": [
    "<h2>Input Layer</h2>"
   ]
  },
  {
   "cell_type": "markdown",
   "id": "b4ec9419-07cb-4b60-beb3-b37170a87da5",
   "metadata": {},
   "source": [
    "Als Layer `tf.keras.layers.InputLayer` oder Funktion `tf.keras.layers.Input()`."
   ]
  },
  {
   "cell_type": "code",
   "execution_count": 109,
   "id": "7e4efd26-a02c-454a-a93b-3dfb4f3c36e9",
   "metadata": {},
   "outputs": [],
   "source": [
    "# Instanziiere ein Keras Tensor mit einer bestimmten Form. \n",
    "# - Gebe Form der Daten an. \n",
    "shape_tuple = (5, 5)\n",
    "\n",
    "input_layer = tf.keras.layers.Input(shape=shape_tuple)"
   ]
  },
  {
   "cell_type": "markdown",
   "id": "a96855c7-9282-490f-b666-61fedac0fc87",
   "metadata": {},
   "source": [
    "Parameter: <br>\n",
    "- <b>shape</b>: Form des Tensors, z. B. 2-D (5, 5)\n",
    "- <b>batch_size</b>: Optionale Batchgröße\n",
    "- <b>name</b>: Optionaler Name\n",
    "- <b>dtype</b>: Erwarteter Datentyp as String \"float32\", ...\n",
    "- <b>sparse</b>: True/False: Wenn ein Tensor viele Nullen enthält, werden nur die <u>nicht</u>-Nullen gespeichert, das spart Speicherplatz. <br> Default ist False: speichere alles, True meist für NLP Aufgaben wo es viele Nullen gibt (bag-of-words, ...)\n",
    "- <b>tensor</b>: Nutze einen bereits existierenden Tensor als Input. <br>\n",
    "tf.constant([[1.0, 2.0], [3.0, 4.0]]) => shape(2, 2) => tf.keras.layers.Input(tensor=existing_tensor)\n"
   ]
  },
  {
   "cell_type": "code",
   "execution_count": 9,
   "id": "5550d56a-1e44-4205-85ed-9f7a1f038402",
   "metadata": {},
   "outputs": [
    {
     "data": {
      "text/plain": [
       "(None, 5, 5)"
      ]
     },
     "execution_count": 9,
     "metadata": {},
     "output_type": "execute_result"
    }
   ],
   "source": [
    "input_layer.shape"
   ]
  },
  {
   "cell_type": "code",
   "execution_count": 17,
   "id": "54c7e25c-ba7f-4807-b445-f5081e9105b4",
   "metadata": {},
   "outputs": [
    {
     "ename": "ValueError",
     "evalue": "Sequential model 'sequential_5' has already been configured to use input shape (None, 2, 5). You cannot build it with input_shape (2, 5)",
     "output_type": "error",
     "traceback": [
      "\u001b[1;31m---------------------------------------------------------------------------\u001b[0m",
      "\u001b[1;31mValueError\u001b[0m                                Traceback (most recent call last)",
      "Cell \u001b[1;32mIn[17], line 4\u001b[0m\n\u001b[0;32m      2\u001b[0m input_layer \u001b[38;5;241m=\u001b[39m tf\u001b[38;5;241m.\u001b[39mkeras\u001b[38;5;241m.\u001b[39mlayers\u001b[38;5;241m.\u001b[39mInput(shape\u001b[38;5;241m=\u001b[39m(\u001b[38;5;241m2\u001b[39m, \u001b[38;5;241m5\u001b[39m), dtype\u001b[38;5;241m=\u001b[39m\u001b[38;5;124m\"\u001b[39m\u001b[38;5;124mint16\u001b[39m\u001b[38;5;124m\"\u001b[39m)\n\u001b[0;32m      3\u001b[0m model       \u001b[38;5;241m=\u001b[39m tf\u001b[38;5;241m.\u001b[39mkeras\u001b[38;5;241m.\u001b[39mSequential([input_layer])\n\u001b[1;32m----> 4\u001b[0m \u001b[43mmodel\u001b[49m\u001b[43m(\u001b[49m\u001b[43mtf\u001b[49m\u001b[38;5;241;43m.\u001b[39;49m\u001b[43mconstant\u001b[49m\u001b[43m(\u001b[49m\u001b[43m[\u001b[49m\u001b[43m[\u001b[49m\u001b[38;5;241;43m1\u001b[39;49m\u001b[43m,\u001b[49m\u001b[38;5;241;43m1\u001b[39;49m\u001b[43m,\u001b[49m\u001b[38;5;241;43m1\u001b[39;49m\u001b[43m,\u001b[49m\u001b[38;5;241;43m1\u001b[39;49m\u001b[43m,\u001b[49m\u001b[38;5;241;43m1\u001b[39;49m\u001b[43m]\u001b[49m\u001b[43m,\u001b[49m\u001b[43m \u001b[49m\u001b[43m[\u001b[49m\u001b[38;5;241;43m1\u001b[39;49m\u001b[43m,\u001b[49m\u001b[38;5;241;43m1\u001b[39;49m\u001b[43m,\u001b[49m\u001b[38;5;241;43m1\u001b[39;49m\u001b[43m,\u001b[49m\u001b[38;5;241;43m1\u001b[39;49m\u001b[43m,\u001b[49m\u001b[38;5;241;43m1\u001b[39;49m\u001b[43m]\u001b[49m\u001b[43m]\u001b[49m\u001b[43m)\u001b[49m\u001b[43m)\u001b[49m\n\u001b[0;32m      6\u001b[0m \u001b[38;5;66;03m# Shape: (None, 2, 5) => TensorFlow Fügt automatisch Batchdimension ein. None-> Größe kann variieren. \u001b[39;00m\n",
      "File \u001b[1;32m~\\anaconda3\\envs\\tensorflow\\lib\\site-packages\\keras\\src\\utils\\traceback_utils.py:122\u001b[0m, in \u001b[0;36mfilter_traceback.<locals>.error_handler\u001b[1;34m(*args, **kwargs)\u001b[0m\n\u001b[0;32m    119\u001b[0m     filtered_tb \u001b[38;5;241m=\u001b[39m _process_traceback_frames(e\u001b[38;5;241m.\u001b[39m__traceback__)\n\u001b[0;32m    120\u001b[0m     \u001b[38;5;66;03m# To get the full stack trace, call:\u001b[39;00m\n\u001b[0;32m    121\u001b[0m     \u001b[38;5;66;03m# `keras.config.disable_traceback_filtering()`\u001b[39;00m\n\u001b[1;32m--> 122\u001b[0m     \u001b[38;5;28;01mraise\u001b[39;00m e\u001b[38;5;241m.\u001b[39mwith_traceback(filtered_tb) \u001b[38;5;28;01mfrom\u001b[39;00m \u001b[38;5;28;01mNone\u001b[39;00m\n\u001b[0;32m    123\u001b[0m \u001b[38;5;28;01mfinally\u001b[39;00m:\n\u001b[0;32m    124\u001b[0m     \u001b[38;5;28;01mdel\u001b[39;00m filtered_tb\n",
      "File \u001b[1;32m~\\anaconda3\\envs\\tensorflow\\lib\\site-packages\\keras\\src\\models\\sequential.py:166\u001b[0m, in \u001b[0;36mSequential.build\u001b[1;34m(self, input_shape)\u001b[0m\n\u001b[0;32m    164\u001b[0m \u001b[38;5;28;01mif\u001b[39;00m \u001b[38;5;28misinstance\u001b[39m(\u001b[38;5;28mself\u001b[39m\u001b[38;5;241m.\u001b[39m_layers[\u001b[38;5;241m0\u001b[39m], InputLayer):\n\u001b[0;32m    165\u001b[0m     \u001b[38;5;28;01mif\u001b[39;00m \u001b[38;5;28mself\u001b[39m\u001b[38;5;241m.\u001b[39m_layers[\u001b[38;5;241m0\u001b[39m]\u001b[38;5;241m.\u001b[39mbatch_shape \u001b[38;5;241m!=\u001b[39m input_shape:\n\u001b[1;32m--> 166\u001b[0m         \u001b[38;5;28;01mraise\u001b[39;00m \u001b[38;5;167;01mValueError\u001b[39;00m(\n\u001b[0;32m    167\u001b[0m             \u001b[38;5;124mf\u001b[39m\u001b[38;5;124m\"\u001b[39m\u001b[38;5;124mSequential model \u001b[39m\u001b[38;5;124m'\u001b[39m\u001b[38;5;132;01m{\u001b[39;00m\u001b[38;5;28mself\u001b[39m\u001b[38;5;241m.\u001b[39mname\u001b[38;5;132;01m}\u001b[39;00m\u001b[38;5;124m'\u001b[39m\u001b[38;5;124m has already been \u001b[39m\u001b[38;5;124m\"\u001b[39m\n\u001b[0;32m    168\u001b[0m             \u001b[38;5;124m\"\u001b[39m\u001b[38;5;124mconfigured to use input shape \u001b[39m\u001b[38;5;124m\"\u001b[39m\n\u001b[0;32m    169\u001b[0m             \u001b[38;5;124mf\u001b[39m\u001b[38;5;124m\"\u001b[39m\u001b[38;5;132;01m{\u001b[39;00m\u001b[38;5;28mself\u001b[39m\u001b[38;5;241m.\u001b[39m_layers[\u001b[38;5;241m0\u001b[39m]\u001b[38;5;241m.\u001b[39mbatch_shape\u001b[38;5;132;01m}\u001b[39;00m\u001b[38;5;124m. You cannot build it \u001b[39m\u001b[38;5;124m\"\u001b[39m\n\u001b[0;32m    170\u001b[0m             \u001b[38;5;124mf\u001b[39m\u001b[38;5;124m\"\u001b[39m\u001b[38;5;124mwith input_shape \u001b[39m\u001b[38;5;132;01m{\u001b[39;00minput_shape\u001b[38;5;132;01m}\u001b[39;00m\u001b[38;5;124m\"\u001b[39m\n\u001b[0;32m    171\u001b[0m         )\n\u001b[0;32m    172\u001b[0m \u001b[38;5;28;01melse\u001b[39;00m:\n\u001b[0;32m    173\u001b[0m     dtype \u001b[38;5;241m=\u001b[39m \u001b[38;5;28mself\u001b[39m\u001b[38;5;241m.\u001b[39m_layers[\u001b[38;5;241m0\u001b[39m]\u001b[38;5;241m.\u001b[39mcompute_dtype\n",
      "\u001b[1;31mValueError\u001b[0m: Sequential model 'sequential_5' has already been configured to use input shape (None, 2, 5). You cannot build it with input_shape (2, 5)"
     ]
    }
   ],
   "source": [
    "# Siehe Meldung # \n",
    "input_layer = tf.keras.layers.Input(shape=(2, 5), dtype=\"int16\")\n",
    "model       = tf.keras.Sequential([input_layer])\n",
    "model(tf.constant([[1,1,1,1,1], [1,1,1,1,1]]))\n",
    "\n",
    "# Shape: (None, 2, 5) => TensorFlow Fügt automatisch Batchdimension ein. None-> Größe kann variieren. \n",
    "# - (Batchsize, 2, 5) "
   ]
  },
  {
   "cell_type": "code",
   "execution_count": 22,
   "id": "d534dde6-d8c0-42d1-8c11-b8ab29404bd6",
   "metadata": {},
   "outputs": [
    {
     "data": {
      "text/plain": [
       "<tf.Tensor: shape=(1, 2, 5), dtype=int16, numpy=\n",
       "array([[[1, 1, 1, 1, 1],\n",
       "        [1, 1, 1, 1, 1]]], dtype=int16)>"
      ]
     },
     "execution_count": 22,
     "metadata": {},
     "output_type": "execute_result"
    }
   ],
   "source": [
    "# Möglichkeit 1 # \n",
    "input_layer = tf.keras.layers.Input(shape=(2, 5), dtype=\"int16\", batch_size=1)\n",
    "model       = tf.keras.Sequential([input_layer])\n",
    "model(tf.constant([ [[1,1,1,1,1], [1,1,1,1,1]] ]))\n"
   ]
  },
  {
   "cell_type": "code",
   "execution_count": 51,
   "id": "4f92ca66-6016-4bf8-bebf-3849b89d61b6",
   "metadata": {},
   "outputs": [],
   "source": [
    "# Möglichkeit 2 # \n",
    "# - Füge Dimension ein.\n",
    "# - Mit Numpy, TF, ...\n",
    "\n",
    "input_layer = tf.keras.layers.Input(shape=(2, 5,), dtype=\"int32\")\n",
    "model       = tf.keras.Sequential([input_layer])\n",
    "\n",
    "data = tf.constant([[1,1,1,1,1], [1,1,1,1,1]],  dtype=tf.int32)  # shape (2, 5)\n",
    "\n",
    "# Siehe tf.expand_dims()\n",
    "#data = tf.expand_dims(data, axis=0)  # Shape = (1, 2, 5), füge Batchdim. ein.\n",
    "# data = tf.expand_dims(data, axis=-1)  # Shape = (2, 5, 1), füge Channel ein, z. B. bei Bilddaten die nur (a, b) sind."
   ]
  },
  {
   "cell_type": "code",
   "execution_count": 52,
   "id": "5f717e05-564b-4eb1-af95-0704a3d4d7dd",
   "metadata": {},
   "outputs": [
    {
     "data": {
      "text/plain": [
       "<tf.Tensor: shape=(2, 5), dtype=int32, numpy=\n",
       "array([[1, 1, 1, 1, 1],\n",
       "       [1, 1, 1, 1, 1]])>"
      ]
     },
     "execution_count": 52,
     "metadata": {},
     "output_type": "execute_result"
    }
   ],
   "source": [
    "data"
   ]
  },
  {
   "cell_type": "code",
   "execution_count": 45,
   "id": "41aa833b-b014-4615-a523-c723e651581b",
   "metadata": {},
   "outputs": [
    {
     "data": {
      "text/plain": [
       "<tf.Tensor: shape=(1, 2, 5), dtype=int32, numpy=\n",
       "array([[[1, 1, 1, 1, 1],\n",
       "        [1, 1, 1, 1, 1]]])>"
      ]
     },
     "execution_count": 45,
     "metadata": {},
     "output_type": "execute_result"
    }
   ],
   "source": [
    "data = data[tf.newaxis, ...]\n",
    "data"
   ]
  },
  {
   "cell_type": "code",
   "execution_count": 46,
   "id": "77af5817-65a9-4f9b-b823-91782fea66dd",
   "metadata": {},
   "outputs": [
    {
     "data": {
      "text/plain": [
       "(None, 2, 5)"
      ]
     },
     "execution_count": 46,
     "metadata": {},
     "output_type": "execute_result"
    }
   ],
   "source": [
    "input_layer.shape"
   ]
  },
  {
   "cell_type": "code",
   "execution_count": 58,
   "id": "eaa8195b-659a-48b3-a4f2-f6847d02797f",
   "metadata": {},
   "outputs": [
    {
     "data": {
      "text/plain": [
       "<tf.Tensor: shape=(1, 2, 5), dtype=int32, numpy=\n",
       "array([[[1, 1, 1, 1, 1],\n",
       "        [1, 1, 1, 1, 1]]])>"
      ]
     },
     "execution_count": 58,
     "metadata": {},
     "output_type": "execute_result"
    }
   ],
   "source": [
    "tf.convert_to_tensor([ [[1,1,1,1,1],[1,1,1,1,1]] ])"
   ]
  },
  {
   "cell_type": "code",
   "execution_count": 62,
   "id": "606734b8-eece-4e77-8100-e9eae50f75ad",
   "metadata": {},
   "outputs": [
    {
     "ename": "UnboundLocalError",
     "evalue": "Exception encountered when calling Sequential.call().\n\n\u001b[1mlocal variable 'outputs' referenced before assignment\u001b[0m\n\nArguments received by Sequential.call():\n  • inputs=tf.Tensor(shape=(2, 5), dtype=int32)\n  • training=None\n  • mask=None",
     "output_type": "error",
     "traceback": [
      "\u001b[1;31m---------------------------------------------------------------------------\u001b[0m",
      "\u001b[1;31mUnboundLocalError\u001b[0m                         Traceback (most recent call last)",
      "Cell \u001b[1;32mIn[62], line 2\u001b[0m\n\u001b[0;32m      1\u001b[0m test_data \u001b[38;5;241m=\u001b[39m tf\u001b[38;5;241m.\u001b[39mconvert_to_tensor([ [[\u001b[38;5;241m1\u001b[39m,\u001b[38;5;241m1\u001b[39m,\u001b[38;5;241m1\u001b[39m,\u001b[38;5;241m1\u001b[39m,\u001b[38;5;241m1\u001b[39m],[\u001b[38;5;241m1\u001b[39m,\u001b[38;5;241m1\u001b[39m,\u001b[38;5;241m1\u001b[39m,\u001b[38;5;241m1\u001b[39m,\u001b[38;5;241m1\u001b[39m]] ])\n\u001b[1;32m----> 2\u001b[0m \u001b[43mmodel\u001b[49m\u001b[43m(\u001b[49m\u001b[43mtest_data\u001b[49m\u001b[43m[\u001b[49m\u001b[38;5;241;43m0\u001b[39;49m\u001b[43m]\u001b[49m\u001b[43m)\u001b[49m\n",
      "File \u001b[1;32m~\\anaconda3\\envs\\tensorflow\\lib\\site-packages\\keras\\src\\utils\\traceback_utils.py:122\u001b[0m, in \u001b[0;36mfilter_traceback.<locals>.error_handler\u001b[1;34m(*args, **kwargs)\u001b[0m\n\u001b[0;32m    119\u001b[0m     filtered_tb \u001b[38;5;241m=\u001b[39m _process_traceback_frames(e\u001b[38;5;241m.\u001b[39m__traceback__)\n\u001b[0;32m    120\u001b[0m     \u001b[38;5;66;03m# To get the full stack trace, call:\u001b[39;00m\n\u001b[0;32m    121\u001b[0m     \u001b[38;5;66;03m# `keras.config.disable_traceback_filtering()`\u001b[39;00m\n\u001b[1;32m--> 122\u001b[0m     \u001b[38;5;28;01mraise\u001b[39;00m e\u001b[38;5;241m.\u001b[39mwith_traceback(filtered_tb) \u001b[38;5;28;01mfrom\u001b[39;00m \u001b[38;5;28;01mNone\u001b[39;00m\n\u001b[0;32m    123\u001b[0m \u001b[38;5;28;01mfinally\u001b[39;00m:\n\u001b[0;32m    124\u001b[0m     \u001b[38;5;28;01mdel\u001b[39;00m filtered_tb\n",
      "File \u001b[1;32m~\\anaconda3\\envs\\tensorflow\\lib\\site-packages\\keras\\src\\models\\sequential.py:230\u001b[0m, in \u001b[0;36mSequential.call\u001b[1;34m(self, inputs, training, mask)\u001b[0m\n\u001b[0;32m    227\u001b[0m         \u001b[38;5;28;01mreturn\u001b[39;00m \u001b[38;5;28mgetattr\u001b[39m(kt, \u001b[38;5;124m\"\u001b[39m\u001b[38;5;124m_keras_mask\u001b[39m\u001b[38;5;124m\"\u001b[39m, \u001b[38;5;28;01mNone\u001b[39;00m)\n\u001b[0;32m    229\u001b[0m     mask \u001b[38;5;241m=\u001b[39m tree\u001b[38;5;241m.\u001b[39mmap_structure(_get_mask_from_keras_tensor, outputs)\n\u001b[1;32m--> 230\u001b[0m \u001b[38;5;28;01mreturn\u001b[39;00m \u001b[43moutputs\u001b[49m\n",
      "\u001b[1;31mUnboundLocalError\u001b[0m: Exception encountered when calling Sequential.call().\n\n\u001b[1mlocal variable 'outputs' referenced before assignment\u001b[0m\n\nArguments received by Sequential.call():\n  • inputs=tf.Tensor(shape=(2, 5), dtype=int32)\n  • training=None\n  • mask=None"
     ]
    }
   ],
   "source": [
    "test_data = tf.convert_to_tensor([ [[1,1,1,1,1],[1,1,1,1,1]] ])\n",
    "model(test_data[0])"
   ]
  },
  {
   "cell_type": "code",
   "execution_count": null,
   "id": "df33f106-875b-454d-ad82-6ede09badcf9",
   "metadata": {},
   "outputs": [],
   "source": []
  },
  {
   "cell_type": "code",
   "execution_count": null,
   "id": "2014e843-84c2-4fc3-af6e-89910c4a90cf",
   "metadata": {},
   "outputs": [],
   "source": []
  },
  {
   "cell_type": "code",
   "execution_count": null,
   "id": "0a64f1d3-0def-416b-b7b0-4b0981e86ee0",
   "metadata": {},
   "outputs": [],
   "source": []
  },
  {
   "cell_type": "code",
   "execution_count": null,
   "id": "3ee7e7ab-ae80-46ce-9c3e-540da53d43b9",
   "metadata": {},
   "outputs": [],
   "source": []
  },
  {
   "cell_type": "code",
   "execution_count": null,
   "id": "a40b16d3-7d01-4011-9ed4-19182a4acc5d",
   "metadata": {},
   "outputs": [],
   "source": []
  },
  {
   "cell_type": "code",
   "execution_count": null,
   "id": "0b9b605d-3d36-42cc-8318-519fc3005488",
   "metadata": {},
   "outputs": [],
   "source": []
  },
  {
   "cell_type": "code",
   "execution_count": null,
   "id": "e7e5eaa7-c224-481d-83d7-d9e9c104b066",
   "metadata": {},
   "outputs": [],
   "source": []
  },
  {
   "cell_type": "code",
   "execution_count": 98,
   "id": "6e46ff2c-907a-4115-afc1-9a99747b0961",
   "metadata": {},
   "outputs": [],
   "source": [
    "del model"
   ]
  },
  {
   "cell_type": "code",
   "execution_count": 99,
   "id": "ab45c7f3-023d-4eb7-89ce-0f3921fbb8bd",
   "metadata": {},
   "outputs": [],
   "source": [
    "input_layer = tf.keras.layers.Input(shape=(2, 2,), dtype=\"int32\")\n",
    "model       = tf.keras.Sequential([input_layer])\n"
   ]
  },
  {
   "cell_type": "code",
   "execution_count": 100,
   "id": "e932c14f-12b5-40fa-8a1b-834bf3dc0d6d",
   "metadata": {},
   "outputs": [],
   "source": [
    "test_data = tf.convert_to_tensor([[1,1], [2,2]], dtype=tf.int16)"
   ]
  },
  {
   "cell_type": "code",
   "execution_count": 101,
   "id": "266aada9-ec83-4ddf-a8be-36f49aba72ca",
   "metadata": {},
   "outputs": [
    {
     "data": {
      "text/plain": [
       "TensorShape([2, 2])"
      ]
     },
     "execution_count": 101,
     "metadata": {},
     "output_type": "execute_result"
    }
   ],
   "source": [
    "test_data.shape"
   ]
  },
  {
   "cell_type": "code",
   "execution_count": 102,
   "id": "9cd4474a-ac1f-42ba-8e40-dc3eb75254d3",
   "metadata": {},
   "outputs": [
    {
     "data": {
      "text/plain": [
       "<KerasTensor shape=(None, 2, 2), dtype=int32, sparse=None, name=keras_tensor_23>"
      ]
     },
     "execution_count": 102,
     "metadata": {},
     "output_type": "execute_result"
    }
   ],
   "source": [
    "input_layer"
   ]
  },
  {
   "cell_type": "code",
   "execution_count": 108,
   "id": "d4bc63d8-7721-4b44-bb78-d33d968b731d",
   "metadata": {},
   "outputs": [
    {
     "ename": "ValueError",
     "evalue": "Sequential model 'sequential_22' has already been configured to use input shape (None, 2, 2). You cannot build it with input_shape (2, 2)",
     "output_type": "error",
     "traceback": [
      "\u001b[1;31m---------------------------------------------------------------------------\u001b[0m",
      "\u001b[1;31mValueError\u001b[0m                                Traceback (most recent call last)",
      "Cell \u001b[1;32mIn[108], line 1\u001b[0m\n\u001b[1;32m----> 1\u001b[0m \u001b[43mmodel\u001b[49m\u001b[43m(\u001b[49m\u001b[43mtest_data\u001b[49m\u001b[43m)\u001b[49m\n",
      "File \u001b[1;32m~\\anaconda3\\envs\\tensorflow\\lib\\site-packages\\keras\\src\\utils\\traceback_utils.py:122\u001b[0m, in \u001b[0;36mfilter_traceback.<locals>.error_handler\u001b[1;34m(*args, **kwargs)\u001b[0m\n\u001b[0;32m    119\u001b[0m     filtered_tb \u001b[38;5;241m=\u001b[39m _process_traceback_frames(e\u001b[38;5;241m.\u001b[39m__traceback__)\n\u001b[0;32m    120\u001b[0m     \u001b[38;5;66;03m# To get the full stack trace, call:\u001b[39;00m\n\u001b[0;32m    121\u001b[0m     \u001b[38;5;66;03m# `keras.config.disable_traceback_filtering()`\u001b[39;00m\n\u001b[1;32m--> 122\u001b[0m     \u001b[38;5;28;01mraise\u001b[39;00m e\u001b[38;5;241m.\u001b[39mwith_traceback(filtered_tb) \u001b[38;5;28;01mfrom\u001b[39;00m \u001b[38;5;28;01mNone\u001b[39;00m\n\u001b[0;32m    123\u001b[0m \u001b[38;5;28;01mfinally\u001b[39;00m:\n\u001b[0;32m    124\u001b[0m     \u001b[38;5;28;01mdel\u001b[39;00m filtered_tb\n",
      "File \u001b[1;32m~\\anaconda3\\envs\\tensorflow\\lib\\site-packages\\keras\\src\\models\\sequential.py:166\u001b[0m, in \u001b[0;36mSequential.build\u001b[1;34m(self, input_shape)\u001b[0m\n\u001b[0;32m    164\u001b[0m \u001b[38;5;28;01mif\u001b[39;00m \u001b[38;5;28misinstance\u001b[39m(\u001b[38;5;28mself\u001b[39m\u001b[38;5;241m.\u001b[39m_layers[\u001b[38;5;241m0\u001b[39m], InputLayer):\n\u001b[0;32m    165\u001b[0m     \u001b[38;5;28;01mif\u001b[39;00m \u001b[38;5;28mself\u001b[39m\u001b[38;5;241m.\u001b[39m_layers[\u001b[38;5;241m0\u001b[39m]\u001b[38;5;241m.\u001b[39mbatch_shape \u001b[38;5;241m!=\u001b[39m input_shape:\n\u001b[1;32m--> 166\u001b[0m         \u001b[38;5;28;01mraise\u001b[39;00m \u001b[38;5;167;01mValueError\u001b[39;00m(\n\u001b[0;32m    167\u001b[0m             \u001b[38;5;124mf\u001b[39m\u001b[38;5;124m\"\u001b[39m\u001b[38;5;124mSequential model \u001b[39m\u001b[38;5;124m'\u001b[39m\u001b[38;5;132;01m{\u001b[39;00m\u001b[38;5;28mself\u001b[39m\u001b[38;5;241m.\u001b[39mname\u001b[38;5;132;01m}\u001b[39;00m\u001b[38;5;124m'\u001b[39m\u001b[38;5;124m has already been \u001b[39m\u001b[38;5;124m\"\u001b[39m\n\u001b[0;32m    168\u001b[0m             \u001b[38;5;124m\"\u001b[39m\u001b[38;5;124mconfigured to use input shape \u001b[39m\u001b[38;5;124m\"\u001b[39m\n\u001b[0;32m    169\u001b[0m             \u001b[38;5;124mf\u001b[39m\u001b[38;5;124m\"\u001b[39m\u001b[38;5;132;01m{\u001b[39;00m\u001b[38;5;28mself\u001b[39m\u001b[38;5;241m.\u001b[39m_layers[\u001b[38;5;241m0\u001b[39m]\u001b[38;5;241m.\u001b[39mbatch_shape\u001b[38;5;132;01m}\u001b[39;00m\u001b[38;5;124m. You cannot build it \u001b[39m\u001b[38;5;124m\"\u001b[39m\n\u001b[0;32m    170\u001b[0m             \u001b[38;5;124mf\u001b[39m\u001b[38;5;124m\"\u001b[39m\u001b[38;5;124mwith input_shape \u001b[39m\u001b[38;5;132;01m{\u001b[39;00minput_shape\u001b[38;5;132;01m}\u001b[39;00m\u001b[38;5;124m\"\u001b[39m\n\u001b[0;32m    171\u001b[0m         )\n\u001b[0;32m    172\u001b[0m \u001b[38;5;28;01melse\u001b[39;00m:\n\u001b[0;32m    173\u001b[0m     dtype \u001b[38;5;241m=\u001b[39m \u001b[38;5;28mself\u001b[39m\u001b[38;5;241m.\u001b[39m_layers[\u001b[38;5;241m0\u001b[39m]\u001b[38;5;241m.\u001b[39mcompute_dtype\n",
      "\u001b[1;31mValueError\u001b[0m: Sequential model 'sequential_22' has already been configured to use input shape (None, 2, 2). You cannot build it with input_shape (2, 2)"
     ]
    }
   ],
   "source": [
    "model(test_data)\n"
   ]
  },
  {
   "cell_type": "code",
   "execution_count": null,
   "id": "e4f6894e-105b-4354-b61e-c71ab9f799b7",
   "metadata": {},
   "outputs": [],
   "source": []
  },
  {
   "cell_type": "code",
   "execution_count": null,
   "id": "2621dcf6-e167-4aac-b710-37f7907509a2",
   "metadata": {},
   "outputs": [],
   "source": []
  },
  {
   "cell_type": "code",
   "execution_count": null,
   "id": "33a1d841-f5c0-4564-abcc-50491d18758f",
   "metadata": {},
   "outputs": [],
   "source": []
  },
  {
   "cell_type": "code",
   "execution_count": null,
   "id": "d0da3b44-d26a-45ff-96a5-6595ca9eafac",
   "metadata": {},
   "outputs": [],
   "source": [
    "# Batch Norm"
   ]
  },
  {
   "cell_type": "code",
   "execution_count": null,
   "id": "db4815ee-f8fa-4f09-9e25-5a1090b54a81",
   "metadata": {},
   "outputs": [],
   "source": []
  },
  {
   "cell_type": "code",
   "execution_count": null,
   "id": "a25f85eb-f932-44b1-999a-1777e6fb055c",
   "metadata": {},
   "outputs": [],
   "source": []
  },
  {
   "cell_type": "code",
   "execution_count": null,
   "id": "c18ace39-23f6-451f-bcc9-ad1ef752c8e5",
   "metadata": {},
   "outputs": [],
   "source": [
    "# Dense"
   ]
  },
  {
   "cell_type": "code",
   "execution_count": null,
   "id": "75aa0c40-aa51-4520-a8ab-18db71a58331",
   "metadata": {},
   "outputs": [],
   "source": []
  },
  {
   "cell_type": "code",
   "execution_count": null,
   "id": "e22b53cb-f751-493b-a09c-03287437041b",
   "metadata": {},
   "outputs": [],
   "source": []
  },
  {
   "cell_type": "code",
   "execution_count": null,
   "id": "4a8827c9-f176-41bc-bcab-1f6b206975b6",
   "metadata": {},
   "outputs": [],
   "source": []
  },
  {
   "cell_type": "code",
   "execution_count": null,
   "id": "ae72ca71-1375-48fe-b72b-296736f75f97",
   "metadata": {},
   "outputs": [],
   "source": []
  },
  {
   "cell_type": "code",
   "execution_count": null,
   "id": "1e10e7ed-d6b8-4852-8332-03eb99f427b4",
   "metadata": {},
   "outputs": [],
   "source": []
  },
  {
   "cell_type": "code",
   "execution_count": null,
   "id": "9186b175-ed44-426a-a601-27165df42036",
   "metadata": {},
   "outputs": [],
   "source": []
  }
 ],
 "metadata": {
  "kernelspec": {
   "display_name": "Python 3 (ipykernel)",
   "language": "python",
   "name": "python3"
  },
  "language_info": {
   "codemirror_mode": {
    "name": "ipython",
    "version": 3
   },
   "file_extension": ".py",
   "mimetype": "text/x-python",
   "name": "python",
   "nbconvert_exporter": "python",
   "pygments_lexer": "ipython3",
   "version": "3.9.19"
  }
 },
 "nbformat": 4,
 "nbformat_minor": 5
}
